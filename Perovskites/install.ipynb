{
 "cells": [
  {
   "cell_type": "code",
   "execution_count": 17,
   "id": "d8ab3fed",
   "metadata": {},
   "outputs": [
    {
     "name": "stdout",
     "output_type": "stream",
     "text": [
      "Cloning into 'atlas'...\n",
      "remote: Enumerating objects: 4338, done.\u001b[K\n",
      "remote: Counting objects: 100% (28/28), done.\u001b[K\n",
      "remote: Compressing objects: 100% (25/25), done.\u001b[K\n",
      "remote: Total 4338 (delta 4), reused 3 (delta 3), pack-reused 4310 (from 2)\u001b[K\n",
      "Receiving objects: 100% (4338/4338), 27.48 MiB | 17.83 MiB/s, done.\n",
      "Resolving deltas: 100% (2761/2761), done.\n"
     ]
    }
   ],
   "source": [
    "!git clone git@github.com:aspuru-guzik-group/atlas.git"
   ]
  },
  {
   "cell_type": "code",
   "execution_count": 18,
   "id": "86616c4b",
   "metadata": {},
   "outputs": [
    {
     "name": "stdout",
     "output_type": "stream",
     "text": [
      "/Users/k23070952/MultiFidelity-ProcessOpt/Perovskites/atlas\n"
     ]
    }
   ],
   "source": [
    "cd atlas"
   ]
  },
  {
   "cell_type": "code",
   "execution_count": 25,
   "id": "434d8e58",
   "metadata": {},
   "outputs": [
    {
     "name": "stdout",
     "output_type": "stream",
     "text": [
      "Defaulting to user installation because normal site-packages is not writeable\n",
      "Obtaining file:///Users/k23070952/MultiFidelity-ProcessOpt/Perovskites/atlas\n",
      "  Installing build dependencies ... \u001b[?25ldone\n",
      "\u001b[?25h  Checking if build backend supports build_editable ... \u001b[?25ldone\n",
      "\u001b[?25h  Getting requirements to build editable ... \u001b[?25lerror\n",
      "  \u001b[1;31merror\u001b[0m: \u001b[1msubprocess-exited-with-error\u001b[0m\n",
      "  \n",
      "  \u001b[31m×\u001b[0m \u001b[32mGetting requirements to build editable\u001b[0m did not run successfully.\n",
      "  \u001b[31m│\u001b[0m exit code: \u001b[1;36m1\u001b[0m\n",
      "  \u001b[31m╰─>\u001b[0m \u001b[31m[32 lines of output]\u001b[0m\n",
      "  \u001b[31m   \u001b[0m Traceback (most recent call last):\n",
      "  \u001b[31m   \u001b[0m   File \"/Users/k23070952/.local/lib/python3.12/site-packages/pip/_vendor/pyproject_hooks/_in_process/_in_process.py\", line 389, in <module>\n",
      "  \u001b[31m   \u001b[0m     main()\n",
      "  \u001b[31m   \u001b[0m   File \"/Users/k23070952/.local/lib/python3.12/site-packages/pip/_vendor/pyproject_hooks/_in_process/_in_process.py\", line 373, in main\n",
      "  \u001b[31m   \u001b[0m     json_out[\"return_val\"] = hook(**hook_input[\"kwargs\"])\n",
      "  \u001b[31m   \u001b[0m                              ^^^^^^^^^^^^^^^^^^^^^^^^^^^^\n",
      "  \u001b[31m   \u001b[0m   File \"/Users/k23070952/.local/lib/python3.12/site-packages/pip/_vendor/pyproject_hooks/_in_process/_in_process.py\", line 157, in get_requires_for_build_editable\n",
      "  \u001b[31m   \u001b[0m     return hook(config_settings)\n",
      "  \u001b[31m   \u001b[0m            ^^^^^^^^^^^^^^^^^^^^^\n",
      "  \u001b[31m   \u001b[0m   File \"/private/var/folders/c9/14_8p05x241fyxw1d_hqydvr0000gq/T/pip-build-env-vgrsrhrb/overlay/lib/python3.12/site-packages/setuptools/build_meta.py\", line 473, in get_requires_for_build_editable\n",
      "  \u001b[31m   \u001b[0m     return self.get_requires_for_build_wheel(config_settings)\n",
      "  \u001b[31m   \u001b[0m            ^^^^^^^^^^^^^^^^^^^^^^^^^^^^^^^^^^^^^^^^^^^^^^^^^^\n",
      "  \u001b[31m   \u001b[0m   File \"/private/var/folders/c9/14_8p05x241fyxw1d_hqydvr0000gq/T/pip-build-env-vgrsrhrb/overlay/lib/python3.12/site-packages/setuptools/build_meta.py\", line 331, in get_requires_for_build_wheel\n",
      "  \u001b[31m   \u001b[0m     return self._get_build_requires(config_settings, requirements=[])\n",
      "  \u001b[31m   \u001b[0m            ^^^^^^^^^^^^^^^^^^^^^^^^^^^^^^^^^^^^^^^^^^^^^^^^^^^^^^^^^^\n",
      "  \u001b[31m   \u001b[0m   File \"/private/var/folders/c9/14_8p05x241fyxw1d_hqydvr0000gq/T/pip-build-env-vgrsrhrb/overlay/lib/python3.12/site-packages/setuptools/build_meta.py\", line 301, in _get_build_requires\n",
      "  \u001b[31m   \u001b[0m     self.run_setup()\n",
      "  \u001b[31m   \u001b[0m   File \"/private/var/folders/c9/14_8p05x241fyxw1d_hqydvr0000gq/T/pip-build-env-vgrsrhrb/overlay/lib/python3.12/site-packages/setuptools/build_meta.py\", line 512, in run_setup\n",
      "  \u001b[31m   \u001b[0m     super().run_setup(setup_script=setup_script)\n",
      "  \u001b[31m   \u001b[0m   File \"/private/var/folders/c9/14_8p05x241fyxw1d_hqydvr0000gq/T/pip-build-env-vgrsrhrb/overlay/lib/python3.12/site-packages/setuptools/build_meta.py\", line 317, in run_setup\n",
      "  \u001b[31m   \u001b[0m     exec(code, locals())\n",
      "  \u001b[31m   \u001b[0m   File \"<string>\", line 19, in <module>\n",
      "  \u001b[31m   \u001b[0m   File \"/Users/k23070952/MultiFidelity-ProcessOpt/Perovskites/atlas/versioneer.py\", line 1539, in get_version\n",
      "  \u001b[31m   \u001b[0m     return get_versions()[\"version\"]\n",
      "  \u001b[31m   \u001b[0m            ^^^^^^^^^^^^^^\n",
      "  \u001b[31m   \u001b[0m   File \"/Users/k23070952/MultiFidelity-ProcessOpt/Perovskites/atlas/versioneer.py\", line 1466, in get_versions\n",
      "  \u001b[31m   \u001b[0m     cfg = get_config_from_root(root)\n",
      "  \u001b[31m   \u001b[0m           ^^^^^^^^^^^^^^^^^^^^^^^^^^\n",
      "  \u001b[31m   \u001b[0m   File \"/Users/k23070952/MultiFidelity-ProcessOpt/Perovskites/atlas/versioneer.py\", line 347, in get_config_from_root\n",
      "  \u001b[31m   \u001b[0m     parser = configparser.SafeConfigParser()\n",
      "  \u001b[31m   \u001b[0m              ^^^^^^^^^^^^^^^^^^^^^^^^^^^^^\n",
      "  \u001b[31m   \u001b[0m AttributeError: module 'configparser' has no attribute 'SafeConfigParser'. Did you mean: 'RawConfigParser'?\n",
      "  \u001b[31m   \u001b[0m \u001b[31m[end of output]\u001b[0m\n",
      "  \n",
      "  \u001b[1;35mnote\u001b[0m: This error originates from a subprocess, and is likely not a problem with pip.\n",
      "\u001b[?25h\u001b[1;31merror\u001b[0m: \u001b[1msubprocess-exited-with-error\u001b[0m\n",
      "\n",
      "\u001b[31m×\u001b[0m \u001b[32mGetting requirements to build editable\u001b[0m did not run successfully.\n",
      "\u001b[31m│\u001b[0m exit code: \u001b[1;36m1\u001b[0m\n",
      "\u001b[31m╰─>\u001b[0m See above for output.\n",
      "\n",
      "\u001b[1;35mnote\u001b[0m: This error originates from a subprocess, and is likely not a problem with pip.\n",
      "Defaulting to user installation because normal site-packages is not writeable\n",
      "Collecting botorch>=0.8.5 (from -r requirements.txt (line 1))\n",
      "  Using cached botorch-0.14.0-py3-none-any.whl.metadata (10 kB)\n",
      "Collecting matter-chimera (from -r requirements.txt (line 2))\n",
      "  Using cached matter_chimera-1.0-py3-none-any.whl.metadata (4.5 kB)\n",
      "Collecting matter-golem (from -r requirements.txt (line 3))\n",
      "  Using cached matter-golem-1.0.tar.gz (498 kB)\n",
      "  Installing build dependencies ... \u001b[?25ldone\n",
      "\u001b[?25h  Getting requirements to build wheel ... \u001b[?25lerror\n",
      "  \u001b[1;31merror\u001b[0m: \u001b[1msubprocess-exited-with-error\u001b[0m\n",
      "  \n",
      "  \u001b[31m×\u001b[0m \u001b[32mGetting requirements to build wheel\u001b[0m did not run successfully.\n",
      "  \u001b[31m│\u001b[0m exit code: \u001b[1;36m1\u001b[0m\n",
      "  \u001b[31m╰─>\u001b[0m \u001b[31m[31 lines of output]\u001b[0m\n",
      "  \u001b[31m   \u001b[0m /private/var/folders/c9/14_8p05x241fyxw1d_hqydvr0000gq/T/pip-install-rdlzsh5a/matter-golem_df077fc2eb864bc1b978e4a270248121/versioneer.py:421: SyntaxWarning: invalid escape sequence '\\s'\n",
      "  \u001b[31m   \u001b[0m   LONG_VERSION_PY['git'] = '''\n",
      "  \u001b[31m   \u001b[0m Traceback (most recent call last):\n",
      "  \u001b[31m   \u001b[0m   File \"/Users/k23070952/.local/lib/python3.12/site-packages/pip/_vendor/pyproject_hooks/_in_process/_in_process.py\", line 389, in <module>\n",
      "  \u001b[31m   \u001b[0m     main()\n",
      "  \u001b[31m   \u001b[0m   File \"/Users/k23070952/.local/lib/python3.12/site-packages/pip/_vendor/pyproject_hooks/_in_process/_in_process.py\", line 373, in main\n",
      "  \u001b[31m   \u001b[0m     json_out[\"return_val\"] = hook(**hook_input[\"kwargs\"])\n",
      "  \u001b[31m   \u001b[0m                              ^^^^^^^^^^^^^^^^^^^^^^^^^^^^\n",
      "  \u001b[31m   \u001b[0m   File \"/Users/k23070952/.local/lib/python3.12/site-packages/pip/_vendor/pyproject_hooks/_in_process/_in_process.py\", line 143, in get_requires_for_build_wheel\n",
      "  \u001b[31m   \u001b[0m     return hook(config_settings)\n",
      "  \u001b[31m   \u001b[0m            ^^^^^^^^^^^^^^^^^^^^^\n",
      "  \u001b[31m   \u001b[0m   File \"/private/var/folders/c9/14_8p05x241fyxw1d_hqydvr0000gq/T/pip-build-env-7fetwzjj/overlay/lib/python3.12/site-packages/setuptools/build_meta.py\", line 331, in get_requires_for_build_wheel\n",
      "  \u001b[31m   \u001b[0m     return self._get_build_requires(config_settings, requirements=[])\n",
      "  \u001b[31m   \u001b[0m            ^^^^^^^^^^^^^^^^^^^^^^^^^^^^^^^^^^^^^^^^^^^^^^^^^^^^^^^^^^\n",
      "  \u001b[31m   \u001b[0m   File \"/private/var/folders/c9/14_8p05x241fyxw1d_hqydvr0000gq/T/pip-build-env-7fetwzjj/overlay/lib/python3.12/site-packages/setuptools/build_meta.py\", line 301, in _get_build_requires\n",
      "  \u001b[31m   \u001b[0m     self.run_setup()\n",
      "  \u001b[31m   \u001b[0m   File \"/private/var/folders/c9/14_8p05x241fyxw1d_hqydvr0000gq/T/pip-build-env-7fetwzjj/overlay/lib/python3.12/site-packages/setuptools/build_meta.py\", line 512, in run_setup\n",
      "  \u001b[31m   \u001b[0m     super().run_setup(setup_script=setup_script)\n",
      "  \u001b[31m   \u001b[0m   File \"/private/var/folders/c9/14_8p05x241fyxw1d_hqydvr0000gq/T/pip-build-env-7fetwzjj/overlay/lib/python3.12/site-packages/setuptools/build_meta.py\", line 317, in run_setup\n",
      "  \u001b[31m   \u001b[0m     exec(code, locals())\n",
      "  \u001b[31m   \u001b[0m   File \"<string>\", line 24, in <module>\n",
      "  \u001b[31m   \u001b[0m   File \"/private/var/folders/c9/14_8p05x241fyxw1d_hqydvr0000gq/T/pip-install-rdlzsh5a/matter-golem_df077fc2eb864bc1b978e4a270248121/versioneer.py\", line 1480, in get_version\n",
      "  \u001b[31m   \u001b[0m     return get_versions()[\"version\"]\n",
      "  \u001b[31m   \u001b[0m            ^^^^^^^^^^^^^^\n",
      "  \u001b[31m   \u001b[0m   File \"/private/var/folders/c9/14_8p05x241fyxw1d_hqydvr0000gq/T/pip-install-rdlzsh5a/matter-golem_df077fc2eb864bc1b978e4a270248121/versioneer.py\", line 1412, in get_versions\n",
      "  \u001b[31m   \u001b[0m     cfg = get_config_from_root(root)\n",
      "  \u001b[31m   \u001b[0m           ^^^^^^^^^^^^^^^^^^^^^^^^^^\n",
      "  \u001b[31m   \u001b[0m   File \"/private/var/folders/c9/14_8p05x241fyxw1d_hqydvr0000gq/T/pip-install-rdlzsh5a/matter-golem_df077fc2eb864bc1b978e4a270248121/versioneer.py\", line 342, in get_config_from_root\n",
      "  \u001b[31m   \u001b[0m     parser = configparser.SafeConfigParser()\n",
      "  \u001b[31m   \u001b[0m              ^^^^^^^^^^^^^^^^^^^^^^^^^^^^^\n",
      "  \u001b[31m   \u001b[0m AttributeError: module 'configparser' has no attribute 'SafeConfigParser'. Did you mean: 'RawConfigParser'?\n",
      "  \u001b[31m   \u001b[0m \u001b[31m[end of output]\u001b[0m\n",
      "  \n",
      "  \u001b[1;35mnote\u001b[0m: This error originates from a subprocess, and is likely not a problem with pip.\n",
      "\u001b[?25h\u001b[1;31merror\u001b[0m: \u001b[1msubprocess-exited-with-error\u001b[0m\n",
      "\n",
      "\u001b[31m×\u001b[0m \u001b[32mGetting requirements to build wheel\u001b[0m did not run successfully.\n",
      "\u001b[31m│\u001b[0m exit code: \u001b[1;36m1\u001b[0m\n",
      "\u001b[31m╰─>\u001b[0m See above for output.\n",
      "\n",
      "\u001b[1;35mnote\u001b[0m: This error originates from a subprocess, and is likely not a problem with pip.\n"
     ]
    }
   ],
   "source": [
    "!pip install -e .\n",
    "!pip install -r requirements.txt\n"
   ]
  },
  {
   "cell_type": "code",
   "execution_count": 24,
   "id": "46f3c0bc",
   "metadata": {},
   "outputs": [
    {
     "name": "stdout",
     "output_type": "stream",
     "text": [
      "Defaulting to user installation because normal site-packages is not writeable\n",
      "Requirement already satisfied: pip in /Users/k23070952/.local/lib/python3.12/site-packages (24.3.1)\n",
      "Collecting pip\n",
      "  Downloading pip-25.1.1-py3-none-any.whl.metadata (3.6 kB)\n",
      "Downloading pip-25.1.1-py3-none-any.whl (1.8 MB)\n",
      "\u001b[2K   \u001b[90m━━━━━━━━━━━━━━━━━━━━━━━━━━━━━━━━━━━━━━━━\u001b[0m \u001b[32m1.8/1.8 MB\u001b[0m \u001b[31m60.4 MB/s\u001b[0m eta \u001b[36m0:00:00\u001b[0m\n",
      "\u001b[?25hInstalling collected packages: pip\n",
      "  Attempting uninstall: pip\n",
      "    Found existing installation: pip 24.3.1\n",
      "    Uninstalling pip-24.3.1:\n",
      "      Successfully uninstalled pip-24.3.1\n",
      "\u001b[33m  WARNING: The scripts pip, pip3 and pip3.12 are installed in '/Users/k23070952/.local/bin' which is not on PATH.\n",
      "  Consider adding this directory to PATH or, if you prefer to suppress this warning, use --no-warn-script-location.\u001b[0m\u001b[33m\n",
      "\u001b[0mSuccessfully installed pip-25.1.1\n"
     ]
    }
   ],
   "source": [
    "!pip install --upgrade pip"
   ]
  }
 ],
 "metadata": {
  "kernelspec": {
   "display_name": "lca",
   "language": "python",
   "name": "python3"
  },
  "language_info": {
   "codemirror_mode": {
    "name": "ipython",
    "version": 3
   },
   "file_extension": ".py",
   "mimetype": "text/x-python",
   "name": "python",
   "nbconvert_exporter": "python",
   "pygments_lexer": "ipython3",
   "version": "3.12.7"
  }
 },
 "nbformat": 4,
 "nbformat_minor": 5
}
