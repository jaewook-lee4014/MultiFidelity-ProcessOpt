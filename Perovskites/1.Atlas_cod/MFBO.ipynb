{
 "cells": [
  {
   "cell_type": "code",
   "execution_count": 2,
   "metadata": {},
   "outputs": [
    {
     "name": "stdout",
     "output_type": "stream",
     "text": [
      "pip 25.0 from /users/k23070952/.local/lib/python3.9/site-packages/pip (python 3.9)\n",
      "Note: you may need to restart the kernel to use updated packages.\n"
     ]
    }
   ],
   "source": [
    "pip -V"
   ]
  },
  {
   "cell_type": "code",
   "execution_count": 1,
   "metadata": {},
   "outputs": [
    {
     "name": "stdout",
     "output_type": "stream",
     "text": [
      "/cephfs/volumes/hpc_home/k23070952/a774a32b-b8f8-42f8-b661-406a5dd49fd8/MultiFidelity-ProcessOpt/Perovskites\n"
     ]
    }
   ],
   "source": [
    "cd ~/MultiFidelity-ProcessOpt/Perovskites/"
   ]
  },
  {
   "cell_type": "code",
   "execution_count": 1,
   "metadata": {},
   "outputs": [
    {
     "name": "stdout",
     "output_type": "stream",
     "text": [
      "Package                       Version                 Editable project location\n",
      "----------------------------- ----------------------- --------------------------------------------------------------------------------------------------------------------\n",
      "about-time                    4.2.1\n",
      "absl-py                       2.1.0\n",
      "accelerate                    1.5.1\n",
      "aiohappyeyeballs              2.4.3\n",
      "aiohttp                       3.11.7\n",
      "aiosignal                     1.3.1\n",
      "alabaster                     0.7.12\n",
      "alembic                       1.14.1\n",
      "alive-progress                3.2.0\n",
      "anaconda-client               1.11.0\n",
      "anaconda-navigator            2.3.1\n",
      "anaconda-project              0.11.1\n",
      "annotated-types               0.7.0\n",
      "ansicolors                    1.1.8\n",
      "anyio                         3.5.0\n",
      "appdirs                       1.4.4\n",
      "argon2-cffi                   21.3.0\n",
      "argon2-cffi-bindings          21.2.0\n",
      "array_record                  0.5.1\n",
      "arrow                         1.2.2\n",
      "astroid                       2.11.7\n",
      "astropy                       5.1\n",
      "astunparse                    1.6.3\n",
      "async-timeout                 4.0.3\n",
      "atomicwrites                  1.4.0\n",
      "attrs                         21.4.0\n",
      "autograd                      1.8.0\n",
      "Automat                       20.2.0\n",
      "autopep8                      1.6.0\n",
      "Babel                         2.9.1\n",
      "backcall                      0.2.0\n",
      "backports.functools-lru-cache 1.6.4\n",
      "backports.tempfile            1.0\n",
      "backports.weakref             1.0.post1\n",
      "bayesian-optimization         2.0.4\n",
      "bcrypt                        3.2.0\n",
      "beautifulsoup4                4.11.1\n",
      "binaryornot                   0.4.4\n",
      "biosteam                      2.51.2\n",
      "bitarray                      2.5.1\n",
      "bitsandbytes                  0.45.3\n",
      "bkcharts                      0.2\n",
      "black                         22.6.0\n",
      "bleach                        4.1.0\n",
      "blessed                       1.20.0\n",
      "bokeh                         2.4.3\n",
      "boto3                         1.24.28\n",
      "botocore                      1.27.28\n",
      "botorch                       0.10.0\n",
      "Bottleneck                    1.3.5\n",
      "brotlipy                      0.7.0\n",
      "cachetools                    5.5.0\n",
      "certifi                       2022.9.14\n",
      "cffi                          1.15.1\n",
      "chaospy                       4.3.17\n",
      "chardet                       4.0.0\n",
      "charset-normalizer            2.0.4\n",
      "chemicals                     1.3.2\n",
      "click                         8.0.4\n",
      "cloudpickle                   2.0.0\n",
      "clyent                        1.2.2\n",
      "cma                           3.2.2\n",
      "cmcrameri                     1.9\n",
      "colorama                      0.4.6\n",
      "colorcet                      3.0.0\n",
      "colorlog                      6.9.0\n",
      "colorpalette                  0.3.3\n",
      "conda                         22.9.0\n",
      "conda-build                   3.22.0\n",
      "conda-content-trust           0.1.3\n",
      "conda-pack                    0.6.0\n",
      "conda-package-handling        1.9.0\n",
      "conda-repo-cli                1.0.20\n",
      "conda-token                   0.4.0\n",
      "conda-verify                  3.4.2\n",
      "constantly                    15.1.0\n",
      "cookiecutter                  1.7.3\n",
      "coverage                      7.8.1\n",
      "cryptography                  37.0.1\n",
      "cssselect                     1.1.0\n",
      "cycler                        0.11.0\n",
      "Cython                        0.29.32\n",
      "cytoolz                       0.11.0\n",
      "daal4py                       2021.6.0\n",
      "dask                          2022.7.0\n",
      "dataclasses-json              0.6.7\n",
      "datashader                    0.14.1\n",
      "datashape                     0.5.4\n",
      "deap                          1.4.3\n",
      "debugpy                       1.5.1\n",
      "decorator                     5.1.1\n",
      "defusedxml                    0.7.1\n",
      "Deprecated                    1.2.18\n",
      "diff-match-patch              20200713\n",
      "dill                          0.3.4\n",
      "distributed                   2022.7.0\n",
      "dm-tree                       0.1.8\n",
      "docutils                      0.18.1\n",
      "entrypoints                   0.4\n",
      "et-xmlfile                    1.1.0\n",
      "etils                         1.5.2\n",
      "faiss-gpu                     1.7.2\n",
      "fastjsonschema                2.16.2\n",
      "fastprogress                  1.0.3\n",
      "filelock                      3.6.0\n",
      "flake8                        4.0.1\n",
      "Flask                         1.1.2\n",
      "flatbuffers                   24.3.25\n",
      "flexcache                     0.3\n",
      "flexparser                    0.4\n",
      "flexsolve                     0.5.7\n",
      "fluids                        1.1.0\n",
      "fonttools                     4.25.0\n",
      "free-properties               0.3.6\n",
      "frozenlist                    1.5.0\n",
      "fsspec                        2024.10.0\n",
      "future                        0.18.2\n",
      "gast                          0.4.0\n",
      "gensim                        4.1.2\n",
      "glob2                         0.7\n",
      "gmpy2                         2.1.2\n",
      "google-auth                   2.36.0\n",
      "google-auth-oauthlib          1.2.2\n",
      "google-pasta                  0.2.0\n",
      "gpustat                       1.1.1\n",
      "GPUtil                        1.4.0\n",
      "GPy                           1.13.2\n",
      "gpytorch                      1.11\n",
      "grapheme                      0.6.0\n",
      "graphviz                      0.20.3\n",
      "greenlet                      1.1.1\n",
      "grpcio                        1.68.0\n",
      "gspread                       6.2.1\n",
      "h11                           0.14.0\n",
      "h5py                          3.12.1\n",
      "HeapDict                      1.0.1\n",
      "holoviews                     1.15.0\n",
      "httpcore                      1.0.7\n",
      "httpx                         0.28.1\n",
      "httpx-sse                     0.4.0\n",
      "huggingface-hub               0.29.3\n",
      "hvplot                        0.8.0\n",
      "hyperlink                     21.0.0\n",
      "idna                          3.3\n",
      "imagecodecs                   2021.8.26\n",
      "imageio                       2.19.3\n",
      "imagesize                     1.4.1\n",
      "importlib-metadata            4.11.3\n",
      "importlib_resources           6.5.2\n",
      "incremental                   21.3.0\n",
      "inflection                    0.5.1\n",
      "iniconfig                     1.1.1\n",
      "intake                        0.6.5\n",
      "intervaltree                  3.1.0\n",
      "ipykernel                     6.15.2\n",
      "ipython                       7.31.1\n",
      "ipython-genutils              0.2.0\n",
      "ipywidgets                    7.6.5\n",
      "isort                         5.9.3\n",
      "itemadapter                   0.3.0\n",
      "itemloaders                   1.0.4\n",
      "itsdangerous                  2.0.1\n",
      "jaxtyping                     0.2.19\n",
      "jdcal                         1.4.1\n",
      "jedi                          0.18.1\n",
      "jeepney                       0.7.1\n",
      "jellyfish                     0.9.0\n",
      "Jinja2                        2.11.3\n",
      "jinja2-time                   0.2.0\n",
      "jmespath                      0.10.0\n",
      "joblib                        1.5.0\n",
      "json5                         0.9.6\n",
      "jsonpatch                     1.33\n",
      "jsonpointer                   3.0.0\n",
      "jsonschema                    4.16.0\n",
      "jupyter                       1.0.0\n",
      "jupyter_client                7.3.4\n",
      "jupyter-console               6.4.3\n",
      "jupyter_core                  4.11.1\n",
      "jupyter-server                1.18.1\n",
      "jupyterlab                    3.4.4\n",
      "jupyterlab-pygments           0.1.2\n",
      "jupyterlab-server             2.10.3\n",
      "jupyterlab-widgets            1.0.0\n",
      "keras                         2.15.0\n",
      "Keras-Preprocessing           1.1.2\n",
      "keyring                       23.4.0\n",
      "kiwisolver                    1.4.2\n",
      "langchain                     0.3.20\n",
      "langchain-community           0.3.19\n",
      "langchain-core                0.3.44\n",
      "langchain-text-splitters      0.3.6\n",
      "langsmith                     0.3.13\n",
      "lazy-object-proxy             1.6.0\n",
      "libarchive-c                  2.9\n",
      "libclang                      18.1.1\n",
      "linear-operator               0.5.1\n",
      "livelossplot                  0.5.5\n",
      "llvmlite                      0.43.0\n",
      "locket                        1.0.0\n",
      "lxml                          4.9.1\n",
      "lz4                           3.1.3\n",
      "Mako                          1.3.9\n",
      "Markdown                      3.3.4\n",
      "markdown-it-py                3.0.0\n",
      "MarkupSafe                    2.0.1\n",
      "marshmallow                   3.26.1\n",
      "matplotlib                    3.5.2\n",
      "matplotlib-inline             0.1.6\n",
      "matter-atlas                  0.0.1                   /cephfs/volumes/hpc_home/k23070952/a774a32b-b8f8-42f8-b661-406a5dd49fd8/MultiFidelity-ProcessOpt/Perovskites/atlas\n",
      "matter-chimera                1.0\n",
      "matter-golem                  1.0\n",
      "mccabe                        0.7.0\n",
      "mdurl                         0.1.2\n",
      "mf2                           2022.6.0\n",
      "mistune                       0.8.4\n",
      "mkl-fft                       1.3.1\n",
      "mkl-random                    1.2.2\n",
      "mkl-service                   2.4.0\n",
      "ml-dtypes                     0.2.0\n",
      "mock                          4.0.3\n",
      "mpmath                        1.2.1\n",
      "msgpack                       1.0.3\n",
      "multidict                     6.1.0\n",
      "multipledispatch              0.6.0\n",
      "munkres                       1.1.4\n",
      "mypy-extensions               0.4.3\n",
      "namex                         0.0.8\n",
      "navigator-updater             0.3.0\n",
      "nbclassic                     0.3.5\n",
      "nbclient                      0.5.13\n",
      "nbconvert                     6.4.4\n",
      "nbformat                      5.5.0\n",
      "nest-asyncio                  1.5.5\n",
      "networkx                      2.8.4\n",
      "nltk                          3.7\n",
      "nose                          1.3.7\n",
      "notebook                      6.4.12\n",
      "numba                         0.60.0\n",
      "numexpr                       2.8.3\n",
      "numpoly                       1.3.4\n",
      "numpy                         1.26.4\n",
      "numpydoc                      1.4.0\n",
      "nvidia-cublas-cu12            12.4.5.8\n",
      "nvidia-cuda-cupti-cu12        12.4.127\n",
      "nvidia-cuda-nvrtc-cu12        12.4.127\n",
      "nvidia-cuda-runtime-cu12      12.4.127\n",
      "nvidia-cudnn-cu12             9.1.0.70\n",
      "nvidia-cufft-cu12             11.2.1.3\n",
      "nvidia-curand-cu12            10.3.5.147\n",
      "nvidia-cusolver-cu12          11.6.1.9\n",
      "nvidia-cusparse-cu12          12.3.1.170\n",
      "nvidia-ml-py                  12.560.30\n",
      "nvidia-nccl-cu12              2.21.5\n",
      "nvidia-nvjitlink-cu12         12.4.127\n",
      "nvidia-nvtx-cu12              12.4.127\n",
      "oauthlib                      3.2.2\n",
      "olefile                       0.46\n",
      "olympus                       0+untagged.166.gdef3dda /cephfs/volumes/hpc_home/k23070952/a774a32b-b8f8-42f8-b661-406a5dd49fd8/MultiFidelity-ProcessOpt/Perovskites/olympus\n",
      "openpyxl                      3.0.10\n",
      "opt_einsum                    3.4.0\n",
      "optree                        0.13.1\n",
      "optuna                        4.2.1\n",
      "orjson                        3.10.15\n",
      "packaging                     24.2\n",
      "pandas                        2.0.3\n",
      "pandocfilters                 1.5.0\n",
      "panel                         0.13.1\n",
      "param                         1.12.0\n",
      "paramz                        0.9.6\n",
      "parsel                        1.6.0\n",
      "parso                         0.8.3\n",
      "partd                         1.2.0\n",
      "pathlib                       1.0.1\n",
      "pathspec                      0.9.0\n",
      "patsy                         0.5.2\n",
      "pep8                          1.7.1\n",
      "pexpect                       4.8.0\n",
      "pickle-mixin                  1.0.2\n",
      "pickleshare                   0.7.5\n",
      "Pillow                        9.2.0\n",
      "Pint                          0.24.4\n",
      "pip                           25.0\n",
      "pkginfo                       1.8.2\n",
      "platformdirs                  2.5.2\n",
      "plotly                        5.9.0\n",
      "pluggy                        1.0.0\n",
      "ply                           3.11\n",
      "poyo                          0.5.0\n",
      "prometheus-client             0.14.1\n",
      "promise                       2.3\n",
      "prompt-toolkit                3.0.20\n",
      "propcache                     0.2.0\n",
      "Protego                       0.1.16\n",
      "protobuf                      3.20.3\n",
      "psutil                        5.9.0\n",
      "ptyprocess                    0.7.0\n",
      "py                            1.11.0\n",
      "pyaml                         25.1.0\n",
      "pyasn1                        0.4.8\n",
      "pyasn1-modules                0.2.8\n",
      "pycodestyle                   2.8.0\n",
      "pycosat                       0.6.3\n",
      "pycparser                     2.21\n",
      "pyct                          0.4.8\n",
      "pycurl                        7.45.1\n",
      "pydantic                      2.10.6\n",
      "pydantic_core                 2.27.2\n",
      "pydantic-settings             2.8.1\n",
      "PyDispatcher                  2.0.5\n",
      "pydocstyle                    6.1.1\n",
      "pyDOE                         0.3.8\n",
      "pyerfa                        2.0.0\n",
      "pyflakes                      2.4.0\n",
      "pyglet                        2.1.3\n",
      "Pygments                      2.18.0\n",
      "PyHamcrest                    2.0.2\n",
      "PyJWT                         2.4.0\n",
      "pylint                        2.14.5\n",
      "pyls-spyder                   0.4.0\n",
      "pymoo                         0.6.1.3\n",
      "pyodbc                        4.0.34\n",
      "pyOpenSSL                     22.0.0\n",
      "pyparsing                     3.0.9\n",
      "PyQt5-sip                     12.11.0\n",
      "pyro-api                      0.1.2\n",
      "pyro-ppl                      1.9.1\n",
      "pyrsistent                    0.18.0\n",
      "PySocks                       1.7.1\n",
      "pytest                        7.1.2\n",
      "pytest-cov                    6.1.1\n",
      "python-dateutil               2.8.2\n",
      "python-dotenv                 1.0.1\n",
      "python-lsp-black              1.2.1\n",
      "python-lsp-jsonrpc            1.0.0\n",
      "python-lsp-server             1.5.0\n",
      "python-slugify                5.0.2\n",
      "python-snappy                 0.6.0\n",
      "pytz                          2022.1\n",
      "pyviz-comms                   2.0.2\n",
      "PyWavelets                    1.3.0\n",
      "pyxdg                         0.27\n",
      "PyYAML                        6.0\n",
      "pyzmq                         23.2.0\n",
      "QDarkStyle                    3.0.2\n",
      "qstylizer                     0.1.10\n",
      "QtAwesome                     1.0.3\n",
      "qtconsole                     5.3.2\n",
      "QtPy                          2.2.0\n",
      "queuelib                      1.5.0\n",
      "rdkit                         2024.3.6\n",
      "regex                         2022.7.9\n",
      "requests                      2.28.1\n",
      "requests-file                 1.5.1\n",
      "requests-oauthlib             2.0.0\n",
      "requests-toolbelt             1.0.0\n",
      "rich                          13.9.4\n",
      "rope                          0.22.0\n",
      "rsa                           4.9\n",
      "Rtree                         0.9.7\n",
      "ruamel-yaml-conda             0.15.100\n",
      "s3transfer                    0.6.0\n",
      "safetensors                   0.4.5\n",
      "scikit-image                  0.19.2\n",
      "scikit-learn                  1.0.2\n",
      "scikit-learn-intelex          2021.20221004.171807\n",
      "scikit-optimize               0.10.2\n",
      "scipy                         1.12.0\n",
      "Scrapy                        2.6.2\n",
      "seaborn                       0.11.2\n",
      "SecretStorage                 3.3.1\n",
      "Send2Trash                    1.8.0\n",
      "sentence-transformers         3.4.1\n",
      "service-identity              18.1.0\n",
      "setuptools                    63.4.1\n",
      "silence-tensorflow            1.2.3\n",
      "sip                           6.6.2\n",
      "six                           1.16.0\n",
      "smart-open                    5.2.1\n",
      "SmilesPE                      0.0.3\n",
      "sniffio                       1.2.0\n",
      "snowballstemmer               2.2.0\n",
      "sobol-seq                     0.2.0\n",
      "sortedcollections             2.1.0\n",
      "sortedcontainers              2.4.0\n",
      "soupsieve                     2.3.1\n",
      "Sphinx                        5.0.2\n",
      "sphinxcontrib-applehelp       1.0.2\n",
      "sphinxcontrib-devhelp         1.0.2\n",
      "sphinxcontrib-htmlhelp        2.0.0\n",
      "sphinxcontrib-jsmath          1.0.1\n",
      "sphinxcontrib-qthelp          1.0.3\n",
      "sphinxcontrib-serializinghtml 1.1.5\n",
      "spyder                        5.3.3\n",
      "spyder-kernels                2.3.3\n",
      "SQLAlchemy                    1.4.45\n",
      "statsmodels                   0.13.2\n",
      "sympy                         1.13.1\n",
      "tables                        3.6.1\n",
      "tabulate                      0.8.10\n",
      "TBB                           0.2\n",
      "tblib                         1.7.0\n",
      "tenacity                      9.0.0\n",
      "tensorboard                   2.15.2\n",
      "tensorboard-data-server       0.7.2\n",
      "tensorboard-plugin-wit        1.8.1\n",
      "tensorflow                    2.15.0\n",
      "tensorflow-datasets           4.9.3\n",
      "tensorflow-estimator          2.15.0\n",
      "tensorflow-gpu                2.11.0\n",
      "tensorflow-io-gcs-filesystem  0.37.1\n",
      "tensorflow-metadata           1.17.1\n",
      "tensorflow-probability        0.23.0\n",
      "termcolor                     2.5.0\n",
      "terminado                     0.13.1\n",
      "testpath                      0.6.0\n",
      "text-unidecode                1.3\n",
      "textdistance                  4.2.1\n",
      "thermo                        0.4.1\n",
      "thermosteam                   0.51.1\n",
      "threadpoolctl                 3.6.0\n",
      "three-merge                   0.1.1\n",
      "tifffile                      2021.7.2\n",
      "tinycss                       0.4\n",
      "tldextract                    3.2.0\n",
      "tokenizers                    0.21.1\n",
      "toml                          0.10.2\n",
      "tomli                         2.0.1\n",
      "tomlkit                       0.11.1\n",
      "toolz                         0.11.2\n",
      "torch                         2.5.1\n",
      "torch-geometric               2.6.1\n",
      "tornado                       6.1\n",
      "tqdm                          4.64.1\n",
      "traitlets                     5.1.1\n",
      "transformers                  4.49.0\n",
      "triton                        3.1.0\n",
      "Twisted                       22.2.0\n",
      "typeguard                     2.13.3\n",
      "typing_extensions             4.12.2\n",
      "typing-inspect                0.9.0\n",
      "tzdata                        2024.2\n",
      "ujson                         5.4.0\n",
      "Unidecode                     1.2.0\n",
      "urllib3                       1.26.11\n",
      "w3lib                         1.21.0\n",
      "watchdog                      2.1.6\n",
      "wcwidth                       0.2.5\n",
      "webencodings                  0.5.1\n",
      "websocket-client              0.58.0\n",
      "Werkzeug                      2.0.3\n",
      "whatthepatch                  1.0.2\n",
      "wheel                         0.37.1\n",
      "widgetsnbextension            3.5.2\n",
      "wrapt                         1.14.1\n",
      "wurlitzer                     3.0.2\n",
      "xarray                        0.20.1\n",
      "xgboost                       2.1.4\n",
      "xlrd                          2.0.1\n",
      "XlsxWriter                    3.0.3\n",
      "yapf                          0.31.0\n",
      "yarl                          1.18.0\n",
      "zict                          2.1.0\n",
      "zipp                          3.8.0\n",
      "zope.interface                5.4.0\n",
      "zstandard                     0.23.0\n",
      "Note: you may need to restart the kernel to use updated packages.\n"
     ]
    }
   ],
   "source": [
    "pip list"
   ]
  },
  {
   "cell_type": "code",
   "execution_count": 2,
   "metadata": {},
   "outputs": [],
   "source": [
    "from olympus import Surface, Campaign\n",
    "from atlas.planners.gp.planner import GPPlanner"
   ]
  },
  {
   "cell_type": "code",
   "execution_count": 3,
   "metadata": {},
   "outputs": [],
   "source": [
    "from olympus.datasets import Dataset"
   ]
  },
  {
   "cell_type": "code",
   "execution_count": 2,
   "metadata": {},
   "outputs": [],
   "source": [
    "#!/usr/bin/env python\n",
    "\n",
    "import json\n",
    "import pickle\n",
    "import numpy as np\n",
    "import pandas as pd\n",
    "from copy import deepcopy\n",
    "\n",
    "from olympus.datasets import Dataset\n",
    "from olympus.objects import (\n",
    "\tParameterContinuous,\n",
    "\tParameterDiscrete, \n",
    "\tParameterCategorical, \n",
    "\tParameterVector)\n",
    "\n",
    "from olympus.campaigns import ParameterSpace, Campaign\n",
    "\n",
    "from atlas.planners.multi_fidelity.planner import MultiFidelityPlanner\n",
    "\n"
   ]
  },
  {
   "cell_type": "code",
   "execution_count": 3,
   "metadata": {},
   "outputs": [],
   "source": [
    "# config\n",
    "dataset = Dataset(kind='perovskites')\n",
    "NUM_RUNS = 10\n",
    "# BUDGET = 30\n",
    "COST_BUDGET = 50 # 200.\n",
    "NUM_INIT_DESIGN = 10\n",
    "NUM_CHEAP = 8\n",
    "\n",
    "# lookup table\n",
    "# organic --> cation --> anion --> bandgap_hse06/bandgap_gga\n",
    "LOOKUP = pickle.load(open('0.Data/lookup_table.pkl', 'rb'))\n",
    "# print(lookup.keys())\n",
    "# print(lookup['Ethylammonium']['Ge']['F'].keys())\n",
    "\n"
   ]
  },
  {
   "cell_type": "code",
   "execution_count": 4,
   "metadata": {},
   "outputs": [
    {
     "data": {
      "text/plain": [
       "<olympus.campaigns.param_space.ParameterSpace at 0x77c5f93f9760>"
      ]
     },
     "execution_count": 4,
     "metadata": {},
     "output_type": "execute_result"
    }
   ],
   "source": [
    "dataset.param_space"
   ]
  },
  {
   "cell_type": "code",
   "execution_count": 5,
   "metadata": {},
   "outputs": [],
   "source": [
    "\n",
    "def build_options_descriptors(json_file):\n",
    "\twith open(json_file, 'r') as f:\n",
    "\t\tcontent = json.load(f)\n",
    "\n",
    "\toptions = list(content.keys())\n",
    "\tdescriptors = [list(content[opt].values()) for opt in options]\n",
    "\n",
    "\treturn options, descriptors\n",
    "\n",
    "def measure(params, s):\n",
    "\t# high-fidelity is hse06, low-fidelity is gga\n",
    "\tif s == 1.0:\n",
    "\t\tmeasurement = np.amin(\n",
    "\t\t\tLOOKUP[params.organic.capitalize()][params.cation][params.anion]['bandgap_hse06']\n",
    "\t\t)\n",
    "\telif s == 0.1:\n",
    "\t\tmeasurement = np.amin(\n",
    "\t\t\tLOOKUP[params.organic.capitalize()][params.cation][params.anion]['bandgap_gga']\n",
    "\t\t)\n",
    "\treturn measurement\n",
    "\n",
    "def get_min_hse06_bandgap(param_space):\n",
    "\torganic_options = [o.capitalize() for o in param_space[1].options]\n",
    "\tcation_options = [o.capitalize() for o in param_space[2].options]\n",
    "\tanion_options = [o.capitalize() for o in param_space[3].options]\n",
    "\n",
    "\thse06_bandgaps = []\n",
    "\tfor organic_option in organic_options:\n",
    "\t\tfor cation_option in cation_options:\n",
    "\t\t\tfor anion_option in anion_options:\n",
    "\t\t\t\thse06_bandgaps.append(\n",
    "\t\t\t\t\tnp.amin(\n",
    "\t\t\t\t\t\tLOOKUP[organic_option][cation_option][anion_option]['bandgap_hse06']\n",
    "\t\t\t\t\t)\n",
    "\t\t\t\t)\n",
    "\tmin_hse06_bandgap = np.amin(hse06_bandgaps)\n",
    "\treturn min_hse06_bandgap\n",
    "\n",
    "def compute_cost(params):\n",
    "\tcosts = params[:,0].astype(float)\n",
    "\treturn np.sum(costs)\n",
    "\n"
   ]
  },
  {
   "cell_type": "code",
   "execution_count": 6,
   "metadata": {},
   "outputs": [
    {
     "name": "stdout",
     "output_type": "stream",
     "text": [
      "Categorical (name='organic', num_opts: 16, options=['ethylammonium', 'propylammonium', 'butylammonium', 'isopropylammonium', 'dimethylammonium', 'acetamidinium', 'methylammonium', 'guanidinium', 'hydroxylammonium', 'formamidinium', 'tetramethylammonium', 'hydrazinium', 'ammonium', 'trimethylammonium', 'azetidinium', 'imidazolium'], descriptors=[[-0.460099995136261, -0.2239799946546554, 1.3964999914169312, -1.8414201736450195, 1.2615654468536377, 69.08699798583984], [-0.460099995136261, -0.2239799946546554, 1.3964999914169312, -1.8414201736450195, 1.2615654468536377, 69.08699798583984], [-0.460099995136261, -0.2239799946546554, 1.3964999914169312, -1.8414201736450195, 1.2615654468536377, 69.08699798583984], [-0.460099995136261, -0.2239799946546554, 1.3964999914169312, -1.8414201736450195, 1.2615654468536377, 69.08699798583984], [-0.460099995136261, -0.2239799946546554, 1.3964999914169312, -1.8414201736450195, 1.2615654468536377, 69.08699798583984], [-0.460099995136261, -0.2239799946546554, 1.3964999914169312, -1.8414201736450195, 1.2615654468536377, 69.08699798583984], [-0.460099995136261, -0.2239799946546554, 1.3964999914169312, -1.8414201736450195, 1.2615654468536377, 69.08699798583984], [-0.460099995136261, -0.2239799946546554, 1.3964999914169312, -1.8414201736450195, 1.2615654468536377, 69.08699798583984], [-0.460099995136261, -0.2239799946546554, 1.3964999914169312, -1.8414201736450195, 1.2615654468536377, 69.08699798583984], [-0.460099995136261, -0.2239799946546554, 1.3964999914169312, -1.8414201736450195, 1.2615654468536377, 69.08699798583984], [-0.460099995136261, -0.2239799946546554, 1.3964999914169312, -1.8414201736450195, 1.2615654468536377, 69.08699798583984], [-0.460099995136261, -0.2239799946546554, 1.3964999914169312, -1.8414201736450195, 1.2615654468536377, 69.08699798583984], [-0.460099995136261, -0.2239799946546554, 1.3964999914169312, -1.8414201736450195, 1.2615654468536377, 69.08699798583984], [-0.460099995136261, -0.2239799946546554, 1.3964999914169312, -1.8414201736450195, 1.2615654468536377, 69.08699798583984], [-0.460099995136261, -0.2239799946546554, 1.3964999914169312, -1.8414201736450195, 1.2615654468536377, 69.08699798583984], [-0.460099995136261, -0.2239799946546554, 1.3964999914169312, -1.8414201736450195, 1.2615654468536377, 69.08699798583984]])\n",
      "Categorical (name='cation', num_opts: 3, options=['Ge', 'Sn', 'Pb'], descriptors=[[0.3567430078983307, 7.416659832000732, 207.1999969482422, 1.899999976158142], [0.3567430078983307, 7.416659832000732, 207.1999969482422, 1.899999976158142], [0.3567430078983307, 7.416659832000732, 207.1999969482422, 1.899999976158142]])\n",
      "Categorical (name='anion', num_opts: 4, options=['F', 'Cl', 'Br', 'I'], descriptors=[[3.059046030044556, 10.45125961303711, 126.9000015258789, 2.5], [3.059046030044556, 10.45125961303711, 126.9000015258789, 2.5], [3.059046030044556, 10.45125961303711, 126.9000015258789, 2.5], [3.059046030044556, 10.45125961303711, 126.9000015258789, 2.5]])\n",
      "MIN HSE06 BANDGAP :  1.5249\n"
     ]
    }
   ],
   "source": [
    "\n",
    "# build parameter space\n",
    "param_space = ParameterSpace()\n",
    "\n",
    "# fidelity param\n",
    "param_space.add(ParameterDiscrete(name='s', options=[0.1, 1.0], low=0.1, high=1.0))\n",
    "for param in dataset.param_space: # add perovskite component parameters ('organic', 'cation', and 'anion')\n",
    "\tprint(param)\n",
    "\tparam_space.add(param)\n",
    "\n",
    "\n",
    "all_data = []\n",
    "min_hse06_bandgap = get_min_hse06_bandgap(param_space)\n",
    "print('MIN HSE06 BANDGAP : ', min_hse06_bandgap)\n",
    "# >>> MIN HSE06 BANDGAP :  1.5249\n",
    "# hydrazinium\tSn\tI\n",
    "\n"
   ]
  },
  {
   "cell_type": "code",
   "execution_count": 11,
   "metadata": {},
   "outputs": [
    {
     "data": {
      "text/html": [
       "<pre style=\"white-space:pre;overflow-x:auto;line-height:normal;font-family:Menlo,'DejaVu Sans Mono',consolas,'Courier New',monospace\"><span style=\"color: #051923; text-decoration-color: #051923\">───────────────────────────────────────────────────────────────────────────────────────────────────────────────────</span>\n",
       "</pre>\n"
      ],
      "text/plain": [
       "\u001b[38;2;5;25;35m───────────────────────────────────────────────────────────────────────────────────────────────────────────────────\u001b[0m\n"
      ]
     },
     "metadata": {},
     "output_type": "display_data"
    },
    {
     "data": {
      "text/html": [
       "<pre style=\"white-space:pre;overflow-x:auto;line-height:normal;font-family:Menlo,'DejaVu Sans Mono',consolas,'Courier New',monospace\"><span style=\"color: #05a6fb; text-decoration-color: #05a6fb; font-weight: bold\">                                                                                                                   </span>\n",
       "<span style=\"color: #05a6fb; text-decoration-color: #05a6fb; font-weight: bold\">                                                 Welcome to ATLAS!                                                 </span>\n",
       "</pre>\n"
      ],
      "text/plain": [
       "\u001b[1;38;2;5;166;251m                                                 \u001b[0m\u001b[1;38;2;5;166;251m                 \u001b[0m\u001b[1;38;2;5;166;251m                                                 \u001b[0m\n",
       "\u001b[1;38;2;5;166;251m                                                 \u001b[0m\u001b[1;38;2;5;166;251mWelcome to ATLAS!\u001b[0m\u001b[1;38;2;5;166;251m                                                 \u001b[0m\n"
      ]
     },
     "metadata": {},
     "output_type": "display_data"
    },
    {
     "data": {
      "text/html": [
       "<pre style=\"white-space:pre;overflow-x:auto;line-height:normal;font-family:Menlo,'DejaVu Sans Mono',consolas,'Courier New',monospace\"><span style=\"color: #006494; text-decoration-color: #006494\">                                                Made with 💕 in 🇨🇦                                                 </span>\n",
       "<span style=\"color: #006494; text-decoration-color: #006494\">                                                                                                                   </span>\n",
       "</pre>\n"
      ],
      "text/plain": [
       "\u001b[38;2;0;100;148m                                                \u001b[0m\u001b[38;2;0;100;148mMade with 💕 in 🇨🇦\u001b[0m\u001b[38;2;0;100;148m                                                 \u001b[0m\n",
       "\u001b[38;2;0;100;148m                                                \u001b[0m\u001b[38;2;0;100;148m                  \u001b[0m\u001b[38;2;0;100;148m                                                 \u001b[0m\n"
      ]
     },
     "metadata": {},
     "output_type": "display_data"
    },
    {
     "data": {
      "text/html": [
       "<pre style=\"white-space:pre;overflow-x:auto;line-height:normal;font-family:Menlo,'DejaVu Sans Mono',consolas,'Courier New',monospace\"><span style=\"color: #051923; text-decoration-color: #051923\">───────────────────────────────────────────────────────────────────────────────────────────────────────────────────</span>\n",
       "</pre>\n"
      ],
      "text/plain": [
       "\u001b[38;2;5;25;35m───────────────────────────────────────────────────────────────────────────────────────────────────────────────────\u001b[0m\n"
      ]
     },
     "metadata": {},
     "output_type": "display_data"
    },
    {
     "data": {
      "text/html": [
       "<pre style=\"white-space:pre;overflow-x:auto;line-height:normal;font-family:Menlo,'DejaVu Sans Mono',consolas,'Courier New',monospace\"><span style=\"color: #05a6fb; text-decoration-color: #05a6fb\">───────────────────────────── Initial design phase ─────────────────────────────</span>\n",
       "</pre>\n"
      ],
      "text/plain": [
       "\u001b[38;2;5;166;251m───────────────────────────── Initial design phase ─────────────────────────────\u001b[0m\n"
      ]
     },
     "metadata": {},
     "output_type": "display_data"
    },
    {
     "name": "stdout",
     "output_type": "stream",
     "text": [
      "\n",
      "RUN : 1/10\tITER : 1\tCOST : 0.0\n",
      "\n"
     ]
    },
    {
     "data": {
      "text/html": [
       "<pre style=\"white-space:pre;overflow-x:auto;line-height:normal;font-family:Menlo,'DejaVu Sans Mono',consolas,'Courier New',monospace\"><span style=\"color: #f4a261; text-decoration-color: #f4a261\">ATLAS </span><span style=\"color: #f4a261; text-decoration-color: #f4a261; font-weight: bold\">[</span><span style=\"color: #f4a261; text-decoration-color: #f4a261\">WARNING</span><span style=\"color: #f4a261; text-decoration-color: #f4a261; font-weight: bold\">]</span><span style=\"color: #f4a261; text-decoration-color: #f4a261\"> Setting ask fidelity level to </span><span style=\"color: #008080; text-decoration-color: #008080; font-weight: bold\">1.0</span>\n",
       "</pre>\n"
      ],
      "text/plain": [
       "\u001b[38;2;244;162;97mATLAS \u001b[0m\u001b[1;38;2;244;162;97m[\u001b[0m\u001b[38;2;244;162;97mWARNING\u001b[0m\u001b[1;38;2;244;162;97m]\u001b[0m\u001b[38;2;244;162;97m Setting ask fidelity level to \u001b[0m\u001b[1;36m1.0\u001b[0m\n"
      ]
     },
     "metadata": {},
     "output_type": "display_data"
    },
    {
     "data": {
      "text/html": [
       "<pre style=\"white-space:pre;overflow-x:auto;line-height:normal;font-family:Menlo,'DejaVu Sans Mono',consolas,'Courier New',monospace\">ATLAS <span style=\"font-weight: bold\">[</span>INFO<span style=\"font-weight: bold\">]</span> Generating <span style=\"color: #008080; text-decoration-color: #008080; font-weight: bold\">1</span> initial design points <span style=\"font-weight: bold\">(</span>batch <span style=\"color: #008080; text-decoration-color: #008080; font-weight: bold\">1</span>/<span style=\"color: #008080; text-decoration-color: #008080; font-weight: bold\">10</span><span style=\"font-weight: bold\">)</span>\n",
       "</pre>\n"
      ],
      "text/plain": [
       "ATLAS \u001b[1m[\u001b[0mINFO\u001b[1m]\u001b[0m Generating \u001b[1;36m1\u001b[0m initial design points \u001b[1m(\u001b[0mbatch \u001b[1;36m1\u001b[0m/\u001b[1;36m10\u001b[0m\u001b[1m)\u001b[0m\n"
      ]
     },
     "metadata": {},
     "output_type": "display_data"
    },
    {
     "name": "stdout",
     "output_type": "stream",
     "text": [
      "Time: 0.005166053771972656s\n",
      "SAMPLE :  ParamVector(s = 1.0, organic = hydroxylammonium, cation = Sn, anion = I)\n",
      "MEASUREMENT :  1.9713\n",
      "\n",
      "RUN : 1/10\tITER : 2\tCOST : 1.0\n",
      "\n"
     ]
    },
    {
     "data": {
      "text/html": [
       "<pre style=\"white-space:pre;overflow-x:auto;line-height:normal;font-family:Menlo,'DejaVu Sans Mono',consolas,'Courier New',monospace\"><span style=\"color: #f4a261; text-decoration-color: #f4a261\">ATLAS </span><span style=\"color: #f4a261; text-decoration-color: #f4a261; font-weight: bold\">[</span><span style=\"color: #f4a261; text-decoration-color: #f4a261\">WARNING</span><span style=\"color: #f4a261; text-decoration-color: #f4a261; font-weight: bold\">]</span><span style=\"color: #f4a261; text-decoration-color: #f4a261\"> Setting ask fidelity level to </span><span style=\"color: #008080; text-decoration-color: #008080; font-weight: bold\">0.1</span>\n",
       "</pre>\n"
      ],
      "text/plain": [
       "\u001b[38;2;244;162;97mATLAS \u001b[0m\u001b[1;38;2;244;162;97m[\u001b[0m\u001b[38;2;244;162;97mWARNING\u001b[0m\u001b[1;38;2;244;162;97m]\u001b[0m\u001b[38;2;244;162;97m Setting ask fidelity level to \u001b[0m\u001b[1;36m0.1\u001b[0m\n"
      ]
     },
     "metadata": {},
     "output_type": "display_data"
    },
    {
     "data": {
      "text/html": [
       "<pre style=\"white-space:pre;overflow-x:auto;line-height:normal;font-family:Menlo,'DejaVu Sans Mono',consolas,'Courier New',monospace\">ATLAS <span style=\"font-weight: bold\">[</span>INFO<span style=\"font-weight: bold\">]</span> Generating <span style=\"color: #008080; text-decoration-color: #008080; font-weight: bold\">1</span> initial design points <span style=\"font-weight: bold\">(</span>batch <span style=\"color: #008080; text-decoration-color: #008080; font-weight: bold\">2</span>/<span style=\"color: #008080; text-decoration-color: #008080; font-weight: bold\">10</span><span style=\"font-weight: bold\">)</span>\n",
       "</pre>\n"
      ],
      "text/plain": [
       "ATLAS \u001b[1m[\u001b[0mINFO\u001b[1m]\u001b[0m Generating \u001b[1;36m1\u001b[0m initial design points \u001b[1m(\u001b[0mbatch \u001b[1;36m2\u001b[0m/\u001b[1;36m10\u001b[0m\u001b[1m)\u001b[0m\n"
      ]
     },
     "metadata": {},
     "output_type": "display_data"
    },
    {
     "name": "stdout",
     "output_type": "stream",
     "text": [
      "Time: 0.004616975784301758s\n",
      "SAMPLE :  ParamVector(s = 0.1, organic = hydroxylammonium, cation = Ge, anion = Br)\n",
      "MEASUREMENT :  1.6643\n",
      "\n",
      "RUN : 1/10\tITER : 3\tCOST : 1.1\n",
      "\n"
     ]
    },
    {
     "data": {
      "text/html": [
       "<pre style=\"white-space:pre;overflow-x:auto;line-height:normal;font-family:Menlo,'DejaVu Sans Mono',consolas,'Courier New',monospace\"><span style=\"color: #f4a261; text-decoration-color: #f4a261\">ATLAS </span><span style=\"color: #f4a261; text-decoration-color: #f4a261; font-weight: bold\">[</span><span style=\"color: #f4a261; text-decoration-color: #f4a261\">WARNING</span><span style=\"color: #f4a261; text-decoration-color: #f4a261; font-weight: bold\">]</span><span style=\"color: #f4a261; text-decoration-color: #f4a261\"> Setting ask fidelity level to </span><span style=\"color: #008080; text-decoration-color: #008080; font-weight: bold\">0.1</span>\n",
       "</pre>\n"
      ],
      "text/plain": [
       "\u001b[38;2;244;162;97mATLAS \u001b[0m\u001b[1;38;2;244;162;97m[\u001b[0m\u001b[38;2;244;162;97mWARNING\u001b[0m\u001b[1;38;2;244;162;97m]\u001b[0m\u001b[38;2;244;162;97m Setting ask fidelity level to \u001b[0m\u001b[1;36m0.1\u001b[0m\n"
      ]
     },
     "metadata": {},
     "output_type": "display_data"
    },
    {
     "data": {
      "text/html": [
       "<pre style=\"white-space:pre;overflow-x:auto;line-height:normal;font-family:Menlo,'DejaVu Sans Mono',consolas,'Courier New',monospace\">ATLAS <span style=\"font-weight: bold\">[</span>INFO<span style=\"font-weight: bold\">]</span> Generating <span style=\"color: #008080; text-decoration-color: #008080; font-weight: bold\">1</span> initial design points <span style=\"font-weight: bold\">(</span>batch <span style=\"color: #008080; text-decoration-color: #008080; font-weight: bold\">3</span>/<span style=\"color: #008080; text-decoration-color: #008080; font-weight: bold\">10</span><span style=\"font-weight: bold\">)</span>\n",
       "</pre>\n"
      ],
      "text/plain": [
       "ATLAS \u001b[1m[\u001b[0mINFO\u001b[1m]\u001b[0m Generating \u001b[1;36m1\u001b[0m initial design points \u001b[1m(\u001b[0mbatch \u001b[1;36m3\u001b[0m/\u001b[1;36m10\u001b[0m\u001b[1m)\u001b[0m\n"
      ]
     },
     "metadata": {},
     "output_type": "display_data"
    },
    {
     "name": "stdout",
     "output_type": "stream",
     "text": [
      "Time: 0.004981517791748047s\n",
      "SAMPLE :  ParamVector(s = 0.1, organic = acetamidinium, cation = Ge, anion = Br)\n",
      "MEASUREMENT :  2.2149\n",
      "\n",
      "RUN : 1/10\tITER : 4\tCOST : 1.2000000000000002\n",
      "\n"
     ]
    },
    {
     "data": {
      "text/html": [
       "<pre style=\"white-space:pre;overflow-x:auto;line-height:normal;font-family:Menlo,'DejaVu Sans Mono',consolas,'Courier New',monospace\"><span style=\"color: #f4a261; text-decoration-color: #f4a261\">ATLAS </span><span style=\"color: #f4a261; text-decoration-color: #f4a261; font-weight: bold\">[</span><span style=\"color: #f4a261; text-decoration-color: #f4a261\">WARNING</span><span style=\"color: #f4a261; text-decoration-color: #f4a261; font-weight: bold\">]</span><span style=\"color: #f4a261; text-decoration-color: #f4a261\"> Setting ask fidelity level to </span><span style=\"color: #008080; text-decoration-color: #008080; font-weight: bold\">0.1</span>\n",
       "</pre>\n"
      ],
      "text/plain": [
       "\u001b[38;2;244;162;97mATLAS \u001b[0m\u001b[1;38;2;244;162;97m[\u001b[0m\u001b[38;2;244;162;97mWARNING\u001b[0m\u001b[1;38;2;244;162;97m]\u001b[0m\u001b[38;2;244;162;97m Setting ask fidelity level to \u001b[0m\u001b[1;36m0.1\u001b[0m\n"
      ]
     },
     "metadata": {},
     "output_type": "display_data"
    },
    {
     "data": {
      "text/html": [
       "<pre style=\"white-space:pre;overflow-x:auto;line-height:normal;font-family:Menlo,'DejaVu Sans Mono',consolas,'Courier New',monospace\">ATLAS <span style=\"font-weight: bold\">[</span>INFO<span style=\"font-weight: bold\">]</span> Generating <span style=\"color: #008080; text-decoration-color: #008080; font-weight: bold\">1</span> initial design points <span style=\"font-weight: bold\">(</span>batch <span style=\"color: #008080; text-decoration-color: #008080; font-weight: bold\">4</span>/<span style=\"color: #008080; text-decoration-color: #008080; font-weight: bold\">10</span><span style=\"font-weight: bold\">)</span>\n",
       "</pre>\n"
      ],
      "text/plain": [
       "ATLAS \u001b[1m[\u001b[0mINFO\u001b[1m]\u001b[0m Generating \u001b[1;36m1\u001b[0m initial design points \u001b[1m(\u001b[0mbatch \u001b[1;36m4\u001b[0m/\u001b[1;36m10\u001b[0m\u001b[1m)\u001b[0m\n"
      ]
     },
     "metadata": {},
     "output_type": "display_data"
    },
    {
     "name": "stdout",
     "output_type": "stream",
     "text": [
      "Time: 0.005060911178588867s\n",
      "SAMPLE :  ParamVector(s = 0.1, organic = ethylammonium, cation = Ge, anion = F)\n",
      "MEASUREMENT :  4.1048\n",
      "\n",
      "RUN : 1/10\tITER : 5\tCOST : 1.3000000000000003\n",
      "\n"
     ]
    },
    {
     "data": {
      "text/html": [
       "<pre style=\"white-space:pre;overflow-x:auto;line-height:normal;font-family:Menlo,'DejaVu Sans Mono',consolas,'Courier New',monospace\"><span style=\"color: #f4a261; text-decoration-color: #f4a261\">ATLAS </span><span style=\"color: #f4a261; text-decoration-color: #f4a261; font-weight: bold\">[</span><span style=\"color: #f4a261; text-decoration-color: #f4a261\">WARNING</span><span style=\"color: #f4a261; text-decoration-color: #f4a261; font-weight: bold\">]</span><span style=\"color: #f4a261; text-decoration-color: #f4a261\"> Setting ask fidelity level to </span><span style=\"color: #008080; text-decoration-color: #008080; font-weight: bold\">0.1</span>\n",
       "</pre>\n"
      ],
      "text/plain": [
       "\u001b[38;2;244;162;97mATLAS \u001b[0m\u001b[1;38;2;244;162;97m[\u001b[0m\u001b[38;2;244;162;97mWARNING\u001b[0m\u001b[1;38;2;244;162;97m]\u001b[0m\u001b[38;2;244;162;97m Setting ask fidelity level to \u001b[0m\u001b[1;36m0.1\u001b[0m\n"
      ]
     },
     "metadata": {},
     "output_type": "display_data"
    },
    {
     "data": {
      "text/html": [
       "<pre style=\"white-space:pre;overflow-x:auto;line-height:normal;font-family:Menlo,'DejaVu Sans Mono',consolas,'Courier New',monospace\">ATLAS <span style=\"font-weight: bold\">[</span>INFO<span style=\"font-weight: bold\">]</span> Generating <span style=\"color: #008080; text-decoration-color: #008080; font-weight: bold\">1</span> initial design points <span style=\"font-weight: bold\">(</span>batch <span style=\"color: #008080; text-decoration-color: #008080; font-weight: bold\">5</span>/<span style=\"color: #008080; text-decoration-color: #008080; font-weight: bold\">10</span><span style=\"font-weight: bold\">)</span>\n",
       "</pre>\n"
      ],
      "text/plain": [
       "ATLAS \u001b[1m[\u001b[0mINFO\u001b[1m]\u001b[0m Generating \u001b[1;36m1\u001b[0m initial design points \u001b[1m(\u001b[0mbatch \u001b[1;36m5\u001b[0m/\u001b[1;36m10\u001b[0m\u001b[1m)\u001b[0m\n"
      ]
     },
     "metadata": {},
     "output_type": "display_data"
    },
    {
     "name": "stdout",
     "output_type": "stream",
     "text": [
      "Time: 0.004999876022338867s\n",
      "SAMPLE :  ParamVector(s = 0.1, organic = hydroxylammonium, cation = Ge, anion = Br)\n",
      "MEASUREMENT :  1.6643\n",
      "\n",
      "RUN : 1/10\tITER : 6\tCOST : 1.4000000000000004\n",
      "\n"
     ]
    },
    {
     "data": {
      "text/html": [
       "<pre style=\"white-space:pre;overflow-x:auto;line-height:normal;font-family:Menlo,'DejaVu Sans Mono',consolas,'Courier New',monospace\"><span style=\"color: #f4a261; text-decoration-color: #f4a261\">ATLAS </span><span style=\"color: #f4a261; text-decoration-color: #f4a261; font-weight: bold\">[</span><span style=\"color: #f4a261; text-decoration-color: #f4a261\">WARNING</span><span style=\"color: #f4a261; text-decoration-color: #f4a261; font-weight: bold\">]</span><span style=\"color: #f4a261; text-decoration-color: #f4a261\"> Setting ask fidelity level to </span><span style=\"color: #008080; text-decoration-color: #008080; font-weight: bold\">0.1</span>\n",
       "</pre>\n"
      ],
      "text/plain": [
       "\u001b[38;2;244;162;97mATLAS \u001b[0m\u001b[1;38;2;244;162;97m[\u001b[0m\u001b[38;2;244;162;97mWARNING\u001b[0m\u001b[1;38;2;244;162;97m]\u001b[0m\u001b[38;2;244;162;97m Setting ask fidelity level to \u001b[0m\u001b[1;36m0.1\u001b[0m\n"
      ]
     },
     "metadata": {},
     "output_type": "display_data"
    },
    {
     "data": {
      "text/html": [
       "<pre style=\"white-space:pre;overflow-x:auto;line-height:normal;font-family:Menlo,'DejaVu Sans Mono',consolas,'Courier New',monospace\">ATLAS <span style=\"font-weight: bold\">[</span>INFO<span style=\"font-weight: bold\">]</span> Generating <span style=\"color: #008080; text-decoration-color: #008080; font-weight: bold\">1</span> initial design points <span style=\"font-weight: bold\">(</span>batch <span style=\"color: #008080; text-decoration-color: #008080; font-weight: bold\">6</span>/<span style=\"color: #008080; text-decoration-color: #008080; font-weight: bold\">10</span><span style=\"font-weight: bold\">)</span>\n",
       "</pre>\n"
      ],
      "text/plain": [
       "ATLAS \u001b[1m[\u001b[0mINFO\u001b[1m]\u001b[0m Generating \u001b[1;36m1\u001b[0m initial design points \u001b[1m(\u001b[0mbatch \u001b[1;36m6\u001b[0m/\u001b[1;36m10\u001b[0m\u001b[1m)\u001b[0m\n"
      ]
     },
     "metadata": {},
     "output_type": "display_data"
    },
    {
     "name": "stdout",
     "output_type": "stream",
     "text": [
      "Time: 0.004955768585205078s\n",
      "SAMPLE :  ParamVector(s = 0.1, organic = tetramethylammonium, cation = Ge, anion = Cl)\n",
      "MEASUREMENT :  3.5046\n",
      "\n",
      "RUN : 1/10\tITER : 7\tCOST : 1.5000000000000004\n",
      "\n"
     ]
    },
    {
     "data": {
      "text/html": [
       "<pre style=\"white-space:pre;overflow-x:auto;line-height:normal;font-family:Menlo,'DejaVu Sans Mono',consolas,'Courier New',monospace\"><span style=\"color: #f4a261; text-decoration-color: #f4a261\">ATLAS </span><span style=\"color: #f4a261; text-decoration-color: #f4a261; font-weight: bold\">[</span><span style=\"color: #f4a261; text-decoration-color: #f4a261\">WARNING</span><span style=\"color: #f4a261; text-decoration-color: #f4a261; font-weight: bold\">]</span><span style=\"color: #f4a261; text-decoration-color: #f4a261\"> Setting ask fidelity level to </span><span style=\"color: #008080; text-decoration-color: #008080; font-weight: bold\">0.1</span>\n",
       "</pre>\n"
      ],
      "text/plain": [
       "\u001b[38;2;244;162;97mATLAS \u001b[0m\u001b[1;38;2;244;162;97m[\u001b[0m\u001b[38;2;244;162;97mWARNING\u001b[0m\u001b[1;38;2;244;162;97m]\u001b[0m\u001b[38;2;244;162;97m Setting ask fidelity level to \u001b[0m\u001b[1;36m0.1\u001b[0m\n"
      ]
     },
     "metadata": {},
     "output_type": "display_data"
    },
    {
     "data": {
      "text/html": [
       "<pre style=\"white-space:pre;overflow-x:auto;line-height:normal;font-family:Menlo,'DejaVu Sans Mono',consolas,'Courier New',monospace\">ATLAS <span style=\"font-weight: bold\">[</span>INFO<span style=\"font-weight: bold\">]</span> Generating <span style=\"color: #008080; text-decoration-color: #008080; font-weight: bold\">1</span> initial design points <span style=\"font-weight: bold\">(</span>batch <span style=\"color: #008080; text-decoration-color: #008080; font-weight: bold\">7</span>/<span style=\"color: #008080; text-decoration-color: #008080; font-weight: bold\">10</span><span style=\"font-weight: bold\">)</span>\n",
       "</pre>\n"
      ],
      "text/plain": [
       "ATLAS \u001b[1m[\u001b[0mINFO\u001b[1m]\u001b[0m Generating \u001b[1;36m1\u001b[0m initial design points \u001b[1m(\u001b[0mbatch \u001b[1;36m7\u001b[0m/\u001b[1;36m10\u001b[0m\u001b[1m)\u001b[0m\n"
      ]
     },
     "metadata": {},
     "output_type": "display_data"
    },
    {
     "name": "stdout",
     "output_type": "stream",
     "text": [
      "Time: 0.00565791130065918s\n",
      "SAMPLE :  ParamVector(s = 0.1, organic = propylammonium, cation = Ge, anion = I)\n",
      "MEASUREMENT :  1.6555\n",
      "\n",
      "RUN : 1/10\tITER : 8\tCOST : 1.6000000000000005\n",
      "\n"
     ]
    },
    {
     "data": {
      "text/html": [
       "<pre style=\"white-space:pre;overflow-x:auto;line-height:normal;font-family:Menlo,'DejaVu Sans Mono',consolas,'Courier New',monospace\"><span style=\"color: #f4a261; text-decoration-color: #f4a261\">ATLAS </span><span style=\"color: #f4a261; text-decoration-color: #f4a261; font-weight: bold\">[</span><span style=\"color: #f4a261; text-decoration-color: #f4a261\">WARNING</span><span style=\"color: #f4a261; text-decoration-color: #f4a261; font-weight: bold\">]</span><span style=\"color: #f4a261; text-decoration-color: #f4a261\"> Setting ask fidelity level to </span><span style=\"color: #008080; text-decoration-color: #008080; font-weight: bold\">0.1</span>\n",
       "</pre>\n"
      ],
      "text/plain": [
       "\u001b[38;2;244;162;97mATLAS \u001b[0m\u001b[1;38;2;244;162;97m[\u001b[0m\u001b[38;2;244;162;97mWARNING\u001b[0m\u001b[1;38;2;244;162;97m]\u001b[0m\u001b[38;2;244;162;97m Setting ask fidelity level to \u001b[0m\u001b[1;36m0.1\u001b[0m\n"
      ]
     },
     "metadata": {},
     "output_type": "display_data"
    },
    {
     "data": {
      "text/html": [
       "<pre style=\"white-space:pre;overflow-x:auto;line-height:normal;font-family:Menlo,'DejaVu Sans Mono',consolas,'Courier New',monospace\">ATLAS <span style=\"font-weight: bold\">[</span>INFO<span style=\"font-weight: bold\">]</span> Generating <span style=\"color: #008080; text-decoration-color: #008080; font-weight: bold\">1</span> initial design points <span style=\"font-weight: bold\">(</span>batch <span style=\"color: #008080; text-decoration-color: #008080; font-weight: bold\">8</span>/<span style=\"color: #008080; text-decoration-color: #008080; font-weight: bold\">10</span><span style=\"font-weight: bold\">)</span>\n",
       "</pre>\n"
      ],
      "text/plain": [
       "ATLAS \u001b[1m[\u001b[0mINFO\u001b[1m]\u001b[0m Generating \u001b[1;36m1\u001b[0m initial design points \u001b[1m(\u001b[0mbatch \u001b[1;36m8\u001b[0m/\u001b[1;36m10\u001b[0m\u001b[1m)\u001b[0m\n"
      ]
     },
     "metadata": {},
     "output_type": "display_data"
    },
    {
     "name": "stdout",
     "output_type": "stream",
     "text": [
      "Time: 0.004777431488037109s\n",
      "SAMPLE :  ParamVector(s = 0.1, organic = dimethylammonium, cation = Pb, anion = F)\n",
      "MEASUREMENT :  3.9164\n",
      "\n",
      "RUN : 1/10\tITER : 9\tCOST : 1.7000000000000002\n",
      "\n"
     ]
    },
    {
     "data": {
      "text/html": [
       "<pre style=\"white-space:pre;overflow-x:auto;line-height:normal;font-family:Menlo,'DejaVu Sans Mono',consolas,'Courier New',monospace\"><span style=\"color: #f4a261; text-decoration-color: #f4a261\">ATLAS </span><span style=\"color: #f4a261; text-decoration-color: #f4a261; font-weight: bold\">[</span><span style=\"color: #f4a261; text-decoration-color: #f4a261\">WARNING</span><span style=\"color: #f4a261; text-decoration-color: #f4a261; font-weight: bold\">]</span><span style=\"color: #f4a261; text-decoration-color: #f4a261\"> Setting ask fidelity level to </span><span style=\"color: #008080; text-decoration-color: #008080; font-weight: bold\">1.0</span>\n",
       "</pre>\n"
      ],
      "text/plain": [
       "\u001b[38;2;244;162;97mATLAS \u001b[0m\u001b[1;38;2;244;162;97m[\u001b[0m\u001b[38;2;244;162;97mWARNING\u001b[0m\u001b[1;38;2;244;162;97m]\u001b[0m\u001b[38;2;244;162;97m Setting ask fidelity level to \u001b[0m\u001b[1;36m1.0\u001b[0m\n"
      ]
     },
     "metadata": {},
     "output_type": "display_data"
    },
    {
     "data": {
      "text/html": [
       "<pre style=\"white-space:pre;overflow-x:auto;line-height:normal;font-family:Menlo,'DejaVu Sans Mono',consolas,'Courier New',monospace\">ATLAS <span style=\"font-weight: bold\">[</span>INFO<span style=\"font-weight: bold\">]</span> Generating <span style=\"color: #008080; text-decoration-color: #008080; font-weight: bold\">1</span> initial design points <span style=\"font-weight: bold\">(</span>batch <span style=\"color: #008080; text-decoration-color: #008080; font-weight: bold\">9</span>/<span style=\"color: #008080; text-decoration-color: #008080; font-weight: bold\">10</span><span style=\"font-weight: bold\">)</span>\n",
       "</pre>\n"
      ],
      "text/plain": [
       "ATLAS \u001b[1m[\u001b[0mINFO\u001b[1m]\u001b[0m Generating \u001b[1;36m1\u001b[0m initial design points \u001b[1m(\u001b[0mbatch \u001b[1;36m9\u001b[0m/\u001b[1;36m10\u001b[0m\u001b[1m)\u001b[0m\n"
      ]
     },
     "metadata": {},
     "output_type": "display_data"
    },
    {
     "name": "stdout",
     "output_type": "stream",
     "text": [
      "Time: 0.005653858184814453s\n",
      "SAMPLE :  ParamVector(s = 1.0, organic = propylammonium, cation = Sn, anion = F)\n",
      "MEASUREMENT :  4.8004\n",
      "\n",
      "RUN : 1/10\tITER : 10\tCOST : 2.7\n",
      "\n"
     ]
    },
    {
     "data": {
      "text/html": [
       "<pre style=\"white-space:pre;overflow-x:auto;line-height:normal;font-family:Menlo,'DejaVu Sans Mono',consolas,'Courier New',monospace\"><span style=\"color: #f4a261; text-decoration-color: #f4a261\">ATLAS </span><span style=\"color: #f4a261; text-decoration-color: #f4a261; font-weight: bold\">[</span><span style=\"color: #f4a261; text-decoration-color: #f4a261\">WARNING</span><span style=\"color: #f4a261; text-decoration-color: #f4a261; font-weight: bold\">]</span><span style=\"color: #f4a261; text-decoration-color: #f4a261\"> Setting ask fidelity level to </span><span style=\"color: #008080; text-decoration-color: #008080; font-weight: bold\">0.1</span>\n",
       "</pre>\n"
      ],
      "text/plain": [
       "\u001b[38;2;244;162;97mATLAS \u001b[0m\u001b[1;38;2;244;162;97m[\u001b[0m\u001b[38;2;244;162;97mWARNING\u001b[0m\u001b[1;38;2;244;162;97m]\u001b[0m\u001b[38;2;244;162;97m Setting ask fidelity level to \u001b[0m\u001b[1;36m0.1\u001b[0m\n"
      ]
     },
     "metadata": {},
     "output_type": "display_data"
    },
    {
     "data": {
      "text/html": [
       "<pre style=\"white-space:pre;overflow-x:auto;line-height:normal;font-family:Menlo,'DejaVu Sans Mono',consolas,'Courier New',monospace\">ATLAS <span style=\"font-weight: bold\">[</span>INFO<span style=\"font-weight: bold\">]</span> Generating <span style=\"color: #008080; text-decoration-color: #008080; font-weight: bold\">1</span> initial design points <span style=\"font-weight: bold\">(</span>batch <span style=\"color: #008080; text-decoration-color: #008080; font-weight: bold\">10</span>/<span style=\"color: #008080; text-decoration-color: #008080; font-weight: bold\">10</span><span style=\"font-weight: bold\">)</span>\n",
       "</pre>\n"
      ],
      "text/plain": [
       "ATLAS \u001b[1m[\u001b[0mINFO\u001b[1m]\u001b[0m Generating \u001b[1;36m1\u001b[0m initial design points \u001b[1m(\u001b[0mbatch \u001b[1;36m10\u001b[0m/\u001b[1;36m10\u001b[0m\u001b[1m)\u001b[0m\n"
      ]
     },
     "metadata": {},
     "output_type": "display_data"
    },
    {
     "name": "stdout",
     "output_type": "stream",
     "text": [
      "Time: 0.005392789840698242s\n",
      "SAMPLE :  ParamVector(s = 0.1, organic = methylammonium, cation = Sn, anion = F)\n",
      "MEASUREMENT :  3.2677\n",
      "\n",
      "RUN : 1/10\tITER : 11\tCOST : 2.8000000000000003\n",
      "\n"
     ]
    },
    {
     "data": {
      "text/html": [
       "<pre style=\"white-space:pre;overflow-x:auto;line-height:normal;font-family:Menlo,'DejaVu Sans Mono',consolas,'Courier New',monospace\"><span style=\"color: #f4a261; text-decoration-color: #f4a261\">ATLAS </span><span style=\"color: #f4a261; text-decoration-color: #f4a261; font-weight: bold\">[</span><span style=\"color: #f4a261; text-decoration-color: #f4a261\">WARNING</span><span style=\"color: #f4a261; text-decoration-color: #f4a261; font-weight: bold\">]</span><span style=\"color: #f4a261; text-decoration-color: #f4a261\"> Setting ask fidelity level to </span><span style=\"color: #008080; text-decoration-color: #008080; font-weight: bold\">0.1</span>\n",
       "</pre>\n"
      ],
      "text/plain": [
       "\u001b[38;2;244;162;97mATLAS \u001b[0m\u001b[1;38;2;244;162;97m[\u001b[0m\u001b[38;2;244;162;97mWARNING\u001b[0m\u001b[1;38;2;244;162;97m]\u001b[0m\u001b[38;2;244;162;97m Setting ask fidelity level to \u001b[0m\u001b[1;36m0.1\u001b[0m\n"
      ]
     },
     "metadata": {},
     "output_type": "display_data"
    },
    {
     "data": {
      "text/html": [
       "<pre style=\"white-space:pre;overflow-x:auto;line-height:normal;font-family:Menlo,'DejaVu Sans Mono',consolas,'Courier New',monospace\"><span style=\"color: #05a6fb; text-decoration-color: #05a6fb\">───────────────────── Training regression surrogate model ──────────────────────</span>\n",
       "</pre>\n"
      ],
      "text/plain": [
       "\u001b[38;2;5;166;251m───────────────────── Training regression surrogate model ──────────────────────\u001b[0m\n"
      ]
     },
     "metadata": {},
     "output_type": "display_data"
    },
    {
     "name": "stderr",
     "output_type": "stream",
     "text": [
      "/users/k23070952/.local/lib/python3.9/site-packages/botorch/models/utils/assorted.py:174: InputDataWarning: Input data is not contained to the unit cube. Please consider min-max scaling the input data.\n",
      "  warnings.warn(msg, InputDataWarning)\n",
      "/users/k23070952/.local/lib/python3.9/site-packages/botorch/models/utils/assorted.py:202: InputDataWarning: Input data is not standardized (mean = tensor([-4.4409e-16]), std = tensor([1.0541])). Please consider scaling the input to zero mean and unit variance.\n",
      "  warnings.warn(msg, InputDataWarning)\n"
     ]
    },
    {
     "data": {
      "text/html": [
       "<pre style=\"white-space:pre;overflow-x:auto;line-height:normal;font-family:Menlo,'DejaVu Sans Mono',consolas,'Courier New',monospace\">ATLAS <span style=\"font-weight: bold\">[</span>INFO<span style=\"font-weight: bold\">]</span> Regression surrogate GP trained in <span style=\"color: #008080; text-decoration-color: #008080; font-weight: bold\">0.069</span> sec\n",
       "</pre>\n"
      ],
      "text/plain": [
       "ATLAS \u001b[1m[\u001b[0mINFO\u001b[1m]\u001b[0m Regression surrogate GP trained in \u001b[1;36m0.069\u001b[0m sec\n"
      ]
     },
     "metadata": {},
     "output_type": "display_data"
    },
    {
     "data": {
      "text/html": [
       "<pre style=\"white-space:pre;overflow-x:auto;line-height:normal;font-family:Menlo,'DejaVu Sans Mono',consolas,'Courier New',monospace\"><span style=\"color: #05a6fb; text-decoration-color: #05a6fb\">────────────────────── Acquisition function optimization ───────────────────────</span>\n",
       "</pre>\n"
      ],
      "text/plain": [
       "\u001b[38;2;5;166;251m────────────────────── Acquisition function optimization ───────────────────────\u001b[0m\n"
      ]
     },
     "metadata": {},
     "output_type": "display_data"
    },
    {
     "data": {
      "text/html": [
       "<pre style=\"white-space:pre;overflow-x:auto;line-height:normal;font-family:Menlo,'DejaVu Sans Mono',consolas,'Courier New',monospace\">ATLAS <span style=\"font-weight: bold\">[</span>INFO<span style=\"font-weight: bold\">]</span> Optimizing acquisition function with pymoo GA for <span style=\"color: #008080; text-decoration-color: #008080; font-weight: bold\">1</span> fixed parameters<span style=\"color: #808000; text-decoration-color: #808000\">...</span>\n",
       "</pre>\n"
      ],
      "text/plain": [
       "ATLAS \u001b[1m[\u001b[0mINFO\u001b[1m]\u001b[0m Optimizing acquisition function with pymoo GA for \u001b[1;36m1\u001b[0m fixed parameters\u001b[33m...\u001b[0m\n"
      ]
     },
     "metadata": {},
     "output_type": "display_data"
    },
    {
     "name": "stderr",
     "output_type": "stream",
     "text": [
      "/users/k23070952/.local/lib/python3.9/site-packages/botorch/models/gpytorch.py:477: BotorchTensorDimensionWarning: Non-strict enforcement of botorch tensor conventions. The following error would have been raised with strict enforcement: Expected X and Y to have the same number of dimensions (got X with dimension 3 and Y with dimension 4).\n",
      "  self._validate_tensor_args(X=X, Y=Y, Yvar=noise, strict=False)\n",
      "/users/k23070952/.local/lib/python3.9/site-packages/botorch/models/gpytorch.py:239: BotorchTensorDimensionWarning: Non-strict enforcement of botorch tensor conventions. The following error would have been raised with strict enforcement: Expected X and Y to have the same number of dimensions (got X with dimension 3 and Y with dimension 4).\n",
      "  self._validate_tensor_args(X=X, Y=Y, Yvar=Yvar, strict=False)\n",
      "/users/k23070952/.local/lib/python3.9/site-packages/pymoo/operators/repair/rounding.py:18: RuntimeWarning: invalid value encountered in cast\n",
      "  return np.around(X).astype(int)\n",
      "/users/k23070952/.local/lib/python3.9/site-packages/pymoo/operators/mutation/pm.py:44: RuntimeWarning: overflow encountered in power\n",
      "  val = 2.0 * rand + (1.0 - 2.0 * rand) * (np.power(xy, (eta + 1.0)))\n",
      "/users/k23070952/.local/lib/python3.9/site-packages/pymoo/operators/mutation/pm.py:49: RuntimeWarning: overflow encountered in power\n",
      "  val = 2.0 * (1.0 - rand) + 2.0 * (rand - 0.5) * (np.power(xy, (eta + 1.0)))\n"
     ]
    },
    {
     "name": "stdout",
     "output_type": "stream",
     "text": [
      "Time: 25.998584985733032s\n",
      "SAMPLE :  ParamVector(s = 0.1, organic = dimethylammonium, cation = Pb, anion = Cl)\n",
      "MEASUREMENT :  2.3908\n"
     ]
    },
    {
     "data": {
      "text/html": [
       "<pre style=\"white-space:pre;overflow-x:auto;line-height:normal;font-family:Menlo,'DejaVu Sans Mono',consolas,'Courier New',monospace\"><span style=\"color: #05a6fb; text-decoration-color: #05a6fb\">────────────────────── Acquisition function optimization ───────────────────────</span>\n",
       "</pre>\n"
      ],
      "text/plain": [
       "\u001b[38;2;5;166;251m────────────────────── Acquisition function optimization ───────────────────────\u001b[0m\n"
      ]
     },
     "metadata": {},
     "output_type": "display_data"
    },
    {
     "data": {
      "text/html": [
       "<pre style=\"white-space:pre;overflow-x:auto;line-height:normal;font-family:Menlo,'DejaVu Sans Mono',consolas,'Courier New',monospace\">ATLAS <span style=\"font-weight: bold\">[</span>INFO<span style=\"font-weight: bold\">]</span> Optimizing acquisition function with pymoo GA for <span style=\"color: #008080; text-decoration-color: #008080; font-weight: bold\">1</span> fixed parameters<span style=\"color: #808000; text-decoration-color: #808000\">...</span>\n",
       "</pre>\n"
      ],
      "text/plain": [
       "ATLAS \u001b[1m[\u001b[0mINFO\u001b[1m]\u001b[0m Optimizing acquisition function with pymoo GA for \u001b[1;36m1\u001b[0m fixed parameters\u001b[33m...\u001b[0m\n"
      ]
     },
     "metadata": {},
     "output_type": "display_data"
    },
    {
     "name": "stdout",
     "output_type": "stream",
     "text": [
      "\n",
      "REC SAMPLE :  ParamVector(s = 1.0, organic = imidazolium, cation = Sn, anion = F)\n",
      "REC MEASUREMENT :  3.985\n",
      "\n",
      "\n",
      "RUN : 1/10\tITER : 12\tCOST : 2.9000000000000004\n",
      "\n"
     ]
    },
    {
     "data": {
      "text/html": [
       "<pre style=\"white-space:pre;overflow-x:auto;line-height:normal;font-family:Menlo,'DejaVu Sans Mono',consolas,'Courier New',monospace\"><span style=\"color: #f4a261; text-decoration-color: #f4a261\">ATLAS </span><span style=\"color: #f4a261; text-decoration-color: #f4a261; font-weight: bold\">[</span><span style=\"color: #f4a261; text-decoration-color: #f4a261\">WARNING</span><span style=\"color: #f4a261; text-decoration-color: #f4a261; font-weight: bold\">]</span><span style=\"color: #f4a261; text-decoration-color: #f4a261\"> Setting ask fidelity level to </span><span style=\"color: #008080; text-decoration-color: #008080; font-weight: bold\">0.1</span>\n",
       "</pre>\n"
      ],
      "text/plain": [
       "\u001b[38;2;244;162;97mATLAS \u001b[0m\u001b[1;38;2;244;162;97m[\u001b[0m\u001b[38;2;244;162;97mWARNING\u001b[0m\u001b[1;38;2;244;162;97m]\u001b[0m\u001b[38;2;244;162;97m Setting ask fidelity level to \u001b[0m\u001b[1;36m0.1\u001b[0m\n"
      ]
     },
     "metadata": {},
     "output_type": "display_data"
    },
    {
     "data": {
      "text/html": [
       "<pre style=\"white-space:pre;overflow-x:auto;line-height:normal;font-family:Menlo,'DejaVu Sans Mono',consolas,'Courier New',monospace\"><span style=\"color: #05a6fb; text-decoration-color: #05a6fb\">───────────────────── Training regression surrogate model ──────────────────────</span>\n",
       "</pre>\n"
      ],
      "text/plain": [
       "\u001b[38;2;5;166;251m───────────────────── Training regression surrogate model ──────────────────────\u001b[0m\n"
      ]
     },
     "metadata": {},
     "output_type": "display_data"
    },
    {
     "name": "stderr",
     "output_type": "stream",
     "text": [
      "/users/k23070952/.local/lib/python3.9/site-packages/botorch/models/utils/assorted.py:174: InputDataWarning: Input data is not contained to the unit cube. Please consider min-max scaling the input data.\n",
      "  warnings.warn(msg, InputDataWarning)\n",
      "/users/k23070952/.local/lib/python3.9/site-packages/botorch/models/utils/assorted.py:202: InputDataWarning: Input data is not standardized (mean = tensor([-2.8260e-16]), std = tensor([1.0488])). Please consider scaling the input to zero mean and unit variance.\n",
      "  warnings.warn(msg, InputDataWarning)\n"
     ]
    },
    {
     "data": {
      "text/html": [
       "<pre style=\"white-space:pre;overflow-x:auto;line-height:normal;font-family:Menlo,'DejaVu Sans Mono',consolas,'Courier New',monospace\">ATLAS <span style=\"font-weight: bold\">[</span>INFO<span style=\"font-weight: bold\">]</span> Regression surrogate GP trained in <span style=\"color: #008080; text-decoration-color: #008080; font-weight: bold\">0.074</span> sec\n",
       "</pre>\n"
      ],
      "text/plain": [
       "ATLAS \u001b[1m[\u001b[0mINFO\u001b[1m]\u001b[0m Regression surrogate GP trained in \u001b[1;36m0.074\u001b[0m sec\n"
      ]
     },
     "metadata": {},
     "output_type": "display_data"
    },
    {
     "data": {
      "text/html": [
       "<pre style=\"white-space:pre;overflow-x:auto;line-height:normal;font-family:Menlo,'DejaVu Sans Mono',consolas,'Courier New',monospace\"><span style=\"color: #05a6fb; text-decoration-color: #05a6fb\">────────────────────── Acquisition function optimization ───────────────────────</span>\n",
       "</pre>\n"
      ],
      "text/plain": [
       "\u001b[38;2;5;166;251m────────────────────── Acquisition function optimization ───────────────────────\u001b[0m\n"
      ]
     },
     "metadata": {},
     "output_type": "display_data"
    },
    {
     "data": {
      "text/html": [
       "<pre style=\"white-space:pre;overflow-x:auto;line-height:normal;font-family:Menlo,'DejaVu Sans Mono',consolas,'Courier New',monospace\">ATLAS <span style=\"font-weight: bold\">[</span>INFO<span style=\"font-weight: bold\">]</span> Optimizing acquisition function with pymoo GA for <span style=\"color: #008080; text-decoration-color: #008080; font-weight: bold\">1</span> fixed parameters<span style=\"color: #808000; text-decoration-color: #808000\">...</span>\n",
       "</pre>\n"
      ],
      "text/plain": [
       "ATLAS \u001b[1m[\u001b[0mINFO\u001b[1m]\u001b[0m Optimizing acquisition function with pymoo GA for \u001b[1;36m1\u001b[0m fixed parameters\u001b[33m...\u001b[0m\n"
      ]
     },
     "metadata": {},
     "output_type": "display_data"
    },
    {
     "name": "stderr",
     "output_type": "stream",
     "text": [
      "/users/k23070952/.local/lib/python3.9/site-packages/botorch/models/gpytorch.py:477: BotorchTensorDimensionWarning: Non-strict enforcement of botorch tensor conventions. The following error would have been raised with strict enforcement: Expected X and Y to have the same number of dimensions (got X with dimension 3 and Y with dimension 4).\n",
      "  self._validate_tensor_args(X=X, Y=Y, Yvar=noise, strict=False)\n",
      "/users/k23070952/.local/lib/python3.9/site-packages/botorch/models/gpytorch.py:239: BotorchTensorDimensionWarning: Non-strict enforcement of botorch tensor conventions. The following error would have been raised with strict enforcement: Expected X and Y to have the same number of dimensions (got X with dimension 3 and Y with dimension 4).\n",
      "  self._validate_tensor_args(X=X, Y=Y, Yvar=Yvar, strict=False)\n",
      "/users/k23070952/.local/lib/python3.9/site-packages/pymoo/operators/repair/rounding.py:18: RuntimeWarning: invalid value encountered in cast\n",
      "  return np.around(X).astype(int)\n",
      "/users/k23070952/.local/lib/python3.9/site-packages/pymoo/operators/mutation/pm.py:44: RuntimeWarning: overflow encountered in power\n",
      "  val = 2.0 * rand + (1.0 - 2.0 * rand) * (np.power(xy, (eta + 1.0)))\n",
      "/users/k23070952/.local/lib/python3.9/site-packages/pymoo/operators/mutation/pm.py:49: RuntimeWarning: overflow encountered in power\n",
      "  val = 2.0 * (1.0 - rand) + 2.0 * (rand - 0.5) * (np.power(xy, (eta + 1.0)))\n"
     ]
    },
    {
     "name": "stdout",
     "output_type": "stream",
     "text": [
      "Time: 26.080373764038086s\n",
      "SAMPLE :  ParamVector(s = 0.1, organic = ammonium, cation = Sn, anion = F)\n",
      "MEASUREMENT :  3.8068\n"
     ]
    },
    {
     "data": {
      "text/html": [
       "<pre style=\"white-space:pre;overflow-x:auto;line-height:normal;font-family:Menlo,'DejaVu Sans Mono',consolas,'Courier New',monospace\"><span style=\"color: #05a6fb; text-decoration-color: #05a6fb\">────────────────────── Acquisition function optimization ───────────────────────</span>\n",
       "</pre>\n"
      ],
      "text/plain": [
       "\u001b[38;2;5;166;251m────────────────────── Acquisition function optimization ───────────────────────\u001b[0m\n"
      ]
     },
     "metadata": {},
     "output_type": "display_data"
    },
    {
     "data": {
      "text/html": [
       "<pre style=\"white-space:pre;overflow-x:auto;line-height:normal;font-family:Menlo,'DejaVu Sans Mono',consolas,'Courier New',monospace\">ATLAS <span style=\"font-weight: bold\">[</span>INFO<span style=\"font-weight: bold\">]</span> Optimizing acquisition function with pymoo GA for <span style=\"color: #008080; text-decoration-color: #008080; font-weight: bold\">1</span> fixed parameters<span style=\"color: #808000; text-decoration-color: #808000\">...</span>\n",
       "</pre>\n"
      ],
      "text/plain": [
       "ATLAS \u001b[1m[\u001b[0mINFO\u001b[1m]\u001b[0m Optimizing acquisition function with pymoo GA for \u001b[1;36m1\u001b[0m fixed parameters\u001b[33m...\u001b[0m\n"
      ]
     },
     "metadata": {},
     "output_type": "display_data"
    },
    {
     "name": "stdout",
     "output_type": "stream",
     "text": [
      "\n",
      "REC SAMPLE :  ParamVector(s = 1.0, organic = ammonium, cation = Ge, anion = Br)\n",
      "REC MEASUREMENT :  2.7559\n",
      "\n",
      "\n",
      "RUN : 1/10\tITER : 13\tCOST : 3.0000000000000004\n",
      "\n"
     ]
    },
    {
     "data": {
      "text/html": [
       "<pre style=\"white-space:pre;overflow-x:auto;line-height:normal;font-family:Menlo,'DejaVu Sans Mono',consolas,'Courier New',monospace\"><span style=\"color: #f4a261; text-decoration-color: #f4a261\">ATLAS </span><span style=\"color: #f4a261; text-decoration-color: #f4a261; font-weight: bold\">[</span><span style=\"color: #f4a261; text-decoration-color: #f4a261\">WARNING</span><span style=\"color: #f4a261; text-decoration-color: #f4a261; font-weight: bold\">]</span><span style=\"color: #f4a261; text-decoration-color: #f4a261\"> Setting ask fidelity level to </span><span style=\"color: #008080; text-decoration-color: #008080; font-weight: bold\">0.1</span>\n",
       "</pre>\n"
      ],
      "text/plain": [
       "\u001b[38;2;244;162;97mATLAS \u001b[0m\u001b[1;38;2;244;162;97m[\u001b[0m\u001b[38;2;244;162;97mWARNING\u001b[0m\u001b[1;38;2;244;162;97m]\u001b[0m\u001b[38;2;244;162;97m Setting ask fidelity level to \u001b[0m\u001b[1;36m0.1\u001b[0m\n"
      ]
     },
     "metadata": {},
     "output_type": "display_data"
    },
    {
     "data": {
      "text/html": [
       "<pre style=\"white-space:pre;overflow-x:auto;line-height:normal;font-family:Menlo,'DejaVu Sans Mono',consolas,'Courier New',monospace\"><span style=\"color: #05a6fb; text-decoration-color: #05a6fb\">───────────────────── Training regression surrogate model ──────────────────────</span>\n",
       "</pre>\n"
      ],
      "text/plain": [
       "\u001b[38;2;5;166;251m───────────────────── Training regression surrogate model ──────────────────────\u001b[0m\n"
      ]
     },
     "metadata": {},
     "output_type": "display_data"
    },
    {
     "name": "stderr",
     "output_type": "stream",
     "text": [
      "/users/k23070952/.local/lib/python3.9/site-packages/botorch/models/utils/assorted.py:174: InputDataWarning: Input data is not contained to the unit cube. Please consider min-max scaling the input data.\n",
      "  warnings.warn(msg, InputDataWarning)\n",
      "/users/k23070952/.local/lib/python3.9/site-packages/botorch/models/utils/assorted.py:202: InputDataWarning: Input data is not standardized (mean = tensor([-3.7007e-16]), std = tensor([1.0445])). Please consider scaling the input to zero mean and unit variance.\n",
      "  warnings.warn(msg, InputDataWarning)\n"
     ]
    },
    {
     "data": {
      "text/html": [
       "<pre style=\"white-space:pre;overflow-x:auto;line-height:normal;font-family:Menlo,'DejaVu Sans Mono',consolas,'Courier New',monospace\">ATLAS <span style=\"font-weight: bold\">[</span>INFO<span style=\"font-weight: bold\">]</span> Regression surrogate GP trained in <span style=\"color: #008080; text-decoration-color: #008080; font-weight: bold\">0.092</span> sec\n",
       "</pre>\n"
      ],
      "text/plain": [
       "ATLAS \u001b[1m[\u001b[0mINFO\u001b[1m]\u001b[0m Regression surrogate GP trained in \u001b[1;36m0.092\u001b[0m sec\n"
      ]
     },
     "metadata": {},
     "output_type": "display_data"
    },
    {
     "data": {
      "text/html": [
       "<pre style=\"white-space:pre;overflow-x:auto;line-height:normal;font-family:Menlo,'DejaVu Sans Mono',consolas,'Courier New',monospace\"><span style=\"color: #05a6fb; text-decoration-color: #05a6fb\">────────────────────── Acquisition function optimization ───────────────────────</span>\n",
       "</pre>\n"
      ],
      "text/plain": [
       "\u001b[38;2;5;166;251m────────────────────── Acquisition function optimization ───────────────────────\u001b[0m\n"
      ]
     },
     "metadata": {},
     "output_type": "display_data"
    },
    {
     "data": {
      "text/html": [
       "<pre style=\"white-space:pre;overflow-x:auto;line-height:normal;font-family:Menlo,'DejaVu Sans Mono',consolas,'Courier New',monospace\">ATLAS <span style=\"font-weight: bold\">[</span>INFO<span style=\"font-weight: bold\">]</span> Optimizing acquisition function with pymoo GA for <span style=\"color: #008080; text-decoration-color: #008080; font-weight: bold\">1</span> fixed parameters<span style=\"color: #808000; text-decoration-color: #808000\">...</span>\n",
       "</pre>\n"
      ],
      "text/plain": [
       "ATLAS \u001b[1m[\u001b[0mINFO\u001b[1m]\u001b[0m Optimizing acquisition function with pymoo GA for \u001b[1;36m1\u001b[0m fixed parameters\u001b[33m...\u001b[0m\n"
      ]
     },
     "metadata": {},
     "output_type": "display_data"
    },
    {
     "name": "stderr",
     "output_type": "stream",
     "text": [
      "/users/k23070952/.local/lib/python3.9/site-packages/botorch/models/gpytorch.py:477: BotorchTensorDimensionWarning: Non-strict enforcement of botorch tensor conventions. The following error would have been raised with strict enforcement: Expected X and Y to have the same number of dimensions (got X with dimension 3 and Y with dimension 4).\n",
      "  self._validate_tensor_args(X=X, Y=Y, Yvar=noise, strict=False)\n",
      "/users/k23070952/.local/lib/python3.9/site-packages/botorch/models/gpytorch.py:239: BotorchTensorDimensionWarning: Non-strict enforcement of botorch tensor conventions. The following error would have been raised with strict enforcement: Expected X and Y to have the same number of dimensions (got X with dimension 3 and Y with dimension 4).\n",
      "  self._validate_tensor_args(X=X, Y=Y, Yvar=Yvar, strict=False)\n",
      "/users/k23070952/.local/lib/python3.9/site-packages/pymoo/operators/repair/rounding.py:18: RuntimeWarning: invalid value encountered in cast\n",
      "  return np.around(X).astype(int)\n",
      "/users/k23070952/.local/lib/python3.9/site-packages/pymoo/operators/mutation/pm.py:44: RuntimeWarning: overflow encountered in power\n",
      "  val = 2.0 * rand + (1.0 - 2.0 * rand) * (np.power(xy, (eta + 1.0)))\n",
      "/users/k23070952/.local/lib/python3.9/site-packages/pymoo/operators/mutation/pm.py:49: RuntimeWarning: overflow encountered in power\n",
      "  val = 2.0 * (1.0 - rand) + 2.0 * (rand - 0.5) * (np.power(xy, (eta + 1.0)))\n"
     ]
    },
    {
     "name": "stdout",
     "output_type": "stream",
     "text": [
      "Time: 26.28024911880493s\n",
      "SAMPLE :  ParamVector(s = 0.1, organic = propylammonium, cation = Pb, anion = F)\n",
      "MEASUREMENT :  3.7495\n"
     ]
    },
    {
     "data": {
      "text/html": [
       "<pre style=\"white-space:pre;overflow-x:auto;line-height:normal;font-family:Menlo,'DejaVu Sans Mono',consolas,'Courier New',monospace\"><span style=\"color: #05a6fb; text-decoration-color: #05a6fb\">────────────────────── Acquisition function optimization ───────────────────────</span>\n",
       "</pre>\n"
      ],
      "text/plain": [
       "\u001b[38;2;5;166;251m────────────────────── Acquisition function optimization ───────────────────────\u001b[0m\n"
      ]
     },
     "metadata": {},
     "output_type": "display_data"
    },
    {
     "data": {
      "text/html": [
       "<pre style=\"white-space:pre;overflow-x:auto;line-height:normal;font-family:Menlo,'DejaVu Sans Mono',consolas,'Courier New',monospace\">ATLAS <span style=\"font-weight: bold\">[</span>INFO<span style=\"font-weight: bold\">]</span> Optimizing acquisition function with pymoo GA for <span style=\"color: #008080; text-decoration-color: #008080; font-weight: bold\">1</span> fixed parameters<span style=\"color: #808000; text-decoration-color: #808000\">...</span>\n",
       "</pre>\n"
      ],
      "text/plain": [
       "ATLAS \u001b[1m[\u001b[0mINFO\u001b[1m]\u001b[0m Optimizing acquisition function with pymoo GA for \u001b[1;36m1\u001b[0m fixed parameters\u001b[33m...\u001b[0m\n"
      ]
     },
     "metadata": {},
     "output_type": "display_data"
    },
    {
     "name": "stdout",
     "output_type": "stream",
     "text": [
      "\n",
      "REC SAMPLE :  ParamVector(s = 1.0, organic = hydrazinium, cation = Pb, anion = Cl)\n",
      "REC MEASUREMENT :  3.8474\n",
      "\n",
      "\n",
      "RUN : 1/10\tITER : 14\tCOST : 3.1000000000000005\n",
      "\n"
     ]
    },
    {
     "data": {
      "text/html": [
       "<pre style=\"white-space:pre;overflow-x:auto;line-height:normal;font-family:Menlo,'DejaVu Sans Mono',consolas,'Courier New',monospace\"><span style=\"color: #f4a261; text-decoration-color: #f4a261\">ATLAS </span><span style=\"color: #f4a261; text-decoration-color: #f4a261; font-weight: bold\">[</span><span style=\"color: #f4a261; text-decoration-color: #f4a261\">WARNING</span><span style=\"color: #f4a261; text-decoration-color: #f4a261; font-weight: bold\">]</span><span style=\"color: #f4a261; text-decoration-color: #f4a261\"> Setting ask fidelity level to </span><span style=\"color: #008080; text-decoration-color: #008080; font-weight: bold\">0.1</span>\n",
       "</pre>\n"
      ],
      "text/plain": [
       "\u001b[38;2;244;162;97mATLAS \u001b[0m\u001b[1;38;2;244;162;97m[\u001b[0m\u001b[38;2;244;162;97mWARNING\u001b[0m\u001b[1;38;2;244;162;97m]\u001b[0m\u001b[38;2;244;162;97m Setting ask fidelity level to \u001b[0m\u001b[1;36m0.1\u001b[0m\n"
      ]
     },
     "metadata": {},
     "output_type": "display_data"
    },
    {
     "data": {
      "text/html": [
       "<pre style=\"white-space:pre;overflow-x:auto;line-height:normal;font-family:Menlo,'DejaVu Sans Mono',consolas,'Courier New',monospace\"><span style=\"color: #05a6fb; text-decoration-color: #05a6fb\">───────────────────── Training regression surrogate model ──────────────────────</span>\n",
       "</pre>\n"
      ],
      "text/plain": [
       "\u001b[38;2;5;166;251m───────────────────── Training regression surrogate model ──────────────────────\u001b[0m\n"
      ]
     },
     "metadata": {},
     "output_type": "display_data"
    },
    {
     "name": "stderr",
     "output_type": "stream",
     "text": [
      "/users/k23070952/.local/lib/python3.9/site-packages/botorch/models/utils/assorted.py:174: InputDataWarning: Input data is not contained to the unit cube. Please consider min-max scaling the input data.\n",
      "  warnings.warn(msg, InputDataWarning)\n",
      "/users/k23070952/.local/lib/python3.9/site-packages/botorch/models/utils/assorted.py:202: InputDataWarning: Input data is not standardized (mean = tensor([3.4161e-17]), std = tensor([1.0408])). Please consider scaling the input to zero mean and unit variance.\n",
      "  warnings.warn(msg, InputDataWarning)\n"
     ]
    },
    {
     "data": {
      "text/html": [
       "<pre style=\"white-space:pre;overflow-x:auto;line-height:normal;font-family:Menlo,'DejaVu Sans Mono',consolas,'Courier New',monospace\">ATLAS <span style=\"font-weight: bold\">[</span>INFO<span style=\"font-weight: bold\">]</span> Regression surrogate GP trained in <span style=\"color: #008080; text-decoration-color: #008080; font-weight: bold\">0.092</span> sec\n",
       "</pre>\n"
      ],
      "text/plain": [
       "ATLAS \u001b[1m[\u001b[0mINFO\u001b[1m]\u001b[0m Regression surrogate GP trained in \u001b[1;36m0.092\u001b[0m sec\n"
      ]
     },
     "metadata": {},
     "output_type": "display_data"
    },
    {
     "data": {
      "text/html": [
       "<pre style=\"white-space:pre;overflow-x:auto;line-height:normal;font-family:Menlo,'DejaVu Sans Mono',consolas,'Courier New',monospace\"><span style=\"color: #05a6fb; text-decoration-color: #05a6fb\">────────────────────── Acquisition function optimization ───────────────────────</span>\n",
       "</pre>\n"
      ],
      "text/plain": [
       "\u001b[38;2;5;166;251m────────────────────── Acquisition function optimization ───────────────────────\u001b[0m\n"
      ]
     },
     "metadata": {},
     "output_type": "display_data"
    },
    {
     "data": {
      "text/html": [
       "<pre style=\"white-space:pre;overflow-x:auto;line-height:normal;font-family:Menlo,'DejaVu Sans Mono',consolas,'Courier New',monospace\">ATLAS <span style=\"font-weight: bold\">[</span>INFO<span style=\"font-weight: bold\">]</span> Optimizing acquisition function with pymoo GA for <span style=\"color: #008080; text-decoration-color: #008080; font-weight: bold\">1</span> fixed parameters<span style=\"color: #808000; text-decoration-color: #808000\">...</span>\n",
       "</pre>\n"
      ],
      "text/plain": [
       "ATLAS \u001b[1m[\u001b[0mINFO\u001b[1m]\u001b[0m Optimizing acquisition function with pymoo GA for \u001b[1;36m1\u001b[0m fixed parameters\u001b[33m...\u001b[0m\n"
      ]
     },
     "metadata": {},
     "output_type": "display_data"
    },
    {
     "name": "stderr",
     "output_type": "stream",
     "text": [
      "/users/k23070952/.local/lib/python3.9/site-packages/botorch/models/gpytorch.py:477: BotorchTensorDimensionWarning: Non-strict enforcement of botorch tensor conventions. The following error would have been raised with strict enforcement: Expected X and Y to have the same number of dimensions (got X with dimension 3 and Y with dimension 4).\n",
      "  self._validate_tensor_args(X=X, Y=Y, Yvar=noise, strict=False)\n",
      "/users/k23070952/.local/lib/python3.9/site-packages/botorch/models/gpytorch.py:239: BotorchTensorDimensionWarning: Non-strict enforcement of botorch tensor conventions. The following error would have been raised with strict enforcement: Expected X and Y to have the same number of dimensions (got X with dimension 3 and Y with dimension 4).\n",
      "  self._validate_tensor_args(X=X, Y=Y, Yvar=Yvar, strict=False)\n",
      "/users/k23070952/.local/lib/python3.9/site-packages/pymoo/operators/repair/rounding.py:18: RuntimeWarning: invalid value encountered in cast\n",
      "  return np.around(X).astype(int)\n",
      "/users/k23070952/.local/lib/python3.9/site-packages/pymoo/operators/mutation/pm.py:44: RuntimeWarning: overflow encountered in power\n",
      "  val = 2.0 * rand + (1.0 - 2.0 * rand) * (np.power(xy, (eta + 1.0)))\n",
      "/users/k23070952/.local/lib/python3.9/site-packages/pymoo/operators/mutation/pm.py:49: RuntimeWarning: overflow encountered in power\n",
      "  val = 2.0 * (1.0 - rand) + 2.0 * (rand - 0.5) * (np.power(xy, (eta + 1.0)))\n"
     ]
    },
    {
     "name": "stdout",
     "output_type": "stream",
     "text": [
      "Time: 25.929326057434082s\n",
      "SAMPLE :  ParamVector(s = 0.1, organic = acetamidinium, cation = Ge, anion = Cl)\n",
      "MEASUREMENT :  2.8878\n"
     ]
    },
    {
     "data": {
      "text/html": [
       "<pre style=\"white-space:pre;overflow-x:auto;line-height:normal;font-family:Menlo,'DejaVu Sans Mono',consolas,'Courier New',monospace\"><span style=\"color: #05a6fb; text-decoration-color: #05a6fb\">────────────────────── Acquisition function optimization ───────────────────────</span>\n",
       "</pre>\n"
      ],
      "text/plain": [
       "\u001b[38;2;5;166;251m────────────────────── Acquisition function optimization ───────────────────────\u001b[0m\n"
      ]
     },
     "metadata": {},
     "output_type": "display_data"
    },
    {
     "data": {
      "text/html": [
       "<pre style=\"white-space:pre;overflow-x:auto;line-height:normal;font-family:Menlo,'DejaVu Sans Mono',consolas,'Courier New',monospace\">ATLAS <span style=\"font-weight: bold\">[</span>INFO<span style=\"font-weight: bold\">]</span> Optimizing acquisition function with pymoo GA for <span style=\"color: #008080; text-decoration-color: #008080; font-weight: bold\">1</span> fixed parameters<span style=\"color: #808000; text-decoration-color: #808000\">...</span>\n",
       "</pre>\n"
      ],
      "text/plain": [
       "ATLAS \u001b[1m[\u001b[0mINFO\u001b[1m]\u001b[0m Optimizing acquisition function with pymoo GA for \u001b[1;36m1\u001b[0m fixed parameters\u001b[33m...\u001b[0m\n"
      ]
     },
     "metadata": {},
     "output_type": "display_data"
    },
    {
     "name": "stdout",
     "output_type": "stream",
     "text": [
      "\n",
      "REC SAMPLE :  ParamVector(s = 1.0, organic = ethylammonium, cation = Ge, anion = F)\n",
      "REC MEASUREMENT :  5.3704\n",
      "\n",
      "\n",
      "RUN : 1/10\tITER : 15\tCOST : 3.2000000000000006\n",
      "\n"
     ]
    },
    {
     "data": {
      "text/html": [
       "<pre style=\"white-space:pre;overflow-x:auto;line-height:normal;font-family:Menlo,'DejaVu Sans Mono',consolas,'Courier New',monospace\"><span style=\"color: #f4a261; text-decoration-color: #f4a261\">ATLAS </span><span style=\"color: #f4a261; text-decoration-color: #f4a261; font-weight: bold\">[</span><span style=\"color: #f4a261; text-decoration-color: #f4a261\">WARNING</span><span style=\"color: #f4a261; text-decoration-color: #f4a261; font-weight: bold\">]</span><span style=\"color: #f4a261; text-decoration-color: #f4a261\"> Setting ask fidelity level to </span><span style=\"color: #008080; text-decoration-color: #008080; font-weight: bold\">0.1</span>\n",
       "</pre>\n"
      ],
      "text/plain": [
       "\u001b[38;2;244;162;97mATLAS \u001b[0m\u001b[1;38;2;244;162;97m[\u001b[0m\u001b[38;2;244;162;97mWARNING\u001b[0m\u001b[1;38;2;244;162;97m]\u001b[0m\u001b[38;2;244;162;97m Setting ask fidelity level to \u001b[0m\u001b[1;36m0.1\u001b[0m\n"
      ]
     },
     "metadata": {},
     "output_type": "display_data"
    },
    {
     "data": {
      "text/html": [
       "<pre style=\"white-space:pre;overflow-x:auto;line-height:normal;font-family:Menlo,'DejaVu Sans Mono',consolas,'Courier New',monospace\"><span style=\"color: #05a6fb; text-decoration-color: #05a6fb\">───────────────────── Training regression surrogate model ──────────────────────</span>\n",
       "</pre>\n"
      ],
      "text/plain": [
       "\u001b[38;2;5;166;251m───────────────────── Training regression surrogate model ──────────────────────\u001b[0m\n"
      ]
     },
     "metadata": {},
     "output_type": "display_data"
    },
    {
     "name": "stderr",
     "output_type": "stream",
     "text": [
      "/users/k23070952/.local/lib/python3.9/site-packages/botorch/models/utils/assorted.py:174: InputDataWarning: Input data is not contained to the unit cube. Please consider min-max scaling the input data.\n",
      "  warnings.warn(msg, InputDataWarning)\n",
      "/users/k23070952/.local/lib/python3.9/site-packages/botorch/models/utils/assorted.py:202: InputDataWarning: Input data is not standardized (mean = tensor([-2.2204e-16]), std = tensor([1.0377])). Please consider scaling the input to zero mean and unit variance.\n",
      "  warnings.warn(msg, InputDataWarning)\n"
     ]
    },
    {
     "data": {
      "text/html": [
       "<pre style=\"white-space:pre;overflow-x:auto;line-height:normal;font-family:Menlo,'DejaVu Sans Mono',consolas,'Courier New',monospace\">ATLAS <span style=\"font-weight: bold\">[</span>INFO<span style=\"font-weight: bold\">]</span> Regression surrogate GP trained in <span style=\"color: #008080; text-decoration-color: #008080; font-weight: bold\">0.079</span> sec\n",
       "</pre>\n"
      ],
      "text/plain": [
       "ATLAS \u001b[1m[\u001b[0mINFO\u001b[1m]\u001b[0m Regression surrogate GP trained in \u001b[1;36m0.079\u001b[0m sec\n"
      ]
     },
     "metadata": {},
     "output_type": "display_data"
    },
    {
     "data": {
      "text/html": [
       "<pre style=\"white-space:pre;overflow-x:auto;line-height:normal;font-family:Menlo,'DejaVu Sans Mono',consolas,'Courier New',monospace\"><span style=\"color: #05a6fb; text-decoration-color: #05a6fb\">────────────────────── Acquisition function optimization ───────────────────────</span>\n",
       "</pre>\n"
      ],
      "text/plain": [
       "\u001b[38;2;5;166;251m────────────────────── Acquisition function optimization ───────────────────────\u001b[0m\n"
      ]
     },
     "metadata": {},
     "output_type": "display_data"
    },
    {
     "data": {
      "text/html": [
       "<pre style=\"white-space:pre;overflow-x:auto;line-height:normal;font-family:Menlo,'DejaVu Sans Mono',consolas,'Courier New',monospace\">ATLAS <span style=\"font-weight: bold\">[</span>INFO<span style=\"font-weight: bold\">]</span> Optimizing acquisition function with pymoo GA for <span style=\"color: #008080; text-decoration-color: #008080; font-weight: bold\">1</span> fixed parameters<span style=\"color: #808000; text-decoration-color: #808000\">...</span>\n",
       "</pre>\n"
      ],
      "text/plain": [
       "ATLAS \u001b[1m[\u001b[0mINFO\u001b[1m]\u001b[0m Optimizing acquisition function with pymoo GA for \u001b[1;36m1\u001b[0m fixed parameters\u001b[33m...\u001b[0m\n"
      ]
     },
     "metadata": {},
     "output_type": "display_data"
    },
    {
     "name": "stderr",
     "output_type": "stream",
     "text": [
      "/users/k23070952/.local/lib/python3.9/site-packages/botorch/models/gpytorch.py:477: BotorchTensorDimensionWarning: Non-strict enforcement of botorch tensor conventions. The following error would have been raised with strict enforcement: Expected X and Y to have the same number of dimensions (got X with dimension 3 and Y with dimension 4).\n",
      "  self._validate_tensor_args(X=X, Y=Y, Yvar=noise, strict=False)\n",
      "/users/k23070952/.local/lib/python3.9/site-packages/botorch/models/gpytorch.py:239: BotorchTensorDimensionWarning: Non-strict enforcement of botorch tensor conventions. The following error would have been raised with strict enforcement: Expected X and Y to have the same number of dimensions (got X with dimension 3 and Y with dimension 4).\n",
      "  self._validate_tensor_args(X=X, Y=Y, Yvar=Yvar, strict=False)\n",
      "/users/k23070952/.local/lib/python3.9/site-packages/pymoo/operators/repair/rounding.py:18: RuntimeWarning: invalid value encountered in cast\n",
      "  return np.around(X).astype(int)\n",
      "/users/k23070952/.local/lib/python3.9/site-packages/pymoo/operators/mutation/pm.py:44: RuntimeWarning: overflow encountered in power\n",
      "  val = 2.0 * rand + (1.0 - 2.0 * rand) * (np.power(xy, (eta + 1.0)))\n",
      "/users/k23070952/.local/lib/python3.9/site-packages/pymoo/operators/mutation/pm.py:49: RuntimeWarning: overflow encountered in power\n",
      "  val = 2.0 * (1.0 - rand) + 2.0 * (rand - 0.5) * (np.power(xy, (eta + 1.0)))\n"
     ]
    },
    {
     "name": "stdout",
     "output_type": "stream",
     "text": [
      "Time: 26.27401375770569s\n",
      "SAMPLE :  ParamVector(s = 0.1, organic = acetamidinium, cation = Ge, anion = I)\n",
      "MEASUREMENT :  1.6986\n"
     ]
    },
    {
     "data": {
      "text/html": [
       "<pre style=\"white-space:pre;overflow-x:auto;line-height:normal;font-family:Menlo,'DejaVu Sans Mono',consolas,'Courier New',monospace\"><span style=\"color: #05a6fb; text-decoration-color: #05a6fb\">────────────────────── Acquisition function optimization ───────────────────────</span>\n",
       "</pre>\n"
      ],
      "text/plain": [
       "\u001b[38;2;5;166;251m────────────────────── Acquisition function optimization ───────────────────────\u001b[0m\n"
      ]
     },
     "metadata": {},
     "output_type": "display_data"
    },
    {
     "data": {
      "text/html": [
       "<pre style=\"white-space:pre;overflow-x:auto;line-height:normal;font-family:Menlo,'DejaVu Sans Mono',consolas,'Courier New',monospace\">ATLAS <span style=\"font-weight: bold\">[</span>INFO<span style=\"font-weight: bold\">]</span> Optimizing acquisition function with pymoo GA for <span style=\"color: #008080; text-decoration-color: #008080; font-weight: bold\">1</span> fixed parameters<span style=\"color: #808000; text-decoration-color: #808000\">...</span>\n",
       "</pre>\n"
      ],
      "text/plain": [
       "ATLAS \u001b[1m[\u001b[0mINFO\u001b[1m]\u001b[0m Optimizing acquisition function with pymoo GA for \u001b[1;36m1\u001b[0m fixed parameters\u001b[33m...\u001b[0m\n"
      ]
     },
     "metadata": {},
     "output_type": "display_data"
    },
    {
     "name": "stdout",
     "output_type": "stream",
     "text": [
      "\n",
      "REC SAMPLE :  ParamVector(s = 1.0, organic = tetramethylammonium, cation = Ge, anion = Cl)\n",
      "REC MEASUREMENT :  4.4938\n",
      "\n",
      "\n",
      "RUN : 1/10\tITER : 16\tCOST : 3.3000000000000007\n",
      "\n"
     ]
    },
    {
     "data": {
      "text/html": [
       "<pre style=\"white-space:pre;overflow-x:auto;line-height:normal;font-family:Menlo,'DejaVu Sans Mono',consolas,'Courier New',monospace\"><span style=\"color: #f4a261; text-decoration-color: #f4a261\">ATLAS </span><span style=\"color: #f4a261; text-decoration-color: #f4a261; font-weight: bold\">[</span><span style=\"color: #f4a261; text-decoration-color: #f4a261\">WARNING</span><span style=\"color: #f4a261; text-decoration-color: #f4a261; font-weight: bold\">]</span><span style=\"color: #f4a261; text-decoration-color: #f4a261\"> Setting ask fidelity level to </span><span style=\"color: #008080; text-decoration-color: #008080; font-weight: bold\">0.1</span>\n",
       "</pre>\n"
      ],
      "text/plain": [
       "\u001b[38;2;244;162;97mATLAS \u001b[0m\u001b[1;38;2;244;162;97m[\u001b[0m\u001b[38;2;244;162;97mWARNING\u001b[0m\u001b[1;38;2;244;162;97m]\u001b[0m\u001b[38;2;244;162;97m Setting ask fidelity level to \u001b[0m\u001b[1;36m0.1\u001b[0m\n"
      ]
     },
     "metadata": {},
     "output_type": "display_data"
    },
    {
     "data": {
      "text/html": [
       "<pre style=\"white-space:pre;overflow-x:auto;line-height:normal;font-family:Menlo,'DejaVu Sans Mono',consolas,'Courier New',monospace\"><span style=\"color: #05a6fb; text-decoration-color: #05a6fb\">───────────────────── Training regression surrogate model ──────────────────────</span>\n",
       "</pre>\n"
      ],
      "text/plain": [
       "\u001b[38;2;5;166;251m───────────────────── Training regression surrogate model ──────────────────────\u001b[0m\n"
      ]
     },
     "metadata": {},
     "output_type": "display_data"
    },
    {
     "name": "stderr",
     "output_type": "stream",
     "text": [
      "/users/k23070952/.local/lib/python3.9/site-packages/botorch/models/utils/assorted.py:174: InputDataWarning: Input data is not contained to the unit cube. Please consider min-max scaling the input data.\n",
      "  warnings.warn(msg, InputDataWarning)\n",
      "/users/k23070952/.local/lib/python3.9/site-packages/botorch/models/utils/assorted.py:202: InputDataWarning: Input data is not standardized (mean = tensor([2.9606e-17]), std = tensor([1.0351])). Please consider scaling the input to zero mean and unit variance.\n",
      "  warnings.warn(msg, InputDataWarning)\n"
     ]
    },
    {
     "data": {
      "text/html": [
       "<pre style=\"white-space:pre;overflow-x:auto;line-height:normal;font-family:Menlo,'DejaVu Sans Mono',consolas,'Courier New',monospace\">ATLAS <span style=\"font-weight: bold\">[</span>INFO<span style=\"font-weight: bold\">]</span> Regression surrogate GP trained in <span style=\"color: #008080; text-decoration-color: #008080; font-weight: bold\">0.088</span> sec\n",
       "</pre>\n"
      ],
      "text/plain": [
       "ATLAS \u001b[1m[\u001b[0mINFO\u001b[1m]\u001b[0m Regression surrogate GP trained in \u001b[1;36m0.088\u001b[0m sec\n"
      ]
     },
     "metadata": {},
     "output_type": "display_data"
    },
    {
     "data": {
      "text/html": [
       "<pre style=\"white-space:pre;overflow-x:auto;line-height:normal;font-family:Menlo,'DejaVu Sans Mono',consolas,'Courier New',monospace\"><span style=\"color: #05a6fb; text-decoration-color: #05a6fb\">────────────────────── Acquisition function optimization ───────────────────────</span>\n",
       "</pre>\n"
      ],
      "text/plain": [
       "\u001b[38;2;5;166;251m────────────────────── Acquisition function optimization ───────────────────────\u001b[0m\n"
      ]
     },
     "metadata": {},
     "output_type": "display_data"
    },
    {
     "data": {
      "text/html": [
       "<pre style=\"white-space:pre;overflow-x:auto;line-height:normal;font-family:Menlo,'DejaVu Sans Mono',consolas,'Courier New',monospace\">ATLAS <span style=\"font-weight: bold\">[</span>INFO<span style=\"font-weight: bold\">]</span> Optimizing acquisition function with pymoo GA for <span style=\"color: #008080; text-decoration-color: #008080; font-weight: bold\">1</span> fixed parameters<span style=\"color: #808000; text-decoration-color: #808000\">...</span>\n",
       "</pre>\n"
      ],
      "text/plain": [
       "ATLAS \u001b[1m[\u001b[0mINFO\u001b[1m]\u001b[0m Optimizing acquisition function with pymoo GA for \u001b[1;36m1\u001b[0m fixed parameters\u001b[33m...\u001b[0m\n"
      ]
     },
     "metadata": {},
     "output_type": "display_data"
    },
    {
     "name": "stderr",
     "output_type": "stream",
     "text": [
      "/users/k23070952/.local/lib/python3.9/site-packages/botorch/models/gpytorch.py:477: BotorchTensorDimensionWarning: Non-strict enforcement of botorch tensor conventions. The following error would have been raised with strict enforcement: Expected X and Y to have the same number of dimensions (got X with dimension 3 and Y with dimension 4).\n",
      "  self._validate_tensor_args(X=X, Y=Y, Yvar=noise, strict=False)\n",
      "/users/k23070952/.local/lib/python3.9/site-packages/botorch/models/gpytorch.py:239: BotorchTensorDimensionWarning: Non-strict enforcement of botorch tensor conventions. The following error would have been raised with strict enforcement: Expected X and Y to have the same number of dimensions (got X with dimension 3 and Y with dimension 4).\n",
      "  self._validate_tensor_args(X=X, Y=Y, Yvar=Yvar, strict=False)\n",
      "/users/k23070952/.local/lib/python3.9/site-packages/pymoo/operators/repair/rounding.py:18: RuntimeWarning: invalid value encountered in cast\n",
      "  return np.around(X).astype(int)\n",
      "/users/k23070952/.local/lib/python3.9/site-packages/pymoo/operators/mutation/pm.py:44: RuntimeWarning: overflow encountered in power\n",
      "  val = 2.0 * rand + (1.0 - 2.0 * rand) * (np.power(xy, (eta + 1.0)))\n",
      "/users/k23070952/.local/lib/python3.9/site-packages/pymoo/operators/mutation/pm.py:49: RuntimeWarning: overflow encountered in power\n",
      "  val = 2.0 * (1.0 - rand) + 2.0 * (rand - 0.5) * (np.power(xy, (eta + 1.0)))\n"
     ]
    },
    {
     "name": "stdout",
     "output_type": "stream",
     "text": [
      "Time: 26.188774347305298s\n",
      "SAMPLE :  ParamVector(s = 0.1, organic = imidazolium, cation = Pb, anion = Br)\n",
      "MEASUREMENT :  2.0313\n"
     ]
    },
    {
     "data": {
      "text/html": [
       "<pre style=\"white-space:pre;overflow-x:auto;line-height:normal;font-family:Menlo,'DejaVu Sans Mono',consolas,'Courier New',monospace\"><span style=\"color: #05a6fb; text-decoration-color: #05a6fb\">────────────────────── Acquisition function optimization ───────────────────────</span>\n",
       "</pre>\n"
      ],
      "text/plain": [
       "\u001b[38;2;5;166;251m────────────────────── Acquisition function optimization ───────────────────────\u001b[0m\n"
      ]
     },
     "metadata": {},
     "output_type": "display_data"
    },
    {
     "data": {
      "text/html": [
       "<pre style=\"white-space:pre;overflow-x:auto;line-height:normal;font-family:Menlo,'DejaVu Sans Mono',consolas,'Courier New',monospace\">ATLAS <span style=\"font-weight: bold\">[</span>INFO<span style=\"font-weight: bold\">]</span> Optimizing acquisition function with pymoo GA for <span style=\"color: #008080; text-decoration-color: #008080; font-weight: bold\">1</span> fixed parameters<span style=\"color: #808000; text-decoration-color: #808000\">...</span>\n",
       "</pre>\n"
      ],
      "text/plain": [
       "ATLAS \u001b[1m[\u001b[0mINFO\u001b[1m]\u001b[0m Optimizing acquisition function with pymoo GA for \u001b[1;36m1\u001b[0m fixed parameters\u001b[33m...\u001b[0m\n"
      ]
     },
     "metadata": {},
     "output_type": "display_data"
    },
    {
     "name": "stdout",
     "output_type": "stream",
     "text": [
      "\n",
      "REC SAMPLE :  ParamVector(s = 1.0, organic = butylammonium, cation = Pb, anion = I)\n",
      "REC MEASUREMENT :  2.7329\n",
      "\n",
      "\n",
      "RUN : 1/10\tITER : 17\tCOST : 3.4000000000000004\n",
      "\n"
     ]
    },
    {
     "data": {
      "text/html": [
       "<pre style=\"white-space:pre;overflow-x:auto;line-height:normal;font-family:Menlo,'DejaVu Sans Mono',consolas,'Courier New',monospace\"><span style=\"color: #f4a261; text-decoration-color: #f4a261\">ATLAS </span><span style=\"color: #f4a261; text-decoration-color: #f4a261; font-weight: bold\">[</span><span style=\"color: #f4a261; text-decoration-color: #f4a261\">WARNING</span><span style=\"color: #f4a261; text-decoration-color: #f4a261; font-weight: bold\">]</span><span style=\"color: #f4a261; text-decoration-color: #f4a261\"> Setting ask fidelity level to </span><span style=\"color: #008080; text-decoration-color: #008080; font-weight: bold\">1.0</span>\n",
       "</pre>\n"
      ],
      "text/plain": [
       "\u001b[38;2;244;162;97mATLAS \u001b[0m\u001b[1;38;2;244;162;97m[\u001b[0m\u001b[38;2;244;162;97mWARNING\u001b[0m\u001b[1;38;2;244;162;97m]\u001b[0m\u001b[38;2;244;162;97m Setting ask fidelity level to \u001b[0m\u001b[1;36m1.0\u001b[0m\n"
      ]
     },
     "metadata": {},
     "output_type": "display_data"
    },
    {
     "data": {
      "text/html": [
       "<pre style=\"white-space:pre;overflow-x:auto;line-height:normal;font-family:Menlo,'DejaVu Sans Mono',consolas,'Courier New',monospace\"><span style=\"color: #05a6fb; text-decoration-color: #05a6fb\">───────────────────── Training regression surrogate model ──────────────────────</span>\n",
       "</pre>\n"
      ],
      "text/plain": [
       "\u001b[38;2;5;166;251m───────────────────── Training regression surrogate model ──────────────────────\u001b[0m\n"
      ]
     },
     "metadata": {},
     "output_type": "display_data"
    },
    {
     "name": "stderr",
     "output_type": "stream",
     "text": [
      "/users/k23070952/.local/lib/python3.9/site-packages/botorch/models/utils/assorted.py:174: InputDataWarning: Input data is not contained to the unit cube. Please consider min-max scaling the input data.\n",
      "  warnings.warn(msg, InputDataWarning)\n",
      "/users/k23070952/.local/lib/python3.9/site-packages/botorch/models/utils/assorted.py:202: InputDataWarning: Input data is not standardized (mean = tensor([-4.9960e-16]), std = tensor([1.0328])). Please consider scaling the input to zero mean and unit variance.\n",
      "  warnings.warn(msg, InputDataWarning)\n"
     ]
    },
    {
     "data": {
      "text/html": [
       "<pre style=\"white-space:pre;overflow-x:auto;line-height:normal;font-family:Menlo,'DejaVu Sans Mono',consolas,'Courier New',monospace\">ATLAS <span style=\"font-weight: bold\">[</span>INFO<span style=\"font-weight: bold\">]</span> Regression surrogate GP trained in <span style=\"color: #008080; text-decoration-color: #008080; font-weight: bold\">0.097</span> sec\n",
       "</pre>\n"
      ],
      "text/plain": [
       "ATLAS \u001b[1m[\u001b[0mINFO\u001b[1m]\u001b[0m Regression surrogate GP trained in \u001b[1;36m0.097\u001b[0m sec\n"
      ]
     },
     "metadata": {},
     "output_type": "display_data"
    },
    {
     "data": {
      "text/html": [
       "<pre style=\"white-space:pre;overflow-x:auto;line-height:normal;font-family:Menlo,'DejaVu Sans Mono',consolas,'Courier New',monospace\"><span style=\"color: #05a6fb; text-decoration-color: #05a6fb\">────────────────────── Acquisition function optimization ───────────────────────</span>\n",
       "</pre>\n"
      ],
      "text/plain": [
       "\u001b[38;2;5;166;251m────────────────────── Acquisition function optimization ───────────────────────\u001b[0m\n"
      ]
     },
     "metadata": {},
     "output_type": "display_data"
    },
    {
     "data": {
      "text/html": [
       "<pre style=\"white-space:pre;overflow-x:auto;line-height:normal;font-family:Menlo,'DejaVu Sans Mono',consolas,'Courier New',monospace\">ATLAS <span style=\"font-weight: bold\">[</span>INFO<span style=\"font-weight: bold\">]</span> Optimizing acquisition function with pymoo GA for <span style=\"color: #008080; text-decoration-color: #008080; font-weight: bold\">1</span> fixed parameters<span style=\"color: #808000; text-decoration-color: #808000\">...</span>\n",
       "</pre>\n"
      ],
      "text/plain": [
       "ATLAS \u001b[1m[\u001b[0mINFO\u001b[1m]\u001b[0m Optimizing acquisition function with pymoo GA for \u001b[1;36m1\u001b[0m fixed parameters\u001b[33m...\u001b[0m\n"
      ]
     },
     "metadata": {},
     "output_type": "display_data"
    },
    {
     "name": "stderr",
     "output_type": "stream",
     "text": [
      "/users/k23070952/.local/lib/python3.9/site-packages/botorch/models/gpytorch.py:477: BotorchTensorDimensionWarning: Non-strict enforcement of botorch tensor conventions. The following error would have been raised with strict enforcement: Expected X and Y to have the same number of dimensions (got X with dimension 3 and Y with dimension 4).\n",
      "  self._validate_tensor_args(X=X, Y=Y, Yvar=noise, strict=False)\n",
      "/users/k23070952/.local/lib/python3.9/site-packages/botorch/models/gpytorch.py:239: BotorchTensorDimensionWarning: Non-strict enforcement of botorch tensor conventions. The following error would have been raised with strict enforcement: Expected X and Y to have the same number of dimensions (got X with dimension 3 and Y with dimension 4).\n",
      "  self._validate_tensor_args(X=X, Y=Y, Yvar=Yvar, strict=False)\n",
      "/users/k23070952/.local/lib/python3.9/site-packages/pymoo/operators/repair/rounding.py:18: RuntimeWarning: invalid value encountered in cast\n",
      "  return np.around(X).astype(int)\n",
      "/users/k23070952/.local/lib/python3.9/site-packages/pymoo/operators/mutation/pm.py:44: RuntimeWarning: overflow encountered in power\n",
      "  val = 2.0 * rand + (1.0 - 2.0 * rand) * (np.power(xy, (eta + 1.0)))\n",
      "/users/k23070952/.local/lib/python3.9/site-packages/pymoo/operators/mutation/pm.py:49: RuntimeWarning: overflow encountered in power\n",
      "  val = 2.0 * (1.0 - rand) + 2.0 * (rand - 0.5) * (np.power(xy, (eta + 1.0)))\n"
     ]
    },
    {
     "name": "stdout",
     "output_type": "stream",
     "text": [
      "Time: 26.406298398971558s\n",
      "SAMPLE :  ParamVector(s = 1.0, organic = hydroxylammonium, cation = Ge, anion = F)\n",
      "MEASUREMENT :  5.4104\n"
     ]
    },
    {
     "data": {
      "text/html": [
       "<pre style=\"white-space:pre;overflow-x:auto;line-height:normal;font-family:Menlo,'DejaVu Sans Mono',consolas,'Courier New',monospace\"><span style=\"color: #05a6fb; text-decoration-color: #05a6fb\">────────────────────── Acquisition function optimization ───────────────────────</span>\n",
       "</pre>\n"
      ],
      "text/plain": [
       "\u001b[38;2;5;166;251m────────────────────── Acquisition function optimization ───────────────────────\u001b[0m\n"
      ]
     },
     "metadata": {},
     "output_type": "display_data"
    },
    {
     "data": {
      "text/html": [
       "<pre style=\"white-space:pre;overflow-x:auto;line-height:normal;font-family:Menlo,'DejaVu Sans Mono',consolas,'Courier New',monospace\">ATLAS <span style=\"font-weight: bold\">[</span>INFO<span style=\"font-weight: bold\">]</span> Optimizing acquisition function with pymoo GA for <span style=\"color: #008080; text-decoration-color: #008080; font-weight: bold\">1</span> fixed parameters<span style=\"color: #808000; text-decoration-color: #808000\">...</span>\n",
       "</pre>\n"
      ],
      "text/plain": [
       "ATLAS \u001b[1m[\u001b[0mINFO\u001b[1m]\u001b[0m Optimizing acquisition function with pymoo GA for \u001b[1;36m1\u001b[0m fixed parameters\u001b[33m...\u001b[0m\n"
      ]
     },
     "metadata": {},
     "output_type": "display_data"
    },
    {
     "name": "stdout",
     "output_type": "stream",
     "text": [
      "\n",
      "REC SAMPLE :  ParamVector(s = 1.0, organic = butylammonium, cation = Ge, anion = F)\n",
      "REC MEASUREMENT :  5.5517\n",
      "\n",
      "\n",
      "RUN : 1/10\tITER : 18\tCOST : 4.4\n",
      "\n"
     ]
    },
    {
     "data": {
      "text/html": [
       "<pre style=\"white-space:pre;overflow-x:auto;line-height:normal;font-family:Menlo,'DejaVu Sans Mono',consolas,'Courier New',monospace\"><span style=\"color: #f4a261; text-decoration-color: #f4a261\">ATLAS </span><span style=\"color: #f4a261; text-decoration-color: #f4a261; font-weight: bold\">[</span><span style=\"color: #f4a261; text-decoration-color: #f4a261\">WARNING</span><span style=\"color: #f4a261; text-decoration-color: #f4a261; font-weight: bold\">]</span><span style=\"color: #f4a261; text-decoration-color: #f4a261\"> Setting ask fidelity level to </span><span style=\"color: #008080; text-decoration-color: #008080; font-weight: bold\">0.1</span>\n",
       "</pre>\n"
      ],
      "text/plain": [
       "\u001b[38;2;244;162;97mATLAS \u001b[0m\u001b[1;38;2;244;162;97m[\u001b[0m\u001b[38;2;244;162;97mWARNING\u001b[0m\u001b[1;38;2;244;162;97m]\u001b[0m\u001b[38;2;244;162;97m Setting ask fidelity level to \u001b[0m\u001b[1;36m0.1\u001b[0m\n"
      ]
     },
     "metadata": {},
     "output_type": "display_data"
    },
    {
     "data": {
      "text/html": [
       "<pre style=\"white-space:pre;overflow-x:auto;line-height:normal;font-family:Menlo,'DejaVu Sans Mono',consolas,'Courier New',monospace\"><span style=\"color: #05a6fb; text-decoration-color: #05a6fb\">───────────────────── Training regression surrogate model ──────────────────────</span>\n",
       "</pre>\n"
      ],
      "text/plain": [
       "\u001b[38;2;5;166;251m───────────────────── Training regression surrogate model ──────────────────────\u001b[0m\n"
      ]
     },
     "metadata": {},
     "output_type": "display_data"
    },
    {
     "name": "stderr",
     "output_type": "stream",
     "text": [
      "/users/k23070952/.local/lib/python3.9/site-packages/botorch/models/utils/assorted.py:174: InputDataWarning: Input data is not contained to the unit cube. Please consider min-max scaling the input data.\n",
      "  warnings.warn(msg, InputDataWarning)\n",
      "/users/k23070952/.local/lib/python3.9/site-packages/botorch/models/utils/assorted.py:202: InputDataWarning: Input data is not standardized (mean = tensor([-4.7021e-16]), std = tensor([1.0308])). Please consider scaling the input to zero mean and unit variance.\n",
      "  warnings.warn(msg, InputDataWarning)\n"
     ]
    },
    {
     "data": {
      "text/html": [
       "<pre style=\"white-space:pre;overflow-x:auto;line-height:normal;font-family:Menlo,'DejaVu Sans Mono',consolas,'Courier New',monospace\">ATLAS <span style=\"font-weight: bold\">[</span>INFO<span style=\"font-weight: bold\">]</span> Regression surrogate GP trained in <span style=\"color: #008080; text-decoration-color: #008080; font-weight: bold\">0.097</span> sec\n",
       "</pre>\n"
      ],
      "text/plain": [
       "ATLAS \u001b[1m[\u001b[0mINFO\u001b[1m]\u001b[0m Regression surrogate GP trained in \u001b[1;36m0.097\u001b[0m sec\n"
      ]
     },
     "metadata": {},
     "output_type": "display_data"
    },
    {
     "data": {
      "text/html": [
       "<pre style=\"white-space:pre;overflow-x:auto;line-height:normal;font-family:Menlo,'DejaVu Sans Mono',consolas,'Courier New',monospace\"><span style=\"color: #05a6fb; text-decoration-color: #05a6fb\">────────────────────── Acquisition function optimization ───────────────────────</span>\n",
       "</pre>\n"
      ],
      "text/plain": [
       "\u001b[38;2;5;166;251m────────────────────── Acquisition function optimization ───────────────────────\u001b[0m\n"
      ]
     },
     "metadata": {},
     "output_type": "display_data"
    },
    {
     "data": {
      "text/html": [
       "<pre style=\"white-space:pre;overflow-x:auto;line-height:normal;font-family:Menlo,'DejaVu Sans Mono',consolas,'Courier New',monospace\">ATLAS <span style=\"font-weight: bold\">[</span>INFO<span style=\"font-weight: bold\">]</span> Optimizing acquisition function with pymoo GA for <span style=\"color: #008080; text-decoration-color: #008080; font-weight: bold\">1</span> fixed parameters<span style=\"color: #808000; text-decoration-color: #808000\">...</span>\n",
       "</pre>\n"
      ],
      "text/plain": [
       "ATLAS \u001b[1m[\u001b[0mINFO\u001b[1m]\u001b[0m Optimizing acquisition function with pymoo GA for \u001b[1;36m1\u001b[0m fixed parameters\u001b[33m...\u001b[0m\n"
      ]
     },
     "metadata": {},
     "output_type": "display_data"
    },
    {
     "name": "stderr",
     "output_type": "stream",
     "text": [
      "/users/k23070952/.local/lib/python3.9/site-packages/botorch/models/gpytorch.py:477: BotorchTensorDimensionWarning: Non-strict enforcement of botorch tensor conventions. The following error would have been raised with strict enforcement: Expected X and Y to have the same number of dimensions (got X with dimension 3 and Y with dimension 4).\n",
      "  self._validate_tensor_args(X=X, Y=Y, Yvar=noise, strict=False)\n",
      "/users/k23070952/.local/lib/python3.9/site-packages/botorch/models/gpytorch.py:239: BotorchTensorDimensionWarning: Non-strict enforcement of botorch tensor conventions. The following error would have been raised with strict enforcement: Expected X and Y to have the same number of dimensions (got X with dimension 3 and Y with dimension 4).\n",
      "  self._validate_tensor_args(X=X, Y=Y, Yvar=Yvar, strict=False)\n",
      "/users/k23070952/.local/lib/python3.9/site-packages/pymoo/operators/repair/rounding.py:18: RuntimeWarning: invalid value encountered in cast\n",
      "  return np.around(X).astype(int)\n",
      "/users/k23070952/.local/lib/python3.9/site-packages/pymoo/operators/mutation/pm.py:44: RuntimeWarning: overflow encountered in power\n",
      "  val = 2.0 * rand + (1.0 - 2.0 * rand) * (np.power(xy, (eta + 1.0)))\n",
      "/users/k23070952/.local/lib/python3.9/site-packages/pymoo/operators/mutation/pm.py:49: RuntimeWarning: overflow encountered in power\n",
      "  val = 2.0 * (1.0 - rand) + 2.0 * (rand - 0.5) * (np.power(xy, (eta + 1.0)))\n"
     ]
    },
    {
     "name": "stdout",
     "output_type": "stream",
     "text": [
      "Time: 26.57853627204895s\n",
      "SAMPLE :  ParamVector(s = 0.1, organic = butylammonium, cation = Ge, anion = Br)\n",
      "MEASUREMENT :  2.6513\n"
     ]
    },
    {
     "data": {
      "text/html": [
       "<pre style=\"white-space:pre;overflow-x:auto;line-height:normal;font-family:Menlo,'DejaVu Sans Mono',consolas,'Courier New',monospace\"><span style=\"color: #05a6fb; text-decoration-color: #05a6fb\">────────────────────── Acquisition function optimization ───────────────────────</span>\n",
       "</pre>\n"
      ],
      "text/plain": [
       "\u001b[38;2;5;166;251m────────────────────── Acquisition function optimization ───────────────────────\u001b[0m\n"
      ]
     },
     "metadata": {},
     "output_type": "display_data"
    },
    {
     "data": {
      "text/html": [
       "<pre style=\"white-space:pre;overflow-x:auto;line-height:normal;font-family:Menlo,'DejaVu Sans Mono',consolas,'Courier New',monospace\">ATLAS <span style=\"font-weight: bold\">[</span>INFO<span style=\"font-weight: bold\">]</span> Optimizing acquisition function with pymoo GA for <span style=\"color: #008080; text-decoration-color: #008080; font-weight: bold\">1</span> fixed parameters<span style=\"color: #808000; text-decoration-color: #808000\">...</span>\n",
       "</pre>\n"
      ],
      "text/plain": [
       "ATLAS \u001b[1m[\u001b[0mINFO\u001b[1m]\u001b[0m Optimizing acquisition function with pymoo GA for \u001b[1;36m1\u001b[0m fixed parameters\u001b[33m...\u001b[0m\n"
      ]
     },
     "metadata": {},
     "output_type": "display_data"
    },
    {
     "name": "stdout",
     "output_type": "stream",
     "text": [
      "\n",
      "REC SAMPLE :  ParamVector(s = 1.0, organic = propylammonium, cation = Pb, anion = F)\n",
      "REC MEASUREMENT :  5.2155\n",
      "\n",
      "\n",
      "RUN : 1/10\tITER : 19\tCOST : 4.5\n",
      "\n"
     ]
    },
    {
     "data": {
      "text/html": [
       "<pre style=\"white-space:pre;overflow-x:auto;line-height:normal;font-family:Menlo,'DejaVu Sans Mono',consolas,'Courier New',monospace\"><span style=\"color: #f4a261; text-decoration-color: #f4a261\">ATLAS </span><span style=\"color: #f4a261; text-decoration-color: #f4a261; font-weight: bold\">[</span><span style=\"color: #f4a261; text-decoration-color: #f4a261\">WARNING</span><span style=\"color: #f4a261; text-decoration-color: #f4a261; font-weight: bold\">]</span><span style=\"color: #f4a261; text-decoration-color: #f4a261\"> Setting ask fidelity level to </span><span style=\"color: #008080; text-decoration-color: #008080; font-weight: bold\">0.1</span>\n",
       "</pre>\n"
      ],
      "text/plain": [
       "\u001b[38;2;244;162;97mATLAS \u001b[0m\u001b[1;38;2;244;162;97m[\u001b[0m\u001b[38;2;244;162;97mWARNING\u001b[0m\u001b[1;38;2;244;162;97m]\u001b[0m\u001b[38;2;244;162;97m Setting ask fidelity level to \u001b[0m\u001b[1;36m0.1\u001b[0m\n"
      ]
     },
     "metadata": {},
     "output_type": "display_data"
    },
    {
     "data": {
      "text/html": [
       "<pre style=\"white-space:pre;overflow-x:auto;line-height:normal;font-family:Menlo,'DejaVu Sans Mono',consolas,'Courier New',monospace\"><span style=\"color: #05a6fb; text-decoration-color: #05a6fb\">───────────────────── Training regression surrogate model ──────────────────────</span>\n",
       "</pre>\n"
      ],
      "text/plain": [
       "\u001b[38;2;5;166;251m───────────────────── Training regression surrogate model ──────────────────────\u001b[0m\n"
      ]
     },
     "metadata": {},
     "output_type": "display_data"
    },
    {
     "name": "stderr",
     "output_type": "stream",
     "text": [
      "/users/k23070952/.local/lib/python3.9/site-packages/botorch/models/utils/assorted.py:174: InputDataWarning: Input data is not contained to the unit cube. Please consider min-max scaling the input data.\n",
      "  warnings.warn(msg, InputDataWarning)\n",
      "/users/k23070952/.local/lib/python3.9/site-packages/botorch/models/utils/assorted.py:202: InputDataWarning: Input data is not standardized (mean = tensor([-6.7847e-16]), std = tensor([1.0290])). Please consider scaling the input to zero mean and unit variance.\n",
      "  warnings.warn(msg, InputDataWarning)\n"
     ]
    },
    {
     "data": {
      "text/html": [
       "<pre style=\"white-space:pre;overflow-x:auto;line-height:normal;font-family:Menlo,'DejaVu Sans Mono',consolas,'Courier New',monospace\">ATLAS <span style=\"font-weight: bold\">[</span>INFO<span style=\"font-weight: bold\">]</span> Regression surrogate GP trained in <span style=\"color: #008080; text-decoration-color: #008080; font-weight: bold\">0.107</span> sec\n",
       "</pre>\n"
      ],
      "text/plain": [
       "ATLAS \u001b[1m[\u001b[0mINFO\u001b[1m]\u001b[0m Regression surrogate GP trained in \u001b[1;36m0.107\u001b[0m sec\n"
      ]
     },
     "metadata": {},
     "output_type": "display_data"
    },
    {
     "data": {
      "text/html": [
       "<pre style=\"white-space:pre;overflow-x:auto;line-height:normal;font-family:Menlo,'DejaVu Sans Mono',consolas,'Courier New',monospace\"><span style=\"color: #05a6fb; text-decoration-color: #05a6fb\">────────────────────── Acquisition function optimization ───────────────────────</span>\n",
       "</pre>\n"
      ],
      "text/plain": [
       "\u001b[38;2;5;166;251m────────────────────── Acquisition function optimization ───────────────────────\u001b[0m\n"
      ]
     },
     "metadata": {},
     "output_type": "display_data"
    },
    {
     "data": {
      "text/html": [
       "<pre style=\"white-space:pre;overflow-x:auto;line-height:normal;font-family:Menlo,'DejaVu Sans Mono',consolas,'Courier New',monospace\">ATLAS <span style=\"font-weight: bold\">[</span>INFO<span style=\"font-weight: bold\">]</span> Optimizing acquisition function with pymoo GA for <span style=\"color: #008080; text-decoration-color: #008080; font-weight: bold\">1</span> fixed parameters<span style=\"color: #808000; text-decoration-color: #808000\">...</span>\n",
       "</pre>\n"
      ],
      "text/plain": [
       "ATLAS \u001b[1m[\u001b[0mINFO\u001b[1m]\u001b[0m Optimizing acquisition function with pymoo GA for \u001b[1;36m1\u001b[0m fixed parameters\u001b[33m...\u001b[0m\n"
      ]
     },
     "metadata": {},
     "output_type": "display_data"
    },
    {
     "name": "stderr",
     "output_type": "stream",
     "text": [
      "/users/k23070952/.local/lib/python3.9/site-packages/botorch/models/gpytorch.py:477: BotorchTensorDimensionWarning: Non-strict enforcement of botorch tensor conventions. The following error would have been raised with strict enforcement: Expected X and Y to have the same number of dimensions (got X with dimension 3 and Y with dimension 4).\n",
      "  self._validate_tensor_args(X=X, Y=Y, Yvar=noise, strict=False)\n",
      "/users/k23070952/.local/lib/python3.9/site-packages/botorch/models/gpytorch.py:239: BotorchTensorDimensionWarning: Non-strict enforcement of botorch tensor conventions. The following error would have been raised with strict enforcement: Expected X and Y to have the same number of dimensions (got X with dimension 3 and Y with dimension 4).\n",
      "  self._validate_tensor_args(X=X, Y=Y, Yvar=Yvar, strict=False)\n",
      "/users/k23070952/.local/lib/python3.9/site-packages/pymoo/operators/repair/rounding.py:18: RuntimeWarning: invalid value encountered in cast\n",
      "  return np.around(X).astype(int)\n",
      "/users/k23070952/.local/lib/python3.9/site-packages/pymoo/operators/mutation/pm.py:44: RuntimeWarning: overflow encountered in power\n",
      "  val = 2.0 * rand + (1.0 - 2.0 * rand) * (np.power(xy, (eta + 1.0)))\n",
      "/users/k23070952/.local/lib/python3.9/site-packages/pymoo/operators/mutation/pm.py:49: RuntimeWarning: overflow encountered in power\n",
      "  val = 2.0 * (1.0 - rand) + 2.0 * (rand - 0.5) * (np.power(xy, (eta + 1.0)))\n"
     ]
    },
    {
     "name": "stdout",
     "output_type": "stream",
     "text": [
      "Time: 26.754382371902466s\n",
      "SAMPLE :  ParamVector(s = 0.1, organic = trimethylammonium, cation = Ge, anion = F)\n",
      "MEASUREMENT :  4.0662\n"
     ]
    },
    {
     "data": {
      "text/html": [
       "<pre style=\"white-space:pre;overflow-x:auto;line-height:normal;font-family:Menlo,'DejaVu Sans Mono',consolas,'Courier New',monospace\"><span style=\"color: #05a6fb; text-decoration-color: #05a6fb\">────────────────────── Acquisition function optimization ───────────────────────</span>\n",
       "</pre>\n"
      ],
      "text/plain": [
       "\u001b[38;2;5;166;251m────────────────────── Acquisition function optimization ───────────────────────\u001b[0m\n"
      ]
     },
     "metadata": {},
     "output_type": "display_data"
    },
    {
     "data": {
      "text/html": [
       "<pre style=\"white-space:pre;overflow-x:auto;line-height:normal;font-family:Menlo,'DejaVu Sans Mono',consolas,'Courier New',monospace\">ATLAS <span style=\"font-weight: bold\">[</span>INFO<span style=\"font-weight: bold\">]</span> Optimizing acquisition function with pymoo GA for <span style=\"color: #008080; text-decoration-color: #008080; font-weight: bold\">1</span> fixed parameters<span style=\"color: #808000; text-decoration-color: #808000\">...</span>\n",
       "</pre>\n"
      ],
      "text/plain": [
       "ATLAS \u001b[1m[\u001b[0mINFO\u001b[1m]\u001b[0m Optimizing acquisition function with pymoo GA for \u001b[1;36m1\u001b[0m fixed parameters\u001b[33m...\u001b[0m\n"
      ]
     },
     "metadata": {},
     "output_type": "display_data"
    },
    {
     "name": "stdout",
     "output_type": "stream",
     "text": [
      "\n",
      "REC SAMPLE :  ParamVector(s = 1.0, organic = guanidinium, cation = Ge, anion = Cl)\n",
      "REC MEASUREMENT :  3.6438\n",
      "\n",
      "\n",
      "RUN : 1/10\tITER : 20\tCOST : 4.6\n",
      "\n"
     ]
    },
    {
     "data": {
      "text/html": [
       "<pre style=\"white-space:pre;overflow-x:auto;line-height:normal;font-family:Menlo,'DejaVu Sans Mono',consolas,'Courier New',monospace\"><span style=\"color: #f4a261; text-decoration-color: #f4a261\">ATLAS </span><span style=\"color: #f4a261; text-decoration-color: #f4a261; font-weight: bold\">[</span><span style=\"color: #f4a261; text-decoration-color: #f4a261\">WARNING</span><span style=\"color: #f4a261; text-decoration-color: #f4a261; font-weight: bold\">]</span><span style=\"color: #f4a261; text-decoration-color: #f4a261\"> Setting ask fidelity level to </span><span style=\"color: #008080; text-decoration-color: #008080; font-weight: bold\">0.1</span>\n",
       "</pre>\n"
      ],
      "text/plain": [
       "\u001b[38;2;244;162;97mATLAS \u001b[0m\u001b[1;38;2;244;162;97m[\u001b[0m\u001b[38;2;244;162;97mWARNING\u001b[0m\u001b[1;38;2;244;162;97m]\u001b[0m\u001b[38;2;244;162;97m Setting ask fidelity level to \u001b[0m\u001b[1;36m0.1\u001b[0m\n"
      ]
     },
     "metadata": {},
     "output_type": "display_data"
    },
    {
     "data": {
      "text/html": [
       "<pre style=\"white-space:pre;overflow-x:auto;line-height:normal;font-family:Menlo,'DejaVu Sans Mono',consolas,'Courier New',monospace\"><span style=\"color: #05a6fb; text-decoration-color: #05a6fb\">───────────────────── Training regression surrogate model ──────────────────────</span>\n",
       "</pre>\n"
      ],
      "text/plain": [
       "\u001b[38;2;5;166;251m───────────────────── Training regression surrogate model ──────────────────────\u001b[0m\n"
      ]
     },
     "metadata": {},
     "output_type": "display_data"
    },
    {
     "name": "stderr",
     "output_type": "stream",
     "text": [
      "/users/k23070952/.local/lib/python3.9/site-packages/botorch/models/utils/assorted.py:174: InputDataWarning: Input data is not contained to the unit cube. Please consider min-max scaling the input data.\n",
      "  warnings.warn(msg, InputDataWarning)\n",
      "/users/k23070952/.local/lib/python3.9/site-packages/botorch/models/utils/assorted.py:202: InputDataWarning: Input data is not standardized (mean = tensor([-4.6746e-16]), std = tensor([1.0274])). Please consider scaling the input to zero mean and unit variance.\n",
      "  warnings.warn(msg, InputDataWarning)\n"
     ]
    },
    {
     "data": {
      "text/html": [
       "<pre style=\"white-space:pre;overflow-x:auto;line-height:normal;font-family:Menlo,'DejaVu Sans Mono',consolas,'Courier New',monospace\">ATLAS <span style=\"font-weight: bold\">[</span>INFO<span style=\"font-weight: bold\">]</span> Regression surrogate GP trained in <span style=\"color: #008080; text-decoration-color: #008080; font-weight: bold\">0.107</span> sec\n",
       "</pre>\n"
      ],
      "text/plain": [
       "ATLAS \u001b[1m[\u001b[0mINFO\u001b[1m]\u001b[0m Regression surrogate GP trained in \u001b[1;36m0.107\u001b[0m sec\n"
      ]
     },
     "metadata": {},
     "output_type": "display_data"
    },
    {
     "data": {
      "text/html": [
       "<pre style=\"white-space:pre;overflow-x:auto;line-height:normal;font-family:Menlo,'DejaVu Sans Mono',consolas,'Courier New',monospace\"><span style=\"color: #05a6fb; text-decoration-color: #05a6fb\">────────────────────── Acquisition function optimization ───────────────────────</span>\n",
       "</pre>\n"
      ],
      "text/plain": [
       "\u001b[38;2;5;166;251m────────────────────── Acquisition function optimization ───────────────────────\u001b[0m\n"
      ]
     },
     "metadata": {},
     "output_type": "display_data"
    },
    {
     "data": {
      "text/html": [
       "<pre style=\"white-space:pre;overflow-x:auto;line-height:normal;font-family:Menlo,'DejaVu Sans Mono',consolas,'Courier New',monospace\">ATLAS <span style=\"font-weight: bold\">[</span>INFO<span style=\"font-weight: bold\">]</span> Optimizing acquisition function with pymoo GA for <span style=\"color: #008080; text-decoration-color: #008080; font-weight: bold\">1</span> fixed parameters<span style=\"color: #808000; text-decoration-color: #808000\">...</span>\n",
       "</pre>\n"
      ],
      "text/plain": [
       "ATLAS \u001b[1m[\u001b[0mINFO\u001b[1m]\u001b[0m Optimizing acquisition function with pymoo GA for \u001b[1;36m1\u001b[0m fixed parameters\u001b[33m...\u001b[0m\n"
      ]
     },
     "metadata": {},
     "output_type": "display_data"
    },
    {
     "name": "stderr",
     "output_type": "stream",
     "text": [
      "/users/k23070952/.local/lib/python3.9/site-packages/botorch/models/gpytorch.py:477: BotorchTensorDimensionWarning: Non-strict enforcement of botorch tensor conventions. The following error would have been raised with strict enforcement: Expected X and Y to have the same number of dimensions (got X with dimension 3 and Y with dimension 4).\n",
      "  self._validate_tensor_args(X=X, Y=Y, Yvar=noise, strict=False)\n",
      "/users/k23070952/.local/lib/python3.9/site-packages/botorch/models/gpytorch.py:239: BotorchTensorDimensionWarning: Non-strict enforcement of botorch tensor conventions. The following error would have been raised with strict enforcement: Expected X and Y to have the same number of dimensions (got X with dimension 3 and Y with dimension 4).\n",
      "  self._validate_tensor_args(X=X, Y=Y, Yvar=Yvar, strict=False)\n",
      "/users/k23070952/.local/lib/python3.9/site-packages/pymoo/operators/repair/rounding.py:18: RuntimeWarning: invalid value encountered in cast\n",
      "  return np.around(X).astype(int)\n",
      "/users/k23070952/.local/lib/python3.9/site-packages/pymoo/operators/mutation/pm.py:44: RuntimeWarning: overflow encountered in power\n",
      "  val = 2.0 * rand + (1.0 - 2.0 * rand) * (np.power(xy, (eta + 1.0)))\n",
      "/users/k23070952/.local/lib/python3.9/site-packages/pymoo/operators/mutation/pm.py:49: RuntimeWarning: overflow encountered in power\n",
      "  val = 2.0 * (1.0 - rand) + 2.0 * (rand - 0.5) * (np.power(xy, (eta + 1.0)))\n"
     ]
    },
    {
     "name": "stdout",
     "output_type": "stream",
     "text": [
      "Time: 26.984660148620605s\n",
      "SAMPLE :  ParamVector(s = 0.1, organic = hydroxylammonium, cation = Ge, anion = Cl)\n",
      "MEASUREMENT :  1.9337\n"
     ]
    },
    {
     "data": {
      "text/html": [
       "<pre style=\"white-space:pre;overflow-x:auto;line-height:normal;font-family:Menlo,'DejaVu Sans Mono',consolas,'Courier New',monospace\"><span style=\"color: #05a6fb; text-decoration-color: #05a6fb\">────────────────────── Acquisition function optimization ───────────────────────</span>\n",
       "</pre>\n"
      ],
      "text/plain": [
       "\u001b[38;2;5;166;251m────────────────────── Acquisition function optimization ───────────────────────\u001b[0m\n"
      ]
     },
     "metadata": {},
     "output_type": "display_data"
    },
    {
     "data": {
      "text/html": [
       "<pre style=\"white-space:pre;overflow-x:auto;line-height:normal;font-family:Menlo,'DejaVu Sans Mono',consolas,'Courier New',monospace\">ATLAS <span style=\"font-weight: bold\">[</span>INFO<span style=\"font-weight: bold\">]</span> Optimizing acquisition function with pymoo GA for <span style=\"color: #008080; text-decoration-color: #008080; font-weight: bold\">1</span> fixed parameters<span style=\"color: #808000; text-decoration-color: #808000\">...</span>\n",
       "</pre>\n"
      ],
      "text/plain": [
       "ATLAS \u001b[1m[\u001b[0mINFO\u001b[1m]\u001b[0m Optimizing acquisition function with pymoo GA for \u001b[1;36m1\u001b[0m fixed parameters\u001b[33m...\u001b[0m\n"
      ]
     },
     "metadata": {},
     "output_type": "display_data"
    },
    {
     "name": "stdout",
     "output_type": "stream",
     "text": [
      "\n",
      "REC SAMPLE :  ParamVector(s = 1.0, organic = trimethylammonium, cation = Sn, anion = I)\n",
      "REC MEASUREMENT :  1.9374\n",
      "\n",
      "\n",
      "RUN : 1/10\tITER : 21\tCOST : 4.699999999999999\n",
      "\n"
     ]
    },
    {
     "data": {
      "text/html": [
       "<pre style=\"white-space:pre;overflow-x:auto;line-height:normal;font-family:Menlo,'DejaVu Sans Mono',consolas,'Courier New',monospace\"><span style=\"color: #f4a261; text-decoration-color: #f4a261\">ATLAS </span><span style=\"color: #f4a261; text-decoration-color: #f4a261; font-weight: bold\">[</span><span style=\"color: #f4a261; text-decoration-color: #f4a261\">WARNING</span><span style=\"color: #f4a261; text-decoration-color: #f4a261; font-weight: bold\">]</span><span style=\"color: #f4a261; text-decoration-color: #f4a261\"> Setting ask fidelity level to </span><span style=\"color: #008080; text-decoration-color: #008080; font-weight: bold\">0.1</span>\n",
       "</pre>\n"
      ],
      "text/plain": [
       "\u001b[38;2;244;162;97mATLAS \u001b[0m\u001b[1;38;2;244;162;97m[\u001b[0m\u001b[38;2;244;162;97mWARNING\u001b[0m\u001b[1;38;2;244;162;97m]\u001b[0m\u001b[38;2;244;162;97m Setting ask fidelity level to \u001b[0m\u001b[1;36m0.1\u001b[0m\n"
      ]
     },
     "metadata": {},
     "output_type": "display_data"
    },
    {
     "data": {
      "text/html": [
       "<pre style=\"white-space:pre;overflow-x:auto;line-height:normal;font-family:Menlo,'DejaVu Sans Mono',consolas,'Courier New',monospace\"><span style=\"color: #05a6fb; text-decoration-color: #05a6fb\">───────────────────── Training regression surrogate model ──────────────────────</span>\n",
       "</pre>\n"
      ],
      "text/plain": [
       "\u001b[38;2;5;166;251m───────────────────── Training regression surrogate model ──────────────────────\u001b[0m\n"
      ]
     },
     "metadata": {},
     "output_type": "display_data"
    },
    {
     "name": "stderr",
     "output_type": "stream",
     "text": [
      "/users/k23070952/.local/lib/python3.9/site-packages/botorch/models/utils/assorted.py:174: InputDataWarning: Input data is not contained to the unit cube. Please consider min-max scaling the input data.\n",
      "  warnings.warn(msg, InputDataWarning)\n",
      "/users/k23070952/.local/lib/python3.9/site-packages/botorch/models/utils/assorted.py:202: InputDataWarning: Input data is not standardized (mean = tensor([-6.1062e-16]), std = tensor([1.0260])). Please consider scaling the input to zero mean and unit variance.\n",
      "  warnings.warn(msg, InputDataWarning)\n"
     ]
    },
    {
     "data": {
      "text/html": [
       "<pre style=\"white-space:pre;overflow-x:auto;line-height:normal;font-family:Menlo,'DejaVu Sans Mono',consolas,'Courier New',monospace\">ATLAS <span style=\"font-weight: bold\">[</span>INFO<span style=\"font-weight: bold\">]</span> Regression surrogate GP trained in <span style=\"color: #008080; text-decoration-color: #008080; font-weight: bold\">0.102</span> sec\n",
       "</pre>\n"
      ],
      "text/plain": [
       "ATLAS \u001b[1m[\u001b[0mINFO\u001b[1m]\u001b[0m Regression surrogate GP trained in \u001b[1;36m0.102\u001b[0m sec\n"
      ]
     },
     "metadata": {},
     "output_type": "display_data"
    },
    {
     "data": {
      "text/html": [
       "<pre style=\"white-space:pre;overflow-x:auto;line-height:normal;font-family:Menlo,'DejaVu Sans Mono',consolas,'Courier New',monospace\"><span style=\"color: #05a6fb; text-decoration-color: #05a6fb\">────────────────────── Acquisition function optimization ───────────────────────</span>\n",
       "</pre>\n"
      ],
      "text/plain": [
       "\u001b[38;2;5;166;251m────────────────────── Acquisition function optimization ───────────────────────\u001b[0m\n"
      ]
     },
     "metadata": {},
     "output_type": "display_data"
    },
    {
     "data": {
      "text/html": [
       "<pre style=\"white-space:pre;overflow-x:auto;line-height:normal;font-family:Menlo,'DejaVu Sans Mono',consolas,'Courier New',monospace\">ATLAS <span style=\"font-weight: bold\">[</span>INFO<span style=\"font-weight: bold\">]</span> Optimizing acquisition function with pymoo GA for <span style=\"color: #008080; text-decoration-color: #008080; font-weight: bold\">1</span> fixed parameters<span style=\"color: #808000; text-decoration-color: #808000\">...</span>\n",
       "</pre>\n"
      ],
      "text/plain": [
       "ATLAS \u001b[1m[\u001b[0mINFO\u001b[1m]\u001b[0m Optimizing acquisition function with pymoo GA for \u001b[1;36m1\u001b[0m fixed parameters\u001b[33m...\u001b[0m\n"
      ]
     },
     "metadata": {},
     "output_type": "display_data"
    },
    {
     "name": "stderr",
     "output_type": "stream",
     "text": [
      "/users/k23070952/.local/lib/python3.9/site-packages/botorch/models/gpytorch.py:477: BotorchTensorDimensionWarning: Non-strict enforcement of botorch tensor conventions. The following error would have been raised with strict enforcement: Expected X and Y to have the same number of dimensions (got X with dimension 3 and Y with dimension 4).\n",
      "  self._validate_tensor_args(X=X, Y=Y, Yvar=noise, strict=False)\n",
      "/users/k23070952/.local/lib/python3.9/site-packages/botorch/models/gpytorch.py:239: BotorchTensorDimensionWarning: Non-strict enforcement of botorch tensor conventions. The following error would have been raised with strict enforcement: Expected X and Y to have the same number of dimensions (got X with dimension 3 and Y with dimension 4).\n",
      "  self._validate_tensor_args(X=X, Y=Y, Yvar=Yvar, strict=False)\n",
      "/users/k23070952/.local/lib/python3.9/site-packages/pymoo/operators/repair/rounding.py:18: RuntimeWarning: invalid value encountered in cast\n",
      "  return np.around(X).astype(int)\n",
      "/users/k23070952/.local/lib/python3.9/site-packages/pymoo/operators/mutation/pm.py:44: RuntimeWarning: overflow encountered in power\n",
      "  val = 2.0 * rand + (1.0 - 2.0 * rand) * (np.power(xy, (eta + 1.0)))\n",
      "/users/k23070952/.local/lib/python3.9/site-packages/pymoo/operators/mutation/pm.py:49: RuntimeWarning: overflow encountered in power\n",
      "  val = 2.0 * (1.0 - rand) + 2.0 * (rand - 0.5) * (np.power(xy, (eta + 1.0)))\n"
     ]
    },
    {
     "name": "stdout",
     "output_type": "stream",
     "text": [
      "Time: 26.860416412353516s\n",
      "SAMPLE :  ParamVector(s = 0.1, organic = hydrazinium, cation = Ge, anion = I)\n",
      "MEASUREMENT :  1.3701\n"
     ]
    },
    {
     "data": {
      "text/html": [
       "<pre style=\"white-space:pre;overflow-x:auto;line-height:normal;font-family:Menlo,'DejaVu Sans Mono',consolas,'Courier New',monospace\"><span style=\"color: #05a6fb; text-decoration-color: #05a6fb\">────────────────────── Acquisition function optimization ───────────────────────</span>\n",
       "</pre>\n"
      ],
      "text/plain": [
       "\u001b[38;2;5;166;251m────────────────────── Acquisition function optimization ───────────────────────\u001b[0m\n"
      ]
     },
     "metadata": {},
     "output_type": "display_data"
    },
    {
     "data": {
      "text/html": [
       "<pre style=\"white-space:pre;overflow-x:auto;line-height:normal;font-family:Menlo,'DejaVu Sans Mono',consolas,'Courier New',monospace\">ATLAS <span style=\"font-weight: bold\">[</span>INFO<span style=\"font-weight: bold\">]</span> Optimizing acquisition function with pymoo GA for <span style=\"color: #008080; text-decoration-color: #008080; font-weight: bold\">1</span> fixed parameters<span style=\"color: #808000; text-decoration-color: #808000\">...</span>\n",
       "</pre>\n"
      ],
      "text/plain": [
       "ATLAS \u001b[1m[\u001b[0mINFO\u001b[1m]\u001b[0m Optimizing acquisition function with pymoo GA for \u001b[1;36m1\u001b[0m fixed parameters\u001b[33m...\u001b[0m\n"
      ]
     },
     "metadata": {},
     "output_type": "display_data"
    },
    {
     "name": "stdout",
     "output_type": "stream",
     "text": [
      "\n",
      "REC SAMPLE :  ParamVector(s = 1.0, organic = ethylammonium, cation = Pb, anion = I)\n",
      "REC MEASUREMENT :  2.2316\n",
      "\n",
      "\n",
      "RUN : 1/10\tITER : 22\tCOST : 4.799999999999999\n",
      "\n"
     ]
    },
    {
     "data": {
      "text/html": [
       "<pre style=\"white-space:pre;overflow-x:auto;line-height:normal;font-family:Menlo,'DejaVu Sans Mono',consolas,'Courier New',monospace\"><span style=\"color: #f4a261; text-decoration-color: #f4a261\">ATLAS </span><span style=\"color: #f4a261; text-decoration-color: #f4a261; font-weight: bold\">[</span><span style=\"color: #f4a261; text-decoration-color: #f4a261\">WARNING</span><span style=\"color: #f4a261; text-decoration-color: #f4a261; font-weight: bold\">]</span><span style=\"color: #f4a261; text-decoration-color: #f4a261\"> Setting ask fidelity level to </span><span style=\"color: #008080; text-decoration-color: #008080; font-weight: bold\">0.1</span>\n",
       "</pre>\n"
      ],
      "text/plain": [
       "\u001b[38;2;244;162;97mATLAS \u001b[0m\u001b[1;38;2;244;162;97m[\u001b[0m\u001b[38;2;244;162;97mWARNING\u001b[0m\u001b[1;38;2;244;162;97m]\u001b[0m\u001b[38;2;244;162;97m Setting ask fidelity level to \u001b[0m\u001b[1;36m0.1\u001b[0m\n"
      ]
     },
     "metadata": {},
     "output_type": "display_data"
    },
    {
     "data": {
      "text/html": [
       "<pre style=\"white-space:pre;overflow-x:auto;line-height:normal;font-family:Menlo,'DejaVu Sans Mono',consolas,'Courier New',monospace\"><span style=\"color: #05a6fb; text-decoration-color: #05a6fb\">───────────────────── Training regression surrogate model ──────────────────────</span>\n",
       "</pre>\n"
      ],
      "text/plain": [
       "\u001b[38;2;5;166;251m───────────────────── Training regression surrogate model ──────────────────────\u001b[0m\n"
      ]
     },
     "metadata": {},
     "output_type": "display_data"
    },
    {
     "name": "stderr",
     "output_type": "stream",
     "text": [
      "/users/k23070952/.local/lib/python3.9/site-packages/botorch/models/utils/assorted.py:174: InputDataWarning: Input data is not contained to the unit cube. Please consider min-max scaling the input data.\n",
      "  warnings.warn(msg, InputDataWarning)\n",
      "/users/k23070952/.local/lib/python3.9/site-packages/botorch/models/utils/assorted.py:202: InputDataWarning: Input data is not standardized (mean = tensor([-7.4015e-16]), std = tensor([1.0247])). Please consider scaling the input to zero mean and unit variance.\n",
      "  warnings.warn(msg, InputDataWarning)\n"
     ]
    },
    {
     "data": {
      "text/html": [
       "<pre style=\"white-space:pre;overflow-x:auto;line-height:normal;font-family:Menlo,'DejaVu Sans Mono',consolas,'Courier New',monospace\">ATLAS <span style=\"font-weight: bold\">[</span>INFO<span style=\"font-weight: bold\">]</span> Regression surrogate GP trained in <span style=\"color: #008080; text-decoration-color: #008080; font-weight: bold\">0.098</span> sec\n",
       "</pre>\n"
      ],
      "text/plain": [
       "ATLAS \u001b[1m[\u001b[0mINFO\u001b[1m]\u001b[0m Regression surrogate GP trained in \u001b[1;36m0.098\u001b[0m sec\n"
      ]
     },
     "metadata": {},
     "output_type": "display_data"
    },
    {
     "data": {
      "text/html": [
       "<pre style=\"white-space:pre;overflow-x:auto;line-height:normal;font-family:Menlo,'DejaVu Sans Mono',consolas,'Courier New',monospace\"><span style=\"color: #05a6fb; text-decoration-color: #05a6fb\">────────────────────── Acquisition function optimization ───────────────────────</span>\n",
       "</pre>\n"
      ],
      "text/plain": [
       "\u001b[38;2;5;166;251m────────────────────── Acquisition function optimization ───────────────────────\u001b[0m\n"
      ]
     },
     "metadata": {},
     "output_type": "display_data"
    },
    {
     "data": {
      "text/html": [
       "<pre style=\"white-space:pre;overflow-x:auto;line-height:normal;font-family:Menlo,'DejaVu Sans Mono',consolas,'Courier New',monospace\">ATLAS <span style=\"font-weight: bold\">[</span>INFO<span style=\"font-weight: bold\">]</span> Optimizing acquisition function with pymoo GA for <span style=\"color: #008080; text-decoration-color: #008080; font-weight: bold\">1</span> fixed parameters<span style=\"color: #808000; text-decoration-color: #808000\">...</span>\n",
       "</pre>\n"
      ],
      "text/plain": [
       "ATLAS \u001b[1m[\u001b[0mINFO\u001b[1m]\u001b[0m Optimizing acquisition function with pymoo GA for \u001b[1;36m1\u001b[0m fixed parameters\u001b[33m...\u001b[0m\n"
      ]
     },
     "metadata": {},
     "output_type": "display_data"
    },
    {
     "name": "stderr",
     "output_type": "stream",
     "text": [
      "/users/k23070952/.local/lib/python3.9/site-packages/botorch/models/gpytorch.py:477: BotorchTensorDimensionWarning: Non-strict enforcement of botorch tensor conventions. The following error would have been raised with strict enforcement: Expected X and Y to have the same number of dimensions (got X with dimension 3 and Y with dimension 4).\n",
      "  self._validate_tensor_args(X=X, Y=Y, Yvar=noise, strict=False)\n",
      "/users/k23070952/.local/lib/python3.9/site-packages/botorch/models/gpytorch.py:239: BotorchTensorDimensionWarning: Non-strict enforcement of botorch tensor conventions. The following error would have been raised with strict enforcement: Expected X and Y to have the same number of dimensions (got X with dimension 3 and Y with dimension 4).\n",
      "  self._validate_tensor_args(X=X, Y=Y, Yvar=Yvar, strict=False)\n",
      "/users/k23070952/.local/lib/python3.9/site-packages/pymoo/operators/repair/rounding.py:18: RuntimeWarning: invalid value encountered in cast\n",
      "  return np.around(X).astype(int)\n",
      "/users/k23070952/.local/lib/python3.9/site-packages/pymoo/operators/mutation/pm.py:44: RuntimeWarning: overflow encountered in power\n",
      "  val = 2.0 * rand + (1.0 - 2.0 * rand) * (np.power(xy, (eta + 1.0)))\n",
      "/users/k23070952/.local/lib/python3.9/site-packages/pymoo/operators/mutation/pm.py:49: RuntimeWarning: overflow encountered in power\n",
      "  val = 2.0 * (1.0 - rand) + 2.0 * (rand - 0.5) * (np.power(xy, (eta + 1.0)))\n"
     ]
    },
    {
     "name": "stdout",
     "output_type": "stream",
     "text": [
      "Time: 26.82475709915161s\n",
      "SAMPLE :  ParamVector(s = 0.1, organic = hydroxylammonium, cation = Sn, anion = Br)\n",
      "MEASUREMENT :  1.9845\n"
     ]
    },
    {
     "data": {
      "text/html": [
       "<pre style=\"white-space:pre;overflow-x:auto;line-height:normal;font-family:Menlo,'DejaVu Sans Mono',consolas,'Courier New',monospace\"><span style=\"color: #05a6fb; text-decoration-color: #05a6fb\">────────────────────── Acquisition function optimization ───────────────────────</span>\n",
       "</pre>\n"
      ],
      "text/plain": [
       "\u001b[38;2;5;166;251m────────────────────── Acquisition function optimization ───────────────────────\u001b[0m\n"
      ]
     },
     "metadata": {},
     "output_type": "display_data"
    },
    {
     "data": {
      "text/html": [
       "<pre style=\"white-space:pre;overflow-x:auto;line-height:normal;font-family:Menlo,'DejaVu Sans Mono',consolas,'Courier New',monospace\">ATLAS <span style=\"font-weight: bold\">[</span>INFO<span style=\"font-weight: bold\">]</span> Optimizing acquisition function with pymoo GA for <span style=\"color: #008080; text-decoration-color: #008080; font-weight: bold\">1</span> fixed parameters<span style=\"color: #808000; text-decoration-color: #808000\">...</span>\n",
       "</pre>\n"
      ],
      "text/plain": [
       "ATLAS \u001b[1m[\u001b[0mINFO\u001b[1m]\u001b[0m Optimizing acquisition function with pymoo GA for \u001b[1;36m1\u001b[0m fixed parameters\u001b[33m...\u001b[0m\n"
      ]
     },
     "metadata": {},
     "output_type": "display_data"
    },
    {
     "name": "stdout",
     "output_type": "stream",
     "text": [
      "\n",
      "REC SAMPLE :  ParamVector(s = 1.0, organic = isopropylammonium, cation = Ge, anion = F)\n",
      "REC MEASUREMENT :  5.9083\n",
      "\n",
      "\n",
      "RUN : 1/10\tITER : 23\tCOST : 4.899999999999999\n",
      "\n"
     ]
    },
    {
     "data": {
      "text/html": [
       "<pre style=\"white-space:pre;overflow-x:auto;line-height:normal;font-family:Menlo,'DejaVu Sans Mono',consolas,'Courier New',monospace\"><span style=\"color: #f4a261; text-decoration-color: #f4a261\">ATLAS </span><span style=\"color: #f4a261; text-decoration-color: #f4a261; font-weight: bold\">[</span><span style=\"color: #f4a261; text-decoration-color: #f4a261\">WARNING</span><span style=\"color: #f4a261; text-decoration-color: #f4a261; font-weight: bold\">]</span><span style=\"color: #f4a261; text-decoration-color: #f4a261\"> Setting ask fidelity level to </span><span style=\"color: #008080; text-decoration-color: #008080; font-weight: bold\">0.1</span>\n",
       "</pre>\n"
      ],
      "text/plain": [
       "\u001b[38;2;244;162;97mATLAS \u001b[0m\u001b[1;38;2;244;162;97m[\u001b[0m\u001b[38;2;244;162;97mWARNING\u001b[0m\u001b[1;38;2;244;162;97m]\u001b[0m\u001b[38;2;244;162;97m Setting ask fidelity level to \u001b[0m\u001b[1;36m0.1\u001b[0m\n"
      ]
     },
     "metadata": {},
     "output_type": "display_data"
    },
    {
     "data": {
      "text/html": [
       "<pre style=\"white-space:pre;overflow-x:auto;line-height:normal;font-family:Menlo,'DejaVu Sans Mono',consolas,'Courier New',monospace\"><span style=\"color: #05a6fb; text-decoration-color: #05a6fb\">───────────────────── Training regression surrogate model ──────────────────────</span>\n",
       "</pre>\n"
      ],
      "text/plain": [
       "\u001b[38;2;5;166;251m───────────────────── Training regression surrogate model ──────────────────────\u001b[0m\n"
      ]
     },
     "metadata": {},
     "output_type": "display_data"
    },
    {
     "name": "stderr",
     "output_type": "stream",
     "text": [
      "/users/k23070952/.local/lib/python3.9/site-packages/botorch/models/utils/assorted.py:174: InputDataWarning: Input data is not contained to the unit cube. Please consider min-max scaling the input data.\n",
      "  warnings.warn(msg, InputDataWarning)\n",
      "/users/k23070952/.local/lib/python3.9/site-packages/botorch/models/utils/assorted.py:202: InputDataWarning: Input data is not standardized (mean = tensor([-3.6335e-16]), std = tensor([1.0235])). Please consider scaling the input to zero mean and unit variance.\n",
      "  warnings.warn(msg, InputDataWarning)\n"
     ]
    },
    {
     "data": {
      "text/html": [
       "<pre style=\"white-space:pre;overflow-x:auto;line-height:normal;font-family:Menlo,'DejaVu Sans Mono',consolas,'Courier New',monospace\">ATLAS <span style=\"font-weight: bold\">[</span>INFO<span style=\"font-weight: bold\">]</span> Regression surrogate GP trained in <span style=\"color: #008080; text-decoration-color: #008080; font-weight: bold\">0.098</span> sec\n",
       "</pre>\n"
      ],
      "text/plain": [
       "ATLAS \u001b[1m[\u001b[0mINFO\u001b[1m]\u001b[0m Regression surrogate GP trained in \u001b[1;36m0.098\u001b[0m sec\n"
      ]
     },
     "metadata": {},
     "output_type": "display_data"
    },
    {
     "data": {
      "text/html": [
       "<pre style=\"white-space:pre;overflow-x:auto;line-height:normal;font-family:Menlo,'DejaVu Sans Mono',consolas,'Courier New',monospace\"><span style=\"color: #05a6fb; text-decoration-color: #05a6fb\">────────────────────── Acquisition function optimization ───────────────────────</span>\n",
       "</pre>\n"
      ],
      "text/plain": [
       "\u001b[38;2;5;166;251m────────────────────── Acquisition function optimization ───────────────────────\u001b[0m\n"
      ]
     },
     "metadata": {},
     "output_type": "display_data"
    },
    {
     "data": {
      "text/html": [
       "<pre style=\"white-space:pre;overflow-x:auto;line-height:normal;font-family:Menlo,'DejaVu Sans Mono',consolas,'Courier New',monospace\">ATLAS <span style=\"font-weight: bold\">[</span>INFO<span style=\"font-weight: bold\">]</span> Optimizing acquisition function with pymoo GA for <span style=\"color: #008080; text-decoration-color: #008080; font-weight: bold\">1</span> fixed parameters<span style=\"color: #808000; text-decoration-color: #808000\">...</span>\n",
       "</pre>\n"
      ],
      "text/plain": [
       "ATLAS \u001b[1m[\u001b[0mINFO\u001b[1m]\u001b[0m Optimizing acquisition function with pymoo GA for \u001b[1;36m1\u001b[0m fixed parameters\u001b[33m...\u001b[0m\n"
      ]
     },
     "metadata": {},
     "output_type": "display_data"
    },
    {
     "name": "stderr",
     "output_type": "stream",
     "text": [
      "/users/k23070952/.local/lib/python3.9/site-packages/botorch/models/gpytorch.py:477: BotorchTensorDimensionWarning: Non-strict enforcement of botorch tensor conventions. The following error would have been raised with strict enforcement: Expected X and Y to have the same number of dimensions (got X with dimension 3 and Y with dimension 4).\n",
      "  self._validate_tensor_args(X=X, Y=Y, Yvar=noise, strict=False)\n",
      "/users/k23070952/.local/lib/python3.9/site-packages/botorch/models/gpytorch.py:239: BotorchTensorDimensionWarning: Non-strict enforcement of botorch tensor conventions. The following error would have been raised with strict enforcement: Expected X and Y to have the same number of dimensions (got X with dimension 3 and Y with dimension 4).\n",
      "  self._validate_tensor_args(X=X, Y=Y, Yvar=Yvar, strict=False)\n",
      "/users/k23070952/.local/lib/python3.9/site-packages/pymoo/operators/repair/rounding.py:18: RuntimeWarning: invalid value encountered in cast\n",
      "  return np.around(X).astype(int)\n",
      "/users/k23070952/.local/lib/python3.9/site-packages/pymoo/operators/mutation/pm.py:44: RuntimeWarning: overflow encountered in power\n",
      "  val = 2.0 * rand + (1.0 - 2.0 * rand) * (np.power(xy, (eta + 1.0)))\n",
      "/users/k23070952/.local/lib/python3.9/site-packages/pymoo/operators/mutation/pm.py:49: RuntimeWarning: overflow encountered in power\n",
      "  val = 2.0 * (1.0 - rand) + 2.0 * (rand - 0.5) * (np.power(xy, (eta + 1.0)))\n"
     ]
    },
    {
     "name": "stdout",
     "output_type": "stream",
     "text": [
      "Time: 27.240508556365967s\n",
      "SAMPLE :  ParamVector(s = 0.1, organic = ethylammonium, cation = Pb, anion = F)\n",
      "MEASUREMENT :  2.8657\n"
     ]
    },
    {
     "data": {
      "text/html": [
       "<pre style=\"white-space:pre;overflow-x:auto;line-height:normal;font-family:Menlo,'DejaVu Sans Mono',consolas,'Courier New',monospace\"><span style=\"color: #05a6fb; text-decoration-color: #05a6fb\">────────────────────── Acquisition function optimization ───────────────────────</span>\n",
       "</pre>\n"
      ],
      "text/plain": [
       "\u001b[38;2;5;166;251m────────────────────── Acquisition function optimization ───────────────────────\u001b[0m\n"
      ]
     },
     "metadata": {},
     "output_type": "display_data"
    },
    {
     "data": {
      "text/html": [
       "<pre style=\"white-space:pre;overflow-x:auto;line-height:normal;font-family:Menlo,'DejaVu Sans Mono',consolas,'Courier New',monospace\">ATLAS <span style=\"font-weight: bold\">[</span>INFO<span style=\"font-weight: bold\">]</span> Optimizing acquisition function with pymoo GA for <span style=\"color: #008080; text-decoration-color: #008080; font-weight: bold\">1</span> fixed parameters<span style=\"color: #808000; text-decoration-color: #808000\">...</span>\n",
       "</pre>\n"
      ],
      "text/plain": [
       "ATLAS \u001b[1m[\u001b[0mINFO\u001b[1m]\u001b[0m Optimizing acquisition function with pymoo GA for \u001b[1;36m1\u001b[0m fixed parameters\u001b[33m...\u001b[0m\n"
      ]
     },
     "metadata": {},
     "output_type": "display_data"
    },
    {
     "name": "stdout",
     "output_type": "stream",
     "text": [
      "\n",
      "REC SAMPLE :  ParamVector(s = 1.0, organic = dimethylammonium, cation = Pb, anion = Cl)\n",
      "REC MEASUREMENT :  3.3139\n",
      "\n",
      "\n",
      "RUN : 1/10\tITER : 24\tCOST : 4.999999999999998\n",
      "\n"
     ]
    },
    {
     "data": {
      "text/html": [
       "<pre style=\"white-space:pre;overflow-x:auto;line-height:normal;font-family:Menlo,'DejaVu Sans Mono',consolas,'Courier New',monospace\"><span style=\"color: #f4a261; text-decoration-color: #f4a261\">ATLAS </span><span style=\"color: #f4a261; text-decoration-color: #f4a261; font-weight: bold\">[</span><span style=\"color: #f4a261; text-decoration-color: #f4a261\">WARNING</span><span style=\"color: #f4a261; text-decoration-color: #f4a261; font-weight: bold\">]</span><span style=\"color: #f4a261; text-decoration-color: #f4a261\"> Setting ask fidelity level to </span><span style=\"color: #008080; text-decoration-color: #008080; font-weight: bold\">0.1</span>\n",
       "</pre>\n"
      ],
      "text/plain": [
       "\u001b[38;2;244;162;97mATLAS \u001b[0m\u001b[1;38;2;244;162;97m[\u001b[0m\u001b[38;2;244;162;97mWARNING\u001b[0m\u001b[1;38;2;244;162;97m]\u001b[0m\u001b[38;2;244;162;97m Setting ask fidelity level to \u001b[0m\u001b[1;36m0.1\u001b[0m\n"
      ]
     },
     "metadata": {},
     "output_type": "display_data"
    },
    {
     "data": {
      "text/html": [
       "<pre style=\"white-space:pre;overflow-x:auto;line-height:normal;font-family:Menlo,'DejaVu Sans Mono',consolas,'Courier New',monospace\"><span style=\"color: #05a6fb; text-decoration-color: #05a6fb\">───────────────────── Training regression surrogate model ──────────────────────</span>\n",
       "</pre>\n"
      ],
      "text/plain": [
       "\u001b[38;2;5;166;251m───────────────────── Training regression surrogate model ──────────────────────\u001b[0m\n"
      ]
     },
     "metadata": {},
     "output_type": "display_data"
    },
    {
     "name": "stderr",
     "output_type": "stream",
     "text": [
      "/users/k23070952/.local/lib/python3.9/site-packages/botorch/models/utils/assorted.py:174: InputDataWarning: Input data is not contained to the unit cube. Please consider min-max scaling the input data.\n",
      "  warnings.warn(msg, InputDataWarning)\n",
      "/users/k23070952/.local/lib/python3.9/site-packages/botorch/models/utils/assorted.py:202: InputDataWarning: Input data is not standardized (mean = tensor([-6.4683e-16]), std = tensor([1.0225])). Please consider scaling the input to zero mean and unit variance.\n",
      "  warnings.warn(msg, InputDataWarning)\n"
     ]
    },
    {
     "data": {
      "text/html": [
       "<pre style=\"white-space:pre;overflow-x:auto;line-height:normal;font-family:Menlo,'DejaVu Sans Mono',consolas,'Courier New',monospace\">ATLAS <span style=\"font-weight: bold\">[</span>INFO<span style=\"font-weight: bold\">]</span> Regression surrogate GP trained in <span style=\"color: #008080; text-decoration-color: #008080; font-weight: bold\">0.098</span> sec\n",
       "</pre>\n"
      ],
      "text/plain": [
       "ATLAS \u001b[1m[\u001b[0mINFO\u001b[1m]\u001b[0m Regression surrogate GP trained in \u001b[1;36m0.098\u001b[0m sec\n"
      ]
     },
     "metadata": {},
     "output_type": "display_data"
    },
    {
     "data": {
      "text/html": [
       "<pre style=\"white-space:pre;overflow-x:auto;line-height:normal;font-family:Menlo,'DejaVu Sans Mono',consolas,'Courier New',monospace\"><span style=\"color: #05a6fb; text-decoration-color: #05a6fb\">────────────────────── Acquisition function optimization ───────────────────────</span>\n",
       "</pre>\n"
      ],
      "text/plain": [
       "\u001b[38;2;5;166;251m────────────────────── Acquisition function optimization ───────────────────────\u001b[0m\n"
      ]
     },
     "metadata": {},
     "output_type": "display_data"
    },
    {
     "data": {
      "text/html": [
       "<pre style=\"white-space:pre;overflow-x:auto;line-height:normal;font-family:Menlo,'DejaVu Sans Mono',consolas,'Courier New',monospace\">ATLAS <span style=\"font-weight: bold\">[</span>INFO<span style=\"font-weight: bold\">]</span> Optimizing acquisition function with pymoo GA for <span style=\"color: #008080; text-decoration-color: #008080; font-weight: bold\">1</span> fixed parameters<span style=\"color: #808000; text-decoration-color: #808000\">...</span>\n",
       "</pre>\n"
      ],
      "text/plain": [
       "ATLAS \u001b[1m[\u001b[0mINFO\u001b[1m]\u001b[0m Optimizing acquisition function with pymoo GA for \u001b[1;36m1\u001b[0m fixed parameters\u001b[33m...\u001b[0m\n"
      ]
     },
     "metadata": {},
     "output_type": "display_data"
    },
    {
     "name": "stderr",
     "output_type": "stream",
     "text": [
      "/users/k23070952/.local/lib/python3.9/site-packages/botorch/models/gpytorch.py:477: BotorchTensorDimensionWarning: Non-strict enforcement of botorch tensor conventions. The following error would have been raised with strict enforcement: Expected X and Y to have the same number of dimensions (got X with dimension 3 and Y with dimension 4).\n",
      "  self._validate_tensor_args(X=X, Y=Y, Yvar=noise, strict=False)\n",
      "/users/k23070952/.local/lib/python3.9/site-packages/botorch/models/gpytorch.py:239: BotorchTensorDimensionWarning: Non-strict enforcement of botorch tensor conventions. The following error would have been raised with strict enforcement: Expected X and Y to have the same number of dimensions (got X with dimension 3 and Y with dimension 4).\n",
      "  self._validate_tensor_args(X=X, Y=Y, Yvar=Yvar, strict=False)\n",
      "/users/k23070952/.local/lib/python3.9/site-packages/pymoo/operators/repair/rounding.py:18: RuntimeWarning: invalid value encountered in cast\n",
      "  return np.around(X).astype(int)\n",
      "/users/k23070952/.local/lib/python3.9/site-packages/pymoo/operators/mutation/pm.py:44: RuntimeWarning: overflow encountered in power\n",
      "  val = 2.0 * rand + (1.0 - 2.0 * rand) * (np.power(xy, (eta + 1.0)))\n",
      "/users/k23070952/.local/lib/python3.9/site-packages/pymoo/operators/mutation/pm.py:49: RuntimeWarning: overflow encountered in power\n",
      "  val = 2.0 * (1.0 - rand) + 2.0 * (rand - 0.5) * (np.power(xy, (eta + 1.0)))\n"
     ]
    },
    {
     "name": "stdout",
     "output_type": "stream",
     "text": [
      "Time: 27.071587085723877s\n",
      "SAMPLE :  ParamVector(s = 0.1, organic = imidazolium, cation = Sn, anion = Cl)\n",
      "MEASUREMENT :  2.3972\n"
     ]
    },
    {
     "data": {
      "text/html": [
       "<pre style=\"white-space:pre;overflow-x:auto;line-height:normal;font-family:Menlo,'DejaVu Sans Mono',consolas,'Courier New',monospace\"><span style=\"color: #05a6fb; text-decoration-color: #05a6fb\">────────────────────── Acquisition function optimization ───────────────────────</span>\n",
       "</pre>\n"
      ],
      "text/plain": [
       "\u001b[38;2;5;166;251m────────────────────── Acquisition function optimization ───────────────────────\u001b[0m\n"
      ]
     },
     "metadata": {},
     "output_type": "display_data"
    },
    {
     "data": {
      "text/html": [
       "<pre style=\"white-space:pre;overflow-x:auto;line-height:normal;font-family:Menlo,'DejaVu Sans Mono',consolas,'Courier New',monospace\">ATLAS <span style=\"font-weight: bold\">[</span>INFO<span style=\"font-weight: bold\">]</span> Optimizing acquisition function with pymoo GA for <span style=\"color: #008080; text-decoration-color: #008080; font-weight: bold\">1</span> fixed parameters<span style=\"color: #808000; text-decoration-color: #808000\">...</span>\n",
       "</pre>\n"
      ],
      "text/plain": [
       "ATLAS \u001b[1m[\u001b[0mINFO\u001b[1m]\u001b[0m Optimizing acquisition function with pymoo GA for \u001b[1;36m1\u001b[0m fixed parameters\u001b[33m...\u001b[0m\n"
      ]
     },
     "metadata": {},
     "output_type": "display_data"
    },
    {
     "name": "stdout",
     "output_type": "stream",
     "text": [
      "\n",
      "REC SAMPLE :  ParamVector(s = 1.0, organic = methylammonium, cation = Pb, anion = I)\n",
      "REC MEASUREMENT :  2.4638\n",
      "\n",
      "\n",
      "RUN : 1/10\tITER : 25\tCOST : 5.1\n",
      "\n"
     ]
    },
    {
     "data": {
      "text/html": [
       "<pre style=\"white-space:pre;overflow-x:auto;line-height:normal;font-family:Menlo,'DejaVu Sans Mono',consolas,'Courier New',monospace\"><span style=\"color: #f4a261; text-decoration-color: #f4a261\">ATLAS </span><span style=\"color: #f4a261; text-decoration-color: #f4a261; font-weight: bold\">[</span><span style=\"color: #f4a261; text-decoration-color: #f4a261\">WARNING</span><span style=\"color: #f4a261; text-decoration-color: #f4a261; font-weight: bold\">]</span><span style=\"color: #f4a261; text-decoration-color: #f4a261\"> Setting ask fidelity level to </span><span style=\"color: #008080; text-decoration-color: #008080; font-weight: bold\">1.0</span>\n",
       "</pre>\n"
      ],
      "text/plain": [
       "\u001b[38;2;244;162;97mATLAS \u001b[0m\u001b[1;38;2;244;162;97m[\u001b[0m\u001b[38;2;244;162;97mWARNING\u001b[0m\u001b[1;38;2;244;162;97m]\u001b[0m\u001b[38;2;244;162;97m Setting ask fidelity level to \u001b[0m\u001b[1;36m1.0\u001b[0m\n"
      ]
     },
     "metadata": {},
     "output_type": "display_data"
    },
    {
     "data": {
      "text/html": [
       "<pre style=\"white-space:pre;overflow-x:auto;line-height:normal;font-family:Menlo,'DejaVu Sans Mono',consolas,'Courier New',monospace\"><span style=\"color: #05a6fb; text-decoration-color: #05a6fb\">───────────────────── Training regression surrogate model ──────────────────────</span>\n",
       "</pre>\n"
      ],
      "text/plain": [
       "\u001b[38;2;5;166;251m───────────────────── Training regression surrogate model ──────────────────────\u001b[0m\n"
      ]
     },
     "metadata": {},
     "output_type": "display_data"
    },
    {
     "name": "stderr",
     "output_type": "stream",
     "text": [
      "/users/k23070952/.local/lib/python3.9/site-packages/botorch/models/utils/assorted.py:174: InputDataWarning: Input data is not contained to the unit cube. Please consider min-max scaling the input data.\n",
      "  warnings.warn(msg, InputDataWarning)\n",
      "/users/k23070952/.local/lib/python3.9/site-packages/botorch/models/utils/assorted.py:202: InputDataWarning: Input data is not standardized (mean = tensor([1.9429e-16]), std = tensor([1.0215])). Please consider scaling the input to zero mean and unit variance.\n",
      "  warnings.warn(msg, InputDataWarning)\n"
     ]
    },
    {
     "data": {
      "text/html": [
       "<pre style=\"white-space:pre;overflow-x:auto;line-height:normal;font-family:Menlo,'DejaVu Sans Mono',consolas,'Courier New',monospace\">ATLAS <span style=\"font-weight: bold\">[</span>INFO<span style=\"font-weight: bold\">]</span> Regression surrogate GP trained in <span style=\"color: #008080; text-decoration-color: #008080; font-weight: bold\">0.093</span> sec\n",
       "</pre>\n"
      ],
      "text/plain": [
       "ATLAS \u001b[1m[\u001b[0mINFO\u001b[1m]\u001b[0m Regression surrogate GP trained in \u001b[1;36m0.093\u001b[0m sec\n"
      ]
     },
     "metadata": {},
     "output_type": "display_data"
    },
    {
     "data": {
      "text/html": [
       "<pre style=\"white-space:pre;overflow-x:auto;line-height:normal;font-family:Menlo,'DejaVu Sans Mono',consolas,'Courier New',monospace\"><span style=\"color: #05a6fb; text-decoration-color: #05a6fb\">────────────────────── Acquisition function optimization ───────────────────────</span>\n",
       "</pre>\n"
      ],
      "text/plain": [
       "\u001b[38;2;5;166;251m────────────────────── Acquisition function optimization ───────────────────────\u001b[0m\n"
      ]
     },
     "metadata": {},
     "output_type": "display_data"
    },
    {
     "data": {
      "text/html": [
       "<pre style=\"white-space:pre;overflow-x:auto;line-height:normal;font-family:Menlo,'DejaVu Sans Mono',consolas,'Courier New',monospace\">ATLAS <span style=\"font-weight: bold\">[</span>INFO<span style=\"font-weight: bold\">]</span> Optimizing acquisition function with pymoo GA for <span style=\"color: #008080; text-decoration-color: #008080; font-weight: bold\">1</span> fixed parameters<span style=\"color: #808000; text-decoration-color: #808000\">...</span>\n",
       "</pre>\n"
      ],
      "text/plain": [
       "ATLAS \u001b[1m[\u001b[0mINFO\u001b[1m]\u001b[0m Optimizing acquisition function with pymoo GA for \u001b[1;36m1\u001b[0m fixed parameters\u001b[33m...\u001b[0m\n"
      ]
     },
     "metadata": {},
     "output_type": "display_data"
    },
    {
     "name": "stderr",
     "output_type": "stream",
     "text": [
      "/users/k23070952/.local/lib/python3.9/site-packages/botorch/models/gpytorch.py:477: BotorchTensorDimensionWarning: Non-strict enforcement of botorch tensor conventions. The following error would have been raised with strict enforcement: Expected X and Y to have the same number of dimensions (got X with dimension 3 and Y with dimension 4).\n",
      "  self._validate_tensor_args(X=X, Y=Y, Yvar=noise, strict=False)\n",
      "/users/k23070952/.local/lib/python3.9/site-packages/botorch/models/gpytorch.py:239: BotorchTensorDimensionWarning: Non-strict enforcement of botorch tensor conventions. The following error would have been raised with strict enforcement: Expected X and Y to have the same number of dimensions (got X with dimension 3 and Y with dimension 4).\n",
      "  self._validate_tensor_args(X=X, Y=Y, Yvar=Yvar, strict=False)\n",
      "/users/k23070952/.local/lib/python3.9/site-packages/pymoo/operators/repair/rounding.py:18: RuntimeWarning: invalid value encountered in cast\n",
      "  return np.around(X).astype(int)\n",
      "/users/k23070952/.local/lib/python3.9/site-packages/pymoo/operators/mutation/pm.py:44: RuntimeWarning: overflow encountered in power\n",
      "  val = 2.0 * rand + (1.0 - 2.0 * rand) * (np.power(xy, (eta + 1.0)))\n",
      "/users/k23070952/.local/lib/python3.9/site-packages/pymoo/operators/mutation/pm.py:49: RuntimeWarning: overflow encountered in power\n",
      "  val = 2.0 * (1.0 - rand) + 2.0 * (rand - 0.5) * (np.power(xy, (eta + 1.0)))\n"
     ]
    },
    {
     "name": "stdout",
     "output_type": "stream",
     "text": [
      "Time: 28.425234079360962s\n",
      "SAMPLE :  ParamVector(s = 1.0, organic = azetidinium, cation = Sn, anion = F)\n",
      "MEASUREMENT :  4.4118\n"
     ]
    },
    {
     "data": {
      "text/html": [
       "<pre style=\"white-space:pre;overflow-x:auto;line-height:normal;font-family:Menlo,'DejaVu Sans Mono',consolas,'Courier New',monospace\"><span style=\"color: #05a6fb; text-decoration-color: #05a6fb\">────────────────────── Acquisition function optimization ───────────────────────</span>\n",
       "</pre>\n"
      ],
      "text/plain": [
       "\u001b[38;2;5;166;251m────────────────────── Acquisition function optimization ───────────────────────\u001b[0m\n"
      ]
     },
     "metadata": {},
     "output_type": "display_data"
    },
    {
     "data": {
      "text/html": [
       "<pre style=\"white-space:pre;overflow-x:auto;line-height:normal;font-family:Menlo,'DejaVu Sans Mono',consolas,'Courier New',monospace\">ATLAS <span style=\"font-weight: bold\">[</span>INFO<span style=\"font-weight: bold\">]</span> Optimizing acquisition function with pymoo GA for <span style=\"color: #008080; text-decoration-color: #008080; font-weight: bold\">1</span> fixed parameters<span style=\"color: #808000; text-decoration-color: #808000\">...</span>\n",
       "</pre>\n"
      ],
      "text/plain": [
       "ATLAS \u001b[1m[\u001b[0mINFO\u001b[1m]\u001b[0m Optimizing acquisition function with pymoo GA for \u001b[1;36m1\u001b[0m fixed parameters\u001b[33m...\u001b[0m\n"
      ]
     },
     "metadata": {},
     "output_type": "display_data"
    },
    {
     "name": "stdout",
     "output_type": "stream",
     "text": [
      "\n",
      "REC SAMPLE :  ParamVector(s = 1.0, organic = tetramethylammonium, cation = Sn, anion = Br)\n",
      "REC MEASUREMENT :  2.9855\n",
      "\n",
      "\n",
      "RUN : 1/10\tITER : 26\tCOST : 6.1\n",
      "\n"
     ]
    },
    {
     "data": {
      "text/html": [
       "<pre style=\"white-space:pre;overflow-x:auto;line-height:normal;font-family:Menlo,'DejaVu Sans Mono',consolas,'Courier New',monospace\"><span style=\"color: #f4a261; text-decoration-color: #f4a261\">ATLAS </span><span style=\"color: #f4a261; text-decoration-color: #f4a261; font-weight: bold\">[</span><span style=\"color: #f4a261; text-decoration-color: #f4a261\">WARNING</span><span style=\"color: #f4a261; text-decoration-color: #f4a261; font-weight: bold\">]</span><span style=\"color: #f4a261; text-decoration-color: #f4a261\"> Setting ask fidelity level to </span><span style=\"color: #008080; text-decoration-color: #008080; font-weight: bold\">0.1</span>\n",
       "</pre>\n"
      ],
      "text/plain": [
       "\u001b[38;2;244;162;97mATLAS \u001b[0m\u001b[1;38;2;244;162;97m[\u001b[0m\u001b[38;2;244;162;97mWARNING\u001b[0m\u001b[1;38;2;244;162;97m]\u001b[0m\u001b[38;2;244;162;97m Setting ask fidelity level to \u001b[0m\u001b[1;36m0.1\u001b[0m\n"
      ]
     },
     "metadata": {},
     "output_type": "display_data"
    },
    {
     "data": {
      "text/html": [
       "<pre style=\"white-space:pre;overflow-x:auto;line-height:normal;font-family:Menlo,'DejaVu Sans Mono',consolas,'Courier New',monospace\"><span style=\"color: #05a6fb; text-decoration-color: #05a6fb\">───────────────────── Training regression surrogate model ──────────────────────</span>\n",
       "</pre>\n"
      ],
      "text/plain": [
       "\u001b[38;2;5;166;251m───────────────────── Training regression surrogate model ──────────────────────\u001b[0m\n"
      ]
     },
     "metadata": {},
     "output_type": "display_data"
    },
    {
     "name": "stderr",
     "output_type": "stream",
     "text": [
      "/users/k23070952/.local/lib/python3.9/site-packages/botorch/models/utils/assorted.py:174: InputDataWarning: Input data is not contained to the unit cube. Please consider min-max scaling the input data.\n",
      "  warnings.warn(msg, InputDataWarning)\n",
      "/users/k23070952/.local/lib/python3.9/site-packages/botorch/models/utils/assorted.py:202: InputDataWarning: Input data is not standardized (mean = tensor([-1.4211e-16]), std = tensor([1.0206])). Please consider scaling the input to zero mean and unit variance.\n",
      "  warnings.warn(msg, InputDataWarning)\n"
     ]
    },
    {
     "data": {
      "text/html": [
       "<pre style=\"white-space:pre;overflow-x:auto;line-height:normal;font-family:Menlo,'DejaVu Sans Mono',consolas,'Courier New',monospace\">ATLAS <span style=\"font-weight: bold\">[</span>INFO<span style=\"font-weight: bold\">]</span> Regression surrogate GP trained in <span style=\"color: #008080; text-decoration-color: #008080; font-weight: bold\">0.098</span> sec\n",
       "</pre>\n"
      ],
      "text/plain": [
       "ATLAS \u001b[1m[\u001b[0mINFO\u001b[1m]\u001b[0m Regression surrogate GP trained in \u001b[1;36m0.098\u001b[0m sec\n"
      ]
     },
     "metadata": {},
     "output_type": "display_data"
    },
    {
     "data": {
      "text/html": [
       "<pre style=\"white-space:pre;overflow-x:auto;line-height:normal;font-family:Menlo,'DejaVu Sans Mono',consolas,'Courier New',monospace\"><span style=\"color: #05a6fb; text-decoration-color: #05a6fb\">────────────────────── Acquisition function optimization ───────────────────────</span>\n",
       "</pre>\n"
      ],
      "text/plain": [
       "\u001b[38;2;5;166;251m────────────────────── Acquisition function optimization ───────────────────────\u001b[0m\n"
      ]
     },
     "metadata": {},
     "output_type": "display_data"
    },
    {
     "data": {
      "text/html": [
       "<pre style=\"white-space:pre;overflow-x:auto;line-height:normal;font-family:Menlo,'DejaVu Sans Mono',consolas,'Courier New',monospace\">ATLAS <span style=\"font-weight: bold\">[</span>INFO<span style=\"font-weight: bold\">]</span> Optimizing acquisition function with pymoo GA for <span style=\"color: #008080; text-decoration-color: #008080; font-weight: bold\">1</span> fixed parameters<span style=\"color: #808000; text-decoration-color: #808000\">...</span>\n",
       "</pre>\n"
      ],
      "text/plain": [
       "ATLAS \u001b[1m[\u001b[0mINFO\u001b[1m]\u001b[0m Optimizing acquisition function with pymoo GA for \u001b[1;36m1\u001b[0m fixed parameters\u001b[33m...\u001b[0m\n"
      ]
     },
     "metadata": {},
     "output_type": "display_data"
    },
    {
     "name": "stderr",
     "output_type": "stream",
     "text": [
      "/users/k23070952/.local/lib/python3.9/site-packages/botorch/models/gpytorch.py:477: BotorchTensorDimensionWarning: Non-strict enforcement of botorch tensor conventions. The following error would have been raised with strict enforcement: Expected X and Y to have the same number of dimensions (got X with dimension 3 and Y with dimension 4).\n",
      "  self._validate_tensor_args(X=X, Y=Y, Yvar=noise, strict=False)\n",
      "/users/k23070952/.local/lib/python3.9/site-packages/botorch/models/gpytorch.py:239: BotorchTensorDimensionWarning: Non-strict enforcement of botorch tensor conventions. The following error would have been raised with strict enforcement: Expected X and Y to have the same number of dimensions (got X with dimension 3 and Y with dimension 4).\n",
      "  self._validate_tensor_args(X=X, Y=Y, Yvar=Yvar, strict=False)\n",
      "/users/k23070952/.local/lib/python3.9/site-packages/pymoo/operators/repair/rounding.py:18: RuntimeWarning: invalid value encountered in cast\n",
      "  return np.around(X).astype(int)\n",
      "/users/k23070952/.local/lib/python3.9/site-packages/pymoo/operators/mutation/pm.py:44: RuntimeWarning: overflow encountered in power\n",
      "  val = 2.0 * rand + (1.0 - 2.0 * rand) * (np.power(xy, (eta + 1.0)))\n",
      "/users/k23070952/.local/lib/python3.9/site-packages/pymoo/operators/mutation/pm.py:49: RuntimeWarning: overflow encountered in power\n",
      "  val = 2.0 * (1.0 - rand) + 2.0 * (rand - 0.5) * (np.power(xy, (eta + 1.0)))\n"
     ]
    },
    {
     "name": "stdout",
     "output_type": "stream",
     "text": [
      "Time: 28.765717267990112s\n",
      "SAMPLE :  ParamVector(s = 0.1, organic = butylammonium, cation = Pb, anion = I)\n",
      "MEASUREMENT :  1.9361\n"
     ]
    },
    {
     "data": {
      "text/html": [
       "<pre style=\"white-space:pre;overflow-x:auto;line-height:normal;font-family:Menlo,'DejaVu Sans Mono',consolas,'Courier New',monospace\"><span style=\"color: #05a6fb; text-decoration-color: #05a6fb\">────────────────────── Acquisition function optimization ───────────────────────</span>\n",
       "</pre>\n"
      ],
      "text/plain": [
       "\u001b[38;2;5;166;251m────────────────────── Acquisition function optimization ───────────────────────\u001b[0m\n"
      ]
     },
     "metadata": {},
     "output_type": "display_data"
    },
    {
     "data": {
      "text/html": [
       "<pre style=\"white-space:pre;overflow-x:auto;line-height:normal;font-family:Menlo,'DejaVu Sans Mono',consolas,'Courier New',monospace\">ATLAS <span style=\"font-weight: bold\">[</span>INFO<span style=\"font-weight: bold\">]</span> Optimizing acquisition function with pymoo GA for <span style=\"color: #008080; text-decoration-color: #008080; font-weight: bold\">1</span> fixed parameters<span style=\"color: #808000; text-decoration-color: #808000\">...</span>\n",
       "</pre>\n"
      ],
      "text/plain": [
       "ATLAS \u001b[1m[\u001b[0mINFO\u001b[1m]\u001b[0m Optimizing acquisition function with pymoo GA for \u001b[1;36m1\u001b[0m fixed parameters\u001b[33m...\u001b[0m\n"
      ]
     },
     "metadata": {},
     "output_type": "display_data"
    },
    {
     "name": "stdout",
     "output_type": "stream",
     "text": [
      "\n",
      "REC SAMPLE :  ParamVector(s = 1.0, organic = guanidinium, cation = Sn, anion = F)\n",
      "REC MEASUREMENT :  4.1905\n",
      "\n",
      "\n",
      "RUN : 1/10\tITER : 27\tCOST : 6.199999999999999\n",
      "\n"
     ]
    },
    {
     "data": {
      "text/html": [
       "<pre style=\"white-space:pre;overflow-x:auto;line-height:normal;font-family:Menlo,'DejaVu Sans Mono',consolas,'Courier New',monospace\"><span style=\"color: #f4a261; text-decoration-color: #f4a261\">ATLAS </span><span style=\"color: #f4a261; text-decoration-color: #f4a261; font-weight: bold\">[</span><span style=\"color: #f4a261; text-decoration-color: #f4a261\">WARNING</span><span style=\"color: #f4a261; text-decoration-color: #f4a261; font-weight: bold\">]</span><span style=\"color: #f4a261; text-decoration-color: #f4a261\"> Setting ask fidelity level to </span><span style=\"color: #008080; text-decoration-color: #008080; font-weight: bold\">0.1</span>\n",
       "</pre>\n"
      ],
      "text/plain": [
       "\u001b[38;2;244;162;97mATLAS \u001b[0m\u001b[1;38;2;244;162;97m[\u001b[0m\u001b[38;2;244;162;97mWARNING\u001b[0m\u001b[1;38;2;244;162;97m]\u001b[0m\u001b[38;2;244;162;97m Setting ask fidelity level to \u001b[0m\u001b[1;36m0.1\u001b[0m\n"
      ]
     },
     "metadata": {},
     "output_type": "display_data"
    },
    {
     "data": {
      "text/html": [
       "<pre style=\"white-space:pre;overflow-x:auto;line-height:normal;font-family:Menlo,'DejaVu Sans Mono',consolas,'Courier New',monospace\"><span style=\"color: #05a6fb; text-decoration-color: #05a6fb\">───────────────────── Training regression surrogate model ──────────────────────</span>\n",
       "</pre>\n"
      ],
      "text/plain": [
       "\u001b[38;2;5;166;251m───────────────────── Training regression surrogate model ──────────────────────\u001b[0m\n"
      ]
     },
     "metadata": {},
     "output_type": "display_data"
    },
    {
     "name": "stderr",
     "output_type": "stream",
     "text": [
      "/users/k23070952/.local/lib/python3.9/site-packages/botorch/models/utils/assorted.py:174: InputDataWarning: Input data is not contained to the unit cube. Please consider min-max scaling the input data.\n",
      "  warnings.warn(msg, InputDataWarning)\n",
      "/users/k23070952/.local/lib/python3.9/site-packages/botorch/models/utils/assorted.py:202: InputDataWarning: Input data is not standardized (mean = tensor([1.4091e-16]), std = tensor([1.0198])). Please consider scaling the input to zero mean and unit variance.\n",
      "  warnings.warn(msg, InputDataWarning)\n"
     ]
    },
    {
     "data": {
      "text/html": [
       "<pre style=\"white-space:pre;overflow-x:auto;line-height:normal;font-family:Menlo,'DejaVu Sans Mono',consolas,'Courier New',monospace\">ATLAS <span style=\"font-weight: bold\">[</span>INFO<span style=\"font-weight: bold\">]</span> Regression surrogate GP trained in <span style=\"color: #008080; text-decoration-color: #008080; font-weight: bold\">0.098</span> sec\n",
       "</pre>\n"
      ],
      "text/plain": [
       "ATLAS \u001b[1m[\u001b[0mINFO\u001b[1m]\u001b[0m Regression surrogate GP trained in \u001b[1;36m0.098\u001b[0m sec\n"
      ]
     },
     "metadata": {},
     "output_type": "display_data"
    },
    {
     "data": {
      "text/html": [
       "<pre style=\"white-space:pre;overflow-x:auto;line-height:normal;font-family:Menlo,'DejaVu Sans Mono',consolas,'Courier New',monospace\"><span style=\"color: #05a6fb; text-decoration-color: #05a6fb\">────────────────────── Acquisition function optimization ───────────────────────</span>\n",
       "</pre>\n"
      ],
      "text/plain": [
       "\u001b[38;2;5;166;251m────────────────────── Acquisition function optimization ───────────────────────\u001b[0m\n"
      ]
     },
     "metadata": {},
     "output_type": "display_data"
    },
    {
     "data": {
      "text/html": [
       "<pre style=\"white-space:pre;overflow-x:auto;line-height:normal;font-family:Menlo,'DejaVu Sans Mono',consolas,'Courier New',monospace\">ATLAS <span style=\"font-weight: bold\">[</span>INFO<span style=\"font-weight: bold\">]</span> Optimizing acquisition function with pymoo GA for <span style=\"color: #008080; text-decoration-color: #008080; font-weight: bold\">1</span> fixed parameters<span style=\"color: #808000; text-decoration-color: #808000\">...</span>\n",
       "</pre>\n"
      ],
      "text/plain": [
       "ATLAS \u001b[1m[\u001b[0mINFO\u001b[1m]\u001b[0m Optimizing acquisition function with pymoo GA for \u001b[1;36m1\u001b[0m fixed parameters\u001b[33m...\u001b[0m\n"
      ]
     },
     "metadata": {},
     "output_type": "display_data"
    },
    {
     "name": "stderr",
     "output_type": "stream",
     "text": [
      "/users/k23070952/.local/lib/python3.9/site-packages/botorch/models/gpytorch.py:477: BotorchTensorDimensionWarning: Non-strict enforcement of botorch tensor conventions. The following error would have been raised with strict enforcement: Expected X and Y to have the same number of dimensions (got X with dimension 3 and Y with dimension 4).\n",
      "  self._validate_tensor_args(X=X, Y=Y, Yvar=noise, strict=False)\n",
      "/users/k23070952/.local/lib/python3.9/site-packages/botorch/models/gpytorch.py:239: BotorchTensorDimensionWarning: Non-strict enforcement of botorch tensor conventions. The following error would have been raised with strict enforcement: Expected X and Y to have the same number of dimensions (got X with dimension 3 and Y with dimension 4).\n",
      "  self._validate_tensor_args(X=X, Y=Y, Yvar=Yvar, strict=False)\n",
      "/users/k23070952/.local/lib/python3.9/site-packages/pymoo/operators/repair/rounding.py:18: RuntimeWarning: invalid value encountered in cast\n",
      "  return np.around(X).astype(int)\n",
      "/users/k23070952/.local/lib/python3.9/site-packages/pymoo/operators/mutation/pm.py:44: RuntimeWarning: overflow encountered in power\n",
      "  val = 2.0 * rand + (1.0 - 2.0 * rand) * (np.power(xy, (eta + 1.0)))\n",
      "/users/k23070952/.local/lib/python3.9/site-packages/pymoo/operators/mutation/pm.py:49: RuntimeWarning: overflow encountered in power\n",
      "  val = 2.0 * (1.0 - rand) + 2.0 * (rand - 0.5) * (np.power(xy, (eta + 1.0)))\n"
     ]
    },
    {
     "name": "stdout",
     "output_type": "stream",
     "text": [
      "Time: 29.04991602897644s\n",
      "SAMPLE :  ParamVector(s = 0.1, organic = isopropylammonium, cation = Pb, anion = F)\n",
      "MEASUREMENT :  4.137\n"
     ]
    },
    {
     "data": {
      "text/html": [
       "<pre style=\"white-space:pre;overflow-x:auto;line-height:normal;font-family:Menlo,'DejaVu Sans Mono',consolas,'Courier New',monospace\"><span style=\"color: #05a6fb; text-decoration-color: #05a6fb\">────────────────────── Acquisition function optimization ───────────────────────</span>\n",
       "</pre>\n"
      ],
      "text/plain": [
       "\u001b[38;2;5;166;251m────────────────────── Acquisition function optimization ───────────────────────\u001b[0m\n"
      ]
     },
     "metadata": {},
     "output_type": "display_data"
    },
    {
     "data": {
      "text/html": [
       "<pre style=\"white-space:pre;overflow-x:auto;line-height:normal;font-family:Menlo,'DejaVu Sans Mono',consolas,'Courier New',monospace\">ATLAS <span style=\"font-weight: bold\">[</span>INFO<span style=\"font-weight: bold\">]</span> Optimizing acquisition function with pymoo GA for <span style=\"color: #008080; text-decoration-color: #008080; font-weight: bold\">1</span> fixed parameters<span style=\"color: #808000; text-decoration-color: #808000\">...</span>\n",
       "</pre>\n"
      ],
      "text/plain": [
       "ATLAS \u001b[1m[\u001b[0mINFO\u001b[1m]\u001b[0m Optimizing acquisition function with pymoo GA for \u001b[1;36m1\u001b[0m fixed parameters\u001b[33m...\u001b[0m\n"
      ]
     },
     "metadata": {},
     "output_type": "display_data"
    },
    {
     "name": "stdout",
     "output_type": "stream",
     "text": [
      "\n",
      "REC SAMPLE :  ParamVector(s = 1.0, organic = isopropylammonium, cation = Pb, anion = I)\n",
      "REC MEASUREMENT :  2.6193\n",
      "\n",
      "\n",
      "RUN : 1/10\tITER : 28\tCOST : 6.299999999999999\n",
      "\n"
     ]
    },
    {
     "data": {
      "text/html": [
       "<pre style=\"white-space:pre;overflow-x:auto;line-height:normal;font-family:Menlo,'DejaVu Sans Mono',consolas,'Courier New',monospace\"><span style=\"color: #f4a261; text-decoration-color: #f4a261\">ATLAS </span><span style=\"color: #f4a261; text-decoration-color: #f4a261; font-weight: bold\">[</span><span style=\"color: #f4a261; text-decoration-color: #f4a261\">WARNING</span><span style=\"color: #f4a261; text-decoration-color: #f4a261; font-weight: bold\">]</span><span style=\"color: #f4a261; text-decoration-color: #f4a261\"> Setting ask fidelity level to </span><span style=\"color: #008080; text-decoration-color: #008080; font-weight: bold\">0.1</span>\n",
       "</pre>\n"
      ],
      "text/plain": [
       "\u001b[38;2;244;162;97mATLAS \u001b[0m\u001b[1;38;2;244;162;97m[\u001b[0m\u001b[38;2;244;162;97mWARNING\u001b[0m\u001b[1;38;2;244;162;97m]\u001b[0m\u001b[38;2;244;162;97m Setting ask fidelity level to \u001b[0m\u001b[1;36m0.1\u001b[0m\n"
      ]
     },
     "metadata": {},
     "output_type": "display_data"
    },
    {
     "data": {
      "text/html": [
       "<pre style=\"white-space:pre;overflow-x:auto;line-height:normal;font-family:Menlo,'DejaVu Sans Mono',consolas,'Courier New',monospace\"><span style=\"color: #05a6fb; text-decoration-color: #05a6fb\">───────────────────── Training regression surrogate model ──────────────────────</span>\n",
       "</pre>\n"
      ],
      "text/plain": [
       "\u001b[38;2;5;166;251m───────────────────── Training regression surrogate model ──────────────────────\u001b[0m\n"
      ]
     },
     "metadata": {},
     "output_type": "display_data"
    },
    {
     "name": "stderr",
     "output_type": "stream",
     "text": [
      "/users/k23070952/.local/lib/python3.9/site-packages/botorch/models/utils/assorted.py:174: InputDataWarning: Input data is not contained to the unit cube. Please consider min-max scaling the input data.\n",
      "  warnings.warn(msg, InputDataWarning)\n",
      "/users/k23070952/.local/lib/python3.9/site-packages/botorch/models/utils/assorted.py:202: InputDataWarning: Input data is not standardized (mean = tensor([2.7961e-16]), std = tensor([1.0190])). Please consider scaling the input to zero mean and unit variance.\n",
      "  warnings.warn(msg, InputDataWarning)\n"
     ]
    },
    {
     "data": {
      "text/html": [
       "<pre style=\"white-space:pre;overflow-x:auto;line-height:normal;font-family:Menlo,'DejaVu Sans Mono',consolas,'Courier New',monospace\">ATLAS <span style=\"font-weight: bold\">[</span>INFO<span style=\"font-weight: bold\">]</span> Regression surrogate GP trained in <span style=\"color: #008080; text-decoration-color: #008080; font-weight: bold\">0.121</span> sec\n",
       "</pre>\n"
      ],
      "text/plain": [
       "ATLAS \u001b[1m[\u001b[0mINFO\u001b[1m]\u001b[0m Regression surrogate GP trained in \u001b[1;36m0.121\u001b[0m sec\n"
      ]
     },
     "metadata": {},
     "output_type": "display_data"
    },
    {
     "data": {
      "text/html": [
       "<pre style=\"white-space:pre;overflow-x:auto;line-height:normal;font-family:Menlo,'DejaVu Sans Mono',consolas,'Courier New',monospace\"><span style=\"color: #05a6fb; text-decoration-color: #05a6fb\">────────────────────── Acquisition function optimization ───────────────────────</span>\n",
       "</pre>\n"
      ],
      "text/plain": [
       "\u001b[38;2;5;166;251m────────────────────── Acquisition function optimization ───────────────────────\u001b[0m\n"
      ]
     },
     "metadata": {},
     "output_type": "display_data"
    },
    {
     "data": {
      "text/html": [
       "<pre style=\"white-space:pre;overflow-x:auto;line-height:normal;font-family:Menlo,'DejaVu Sans Mono',consolas,'Courier New',monospace\">ATLAS <span style=\"font-weight: bold\">[</span>INFO<span style=\"font-weight: bold\">]</span> Optimizing acquisition function with pymoo GA for <span style=\"color: #008080; text-decoration-color: #008080; font-weight: bold\">1</span> fixed parameters<span style=\"color: #808000; text-decoration-color: #808000\">...</span>\n",
       "</pre>\n"
      ],
      "text/plain": [
       "ATLAS \u001b[1m[\u001b[0mINFO\u001b[1m]\u001b[0m Optimizing acquisition function with pymoo GA for \u001b[1;36m1\u001b[0m fixed parameters\u001b[33m...\u001b[0m\n"
      ]
     },
     "metadata": {},
     "output_type": "display_data"
    },
    {
     "name": "stderr",
     "output_type": "stream",
     "text": [
      "/users/k23070952/.local/lib/python3.9/site-packages/botorch/models/gpytorch.py:477: BotorchTensorDimensionWarning: Non-strict enforcement of botorch tensor conventions. The following error would have been raised with strict enforcement: Expected X and Y to have the same number of dimensions (got X with dimension 3 and Y with dimension 4).\n",
      "  self._validate_tensor_args(X=X, Y=Y, Yvar=noise, strict=False)\n",
      "/users/k23070952/.local/lib/python3.9/site-packages/botorch/models/gpytorch.py:239: BotorchTensorDimensionWarning: Non-strict enforcement of botorch tensor conventions. The following error would have been raised with strict enforcement: Expected X and Y to have the same number of dimensions (got X with dimension 3 and Y with dimension 4).\n",
      "  self._validate_tensor_args(X=X, Y=Y, Yvar=Yvar, strict=False)\n",
      "/users/k23070952/.local/lib/python3.9/site-packages/pymoo/operators/repair/rounding.py:18: RuntimeWarning: invalid value encountered in cast\n",
      "  return np.around(X).astype(int)\n",
      "/users/k23070952/.local/lib/python3.9/site-packages/pymoo/operators/mutation/pm.py:44: RuntimeWarning: overflow encountered in power\n",
      "  val = 2.0 * rand + (1.0 - 2.0 * rand) * (np.power(xy, (eta + 1.0)))\n",
      "/users/k23070952/.local/lib/python3.9/site-packages/pymoo/operators/mutation/pm.py:49: RuntimeWarning: overflow encountered in power\n",
      "  val = 2.0 * (1.0 - rand) + 2.0 * (rand - 0.5) * (np.power(xy, (eta + 1.0)))\n"
     ]
    },
    {
     "name": "stdout",
     "output_type": "stream",
     "text": [
      "Time: 28.90234899520874s\n",
      "SAMPLE :  ParamVector(s = 0.1, organic = ammonium, cation = Pb, anion = Br)\n",
      "MEASUREMENT :  2.378\n"
     ]
    },
    {
     "data": {
      "text/html": [
       "<pre style=\"white-space:pre;overflow-x:auto;line-height:normal;font-family:Menlo,'DejaVu Sans Mono',consolas,'Courier New',monospace\"><span style=\"color: #05a6fb; text-decoration-color: #05a6fb\">────────────────────── Acquisition function optimization ───────────────────────</span>\n",
       "</pre>\n"
      ],
      "text/plain": [
       "\u001b[38;2;5;166;251m────────────────────── Acquisition function optimization ───────────────────────\u001b[0m\n"
      ]
     },
     "metadata": {},
     "output_type": "display_data"
    },
    {
     "data": {
      "text/html": [
       "<pre style=\"white-space:pre;overflow-x:auto;line-height:normal;font-family:Menlo,'DejaVu Sans Mono',consolas,'Courier New',monospace\">ATLAS <span style=\"font-weight: bold\">[</span>INFO<span style=\"font-weight: bold\">]</span> Optimizing acquisition function with pymoo GA for <span style=\"color: #008080; text-decoration-color: #008080; font-weight: bold\">1</span> fixed parameters<span style=\"color: #808000; text-decoration-color: #808000\">...</span>\n",
       "</pre>\n"
      ],
      "text/plain": [
       "ATLAS \u001b[1m[\u001b[0mINFO\u001b[1m]\u001b[0m Optimizing acquisition function with pymoo GA for \u001b[1;36m1\u001b[0m fixed parameters\u001b[33m...\u001b[0m\n"
      ]
     },
     "metadata": {},
     "output_type": "display_data"
    },
    {
     "name": "stdout",
     "output_type": "stream",
     "text": [
      "\n",
      "REC SAMPLE :  ParamVector(s = 1.0, organic = hydroxylammonium, cation = Pb, anion = Cl)\n",
      "REC MEASUREMENT :  4.1047\n",
      "\n",
      "\n",
      "RUN : 1/10\tITER : 29\tCOST : 6.399999999999999\n",
      "\n"
     ]
    },
    {
     "data": {
      "text/html": [
       "<pre style=\"white-space:pre;overflow-x:auto;line-height:normal;font-family:Menlo,'DejaVu Sans Mono',consolas,'Courier New',monospace\"><span style=\"color: #f4a261; text-decoration-color: #f4a261\">ATLAS </span><span style=\"color: #f4a261; text-decoration-color: #f4a261; font-weight: bold\">[</span><span style=\"color: #f4a261; text-decoration-color: #f4a261\">WARNING</span><span style=\"color: #f4a261; text-decoration-color: #f4a261; font-weight: bold\">]</span><span style=\"color: #f4a261; text-decoration-color: #f4a261\"> Setting ask fidelity level to </span><span style=\"color: #008080; text-decoration-color: #008080; font-weight: bold\">0.1</span>\n",
       "</pre>\n"
      ],
      "text/plain": [
       "\u001b[38;2;244;162;97mATLAS \u001b[0m\u001b[1;38;2;244;162;97m[\u001b[0m\u001b[38;2;244;162;97mWARNING\u001b[0m\u001b[1;38;2;244;162;97m]\u001b[0m\u001b[38;2;244;162;97m Setting ask fidelity level to \u001b[0m\u001b[1;36m0.1\u001b[0m\n"
      ]
     },
     "metadata": {},
     "output_type": "display_data"
    },
    {
     "data": {
      "text/html": [
       "<pre style=\"white-space:pre;overflow-x:auto;line-height:normal;font-family:Menlo,'DejaVu Sans Mono',consolas,'Courier New',monospace\"><span style=\"color: #05a6fb; text-decoration-color: #05a6fb\">───────────────────── Training regression surrogate model ──────────────────────</span>\n",
       "</pre>\n"
      ],
      "text/plain": [
       "\u001b[38;2;5;166;251m───────────────────── Training regression surrogate model ──────────────────────\u001b[0m\n"
      ]
     },
     "metadata": {},
     "output_type": "display_data"
    },
    {
     "name": "stderr",
     "output_type": "stream",
     "text": [
      "/users/k23070952/.local/lib/python3.9/site-packages/botorch/models/utils/assorted.py:174: InputDataWarning: Input data is not contained to the unit cube. Please consider min-max scaling the input data.\n",
      "  warnings.warn(msg, InputDataWarning)\n",
      "/users/k23070952/.local/lib/python3.9/site-packages/botorch/models/utils/assorted.py:202: InputDataWarning: Input data is not standardized (mean = tensor([2.2601e-16]), std = tensor([1.0184])). Please consider scaling the input to zero mean and unit variance.\n",
      "  warnings.warn(msg, InputDataWarning)\n"
     ]
    },
    {
     "data": {
      "text/html": [
       "<pre style=\"white-space:pre;overflow-x:auto;line-height:normal;font-family:Menlo,'DejaVu Sans Mono',consolas,'Courier New',monospace\">ATLAS <span style=\"font-weight: bold\">[</span>INFO<span style=\"font-weight: bold\">]</span> Regression surrogate GP trained in <span style=\"color: #008080; text-decoration-color: #008080; font-weight: bold\">0.098</span> sec\n",
       "</pre>\n"
      ],
      "text/plain": [
       "ATLAS \u001b[1m[\u001b[0mINFO\u001b[1m]\u001b[0m Regression surrogate GP trained in \u001b[1;36m0.098\u001b[0m sec\n"
      ]
     },
     "metadata": {},
     "output_type": "display_data"
    },
    {
     "data": {
      "text/html": [
       "<pre style=\"white-space:pre;overflow-x:auto;line-height:normal;font-family:Menlo,'DejaVu Sans Mono',consolas,'Courier New',monospace\"><span style=\"color: #05a6fb; text-decoration-color: #05a6fb\">────────────────────── Acquisition function optimization ───────────────────────</span>\n",
       "</pre>\n"
      ],
      "text/plain": [
       "\u001b[38;2;5;166;251m────────────────────── Acquisition function optimization ───────────────────────\u001b[0m\n"
      ]
     },
     "metadata": {},
     "output_type": "display_data"
    },
    {
     "data": {
      "text/html": [
       "<pre style=\"white-space:pre;overflow-x:auto;line-height:normal;font-family:Menlo,'DejaVu Sans Mono',consolas,'Courier New',monospace\">ATLAS <span style=\"font-weight: bold\">[</span>INFO<span style=\"font-weight: bold\">]</span> Optimizing acquisition function with pymoo GA for <span style=\"color: #008080; text-decoration-color: #008080; font-weight: bold\">1</span> fixed parameters<span style=\"color: #808000; text-decoration-color: #808000\">...</span>\n",
       "</pre>\n"
      ],
      "text/plain": [
       "ATLAS \u001b[1m[\u001b[0mINFO\u001b[1m]\u001b[0m Optimizing acquisition function with pymoo GA for \u001b[1;36m1\u001b[0m fixed parameters\u001b[33m...\u001b[0m\n"
      ]
     },
     "metadata": {},
     "output_type": "display_data"
    },
    {
     "name": "stderr",
     "output_type": "stream",
     "text": [
      "/users/k23070952/.local/lib/python3.9/site-packages/botorch/models/gpytorch.py:477: BotorchTensorDimensionWarning: Non-strict enforcement of botorch tensor conventions. The following error would have been raised with strict enforcement: Expected X and Y to have the same number of dimensions (got X with dimension 3 and Y with dimension 4).\n",
      "  self._validate_tensor_args(X=X, Y=Y, Yvar=noise, strict=False)\n",
      "/users/k23070952/.local/lib/python3.9/site-packages/botorch/models/gpytorch.py:239: BotorchTensorDimensionWarning: Non-strict enforcement of botorch tensor conventions. The following error would have been raised with strict enforcement: Expected X and Y to have the same number of dimensions (got X with dimension 3 and Y with dimension 4).\n",
      "  self._validate_tensor_args(X=X, Y=Y, Yvar=Yvar, strict=False)\n",
      "/users/k23070952/.local/lib/python3.9/site-packages/pymoo/operators/repair/rounding.py:18: RuntimeWarning: invalid value encountered in cast\n",
      "  return np.around(X).astype(int)\n",
      "/users/k23070952/.local/lib/python3.9/site-packages/pymoo/operators/mutation/pm.py:44: RuntimeWarning: overflow encountered in power\n",
      "  val = 2.0 * rand + (1.0 - 2.0 * rand) * (np.power(xy, (eta + 1.0)))\n",
      "/users/k23070952/.local/lib/python3.9/site-packages/pymoo/operators/mutation/pm.py:49: RuntimeWarning: overflow encountered in power\n",
      "  val = 2.0 * (1.0 - rand) + 2.0 * (rand - 0.5) * (np.power(xy, (eta + 1.0)))\n"
     ]
    },
    {
     "name": "stdout",
     "output_type": "stream",
     "text": [
      "Time: 29.00190544128418s\n",
      "SAMPLE :  ParamVector(s = 0.1, organic = ethylammonium, cation = Ge, anion = Br)\n",
      "MEASUREMENT :  1.8833\n"
     ]
    },
    {
     "data": {
      "text/html": [
       "<pre style=\"white-space:pre;overflow-x:auto;line-height:normal;font-family:Menlo,'DejaVu Sans Mono',consolas,'Courier New',monospace\"><span style=\"color: #05a6fb; text-decoration-color: #05a6fb\">────────────────────── Acquisition function optimization ───────────────────────</span>\n",
       "</pre>\n"
      ],
      "text/plain": [
       "\u001b[38;2;5;166;251m────────────────────── Acquisition function optimization ───────────────────────\u001b[0m\n"
      ]
     },
     "metadata": {},
     "output_type": "display_data"
    },
    {
     "data": {
      "text/html": [
       "<pre style=\"white-space:pre;overflow-x:auto;line-height:normal;font-family:Menlo,'DejaVu Sans Mono',consolas,'Courier New',monospace\">ATLAS <span style=\"font-weight: bold\">[</span>INFO<span style=\"font-weight: bold\">]</span> Optimizing acquisition function with pymoo GA for <span style=\"color: #008080; text-decoration-color: #008080; font-weight: bold\">1</span> fixed parameters<span style=\"color: #808000; text-decoration-color: #808000\">...</span>\n",
       "</pre>\n"
      ],
      "text/plain": [
       "ATLAS \u001b[1m[\u001b[0mINFO\u001b[1m]\u001b[0m Optimizing acquisition function with pymoo GA for \u001b[1;36m1\u001b[0m fixed parameters\u001b[33m...\u001b[0m\n"
      ]
     },
     "metadata": {},
     "output_type": "display_data"
    },
    {
     "name": "stdout",
     "output_type": "stream",
     "text": [
      "\n",
      "REC SAMPLE :  ParamVector(s = 1.0, organic = propylammonium, cation = Pb, anion = Br)\n",
      "REC MEASUREMENT :  3.144\n",
      "\n",
      "\n",
      "RUN : 1/10\tITER : 30\tCOST : 6.499999999999998\n",
      "\n"
     ]
    },
    {
     "data": {
      "text/html": [
       "<pre style=\"white-space:pre;overflow-x:auto;line-height:normal;font-family:Menlo,'DejaVu Sans Mono',consolas,'Courier New',monospace\"><span style=\"color: #f4a261; text-decoration-color: #f4a261\">ATLAS </span><span style=\"color: #f4a261; text-decoration-color: #f4a261; font-weight: bold\">[</span><span style=\"color: #f4a261; text-decoration-color: #f4a261\">WARNING</span><span style=\"color: #f4a261; text-decoration-color: #f4a261; font-weight: bold\">]</span><span style=\"color: #f4a261; text-decoration-color: #f4a261\"> Setting ask fidelity level to </span><span style=\"color: #008080; text-decoration-color: #008080; font-weight: bold\">0.1</span>\n",
       "</pre>\n"
      ],
      "text/plain": [
       "\u001b[38;2;244;162;97mATLAS \u001b[0m\u001b[1;38;2;244;162;97m[\u001b[0m\u001b[38;2;244;162;97mWARNING\u001b[0m\u001b[1;38;2;244;162;97m]\u001b[0m\u001b[38;2;244;162;97m Setting ask fidelity level to \u001b[0m\u001b[1;36m0.1\u001b[0m\n"
      ]
     },
     "metadata": {},
     "output_type": "display_data"
    },
    {
     "data": {
      "text/html": [
       "<pre style=\"white-space:pre;overflow-x:auto;line-height:normal;font-family:Menlo,'DejaVu Sans Mono',consolas,'Courier New',monospace\"><span style=\"color: #05a6fb; text-decoration-color: #05a6fb\">───────────────────── Training regression surrogate model ──────────────────────</span>\n",
       "</pre>\n"
      ],
      "text/plain": [
       "\u001b[38;2;5;166;251m───────────────────── Training regression surrogate model ──────────────────────\u001b[0m\n"
      ]
     },
     "metadata": {},
     "output_type": "display_data"
    },
    {
     "name": "stderr",
     "output_type": "stream",
     "text": [
      "/users/k23070952/.local/lib/python3.9/site-packages/botorch/models/utils/assorted.py:174: InputDataWarning: Input data is not contained to the unit cube. Please consider min-max scaling the input data.\n",
      "  warnings.warn(msg, InputDataWarning)\n",
      "/users/k23070952/.local/lib/python3.9/site-packages/botorch/models/utils/assorted.py:202: InputDataWarning: Input data is not standardized (mean = tensor([-1.5313e-17]), std = tensor([1.0177])). Please consider scaling the input to zero mean and unit variance.\n",
      "  warnings.warn(msg, InputDataWarning)\n"
     ]
    },
    {
     "data": {
      "text/html": [
       "<pre style=\"white-space:pre;overflow-x:auto;line-height:normal;font-family:Menlo,'DejaVu Sans Mono',consolas,'Courier New',monospace\">ATLAS <span style=\"font-weight: bold\">[</span>INFO<span style=\"font-weight: bold\">]</span> Regression surrogate GP trained in <span style=\"color: #008080; text-decoration-color: #008080; font-weight: bold\">0.089</span> sec\n",
       "</pre>\n"
      ],
      "text/plain": [
       "ATLAS \u001b[1m[\u001b[0mINFO\u001b[1m]\u001b[0m Regression surrogate GP trained in \u001b[1;36m0.089\u001b[0m sec\n"
      ]
     },
     "metadata": {},
     "output_type": "display_data"
    },
    {
     "data": {
      "text/html": [
       "<pre style=\"white-space:pre;overflow-x:auto;line-height:normal;font-family:Menlo,'DejaVu Sans Mono',consolas,'Courier New',monospace\"><span style=\"color: #05a6fb; text-decoration-color: #05a6fb\">────────────────────── Acquisition function optimization ───────────────────────</span>\n",
       "</pre>\n"
      ],
      "text/plain": [
       "\u001b[38;2;5;166;251m────────────────────── Acquisition function optimization ───────────────────────\u001b[0m\n"
      ]
     },
     "metadata": {},
     "output_type": "display_data"
    },
    {
     "data": {
      "text/html": [
       "<pre style=\"white-space:pre;overflow-x:auto;line-height:normal;font-family:Menlo,'DejaVu Sans Mono',consolas,'Courier New',monospace\">ATLAS <span style=\"font-weight: bold\">[</span>INFO<span style=\"font-weight: bold\">]</span> Optimizing acquisition function with pymoo GA for <span style=\"color: #008080; text-decoration-color: #008080; font-weight: bold\">1</span> fixed parameters<span style=\"color: #808000; text-decoration-color: #808000\">...</span>\n",
       "</pre>\n"
      ],
      "text/plain": [
       "ATLAS \u001b[1m[\u001b[0mINFO\u001b[1m]\u001b[0m Optimizing acquisition function with pymoo GA for \u001b[1;36m1\u001b[0m fixed parameters\u001b[33m...\u001b[0m\n"
      ]
     },
     "metadata": {},
     "output_type": "display_data"
    },
    {
     "name": "stderr",
     "output_type": "stream",
     "text": [
      "/users/k23070952/.local/lib/python3.9/site-packages/botorch/models/gpytorch.py:477: BotorchTensorDimensionWarning: Non-strict enforcement of botorch tensor conventions. The following error would have been raised with strict enforcement: Expected X and Y to have the same number of dimensions (got X with dimension 3 and Y with dimension 4).\n",
      "  self._validate_tensor_args(X=X, Y=Y, Yvar=noise, strict=False)\n",
      "/users/k23070952/.local/lib/python3.9/site-packages/botorch/models/gpytorch.py:239: BotorchTensorDimensionWarning: Non-strict enforcement of botorch tensor conventions. The following error would have been raised with strict enforcement: Expected X and Y to have the same number of dimensions (got X with dimension 3 and Y with dimension 4).\n",
      "  self._validate_tensor_args(X=X, Y=Y, Yvar=Yvar, strict=False)\n",
      "/users/k23070952/.local/lib/python3.9/site-packages/pymoo/operators/repair/rounding.py:18: RuntimeWarning: invalid value encountered in cast\n",
      "  return np.around(X).astype(int)\n",
      "/users/k23070952/.local/lib/python3.9/site-packages/pymoo/operators/mutation/pm.py:44: RuntimeWarning: overflow encountered in power\n",
      "  val = 2.0 * rand + (1.0 - 2.0 * rand) * (np.power(xy, (eta + 1.0)))\n",
      "/users/k23070952/.local/lib/python3.9/site-packages/pymoo/operators/mutation/pm.py:49: RuntimeWarning: overflow encountered in power\n",
      "  val = 2.0 * (1.0 - rand) + 2.0 * (rand - 0.5) * (np.power(xy, (eta + 1.0)))\n"
     ]
    },
    {
     "name": "stdout",
     "output_type": "stream",
     "text": [
      "Time: 29.406525373458862s\n",
      "SAMPLE :  ParamVector(s = 0.1, organic = imidazolium, cation = Pb, anion = I)\n",
      "MEASUREMENT :  1.5309\n"
     ]
    },
    {
     "data": {
      "text/html": [
       "<pre style=\"white-space:pre;overflow-x:auto;line-height:normal;font-family:Menlo,'DejaVu Sans Mono',consolas,'Courier New',monospace\"><span style=\"color: #05a6fb; text-decoration-color: #05a6fb\">────────────────────── Acquisition function optimization ───────────────────────</span>\n",
       "</pre>\n"
      ],
      "text/plain": [
       "\u001b[38;2;5;166;251m────────────────────── Acquisition function optimization ───────────────────────\u001b[0m\n"
      ]
     },
     "metadata": {},
     "output_type": "display_data"
    },
    {
     "data": {
      "text/html": [
       "<pre style=\"white-space:pre;overflow-x:auto;line-height:normal;font-family:Menlo,'DejaVu Sans Mono',consolas,'Courier New',monospace\">ATLAS <span style=\"font-weight: bold\">[</span>INFO<span style=\"font-weight: bold\">]</span> Optimizing acquisition function with pymoo GA for <span style=\"color: #008080; text-decoration-color: #008080; font-weight: bold\">1</span> fixed parameters<span style=\"color: #808000; text-decoration-color: #808000\">...</span>\n",
       "</pre>\n"
      ],
      "text/plain": [
       "ATLAS \u001b[1m[\u001b[0mINFO\u001b[1m]\u001b[0m Optimizing acquisition function with pymoo GA for \u001b[1;36m1\u001b[0m fixed parameters\u001b[33m...\u001b[0m\n"
      ]
     },
     "metadata": {},
     "output_type": "display_data"
    },
    {
     "name": "stdout",
     "output_type": "stream",
     "text": [
      "\n",
      "REC SAMPLE :  ParamVector(s = 1.0, organic = isopropylammonium, cation = Sn, anion = F)\n",
      "REC MEASUREMENT :  4.9553\n",
      "\n",
      "\n",
      "RUN : 1/10\tITER : 31\tCOST : 6.599999999999998\n",
      "\n"
     ]
    },
    {
     "data": {
      "text/html": [
       "<pre style=\"white-space:pre;overflow-x:auto;line-height:normal;font-family:Menlo,'DejaVu Sans Mono',consolas,'Courier New',monospace\"><span style=\"color: #f4a261; text-decoration-color: #f4a261\">ATLAS </span><span style=\"color: #f4a261; text-decoration-color: #f4a261; font-weight: bold\">[</span><span style=\"color: #f4a261; text-decoration-color: #f4a261\">WARNING</span><span style=\"color: #f4a261; text-decoration-color: #f4a261; font-weight: bold\">]</span><span style=\"color: #f4a261; text-decoration-color: #f4a261\"> Setting ask fidelity level to </span><span style=\"color: #008080; text-decoration-color: #008080; font-weight: bold\">0.1</span>\n",
       "</pre>\n"
      ],
      "text/plain": [
       "\u001b[38;2;244;162;97mATLAS \u001b[0m\u001b[1;38;2;244;162;97m[\u001b[0m\u001b[38;2;244;162;97mWARNING\u001b[0m\u001b[1;38;2;244;162;97m]\u001b[0m\u001b[38;2;244;162;97m Setting ask fidelity level to \u001b[0m\u001b[1;36m0.1\u001b[0m\n"
      ]
     },
     "metadata": {},
     "output_type": "display_data"
    },
    {
     "data": {
      "text/html": [
       "<pre style=\"white-space:pre;overflow-x:auto;line-height:normal;font-family:Menlo,'DejaVu Sans Mono',consolas,'Courier New',monospace\"><span style=\"color: #05a6fb; text-decoration-color: #05a6fb\">───────────────────── Training regression surrogate model ──────────────────────</span>\n",
       "</pre>\n"
      ],
      "text/plain": [
       "\u001b[38;2;5;166;251m───────────────────── Training regression surrogate model ──────────────────────\u001b[0m\n"
      ]
     },
     "metadata": {},
     "output_type": "display_data"
    },
    {
     "name": "stderr",
     "output_type": "stream",
     "text": [
      "/users/k23070952/.local/lib/python3.9/site-packages/botorch/models/utils/assorted.py:174: InputDataWarning: Input data is not contained to the unit cube. Please consider min-max scaling the input data.\n",
      "  warnings.warn(msg, InputDataWarning)\n",
      "/users/k23070952/.local/lib/python3.9/site-packages/botorch/models/utils/assorted.py:202: InputDataWarning: Input data is not standardized (mean = tensor([6.2913e-17]), std = tensor([1.0171])). Please consider scaling the input to zero mean and unit variance.\n",
      "  warnings.warn(msg, InputDataWarning)\n"
     ]
    },
    {
     "data": {
      "text/html": [
       "<pre style=\"white-space:pre;overflow-x:auto;line-height:normal;font-family:Menlo,'DejaVu Sans Mono',consolas,'Courier New',monospace\">ATLAS <span style=\"font-weight: bold\">[</span>INFO<span style=\"font-weight: bold\">]</span> Regression surrogate GP trained in <span style=\"color: #008080; text-decoration-color: #008080; font-weight: bold\">0.099</span> sec\n",
       "</pre>\n"
      ],
      "text/plain": [
       "ATLAS \u001b[1m[\u001b[0mINFO\u001b[1m]\u001b[0m Regression surrogate GP trained in \u001b[1;36m0.099\u001b[0m sec\n"
      ]
     },
     "metadata": {},
     "output_type": "display_data"
    },
    {
     "data": {
      "text/html": [
       "<pre style=\"white-space:pre;overflow-x:auto;line-height:normal;font-family:Menlo,'DejaVu Sans Mono',consolas,'Courier New',monospace\"><span style=\"color: #05a6fb; text-decoration-color: #05a6fb\">────────────────────── Acquisition function optimization ───────────────────────</span>\n",
       "</pre>\n"
      ],
      "text/plain": [
       "\u001b[38;2;5;166;251m────────────────────── Acquisition function optimization ───────────────────────\u001b[0m\n"
      ]
     },
     "metadata": {},
     "output_type": "display_data"
    },
    {
     "data": {
      "text/html": [
       "<pre style=\"white-space:pre;overflow-x:auto;line-height:normal;font-family:Menlo,'DejaVu Sans Mono',consolas,'Courier New',monospace\">ATLAS <span style=\"font-weight: bold\">[</span>INFO<span style=\"font-weight: bold\">]</span> Optimizing acquisition function with pymoo GA for <span style=\"color: #008080; text-decoration-color: #008080; font-weight: bold\">1</span> fixed parameters<span style=\"color: #808000; text-decoration-color: #808000\">...</span>\n",
       "</pre>\n"
      ],
      "text/plain": [
       "ATLAS \u001b[1m[\u001b[0mINFO\u001b[1m]\u001b[0m Optimizing acquisition function with pymoo GA for \u001b[1;36m1\u001b[0m fixed parameters\u001b[33m...\u001b[0m\n"
      ]
     },
     "metadata": {},
     "output_type": "display_data"
    },
    {
     "name": "stderr",
     "output_type": "stream",
     "text": [
      "/users/k23070952/.local/lib/python3.9/site-packages/botorch/models/gpytorch.py:477: BotorchTensorDimensionWarning: Non-strict enforcement of botorch tensor conventions. The following error would have been raised with strict enforcement: Expected X and Y to have the same number of dimensions (got X with dimension 3 and Y with dimension 4).\n",
      "  self._validate_tensor_args(X=X, Y=Y, Yvar=noise, strict=False)\n",
      "/users/k23070952/.local/lib/python3.9/site-packages/botorch/models/gpytorch.py:239: BotorchTensorDimensionWarning: Non-strict enforcement of botorch tensor conventions. The following error would have been raised with strict enforcement: Expected X and Y to have the same number of dimensions (got X with dimension 3 and Y with dimension 4).\n",
      "  self._validate_tensor_args(X=X, Y=Y, Yvar=Yvar, strict=False)\n",
      "/users/k23070952/.local/lib/python3.9/site-packages/pymoo/operators/repair/rounding.py:18: RuntimeWarning: invalid value encountered in cast\n",
      "  return np.around(X).astype(int)\n",
      "/users/k23070952/.local/lib/python3.9/site-packages/pymoo/operators/mutation/pm.py:44: RuntimeWarning: overflow encountered in power\n",
      "  val = 2.0 * rand + (1.0 - 2.0 * rand) * (np.power(xy, (eta + 1.0)))\n",
      "/users/k23070952/.local/lib/python3.9/site-packages/pymoo/operators/mutation/pm.py:49: RuntimeWarning: overflow encountered in power\n",
      "  val = 2.0 * (1.0 - rand) + 2.0 * (rand - 0.5) * (np.power(xy, (eta + 1.0)))\n"
     ]
    },
    {
     "name": "stdout",
     "output_type": "stream",
     "text": [
      "Time: 29.547251224517822s\n",
      "SAMPLE :  ParamVector(s = 0.1, organic = azetidinium, cation = Ge, anion = F)\n",
      "MEASUREMENT :  3.925\n"
     ]
    },
    {
     "data": {
      "text/html": [
       "<pre style=\"white-space:pre;overflow-x:auto;line-height:normal;font-family:Menlo,'DejaVu Sans Mono',consolas,'Courier New',monospace\"><span style=\"color: #05a6fb; text-decoration-color: #05a6fb\">────────────────────── Acquisition function optimization ───────────────────────</span>\n",
       "</pre>\n"
      ],
      "text/plain": [
       "\u001b[38;2;5;166;251m────────────────────── Acquisition function optimization ───────────────────────\u001b[0m\n"
      ]
     },
     "metadata": {},
     "output_type": "display_data"
    },
    {
     "data": {
      "text/html": [
       "<pre style=\"white-space:pre;overflow-x:auto;line-height:normal;font-family:Menlo,'DejaVu Sans Mono',consolas,'Courier New',monospace\">ATLAS <span style=\"font-weight: bold\">[</span>INFO<span style=\"font-weight: bold\">]</span> Optimizing acquisition function with pymoo GA for <span style=\"color: #008080; text-decoration-color: #008080; font-weight: bold\">1</span> fixed parameters<span style=\"color: #808000; text-decoration-color: #808000\">...</span>\n",
       "</pre>\n"
      ],
      "text/plain": [
       "ATLAS \u001b[1m[\u001b[0mINFO\u001b[1m]\u001b[0m Optimizing acquisition function with pymoo GA for \u001b[1;36m1\u001b[0m fixed parameters\u001b[33m...\u001b[0m\n"
      ]
     },
     "metadata": {},
     "output_type": "display_data"
    },
    {
     "name": "stdout",
     "output_type": "stream",
     "text": [
      "\n",
      "REC SAMPLE :  ParamVector(s = 1.0, organic = methylammonium, cation = Sn, anion = I)\n",
      "REC MEASUREMENT :  1.5456\n",
      "\n",
      "\n",
      "RUN : 1/10\tITER : 32\tCOST : 6.6999999999999975\n",
      "\n"
     ]
    },
    {
     "data": {
      "text/html": [
       "<pre style=\"white-space:pre;overflow-x:auto;line-height:normal;font-family:Menlo,'DejaVu Sans Mono',consolas,'Courier New',monospace\"><span style=\"color: #f4a261; text-decoration-color: #f4a261\">ATLAS </span><span style=\"color: #f4a261; text-decoration-color: #f4a261; font-weight: bold\">[</span><span style=\"color: #f4a261; text-decoration-color: #f4a261\">WARNING</span><span style=\"color: #f4a261; text-decoration-color: #f4a261; font-weight: bold\">]</span><span style=\"color: #f4a261; text-decoration-color: #f4a261\"> Setting ask fidelity level to </span><span style=\"color: #008080; text-decoration-color: #008080; font-weight: bold\">0.1</span>\n",
       "</pre>\n"
      ],
      "text/plain": [
       "\u001b[38;2;244;162;97mATLAS \u001b[0m\u001b[1;38;2;244;162;97m[\u001b[0m\u001b[38;2;244;162;97mWARNING\u001b[0m\u001b[1;38;2;244;162;97m]\u001b[0m\u001b[38;2;244;162;97m Setting ask fidelity level to \u001b[0m\u001b[1;36m0.1\u001b[0m\n"
      ]
     },
     "metadata": {},
     "output_type": "display_data"
    },
    {
     "data": {
      "text/html": [
       "<pre style=\"white-space:pre;overflow-x:auto;line-height:normal;font-family:Menlo,'DejaVu Sans Mono',consolas,'Courier New',monospace\"><span style=\"color: #05a6fb; text-decoration-color: #05a6fb\">───────────────────── Training regression surrogate model ──────────────────────</span>\n",
       "</pre>\n"
      ],
      "text/plain": [
       "\u001b[38;2;5;166;251m───────────────────── Training regression surrogate model ──────────────────────\u001b[0m\n"
      ]
     },
     "metadata": {},
     "output_type": "display_data"
    },
    {
     "name": "stderr",
     "output_type": "stream",
     "text": [
      "/users/k23070952/.local/lib/python3.9/site-packages/botorch/models/utils/assorted.py:174: InputDataWarning: Input data is not contained to the unit cube. Please consider min-max scaling the input data.\n",
      "  warnings.warn(msg, InputDataWarning)\n",
      "/users/k23070952/.local/lib/python3.9/site-packages/botorch/models/utils/assorted.py:202: InputDataWarning: Input data is not standardized (mean = tensor([-7.1627e-18]), std = tensor([1.0165])). Please consider scaling the input to zero mean and unit variance.\n",
      "  warnings.warn(msg, InputDataWarning)\n"
     ]
    },
    {
     "data": {
      "text/html": [
       "<pre style=\"white-space:pre;overflow-x:auto;line-height:normal;font-family:Menlo,'DejaVu Sans Mono',consolas,'Courier New',monospace\">ATLAS <span style=\"font-weight: bold\">[</span>INFO<span style=\"font-weight: bold\">]</span> Regression surrogate GP trained in <span style=\"color: #008080; text-decoration-color: #008080; font-weight: bold\">0.126</span> sec\n",
       "</pre>\n"
      ],
      "text/plain": [
       "ATLAS \u001b[1m[\u001b[0mINFO\u001b[1m]\u001b[0m Regression surrogate GP trained in \u001b[1;36m0.126\u001b[0m sec\n"
      ]
     },
     "metadata": {},
     "output_type": "display_data"
    },
    {
     "data": {
      "text/html": [
       "<pre style=\"white-space:pre;overflow-x:auto;line-height:normal;font-family:Menlo,'DejaVu Sans Mono',consolas,'Courier New',monospace\"><span style=\"color: #05a6fb; text-decoration-color: #05a6fb\">────────────────────── Acquisition function optimization ───────────────────────</span>\n",
       "</pre>\n"
      ],
      "text/plain": [
       "\u001b[38;2;5;166;251m────────────────────── Acquisition function optimization ───────────────────────\u001b[0m\n"
      ]
     },
     "metadata": {},
     "output_type": "display_data"
    },
    {
     "data": {
      "text/html": [
       "<pre style=\"white-space:pre;overflow-x:auto;line-height:normal;font-family:Menlo,'DejaVu Sans Mono',consolas,'Courier New',monospace\">ATLAS <span style=\"font-weight: bold\">[</span>INFO<span style=\"font-weight: bold\">]</span> Optimizing acquisition function with pymoo GA for <span style=\"color: #008080; text-decoration-color: #008080; font-weight: bold\">1</span> fixed parameters<span style=\"color: #808000; text-decoration-color: #808000\">...</span>\n",
       "</pre>\n"
      ],
      "text/plain": [
       "ATLAS \u001b[1m[\u001b[0mINFO\u001b[1m]\u001b[0m Optimizing acquisition function with pymoo GA for \u001b[1;36m1\u001b[0m fixed parameters\u001b[33m...\u001b[0m\n"
      ]
     },
     "metadata": {},
     "output_type": "display_data"
    },
    {
     "name": "stderr",
     "output_type": "stream",
     "text": [
      "/users/k23070952/.local/lib/python3.9/site-packages/botorch/models/gpytorch.py:477: BotorchTensorDimensionWarning: Non-strict enforcement of botorch tensor conventions. The following error would have been raised with strict enforcement: Expected X and Y to have the same number of dimensions (got X with dimension 3 and Y with dimension 4).\n",
      "  self._validate_tensor_args(X=X, Y=Y, Yvar=noise, strict=False)\n",
      "/users/k23070952/.local/lib/python3.9/site-packages/botorch/models/gpytorch.py:239: BotorchTensorDimensionWarning: Non-strict enforcement of botorch tensor conventions. The following error would have been raised with strict enforcement: Expected X and Y to have the same number of dimensions (got X with dimension 3 and Y with dimension 4).\n",
      "  self._validate_tensor_args(X=X, Y=Y, Yvar=Yvar, strict=False)\n",
      "/users/k23070952/.local/lib/python3.9/site-packages/pymoo/operators/repair/rounding.py:18: RuntimeWarning: invalid value encountered in cast\n",
      "  return np.around(X).astype(int)\n",
      "/users/k23070952/.local/lib/python3.9/site-packages/pymoo/operators/mutation/pm.py:44: RuntimeWarning: overflow encountered in power\n",
      "  val = 2.0 * rand + (1.0 - 2.0 * rand) * (np.power(xy, (eta + 1.0)))\n",
      "/users/k23070952/.local/lib/python3.9/site-packages/pymoo/operators/mutation/pm.py:49: RuntimeWarning: overflow encountered in power\n",
      "  val = 2.0 * (1.0 - rand) + 2.0 * (rand - 0.5) * (np.power(xy, (eta + 1.0)))\n"
     ]
    },
    {
     "name": "stdout",
     "output_type": "stream",
     "text": [
      "Time: 29.866581439971924s\n",
      "SAMPLE :  ParamVector(s = 0.1, organic = ethylammonium, cation = Sn, anion = F)\n",
      "MEASUREMENT :  2.8524\n"
     ]
    },
    {
     "data": {
      "text/html": [
       "<pre style=\"white-space:pre;overflow-x:auto;line-height:normal;font-family:Menlo,'DejaVu Sans Mono',consolas,'Courier New',monospace\"><span style=\"color: #05a6fb; text-decoration-color: #05a6fb\">────────────────────── Acquisition function optimization ───────────────────────</span>\n",
       "</pre>\n"
      ],
      "text/plain": [
       "\u001b[38;2;5;166;251m────────────────────── Acquisition function optimization ───────────────────────\u001b[0m\n"
      ]
     },
     "metadata": {},
     "output_type": "display_data"
    },
    {
     "data": {
      "text/html": [
       "<pre style=\"white-space:pre;overflow-x:auto;line-height:normal;font-family:Menlo,'DejaVu Sans Mono',consolas,'Courier New',monospace\">ATLAS <span style=\"font-weight: bold\">[</span>INFO<span style=\"font-weight: bold\">]</span> Optimizing acquisition function with pymoo GA for <span style=\"color: #008080; text-decoration-color: #008080; font-weight: bold\">1</span> fixed parameters<span style=\"color: #808000; text-decoration-color: #808000\">...</span>\n",
       "</pre>\n"
      ],
      "text/plain": [
       "ATLAS \u001b[1m[\u001b[0mINFO\u001b[1m]\u001b[0m Optimizing acquisition function with pymoo GA for \u001b[1;36m1\u001b[0m fixed parameters\u001b[33m...\u001b[0m\n"
      ]
     },
     "metadata": {},
     "output_type": "display_data"
    },
    {
     "name": "stdout",
     "output_type": "stream",
     "text": [
      "\n",
      "REC SAMPLE :  ParamVector(s = 1.0, organic = guanidinium, cation = Ge, anion = F)\n",
      "REC MEASUREMENT :  5.5038\n",
      "\n",
      "\n",
      "RUN : 1/10\tITER : 33\tCOST : 6.800000000000001\n",
      "\n"
     ]
    },
    {
     "data": {
      "text/html": [
       "<pre style=\"white-space:pre;overflow-x:auto;line-height:normal;font-family:Menlo,'DejaVu Sans Mono',consolas,'Courier New',monospace\"><span style=\"color: #f4a261; text-decoration-color: #f4a261\">ATLAS </span><span style=\"color: #f4a261; text-decoration-color: #f4a261; font-weight: bold\">[</span><span style=\"color: #f4a261; text-decoration-color: #f4a261\">WARNING</span><span style=\"color: #f4a261; text-decoration-color: #f4a261; font-weight: bold\">]</span><span style=\"color: #f4a261; text-decoration-color: #f4a261\"> Setting ask fidelity level to </span><span style=\"color: #008080; text-decoration-color: #008080; font-weight: bold\">1.0</span>\n",
       "</pre>\n"
      ],
      "text/plain": [
       "\u001b[38;2;244;162;97mATLAS \u001b[0m\u001b[1;38;2;244;162;97m[\u001b[0m\u001b[38;2;244;162;97mWARNING\u001b[0m\u001b[1;38;2;244;162;97m]\u001b[0m\u001b[38;2;244;162;97m Setting ask fidelity level to \u001b[0m\u001b[1;36m1.0\u001b[0m\n"
      ]
     },
     "metadata": {},
     "output_type": "display_data"
    },
    {
     "data": {
      "text/html": [
       "<pre style=\"white-space:pre;overflow-x:auto;line-height:normal;font-family:Menlo,'DejaVu Sans Mono',consolas,'Courier New',monospace\"><span style=\"color: #05a6fb; text-decoration-color: #05a6fb\">───────────────────── Training regression surrogate model ──────────────────────</span>\n",
       "</pre>\n"
      ],
      "text/plain": [
       "\u001b[38;2;5;166;251m───────────────────── Training regression surrogate model ──────────────────────\u001b[0m\n"
      ]
     },
     "metadata": {},
     "output_type": "display_data"
    },
    {
     "name": "stderr",
     "output_type": "stream",
     "text": [
      "/users/k23070952/.local/lib/python3.9/site-packages/botorch/models/utils/assorted.py:174: InputDataWarning: Input data is not contained to the unit cube. Please consider min-max scaling the input data.\n",
      "  warnings.warn(msg, InputDataWarning)\n",
      "/users/k23070952/.local/lib/python3.9/site-packages/botorch/models/utils/assorted.py:202: InputDataWarning: Input data is not standardized (mean = tensor([-1.1102e-16]), std = tensor([1.0160])). Please consider scaling the input to zero mean and unit variance.\n",
      "  warnings.warn(msg, InputDataWarning)\n"
     ]
    },
    {
     "data": {
      "text/html": [
       "<pre style=\"white-space:pre;overflow-x:auto;line-height:normal;font-family:Menlo,'DejaVu Sans Mono',consolas,'Courier New',monospace\">ATLAS <span style=\"font-weight: bold\">[</span>INFO<span style=\"font-weight: bold\">]</span> Regression surrogate GP trained in <span style=\"color: #008080; text-decoration-color: #008080; font-weight: bold\">0.122</span> sec\n",
       "</pre>\n"
      ],
      "text/plain": [
       "ATLAS \u001b[1m[\u001b[0mINFO\u001b[1m]\u001b[0m Regression surrogate GP trained in \u001b[1;36m0.122\u001b[0m sec\n"
      ]
     },
     "metadata": {},
     "output_type": "display_data"
    },
    {
     "data": {
      "text/html": [
       "<pre style=\"white-space:pre;overflow-x:auto;line-height:normal;font-family:Menlo,'DejaVu Sans Mono',consolas,'Courier New',monospace\"><span style=\"color: #05a6fb; text-decoration-color: #05a6fb\">────────────────────── Acquisition function optimization ───────────────────────</span>\n",
       "</pre>\n"
      ],
      "text/plain": [
       "\u001b[38;2;5;166;251m────────────────────── Acquisition function optimization ───────────────────────\u001b[0m\n"
      ]
     },
     "metadata": {},
     "output_type": "display_data"
    },
    {
     "data": {
      "text/html": [
       "<pre style=\"white-space:pre;overflow-x:auto;line-height:normal;font-family:Menlo,'DejaVu Sans Mono',consolas,'Courier New',monospace\">ATLAS <span style=\"font-weight: bold\">[</span>INFO<span style=\"font-weight: bold\">]</span> Optimizing acquisition function with pymoo GA for <span style=\"color: #008080; text-decoration-color: #008080; font-weight: bold\">1</span> fixed parameters<span style=\"color: #808000; text-decoration-color: #808000\">...</span>\n",
       "</pre>\n"
      ],
      "text/plain": [
       "ATLAS \u001b[1m[\u001b[0mINFO\u001b[1m]\u001b[0m Optimizing acquisition function with pymoo GA for \u001b[1;36m1\u001b[0m fixed parameters\u001b[33m...\u001b[0m\n"
      ]
     },
     "metadata": {},
     "output_type": "display_data"
    },
    {
     "name": "stderr",
     "output_type": "stream",
     "text": [
      "/users/k23070952/.local/lib/python3.9/site-packages/botorch/models/gpytorch.py:477: BotorchTensorDimensionWarning: Non-strict enforcement of botorch tensor conventions. The following error would have been raised with strict enforcement: Expected X and Y to have the same number of dimensions (got X with dimension 3 and Y with dimension 4).\n",
      "  self._validate_tensor_args(X=X, Y=Y, Yvar=noise, strict=False)\n",
      "/users/k23070952/.local/lib/python3.9/site-packages/botorch/models/gpytorch.py:239: BotorchTensorDimensionWarning: Non-strict enforcement of botorch tensor conventions. The following error would have been raised with strict enforcement: Expected X and Y to have the same number of dimensions (got X with dimension 3 and Y with dimension 4).\n",
      "  self._validate_tensor_args(X=X, Y=Y, Yvar=Yvar, strict=False)\n",
      "/users/k23070952/.local/lib/python3.9/site-packages/pymoo/operators/repair/rounding.py:18: RuntimeWarning: invalid value encountered in cast\n",
      "  return np.around(X).astype(int)\n",
      "/users/k23070952/.local/lib/python3.9/site-packages/pymoo/operators/mutation/pm.py:44: RuntimeWarning: overflow encountered in power\n",
      "  val = 2.0 * rand + (1.0 - 2.0 * rand) * (np.power(xy, (eta + 1.0)))\n",
      "/users/k23070952/.local/lib/python3.9/site-packages/pymoo/operators/mutation/pm.py:49: RuntimeWarning: overflow encountered in power\n",
      "  val = 2.0 * (1.0 - rand) + 2.0 * (rand - 0.5) * (np.power(xy, (eta + 1.0)))\n"
     ]
    },
    {
     "name": "stdout",
     "output_type": "stream",
     "text": [
      "Time: 30.09570622444153s\n",
      "SAMPLE :  ParamVector(s = 1.0, organic = tetramethylammonium, cation = Pb, anion = Cl)\n",
      "MEASUREMENT :  3.8987\n"
     ]
    },
    {
     "data": {
      "text/html": [
       "<pre style=\"white-space:pre;overflow-x:auto;line-height:normal;font-family:Menlo,'DejaVu Sans Mono',consolas,'Courier New',monospace\"><span style=\"color: #05a6fb; text-decoration-color: #05a6fb\">────────────────────── Acquisition function optimization ───────────────────────</span>\n",
       "</pre>\n"
      ],
      "text/plain": [
       "\u001b[38;2;5;166;251m────────────────────── Acquisition function optimization ───────────────────────\u001b[0m\n"
      ]
     },
     "metadata": {},
     "output_type": "display_data"
    },
    {
     "data": {
      "text/html": [
       "<pre style=\"white-space:pre;overflow-x:auto;line-height:normal;font-family:Menlo,'DejaVu Sans Mono',consolas,'Courier New',monospace\">ATLAS <span style=\"font-weight: bold\">[</span>INFO<span style=\"font-weight: bold\">]</span> Optimizing acquisition function with pymoo GA for <span style=\"color: #008080; text-decoration-color: #008080; font-weight: bold\">1</span> fixed parameters<span style=\"color: #808000; text-decoration-color: #808000\">...</span>\n",
       "</pre>\n"
      ],
      "text/plain": [
       "ATLAS \u001b[1m[\u001b[0mINFO\u001b[1m]\u001b[0m Optimizing acquisition function with pymoo GA for \u001b[1;36m1\u001b[0m fixed parameters\u001b[33m...\u001b[0m\n"
      ]
     },
     "metadata": {},
     "output_type": "display_data"
    },
    {
     "name": "stdout",
     "output_type": "stream",
     "text": [
      "\n",
      "REC SAMPLE :  ParamVector(s = 1.0, organic = tetramethylammonium, cation = Pb, anion = Br)\n",
      "REC MEASUREMENT :  3.186\n",
      "\n",
      "\n",
      "RUN : 1/10\tITER : 34\tCOST : 7.800000000000001\n",
      "\n"
     ]
    },
    {
     "data": {
      "text/html": [
       "<pre style=\"white-space:pre;overflow-x:auto;line-height:normal;font-family:Menlo,'DejaVu Sans Mono',consolas,'Courier New',monospace\"><span style=\"color: #f4a261; text-decoration-color: #f4a261\">ATLAS </span><span style=\"color: #f4a261; text-decoration-color: #f4a261; font-weight: bold\">[</span><span style=\"color: #f4a261; text-decoration-color: #f4a261\">WARNING</span><span style=\"color: #f4a261; text-decoration-color: #f4a261; font-weight: bold\">]</span><span style=\"color: #f4a261; text-decoration-color: #f4a261\"> Setting ask fidelity level to </span><span style=\"color: #008080; text-decoration-color: #008080; font-weight: bold\">0.1</span>\n",
       "</pre>\n"
      ],
      "text/plain": [
       "\u001b[38;2;244;162;97mATLAS \u001b[0m\u001b[1;38;2;244;162;97m[\u001b[0m\u001b[38;2;244;162;97mWARNING\u001b[0m\u001b[1;38;2;244;162;97m]\u001b[0m\u001b[38;2;244;162;97m Setting ask fidelity level to \u001b[0m\u001b[1;36m0.1\u001b[0m\n"
      ]
     },
     "metadata": {},
     "output_type": "display_data"
    },
    {
     "data": {
      "text/html": [
       "<pre style=\"white-space:pre;overflow-x:auto;line-height:normal;font-family:Menlo,'DejaVu Sans Mono',consolas,'Courier New',monospace\"><span style=\"color: #05a6fb; text-decoration-color: #05a6fb\">───────────────────── Training regression surrogate model ──────────────────────</span>\n",
       "</pre>\n"
      ],
      "text/plain": [
       "\u001b[38;2;5;166;251m───────────────────── Training regression surrogate model ──────────────────────\u001b[0m\n"
      ]
     },
     "metadata": {},
     "output_type": "display_data"
    },
    {
     "name": "stderr",
     "output_type": "stream",
     "text": [
      "/users/k23070952/.local/lib/python3.9/site-packages/botorch/models/utils/assorted.py:174: InputDataWarning: Input data is not contained to the unit cube. Please consider min-max scaling the input data.\n",
      "  warnings.warn(msg, InputDataWarning)\n",
      "/users/k23070952/.local/lib/python3.9/site-packages/botorch/models/utils/assorted.py:202: InputDataWarning: Input data is not standardized (mean = tensor([-6.7286e-17]), std = tensor([1.0155])). Please consider scaling the input to zero mean and unit variance.\n",
      "  warnings.warn(msg, InputDataWarning)\n"
     ]
    },
    {
     "data": {
      "text/html": [
       "<pre style=\"white-space:pre;overflow-x:auto;line-height:normal;font-family:Menlo,'DejaVu Sans Mono',consolas,'Courier New',monospace\">ATLAS <span style=\"font-weight: bold\">[</span>INFO<span style=\"font-weight: bold\">]</span> Regression surrogate GP trained in <span style=\"color: #008080; text-decoration-color: #008080; font-weight: bold\">0.099</span> sec\n",
       "</pre>\n"
      ],
      "text/plain": [
       "ATLAS \u001b[1m[\u001b[0mINFO\u001b[1m]\u001b[0m Regression surrogate GP trained in \u001b[1;36m0.099\u001b[0m sec\n"
      ]
     },
     "metadata": {},
     "output_type": "display_data"
    },
    {
     "data": {
      "text/html": [
       "<pre style=\"white-space:pre;overflow-x:auto;line-height:normal;font-family:Menlo,'DejaVu Sans Mono',consolas,'Courier New',monospace\"><span style=\"color: #05a6fb; text-decoration-color: #05a6fb\">────────────────────── Acquisition function optimization ───────────────────────</span>\n",
       "</pre>\n"
      ],
      "text/plain": [
       "\u001b[38;2;5;166;251m────────────────────── Acquisition function optimization ───────────────────────\u001b[0m\n"
      ]
     },
     "metadata": {},
     "output_type": "display_data"
    },
    {
     "data": {
      "text/html": [
       "<pre style=\"white-space:pre;overflow-x:auto;line-height:normal;font-family:Menlo,'DejaVu Sans Mono',consolas,'Courier New',monospace\">ATLAS <span style=\"font-weight: bold\">[</span>INFO<span style=\"font-weight: bold\">]</span> Optimizing acquisition function with pymoo GA for <span style=\"color: #008080; text-decoration-color: #008080; font-weight: bold\">1</span> fixed parameters<span style=\"color: #808000; text-decoration-color: #808000\">...</span>\n",
       "</pre>\n"
      ],
      "text/plain": [
       "ATLAS \u001b[1m[\u001b[0mINFO\u001b[1m]\u001b[0m Optimizing acquisition function with pymoo GA for \u001b[1;36m1\u001b[0m fixed parameters\u001b[33m...\u001b[0m\n"
      ]
     },
     "metadata": {},
     "output_type": "display_data"
    },
    {
     "name": "stderr",
     "output_type": "stream",
     "text": [
      "/users/k23070952/.local/lib/python3.9/site-packages/botorch/models/gpytorch.py:477: BotorchTensorDimensionWarning: Non-strict enforcement of botorch tensor conventions. The following error would have been raised with strict enforcement: Expected X and Y to have the same number of dimensions (got X with dimension 3 and Y with dimension 4).\n",
      "  self._validate_tensor_args(X=X, Y=Y, Yvar=noise, strict=False)\n",
      "/users/k23070952/.local/lib/python3.9/site-packages/botorch/models/gpytorch.py:239: BotorchTensorDimensionWarning: Non-strict enforcement of botorch tensor conventions. The following error would have been raised with strict enforcement: Expected X and Y to have the same number of dimensions (got X with dimension 3 and Y with dimension 4).\n",
      "  self._validate_tensor_args(X=X, Y=Y, Yvar=Yvar, strict=False)\n",
      "/users/k23070952/.local/lib/python3.9/site-packages/pymoo/operators/repair/rounding.py:18: RuntimeWarning: invalid value encountered in cast\n",
      "  return np.around(X).astype(int)\n",
      "/users/k23070952/.local/lib/python3.9/site-packages/pymoo/operators/mutation/pm.py:44: RuntimeWarning: overflow encountered in power\n",
      "  val = 2.0 * rand + (1.0 - 2.0 * rand) * (np.power(xy, (eta + 1.0)))\n",
      "/users/k23070952/.local/lib/python3.9/site-packages/pymoo/operators/mutation/pm.py:49: RuntimeWarning: overflow encountered in power\n",
      "  val = 2.0 * (1.0 - rand) + 2.0 * (rand - 0.5) * (np.power(xy, (eta + 1.0)))\n"
     ]
    },
    {
     "name": "stdout",
     "output_type": "stream",
     "text": [
      "Time: 30.29969835281372s\n",
      "SAMPLE :  ParamVector(s = 0.1, organic = tetramethylammonium, cation = Sn, anion = Cl)\n",
      "MEASUREMENT :  2.9327\n"
     ]
    },
    {
     "data": {
      "text/html": [
       "<pre style=\"white-space:pre;overflow-x:auto;line-height:normal;font-family:Menlo,'DejaVu Sans Mono',consolas,'Courier New',monospace\"><span style=\"color: #05a6fb; text-decoration-color: #05a6fb\">────────────────────── Acquisition function optimization ───────────────────────</span>\n",
       "</pre>\n"
      ],
      "text/plain": [
       "\u001b[38;2;5;166;251m────────────────────── Acquisition function optimization ───────────────────────\u001b[0m\n"
      ]
     },
     "metadata": {},
     "output_type": "display_data"
    },
    {
     "data": {
      "text/html": [
       "<pre style=\"white-space:pre;overflow-x:auto;line-height:normal;font-family:Menlo,'DejaVu Sans Mono',consolas,'Courier New',monospace\">ATLAS <span style=\"font-weight: bold\">[</span>INFO<span style=\"font-weight: bold\">]</span> Optimizing acquisition function with pymoo GA for <span style=\"color: #008080; text-decoration-color: #008080; font-weight: bold\">1</span> fixed parameters<span style=\"color: #808000; text-decoration-color: #808000\">...</span>\n",
       "</pre>\n"
      ],
      "text/plain": [
       "ATLAS \u001b[1m[\u001b[0mINFO\u001b[1m]\u001b[0m Optimizing acquisition function with pymoo GA for \u001b[1;36m1\u001b[0m fixed parameters\u001b[33m...\u001b[0m\n"
      ]
     },
     "metadata": {},
     "output_type": "display_data"
    },
    {
     "name": "stdout",
     "output_type": "stream",
     "text": [
      "\n",
      "REC SAMPLE :  ParamVector(s = 1.0, organic = ethylammonium, cation = Sn, anion = Cl)\n",
      "REC MEASUREMENT :  2.2931\n",
      "\n",
      "\n",
      "RUN : 1/10\tITER : 35\tCOST : 7.9\n",
      "\n"
     ]
    },
    {
     "data": {
      "text/html": [
       "<pre style=\"white-space:pre;overflow-x:auto;line-height:normal;font-family:Menlo,'DejaVu Sans Mono',consolas,'Courier New',monospace\"><span style=\"color: #f4a261; text-decoration-color: #f4a261\">ATLAS </span><span style=\"color: #f4a261; text-decoration-color: #f4a261; font-weight: bold\">[</span><span style=\"color: #f4a261; text-decoration-color: #f4a261\">WARNING</span><span style=\"color: #f4a261; text-decoration-color: #f4a261; font-weight: bold\">]</span><span style=\"color: #f4a261; text-decoration-color: #f4a261\"> Setting ask fidelity level to </span><span style=\"color: #008080; text-decoration-color: #008080; font-weight: bold\">0.1</span>\n",
       "</pre>\n"
      ],
      "text/plain": [
       "\u001b[38;2;244;162;97mATLAS \u001b[0m\u001b[1;38;2;244;162;97m[\u001b[0m\u001b[38;2;244;162;97mWARNING\u001b[0m\u001b[1;38;2;244;162;97m]\u001b[0m\u001b[38;2;244;162;97m Setting ask fidelity level to \u001b[0m\u001b[1;36m0.1\u001b[0m\n"
      ]
     },
     "metadata": {},
     "output_type": "display_data"
    },
    {
     "data": {
      "text/html": [
       "<pre style=\"white-space:pre;overflow-x:auto;line-height:normal;font-family:Menlo,'DejaVu Sans Mono',consolas,'Courier New',monospace\"><span style=\"color: #05a6fb; text-decoration-color: #05a6fb\">───────────────────── Training regression surrogate model ──────────────────────</span>\n",
       "</pre>\n"
      ],
      "text/plain": [
       "\u001b[38;2;5;166;251m───────────────────── Training regression surrogate model ──────────────────────\u001b[0m\n"
      ]
     },
     "metadata": {},
     "output_type": "display_data"
    },
    {
     "name": "stderr",
     "output_type": "stream",
     "text": [
      "/users/k23070952/.local/lib/python3.9/site-packages/botorch/models/utils/assorted.py:174: InputDataWarning: Input data is not contained to the unit cube. Please consider min-max scaling the input data.\n",
      "  warnings.warn(msg, InputDataWarning)\n",
      "/users/k23070952/.local/lib/python3.9/site-packages/botorch/models/utils/assorted.py:202: InputDataWarning: Input data is not standardized (mean = tensor([-8.1634e-17]), std = tensor([1.0150])). Please consider scaling the input to zero mean and unit variance.\n",
      "  warnings.warn(msg, InputDataWarning)\n"
     ]
    },
    {
     "data": {
      "text/html": [
       "<pre style=\"white-space:pre;overflow-x:auto;line-height:normal;font-family:Menlo,'DejaVu Sans Mono',consolas,'Courier New',monospace\">ATLAS <span style=\"font-weight: bold\">[</span>INFO<span style=\"font-weight: bold\">]</span> Regression surrogate GP trained in <span style=\"color: #008080; text-decoration-color: #008080; font-weight: bold\">0.095</span> sec\n",
       "</pre>\n"
      ],
      "text/plain": [
       "ATLAS \u001b[1m[\u001b[0mINFO\u001b[1m]\u001b[0m Regression surrogate GP trained in \u001b[1;36m0.095\u001b[0m sec\n"
      ]
     },
     "metadata": {},
     "output_type": "display_data"
    },
    {
     "data": {
      "text/html": [
       "<pre style=\"white-space:pre;overflow-x:auto;line-height:normal;font-family:Menlo,'DejaVu Sans Mono',consolas,'Courier New',monospace\"><span style=\"color: #05a6fb; text-decoration-color: #05a6fb\">────────────────────── Acquisition function optimization ───────────────────────</span>\n",
       "</pre>\n"
      ],
      "text/plain": [
       "\u001b[38;2;5;166;251m────────────────────── Acquisition function optimization ───────────────────────\u001b[0m\n"
      ]
     },
     "metadata": {},
     "output_type": "display_data"
    },
    {
     "data": {
      "text/html": [
       "<pre style=\"white-space:pre;overflow-x:auto;line-height:normal;font-family:Menlo,'DejaVu Sans Mono',consolas,'Courier New',monospace\">ATLAS <span style=\"font-weight: bold\">[</span>INFO<span style=\"font-weight: bold\">]</span> Optimizing acquisition function with pymoo GA for <span style=\"color: #008080; text-decoration-color: #008080; font-weight: bold\">1</span> fixed parameters<span style=\"color: #808000; text-decoration-color: #808000\">...</span>\n",
       "</pre>\n"
      ],
      "text/plain": [
       "ATLAS \u001b[1m[\u001b[0mINFO\u001b[1m]\u001b[0m Optimizing acquisition function with pymoo GA for \u001b[1;36m1\u001b[0m fixed parameters\u001b[33m...\u001b[0m\n"
      ]
     },
     "metadata": {},
     "output_type": "display_data"
    },
    {
     "name": "stderr",
     "output_type": "stream",
     "text": [
      "/users/k23070952/.local/lib/python3.9/site-packages/botorch/models/gpytorch.py:477: BotorchTensorDimensionWarning: Non-strict enforcement of botorch tensor conventions. The following error would have been raised with strict enforcement: Expected X and Y to have the same number of dimensions (got X with dimension 3 and Y with dimension 4).\n",
      "  self._validate_tensor_args(X=X, Y=Y, Yvar=noise, strict=False)\n",
      "/users/k23070952/.local/lib/python3.9/site-packages/botorch/models/gpytorch.py:239: BotorchTensorDimensionWarning: Non-strict enforcement of botorch tensor conventions. The following error would have been raised with strict enforcement: Expected X and Y to have the same number of dimensions (got X with dimension 3 and Y with dimension 4).\n",
      "  self._validate_tensor_args(X=X, Y=Y, Yvar=Yvar, strict=False)\n",
      "/users/k23070952/.local/lib/python3.9/site-packages/pymoo/operators/repair/rounding.py:18: RuntimeWarning: invalid value encountered in cast\n",
      "  return np.around(X).astype(int)\n",
      "/users/k23070952/.local/lib/python3.9/site-packages/pymoo/operators/mutation/pm.py:44: RuntimeWarning: overflow encountered in power\n",
      "  val = 2.0 * rand + (1.0 - 2.0 * rand) * (np.power(xy, (eta + 1.0)))\n",
      "/users/k23070952/.local/lib/python3.9/site-packages/pymoo/operators/mutation/pm.py:49: RuntimeWarning: overflow encountered in power\n",
      "  val = 2.0 * (1.0 - rand) + 2.0 * (rand - 0.5) * (np.power(xy, (eta + 1.0)))\n"
     ]
    },
    {
     "name": "stdout",
     "output_type": "stream",
     "text": [
      "Time: 30.2178852558136s\n",
      "SAMPLE :  ParamVector(s = 0.1, organic = acetamidinium, cation = Sn, anion = I)\n",
      "MEASUREMENT :  1.2292\n"
     ]
    },
    {
     "data": {
      "text/html": [
       "<pre style=\"white-space:pre;overflow-x:auto;line-height:normal;font-family:Menlo,'DejaVu Sans Mono',consolas,'Courier New',monospace\"><span style=\"color: #05a6fb; text-decoration-color: #05a6fb\">────────────────────── Acquisition function optimization ───────────────────────</span>\n",
       "</pre>\n"
      ],
      "text/plain": [
       "\u001b[38;2;5;166;251m────────────────────── Acquisition function optimization ───────────────────────\u001b[0m\n"
      ]
     },
     "metadata": {},
     "output_type": "display_data"
    },
    {
     "data": {
      "text/html": [
       "<pre style=\"white-space:pre;overflow-x:auto;line-height:normal;font-family:Menlo,'DejaVu Sans Mono',consolas,'Courier New',monospace\">ATLAS <span style=\"font-weight: bold\">[</span>INFO<span style=\"font-weight: bold\">]</span> Optimizing acquisition function with pymoo GA for <span style=\"color: #008080; text-decoration-color: #008080; font-weight: bold\">1</span> fixed parameters<span style=\"color: #808000; text-decoration-color: #808000\">...</span>\n",
       "</pre>\n"
      ],
      "text/plain": [
       "ATLAS \u001b[1m[\u001b[0mINFO\u001b[1m]\u001b[0m Optimizing acquisition function with pymoo GA for \u001b[1;36m1\u001b[0m fixed parameters\u001b[33m...\u001b[0m\n"
      ]
     },
     "metadata": {},
     "output_type": "display_data"
    },
    {
     "name": "stdout",
     "output_type": "stream",
     "text": [
      "\n",
      "REC SAMPLE :  ParamVector(s = 1.0, organic = imidazolium, cation = Sn, anion = Br)\n",
      "REC MEASUREMENT :  2.4152\n",
      "\n",
      "\n",
      "RUN : 1/10\tITER : 36\tCOST : 8.0\n",
      "\n"
     ]
    },
    {
     "data": {
      "text/html": [
       "<pre style=\"white-space:pre;overflow-x:auto;line-height:normal;font-family:Menlo,'DejaVu Sans Mono',consolas,'Courier New',monospace\"><span style=\"color: #f4a261; text-decoration-color: #f4a261\">ATLAS </span><span style=\"color: #f4a261; text-decoration-color: #f4a261; font-weight: bold\">[</span><span style=\"color: #f4a261; text-decoration-color: #f4a261\">WARNING</span><span style=\"color: #f4a261; text-decoration-color: #f4a261; font-weight: bold\">]</span><span style=\"color: #f4a261; text-decoration-color: #f4a261\"> Setting ask fidelity level to </span><span style=\"color: #008080; text-decoration-color: #008080; font-weight: bold\">0.1</span>\n",
       "</pre>\n"
      ],
      "text/plain": [
       "\u001b[38;2;244;162;97mATLAS \u001b[0m\u001b[1;38;2;244;162;97m[\u001b[0m\u001b[38;2;244;162;97mWARNING\u001b[0m\u001b[1;38;2;244;162;97m]\u001b[0m\u001b[38;2;244;162;97m Setting ask fidelity level to \u001b[0m\u001b[1;36m0.1\u001b[0m\n"
      ]
     },
     "metadata": {},
     "output_type": "display_data"
    },
    {
     "data": {
      "text/html": [
       "<pre style=\"white-space:pre;overflow-x:auto;line-height:normal;font-family:Menlo,'DejaVu Sans Mono',consolas,'Courier New',monospace\"><span style=\"color: #05a6fb; text-decoration-color: #05a6fb\">───────────────────── Training regression surrogate model ──────────────────────</span>\n",
       "</pre>\n"
      ],
      "text/plain": [
       "\u001b[38;2;5;166;251m───────────────────── Training regression surrogate model ──────────────────────\u001b[0m\n"
      ]
     },
     "metadata": {},
     "output_type": "display_data"
    },
    {
     "name": "stderr",
     "output_type": "stream",
     "text": [
      "/users/k23070952/.local/lib/python3.9/site-packages/botorch/models/utils/assorted.py:174: InputDataWarning: Input data is not contained to the unit cube. Please consider min-max scaling the input data.\n",
      "  warnings.warn(msg, InputDataWarning)\n",
      "/users/k23070952/.local/lib/python3.9/site-packages/botorch/models/utils/assorted.py:202: InputDataWarning: Input data is not standardized (mean = tensor([-1.3323e-16]), std = tensor([1.0146])). Please consider scaling the input to zero mean and unit variance.\n",
      "  warnings.warn(msg, InputDataWarning)\n"
     ]
    },
    {
     "data": {
      "text/html": [
       "<pre style=\"white-space:pre;overflow-x:auto;line-height:normal;font-family:Menlo,'DejaVu Sans Mono',consolas,'Courier New',monospace\">ATLAS <span style=\"font-weight: bold\">[</span>INFO<span style=\"font-weight: bold\">]</span> Regression surrogate GP trained in <span style=\"color: #008080; text-decoration-color: #008080; font-weight: bold\">0.095</span> sec\n",
       "</pre>\n"
      ],
      "text/plain": [
       "ATLAS \u001b[1m[\u001b[0mINFO\u001b[1m]\u001b[0m Regression surrogate GP trained in \u001b[1;36m0.095\u001b[0m sec\n"
      ]
     },
     "metadata": {},
     "output_type": "display_data"
    },
    {
     "data": {
      "text/html": [
       "<pre style=\"white-space:pre;overflow-x:auto;line-height:normal;font-family:Menlo,'DejaVu Sans Mono',consolas,'Courier New',monospace\"><span style=\"color: #05a6fb; text-decoration-color: #05a6fb\">────────────────────── Acquisition function optimization ───────────────────────</span>\n",
       "</pre>\n"
      ],
      "text/plain": [
       "\u001b[38;2;5;166;251m────────────────────── Acquisition function optimization ───────────────────────\u001b[0m\n"
      ]
     },
     "metadata": {},
     "output_type": "display_data"
    },
    {
     "data": {
      "text/html": [
       "<pre style=\"white-space:pre;overflow-x:auto;line-height:normal;font-family:Menlo,'DejaVu Sans Mono',consolas,'Courier New',monospace\">ATLAS <span style=\"font-weight: bold\">[</span>INFO<span style=\"font-weight: bold\">]</span> Optimizing acquisition function with pymoo GA for <span style=\"color: #008080; text-decoration-color: #008080; font-weight: bold\">1</span> fixed parameters<span style=\"color: #808000; text-decoration-color: #808000\">...</span>\n",
       "</pre>\n"
      ],
      "text/plain": [
       "ATLAS \u001b[1m[\u001b[0mINFO\u001b[1m]\u001b[0m Optimizing acquisition function with pymoo GA for \u001b[1;36m1\u001b[0m fixed parameters\u001b[33m...\u001b[0m\n"
      ]
     },
     "metadata": {},
     "output_type": "display_data"
    },
    {
     "name": "stderr",
     "output_type": "stream",
     "text": [
      "/users/k23070952/.local/lib/python3.9/site-packages/botorch/models/gpytorch.py:477: BotorchTensorDimensionWarning: Non-strict enforcement of botorch tensor conventions. The following error would have been raised with strict enforcement: Expected X and Y to have the same number of dimensions (got X with dimension 3 and Y with dimension 4).\n",
      "  self._validate_tensor_args(X=X, Y=Y, Yvar=noise, strict=False)\n",
      "/users/k23070952/.local/lib/python3.9/site-packages/botorch/models/gpytorch.py:239: BotorchTensorDimensionWarning: Non-strict enforcement of botorch tensor conventions. The following error would have been raised with strict enforcement: Expected X and Y to have the same number of dimensions (got X with dimension 3 and Y with dimension 4).\n",
      "  self._validate_tensor_args(X=X, Y=Y, Yvar=Yvar, strict=False)\n",
      "/users/k23070952/.local/lib/python3.9/site-packages/pymoo/operators/repair/rounding.py:18: RuntimeWarning: invalid value encountered in cast\n",
      "  return np.around(X).astype(int)\n",
      "/users/k23070952/.local/lib/python3.9/site-packages/pymoo/operators/mutation/pm.py:44: RuntimeWarning: overflow encountered in power\n",
      "  val = 2.0 * rand + (1.0 - 2.0 * rand) * (np.power(xy, (eta + 1.0)))\n",
      "/users/k23070952/.local/lib/python3.9/site-packages/pymoo/operators/mutation/pm.py:49: RuntimeWarning: overflow encountered in power\n",
      "  val = 2.0 * (1.0 - rand) + 2.0 * (rand - 0.5) * (np.power(xy, (eta + 1.0)))\n"
     ]
    },
    {
     "name": "stdout",
     "output_type": "stream",
     "text": [
      "Time: 30.282140970230103s\n",
      "SAMPLE :  ParamVector(s = 0.1, organic = azetidinium, cation = Pb, anion = Cl)\n",
      "MEASUREMENT :  2.3229\n"
     ]
    },
    {
     "data": {
      "text/html": [
       "<pre style=\"white-space:pre;overflow-x:auto;line-height:normal;font-family:Menlo,'DejaVu Sans Mono',consolas,'Courier New',monospace\"><span style=\"color: #05a6fb; text-decoration-color: #05a6fb\">────────────────────── Acquisition function optimization ───────────────────────</span>\n",
       "</pre>\n"
      ],
      "text/plain": [
       "\u001b[38;2;5;166;251m────────────────────── Acquisition function optimization ───────────────────────\u001b[0m\n"
      ]
     },
     "metadata": {},
     "output_type": "display_data"
    },
    {
     "data": {
      "text/html": [
       "<pre style=\"white-space:pre;overflow-x:auto;line-height:normal;font-family:Menlo,'DejaVu Sans Mono',consolas,'Courier New',monospace\">ATLAS <span style=\"font-weight: bold\">[</span>INFO<span style=\"font-weight: bold\">]</span> Optimizing acquisition function with pymoo GA for <span style=\"color: #008080; text-decoration-color: #008080; font-weight: bold\">1</span> fixed parameters<span style=\"color: #808000; text-decoration-color: #808000\">...</span>\n",
       "</pre>\n"
      ],
      "text/plain": [
       "ATLAS \u001b[1m[\u001b[0mINFO\u001b[1m]\u001b[0m Optimizing acquisition function with pymoo GA for \u001b[1;36m1\u001b[0m fixed parameters\u001b[33m...\u001b[0m\n"
      ]
     },
     "metadata": {},
     "output_type": "display_data"
    },
    {
     "name": "stdout",
     "output_type": "stream",
     "text": [
      "\n",
      "REC SAMPLE :  ParamVector(s = 1.0, organic = guanidinium, cation = Sn, anion = Br)\n",
      "REC MEASUREMENT :  2.1209\n",
      "\n",
      "\n",
      "RUN : 1/10\tITER : 37\tCOST : 8.1\n",
      "\n"
     ]
    },
    {
     "data": {
      "text/html": [
       "<pre style=\"white-space:pre;overflow-x:auto;line-height:normal;font-family:Menlo,'DejaVu Sans Mono',consolas,'Courier New',monospace\"><span style=\"color: #f4a261; text-decoration-color: #f4a261\">ATLAS </span><span style=\"color: #f4a261; text-decoration-color: #f4a261; font-weight: bold\">[</span><span style=\"color: #f4a261; text-decoration-color: #f4a261\">WARNING</span><span style=\"color: #f4a261; text-decoration-color: #f4a261; font-weight: bold\">]</span><span style=\"color: #f4a261; text-decoration-color: #f4a261\"> Setting ask fidelity level to </span><span style=\"color: #008080; text-decoration-color: #008080; font-weight: bold\">0.1</span>\n",
       "</pre>\n"
      ],
      "text/plain": [
       "\u001b[38;2;244;162;97mATLAS \u001b[0m\u001b[1;38;2;244;162;97m[\u001b[0m\u001b[38;2;244;162;97mWARNING\u001b[0m\u001b[1;38;2;244;162;97m]\u001b[0m\u001b[38;2;244;162;97m Setting ask fidelity level to \u001b[0m\u001b[1;36m0.1\u001b[0m\n"
      ]
     },
     "metadata": {},
     "output_type": "display_data"
    },
    {
     "data": {
      "text/html": [
       "<pre style=\"white-space:pre;overflow-x:auto;line-height:normal;font-family:Menlo,'DejaVu Sans Mono',consolas,'Courier New',monospace\"><span style=\"color: #05a6fb; text-decoration-color: #05a6fb\">───────────────────── Training regression surrogate model ──────────────────────</span>\n",
       "</pre>\n"
      ],
      "text/plain": [
       "\u001b[38;2;5;166;251m───────────────────── Training regression surrogate model ──────────────────────\u001b[0m\n"
      ]
     },
     "metadata": {},
     "output_type": "display_data"
    },
    {
     "name": "stderr",
     "output_type": "stream",
     "text": [
      "/users/k23070952/.local/lib/python3.9/site-packages/botorch/models/utils/assorted.py:174: InputDataWarning: Input data is not contained to the unit cube. Please consider min-max scaling the input data.\n",
      "  warnings.warn(msg, InputDataWarning)\n",
      "/users/k23070952/.local/lib/python3.9/site-packages/botorch/models/utils/assorted.py:202: InputDataWarning: Input data is not standardized (mean = tensor([-3.6699e-16]), std = tensor([1.0142])). Please consider scaling the input to zero mean and unit variance.\n",
      "  warnings.warn(msg, InputDataWarning)\n"
     ]
    },
    {
     "data": {
      "text/html": [
       "<pre style=\"white-space:pre;overflow-x:auto;line-height:normal;font-family:Menlo,'DejaVu Sans Mono',consolas,'Courier New',monospace\">ATLAS <span style=\"font-weight: bold\">[</span>INFO<span style=\"font-weight: bold\">]</span> Regression surrogate GP trained in <span style=\"color: #008080; text-decoration-color: #008080; font-weight: bold\">0.095</span> sec\n",
       "</pre>\n"
      ],
      "text/plain": [
       "ATLAS \u001b[1m[\u001b[0mINFO\u001b[1m]\u001b[0m Regression surrogate GP trained in \u001b[1;36m0.095\u001b[0m sec\n"
      ]
     },
     "metadata": {},
     "output_type": "display_data"
    },
    {
     "data": {
      "text/html": [
       "<pre style=\"white-space:pre;overflow-x:auto;line-height:normal;font-family:Menlo,'DejaVu Sans Mono',consolas,'Courier New',monospace\"><span style=\"color: #05a6fb; text-decoration-color: #05a6fb\">────────────────────── Acquisition function optimization ───────────────────────</span>\n",
       "</pre>\n"
      ],
      "text/plain": [
       "\u001b[38;2;5;166;251m────────────────────── Acquisition function optimization ───────────────────────\u001b[0m\n"
      ]
     },
     "metadata": {},
     "output_type": "display_data"
    },
    {
     "data": {
      "text/html": [
       "<pre style=\"white-space:pre;overflow-x:auto;line-height:normal;font-family:Menlo,'DejaVu Sans Mono',consolas,'Courier New',monospace\">ATLAS <span style=\"font-weight: bold\">[</span>INFO<span style=\"font-weight: bold\">]</span> Optimizing acquisition function with pymoo GA for <span style=\"color: #008080; text-decoration-color: #008080; font-weight: bold\">1</span> fixed parameters<span style=\"color: #808000; text-decoration-color: #808000\">...</span>\n",
       "</pre>\n"
      ],
      "text/plain": [
       "ATLAS \u001b[1m[\u001b[0mINFO\u001b[1m]\u001b[0m Optimizing acquisition function with pymoo GA for \u001b[1;36m1\u001b[0m fixed parameters\u001b[33m...\u001b[0m\n"
      ]
     },
     "metadata": {},
     "output_type": "display_data"
    },
    {
     "name": "stderr",
     "output_type": "stream",
     "text": [
      "/users/k23070952/.local/lib/python3.9/site-packages/botorch/models/gpytorch.py:477: BotorchTensorDimensionWarning: Non-strict enforcement of botorch tensor conventions. The following error would have been raised with strict enforcement: Expected X and Y to have the same number of dimensions (got X with dimension 3 and Y with dimension 4).\n",
      "  self._validate_tensor_args(X=X, Y=Y, Yvar=noise, strict=False)\n",
      "/users/k23070952/.local/lib/python3.9/site-packages/botorch/models/gpytorch.py:239: BotorchTensorDimensionWarning: Non-strict enforcement of botorch tensor conventions. The following error would have been raised with strict enforcement: Expected X and Y to have the same number of dimensions (got X with dimension 3 and Y with dimension 4).\n",
      "  self._validate_tensor_args(X=X, Y=Y, Yvar=Yvar, strict=False)\n",
      "/users/k23070952/.local/lib/python3.9/site-packages/pymoo/operators/repair/rounding.py:18: RuntimeWarning: invalid value encountered in cast\n",
      "  return np.around(X).astype(int)\n",
      "/users/k23070952/.local/lib/python3.9/site-packages/pymoo/operators/mutation/pm.py:44: RuntimeWarning: overflow encountered in power\n",
      "  val = 2.0 * rand + (1.0 - 2.0 * rand) * (np.power(xy, (eta + 1.0)))\n",
      "/users/k23070952/.local/lib/python3.9/site-packages/pymoo/operators/mutation/pm.py:49: RuntimeWarning: overflow encountered in power\n",
      "  val = 2.0 * (1.0 - rand) + 2.0 * (rand - 0.5) * (np.power(xy, (eta + 1.0)))\n"
     ]
    },
    {
     "name": "stdout",
     "output_type": "stream",
     "text": [
      "Time: 30.65236496925354s\n",
      "SAMPLE :  ParamVector(s = 0.1, organic = methylammonium, cation = Sn, anion = Cl)\n",
      "MEASUREMENT :  1.4646\n"
     ]
    },
    {
     "data": {
      "text/html": [
       "<pre style=\"white-space:pre;overflow-x:auto;line-height:normal;font-family:Menlo,'DejaVu Sans Mono',consolas,'Courier New',monospace\"><span style=\"color: #05a6fb; text-decoration-color: #05a6fb\">────────────────────── Acquisition function optimization ───────────────────────</span>\n",
       "</pre>\n"
      ],
      "text/plain": [
       "\u001b[38;2;5;166;251m────────────────────── Acquisition function optimization ───────────────────────\u001b[0m\n"
      ]
     },
     "metadata": {},
     "output_type": "display_data"
    },
    {
     "data": {
      "text/html": [
       "<pre style=\"white-space:pre;overflow-x:auto;line-height:normal;font-family:Menlo,'DejaVu Sans Mono',consolas,'Courier New',monospace\">ATLAS <span style=\"font-weight: bold\">[</span>INFO<span style=\"font-weight: bold\">]</span> Optimizing acquisition function with pymoo GA for <span style=\"color: #008080; text-decoration-color: #008080; font-weight: bold\">1</span> fixed parameters<span style=\"color: #808000; text-decoration-color: #808000\">...</span>\n",
       "</pre>\n"
      ],
      "text/plain": [
       "ATLAS \u001b[1m[\u001b[0mINFO\u001b[1m]\u001b[0m Optimizing acquisition function with pymoo GA for \u001b[1;36m1\u001b[0m fixed parameters\u001b[33m...\u001b[0m\n"
      ]
     },
     "metadata": {},
     "output_type": "display_data"
    },
    {
     "name": "stdout",
     "output_type": "stream",
     "text": [
      "\n",
      "REC SAMPLE :  ParamVector(s = 1.0, organic = butylammonium, cation = Pb, anion = F)\n",
      "REC MEASUREMENT :  5.7128\n",
      "\n",
      "\n",
      "RUN : 1/10\tITER : 38\tCOST : 8.2\n",
      "\n"
     ]
    },
    {
     "data": {
      "text/html": [
       "<pre style=\"white-space:pre;overflow-x:auto;line-height:normal;font-family:Menlo,'DejaVu Sans Mono',consolas,'Courier New',monospace\"><span style=\"color: #f4a261; text-decoration-color: #f4a261\">ATLAS </span><span style=\"color: #f4a261; text-decoration-color: #f4a261; font-weight: bold\">[</span><span style=\"color: #f4a261; text-decoration-color: #f4a261\">WARNING</span><span style=\"color: #f4a261; text-decoration-color: #f4a261; font-weight: bold\">]</span><span style=\"color: #f4a261; text-decoration-color: #f4a261\"> Setting ask fidelity level to </span><span style=\"color: #008080; text-decoration-color: #008080; font-weight: bold\">0.1</span>\n",
       "</pre>\n"
      ],
      "text/plain": [
       "\u001b[38;2;244;162;97mATLAS \u001b[0m\u001b[1;38;2;244;162;97m[\u001b[0m\u001b[38;2;244;162;97mWARNING\u001b[0m\u001b[1;38;2;244;162;97m]\u001b[0m\u001b[38;2;244;162;97m Setting ask fidelity level to \u001b[0m\u001b[1;36m0.1\u001b[0m\n"
      ]
     },
     "metadata": {},
     "output_type": "display_data"
    },
    {
     "data": {
      "text/html": [
       "<pre style=\"white-space:pre;overflow-x:auto;line-height:normal;font-family:Menlo,'DejaVu Sans Mono',consolas,'Courier New',monospace\"><span style=\"color: #05a6fb; text-decoration-color: #05a6fb\">───────────────────── Training regression surrogate model ──────────────────────</span>\n",
       "</pre>\n"
      ],
      "text/plain": [
       "\u001b[38;2;5;166;251m───────────────────── Training regression surrogate model ──────────────────────\u001b[0m\n"
      ]
     },
     "metadata": {},
     "output_type": "display_data"
    },
    {
     "name": "stderr",
     "output_type": "stream",
     "text": [
      "/users/k23070952/.local/lib/python3.9/site-packages/botorch/models/utils/assorted.py:174: InputDataWarning: Input data is not contained to the unit cube. Please consider min-max scaling the input data.\n",
      "  warnings.warn(msg, InputDataWarning)\n",
      "/users/k23070952/.local/lib/python3.9/site-packages/botorch/models/utils/assorted.py:202: InputDataWarning: Input data is not standardized (mean = tensor([-6.3013e-16]), std = tensor([1.0138])). Please consider scaling the input to zero mean and unit variance.\n",
      "  warnings.warn(msg, InputDataWarning)\n"
     ]
    },
    {
     "data": {
      "text/html": [
       "<pre style=\"white-space:pre;overflow-x:auto;line-height:normal;font-family:Menlo,'DejaVu Sans Mono',consolas,'Courier New',monospace\">ATLAS <span style=\"font-weight: bold\">[</span>INFO<span style=\"font-weight: bold\">]</span> Regression surrogate GP trained in <span style=\"color: #008080; text-decoration-color: #008080; font-weight: bold\">0.1</span> sec\n",
       "</pre>\n"
      ],
      "text/plain": [
       "ATLAS \u001b[1m[\u001b[0mINFO\u001b[1m]\u001b[0m Regression surrogate GP trained in \u001b[1;36m0.1\u001b[0m sec\n"
      ]
     },
     "metadata": {},
     "output_type": "display_data"
    },
    {
     "data": {
      "text/html": [
       "<pre style=\"white-space:pre;overflow-x:auto;line-height:normal;font-family:Menlo,'DejaVu Sans Mono',consolas,'Courier New',monospace\"><span style=\"color: #05a6fb; text-decoration-color: #05a6fb\">────────────────────── Acquisition function optimization ───────────────────────</span>\n",
       "</pre>\n"
      ],
      "text/plain": [
       "\u001b[38;2;5;166;251m────────────────────── Acquisition function optimization ───────────────────────\u001b[0m\n"
      ]
     },
     "metadata": {},
     "output_type": "display_data"
    },
    {
     "data": {
      "text/html": [
       "<pre style=\"white-space:pre;overflow-x:auto;line-height:normal;font-family:Menlo,'DejaVu Sans Mono',consolas,'Courier New',monospace\">ATLAS <span style=\"font-weight: bold\">[</span>INFO<span style=\"font-weight: bold\">]</span> Optimizing acquisition function with pymoo GA for <span style=\"color: #008080; text-decoration-color: #008080; font-weight: bold\">1</span> fixed parameters<span style=\"color: #808000; text-decoration-color: #808000\">...</span>\n",
       "</pre>\n"
      ],
      "text/plain": [
       "ATLAS \u001b[1m[\u001b[0mINFO\u001b[1m]\u001b[0m Optimizing acquisition function with pymoo GA for \u001b[1;36m1\u001b[0m fixed parameters\u001b[33m...\u001b[0m\n"
      ]
     },
     "metadata": {},
     "output_type": "display_data"
    },
    {
     "name": "stderr",
     "output_type": "stream",
     "text": [
      "/users/k23070952/.local/lib/python3.9/site-packages/botorch/models/gpytorch.py:477: BotorchTensorDimensionWarning: Non-strict enforcement of botorch tensor conventions. The following error would have been raised with strict enforcement: Expected X and Y to have the same number of dimensions (got X with dimension 3 and Y with dimension 4).\n",
      "  self._validate_tensor_args(X=X, Y=Y, Yvar=noise, strict=False)\n",
      "/users/k23070952/.local/lib/python3.9/site-packages/botorch/models/gpytorch.py:239: BotorchTensorDimensionWarning: Non-strict enforcement of botorch tensor conventions. The following error would have been raised with strict enforcement: Expected X and Y to have the same number of dimensions (got X with dimension 3 and Y with dimension 4).\n",
      "  self._validate_tensor_args(X=X, Y=Y, Yvar=Yvar, strict=False)\n",
      "/users/k23070952/.local/lib/python3.9/site-packages/pymoo/operators/repair/rounding.py:18: RuntimeWarning: invalid value encountered in cast\n",
      "  return np.around(X).astype(int)\n",
      "/users/k23070952/.local/lib/python3.9/site-packages/pymoo/operators/mutation/pm.py:44: RuntimeWarning: overflow encountered in power\n",
      "  val = 2.0 * rand + (1.0 - 2.0 * rand) * (np.power(xy, (eta + 1.0)))\n",
      "/users/k23070952/.local/lib/python3.9/site-packages/pymoo/operators/mutation/pm.py:49: RuntimeWarning: overflow encountered in power\n",
      "  val = 2.0 * (1.0 - rand) + 2.0 * (rand - 0.5) * (np.power(xy, (eta + 1.0)))\n"
     ]
    },
    {
     "name": "stdout",
     "output_type": "stream",
     "text": [
      "Time: 30.810218811035156s\n",
      "SAMPLE :  ParamVector(s = 0.1, organic = methylammonium, cation = Ge, anion = Cl)\n",
      "MEASUREMENT :  2.0343\n"
     ]
    },
    {
     "data": {
      "text/html": [
       "<pre style=\"white-space:pre;overflow-x:auto;line-height:normal;font-family:Menlo,'DejaVu Sans Mono',consolas,'Courier New',monospace\"><span style=\"color: #05a6fb; text-decoration-color: #05a6fb\">────────────────────── Acquisition function optimization ───────────────────────</span>\n",
       "</pre>\n"
      ],
      "text/plain": [
       "\u001b[38;2;5;166;251m────────────────────── Acquisition function optimization ───────────────────────\u001b[0m\n"
      ]
     },
     "metadata": {},
     "output_type": "display_data"
    },
    {
     "data": {
      "text/html": [
       "<pre style=\"white-space:pre;overflow-x:auto;line-height:normal;font-family:Menlo,'DejaVu Sans Mono',consolas,'Courier New',monospace\">ATLAS <span style=\"font-weight: bold\">[</span>INFO<span style=\"font-weight: bold\">]</span> Optimizing acquisition function with pymoo GA for <span style=\"color: #008080; text-decoration-color: #008080; font-weight: bold\">1</span> fixed parameters<span style=\"color: #808000; text-decoration-color: #808000\">...</span>\n",
       "</pre>\n"
      ],
      "text/plain": [
       "ATLAS \u001b[1m[\u001b[0mINFO\u001b[1m]\u001b[0m Optimizing acquisition function with pymoo GA for \u001b[1;36m1\u001b[0m fixed parameters\u001b[33m...\u001b[0m\n"
      ]
     },
     "metadata": {},
     "output_type": "display_data"
    },
    {
     "name": "stdout",
     "output_type": "stream",
     "text": [
      "\n",
      "REC SAMPLE :  ParamVector(s = 1.0, organic = trimethylammonium, cation = Sn, anion = Br)\n",
      "REC MEASUREMENT :  2.4938\n",
      "\n",
      "\n",
      "RUN : 1/10\tITER : 39\tCOST : 8.299999999999999\n",
      "\n"
     ]
    },
    {
     "data": {
      "text/html": [
       "<pre style=\"white-space:pre;overflow-x:auto;line-height:normal;font-family:Menlo,'DejaVu Sans Mono',consolas,'Courier New',monospace\"><span style=\"color: #f4a261; text-decoration-color: #f4a261\">ATLAS </span><span style=\"color: #f4a261; text-decoration-color: #f4a261; font-weight: bold\">[</span><span style=\"color: #f4a261; text-decoration-color: #f4a261\">WARNING</span><span style=\"color: #f4a261; text-decoration-color: #f4a261; font-weight: bold\">]</span><span style=\"color: #f4a261; text-decoration-color: #f4a261\"> Setting ask fidelity level to </span><span style=\"color: #008080; text-decoration-color: #008080; font-weight: bold\">0.1</span>\n",
       "</pre>\n"
      ],
      "text/plain": [
       "\u001b[38;2;244;162;97mATLAS \u001b[0m\u001b[1;38;2;244;162;97m[\u001b[0m\u001b[38;2;244;162;97mWARNING\u001b[0m\u001b[1;38;2;244;162;97m]\u001b[0m\u001b[38;2;244;162;97m Setting ask fidelity level to \u001b[0m\u001b[1;36m0.1\u001b[0m\n"
      ]
     },
     "metadata": {},
     "output_type": "display_data"
    },
    {
     "data": {
      "text/html": [
       "<pre style=\"white-space:pre;overflow-x:auto;line-height:normal;font-family:Menlo,'DejaVu Sans Mono',consolas,'Courier New',monospace\"><span style=\"color: #05a6fb; text-decoration-color: #05a6fb\">───────────────────── Training regression surrogate model ──────────────────────</span>\n",
       "</pre>\n"
      ],
      "text/plain": [
       "\u001b[38;2;5;166;251m───────────────────── Training regression surrogate model ──────────────────────\u001b[0m\n"
      ]
     },
     "metadata": {},
     "output_type": "display_data"
    },
    {
     "name": "stderr",
     "output_type": "stream",
     "text": [
      "/users/k23070952/.local/lib/python3.9/site-packages/botorch/models/utils/assorted.py:174: InputDataWarning: Input data is not contained to the unit cube. Please consider min-max scaling the input data.\n",
      "  warnings.warn(msg, InputDataWarning)\n",
      "/users/k23070952/.local/lib/python3.9/site-packages/botorch/models/utils/assorted.py:202: InputDataWarning: Input data is not standardized (mean = tensor([-4.4993e-16]), std = tensor([1.0134])). Please consider scaling the input to zero mean and unit variance.\n",
      "  warnings.warn(msg, InputDataWarning)\n"
     ]
    },
    {
     "data": {
      "text/html": [
       "<pre style=\"white-space:pre;overflow-x:auto;line-height:normal;font-family:Menlo,'DejaVu Sans Mono',consolas,'Courier New',monospace\">ATLAS <span style=\"font-weight: bold\">[</span>INFO<span style=\"font-weight: bold\">]</span> Regression surrogate GP trained in <span style=\"color: #008080; text-decoration-color: #008080; font-weight: bold\">0.096</span> sec\n",
       "</pre>\n"
      ],
      "text/plain": [
       "ATLAS \u001b[1m[\u001b[0mINFO\u001b[1m]\u001b[0m Regression surrogate GP trained in \u001b[1;36m0.096\u001b[0m sec\n"
      ]
     },
     "metadata": {},
     "output_type": "display_data"
    },
    {
     "data": {
      "text/html": [
       "<pre style=\"white-space:pre;overflow-x:auto;line-height:normal;font-family:Menlo,'DejaVu Sans Mono',consolas,'Courier New',monospace\"><span style=\"color: #05a6fb; text-decoration-color: #05a6fb\">────────────────────── Acquisition function optimization ───────────────────────</span>\n",
       "</pre>\n"
      ],
      "text/plain": [
       "\u001b[38;2;5;166;251m────────────────────── Acquisition function optimization ───────────────────────\u001b[0m\n"
      ]
     },
     "metadata": {},
     "output_type": "display_data"
    },
    {
     "data": {
      "text/html": [
       "<pre style=\"white-space:pre;overflow-x:auto;line-height:normal;font-family:Menlo,'DejaVu Sans Mono',consolas,'Courier New',monospace\">ATLAS <span style=\"font-weight: bold\">[</span>INFO<span style=\"font-weight: bold\">]</span> Optimizing acquisition function with pymoo GA for <span style=\"color: #008080; text-decoration-color: #008080; font-weight: bold\">1</span> fixed parameters<span style=\"color: #808000; text-decoration-color: #808000\">...</span>\n",
       "</pre>\n"
      ],
      "text/plain": [
       "ATLAS \u001b[1m[\u001b[0mINFO\u001b[1m]\u001b[0m Optimizing acquisition function with pymoo GA for \u001b[1;36m1\u001b[0m fixed parameters\u001b[33m...\u001b[0m\n"
      ]
     },
     "metadata": {},
     "output_type": "display_data"
    },
    {
     "name": "stderr",
     "output_type": "stream",
     "text": [
      "/users/k23070952/.local/lib/python3.9/site-packages/botorch/models/gpytorch.py:477: BotorchTensorDimensionWarning: Non-strict enforcement of botorch tensor conventions. The following error would have been raised with strict enforcement: Expected X and Y to have the same number of dimensions (got X with dimension 3 and Y with dimension 4).\n",
      "  self._validate_tensor_args(X=X, Y=Y, Yvar=noise, strict=False)\n",
      "/users/k23070952/.local/lib/python3.9/site-packages/botorch/models/gpytorch.py:239: BotorchTensorDimensionWarning: Non-strict enforcement of botorch tensor conventions. The following error would have been raised with strict enforcement: Expected X and Y to have the same number of dimensions (got X with dimension 3 and Y with dimension 4).\n",
      "  self._validate_tensor_args(X=X, Y=Y, Yvar=Yvar, strict=False)\n",
      "/users/k23070952/.local/lib/python3.9/site-packages/pymoo/operators/repair/rounding.py:18: RuntimeWarning: invalid value encountered in cast\n",
      "  return np.around(X).astype(int)\n",
      "/users/k23070952/.local/lib/python3.9/site-packages/pymoo/operators/mutation/pm.py:44: RuntimeWarning: overflow encountered in power\n",
      "  val = 2.0 * rand + (1.0 - 2.0 * rand) * (np.power(xy, (eta + 1.0)))\n",
      "/users/k23070952/.local/lib/python3.9/site-packages/pymoo/operators/mutation/pm.py:49: RuntimeWarning: overflow encountered in power\n",
      "  val = 2.0 * (1.0 - rand) + 2.0 * (rand - 0.5) * (np.power(xy, (eta + 1.0)))\n"
     ]
    },
    {
     "name": "stdout",
     "output_type": "stream",
     "text": [
      "Time: 30.739381790161133s\n",
      "SAMPLE :  ParamVector(s = 0.1, organic = dimethylammonium, cation = Pb, anion = I)\n",
      "MEASUREMENT :  1.607\n"
     ]
    },
    {
     "data": {
      "text/html": [
       "<pre style=\"white-space:pre;overflow-x:auto;line-height:normal;font-family:Menlo,'DejaVu Sans Mono',consolas,'Courier New',monospace\"><span style=\"color: #05a6fb; text-decoration-color: #05a6fb\">────────────────────── Acquisition function optimization ───────────────────────</span>\n",
       "</pre>\n"
      ],
      "text/plain": [
       "\u001b[38;2;5;166;251m────────────────────── Acquisition function optimization ───────────────────────\u001b[0m\n"
      ]
     },
     "metadata": {},
     "output_type": "display_data"
    },
    {
     "data": {
      "text/html": [
       "<pre style=\"white-space:pre;overflow-x:auto;line-height:normal;font-family:Menlo,'DejaVu Sans Mono',consolas,'Courier New',monospace\">ATLAS <span style=\"font-weight: bold\">[</span>INFO<span style=\"font-weight: bold\">]</span> Optimizing acquisition function with pymoo GA for <span style=\"color: #008080; text-decoration-color: #008080; font-weight: bold\">1</span> fixed parameters<span style=\"color: #808000; text-decoration-color: #808000\">...</span>\n",
       "</pre>\n"
      ],
      "text/plain": [
       "ATLAS \u001b[1m[\u001b[0mINFO\u001b[1m]\u001b[0m Optimizing acquisition function with pymoo GA for \u001b[1;36m1\u001b[0m fixed parameters\u001b[33m...\u001b[0m\n"
      ]
     },
     "metadata": {},
     "output_type": "display_data"
    },
    {
     "name": "stdout",
     "output_type": "stream",
     "text": [
      "\n",
      "REC SAMPLE :  ParamVector(s = 1.0, organic = tetramethylammonium, cation = Ge, anion = Cl)\n",
      "REC MEASUREMENT :  4.4938\n",
      "\n",
      "\n",
      "RUN : 1/10\tITER : 40\tCOST : 8.399999999999999\n",
      "\n"
     ]
    },
    {
     "data": {
      "text/html": [
       "<pre style=\"white-space:pre;overflow-x:auto;line-height:normal;font-family:Menlo,'DejaVu Sans Mono',consolas,'Courier New',monospace\"><span style=\"color: #f4a261; text-decoration-color: #f4a261\">ATLAS </span><span style=\"color: #f4a261; text-decoration-color: #f4a261; font-weight: bold\">[</span><span style=\"color: #f4a261; text-decoration-color: #f4a261\">WARNING</span><span style=\"color: #f4a261; text-decoration-color: #f4a261; font-weight: bold\">]</span><span style=\"color: #f4a261; text-decoration-color: #f4a261\"> Setting ask fidelity level to </span><span style=\"color: #008080; text-decoration-color: #008080; font-weight: bold\">0.1</span>\n",
       "</pre>\n"
      ],
      "text/plain": [
       "\u001b[38;2;244;162;97mATLAS \u001b[0m\u001b[1;38;2;244;162;97m[\u001b[0m\u001b[38;2;244;162;97mWARNING\u001b[0m\u001b[1;38;2;244;162;97m]\u001b[0m\u001b[38;2;244;162;97m Setting ask fidelity level to \u001b[0m\u001b[1;36m0.1\u001b[0m\n"
      ]
     },
     "metadata": {},
     "output_type": "display_data"
    },
    {
     "data": {
      "text/html": [
       "<pre style=\"white-space:pre;overflow-x:auto;line-height:normal;font-family:Menlo,'DejaVu Sans Mono',consolas,'Courier New',monospace\"><span style=\"color: #05a6fb; text-decoration-color: #05a6fb\">───────────────────── Training regression surrogate model ──────────────────────</span>\n",
       "</pre>\n"
      ],
      "text/plain": [
       "\u001b[38;2;5;166;251m───────────────────── Training regression surrogate model ──────────────────────\u001b[0m\n"
      ]
     },
     "metadata": {},
     "output_type": "display_data"
    },
    {
     "name": "stderr",
     "output_type": "stream",
     "text": [
      "/users/k23070952/.local/lib/python3.9/site-packages/botorch/models/utils/assorted.py:174: InputDataWarning: Input data is not contained to the unit cube. Please consider min-max scaling the input data.\n",
      "  warnings.warn(msg, InputDataWarning)\n",
      "/users/k23070952/.local/lib/python3.9/site-packages/botorch/models/utils/assorted.py:202: InputDataWarning: Input data is not standardized (mean = tensor([-3.4730e-16]), std = tensor([1.0131])). Please consider scaling the input to zero mean and unit variance.\n",
      "  warnings.warn(msg, InputDataWarning)\n"
     ]
    },
    {
     "data": {
      "text/html": [
       "<pre style=\"white-space:pre;overflow-x:auto;line-height:normal;font-family:Menlo,'DejaVu Sans Mono',consolas,'Courier New',monospace\">ATLAS <span style=\"font-weight: bold\">[</span>INFO<span style=\"font-weight: bold\">]</span> Regression surrogate GP trained in <span style=\"color: #008080; text-decoration-color: #008080; font-weight: bold\">0.11</span> sec\n",
       "</pre>\n"
      ],
      "text/plain": [
       "ATLAS \u001b[1m[\u001b[0mINFO\u001b[1m]\u001b[0m Regression surrogate GP trained in \u001b[1;36m0.11\u001b[0m sec\n"
      ]
     },
     "metadata": {},
     "output_type": "display_data"
    },
    {
     "data": {
      "text/html": [
       "<pre style=\"white-space:pre;overflow-x:auto;line-height:normal;font-family:Menlo,'DejaVu Sans Mono',consolas,'Courier New',monospace\"><span style=\"color: #05a6fb; text-decoration-color: #05a6fb\">────────────────────── Acquisition function optimization ───────────────────────</span>\n",
       "</pre>\n"
      ],
      "text/plain": [
       "\u001b[38;2;5;166;251m────────────────────── Acquisition function optimization ───────────────────────\u001b[0m\n"
      ]
     },
     "metadata": {},
     "output_type": "display_data"
    },
    {
     "data": {
      "text/html": [
       "<pre style=\"white-space:pre;overflow-x:auto;line-height:normal;font-family:Menlo,'DejaVu Sans Mono',consolas,'Courier New',monospace\">ATLAS <span style=\"font-weight: bold\">[</span>INFO<span style=\"font-weight: bold\">]</span> Optimizing acquisition function with pymoo GA for <span style=\"color: #008080; text-decoration-color: #008080; font-weight: bold\">1</span> fixed parameters<span style=\"color: #808000; text-decoration-color: #808000\">...</span>\n",
       "</pre>\n"
      ],
      "text/plain": [
       "ATLAS \u001b[1m[\u001b[0mINFO\u001b[1m]\u001b[0m Optimizing acquisition function with pymoo GA for \u001b[1;36m1\u001b[0m fixed parameters\u001b[33m...\u001b[0m\n"
      ]
     },
     "metadata": {},
     "output_type": "display_data"
    },
    {
     "name": "stderr",
     "output_type": "stream",
     "text": [
      "/users/k23070952/.local/lib/python3.9/site-packages/botorch/models/gpytorch.py:477: BotorchTensorDimensionWarning: Non-strict enforcement of botorch tensor conventions. The following error would have been raised with strict enforcement: Expected X and Y to have the same number of dimensions (got X with dimension 3 and Y with dimension 4).\n",
      "  self._validate_tensor_args(X=X, Y=Y, Yvar=noise, strict=False)\n",
      "/users/k23070952/.local/lib/python3.9/site-packages/botorch/models/gpytorch.py:239: BotorchTensorDimensionWarning: Non-strict enforcement of botorch tensor conventions. The following error would have been raised with strict enforcement: Expected X and Y to have the same number of dimensions (got X with dimension 3 and Y with dimension 4).\n",
      "  self._validate_tensor_args(X=X, Y=Y, Yvar=Yvar, strict=False)\n",
      "/users/k23070952/.local/lib/python3.9/site-packages/pymoo/operators/repair/rounding.py:18: RuntimeWarning: invalid value encountered in cast\n",
      "  return np.around(X).astype(int)\n",
      "/users/k23070952/.local/lib/python3.9/site-packages/pymoo/operators/mutation/pm.py:44: RuntimeWarning: overflow encountered in power\n",
      "  val = 2.0 * rand + (1.0 - 2.0 * rand) * (np.power(xy, (eta + 1.0)))\n",
      "/users/k23070952/.local/lib/python3.9/site-packages/pymoo/operators/mutation/pm.py:49: RuntimeWarning: overflow encountered in power\n",
      "  val = 2.0 * (1.0 - rand) + 2.0 * (rand - 0.5) * (np.power(xy, (eta + 1.0)))\n"
     ]
    },
    {
     "name": "stdout",
     "output_type": "stream",
     "text": [
      "Time: 31.044516563415527s\n",
      "SAMPLE :  ParamVector(s = 0.1, organic = azetidinium, cation = Ge, anion = Cl)\n",
      "MEASUREMENT :  2.6892\n"
     ]
    },
    {
     "data": {
      "text/html": [
       "<pre style=\"white-space:pre;overflow-x:auto;line-height:normal;font-family:Menlo,'DejaVu Sans Mono',consolas,'Courier New',monospace\"><span style=\"color: #05a6fb; text-decoration-color: #05a6fb\">────────────────────── Acquisition function optimization ───────────────────────</span>\n",
       "</pre>\n"
      ],
      "text/plain": [
       "\u001b[38;2;5;166;251m────────────────────── Acquisition function optimization ───────────────────────\u001b[0m\n"
      ]
     },
     "metadata": {},
     "output_type": "display_data"
    },
    {
     "data": {
      "text/html": [
       "<pre style=\"white-space:pre;overflow-x:auto;line-height:normal;font-family:Menlo,'DejaVu Sans Mono',consolas,'Courier New',monospace\">ATLAS <span style=\"font-weight: bold\">[</span>INFO<span style=\"font-weight: bold\">]</span> Optimizing acquisition function with pymoo GA for <span style=\"color: #008080; text-decoration-color: #008080; font-weight: bold\">1</span> fixed parameters<span style=\"color: #808000; text-decoration-color: #808000\">...</span>\n",
       "</pre>\n"
      ],
      "text/plain": [
       "ATLAS \u001b[1m[\u001b[0mINFO\u001b[1m]\u001b[0m Optimizing acquisition function with pymoo GA for \u001b[1;36m1\u001b[0m fixed parameters\u001b[33m...\u001b[0m\n"
      ]
     },
     "metadata": {},
     "output_type": "display_data"
    },
    {
     "name": "stdout",
     "output_type": "stream",
     "text": [
      "\n",
      "REC SAMPLE :  ParamVector(s = 1.0, organic = tetramethylammonium, cation = Ge, anion = Br)\n",
      "REC MEASUREMENT :  3.4691\n",
      "\n",
      "\n",
      "RUN : 1/10\tITER : 41\tCOST : 8.5\n",
      "\n"
     ]
    },
    {
     "data": {
      "text/html": [
       "<pre style=\"white-space:pre;overflow-x:auto;line-height:normal;font-family:Menlo,'DejaVu Sans Mono',consolas,'Courier New',monospace\"><span style=\"color: #f4a261; text-decoration-color: #f4a261\">ATLAS </span><span style=\"color: #f4a261; text-decoration-color: #f4a261; font-weight: bold\">[</span><span style=\"color: #f4a261; text-decoration-color: #f4a261\">WARNING</span><span style=\"color: #f4a261; text-decoration-color: #f4a261; font-weight: bold\">]</span><span style=\"color: #f4a261; text-decoration-color: #f4a261\"> Setting ask fidelity level to </span><span style=\"color: #008080; text-decoration-color: #008080; font-weight: bold\">1.0</span>\n",
       "</pre>\n"
      ],
      "text/plain": [
       "\u001b[38;2;244;162;97mATLAS \u001b[0m\u001b[1;38;2;244;162;97m[\u001b[0m\u001b[38;2;244;162;97mWARNING\u001b[0m\u001b[1;38;2;244;162;97m]\u001b[0m\u001b[38;2;244;162;97m Setting ask fidelity level to \u001b[0m\u001b[1;36m1.0\u001b[0m\n"
      ]
     },
     "metadata": {},
     "output_type": "display_data"
    },
    {
     "data": {
      "text/html": [
       "<pre style=\"white-space:pre;overflow-x:auto;line-height:normal;font-family:Menlo,'DejaVu Sans Mono',consolas,'Courier New',monospace\"><span style=\"color: #05a6fb; text-decoration-color: #05a6fb\">───────────────────── Training regression surrogate model ──────────────────────</span>\n",
       "</pre>\n"
      ],
      "text/plain": [
       "\u001b[38;2;5;166;251m───────────────────── Training regression surrogate model ──────────────────────\u001b[0m\n"
      ]
     },
     "metadata": {},
     "output_type": "display_data"
    },
    {
     "name": "stderr",
     "output_type": "stream",
     "text": [
      "/users/k23070952/.local/lib/python3.9/site-packages/botorch/models/utils/assorted.py:174: InputDataWarning: Input data is not contained to the unit cube. Please consider min-max scaling the input data.\n",
      "  warnings.warn(msg, InputDataWarning)\n",
      "/users/k23070952/.local/lib/python3.9/site-packages/botorch/models/utils/assorted.py:202: InputDataWarning: Input data is not standardized (mean = tensor([-8.8818e-17]), std = tensor([1.0127])). Please consider scaling the input to zero mean and unit variance.\n",
      "  warnings.warn(msg, InputDataWarning)\n"
     ]
    },
    {
     "data": {
      "text/html": [
       "<pre style=\"white-space:pre;overflow-x:auto;line-height:normal;font-family:Menlo,'DejaVu Sans Mono',consolas,'Courier New',monospace\">ATLAS <span style=\"font-weight: bold\">[</span>INFO<span style=\"font-weight: bold\">]</span> Regression surrogate GP trained in <span style=\"color: #008080; text-decoration-color: #008080; font-weight: bold\">0.106</span> sec\n",
       "</pre>\n"
      ],
      "text/plain": [
       "ATLAS \u001b[1m[\u001b[0mINFO\u001b[1m]\u001b[0m Regression surrogate GP trained in \u001b[1;36m0.106\u001b[0m sec\n"
      ]
     },
     "metadata": {},
     "output_type": "display_data"
    },
    {
     "data": {
      "text/html": [
       "<pre style=\"white-space:pre;overflow-x:auto;line-height:normal;font-family:Menlo,'DejaVu Sans Mono',consolas,'Courier New',monospace\"><span style=\"color: #05a6fb; text-decoration-color: #05a6fb\">────────────────────── Acquisition function optimization ───────────────────────</span>\n",
       "</pre>\n"
      ],
      "text/plain": [
       "\u001b[38;2;5;166;251m────────────────────── Acquisition function optimization ───────────────────────\u001b[0m\n"
      ]
     },
     "metadata": {},
     "output_type": "display_data"
    },
    {
     "data": {
      "text/html": [
       "<pre style=\"white-space:pre;overflow-x:auto;line-height:normal;font-family:Menlo,'DejaVu Sans Mono',consolas,'Courier New',monospace\">ATLAS <span style=\"font-weight: bold\">[</span>INFO<span style=\"font-weight: bold\">]</span> Optimizing acquisition function with pymoo GA for <span style=\"color: #008080; text-decoration-color: #008080; font-weight: bold\">1</span> fixed parameters<span style=\"color: #808000; text-decoration-color: #808000\">...</span>\n",
       "</pre>\n"
      ],
      "text/plain": [
       "ATLAS \u001b[1m[\u001b[0mINFO\u001b[1m]\u001b[0m Optimizing acquisition function with pymoo GA for \u001b[1;36m1\u001b[0m fixed parameters\u001b[33m...\u001b[0m\n"
      ]
     },
     "metadata": {},
     "output_type": "display_data"
    },
    {
     "name": "stderr",
     "output_type": "stream",
     "text": [
      "/users/k23070952/.local/lib/python3.9/site-packages/botorch/models/gpytorch.py:477: BotorchTensorDimensionWarning: Non-strict enforcement of botorch tensor conventions. The following error would have been raised with strict enforcement: Expected X and Y to have the same number of dimensions (got X with dimension 3 and Y with dimension 4).\n",
      "  self._validate_tensor_args(X=X, Y=Y, Yvar=noise, strict=False)\n",
      "/users/k23070952/.local/lib/python3.9/site-packages/botorch/models/gpytorch.py:239: BotorchTensorDimensionWarning: Non-strict enforcement of botorch tensor conventions. The following error would have been raised with strict enforcement: Expected X and Y to have the same number of dimensions (got X with dimension 3 and Y with dimension 4).\n",
      "  self._validate_tensor_args(X=X, Y=Y, Yvar=Yvar, strict=False)\n",
      "/users/k23070952/.local/lib/python3.9/site-packages/pymoo/operators/repair/rounding.py:18: RuntimeWarning: invalid value encountered in cast\n",
      "  return np.around(X).astype(int)\n",
      "/users/k23070952/.local/lib/python3.9/site-packages/pymoo/operators/mutation/pm.py:44: RuntimeWarning: overflow encountered in power\n",
      "  val = 2.0 * rand + (1.0 - 2.0 * rand) * (np.power(xy, (eta + 1.0)))\n",
      "/users/k23070952/.local/lib/python3.9/site-packages/pymoo/operators/mutation/pm.py:49: RuntimeWarning: overflow encountered in power\n",
      "  val = 2.0 * (1.0 - rand) + 2.0 * (rand - 0.5) * (np.power(xy, (eta + 1.0)))\n"
     ]
    },
    {
     "name": "stdout",
     "output_type": "stream",
     "text": [
      "Time: 31.212053775787354s\n",
      "SAMPLE :  ParamVector(s = 1.0, organic = isopropylammonium, cation = Ge, anion = Cl)\n",
      "MEASUREMENT :  4.0419\n"
     ]
    },
    {
     "data": {
      "text/html": [
       "<pre style=\"white-space:pre;overflow-x:auto;line-height:normal;font-family:Menlo,'DejaVu Sans Mono',consolas,'Courier New',monospace\"><span style=\"color: #05a6fb; text-decoration-color: #05a6fb\">────────────────────── Acquisition function optimization ───────────────────────</span>\n",
       "</pre>\n"
      ],
      "text/plain": [
       "\u001b[38;2;5;166;251m────────────────────── Acquisition function optimization ───────────────────────\u001b[0m\n"
      ]
     },
     "metadata": {},
     "output_type": "display_data"
    },
    {
     "data": {
      "text/html": [
       "<pre style=\"white-space:pre;overflow-x:auto;line-height:normal;font-family:Menlo,'DejaVu Sans Mono',consolas,'Courier New',monospace\">ATLAS <span style=\"font-weight: bold\">[</span>INFO<span style=\"font-weight: bold\">]</span> Optimizing acquisition function with pymoo GA for <span style=\"color: #008080; text-decoration-color: #008080; font-weight: bold\">1</span> fixed parameters<span style=\"color: #808000; text-decoration-color: #808000\">...</span>\n",
       "</pre>\n"
      ],
      "text/plain": [
       "ATLAS \u001b[1m[\u001b[0mINFO\u001b[1m]\u001b[0m Optimizing acquisition function with pymoo GA for \u001b[1;36m1\u001b[0m fixed parameters\u001b[33m...\u001b[0m\n"
      ]
     },
     "metadata": {},
     "output_type": "display_data"
    },
    {
     "name": "stdout",
     "output_type": "stream",
     "text": [
      "\n",
      "REC SAMPLE :  ParamVector(s = 1.0, organic = acetamidinium, cation = Pb, anion = I)\n",
      "REC MEASUREMENT :  2.4574\n",
      "\n",
      "\n",
      "RUN : 1/10\tITER : 42\tCOST : 9.5\n",
      "\n"
     ]
    },
    {
     "data": {
      "text/html": [
       "<pre style=\"white-space:pre;overflow-x:auto;line-height:normal;font-family:Menlo,'DejaVu Sans Mono',consolas,'Courier New',monospace\"><span style=\"color: #f4a261; text-decoration-color: #f4a261\">ATLAS </span><span style=\"color: #f4a261; text-decoration-color: #f4a261; font-weight: bold\">[</span><span style=\"color: #f4a261; text-decoration-color: #f4a261\">WARNING</span><span style=\"color: #f4a261; text-decoration-color: #f4a261; font-weight: bold\">]</span><span style=\"color: #f4a261; text-decoration-color: #f4a261\"> Setting ask fidelity level to </span><span style=\"color: #008080; text-decoration-color: #008080; font-weight: bold\">0.1</span>\n",
       "</pre>\n"
      ],
      "text/plain": [
       "\u001b[38;2;244;162;97mATLAS \u001b[0m\u001b[1;38;2;244;162;97m[\u001b[0m\u001b[38;2;244;162;97mWARNING\u001b[0m\u001b[1;38;2;244;162;97m]\u001b[0m\u001b[38;2;244;162;97m Setting ask fidelity level to \u001b[0m\u001b[1;36m0.1\u001b[0m\n"
      ]
     },
     "metadata": {},
     "output_type": "display_data"
    },
    {
     "data": {
      "text/html": [
       "<pre style=\"white-space:pre;overflow-x:auto;line-height:normal;font-family:Menlo,'DejaVu Sans Mono',consolas,'Courier New',monospace\"><span style=\"color: #05a6fb; text-decoration-color: #05a6fb\">───────────────────── Training regression surrogate model ──────────────────────</span>\n",
       "</pre>\n"
      ],
      "text/plain": [
       "\u001b[38;2;5;166;251m───────────────────── Training regression surrogate model ──────────────────────\u001b[0m\n"
      ]
     },
     "metadata": {},
     "output_type": "display_data"
    },
    {
     "name": "stderr",
     "output_type": "stream",
     "text": [
      "/users/k23070952/.local/lib/python3.9/site-packages/botorch/models/utils/assorted.py:174: InputDataWarning: Input data is not contained to the unit cube. Please consider min-max scaling the input data.\n",
      "  warnings.warn(msg, InputDataWarning)\n",
      "/users/k23070952/.local/lib/python3.9/site-packages/botorch/models/utils/assorted.py:202: InputDataWarning: Input data is not standardized (mean = tensor([-1.1373e-16]), std = tensor([1.0124])). Please consider scaling the input to zero mean and unit variance.\n",
      "  warnings.warn(msg, InputDataWarning)\n"
     ]
    },
    {
     "data": {
      "text/html": [
       "<pre style=\"white-space:pre;overflow-x:auto;line-height:normal;font-family:Menlo,'DejaVu Sans Mono',consolas,'Courier New',monospace\">ATLAS <span style=\"font-weight: bold\">[</span>INFO<span style=\"font-weight: bold\">]</span> Regression surrogate GP trained in <span style=\"color: #008080; text-decoration-color: #008080; font-weight: bold\">0.12</span> sec\n",
       "</pre>\n"
      ],
      "text/plain": [
       "ATLAS \u001b[1m[\u001b[0mINFO\u001b[1m]\u001b[0m Regression surrogate GP trained in \u001b[1;36m0.12\u001b[0m sec\n"
      ]
     },
     "metadata": {},
     "output_type": "display_data"
    },
    {
     "data": {
      "text/html": [
       "<pre style=\"white-space:pre;overflow-x:auto;line-height:normal;font-family:Menlo,'DejaVu Sans Mono',consolas,'Courier New',monospace\"><span style=\"color: #05a6fb; text-decoration-color: #05a6fb\">────────────────────── Acquisition function optimization ───────────────────────</span>\n",
       "</pre>\n"
      ],
      "text/plain": [
       "\u001b[38;2;5;166;251m────────────────────── Acquisition function optimization ───────────────────────\u001b[0m\n"
      ]
     },
     "metadata": {},
     "output_type": "display_data"
    },
    {
     "data": {
      "text/html": [
       "<pre style=\"white-space:pre;overflow-x:auto;line-height:normal;font-family:Menlo,'DejaVu Sans Mono',consolas,'Courier New',monospace\">ATLAS <span style=\"font-weight: bold\">[</span>INFO<span style=\"font-weight: bold\">]</span> Optimizing acquisition function with pymoo GA for <span style=\"color: #008080; text-decoration-color: #008080; font-weight: bold\">1</span> fixed parameters<span style=\"color: #808000; text-decoration-color: #808000\">...</span>\n",
       "</pre>\n"
      ],
      "text/plain": [
       "ATLAS \u001b[1m[\u001b[0mINFO\u001b[1m]\u001b[0m Optimizing acquisition function with pymoo GA for \u001b[1;36m1\u001b[0m fixed parameters\u001b[33m...\u001b[0m\n"
      ]
     },
     "metadata": {},
     "output_type": "display_data"
    },
    {
     "name": "stderr",
     "output_type": "stream",
     "text": [
      "/users/k23070952/.local/lib/python3.9/site-packages/botorch/models/gpytorch.py:477: BotorchTensorDimensionWarning: Non-strict enforcement of botorch tensor conventions. The following error would have been raised with strict enforcement: Expected X and Y to have the same number of dimensions (got X with dimension 3 and Y with dimension 4).\n",
      "  self._validate_tensor_args(X=X, Y=Y, Yvar=noise, strict=False)\n",
      "/users/k23070952/.local/lib/python3.9/site-packages/botorch/models/gpytorch.py:239: BotorchTensorDimensionWarning: Non-strict enforcement of botorch tensor conventions. The following error would have been raised with strict enforcement: Expected X and Y to have the same number of dimensions (got X with dimension 3 and Y with dimension 4).\n",
      "  self._validate_tensor_args(X=X, Y=Y, Yvar=Yvar, strict=False)\n",
      "/users/k23070952/.local/lib/python3.9/site-packages/pymoo/operators/repair/rounding.py:18: RuntimeWarning: invalid value encountered in cast\n",
      "  return np.around(X).astype(int)\n",
      "/users/k23070952/.local/lib/python3.9/site-packages/pymoo/operators/mutation/pm.py:44: RuntimeWarning: overflow encountered in power\n",
      "  val = 2.0 * rand + (1.0 - 2.0 * rand) * (np.power(xy, (eta + 1.0)))\n",
      "/users/k23070952/.local/lib/python3.9/site-packages/pymoo/operators/mutation/pm.py:49: RuntimeWarning: overflow encountered in power\n",
      "  val = 2.0 * (1.0 - rand) + 2.0 * (rand - 0.5) * (np.power(xy, (eta + 1.0)))\n"
     ]
    },
    {
     "name": "stdout",
     "output_type": "stream",
     "text": [
      "Time: 31.51220726966858s\n",
      "SAMPLE :  ParamVector(s = 0.1, organic = propylammonium, cation = Pb, anion = Br)\n",
      "MEASUREMENT :  2.1145\n"
     ]
    },
    {
     "data": {
      "text/html": [
       "<pre style=\"white-space:pre;overflow-x:auto;line-height:normal;font-family:Menlo,'DejaVu Sans Mono',consolas,'Courier New',monospace\"><span style=\"color: #05a6fb; text-decoration-color: #05a6fb\">────────────────────── Acquisition function optimization ───────────────────────</span>\n",
       "</pre>\n"
      ],
      "text/plain": [
       "\u001b[38;2;5;166;251m────────────────────── Acquisition function optimization ───────────────────────\u001b[0m\n"
      ]
     },
     "metadata": {},
     "output_type": "display_data"
    },
    {
     "data": {
      "text/html": [
       "<pre style=\"white-space:pre;overflow-x:auto;line-height:normal;font-family:Menlo,'DejaVu Sans Mono',consolas,'Courier New',monospace\">ATLAS <span style=\"font-weight: bold\">[</span>INFO<span style=\"font-weight: bold\">]</span> Optimizing acquisition function with pymoo GA for <span style=\"color: #008080; text-decoration-color: #008080; font-weight: bold\">1</span> fixed parameters<span style=\"color: #808000; text-decoration-color: #808000\">...</span>\n",
       "</pre>\n"
      ],
      "text/plain": [
       "ATLAS \u001b[1m[\u001b[0mINFO\u001b[1m]\u001b[0m Optimizing acquisition function with pymoo GA for \u001b[1;36m1\u001b[0m fixed parameters\u001b[33m...\u001b[0m\n"
      ]
     },
     "metadata": {},
     "output_type": "display_data"
    },
    {
     "name": "stdout",
     "output_type": "stream",
     "text": [
      "\n",
      "REC SAMPLE :  ParamVector(s = 1.0, organic = methylammonium, cation = Pb, anion = I)\n",
      "REC MEASUREMENT :  2.4638\n",
      "\n",
      "\n",
      "RUN : 1/10\tITER : 43\tCOST : 9.6\n",
      "\n"
     ]
    },
    {
     "data": {
      "text/html": [
       "<pre style=\"white-space:pre;overflow-x:auto;line-height:normal;font-family:Menlo,'DejaVu Sans Mono',consolas,'Courier New',monospace\"><span style=\"color: #f4a261; text-decoration-color: #f4a261\">ATLAS </span><span style=\"color: #f4a261; text-decoration-color: #f4a261; font-weight: bold\">[</span><span style=\"color: #f4a261; text-decoration-color: #f4a261\">WARNING</span><span style=\"color: #f4a261; text-decoration-color: #f4a261; font-weight: bold\">]</span><span style=\"color: #f4a261; text-decoration-color: #f4a261\"> Setting ask fidelity level to </span><span style=\"color: #008080; text-decoration-color: #008080; font-weight: bold\">0.1</span>\n",
       "</pre>\n"
      ],
      "text/plain": [
       "\u001b[38;2;244;162;97mATLAS \u001b[0m\u001b[1;38;2;244;162;97m[\u001b[0m\u001b[38;2;244;162;97mWARNING\u001b[0m\u001b[1;38;2;244;162;97m]\u001b[0m\u001b[38;2;244;162;97m Setting ask fidelity level to \u001b[0m\u001b[1;36m0.1\u001b[0m\n"
      ]
     },
     "metadata": {},
     "output_type": "display_data"
    },
    {
     "data": {
      "text/html": [
       "<pre style=\"white-space:pre;overflow-x:auto;line-height:normal;font-family:Menlo,'DejaVu Sans Mono',consolas,'Courier New',monospace\"><span style=\"color: #05a6fb; text-decoration-color: #05a6fb\">───────────────────── Training regression surrogate model ──────────────────────</span>\n",
       "</pre>\n"
      ],
      "text/plain": [
       "\u001b[38;2;5;166;251m───────────────────── Training regression surrogate model ──────────────────────\u001b[0m\n"
      ]
     },
     "metadata": {},
     "output_type": "display_data"
    },
    {
     "name": "stderr",
     "output_type": "stream",
     "text": [
      "/users/k23070952/.local/lib/python3.9/site-packages/botorch/models/utils/assorted.py:174: InputDataWarning: Input data is not contained to the unit cube. Please consider min-max scaling the input data.\n",
      "  warnings.warn(msg, InputDataWarning)\n",
      "/users/k23070952/.local/lib/python3.9/site-packages/botorch/models/utils/assorted.py:202: InputDataWarning: Input data is not standardized (mean = tensor([-3.1985e-16]), std = tensor([1.0121])). Please consider scaling the input to zero mean and unit variance.\n",
      "  warnings.warn(msg, InputDataWarning)\n"
     ]
    },
    {
     "data": {
      "text/html": [
       "<pre style=\"white-space:pre;overflow-x:auto;line-height:normal;font-family:Menlo,'DejaVu Sans Mono',consolas,'Courier New',monospace\">ATLAS <span style=\"font-weight: bold\">[</span>INFO<span style=\"font-weight: bold\">]</span> Regression surrogate GP trained in <span style=\"color: #008080; text-decoration-color: #008080; font-weight: bold\">0.116</span> sec\n",
       "</pre>\n"
      ],
      "text/plain": [
       "ATLAS \u001b[1m[\u001b[0mINFO\u001b[1m]\u001b[0m Regression surrogate GP trained in \u001b[1;36m0.116\u001b[0m sec\n"
      ]
     },
     "metadata": {},
     "output_type": "display_data"
    },
    {
     "data": {
      "text/html": [
       "<pre style=\"white-space:pre;overflow-x:auto;line-height:normal;font-family:Menlo,'DejaVu Sans Mono',consolas,'Courier New',monospace\"><span style=\"color: #05a6fb; text-decoration-color: #05a6fb\">────────────────────── Acquisition function optimization ───────────────────────</span>\n",
       "</pre>\n"
      ],
      "text/plain": [
       "\u001b[38;2;5;166;251m────────────────────── Acquisition function optimization ───────────────────────\u001b[0m\n"
      ]
     },
     "metadata": {},
     "output_type": "display_data"
    },
    {
     "data": {
      "text/html": [
       "<pre style=\"white-space:pre;overflow-x:auto;line-height:normal;font-family:Menlo,'DejaVu Sans Mono',consolas,'Courier New',monospace\">ATLAS <span style=\"font-weight: bold\">[</span>INFO<span style=\"font-weight: bold\">]</span> Optimizing acquisition function with pymoo GA for <span style=\"color: #008080; text-decoration-color: #008080; font-weight: bold\">1</span> fixed parameters<span style=\"color: #808000; text-decoration-color: #808000\">...</span>\n",
       "</pre>\n"
      ],
      "text/plain": [
       "ATLAS \u001b[1m[\u001b[0mINFO\u001b[1m]\u001b[0m Optimizing acquisition function with pymoo GA for \u001b[1;36m1\u001b[0m fixed parameters\u001b[33m...\u001b[0m\n"
      ]
     },
     "metadata": {},
     "output_type": "display_data"
    },
    {
     "name": "stderr",
     "output_type": "stream",
     "text": [
      "/users/k23070952/.local/lib/python3.9/site-packages/botorch/models/gpytorch.py:477: BotorchTensorDimensionWarning: Non-strict enforcement of botorch tensor conventions. The following error would have been raised with strict enforcement: Expected X and Y to have the same number of dimensions (got X with dimension 3 and Y with dimension 4).\n",
      "  self._validate_tensor_args(X=X, Y=Y, Yvar=noise, strict=False)\n",
      "/users/k23070952/.local/lib/python3.9/site-packages/botorch/models/gpytorch.py:239: BotorchTensorDimensionWarning: Non-strict enforcement of botorch tensor conventions. The following error would have been raised with strict enforcement: Expected X and Y to have the same number of dimensions (got X with dimension 3 and Y with dimension 4).\n",
      "  self._validate_tensor_args(X=X, Y=Y, Yvar=Yvar, strict=False)\n",
      "/users/k23070952/.local/lib/python3.9/site-packages/pymoo/operators/repair/rounding.py:18: RuntimeWarning: invalid value encountered in cast\n",
      "  return np.around(X).astype(int)\n",
      "/users/k23070952/.local/lib/python3.9/site-packages/pymoo/operators/mutation/pm.py:44: RuntimeWarning: overflow encountered in power\n",
      "  val = 2.0 * rand + (1.0 - 2.0 * rand) * (np.power(xy, (eta + 1.0)))\n",
      "/users/k23070952/.local/lib/python3.9/site-packages/pymoo/operators/mutation/pm.py:49: RuntimeWarning: overflow encountered in power\n",
      "  val = 2.0 * (1.0 - rand) + 2.0 * (rand - 0.5) * (np.power(xy, (eta + 1.0)))\n"
     ]
    },
    {
     "name": "stdout",
     "output_type": "stream",
     "text": [
      "Time: 31.56888747215271s\n",
      "SAMPLE :  ParamVector(s = 0.1, organic = ammonium, cation = Ge, anion = Cl)\n",
      "MEASUREMENT :  2.1817\n"
     ]
    },
    {
     "data": {
      "text/html": [
       "<pre style=\"white-space:pre;overflow-x:auto;line-height:normal;font-family:Menlo,'DejaVu Sans Mono',consolas,'Courier New',monospace\"><span style=\"color: #05a6fb; text-decoration-color: #05a6fb\">────────────────────── Acquisition function optimization ───────────────────────</span>\n",
       "</pre>\n"
      ],
      "text/plain": [
       "\u001b[38;2;5;166;251m────────────────────── Acquisition function optimization ───────────────────────\u001b[0m\n"
      ]
     },
     "metadata": {},
     "output_type": "display_data"
    },
    {
     "data": {
      "text/html": [
       "<pre style=\"white-space:pre;overflow-x:auto;line-height:normal;font-family:Menlo,'DejaVu Sans Mono',consolas,'Courier New',monospace\">ATLAS <span style=\"font-weight: bold\">[</span>INFO<span style=\"font-weight: bold\">]</span> Optimizing acquisition function with pymoo GA for <span style=\"color: #008080; text-decoration-color: #008080; font-weight: bold\">1</span> fixed parameters<span style=\"color: #808000; text-decoration-color: #808000\">...</span>\n",
       "</pre>\n"
      ],
      "text/plain": [
       "ATLAS \u001b[1m[\u001b[0mINFO\u001b[1m]\u001b[0m Optimizing acquisition function with pymoo GA for \u001b[1;36m1\u001b[0m fixed parameters\u001b[33m...\u001b[0m\n"
      ]
     },
     "metadata": {},
     "output_type": "display_data"
    },
    {
     "name": "stdout",
     "output_type": "stream",
     "text": [
      "\n",
      "REC SAMPLE :  ParamVector(s = 1.0, organic = propylammonium, cation = Sn, anion = I)\n",
      "REC MEASUREMENT :  2.0056\n",
      "\n",
      "\n",
      "RUN : 1/10\tITER : 44\tCOST : 9.7\n",
      "\n"
     ]
    },
    {
     "data": {
      "text/html": [
       "<pre style=\"white-space:pre;overflow-x:auto;line-height:normal;font-family:Menlo,'DejaVu Sans Mono',consolas,'Courier New',monospace\"><span style=\"color: #f4a261; text-decoration-color: #f4a261\">ATLAS </span><span style=\"color: #f4a261; text-decoration-color: #f4a261; font-weight: bold\">[</span><span style=\"color: #f4a261; text-decoration-color: #f4a261\">WARNING</span><span style=\"color: #f4a261; text-decoration-color: #f4a261; font-weight: bold\">]</span><span style=\"color: #f4a261; text-decoration-color: #f4a261\"> Setting ask fidelity level to </span><span style=\"color: #008080; text-decoration-color: #008080; font-weight: bold\">0.1</span>\n",
       "</pre>\n"
      ],
      "text/plain": [
       "\u001b[38;2;244;162;97mATLAS \u001b[0m\u001b[1;38;2;244;162;97m[\u001b[0m\u001b[38;2;244;162;97mWARNING\u001b[0m\u001b[1;38;2;244;162;97m]\u001b[0m\u001b[38;2;244;162;97m Setting ask fidelity level to \u001b[0m\u001b[1;36m0.1\u001b[0m\n"
      ]
     },
     "metadata": {},
     "output_type": "display_data"
    },
    {
     "data": {
      "text/html": [
       "<pre style=\"white-space:pre;overflow-x:auto;line-height:normal;font-family:Menlo,'DejaVu Sans Mono',consolas,'Courier New',monospace\"><span style=\"color: #05a6fb; text-decoration-color: #05a6fb\">───────────────────── Training regression surrogate model ──────────────────────</span>\n",
       "</pre>\n"
      ],
      "text/plain": [
       "\u001b[38;2;5;166;251m───────────────────── Training regression surrogate model ──────────────────────\u001b[0m\n"
      ]
     },
     "metadata": {},
     "output_type": "display_data"
    },
    {
     "name": "stderr",
     "output_type": "stream",
     "text": [
      "/users/k23070952/.local/lib/python3.9/site-packages/botorch/models/utils/assorted.py:174: InputDataWarning: Input data is not contained to the unit cube. Please consider min-max scaling the input data.\n",
      "  warnings.warn(msg, InputDataWarning)\n",
      "/users/k23070952/.local/lib/python3.9/site-packages/botorch/models/utils/assorted.py:202: InputDataWarning: Input data is not standardized (mean = tensor([-5.0089e-16]), std = tensor([1.0118])). Please consider scaling the input to zero mean and unit variance.\n",
      "  warnings.warn(msg, InputDataWarning)\n"
     ]
    },
    {
     "data": {
      "text/html": [
       "<pre style=\"white-space:pre;overflow-x:auto;line-height:normal;font-family:Menlo,'DejaVu Sans Mono',consolas,'Courier New',monospace\">ATLAS <span style=\"font-weight: bold\">[</span>INFO<span style=\"font-weight: bold\">]</span> Regression surrogate GP trained in <span style=\"color: #008080; text-decoration-color: #008080; font-weight: bold\">0.116</span> sec\n",
       "</pre>\n"
      ],
      "text/plain": [
       "ATLAS \u001b[1m[\u001b[0mINFO\u001b[1m]\u001b[0m Regression surrogate GP trained in \u001b[1;36m0.116\u001b[0m sec\n"
      ]
     },
     "metadata": {},
     "output_type": "display_data"
    },
    {
     "data": {
      "text/html": [
       "<pre style=\"white-space:pre;overflow-x:auto;line-height:normal;font-family:Menlo,'DejaVu Sans Mono',consolas,'Courier New',monospace\"><span style=\"color: #05a6fb; text-decoration-color: #05a6fb\">────────────────────── Acquisition function optimization ───────────────────────</span>\n",
       "</pre>\n"
      ],
      "text/plain": [
       "\u001b[38;2;5;166;251m────────────────────── Acquisition function optimization ───────────────────────\u001b[0m\n"
      ]
     },
     "metadata": {},
     "output_type": "display_data"
    },
    {
     "data": {
      "text/html": [
       "<pre style=\"white-space:pre;overflow-x:auto;line-height:normal;font-family:Menlo,'DejaVu Sans Mono',consolas,'Courier New',monospace\">ATLAS <span style=\"font-weight: bold\">[</span>INFO<span style=\"font-weight: bold\">]</span> Optimizing acquisition function with pymoo GA for <span style=\"color: #008080; text-decoration-color: #008080; font-weight: bold\">1</span> fixed parameters<span style=\"color: #808000; text-decoration-color: #808000\">...</span>\n",
       "</pre>\n"
      ],
      "text/plain": [
       "ATLAS \u001b[1m[\u001b[0mINFO\u001b[1m]\u001b[0m Optimizing acquisition function with pymoo GA for \u001b[1;36m1\u001b[0m fixed parameters\u001b[33m...\u001b[0m\n"
      ]
     },
     "metadata": {},
     "output_type": "display_data"
    },
    {
     "name": "stderr",
     "output_type": "stream",
     "text": [
      "/users/k23070952/.local/lib/python3.9/site-packages/botorch/models/gpytorch.py:477: BotorchTensorDimensionWarning: Non-strict enforcement of botorch tensor conventions. The following error would have been raised with strict enforcement: Expected X and Y to have the same number of dimensions (got X with dimension 3 and Y with dimension 4).\n",
      "  self._validate_tensor_args(X=X, Y=Y, Yvar=noise, strict=False)\n",
      "/users/k23070952/.local/lib/python3.9/site-packages/botorch/models/gpytorch.py:239: BotorchTensorDimensionWarning: Non-strict enforcement of botorch tensor conventions. The following error would have been raised with strict enforcement: Expected X and Y to have the same number of dimensions (got X with dimension 3 and Y with dimension 4).\n",
      "  self._validate_tensor_args(X=X, Y=Y, Yvar=Yvar, strict=False)\n",
      "/users/k23070952/.local/lib/python3.9/site-packages/pymoo/operators/repair/rounding.py:18: RuntimeWarning: invalid value encountered in cast\n",
      "  return np.around(X).astype(int)\n",
      "/users/k23070952/.local/lib/python3.9/site-packages/pymoo/operators/mutation/pm.py:44: RuntimeWarning: overflow encountered in power\n",
      "  val = 2.0 * rand + (1.0 - 2.0 * rand) * (np.power(xy, (eta + 1.0)))\n",
      "/users/k23070952/.local/lib/python3.9/site-packages/pymoo/operators/mutation/pm.py:49: RuntimeWarning: overflow encountered in power\n",
      "  val = 2.0 * (1.0 - rand) + 2.0 * (rand - 0.5) * (np.power(xy, (eta + 1.0)))\n"
     ]
    },
    {
     "name": "stdout",
     "output_type": "stream",
     "text": [
      "Time: 31.822162628173828s\n",
      "SAMPLE :  ParamVector(s = 0.1, organic = trimethylammonium, cation = Pb, anion = F)\n",
      "MEASUREMENT :  3.4595\n"
     ]
    },
    {
     "data": {
      "text/html": [
       "<pre style=\"white-space:pre;overflow-x:auto;line-height:normal;font-family:Menlo,'DejaVu Sans Mono',consolas,'Courier New',monospace\"><span style=\"color: #05a6fb; text-decoration-color: #05a6fb\">────────────────────── Acquisition function optimization ───────────────────────</span>\n",
       "</pre>\n"
      ],
      "text/plain": [
       "\u001b[38;2;5;166;251m────────────────────── Acquisition function optimization ───────────────────────\u001b[0m\n"
      ]
     },
     "metadata": {},
     "output_type": "display_data"
    },
    {
     "data": {
      "text/html": [
       "<pre style=\"white-space:pre;overflow-x:auto;line-height:normal;font-family:Menlo,'DejaVu Sans Mono',consolas,'Courier New',monospace\">ATLAS <span style=\"font-weight: bold\">[</span>INFO<span style=\"font-weight: bold\">]</span> Optimizing acquisition function with pymoo GA for <span style=\"color: #008080; text-decoration-color: #008080; font-weight: bold\">1</span> fixed parameters<span style=\"color: #808000; text-decoration-color: #808000\">...</span>\n",
       "</pre>\n"
      ],
      "text/plain": [
       "ATLAS \u001b[1m[\u001b[0mINFO\u001b[1m]\u001b[0m Optimizing acquisition function with pymoo GA for \u001b[1;36m1\u001b[0m fixed parameters\u001b[33m...\u001b[0m\n"
      ]
     },
     "metadata": {},
     "output_type": "display_data"
    },
    {
     "name": "stdout",
     "output_type": "stream",
     "text": [
      "\n",
      "REC SAMPLE :  ParamVector(s = 1.0, organic = butylammonium, cation = Sn, anion = F)\n",
      "REC MEASUREMENT :  4.8539\n",
      "\n",
      "\n",
      "RUN : 1/10\tITER : 45\tCOST : 9.799999999999999\n",
      "\n"
     ]
    },
    {
     "data": {
      "text/html": [
       "<pre style=\"white-space:pre;overflow-x:auto;line-height:normal;font-family:Menlo,'DejaVu Sans Mono',consolas,'Courier New',monospace\"><span style=\"color: #f4a261; text-decoration-color: #f4a261\">ATLAS </span><span style=\"color: #f4a261; text-decoration-color: #f4a261; font-weight: bold\">[</span><span style=\"color: #f4a261; text-decoration-color: #f4a261\">WARNING</span><span style=\"color: #f4a261; text-decoration-color: #f4a261; font-weight: bold\">]</span><span style=\"color: #f4a261; text-decoration-color: #f4a261\"> Setting ask fidelity level to </span><span style=\"color: #008080; text-decoration-color: #008080; font-weight: bold\">0.1</span>\n",
       "</pre>\n"
      ],
      "text/plain": [
       "\u001b[38;2;244;162;97mATLAS \u001b[0m\u001b[1;38;2;244;162;97m[\u001b[0m\u001b[38;2;244;162;97mWARNING\u001b[0m\u001b[1;38;2;244;162;97m]\u001b[0m\u001b[38;2;244;162;97m Setting ask fidelity level to \u001b[0m\u001b[1;36m0.1\u001b[0m\n"
      ]
     },
     "metadata": {},
     "output_type": "display_data"
    },
    {
     "data": {
      "text/html": [
       "<pre style=\"white-space:pre;overflow-x:auto;line-height:normal;font-family:Menlo,'DejaVu Sans Mono',consolas,'Courier New',monospace\"><span style=\"color: #05a6fb; text-decoration-color: #05a6fb\">───────────────────── Training regression surrogate model ──────────────────────</span>\n",
       "</pre>\n"
      ],
      "text/plain": [
       "\u001b[38;2;5;166;251m───────────────────── Training regression surrogate model ──────────────────────\u001b[0m\n"
      ]
     },
     "metadata": {},
     "output_type": "display_data"
    },
    {
     "name": "stderr",
     "output_type": "stream",
     "text": [
      "/users/k23070952/.local/lib/python3.9/site-packages/botorch/models/utils/assorted.py:174: InputDataWarning: Input data is not contained to the unit cube. Please consider min-max scaling the input data.\n",
      "  warnings.warn(msg, InputDataWarning)\n",
      "/users/k23070952/.local/lib/python3.9/site-packages/botorch/models/utils/assorted.py:202: InputDataWarning: Input data is not standardized (mean = tensor([-6.9641e-16]), std = tensor([1.0116])). Please consider scaling the input to zero mean and unit variance.\n",
      "  warnings.warn(msg, InputDataWarning)\n"
     ]
    },
    {
     "data": {
      "text/html": [
       "<pre style=\"white-space:pre;overflow-x:auto;line-height:normal;font-family:Menlo,'DejaVu Sans Mono',consolas,'Courier New',monospace\">ATLAS <span style=\"font-weight: bold\">[</span>INFO<span style=\"font-weight: bold\">]</span> Regression surrogate GP trained in <span style=\"color: #008080; text-decoration-color: #008080; font-weight: bold\">0.173</span> sec\n",
       "</pre>\n"
      ],
      "text/plain": [
       "ATLAS \u001b[1m[\u001b[0mINFO\u001b[1m]\u001b[0m Regression surrogate GP trained in \u001b[1;36m0.173\u001b[0m sec\n"
      ]
     },
     "metadata": {},
     "output_type": "display_data"
    },
    {
     "data": {
      "text/html": [
       "<pre style=\"white-space:pre;overflow-x:auto;line-height:normal;font-family:Menlo,'DejaVu Sans Mono',consolas,'Courier New',monospace\"><span style=\"color: #05a6fb; text-decoration-color: #05a6fb\">────────────────────── Acquisition function optimization ───────────────────────</span>\n",
       "</pre>\n"
      ],
      "text/plain": [
       "\u001b[38;2;5;166;251m────────────────────── Acquisition function optimization ───────────────────────\u001b[0m\n"
      ]
     },
     "metadata": {},
     "output_type": "display_data"
    },
    {
     "data": {
      "text/html": [
       "<pre style=\"white-space:pre;overflow-x:auto;line-height:normal;font-family:Menlo,'DejaVu Sans Mono',consolas,'Courier New',monospace\">ATLAS <span style=\"font-weight: bold\">[</span>INFO<span style=\"font-weight: bold\">]</span> Optimizing acquisition function with pymoo GA for <span style=\"color: #008080; text-decoration-color: #008080; font-weight: bold\">1</span> fixed parameters<span style=\"color: #808000; text-decoration-color: #808000\">...</span>\n",
       "</pre>\n"
      ],
      "text/plain": [
       "ATLAS \u001b[1m[\u001b[0mINFO\u001b[1m]\u001b[0m Optimizing acquisition function with pymoo GA for \u001b[1;36m1\u001b[0m fixed parameters\u001b[33m...\u001b[0m\n"
      ]
     },
     "metadata": {},
     "output_type": "display_data"
    },
    {
     "name": "stderr",
     "output_type": "stream",
     "text": [
      "/users/k23070952/.local/lib/python3.9/site-packages/botorch/models/gpytorch.py:477: BotorchTensorDimensionWarning: Non-strict enforcement of botorch tensor conventions. The following error would have been raised with strict enforcement: Expected X and Y to have the same number of dimensions (got X with dimension 3 and Y with dimension 4).\n",
      "  self._validate_tensor_args(X=X, Y=Y, Yvar=noise, strict=False)\n",
      "/users/k23070952/.local/lib/python3.9/site-packages/botorch/models/gpytorch.py:239: BotorchTensorDimensionWarning: Non-strict enforcement of botorch tensor conventions. The following error would have been raised with strict enforcement: Expected X and Y to have the same number of dimensions (got X with dimension 3 and Y with dimension 4).\n",
      "  self._validate_tensor_args(X=X, Y=Y, Yvar=Yvar, strict=False)\n",
      "/users/k23070952/.local/lib/python3.9/site-packages/pymoo/operators/repair/rounding.py:18: RuntimeWarning: invalid value encountered in cast\n",
      "  return np.around(X).astype(int)\n",
      "/users/k23070952/.local/lib/python3.9/site-packages/pymoo/operators/mutation/pm.py:44: RuntimeWarning: overflow encountered in power\n",
      "  val = 2.0 * rand + (1.0 - 2.0 * rand) * (np.power(xy, (eta + 1.0)))\n",
      "/users/k23070952/.local/lib/python3.9/site-packages/pymoo/operators/mutation/pm.py:49: RuntimeWarning: overflow encountered in power\n",
      "  val = 2.0 * (1.0 - rand) + 2.0 * (rand - 0.5) * (np.power(xy, (eta + 1.0)))\n"
     ]
    },
    {
     "name": "stdout",
     "output_type": "stream",
     "text": [
      "Time: 31.982697248458862s\n",
      "SAMPLE :  ParamVector(s = 0.1, organic = guanidinium, cation = Ge, anion = Br)\n",
      "MEASUREMENT :  2.091\n"
     ]
    },
    {
     "data": {
      "text/html": [
       "<pre style=\"white-space:pre;overflow-x:auto;line-height:normal;font-family:Menlo,'DejaVu Sans Mono',consolas,'Courier New',monospace\"><span style=\"color: #05a6fb; text-decoration-color: #05a6fb\">────────────────────── Acquisition function optimization ───────────────────────</span>\n",
       "</pre>\n"
      ],
      "text/plain": [
       "\u001b[38;2;5;166;251m────────────────────── Acquisition function optimization ───────────────────────\u001b[0m\n"
      ]
     },
     "metadata": {},
     "output_type": "display_data"
    },
    {
     "data": {
      "text/html": [
       "<pre style=\"white-space:pre;overflow-x:auto;line-height:normal;font-family:Menlo,'DejaVu Sans Mono',consolas,'Courier New',monospace\">ATLAS <span style=\"font-weight: bold\">[</span>INFO<span style=\"font-weight: bold\">]</span> Optimizing acquisition function with pymoo GA for <span style=\"color: #008080; text-decoration-color: #008080; font-weight: bold\">1</span> fixed parameters<span style=\"color: #808000; text-decoration-color: #808000\">...</span>\n",
       "</pre>\n"
      ],
      "text/plain": [
       "ATLAS \u001b[1m[\u001b[0mINFO\u001b[1m]\u001b[0m Optimizing acquisition function with pymoo GA for \u001b[1;36m1\u001b[0m fixed parameters\u001b[33m...\u001b[0m\n"
      ]
     },
     "metadata": {},
     "output_type": "display_data"
    },
    {
     "name": "stdout",
     "output_type": "stream",
     "text": [
      "\n",
      "REC SAMPLE :  ParamVector(s = 1.0, organic = trimethylammonium, cation = Ge, anion = I)\n",
      "REC MEASUREMENT :  2.5369\n",
      "\n",
      "\n",
      "RUN : 1/10\tITER : 46\tCOST : 9.899999999999999\n",
      "\n"
     ]
    },
    {
     "data": {
      "text/html": [
       "<pre style=\"white-space:pre;overflow-x:auto;line-height:normal;font-family:Menlo,'DejaVu Sans Mono',consolas,'Courier New',monospace\"><span style=\"color: #f4a261; text-decoration-color: #f4a261\">ATLAS </span><span style=\"color: #f4a261; text-decoration-color: #f4a261; font-weight: bold\">[</span><span style=\"color: #f4a261; text-decoration-color: #f4a261\">WARNING</span><span style=\"color: #f4a261; text-decoration-color: #f4a261; font-weight: bold\">]</span><span style=\"color: #f4a261; text-decoration-color: #f4a261\"> Setting ask fidelity level to </span><span style=\"color: #008080; text-decoration-color: #008080; font-weight: bold\">0.1</span>\n",
       "</pre>\n"
      ],
      "text/plain": [
       "\u001b[38;2;244;162;97mATLAS \u001b[0m\u001b[1;38;2;244;162;97m[\u001b[0m\u001b[38;2;244;162;97mWARNING\u001b[0m\u001b[1;38;2;244;162;97m]\u001b[0m\u001b[38;2;244;162;97m Setting ask fidelity level to \u001b[0m\u001b[1;36m0.1\u001b[0m\n"
      ]
     },
     "metadata": {},
     "output_type": "display_data"
    },
    {
     "data": {
      "text/html": [
       "<pre style=\"white-space:pre;overflow-x:auto;line-height:normal;font-family:Menlo,'DejaVu Sans Mono',consolas,'Courier New',monospace\"><span style=\"color: #05a6fb; text-decoration-color: #05a6fb\">───────────────────── Training regression surrogate model ──────────────────────</span>\n",
       "</pre>\n"
      ],
      "text/plain": [
       "\u001b[38;2;5;166;251m───────────────────── Training regression surrogate model ──────────────────────\u001b[0m\n"
      ]
     },
     "metadata": {},
     "output_type": "display_data"
    },
    {
     "name": "stderr",
     "output_type": "stream",
     "text": [
      "/users/k23070952/.local/lib/python3.9/site-packages/botorch/models/utils/assorted.py:174: InputDataWarning: Input data is not contained to the unit cube. Please consider min-max scaling the input data.\n",
      "  warnings.warn(msg, InputDataWarning)\n",
      "/users/k23070952/.local/lib/python3.9/site-packages/botorch/models/utils/assorted.py:202: InputDataWarning: Input data is not standardized (mean = tensor([-3.0099e-16]), std = tensor([1.0113])). Please consider scaling the input to zero mean and unit variance.\n",
      "  warnings.warn(msg, InputDataWarning)\n"
     ]
    },
    {
     "data": {
      "text/html": [
       "<pre style=\"white-space:pre;overflow-x:auto;line-height:normal;font-family:Menlo,'DejaVu Sans Mono',consolas,'Courier New',monospace\">ATLAS <span style=\"font-weight: bold\">[</span>INFO<span style=\"font-weight: bold\">]</span> Regression surrogate GP trained in <span style=\"color: #008080; text-decoration-color: #008080; font-weight: bold\">0.107</span> sec\n",
       "</pre>\n"
      ],
      "text/plain": [
       "ATLAS \u001b[1m[\u001b[0mINFO\u001b[1m]\u001b[0m Regression surrogate GP trained in \u001b[1;36m0.107\u001b[0m sec\n"
      ]
     },
     "metadata": {},
     "output_type": "display_data"
    },
    {
     "data": {
      "text/html": [
       "<pre style=\"white-space:pre;overflow-x:auto;line-height:normal;font-family:Menlo,'DejaVu Sans Mono',consolas,'Courier New',monospace\"><span style=\"color: #05a6fb; text-decoration-color: #05a6fb\">────────────────────── Acquisition function optimization ───────────────────────</span>\n",
       "</pre>\n"
      ],
      "text/plain": [
       "\u001b[38;2;5;166;251m────────────────────── Acquisition function optimization ───────────────────────\u001b[0m\n"
      ]
     },
     "metadata": {},
     "output_type": "display_data"
    },
    {
     "data": {
      "text/html": [
       "<pre style=\"white-space:pre;overflow-x:auto;line-height:normal;font-family:Menlo,'DejaVu Sans Mono',consolas,'Courier New',monospace\">ATLAS <span style=\"font-weight: bold\">[</span>INFO<span style=\"font-weight: bold\">]</span> Optimizing acquisition function with pymoo GA for <span style=\"color: #008080; text-decoration-color: #008080; font-weight: bold\">1</span> fixed parameters<span style=\"color: #808000; text-decoration-color: #808000\">...</span>\n",
       "</pre>\n"
      ],
      "text/plain": [
       "ATLAS \u001b[1m[\u001b[0mINFO\u001b[1m]\u001b[0m Optimizing acquisition function with pymoo GA for \u001b[1;36m1\u001b[0m fixed parameters\u001b[33m...\u001b[0m\n"
      ]
     },
     "metadata": {},
     "output_type": "display_data"
    },
    {
     "name": "stderr",
     "output_type": "stream",
     "text": [
      "/users/k23070952/.local/lib/python3.9/site-packages/botorch/models/gpytorch.py:477: BotorchTensorDimensionWarning: Non-strict enforcement of botorch tensor conventions. The following error would have been raised with strict enforcement: Expected X and Y to have the same number of dimensions (got X with dimension 3 and Y with dimension 4).\n",
      "  self._validate_tensor_args(X=X, Y=Y, Yvar=noise, strict=False)\n",
      "/users/k23070952/.local/lib/python3.9/site-packages/botorch/models/gpytorch.py:239: BotorchTensorDimensionWarning: Non-strict enforcement of botorch tensor conventions. The following error would have been raised with strict enforcement: Expected X and Y to have the same number of dimensions (got X with dimension 3 and Y with dimension 4).\n",
      "  self._validate_tensor_args(X=X, Y=Y, Yvar=Yvar, strict=False)\n",
      "/users/k23070952/.local/lib/python3.9/site-packages/pymoo/operators/repair/rounding.py:18: RuntimeWarning: invalid value encountered in cast\n",
      "  return np.around(X).astype(int)\n",
      "/users/k23070952/.local/lib/python3.9/site-packages/pymoo/operators/mutation/pm.py:44: RuntimeWarning: overflow encountered in power\n",
      "  val = 2.0 * rand + (1.0 - 2.0 * rand) * (np.power(xy, (eta + 1.0)))\n",
      "/users/k23070952/.local/lib/python3.9/site-packages/pymoo/operators/mutation/pm.py:49: RuntimeWarning: overflow encountered in power\n",
      "  val = 2.0 * (1.0 - rand) + 2.0 * (rand - 0.5) * (np.power(xy, (eta + 1.0)))\n"
     ]
    },
    {
     "data": {
      "text/html": [
       "<pre style=\"white-space:pre;overflow-x:auto;line-height:normal;font-family:Menlo,'DejaVu Sans Mono',consolas,'Courier New',monospace\"><span style=\"color: #05a6fb; text-decoration-color: #05a6fb\">────────────────────── Acquisition function optimization ───────────────────────</span>\n",
       "</pre>\n"
      ],
      "text/plain": [
       "\u001b[38;2;5;166;251m────────────────────── Acquisition function optimization ───────────────────────\u001b[0m\n"
      ]
     },
     "metadata": {},
     "output_type": "display_data"
    },
    {
     "data": {
      "text/html": [
       "<pre style=\"white-space:pre;overflow-x:auto;line-height:normal;font-family:Menlo,'DejaVu Sans Mono',consolas,'Courier New',monospace\">ATLAS <span style=\"font-weight: bold\">[</span>INFO<span style=\"font-weight: bold\">]</span> Optimizing acquisition function with pymoo GA for <span style=\"color: #008080; text-decoration-color: #008080; font-weight: bold\">1</span> fixed parameters<span style=\"color: #808000; text-decoration-color: #808000\">...</span>\n",
       "</pre>\n"
      ],
      "text/plain": [
       "ATLAS \u001b[1m[\u001b[0mINFO\u001b[1m]\u001b[0m Optimizing acquisition function with pymoo GA for \u001b[1;36m1\u001b[0m fixed parameters\u001b[33m...\u001b[0m\n"
      ]
     },
     "metadata": {},
     "output_type": "display_data"
    },
    {
     "name": "stdout",
     "output_type": "stream",
     "text": [
      "\n",
      "REC SAMPLE :  ParamVector(s = 1.0, organic = hydroxylammonium, cation = Ge, anion = I)\n",
      "REC MEASUREMENT :  2.1098\n",
      "\n",
      "\n",
      "RUN : 2/10\tITER : 221\tCOST : 47.2\n",
      "\n"
     ]
    },
    {
     "data": {
      "text/html": [
       "<pre style=\"white-space:pre;overflow-x:auto;line-height:normal;font-family:Menlo,'DejaVu Sans Mono',consolas,'Courier New',monospace\"><span style=\"color: #f4a261; text-decoration-color: #f4a261\">ATLAS </span><span style=\"color: #f4a261; text-decoration-color: #f4a261; font-weight: bold\">[</span><span style=\"color: #f4a261; text-decoration-color: #f4a261\">WARNING</span><span style=\"color: #f4a261; text-decoration-color: #f4a261; font-weight: bold\">]</span><span style=\"color: #f4a261; text-decoration-color: #f4a261\"> Setting ask fidelity level to </span><span style=\"color: #008080; text-decoration-color: #008080; font-weight: bold\">0.1</span>\n",
       "</pre>\n"
      ],
      "text/plain": [
       "\u001b[38;2;244;162;97mATLAS \u001b[0m\u001b[1;38;2;244;162;97m[\u001b[0m\u001b[38;2;244;162;97mWARNING\u001b[0m\u001b[1;38;2;244;162;97m]\u001b[0m\u001b[38;2;244;162;97m Setting ask fidelity level to \u001b[0m\u001b[1;36m0.1\u001b[0m\n"
      ]
     },
     "metadata": {},
     "output_type": "display_data"
    },
    {
     "data": {
      "text/html": [
       "<pre style=\"white-space:pre;overflow-x:auto;line-height:normal;font-family:Menlo,'DejaVu Sans Mono',consolas,'Courier New',monospace\"><span style=\"color: #05a6fb; text-decoration-color: #05a6fb\">───────────────────── Training regression surrogate model ──────────────────────</span>\n",
       "</pre>\n"
      ],
      "text/plain": [
       "\u001b[38;2;5;166;251m───────────────────── Training regression surrogate model ──────────────────────\u001b[0m\n"
      ]
     },
     "metadata": {},
     "output_type": "display_data"
    },
    {
     "name": "stderr",
     "output_type": "stream",
     "text": [
      "/users/k23070952/.local/lib/python3.9/site-packages/botorch/models/utils/assorted.py:174: InputDataWarning: Input data is not contained to the unit cube. Please consider min-max scaling the input data.\n",
      "  warnings.warn(msg, InputDataWarning)\n"
     ]
    },
    {
     "data": {
      "text/html": [
       "<pre style=\"white-space:pre;overflow-x:auto;line-height:normal;font-family:Menlo,'DejaVu Sans Mono',consolas,'Courier New',monospace\">ATLAS <span style=\"font-weight: bold\">[</span>INFO<span style=\"font-weight: bold\">]</span> Regression surrogate GP trained in <span style=\"color: #008080; text-decoration-color: #008080; font-weight: bold\">0.31</span> sec\n",
       "</pre>\n"
      ],
      "text/plain": [
       "ATLAS \u001b[1m[\u001b[0mINFO\u001b[1m]\u001b[0m Regression surrogate GP trained in \u001b[1;36m0.31\u001b[0m sec\n"
      ]
     },
     "metadata": {},
     "output_type": "display_data"
    },
    {
     "data": {
      "text/html": [
       "<pre style=\"white-space:pre;overflow-x:auto;line-height:normal;font-family:Menlo,'DejaVu Sans Mono',consolas,'Courier New',monospace\"><span style=\"color: #05a6fb; text-decoration-color: #05a6fb\">────────────────────── Acquisition function optimization ───────────────────────</span>\n",
       "</pre>\n"
      ],
      "text/plain": [
       "\u001b[38;2;5;166;251m────────────────────── Acquisition function optimization ───────────────────────\u001b[0m\n"
      ]
     },
     "metadata": {},
     "output_type": "display_data"
    },
    {
     "data": {
      "text/html": [
       "<pre style=\"white-space:pre;overflow-x:auto;line-height:normal;font-family:Menlo,'DejaVu Sans Mono',consolas,'Courier New',monospace\">ATLAS <span style=\"font-weight: bold\">[</span>INFO<span style=\"font-weight: bold\">]</span> Optimizing acquisition function with pymoo GA for <span style=\"color: #008080; text-decoration-color: #008080; font-weight: bold\">1</span> fixed parameters<span style=\"color: #808000; text-decoration-color: #808000\">...</span>\n",
       "</pre>\n"
      ],
      "text/plain": [
       "ATLAS \u001b[1m[\u001b[0mINFO\u001b[1m]\u001b[0m Optimizing acquisition function with pymoo GA for \u001b[1;36m1\u001b[0m fixed parameters\u001b[33m...\u001b[0m\n"
      ]
     },
     "metadata": {},
     "output_type": "display_data"
    },
    {
     "name": "stderr",
     "output_type": "stream",
     "text": [
      "/users/k23070952/.local/lib/python3.9/site-packages/botorch/models/gpytorch.py:477: BotorchTensorDimensionWarning: Non-strict enforcement of botorch tensor conventions. The following error would have been raised with strict enforcement: Expected X and Y to have the same number of dimensions (got X with dimension 3 and Y with dimension 4).\n",
      "  self._validate_tensor_args(X=X, Y=Y, Yvar=noise, strict=False)\n",
      "/users/k23070952/.local/lib/python3.9/site-packages/botorch/models/gpytorch.py:239: BotorchTensorDimensionWarning: Non-strict enforcement of botorch tensor conventions. The following error would have been raised with strict enforcement: Expected X and Y to have the same number of dimensions (got X with dimension 3 and Y with dimension 4).\n",
      "  self._validate_tensor_args(X=X, Y=Y, Yvar=Yvar, strict=False)\n",
      "/users/k23070952/.local/lib/python3.9/site-packages/pymoo/operators/repair/rounding.py:18: RuntimeWarning: invalid value encountered in cast\n",
      "  return np.around(X).astype(int)\n",
      "/users/k23070952/.local/lib/python3.9/site-packages/pymoo/operators/mutation/pm.py:44: RuntimeWarning: overflow encountered in power\n",
      "  val = 2.0 * rand + (1.0 - 2.0 * rand) * (np.power(xy, (eta + 1.0)))\n",
      "/users/k23070952/.local/lib/python3.9/site-packages/pymoo/operators/mutation/pm.py:49: RuntimeWarning: overflow encountered in power\n",
      "  val = 2.0 * (1.0 - rand) + 2.0 * (rand - 0.5) * (np.power(xy, (eta + 1.0)))\n"
     ]
    },
    {
     "name": "stdout",
     "output_type": "stream",
     "text": [
      "Time: 85.91981935501099s\n"
     ]
    },
    {
     "data": {
      "text/html": [
       "<pre style=\"white-space:pre;overflow-x:auto;line-height:normal;font-family:Menlo,'DejaVu Sans Mono',consolas,'Courier New',monospace\"><span style=\"color: #05a6fb; text-decoration-color: #05a6fb\">────────────────────── Acquisition function optimization ───────────────────────</span>\n",
       "</pre>\n"
      ],
      "text/plain": [
       "\u001b[38;2;5;166;251m────────────────────── Acquisition function optimization ───────────────────────\u001b[0m\n"
      ]
     },
     "metadata": {},
     "output_type": "display_data"
    },
    {
     "data": {
      "text/html": [
       "<pre style=\"white-space:pre;overflow-x:auto;line-height:normal;font-family:Menlo,'DejaVu Sans Mono',consolas,'Courier New',monospace\">ATLAS <span style=\"font-weight: bold\">[</span>INFO<span style=\"font-weight: bold\">]</span> Optimizing acquisition function with pymoo GA for <span style=\"color: #008080; text-decoration-color: #008080; font-weight: bold\">1</span> fixed parameters<span style=\"color: #808000; text-decoration-color: #808000\">...</span>\n",
       "</pre>\n"
      ],
      "text/plain": [
       "ATLAS \u001b[1m[\u001b[0mINFO\u001b[1m]\u001b[0m Optimizing acquisition function with pymoo GA for \u001b[1;36m1\u001b[0m fixed parameters\u001b[33m...\u001b[0m\n"
      ]
     },
     "metadata": {},
     "output_type": "display_data"
    },
    {
     "name": "stdout",
     "output_type": "stream",
     "text": [
      "\n",
      "REC SAMPLE :  ParamVector(s = 1.0, organic = guanidinium, cation = Sn, anion = Cl)\n",
      "REC MEASUREMENT :  3.3492\n",
      "\n",
      "\n",
      "RUN : 2/10\tITER : 221\tCOST : 47.2\n",
      "\n"
     ]
    },
    {
     "data": {
      "text/html": [
       "<pre style=\"white-space:pre;overflow-x:auto;line-height:normal;font-family:Menlo,'DejaVu Sans Mono',consolas,'Courier New',monospace\"><span style=\"color: #f4a261; text-decoration-color: #f4a261\">ATLAS </span><span style=\"color: #f4a261; text-decoration-color: #f4a261; font-weight: bold\">[</span><span style=\"color: #f4a261; text-decoration-color: #f4a261\">WARNING</span><span style=\"color: #f4a261; text-decoration-color: #f4a261; font-weight: bold\">]</span><span style=\"color: #f4a261; text-decoration-color: #f4a261\"> Setting ask fidelity level to </span><span style=\"color: #008080; text-decoration-color: #008080; font-weight: bold\">0.1</span>\n",
       "</pre>\n"
      ],
      "text/plain": [
       "\u001b[38;2;244;162;97mATLAS \u001b[0m\u001b[1;38;2;244;162;97m[\u001b[0m\u001b[38;2;244;162;97mWARNING\u001b[0m\u001b[1;38;2;244;162;97m]\u001b[0m\u001b[38;2;244;162;97m Setting ask fidelity level to \u001b[0m\u001b[1;36m0.1\u001b[0m\n"
      ]
     },
     "metadata": {},
     "output_type": "display_data"
    },
    {
     "data": {
      "text/html": [
       "<pre style=\"white-space:pre;overflow-x:auto;line-height:normal;font-family:Menlo,'DejaVu Sans Mono',consolas,'Courier New',monospace\"><span style=\"color: #05a6fb; text-decoration-color: #05a6fb\">───────────────────── Training regression surrogate model ──────────────────────</span>\n",
       "</pre>\n"
      ],
      "text/plain": [
       "\u001b[38;2;5;166;251m───────────────────── Training regression surrogate model ──────────────────────\u001b[0m\n"
      ]
     },
     "metadata": {},
     "output_type": "display_data"
    },
    {
     "name": "stderr",
     "output_type": "stream",
     "text": [
      "/users/k23070952/.local/lib/python3.9/site-packages/botorch/models/utils/assorted.py:174: InputDataWarning: Input data is not contained to the unit cube. Please consider min-max scaling the input data.\n",
      "  warnings.warn(msg, InputDataWarning)\n"
     ]
    },
    {
     "data": {
      "text/html": [
       "<pre style=\"white-space:pre;overflow-x:auto;line-height:normal;font-family:Menlo,'DejaVu Sans Mono',consolas,'Courier New',monospace\">ATLAS <span style=\"font-weight: bold\">[</span>INFO<span style=\"font-weight: bold\">]</span> Regression surrogate GP trained in <span style=\"color: #008080; text-decoration-color: #008080; font-weight: bold\">0.419</span> sec\n",
       "</pre>\n"
      ],
      "text/plain": [
       "ATLAS \u001b[1m[\u001b[0mINFO\u001b[1m]\u001b[0m Regression surrogate GP trained in \u001b[1;36m0.419\u001b[0m sec\n"
      ]
     },
     "metadata": {},
     "output_type": "display_data"
    },
    {
     "data": {
      "text/html": [
       "<pre style=\"white-space:pre;overflow-x:auto;line-height:normal;font-family:Menlo,'DejaVu Sans Mono',consolas,'Courier New',monospace\"><span style=\"color: #05a6fb; text-decoration-color: #05a6fb\">────────────────────── Acquisition function optimization ───────────────────────</span>\n",
       "</pre>\n"
      ],
      "text/plain": [
       "\u001b[38;2;5;166;251m────────────────────── Acquisition function optimization ───────────────────────\u001b[0m\n"
      ]
     },
     "metadata": {},
     "output_type": "display_data"
    },
    {
     "data": {
      "text/html": [
       "<pre style=\"white-space:pre;overflow-x:auto;line-height:normal;font-family:Menlo,'DejaVu Sans Mono',consolas,'Courier New',monospace\">ATLAS <span style=\"font-weight: bold\">[</span>INFO<span style=\"font-weight: bold\">]</span> Optimizing acquisition function with pymoo GA for <span style=\"color: #008080; text-decoration-color: #008080; font-weight: bold\">1</span> fixed parameters<span style=\"color: #808000; text-decoration-color: #808000\">...</span>\n",
       "</pre>\n"
      ],
      "text/plain": [
       "ATLAS \u001b[1m[\u001b[0mINFO\u001b[1m]\u001b[0m Optimizing acquisition function with pymoo GA for \u001b[1;36m1\u001b[0m fixed parameters\u001b[33m...\u001b[0m\n"
      ]
     },
     "metadata": {},
     "output_type": "display_data"
    },
    {
     "name": "stderr",
     "output_type": "stream",
     "text": [
      "/users/k23070952/.local/lib/python3.9/site-packages/botorch/models/gpytorch.py:477: BotorchTensorDimensionWarning: Non-strict enforcement of botorch tensor conventions. The following error would have been raised with strict enforcement: Expected X and Y to have the same number of dimensions (got X with dimension 3 and Y with dimension 4).\n",
      "  self._validate_tensor_args(X=X, Y=Y, Yvar=noise, strict=False)\n",
      "/users/k23070952/.local/lib/python3.9/site-packages/botorch/models/gpytorch.py:239: BotorchTensorDimensionWarning: Non-strict enforcement of botorch tensor conventions. The following error would have been raised with strict enforcement: Expected X and Y to have the same number of dimensions (got X with dimension 3 and Y with dimension 4).\n",
      "  self._validate_tensor_args(X=X, Y=Y, Yvar=Yvar, strict=False)\n",
      "/users/k23070952/.local/lib/python3.9/site-packages/pymoo/operators/repair/rounding.py:18: RuntimeWarning: invalid value encountered in cast\n",
      "  return np.around(X).astype(int)\n",
      "/users/k23070952/.local/lib/python3.9/site-packages/pymoo/operators/mutation/pm.py:44: RuntimeWarning: overflow encountered in power\n",
      "  val = 2.0 * rand + (1.0 - 2.0 * rand) * (np.power(xy, (eta + 1.0)))\n",
      "/users/k23070952/.local/lib/python3.9/site-packages/pymoo/operators/mutation/pm.py:49: RuntimeWarning: overflow encountered in power\n",
      "  val = 2.0 * (1.0 - rand) + 2.0 * (rand - 0.5) * (np.power(xy, (eta + 1.0)))\n"
     ]
    },
    {
     "name": "stdout",
     "output_type": "stream",
     "text": [
      "Time: 87.53698825836182s\n"
     ]
    },
    {
     "data": {
      "text/html": [
       "<pre style=\"white-space:pre;overflow-x:auto;line-height:normal;font-family:Menlo,'DejaVu Sans Mono',consolas,'Courier New',monospace\"><span style=\"color: #05a6fb; text-decoration-color: #05a6fb\">────────────────────── Acquisition function optimization ───────────────────────</span>\n",
       "</pre>\n"
      ],
      "text/plain": [
       "\u001b[38;2;5;166;251m────────────────────── Acquisition function optimization ───────────────────────\u001b[0m\n"
      ]
     },
     "metadata": {},
     "output_type": "display_data"
    },
    {
     "data": {
      "text/html": [
       "<pre style=\"white-space:pre;overflow-x:auto;line-height:normal;font-family:Menlo,'DejaVu Sans Mono',consolas,'Courier New',monospace\">ATLAS <span style=\"font-weight: bold\">[</span>INFO<span style=\"font-weight: bold\">]</span> Optimizing acquisition function with pymoo GA for <span style=\"color: #008080; text-decoration-color: #008080; font-weight: bold\">1</span> fixed parameters<span style=\"color: #808000; text-decoration-color: #808000\">...</span>\n",
       "</pre>\n"
      ],
      "text/plain": [
       "ATLAS \u001b[1m[\u001b[0mINFO\u001b[1m]\u001b[0m Optimizing acquisition function with pymoo GA for \u001b[1;36m1\u001b[0m fixed parameters\u001b[33m...\u001b[0m\n"
      ]
     },
     "metadata": {},
     "output_type": "display_data"
    },
    {
     "name": "stdout",
     "output_type": "stream",
     "text": [
      "\n",
      "REC SAMPLE :  ParamVector(s = 1.0, organic = formamidinium, cation = Pb, anion = Cl)\n",
      "REC MEASUREMENT :  3.2914\n",
      "\n",
      "\n",
      "RUN : 2/10\tITER : 221\tCOST : 47.2\n",
      "\n"
     ]
    },
    {
     "data": {
      "text/html": [
       "<pre style=\"white-space:pre;overflow-x:auto;line-height:normal;font-family:Menlo,'DejaVu Sans Mono',consolas,'Courier New',monospace\"><span style=\"color: #f4a261; text-decoration-color: #f4a261\">ATLAS </span><span style=\"color: #f4a261; text-decoration-color: #f4a261; font-weight: bold\">[</span><span style=\"color: #f4a261; text-decoration-color: #f4a261\">WARNING</span><span style=\"color: #f4a261; text-decoration-color: #f4a261; font-weight: bold\">]</span><span style=\"color: #f4a261; text-decoration-color: #f4a261\"> Setting ask fidelity level to </span><span style=\"color: #008080; text-decoration-color: #008080; font-weight: bold\">0.1</span>\n",
       "</pre>\n"
      ],
      "text/plain": [
       "\u001b[38;2;244;162;97mATLAS \u001b[0m\u001b[1;38;2;244;162;97m[\u001b[0m\u001b[38;2;244;162;97mWARNING\u001b[0m\u001b[1;38;2;244;162;97m]\u001b[0m\u001b[38;2;244;162;97m Setting ask fidelity level to \u001b[0m\u001b[1;36m0.1\u001b[0m\n"
      ]
     },
     "metadata": {},
     "output_type": "display_data"
    },
    {
     "data": {
      "text/html": [
       "<pre style=\"white-space:pre;overflow-x:auto;line-height:normal;font-family:Menlo,'DejaVu Sans Mono',consolas,'Courier New',monospace\"><span style=\"color: #05a6fb; text-decoration-color: #05a6fb\">───────────────────── Training regression surrogate model ──────────────────────</span>\n",
       "</pre>\n"
      ],
      "text/plain": [
       "\u001b[38;2;5;166;251m───────────────────── Training regression surrogate model ──────────────────────\u001b[0m\n"
      ]
     },
     "metadata": {},
     "output_type": "display_data"
    },
    {
     "name": "stderr",
     "output_type": "stream",
     "text": [
      "/users/k23070952/.local/lib/python3.9/site-packages/botorch/models/utils/assorted.py:174: InputDataWarning: Input data is not contained to the unit cube. Please consider min-max scaling the input data.\n",
      "  warnings.warn(msg, InputDataWarning)\n"
     ]
    },
    {
     "data": {
      "text/html": [
       "<pre style=\"white-space:pre;overflow-x:auto;line-height:normal;font-family:Menlo,'DejaVu Sans Mono',consolas,'Courier New',monospace\">ATLAS <span style=\"font-weight: bold\">[</span>INFO<span style=\"font-weight: bold\">]</span> Regression surrogate GP trained in <span style=\"color: #008080; text-decoration-color: #008080; font-weight: bold\">0.317</span> sec\n",
       "</pre>\n"
      ],
      "text/plain": [
       "ATLAS \u001b[1m[\u001b[0mINFO\u001b[1m]\u001b[0m Regression surrogate GP trained in \u001b[1;36m0.317\u001b[0m sec\n"
      ]
     },
     "metadata": {},
     "output_type": "display_data"
    },
    {
     "data": {
      "text/html": [
       "<pre style=\"white-space:pre;overflow-x:auto;line-height:normal;font-family:Menlo,'DejaVu Sans Mono',consolas,'Courier New',monospace\"><span style=\"color: #05a6fb; text-decoration-color: #05a6fb\">────────────────────── Acquisition function optimization ───────────────────────</span>\n",
       "</pre>\n"
      ],
      "text/plain": [
       "\u001b[38;2;5;166;251m────────────────────── Acquisition function optimization ───────────────────────\u001b[0m\n"
      ]
     },
     "metadata": {},
     "output_type": "display_data"
    },
    {
     "data": {
      "text/html": [
       "<pre style=\"white-space:pre;overflow-x:auto;line-height:normal;font-family:Menlo,'DejaVu Sans Mono',consolas,'Courier New',monospace\">ATLAS <span style=\"font-weight: bold\">[</span>INFO<span style=\"font-weight: bold\">]</span> Optimizing acquisition function with pymoo GA for <span style=\"color: #008080; text-decoration-color: #008080; font-weight: bold\">1</span> fixed parameters<span style=\"color: #808000; text-decoration-color: #808000\">...</span>\n",
       "</pre>\n"
      ],
      "text/plain": [
       "ATLAS \u001b[1m[\u001b[0mINFO\u001b[1m]\u001b[0m Optimizing acquisition function with pymoo GA for \u001b[1;36m1\u001b[0m fixed parameters\u001b[33m...\u001b[0m\n"
      ]
     },
     "metadata": {},
     "output_type": "display_data"
    },
    {
     "name": "stderr",
     "output_type": "stream",
     "text": [
      "/users/k23070952/.local/lib/python3.9/site-packages/botorch/models/gpytorch.py:477: BotorchTensorDimensionWarning: Non-strict enforcement of botorch tensor conventions. The following error would have been raised with strict enforcement: Expected X and Y to have the same number of dimensions (got X with dimension 3 and Y with dimension 4).\n",
      "  self._validate_tensor_args(X=X, Y=Y, Yvar=noise, strict=False)\n",
      "/users/k23070952/.local/lib/python3.9/site-packages/botorch/models/gpytorch.py:239: BotorchTensorDimensionWarning: Non-strict enforcement of botorch tensor conventions. The following error would have been raised with strict enforcement: Expected X and Y to have the same number of dimensions (got X with dimension 3 and Y with dimension 4).\n",
      "  self._validate_tensor_args(X=X, Y=Y, Yvar=Yvar, strict=False)\n",
      "/users/k23070952/.local/lib/python3.9/site-packages/pymoo/operators/repair/rounding.py:18: RuntimeWarning: invalid value encountered in cast\n",
      "  return np.around(X).astype(int)\n",
      "/users/k23070952/.local/lib/python3.9/site-packages/pymoo/operators/mutation/pm.py:44: RuntimeWarning: overflow encountered in power\n",
      "  val = 2.0 * rand + (1.0 - 2.0 * rand) * (np.power(xy, (eta + 1.0)))\n",
      "/users/k23070952/.local/lib/python3.9/site-packages/pymoo/operators/mutation/pm.py:49: RuntimeWarning: overflow encountered in power\n",
      "  val = 2.0 * (1.0 - rand) + 2.0 * (rand - 0.5) * (np.power(xy, (eta + 1.0)))\n"
     ]
    },
    {
     "ename": "KeyboardInterrupt",
     "evalue": "",
     "output_type": "error",
     "traceback": [
      "\u001b[0;31m---------------------------------------------------------------------------\u001b[0m",
      "\u001b[0;31mKeyboardInterrupt\u001b[0m                         Traceback (most recent call last)",
      "\u001b[0;32m/tmp/ipykernel_94871/3370943017.py\u001b[0m in \u001b[0;36m<module>\u001b[0;34m\u001b[0m\n\u001b[1;32m     32\u001b[0m                         \u001b[0mplanner\u001b[0m\u001b[0;34m.\u001b[0m\u001b[0mset_ask_fidelity\u001b[0m\u001b[0;34m(\u001b[0m\u001b[0;36m0.1\u001b[0m\u001b[0;34m)\u001b[0m\u001b[0;34m\u001b[0m\u001b[0;34m\u001b[0m\u001b[0m\n\u001b[1;32m     33\u001b[0m \u001b[0;34m\u001b[0m\u001b[0m\n\u001b[0;32m---> 34\u001b[0;31m                 \u001b[0msamples\u001b[0m \u001b[0;34m=\u001b[0m \u001b[0mplanner\u001b[0m\u001b[0;34m.\u001b[0m\u001b[0mrecommend\u001b[0m\u001b[0;34m(\u001b[0m\u001b[0mcampaign\u001b[0m\u001b[0;34m.\u001b[0m\u001b[0mobservations\u001b[0m\u001b[0;34m)\u001b[0m\u001b[0;34m\u001b[0m\u001b[0;34m\u001b[0m\u001b[0m\n\u001b[0m\u001b[1;32m     35\u001b[0m                 \u001b[0mend_time\u001b[0m \u001b[0;34m=\u001b[0m \u001b[0mtime\u001b[0m\u001b[0;34m.\u001b[0m\u001b[0mtime\u001b[0m\u001b[0;34m(\u001b[0m\u001b[0;34m)\u001b[0m  \u001b[0;31m# 시작 시간 저장\u001b[0m\u001b[0;34m\u001b[0m\u001b[0;34m\u001b[0m\u001b[0m\n\u001b[1;32m     36\u001b[0m                 \u001b[0mtime_taken\u001b[0m \u001b[0;34m=\u001b[0m \u001b[0mend_time\u001b[0m\u001b[0;34m-\u001b[0m\u001b[0mstart_time\u001b[0m\u001b[0;34m\u001b[0m\u001b[0;34m\u001b[0m\u001b[0m\n",
      "\u001b[0;32m/cephfs/volumes/hpc_home/k23070952/a774a32b-b8f8-42f8-b661-406a5dd49fd8/CODE/0. SSH files/atlas/olympus/src/olympus/planners/abstract_planner.py\u001b[0m in \u001b[0;36mrecommend\u001b[0;34m(self, observations, return_as)\u001b[0m\n\u001b[1;32m    144\u001b[0m         \"\"\"\n\u001b[1;32m    145\u001b[0m         \u001b[0mself\u001b[0m\u001b[0;34m.\u001b[0m\u001b[0mtell\u001b[0m\u001b[0;34m(\u001b[0m\u001b[0mobservations\u001b[0m\u001b[0;34m)\u001b[0m\u001b[0;34m\u001b[0m\u001b[0;34m\u001b[0m\u001b[0m\n\u001b[0;32m--> 146\u001b[0;31m         \u001b[0;32mreturn\u001b[0m \u001b[0mself\u001b[0m\u001b[0;34m.\u001b[0m\u001b[0mask\u001b[0m\u001b[0;34m(\u001b[0m\u001b[0mreturn_as\u001b[0m\u001b[0;34m=\u001b[0m\u001b[0mreturn_as\u001b[0m\u001b[0;34m)\u001b[0m\u001b[0;34m\u001b[0m\u001b[0;34m\u001b[0m\u001b[0m\n\u001b[0m\u001b[1;32m    147\u001b[0m \u001b[0;34m\u001b[0m\u001b[0m\n\u001b[1;32m    148\u001b[0m     \u001b[0;32mdef\u001b[0m \u001b[0moptimize\u001b[0m\u001b[0;34m(\u001b[0m\u001b[0mself\u001b[0m\u001b[0;34m,\u001b[0m \u001b[0memulator\u001b[0m\u001b[0;34m,\u001b[0m \u001b[0mnum_iter\u001b[0m\u001b[0;34m=\u001b[0m\u001b[0;36m1\u001b[0m\u001b[0;34m,\u001b[0m \u001b[0mscalarizer\u001b[0m\u001b[0;34m=\u001b[0m\u001b[0;32mNone\u001b[0m\u001b[0;34m,\u001b[0m \u001b[0mverbose\u001b[0m\u001b[0;34m=\u001b[0m\u001b[0;32mFalse\u001b[0m\u001b[0;34m)\u001b[0m\u001b[0;34m:\u001b[0m\u001b[0;34m\u001b[0m\u001b[0;34m\u001b[0m\u001b[0m\n",
      "\u001b[0;32m/cephfs/volumes/hpc_home/k23070952/a774a32b-b8f8-42f8-b661-406a5dd49fd8/CODE/0. SSH files/atlas/olympus/src/olympus/planners/abstract_planner.py\u001b[0m in \u001b[0;36mask\u001b[0;34m(self, return_as)\u001b[0m\n\u001b[1;32m     98\u001b[0m         \u001b[0;31m# TODO: this will not work with batched optimization\u001b[0m\u001b[0;34m\u001b[0m\u001b[0;34m\u001b[0m\u001b[0m\n\u001b[1;32m     99\u001b[0m         \u001b[0mself\u001b[0m\u001b[0;34m.\u001b[0m\u001b[0mnum_generated\u001b[0m \u001b[0;34m+=\u001b[0m\u001b[0;36m1\u001b[0m\u001b[0;34m\u001b[0m\u001b[0;34m\u001b[0m\u001b[0m\n\u001b[0;32m--> 100\u001b[0;31m         \u001b[0mparam_vector\u001b[0m \u001b[0;34m=\u001b[0m \u001b[0mself\u001b[0m\u001b[0;34m.\u001b[0m\u001b[0m_ask\u001b[0m\u001b[0;34m(\u001b[0m\u001b[0;34m)\u001b[0m\u001b[0;34m\u001b[0m\u001b[0;34m\u001b[0m\u001b[0m\n\u001b[0m\u001b[1;32m    101\u001b[0m \u001b[0;34m\u001b[0m\u001b[0m\n\u001b[1;32m    102\u001b[0m         \u001b[0;31m# check that the parameters suggested are within the bounds of our param_space\u001b[0m\u001b[0;34m\u001b[0m\u001b[0;34m\u001b[0m\u001b[0m\n",
      "\u001b[0;32m/cephfs/volumes/hpc_home/k23070952/a774a32b-b8f8-42f8-b661-406a5dd49fd8/CODE/0. SSH files/atlas/src/atlas/planners/multi_fidelity/planner.py\u001b[0m in \u001b[0;36m_ask\u001b[0;34m(self)\u001b[0m\n\u001b[1;32m    440\u001b[0m                 )\n\u001b[1;32m    441\u001b[0m \u001b[0;34m\u001b[0m\u001b[0m\n\u001b[0;32m--> 442\u001b[0;31m                 \u001b[0mreturn_params\u001b[0m \u001b[0;34m=\u001b[0m \u001b[0macquisition_optimizer\u001b[0m\u001b[0;34m.\u001b[0m\u001b[0moptimize\u001b[0m\u001b[0;34m(\u001b[0m\u001b[0;34m)\u001b[0m\u001b[0;34m\u001b[0m\u001b[0;34m\u001b[0m\u001b[0m\n\u001b[0m\u001b[1;32m    443\u001b[0m \u001b[0;34m\u001b[0m\u001b[0m\n\u001b[1;32m    444\u001b[0m             \u001b[0;32melse\u001b[0m\u001b[0;34m:\u001b[0m\u001b[0;34m\u001b[0m\u001b[0;34m\u001b[0m\u001b[0m\n",
      "\u001b[0;32m/cephfs/volumes/hpc_home/k23070952/a774a32b-b8f8-42f8-b661-406a5dd49fd8/CODE/0. SSH files/atlas/src/atlas/acquisition_optimizers/base_optimizer.py\u001b[0m in \u001b[0;36moptimize\u001b[0;34m(self)\u001b[0m\n\u001b[1;32m     56\u001b[0m         \u001b[0mstart_time\u001b[0m \u001b[0;34m=\u001b[0m \u001b[0mtime\u001b[0m\u001b[0;34m.\u001b[0m\u001b[0mtime\u001b[0m\u001b[0;34m(\u001b[0m\u001b[0;34m)\u001b[0m\u001b[0;34m\u001b[0m\u001b[0;34m\u001b[0m\u001b[0m\n\u001b[1;32m     57\u001b[0m         \u001b[0;31m# returns list of parameter vectors with recommendations\u001b[0m\u001b[0;34m\u001b[0m\u001b[0;34m\u001b[0m\u001b[0m\n\u001b[0;32m---> 58\u001b[0;31m         \u001b[0mresults\u001b[0m \u001b[0;34m=\u001b[0m \u001b[0mself\u001b[0m\u001b[0;34m.\u001b[0m\u001b[0m_optimize\u001b[0m\u001b[0;34m(\u001b[0m\u001b[0;34m)\u001b[0m\u001b[0;34m\u001b[0m\u001b[0;34m\u001b[0m\u001b[0m\n\u001b[0m\u001b[1;32m     59\u001b[0m         \u001b[0mself\u001b[0m\u001b[0;34m.\u001b[0m\u001b[0mtimings_dict\u001b[0m\u001b[0;34m[\u001b[0m\u001b[0;34m\"acquisition_opt\"\u001b[0m\u001b[0;34m]\u001b[0m \u001b[0;34m=\u001b[0m \u001b[0mtime\u001b[0m\u001b[0;34m.\u001b[0m\u001b[0mtime\u001b[0m\u001b[0;34m(\u001b[0m\u001b[0;34m)\u001b[0m \u001b[0;34m-\u001b[0m \u001b[0mstart_time\u001b[0m\u001b[0;34m\u001b[0m\u001b[0;34m\u001b[0m\u001b[0m\n\u001b[1;32m     60\u001b[0m \u001b[0;34m\u001b[0m\u001b[0m\n",
      "\u001b[0;32m/cephfs/volumes/hpc_home/k23070952/a774a32b-b8f8-42f8-b661-406a5dd49fd8/CODE/0. SSH files/atlas/src/atlas/acquisition_optimizers/pymoo_optimizer.py\u001b[0m in \u001b[0;36m_optimize\u001b[0;34m(self)\u001b[0m\n\u001b[1;32m    450\u001b[0m                 )\n\u001b[1;32m    451\u001b[0m \u001b[0;34m\u001b[0m\u001b[0m\n\u001b[0;32m--> 452\u001b[0;31m                 res = minimize(\n\u001b[0m\u001b[1;32m    453\u001b[0m                     \u001b[0mself\u001b[0m\u001b[0;34m.\u001b[0m\u001b[0mpymoo_problem\u001b[0m\u001b[0;34m,\u001b[0m\u001b[0;34m\u001b[0m\u001b[0;34m\u001b[0m\u001b[0m\n\u001b[1;32m    454\u001b[0m                     \u001b[0mself\u001b[0m\u001b[0;34m.\u001b[0m\u001b[0malgorithm\u001b[0m\u001b[0;34m,\u001b[0m\u001b[0;34m\u001b[0m\u001b[0;34m\u001b[0m\u001b[0m\n",
      "\u001b[0;32m~/.local/lib/python3.9/site-packages/pymoo/optimize.py\u001b[0m in \u001b[0;36mminimize\u001b[0;34m(problem, algorithm, termination, copy_algorithm, copy_termination, **kwargs)\u001b[0m\n\u001b[1;32m     65\u001b[0m \u001b[0;34m\u001b[0m\u001b[0m\n\u001b[1;32m     66\u001b[0m     \u001b[0;31m# actually execute the algorithm\u001b[0m\u001b[0;34m\u001b[0m\u001b[0;34m\u001b[0m\u001b[0m\n\u001b[0;32m---> 67\u001b[0;31m     \u001b[0mres\u001b[0m \u001b[0;34m=\u001b[0m \u001b[0malgorithm\u001b[0m\u001b[0;34m.\u001b[0m\u001b[0mrun\u001b[0m\u001b[0;34m(\u001b[0m\u001b[0;34m)\u001b[0m\u001b[0;34m\u001b[0m\u001b[0;34m\u001b[0m\u001b[0m\n\u001b[0m\u001b[1;32m     68\u001b[0m \u001b[0;34m\u001b[0m\u001b[0m\n\u001b[1;32m     69\u001b[0m     \u001b[0;31m# store the deep copied algorithm in the result object\u001b[0m\u001b[0;34m\u001b[0m\u001b[0;34m\u001b[0m\u001b[0m\n",
      "\u001b[0;32m~/.local/lib/python3.9/site-packages/pymoo/core/algorithm.py\u001b[0m in \u001b[0;36mrun\u001b[0;34m(self)\u001b[0m\n\u001b[1;32m    136\u001b[0m     \u001b[0;32mdef\u001b[0m \u001b[0mrun\u001b[0m\u001b[0;34m(\u001b[0m\u001b[0mself\u001b[0m\u001b[0;34m)\u001b[0m\u001b[0;34m:\u001b[0m\u001b[0;34m\u001b[0m\u001b[0;34m\u001b[0m\u001b[0m\n\u001b[1;32m    137\u001b[0m         \u001b[0;32mwhile\u001b[0m \u001b[0mself\u001b[0m\u001b[0;34m.\u001b[0m\u001b[0mhas_next\u001b[0m\u001b[0;34m(\u001b[0m\u001b[0;34m)\u001b[0m\u001b[0;34m:\u001b[0m\u001b[0;34m\u001b[0m\u001b[0;34m\u001b[0m\u001b[0m\n\u001b[0;32m--> 138\u001b[0;31m             \u001b[0mself\u001b[0m\u001b[0;34m.\u001b[0m\u001b[0mnext\u001b[0m\u001b[0;34m(\u001b[0m\u001b[0;34m)\u001b[0m\u001b[0;34m\u001b[0m\u001b[0;34m\u001b[0m\u001b[0m\n\u001b[0m\u001b[1;32m    139\u001b[0m         \u001b[0;32mreturn\u001b[0m \u001b[0mself\u001b[0m\u001b[0;34m.\u001b[0m\u001b[0mresult\u001b[0m\u001b[0;34m(\u001b[0m\u001b[0;34m)\u001b[0m\u001b[0;34m\u001b[0m\u001b[0;34m\u001b[0m\u001b[0m\n\u001b[1;32m    140\u001b[0m \u001b[0;34m\u001b[0m\u001b[0m\n",
      "\u001b[0;32m~/.local/lib/python3.9/site-packages/pymoo/core/algorithm.py\u001b[0m in \u001b[0;36mnext\u001b[0;34m(self)\u001b[0m\n\u001b[1;32m    156\u001b[0m         \u001b[0;31m# call the advance with them after evaluation\u001b[0m\u001b[0;34m\u001b[0m\u001b[0;34m\u001b[0m\u001b[0m\n\u001b[1;32m    157\u001b[0m         \u001b[0;32mif\u001b[0m \u001b[0minfills\u001b[0m \u001b[0;32mis\u001b[0m \u001b[0;32mnot\u001b[0m \u001b[0;32mNone\u001b[0m\u001b[0;34m:\u001b[0m\u001b[0;34m\u001b[0m\u001b[0;34m\u001b[0m\u001b[0m\n\u001b[0;32m--> 158\u001b[0;31m             \u001b[0mself\u001b[0m\u001b[0;34m.\u001b[0m\u001b[0mevaluator\u001b[0m\u001b[0;34m.\u001b[0m\u001b[0meval\u001b[0m\u001b[0;34m(\u001b[0m\u001b[0mself\u001b[0m\u001b[0;34m.\u001b[0m\u001b[0mproblem\u001b[0m\u001b[0;34m,\u001b[0m \u001b[0minfills\u001b[0m\u001b[0;34m,\u001b[0m \u001b[0malgorithm\u001b[0m\u001b[0;34m=\u001b[0m\u001b[0mself\u001b[0m\u001b[0;34m)\u001b[0m\u001b[0;34m\u001b[0m\u001b[0;34m\u001b[0m\u001b[0m\n\u001b[0m\u001b[1;32m    159\u001b[0m             \u001b[0mself\u001b[0m\u001b[0;34m.\u001b[0m\u001b[0madvance\u001b[0m\u001b[0;34m(\u001b[0m\u001b[0minfills\u001b[0m\u001b[0;34m=\u001b[0m\u001b[0minfills\u001b[0m\u001b[0;34m)\u001b[0m\u001b[0;34m\u001b[0m\u001b[0;34m\u001b[0m\u001b[0m\n\u001b[1;32m    160\u001b[0m \u001b[0;34m\u001b[0m\u001b[0m\n",
      "\u001b[0;32m~/.local/lib/python3.9/site-packages/pymoo/core/evaluator.py\u001b[0m in \u001b[0;36meval\u001b[0;34m(self, problem, pop, skip_already_evaluated, evaluate_values_of, count_evals, **kwargs)\u001b[0m\n\u001b[1;32m     67\u001b[0m \u001b[0;34m\u001b[0m\u001b[0m\n\u001b[1;32m     68\u001b[0m             \u001b[0;31m# do the actual evaluation - call the sub-function to set the corresponding values to the population\u001b[0m\u001b[0;34m\u001b[0m\u001b[0;34m\u001b[0m\u001b[0m\n\u001b[0;32m---> 69\u001b[0;31m             \u001b[0mself\u001b[0m\u001b[0;34m.\u001b[0m\u001b[0m_eval\u001b[0m\u001b[0;34m(\u001b[0m\u001b[0mproblem\u001b[0m\u001b[0;34m,\u001b[0m \u001b[0mpop\u001b[0m\u001b[0;34m[\u001b[0m\u001b[0mI\u001b[0m\u001b[0;34m]\u001b[0m\u001b[0;34m,\u001b[0m \u001b[0mevaluate_values_of\u001b[0m\u001b[0;34m,\u001b[0m \u001b[0;34m**\u001b[0m\u001b[0mkwargs\u001b[0m\u001b[0;34m)\u001b[0m\u001b[0;34m\u001b[0m\u001b[0;34m\u001b[0m\u001b[0m\n\u001b[0m\u001b[1;32m     70\u001b[0m \u001b[0;34m\u001b[0m\u001b[0m\n\u001b[1;32m     71\u001b[0m         \u001b[0;31m# update the function evaluation counter\u001b[0m\u001b[0;34m\u001b[0m\u001b[0;34m\u001b[0m\u001b[0m\n",
      "\u001b[0;32m~/.local/lib/python3.9/site-packages/pymoo/core/evaluator.py\u001b[0m in \u001b[0;36m_eval\u001b[0;34m(self, problem, pop, evaluate_values_of, **kwargs)\u001b[0m\n\u001b[1;32m     88\u001b[0m \u001b[0;34m\u001b[0m\u001b[0m\n\u001b[1;32m     89\u001b[0m         \u001b[0;31m# call the problem to evaluate the solutions\u001b[0m\u001b[0;34m\u001b[0m\u001b[0;34m\u001b[0m\u001b[0m\n\u001b[0;32m---> 90\u001b[0;31m         \u001b[0mout\u001b[0m \u001b[0;34m=\u001b[0m \u001b[0mproblem\u001b[0m\u001b[0;34m.\u001b[0m\u001b[0mevaluate\u001b[0m\u001b[0;34m(\u001b[0m\u001b[0mX\u001b[0m\u001b[0;34m,\u001b[0m \u001b[0mreturn_values_of\u001b[0m\u001b[0;34m=\u001b[0m\u001b[0mevaluate_values_of\u001b[0m\u001b[0;34m,\u001b[0m \u001b[0mreturn_as_dictionary\u001b[0m\u001b[0;34m=\u001b[0m\u001b[0;32mTrue\u001b[0m\u001b[0;34m,\u001b[0m \u001b[0;34m**\u001b[0m\u001b[0mkwargs\u001b[0m\u001b[0;34m)\u001b[0m\u001b[0;34m\u001b[0m\u001b[0;34m\u001b[0m\u001b[0m\n\u001b[0m\u001b[1;32m     91\u001b[0m \u001b[0;34m\u001b[0m\u001b[0m\n\u001b[1;32m     92\u001b[0m         \u001b[0;31m# for each of the attributes set it to the problem\u001b[0m\u001b[0;34m\u001b[0m\u001b[0;34m\u001b[0m\u001b[0m\n",
      "\u001b[0;32m~/.local/lib/python3.9/site-packages/pymoo/core/problem.py\u001b[0m in \u001b[0;36mevaluate\u001b[0;34m(self, X, return_values_of, return_as_dictionary, *args, **kwargs)\u001b[0m\n\u001b[1;32m    255\u001b[0m \u001b[0;34m\u001b[0m\u001b[0m\n\u001b[1;32m    256\u001b[0m         \u001b[0;31m# this is where the actual evaluation takes place\u001b[0m\u001b[0;34m\u001b[0m\u001b[0;34m\u001b[0m\u001b[0m\n\u001b[0;32m--> 257\u001b[0;31m         \u001b[0m_out\u001b[0m \u001b[0;34m=\u001b[0m \u001b[0mself\u001b[0m\u001b[0;34m.\u001b[0m\u001b[0mdo\u001b[0m\u001b[0;34m(\u001b[0m\u001b[0mX\u001b[0m\u001b[0;34m,\u001b[0m \u001b[0mreturn_values_of\u001b[0m\u001b[0;34m,\u001b[0m \u001b[0;34m*\u001b[0m\u001b[0margs\u001b[0m\u001b[0;34m,\u001b[0m \u001b[0;34m**\u001b[0m\u001b[0mkwargs\u001b[0m\u001b[0;34m)\u001b[0m\u001b[0;34m\u001b[0m\u001b[0;34m\u001b[0m\u001b[0m\n\u001b[0m\u001b[1;32m    258\u001b[0m \u001b[0;34m\u001b[0m\u001b[0m\n\u001b[1;32m    259\u001b[0m         \u001b[0mout\u001b[0m \u001b[0;34m=\u001b[0m \u001b[0;34m{\u001b[0m\u001b[0;34m}\u001b[0m\u001b[0;34m\u001b[0m\u001b[0;34m\u001b[0m\u001b[0m\n",
      "\u001b[0;32m~/.local/lib/python3.9/site-packages/pymoo/core/problem.py\u001b[0m in \u001b[0;36mdo\u001b[0;34m(self, X, return_values_of, *args, **kwargs)\u001b[0m\n\u001b[1;32m    297\u001b[0m             \u001b[0mself\u001b[0m\u001b[0;34m.\u001b[0m\u001b[0m_evaluate_elementwise\u001b[0m\u001b[0;34m(\u001b[0m\u001b[0mX\u001b[0m\u001b[0;34m,\u001b[0m \u001b[0mout\u001b[0m\u001b[0;34m,\u001b[0m \u001b[0;34m*\u001b[0m\u001b[0margs\u001b[0m\u001b[0;34m,\u001b[0m \u001b[0;34m**\u001b[0m\u001b[0mkwargs\u001b[0m\u001b[0;34m)\u001b[0m\u001b[0;34m\u001b[0m\u001b[0;34m\u001b[0m\u001b[0m\n\u001b[1;32m    298\u001b[0m         \u001b[0;32melse\u001b[0m\u001b[0;34m:\u001b[0m\u001b[0;34m\u001b[0m\u001b[0;34m\u001b[0m\u001b[0m\n\u001b[0;32m--> 299\u001b[0;31m             \u001b[0mself\u001b[0m\u001b[0;34m.\u001b[0m\u001b[0m_evaluate_vectorized\u001b[0m\u001b[0;34m(\u001b[0m\u001b[0mX\u001b[0m\u001b[0;34m,\u001b[0m \u001b[0mout\u001b[0m\u001b[0;34m,\u001b[0m \u001b[0;34m*\u001b[0m\u001b[0margs\u001b[0m\u001b[0;34m,\u001b[0m \u001b[0;34m**\u001b[0m\u001b[0mkwargs\u001b[0m\u001b[0;34m)\u001b[0m\u001b[0;34m\u001b[0m\u001b[0;34m\u001b[0m\u001b[0m\n\u001b[0m\u001b[1;32m    300\u001b[0m \u001b[0;34m\u001b[0m\u001b[0m\n\u001b[1;32m    301\u001b[0m         \u001b[0;31m# finally format the output dictionary\u001b[0m\u001b[0;34m\u001b[0m\u001b[0;34m\u001b[0m\u001b[0m\n",
      "\u001b[0;32m~/.local/lib/python3.9/site-packages/pymoo/core/problem.py\u001b[0m in \u001b[0;36m_evaluate_vectorized\u001b[0;34m(self, X, out, *args, **kwargs)\u001b[0m\n\u001b[1;32m    305\u001b[0m \u001b[0;34m\u001b[0m\u001b[0m\n\u001b[1;32m    306\u001b[0m     \u001b[0;32mdef\u001b[0m \u001b[0m_evaluate_vectorized\u001b[0m\u001b[0;34m(\u001b[0m\u001b[0mself\u001b[0m\u001b[0;34m,\u001b[0m \u001b[0mX\u001b[0m\u001b[0;34m,\u001b[0m \u001b[0mout\u001b[0m\u001b[0;34m,\u001b[0m \u001b[0;34m*\u001b[0m\u001b[0margs\u001b[0m\u001b[0;34m,\u001b[0m \u001b[0;34m**\u001b[0m\u001b[0mkwargs\u001b[0m\u001b[0;34m)\u001b[0m\u001b[0;34m:\u001b[0m\u001b[0;34m\u001b[0m\u001b[0;34m\u001b[0m\u001b[0m\n\u001b[0;32m--> 307\u001b[0;31m         \u001b[0mself\u001b[0m\u001b[0;34m.\u001b[0m\u001b[0m_evaluate\u001b[0m\u001b[0;34m(\u001b[0m\u001b[0mX\u001b[0m\u001b[0;34m,\u001b[0m \u001b[0mout\u001b[0m\u001b[0;34m,\u001b[0m \u001b[0;34m*\u001b[0m\u001b[0margs\u001b[0m\u001b[0;34m,\u001b[0m \u001b[0;34m**\u001b[0m\u001b[0mkwargs\u001b[0m\u001b[0;34m)\u001b[0m\u001b[0;34m\u001b[0m\u001b[0;34m\u001b[0m\u001b[0m\n\u001b[0m\u001b[1;32m    308\u001b[0m \u001b[0;34m\u001b[0m\u001b[0m\n\u001b[1;32m    309\u001b[0m     \u001b[0;32mdef\u001b[0m \u001b[0m_evaluate_elementwise\u001b[0m\u001b[0;34m(\u001b[0m\u001b[0mself\u001b[0m\u001b[0;34m,\u001b[0m \u001b[0mX\u001b[0m\u001b[0;34m,\u001b[0m \u001b[0mout\u001b[0m\u001b[0;34m,\u001b[0m \u001b[0;34m*\u001b[0m\u001b[0margs\u001b[0m\u001b[0;34m,\u001b[0m \u001b[0;34m**\u001b[0m\u001b[0mkwargs\u001b[0m\u001b[0;34m)\u001b[0m\u001b[0;34m:\u001b[0m\u001b[0;34m\u001b[0m\u001b[0;34m\u001b[0m\u001b[0m\n",
      "\u001b[0;32m/cephfs/volumes/hpc_home/k23070952/a774a32b-b8f8-42f8-b661-406a5dd49fd8/CODE/0. SSH files/atlas/src/atlas/acquisition_optimizers/pymoo_optimizer.py\u001b[0m in \u001b[0;36m_evaluate\u001b[0;34m(self, X, out, *args, **kwargs)\u001b[0m\n\u001b[1;32m    241\u001b[0m \u001b[0;34m\u001b[0m\u001b[0m\n\u001b[1;32m    242\u001b[0m         \u001b[0;32mwith\u001b[0m \u001b[0mtorch\u001b[0m\u001b[0;34m.\u001b[0m\u001b[0mno_grad\u001b[0m\u001b[0;34m(\u001b[0m\u001b[0;34m)\u001b[0m\u001b[0;34m:\u001b[0m\u001b[0;34m\u001b[0m\u001b[0;34m\u001b[0m\u001b[0m\n\u001b[0;32m--> 243\u001b[0;31m             \u001b[0mf\u001b[0m \u001b[0;34m=\u001b[0m \u001b[0;34m-\u001b[0m\u001b[0mself\u001b[0m\u001b[0;34m.\u001b[0m\u001b[0macqf\u001b[0m\u001b[0;34m(\u001b[0m\u001b[0mX_torch\u001b[0m\u001b[0;34m)\u001b[0m  \u001b[0;31m# always minimization in pymoo\u001b[0m\u001b[0;34m\u001b[0m\u001b[0;34m\u001b[0m\u001b[0m\n\u001b[0m\u001b[1;32m    244\u001b[0m \u001b[0;34m\u001b[0m\u001b[0m\n\u001b[1;32m    245\u001b[0m         \u001b[0mout\u001b[0m\u001b[0;34m[\u001b[0m\u001b[0;34m\"F\"\u001b[0m\u001b[0;34m]\u001b[0m \u001b[0;34m=\u001b[0m \u001b[0mf\u001b[0m\u001b[0;34m.\u001b[0m\u001b[0mdetach\u001b[0m\u001b[0;34m(\u001b[0m\u001b[0;34m)\u001b[0m\u001b[0;34m.\u001b[0m\u001b[0mnumpy\u001b[0m\u001b[0;34m(\u001b[0m\u001b[0;34m)\u001b[0m\u001b[0;34m\u001b[0m\u001b[0;34m\u001b[0m\u001b[0m\n",
      "\u001b[0;32m~/.local/lib/python3.9/site-packages/torch/nn/modules/module.py\u001b[0m in \u001b[0;36m_wrapped_call_impl\u001b[0;34m(self, *args, **kwargs)\u001b[0m\n\u001b[1;32m   1749\u001b[0m             \u001b[0;32mreturn\u001b[0m \u001b[0mself\u001b[0m\u001b[0;34m.\u001b[0m\u001b[0m_compiled_call_impl\u001b[0m\u001b[0;34m(\u001b[0m\u001b[0;34m*\u001b[0m\u001b[0margs\u001b[0m\u001b[0;34m,\u001b[0m \u001b[0;34m**\u001b[0m\u001b[0mkwargs\u001b[0m\u001b[0;34m)\u001b[0m  \u001b[0;31m# type: ignore[misc]\u001b[0m\u001b[0;34m\u001b[0m\u001b[0;34m\u001b[0m\u001b[0m\n\u001b[1;32m   1750\u001b[0m         \u001b[0;32melse\u001b[0m\u001b[0;34m:\u001b[0m\u001b[0;34m\u001b[0m\u001b[0;34m\u001b[0m\u001b[0m\n\u001b[0;32m-> 1751\u001b[0;31m             \u001b[0;32mreturn\u001b[0m \u001b[0mself\u001b[0m\u001b[0;34m.\u001b[0m\u001b[0m_call_impl\u001b[0m\u001b[0;34m(\u001b[0m\u001b[0;34m*\u001b[0m\u001b[0margs\u001b[0m\u001b[0;34m,\u001b[0m \u001b[0;34m**\u001b[0m\u001b[0mkwargs\u001b[0m\u001b[0;34m)\u001b[0m\u001b[0;34m\u001b[0m\u001b[0;34m\u001b[0m\u001b[0m\n\u001b[0m\u001b[1;32m   1752\u001b[0m \u001b[0;34m\u001b[0m\u001b[0m\n\u001b[1;32m   1753\u001b[0m     \u001b[0;31m# torchrec tests the code consistency with the following code\u001b[0m\u001b[0;34m\u001b[0m\u001b[0;34m\u001b[0m\u001b[0m\n",
      "\u001b[0;32m~/.local/lib/python3.9/site-packages/torch/nn/modules/module.py\u001b[0m in \u001b[0;36m_call_impl\u001b[0;34m(self, *args, **kwargs)\u001b[0m\n\u001b[1;32m   1760\u001b[0m                 \u001b[0;32mor\u001b[0m \u001b[0m_global_backward_pre_hooks\u001b[0m \u001b[0;32mor\u001b[0m \u001b[0m_global_backward_hooks\u001b[0m\u001b[0;34m\u001b[0m\u001b[0;34m\u001b[0m\u001b[0m\n\u001b[1;32m   1761\u001b[0m                 or _global_forward_hooks or _global_forward_pre_hooks):\n\u001b[0;32m-> 1762\u001b[0;31m             \u001b[0;32mreturn\u001b[0m \u001b[0mforward_call\u001b[0m\u001b[0;34m(\u001b[0m\u001b[0;34m*\u001b[0m\u001b[0margs\u001b[0m\u001b[0;34m,\u001b[0m \u001b[0;34m**\u001b[0m\u001b[0mkwargs\u001b[0m\u001b[0;34m)\u001b[0m\u001b[0;34m\u001b[0m\u001b[0;34m\u001b[0m\u001b[0m\n\u001b[0m\u001b[1;32m   1763\u001b[0m \u001b[0;34m\u001b[0m\u001b[0m\n\u001b[1;32m   1764\u001b[0m         \u001b[0mresult\u001b[0m \u001b[0;34m=\u001b[0m \u001b[0;32mNone\u001b[0m\u001b[0;34m\u001b[0m\u001b[0;34m\u001b[0m\u001b[0m\n",
      "\u001b[0;32m~/.local/lib/python3.9/site-packages/botorch/utils/transforms.py\u001b[0m in \u001b[0;36mdecorated\u001b[0;34m(acqf, X, *args, **kwargs)\u001b[0m\n\u001b[1;32m    257\u001b[0m             \u001b[0;31m# add t-batch dim\u001b[0m\u001b[0;34m\u001b[0m\u001b[0;34m\u001b[0m\u001b[0m\n\u001b[1;32m    258\u001b[0m             \u001b[0mX\u001b[0m \u001b[0;34m=\u001b[0m \u001b[0mX\u001b[0m \u001b[0;32mif\u001b[0m \u001b[0mX\u001b[0m\u001b[0;34m.\u001b[0m\u001b[0mdim\u001b[0m\u001b[0;34m(\u001b[0m\u001b[0;34m)\u001b[0m \u001b[0;34m>\u001b[0m \u001b[0;36m2\u001b[0m \u001b[0;32melse\u001b[0m \u001b[0mX\u001b[0m\u001b[0;34m.\u001b[0m\u001b[0munsqueeze\u001b[0m\u001b[0;34m(\u001b[0m\u001b[0;36m0\u001b[0m\u001b[0;34m)\u001b[0m\u001b[0;34m\u001b[0m\u001b[0;34m\u001b[0m\u001b[0m\n\u001b[0;32m--> 259\u001b[0;31m             \u001b[0moutput\u001b[0m \u001b[0;34m=\u001b[0m \u001b[0mmethod\u001b[0m\u001b[0;34m(\u001b[0m\u001b[0macqf\u001b[0m\u001b[0;34m,\u001b[0m \u001b[0mX\u001b[0m\u001b[0;34m,\u001b[0m \u001b[0;34m*\u001b[0m\u001b[0margs\u001b[0m\u001b[0;34m,\u001b[0m \u001b[0;34m**\u001b[0m\u001b[0mkwargs\u001b[0m\u001b[0;34m)\u001b[0m\u001b[0;34m\u001b[0m\u001b[0;34m\u001b[0m\u001b[0m\n\u001b[0m\u001b[1;32m    260\u001b[0m             \u001b[0;32mif\u001b[0m \u001b[0mhasattr\u001b[0m\u001b[0;34m(\u001b[0m\u001b[0macqf\u001b[0m\u001b[0;34m,\u001b[0m \u001b[0;34m\"model\"\u001b[0m\u001b[0;34m)\u001b[0m \u001b[0;32mand\u001b[0m \u001b[0mis_ensemble\u001b[0m\u001b[0;34m(\u001b[0m\u001b[0macqf\u001b[0m\u001b[0;34m.\u001b[0m\u001b[0mmodel\u001b[0m\u001b[0;34m)\u001b[0m\u001b[0;34m:\u001b[0m\u001b[0;34m\u001b[0m\u001b[0;34m\u001b[0m\u001b[0m\n\u001b[1;32m    261\u001b[0m                 \u001b[0;31m# IDEA: this could be wrapped into SampleReducingMCAcquisitionFunction\u001b[0m\u001b[0;34m\u001b[0m\u001b[0;34m\u001b[0m\u001b[0m\n",
      "\u001b[0;32m~/.local/lib/python3.9/site-packages/botorch/acquisition/knowledge_gradient.py\u001b[0m in \u001b[0;36mforward\u001b[0;34m(self, X)\u001b[0m\n\u001b[1;32m    471\u001b[0m         \u001b[0;31m# project the fantasy points\u001b[0m\u001b[0;34m\u001b[0m\u001b[0;34m\u001b[0m\u001b[0m\n\u001b[1;32m    472\u001b[0m         \u001b[0;32mwith\u001b[0m \u001b[0msettings\u001b[0m\u001b[0;34m.\u001b[0m\u001b[0mpropagate_grads\u001b[0m\u001b[0;34m(\u001b[0m\u001b[0;32mTrue\u001b[0m\u001b[0;34m)\u001b[0m\u001b[0;34m:\u001b[0m\u001b[0;34m\u001b[0m\u001b[0;34m\u001b[0m\u001b[0m\n\u001b[0;32m--> 473\u001b[0;31m             \u001b[0mvalues\u001b[0m \u001b[0;34m=\u001b[0m \u001b[0mvalue_function\u001b[0m\u001b[0;34m(\u001b[0m\u001b[0mX\u001b[0m\u001b[0;34m=\u001b[0m\u001b[0mX_fantasies\u001b[0m\u001b[0;34m)\u001b[0m  \u001b[0;31m# num_fantasies x b\u001b[0m\u001b[0;34m\u001b[0m\u001b[0;34m\u001b[0m\u001b[0m\n\u001b[0m\u001b[1;32m    474\u001b[0m \u001b[0;34m\u001b[0m\u001b[0m\n\u001b[1;32m    475\u001b[0m         \u001b[0;32mif\u001b[0m \u001b[0mself\u001b[0m\u001b[0;34m.\u001b[0m\u001b[0mcurrent_value\u001b[0m \u001b[0;32mis\u001b[0m \u001b[0;32mnot\u001b[0m \u001b[0;32mNone\u001b[0m\u001b[0;34m:\u001b[0m\u001b[0;34m\u001b[0m\u001b[0;34m\u001b[0m\u001b[0m\n",
      "\u001b[0;32m~/.local/lib/python3.9/site-packages/torch/nn/modules/module.py\u001b[0m in \u001b[0;36m_wrapped_call_impl\u001b[0;34m(self, *args, **kwargs)\u001b[0m\n\u001b[1;32m   1749\u001b[0m             \u001b[0;32mreturn\u001b[0m \u001b[0mself\u001b[0m\u001b[0;34m.\u001b[0m\u001b[0m_compiled_call_impl\u001b[0m\u001b[0;34m(\u001b[0m\u001b[0;34m*\u001b[0m\u001b[0margs\u001b[0m\u001b[0;34m,\u001b[0m \u001b[0;34m**\u001b[0m\u001b[0mkwargs\u001b[0m\u001b[0;34m)\u001b[0m  \u001b[0;31m# type: ignore[misc]\u001b[0m\u001b[0;34m\u001b[0m\u001b[0;34m\u001b[0m\u001b[0m\n\u001b[1;32m   1750\u001b[0m         \u001b[0;32melse\u001b[0m\u001b[0;34m:\u001b[0m\u001b[0;34m\u001b[0m\u001b[0;34m\u001b[0m\u001b[0m\n\u001b[0;32m-> 1751\u001b[0;31m             \u001b[0;32mreturn\u001b[0m \u001b[0mself\u001b[0m\u001b[0;34m.\u001b[0m\u001b[0m_call_impl\u001b[0m\u001b[0;34m(\u001b[0m\u001b[0;34m*\u001b[0m\u001b[0margs\u001b[0m\u001b[0;34m,\u001b[0m \u001b[0;34m**\u001b[0m\u001b[0mkwargs\u001b[0m\u001b[0;34m)\u001b[0m\u001b[0;34m\u001b[0m\u001b[0;34m\u001b[0m\u001b[0m\n\u001b[0m\u001b[1;32m   1752\u001b[0m \u001b[0;34m\u001b[0m\u001b[0m\n\u001b[1;32m   1753\u001b[0m     \u001b[0;31m# torchrec tests the code consistency with the following code\u001b[0m\u001b[0;34m\u001b[0m\u001b[0;34m\u001b[0m\u001b[0m\n",
      "\u001b[0;32m~/.local/lib/python3.9/site-packages/torch/nn/modules/module.py\u001b[0m in \u001b[0;36m_call_impl\u001b[0;34m(self, *args, **kwargs)\u001b[0m\n\u001b[1;32m   1760\u001b[0m                 \u001b[0;32mor\u001b[0m \u001b[0m_global_backward_pre_hooks\u001b[0m \u001b[0;32mor\u001b[0m \u001b[0m_global_backward_hooks\u001b[0m\u001b[0;34m\u001b[0m\u001b[0;34m\u001b[0m\u001b[0m\n\u001b[1;32m   1761\u001b[0m                 or _global_forward_hooks or _global_forward_pre_hooks):\n\u001b[0;32m-> 1762\u001b[0;31m             \u001b[0;32mreturn\u001b[0m \u001b[0mforward_call\u001b[0m\u001b[0;34m(\u001b[0m\u001b[0;34m*\u001b[0m\u001b[0margs\u001b[0m\u001b[0;34m,\u001b[0m \u001b[0;34m**\u001b[0m\u001b[0mkwargs\u001b[0m\u001b[0;34m)\u001b[0m\u001b[0;34m\u001b[0m\u001b[0;34m\u001b[0m\u001b[0m\n\u001b[0m\u001b[1;32m   1763\u001b[0m \u001b[0;34m\u001b[0m\u001b[0m\n\u001b[1;32m   1764\u001b[0m         \u001b[0mresult\u001b[0m \u001b[0;34m=\u001b[0m \u001b[0;32mNone\u001b[0m\u001b[0;34m\u001b[0m\u001b[0;34m\u001b[0m\u001b[0m\n",
      "\u001b[0;32m~/.local/lib/python3.9/site-packages/botorch/acquisition/knowledge_gradient.py\u001b[0m in \u001b[0;36mforward\u001b[0;34m(self, X)\u001b[0m\n\u001b[1;32m    512\u001b[0m \u001b[0;34m\u001b[0m\u001b[0m\n\u001b[1;32m    513\u001b[0m     \u001b[0;32mdef\u001b[0m \u001b[0mforward\u001b[0m\u001b[0;34m(\u001b[0m\u001b[0mself\u001b[0m\u001b[0;34m,\u001b[0m \u001b[0mX\u001b[0m\u001b[0;34m:\u001b[0m \u001b[0mTensor\u001b[0m\u001b[0;34m)\u001b[0m \u001b[0;34m->\u001b[0m \u001b[0mTensor\u001b[0m\u001b[0;34m:\u001b[0m\u001b[0;34m\u001b[0m\u001b[0;34m\u001b[0m\u001b[0m\n\u001b[0;32m--> 514\u001b[0;31m         \u001b[0;32mreturn\u001b[0m \u001b[0mself\u001b[0m\u001b[0;34m.\u001b[0m\u001b[0mbase_value_function\u001b[0m\u001b[0;34m(\u001b[0m\u001b[0mself\u001b[0m\u001b[0;34m.\u001b[0m\u001b[0mproject\u001b[0m\u001b[0;34m(\u001b[0m\u001b[0mX\u001b[0m\u001b[0;34m)\u001b[0m\u001b[0;34m)\u001b[0m\u001b[0;34m\u001b[0m\u001b[0;34m\u001b[0m\u001b[0m\n\u001b[0m\u001b[1;32m    515\u001b[0m \u001b[0;34m\u001b[0m\u001b[0m\n\u001b[1;32m    516\u001b[0m \u001b[0;34m\u001b[0m\u001b[0m\n",
      "\u001b[0;32m~/.local/lib/python3.9/site-packages/torch/nn/modules/module.py\u001b[0m in \u001b[0;36m_wrapped_call_impl\u001b[0;34m(self, *args, **kwargs)\u001b[0m\n\u001b[1;32m   1749\u001b[0m             \u001b[0;32mreturn\u001b[0m \u001b[0mself\u001b[0m\u001b[0;34m.\u001b[0m\u001b[0m_compiled_call_impl\u001b[0m\u001b[0;34m(\u001b[0m\u001b[0;34m*\u001b[0m\u001b[0margs\u001b[0m\u001b[0;34m,\u001b[0m \u001b[0;34m**\u001b[0m\u001b[0mkwargs\u001b[0m\u001b[0;34m)\u001b[0m  \u001b[0;31m# type: ignore[misc]\u001b[0m\u001b[0;34m\u001b[0m\u001b[0;34m\u001b[0m\u001b[0m\n\u001b[1;32m   1750\u001b[0m         \u001b[0;32melse\u001b[0m\u001b[0;34m:\u001b[0m\u001b[0;34m\u001b[0m\u001b[0;34m\u001b[0m\u001b[0m\n\u001b[0;32m-> 1751\u001b[0;31m             \u001b[0;32mreturn\u001b[0m \u001b[0mself\u001b[0m\u001b[0;34m.\u001b[0m\u001b[0m_call_impl\u001b[0m\u001b[0;34m(\u001b[0m\u001b[0;34m*\u001b[0m\u001b[0margs\u001b[0m\u001b[0;34m,\u001b[0m \u001b[0;34m**\u001b[0m\u001b[0mkwargs\u001b[0m\u001b[0;34m)\u001b[0m\u001b[0;34m\u001b[0m\u001b[0;34m\u001b[0m\u001b[0m\n\u001b[0m\u001b[1;32m   1752\u001b[0m \u001b[0;34m\u001b[0m\u001b[0m\n\u001b[1;32m   1753\u001b[0m     \u001b[0;31m# torchrec tests the code consistency with the following code\u001b[0m\u001b[0;34m\u001b[0m\u001b[0;34m\u001b[0m\u001b[0m\n",
      "\u001b[0;32m~/.local/lib/python3.9/site-packages/torch/nn/modules/module.py\u001b[0m in \u001b[0;36m_call_impl\u001b[0;34m(self, *args, **kwargs)\u001b[0m\n\u001b[1;32m   1760\u001b[0m                 \u001b[0;32mor\u001b[0m \u001b[0m_global_backward_pre_hooks\u001b[0m \u001b[0;32mor\u001b[0m \u001b[0m_global_backward_hooks\u001b[0m\u001b[0;34m\u001b[0m\u001b[0;34m\u001b[0m\u001b[0m\n\u001b[1;32m   1761\u001b[0m                 or _global_forward_hooks or _global_forward_pre_hooks):\n\u001b[0;32m-> 1762\u001b[0;31m             \u001b[0;32mreturn\u001b[0m \u001b[0mforward_call\u001b[0m\u001b[0;34m(\u001b[0m\u001b[0;34m*\u001b[0m\u001b[0margs\u001b[0m\u001b[0;34m,\u001b[0m \u001b[0;34m**\u001b[0m\u001b[0mkwargs\u001b[0m\u001b[0;34m)\u001b[0m\u001b[0;34m\u001b[0m\u001b[0;34m\u001b[0m\u001b[0m\n\u001b[0m\u001b[1;32m   1763\u001b[0m \u001b[0;34m\u001b[0m\u001b[0m\n\u001b[1;32m   1764\u001b[0m         \u001b[0mresult\u001b[0m \u001b[0;34m=\u001b[0m \u001b[0;32mNone\u001b[0m\u001b[0;34m\u001b[0m\u001b[0;34m\u001b[0m\u001b[0m\n",
      "\u001b[0;32m~/.local/lib/python3.9/site-packages/botorch/utils/transforms.py\u001b[0m in \u001b[0;36mdecorated\u001b[0;34m(acqf, X, *args, **kwargs)\u001b[0m\n\u001b[1;32m    257\u001b[0m             \u001b[0;31m# add t-batch dim\u001b[0m\u001b[0;34m\u001b[0m\u001b[0;34m\u001b[0m\u001b[0m\n\u001b[1;32m    258\u001b[0m             \u001b[0mX\u001b[0m \u001b[0;34m=\u001b[0m \u001b[0mX\u001b[0m \u001b[0;32mif\u001b[0m \u001b[0mX\u001b[0m\u001b[0;34m.\u001b[0m\u001b[0mdim\u001b[0m\u001b[0;34m(\u001b[0m\u001b[0;34m)\u001b[0m \u001b[0;34m>\u001b[0m \u001b[0;36m2\u001b[0m \u001b[0;32melse\u001b[0m \u001b[0mX\u001b[0m\u001b[0;34m.\u001b[0m\u001b[0munsqueeze\u001b[0m\u001b[0;34m(\u001b[0m\u001b[0;36m0\u001b[0m\u001b[0;34m)\u001b[0m\u001b[0;34m\u001b[0m\u001b[0;34m\u001b[0m\u001b[0m\n\u001b[0;32m--> 259\u001b[0;31m             \u001b[0moutput\u001b[0m \u001b[0;34m=\u001b[0m \u001b[0mmethod\u001b[0m\u001b[0;34m(\u001b[0m\u001b[0macqf\u001b[0m\u001b[0;34m,\u001b[0m \u001b[0mX\u001b[0m\u001b[0;34m,\u001b[0m \u001b[0;34m*\u001b[0m\u001b[0margs\u001b[0m\u001b[0;34m,\u001b[0m \u001b[0;34m**\u001b[0m\u001b[0mkwargs\u001b[0m\u001b[0;34m)\u001b[0m\u001b[0;34m\u001b[0m\u001b[0;34m\u001b[0m\u001b[0m\n\u001b[0m\u001b[1;32m    260\u001b[0m             \u001b[0;32mif\u001b[0m \u001b[0mhasattr\u001b[0m\u001b[0;34m(\u001b[0m\u001b[0macqf\u001b[0m\u001b[0;34m,\u001b[0m \u001b[0;34m\"model\"\u001b[0m\u001b[0;34m)\u001b[0m \u001b[0;32mand\u001b[0m \u001b[0mis_ensemble\u001b[0m\u001b[0;34m(\u001b[0m\u001b[0macqf\u001b[0m\u001b[0;34m.\u001b[0m\u001b[0mmodel\u001b[0m\u001b[0;34m)\u001b[0m\u001b[0;34m:\u001b[0m\u001b[0;34m\u001b[0m\u001b[0;34m\u001b[0m\u001b[0m\n\u001b[1;32m    261\u001b[0m                 \u001b[0;31m# IDEA: this could be wrapped into SampleReducingMCAcquisitionFunction\u001b[0m\u001b[0;34m\u001b[0m\u001b[0;34m\u001b[0m\u001b[0m\n",
      "\u001b[0;32m~/.local/lib/python3.9/site-packages/botorch/acquisition/analytic.py\u001b[0m in \u001b[0;36mforward\u001b[0;34m(self, X)\u001b[0m\n\u001b[1;32m    833\u001b[0m             \u001b[0mgiven\u001b[0m \u001b[0mdesign\u001b[0m \u001b[0mpoints\u001b[0m\u001b[0;31m \u001b[0m\u001b[0;31m`\u001b[0m\u001b[0mX\u001b[0m\u001b[0;31m`\u001b[0m\u001b[0;34m.\u001b[0m\u001b[0;34m\u001b[0m\u001b[0;34m\u001b[0m\u001b[0m\n\u001b[1;32m    834\u001b[0m         \"\"\"\n\u001b[0;32m--> 835\u001b[0;31m         \u001b[0mmean\u001b[0m\u001b[0;34m,\u001b[0m \u001b[0m_\u001b[0m \u001b[0;34m=\u001b[0m \u001b[0mself\u001b[0m\u001b[0;34m.\u001b[0m\u001b[0m_mean_and_sigma\u001b[0m\u001b[0;34m(\u001b[0m\u001b[0mX\u001b[0m\u001b[0;34m,\u001b[0m \u001b[0mcompute_sigma\u001b[0m\u001b[0;34m=\u001b[0m\u001b[0;32mFalse\u001b[0m\u001b[0;34m)\u001b[0m\u001b[0;34m\u001b[0m\u001b[0;34m\u001b[0m\u001b[0m\n\u001b[0m\u001b[1;32m    836\u001b[0m         \u001b[0;32mreturn\u001b[0m \u001b[0mmean\u001b[0m \u001b[0;32mif\u001b[0m \u001b[0mself\u001b[0m\u001b[0;34m.\u001b[0m\u001b[0mmaximize\u001b[0m \u001b[0;32melse\u001b[0m \u001b[0;34m-\u001b[0m\u001b[0mmean\u001b[0m\u001b[0;34m\u001b[0m\u001b[0;34m\u001b[0m\u001b[0m\n\u001b[1;32m    837\u001b[0m \u001b[0;34m\u001b[0m\u001b[0m\n",
      "\u001b[0;32m~/.local/lib/python3.9/site-packages/botorch/acquisition/analytic.py\u001b[0m in \u001b[0;36m_mean_and_sigma\u001b[0;34m(self, X, compute_sigma, min_var)\u001b[0m\n\u001b[1;32m    104\u001b[0m         \"\"\"\n\u001b[1;32m    105\u001b[0m         \u001b[0mself\u001b[0m\u001b[0;34m.\u001b[0m\u001b[0mto\u001b[0m\u001b[0;34m(\u001b[0m\u001b[0mdevice\u001b[0m\u001b[0;34m=\u001b[0m\u001b[0mX\u001b[0m\u001b[0;34m.\u001b[0m\u001b[0mdevice\u001b[0m\u001b[0;34m)\u001b[0m  \u001b[0;31m# ensures buffers / parameters are on the same device\u001b[0m\u001b[0;34m\u001b[0m\u001b[0;34m\u001b[0m\u001b[0m\n\u001b[0;32m--> 106\u001b[0;31m         posterior = self.model.posterior(\n\u001b[0m\u001b[1;32m    107\u001b[0m             \u001b[0mX\u001b[0m\u001b[0;34m=\u001b[0m\u001b[0mX\u001b[0m\u001b[0;34m,\u001b[0m \u001b[0mposterior_transform\u001b[0m\u001b[0;34m=\u001b[0m\u001b[0mself\u001b[0m\u001b[0;34m.\u001b[0m\u001b[0mposterior_transform\u001b[0m\u001b[0;34m\u001b[0m\u001b[0;34m\u001b[0m\u001b[0m\n\u001b[1;32m    108\u001b[0m         )\n",
      "\u001b[0;32m~/.local/lib/python3.9/site-packages/botorch/models/gpytorch.py\u001b[0m in \u001b[0;36mposterior\u001b[0;34m(self, X, output_indices, observation_noise, posterior_transform, **kwargs)\u001b[0m\n\u001b[1;32m    386\u001b[0m             \u001b[0;31m# self(X) calls GPyTorch's ExactGP's __call__, which computes the posterior,\u001b[0m\u001b[0;34m\u001b[0m\u001b[0;34m\u001b[0m\u001b[0m\n\u001b[1;32m    387\u001b[0m             \u001b[0;31m# rather than e.g. SingleTaskGP's forward, which computes the prior.\u001b[0m\u001b[0;34m\u001b[0m\u001b[0;34m\u001b[0m\u001b[0m\n\u001b[0;32m--> 388\u001b[0;31m             \u001b[0mmvn\u001b[0m \u001b[0;34m=\u001b[0m \u001b[0mself\u001b[0m\u001b[0;34m(\u001b[0m\u001b[0mX\u001b[0m\u001b[0;34m)\u001b[0m\u001b[0;34m\u001b[0m\u001b[0;34m\u001b[0m\u001b[0m\n\u001b[0m\u001b[1;32m    389\u001b[0m             \u001b[0;32mif\u001b[0m \u001b[0mobservation_noise\u001b[0m \u001b[0;32mis\u001b[0m \u001b[0;32mnot\u001b[0m \u001b[0;32mFalse\u001b[0m\u001b[0;34m:\u001b[0m\u001b[0;34m\u001b[0m\u001b[0;34m\u001b[0m\u001b[0m\n\u001b[1;32m    390\u001b[0m                 \u001b[0;32mif\u001b[0m \u001b[0mself\u001b[0m\u001b[0;34m.\u001b[0m\u001b[0m_num_outputs\u001b[0m \u001b[0;34m>\u001b[0m \u001b[0;36m1\u001b[0m\u001b[0;34m:\u001b[0m\u001b[0;34m\u001b[0m\u001b[0;34m\u001b[0m\u001b[0m\n",
      "\u001b[0;32m~/.local/lib/python3.9/site-packages/gpytorch/models/exact_gp.py\u001b[0m in \u001b[0;36m__call__\u001b[0;34m(self, *args, **kwargs)\u001b[0m\n\u001b[1;32m    331\u001b[0m                     \u001b[0mpredictive_mean\u001b[0m\u001b[0;34m,\u001b[0m\u001b[0;34m\u001b[0m\u001b[0;34m\u001b[0m\u001b[0m\n\u001b[1;32m    332\u001b[0m                     \u001b[0mpredictive_covar\u001b[0m\u001b[0;34m,\u001b[0m\u001b[0;34m\u001b[0m\u001b[0;34m\u001b[0m\u001b[0m\n\u001b[0;32m--> 333\u001b[0;31m                 ) = self.prediction_strategy.exact_prediction(full_mean, full_covar)\n\u001b[0m\u001b[1;32m    334\u001b[0m \u001b[0;34m\u001b[0m\u001b[0m\n\u001b[1;32m    335\u001b[0m             \u001b[0;31m# Reshape predictive mean to match the appropriate event shape\u001b[0m\u001b[0;34m\u001b[0m\u001b[0;34m\u001b[0m\u001b[0m\n",
      "\u001b[0;32m~/.local/lib/python3.9/site-packages/gpytorch/models/exact_prediction_strategies.py\u001b[0m in \u001b[0;36mexact_prediction\u001b[0;34m(self, joint_mean, joint_covar)\u001b[0m\n\u001b[1;32m    279\u001b[0m         \u001b[0;31m# For efficiency - we can make things more efficient\u001b[0m\u001b[0;34m\u001b[0m\u001b[0;34m\u001b[0m\u001b[0m\n\u001b[1;32m    280\u001b[0m         \u001b[0;32mif\u001b[0m \u001b[0mjoint_covar\u001b[0m\u001b[0;34m.\u001b[0m\u001b[0msize\u001b[0m\u001b[0;34m(\u001b[0m\u001b[0;34m-\u001b[0m\u001b[0;36m1\u001b[0m\u001b[0;34m)\u001b[0m \u001b[0;34m<=\u001b[0m \u001b[0msettings\u001b[0m\u001b[0;34m.\u001b[0m\u001b[0mmax_eager_kernel_size\u001b[0m\u001b[0;34m.\u001b[0m\u001b[0mvalue\u001b[0m\u001b[0;34m(\u001b[0m\u001b[0;34m)\u001b[0m\u001b[0;34m:\u001b[0m\u001b[0;34m\u001b[0m\u001b[0;34m\u001b[0m\u001b[0m\n\u001b[0;32m--> 281\u001b[0;31m             \u001b[0mtest_covar\u001b[0m \u001b[0;34m=\u001b[0m \u001b[0mjoint_covar\u001b[0m\u001b[0;34m[\u001b[0m\u001b[0;34m...\u001b[0m\u001b[0;34m,\u001b[0m \u001b[0mself\u001b[0m\u001b[0;34m.\u001b[0m\u001b[0mnum_train\u001b[0m \u001b[0;34m:\u001b[0m\u001b[0;34m,\u001b[0m \u001b[0;34m:\u001b[0m\u001b[0;34m]\u001b[0m\u001b[0;34m.\u001b[0m\u001b[0mto_dense\u001b[0m\u001b[0;34m(\u001b[0m\u001b[0;34m)\u001b[0m\u001b[0;34m\u001b[0m\u001b[0;34m\u001b[0m\u001b[0m\n\u001b[0m\u001b[1;32m    282\u001b[0m             \u001b[0mtest_test_covar\u001b[0m \u001b[0;34m=\u001b[0m \u001b[0mtest_covar\u001b[0m\u001b[0;34m[\u001b[0m\u001b[0;34m...\u001b[0m\u001b[0;34m,\u001b[0m \u001b[0mself\u001b[0m\u001b[0;34m.\u001b[0m\u001b[0mnum_train\u001b[0m \u001b[0;34m:\u001b[0m\u001b[0;34m]\u001b[0m\u001b[0;34m\u001b[0m\u001b[0;34m\u001b[0m\u001b[0m\n\u001b[1;32m    283\u001b[0m             \u001b[0mtest_train_covar\u001b[0m \u001b[0;34m=\u001b[0m \u001b[0mtest_covar\u001b[0m\u001b[0;34m[\u001b[0m\u001b[0;34m...\u001b[0m\u001b[0;34m,\u001b[0m \u001b[0;34m:\u001b[0m \u001b[0mself\u001b[0m\u001b[0;34m.\u001b[0m\u001b[0mnum_train\u001b[0m\u001b[0;34m]\u001b[0m\u001b[0;34m\u001b[0m\u001b[0;34m\u001b[0m\u001b[0m\n",
      "\u001b[0;32m~/.local/lib/python3.9/site-packages/gpytorch/utils/memoize.py\u001b[0m in \u001b[0;36mg\u001b[0;34m(self, *args, **kwargs)\u001b[0m\n\u001b[1;32m     57\u001b[0m         \u001b[0mkwargs_pkl\u001b[0m \u001b[0;34m=\u001b[0m \u001b[0mpickle\u001b[0m\u001b[0;34m.\u001b[0m\u001b[0mdumps\u001b[0m\u001b[0;34m(\u001b[0m\u001b[0mkwargs\u001b[0m\u001b[0;34m)\u001b[0m\u001b[0;34m\u001b[0m\u001b[0;34m\u001b[0m\u001b[0m\n\u001b[1;32m     58\u001b[0m         \u001b[0;32mif\u001b[0m \u001b[0;32mnot\u001b[0m \u001b[0m_is_in_cache\u001b[0m\u001b[0;34m(\u001b[0m\u001b[0mself\u001b[0m\u001b[0;34m,\u001b[0m \u001b[0mcache_name\u001b[0m\u001b[0;34m,\u001b[0m \u001b[0;34m*\u001b[0m\u001b[0margs\u001b[0m\u001b[0;34m,\u001b[0m \u001b[0mkwargs_pkl\u001b[0m\u001b[0;34m=\u001b[0m\u001b[0mkwargs_pkl\u001b[0m\u001b[0;34m)\u001b[0m\u001b[0;34m:\u001b[0m\u001b[0;34m\u001b[0m\u001b[0;34m\u001b[0m\u001b[0m\n\u001b[0;32m---> 59\u001b[0;31m             \u001b[0;32mreturn\u001b[0m \u001b[0m_add_to_cache\u001b[0m\u001b[0;34m(\u001b[0m\u001b[0mself\u001b[0m\u001b[0;34m,\u001b[0m \u001b[0mcache_name\u001b[0m\u001b[0;34m,\u001b[0m \u001b[0mmethod\u001b[0m\u001b[0;34m(\u001b[0m\u001b[0mself\u001b[0m\u001b[0;34m,\u001b[0m \u001b[0;34m*\u001b[0m\u001b[0margs\u001b[0m\u001b[0;34m,\u001b[0m \u001b[0;34m**\u001b[0m\u001b[0mkwargs\u001b[0m\u001b[0;34m)\u001b[0m\u001b[0;34m,\u001b[0m \u001b[0;34m*\u001b[0m\u001b[0margs\u001b[0m\u001b[0;34m,\u001b[0m \u001b[0mkwargs_pkl\u001b[0m\u001b[0;34m=\u001b[0m\u001b[0mkwargs_pkl\u001b[0m\u001b[0;34m)\u001b[0m\u001b[0;34m\u001b[0m\u001b[0;34m\u001b[0m\u001b[0m\n\u001b[0m\u001b[1;32m     60\u001b[0m         \u001b[0;32mreturn\u001b[0m \u001b[0m_get_from_cache\u001b[0m\u001b[0;34m(\u001b[0m\u001b[0mself\u001b[0m\u001b[0;34m,\u001b[0m \u001b[0mcache_name\u001b[0m\u001b[0;34m,\u001b[0m \u001b[0;34m*\u001b[0m\u001b[0margs\u001b[0m\u001b[0;34m,\u001b[0m \u001b[0mkwargs_pkl\u001b[0m\u001b[0;34m=\u001b[0m\u001b[0mkwargs_pkl\u001b[0m\u001b[0;34m)\u001b[0m\u001b[0;34m\u001b[0m\u001b[0;34m\u001b[0m\u001b[0m\n\u001b[1;32m     61\u001b[0m \u001b[0;34m\u001b[0m\u001b[0m\n",
      "\u001b[0;32m~/.local/lib/python3.9/site-packages/gpytorch/lazy/lazy_evaluated_kernel_tensor.py\u001b[0m in \u001b[0;36mto_dense\u001b[0;34m(self)\u001b[0m\n\u001b[1;32m    408\u001b[0m     \u001b[0;34m@\u001b[0m\u001b[0mcached\u001b[0m\u001b[0;34m\u001b[0m\u001b[0;34m\u001b[0m\u001b[0m\n\u001b[1;32m    409\u001b[0m     \u001b[0;32mdef\u001b[0m \u001b[0mto_dense\u001b[0m\u001b[0;34m(\u001b[0m\u001b[0mself\u001b[0m\u001b[0;34m)\u001b[0m\u001b[0;34m:\u001b[0m\u001b[0;34m\u001b[0m\u001b[0;34m\u001b[0m\u001b[0m\n\u001b[0;32m--> 410\u001b[0;31m         \u001b[0;32mreturn\u001b[0m \u001b[0mself\u001b[0m\u001b[0;34m.\u001b[0m\u001b[0mevaluate_kernel\u001b[0m\u001b[0;34m(\u001b[0m\u001b[0;34m)\u001b[0m\u001b[0;34m.\u001b[0m\u001b[0mto_dense\u001b[0m\u001b[0;34m(\u001b[0m\u001b[0;34m)\u001b[0m\u001b[0;34m\u001b[0m\u001b[0;34m\u001b[0m\u001b[0m\n\u001b[0m\u001b[1;32m    411\u001b[0m \u001b[0;34m\u001b[0m\u001b[0m\n\u001b[1;32m    412\u001b[0m     \u001b[0;34m@\u001b[0m\u001b[0mrecall_grad_state\u001b[0m\u001b[0;34m\u001b[0m\u001b[0;34m\u001b[0m\u001b[0m\n",
      "\u001b[0;32m~/.local/lib/python3.9/site-packages/gpytorch/utils/memoize.py\u001b[0m in \u001b[0;36mg\u001b[0;34m(self, *args, **kwargs)\u001b[0m\n\u001b[1;32m     57\u001b[0m         \u001b[0mkwargs_pkl\u001b[0m \u001b[0;34m=\u001b[0m \u001b[0mpickle\u001b[0m\u001b[0;34m.\u001b[0m\u001b[0mdumps\u001b[0m\u001b[0;34m(\u001b[0m\u001b[0mkwargs\u001b[0m\u001b[0;34m)\u001b[0m\u001b[0;34m\u001b[0m\u001b[0;34m\u001b[0m\u001b[0m\n\u001b[1;32m     58\u001b[0m         \u001b[0;32mif\u001b[0m \u001b[0;32mnot\u001b[0m \u001b[0m_is_in_cache\u001b[0m\u001b[0;34m(\u001b[0m\u001b[0mself\u001b[0m\u001b[0;34m,\u001b[0m \u001b[0mcache_name\u001b[0m\u001b[0;34m,\u001b[0m \u001b[0;34m*\u001b[0m\u001b[0margs\u001b[0m\u001b[0;34m,\u001b[0m \u001b[0mkwargs_pkl\u001b[0m\u001b[0;34m=\u001b[0m\u001b[0mkwargs_pkl\u001b[0m\u001b[0;34m)\u001b[0m\u001b[0;34m:\u001b[0m\u001b[0;34m\u001b[0m\u001b[0;34m\u001b[0m\u001b[0m\n\u001b[0;32m---> 59\u001b[0;31m             \u001b[0;32mreturn\u001b[0m \u001b[0m_add_to_cache\u001b[0m\u001b[0;34m(\u001b[0m\u001b[0mself\u001b[0m\u001b[0;34m,\u001b[0m \u001b[0mcache_name\u001b[0m\u001b[0;34m,\u001b[0m \u001b[0mmethod\u001b[0m\u001b[0;34m(\u001b[0m\u001b[0mself\u001b[0m\u001b[0;34m,\u001b[0m \u001b[0;34m*\u001b[0m\u001b[0margs\u001b[0m\u001b[0;34m,\u001b[0m \u001b[0;34m**\u001b[0m\u001b[0mkwargs\u001b[0m\u001b[0;34m)\u001b[0m\u001b[0;34m,\u001b[0m \u001b[0;34m*\u001b[0m\u001b[0margs\u001b[0m\u001b[0;34m,\u001b[0m \u001b[0mkwargs_pkl\u001b[0m\u001b[0;34m=\u001b[0m\u001b[0mkwargs_pkl\u001b[0m\u001b[0;34m)\u001b[0m\u001b[0;34m\u001b[0m\u001b[0;34m\u001b[0m\u001b[0m\n\u001b[0m\u001b[1;32m     60\u001b[0m         \u001b[0;32mreturn\u001b[0m \u001b[0m_get_from_cache\u001b[0m\u001b[0;34m(\u001b[0m\u001b[0mself\u001b[0m\u001b[0;34m,\u001b[0m \u001b[0mcache_name\u001b[0m\u001b[0;34m,\u001b[0m \u001b[0;34m*\u001b[0m\u001b[0margs\u001b[0m\u001b[0;34m,\u001b[0m \u001b[0mkwargs_pkl\u001b[0m\u001b[0;34m=\u001b[0m\u001b[0mkwargs_pkl\u001b[0m\u001b[0;34m)\u001b[0m\u001b[0;34m\u001b[0m\u001b[0;34m\u001b[0m\u001b[0m\n\u001b[1;32m     61\u001b[0m \u001b[0;34m\u001b[0m\u001b[0m\n",
      "\u001b[0;32m~/.local/lib/python3.9/site-packages/gpytorch/lazy/lazy_evaluated_kernel_tensor.py\u001b[0m in \u001b[0;36mwrapped\u001b[0;34m(self, *args, **kwargs)\u001b[0m\n\u001b[1;32m     23\u001b[0m     \u001b[0;32mdef\u001b[0m \u001b[0mwrapped\u001b[0m\u001b[0;34m(\u001b[0m\u001b[0mself\u001b[0m\u001b[0;34m,\u001b[0m \u001b[0;34m*\u001b[0m\u001b[0margs\u001b[0m\u001b[0;34m,\u001b[0m \u001b[0;34m**\u001b[0m\u001b[0mkwargs\u001b[0m\u001b[0;34m)\u001b[0m\u001b[0;34m:\u001b[0m\u001b[0;34m\u001b[0m\u001b[0;34m\u001b[0m\u001b[0m\n\u001b[1;32m     24\u001b[0m         \u001b[0;32mwith\u001b[0m \u001b[0mtorch\u001b[0m\u001b[0;34m.\u001b[0m\u001b[0mset_grad_enabled\u001b[0m\u001b[0;34m(\u001b[0m\u001b[0mself\u001b[0m\u001b[0;34m.\u001b[0m\u001b[0m_is_grad_enabled\u001b[0m\u001b[0;34m)\u001b[0m\u001b[0;34m:\u001b[0m\u001b[0;34m\u001b[0m\u001b[0;34m\u001b[0m\u001b[0m\n\u001b[0;32m---> 25\u001b[0;31m             \u001b[0moutput\u001b[0m \u001b[0;34m=\u001b[0m \u001b[0mmethod\u001b[0m\u001b[0;34m(\u001b[0m\u001b[0mself\u001b[0m\u001b[0;34m,\u001b[0m \u001b[0;34m*\u001b[0m\u001b[0margs\u001b[0m\u001b[0;34m,\u001b[0m \u001b[0;34m**\u001b[0m\u001b[0mkwargs\u001b[0m\u001b[0;34m)\u001b[0m\u001b[0;34m\u001b[0m\u001b[0;34m\u001b[0m\u001b[0m\n\u001b[0m\u001b[1;32m     26\u001b[0m         \u001b[0;32mreturn\u001b[0m \u001b[0moutput\u001b[0m\u001b[0;34m\u001b[0m\u001b[0;34m\u001b[0m\u001b[0m\n\u001b[1;32m     27\u001b[0m \u001b[0;34m\u001b[0m\u001b[0m\n",
      "\u001b[0;32m~/.local/lib/python3.9/site-packages/gpytorch/lazy/lazy_evaluated_kernel_tensor.py\u001b[0m in \u001b[0;36mevaluate_kernel\u001b[0;34m(self)\u001b[0m\n\u001b[1;32m    353\u001b[0m             \u001b[0mtemp_active_dims\u001b[0m \u001b[0;34m=\u001b[0m \u001b[0mself\u001b[0m\u001b[0;34m.\u001b[0m\u001b[0mkernel\u001b[0m\u001b[0;34m.\u001b[0m\u001b[0mactive_dims\u001b[0m\u001b[0;34m\u001b[0m\u001b[0;34m\u001b[0m\u001b[0m\n\u001b[1;32m    354\u001b[0m             \u001b[0mself\u001b[0m\u001b[0;34m.\u001b[0m\u001b[0mkernel\u001b[0m\u001b[0;34m.\u001b[0m\u001b[0mactive_dims\u001b[0m \u001b[0;34m=\u001b[0m \u001b[0;32mNone\u001b[0m\u001b[0;34m\u001b[0m\u001b[0;34m\u001b[0m\u001b[0m\n\u001b[0;32m--> 355\u001b[0;31m             res = self.kernel(\n\u001b[0m\u001b[1;32m    356\u001b[0m                 \u001b[0mx1\u001b[0m\u001b[0;34m,\u001b[0m\u001b[0;34m\u001b[0m\u001b[0;34m\u001b[0m\u001b[0m\n\u001b[1;32m    357\u001b[0m                 \u001b[0mx2\u001b[0m\u001b[0;34m,\u001b[0m\u001b[0;34m\u001b[0m\u001b[0;34m\u001b[0m\u001b[0m\n",
      "\u001b[0;32m~/.local/lib/python3.9/site-packages/gpytorch/kernels/kernel.py\u001b[0m in \u001b[0;36m__call__\u001b[0;34m(self, x1, x2, diag, last_dim_is_batch, **params)\u001b[0m\n\u001b[1;32m    528\u001b[0m             \u001b[0;32melse\u001b[0m\u001b[0;34m:\u001b[0m\u001b[0;34m\u001b[0m\u001b[0;34m\u001b[0m\u001b[0m\n\u001b[1;32m    529\u001b[0m                 res = to_linear_operator(\n\u001b[0;32m--> 530\u001b[0;31m                     \u001b[0msuper\u001b[0m\u001b[0;34m(\u001b[0m\u001b[0mKernel\u001b[0m\u001b[0;34m,\u001b[0m \u001b[0mself\u001b[0m\u001b[0;34m)\u001b[0m\u001b[0;34m.\u001b[0m\u001b[0m__call__\u001b[0m\u001b[0;34m(\u001b[0m\u001b[0mx1_\u001b[0m\u001b[0;34m,\u001b[0m \u001b[0mx2_\u001b[0m\u001b[0;34m,\u001b[0m \u001b[0mlast_dim_is_batch\u001b[0m\u001b[0;34m=\u001b[0m\u001b[0mlast_dim_is_batch\u001b[0m\u001b[0;34m,\u001b[0m \u001b[0;34m**\u001b[0m\u001b[0mparams\u001b[0m\u001b[0;34m)\u001b[0m\u001b[0;34m\u001b[0m\u001b[0;34m\u001b[0m\u001b[0m\n\u001b[0m\u001b[1;32m    531\u001b[0m                 )\n\u001b[1;32m    532\u001b[0m             \u001b[0;32mreturn\u001b[0m \u001b[0mres\u001b[0m\u001b[0;34m\u001b[0m\u001b[0;34m\u001b[0m\u001b[0m\n",
      "\u001b[0;32m~/.local/lib/python3.9/site-packages/gpytorch/module.py\u001b[0m in \u001b[0;36m__call__\u001b[0;34m(self, *inputs, **kwargs)\u001b[0m\n\u001b[1;32m     29\u001b[0m \u001b[0;34m\u001b[0m\u001b[0m\n\u001b[1;32m     30\u001b[0m     \u001b[0;32mdef\u001b[0m \u001b[0m__call__\u001b[0m\u001b[0;34m(\u001b[0m\u001b[0mself\u001b[0m\u001b[0;34m,\u001b[0m \u001b[0;34m*\u001b[0m\u001b[0minputs\u001b[0m\u001b[0;34m,\u001b[0m \u001b[0;34m**\u001b[0m\u001b[0mkwargs\u001b[0m\u001b[0;34m)\u001b[0m \u001b[0;34m->\u001b[0m \u001b[0mUnion\u001b[0m\u001b[0;34m[\u001b[0m\u001b[0mTensor\u001b[0m\u001b[0;34m,\u001b[0m \u001b[0mDistribution\u001b[0m\u001b[0;34m,\u001b[0m \u001b[0mLinearOperator\u001b[0m\u001b[0;34m]\u001b[0m\u001b[0;34m:\u001b[0m\u001b[0;34m\u001b[0m\u001b[0;34m\u001b[0m\u001b[0m\n\u001b[0;32m---> 31\u001b[0;31m         \u001b[0moutputs\u001b[0m \u001b[0;34m=\u001b[0m \u001b[0mself\u001b[0m\u001b[0;34m.\u001b[0m\u001b[0mforward\u001b[0m\u001b[0;34m(\u001b[0m\u001b[0;34m*\u001b[0m\u001b[0minputs\u001b[0m\u001b[0;34m,\u001b[0m \u001b[0;34m**\u001b[0m\u001b[0mkwargs\u001b[0m\u001b[0;34m)\u001b[0m\u001b[0;34m\u001b[0m\u001b[0;34m\u001b[0m\u001b[0m\n\u001b[0m\u001b[1;32m     32\u001b[0m         \u001b[0;32mif\u001b[0m \u001b[0misinstance\u001b[0m\u001b[0;34m(\u001b[0m\u001b[0moutputs\u001b[0m\u001b[0;34m,\u001b[0m \u001b[0mlist\u001b[0m\u001b[0;34m)\u001b[0m\u001b[0;34m:\u001b[0m\u001b[0;34m\u001b[0m\u001b[0;34m\u001b[0m\u001b[0m\n\u001b[1;32m     33\u001b[0m             \u001b[0;32mreturn\u001b[0m \u001b[0;34m[\u001b[0m\u001b[0m_validate_module_outputs\u001b[0m\u001b[0;34m(\u001b[0m\u001b[0moutput\u001b[0m\u001b[0;34m)\u001b[0m \u001b[0;32mfor\u001b[0m \u001b[0moutput\u001b[0m \u001b[0;32min\u001b[0m \u001b[0moutputs\u001b[0m\u001b[0;34m]\u001b[0m\u001b[0;34m\u001b[0m\u001b[0;34m\u001b[0m\u001b[0m\n",
      "\u001b[0;32m~/.local/lib/python3.9/site-packages/gpytorch/kernels/scale_kernel.py\u001b[0m in \u001b[0;36mforward\u001b[0;34m(self, x1, x2, last_dim_is_batch, diag, **params)\u001b[0m\n\u001b[1;32m    107\u001b[0m \u001b[0;34m\u001b[0m\u001b[0m\n\u001b[1;32m    108\u001b[0m     \u001b[0;32mdef\u001b[0m \u001b[0mforward\u001b[0m\u001b[0;34m(\u001b[0m\u001b[0mself\u001b[0m\u001b[0;34m,\u001b[0m \u001b[0mx1\u001b[0m\u001b[0;34m,\u001b[0m \u001b[0mx2\u001b[0m\u001b[0;34m,\u001b[0m \u001b[0mlast_dim_is_batch\u001b[0m\u001b[0;34m=\u001b[0m\u001b[0;32mFalse\u001b[0m\u001b[0;34m,\u001b[0m \u001b[0mdiag\u001b[0m\u001b[0;34m=\u001b[0m\u001b[0;32mFalse\u001b[0m\u001b[0;34m,\u001b[0m \u001b[0;34m**\u001b[0m\u001b[0mparams\u001b[0m\u001b[0;34m)\u001b[0m\u001b[0;34m:\u001b[0m\u001b[0;34m\u001b[0m\u001b[0;34m\u001b[0m\u001b[0m\n\u001b[0;32m--> 109\u001b[0;31m         \u001b[0morig_output\u001b[0m \u001b[0;34m=\u001b[0m \u001b[0mself\u001b[0m\u001b[0;34m.\u001b[0m\u001b[0mbase_kernel\u001b[0m\u001b[0;34m.\u001b[0m\u001b[0mforward\u001b[0m\u001b[0;34m(\u001b[0m\u001b[0mx1\u001b[0m\u001b[0;34m,\u001b[0m \u001b[0mx2\u001b[0m\u001b[0;34m,\u001b[0m \u001b[0mdiag\u001b[0m\u001b[0;34m=\u001b[0m\u001b[0mdiag\u001b[0m\u001b[0;34m,\u001b[0m \u001b[0mlast_dim_is_batch\u001b[0m\u001b[0;34m=\u001b[0m\u001b[0mlast_dim_is_batch\u001b[0m\u001b[0;34m,\u001b[0m \u001b[0;34m**\u001b[0m\u001b[0mparams\u001b[0m\u001b[0;34m)\u001b[0m\u001b[0;34m\u001b[0m\u001b[0;34m\u001b[0m\u001b[0m\n\u001b[0m\u001b[1;32m    110\u001b[0m         \u001b[0moutputscales\u001b[0m \u001b[0;34m=\u001b[0m \u001b[0mself\u001b[0m\u001b[0;34m.\u001b[0m\u001b[0moutputscale\u001b[0m\u001b[0;34m\u001b[0m\u001b[0;34m\u001b[0m\u001b[0m\n\u001b[1;32m    111\u001b[0m         \u001b[0;32mif\u001b[0m \u001b[0mlast_dim_is_batch\u001b[0m\u001b[0;34m:\u001b[0m\u001b[0;34m\u001b[0m\u001b[0;34m\u001b[0m\u001b[0m\n",
      "\u001b[0;32m~/.local/lib/python3.9/site-packages/gpytorch/kernels/kernel.py\u001b[0m in \u001b[0;36mforward\u001b[0;34m(self, x1, x2, diag, **params)\u001b[0m\n\u001b[1;32m    656\u001b[0m             \u001b[0;31m# If x1 != x2, then we can't make a MulLinearOperator because the kernel won't necessarily be\u001b[0m\u001b[0;34m\u001b[0m\u001b[0;34m\u001b[0m\u001b[0m\n\u001b[1;32m    657\u001b[0m             \u001b[0;31m# square/symmetric\u001b[0m\u001b[0;34m\u001b[0m\u001b[0;34m\u001b[0m\u001b[0m\n\u001b[0;32m--> 658\u001b[0;31m             \u001b[0mres\u001b[0m \u001b[0;34m=\u001b[0m \u001b[0mto_dense\u001b[0m\u001b[0;34m(\u001b[0m\u001b[0mself\u001b[0m\u001b[0;34m.\u001b[0m\u001b[0mkernels\u001b[0m\u001b[0;34m[\u001b[0m\u001b[0;36m0\u001b[0m\u001b[0;34m]\u001b[0m\u001b[0;34m(\u001b[0m\u001b[0mx1\u001b[0m\u001b[0;34m,\u001b[0m \u001b[0mx2\u001b[0m\u001b[0;34m,\u001b[0m \u001b[0mdiag\u001b[0m\u001b[0;34m=\u001b[0m\u001b[0mdiag\u001b[0m\u001b[0;34m,\u001b[0m \u001b[0;34m**\u001b[0m\u001b[0mparams\u001b[0m\u001b[0;34m)\u001b[0m\u001b[0;34m)\u001b[0m\u001b[0;34m\u001b[0m\u001b[0;34m\u001b[0m\u001b[0m\n\u001b[0m\u001b[1;32m    659\u001b[0m         \u001b[0;32melse\u001b[0m\u001b[0;34m:\u001b[0m\u001b[0;34m\u001b[0m\u001b[0;34m\u001b[0m\u001b[0m\n\u001b[1;32m    660\u001b[0m             \u001b[0mres\u001b[0m \u001b[0;34m=\u001b[0m \u001b[0mself\u001b[0m\u001b[0;34m.\u001b[0m\u001b[0mkernels\u001b[0m\u001b[0;34m[\u001b[0m\u001b[0;36m0\u001b[0m\u001b[0;34m]\u001b[0m\u001b[0;34m(\u001b[0m\u001b[0mx1\u001b[0m\u001b[0;34m,\u001b[0m \u001b[0mx2\u001b[0m\u001b[0;34m,\u001b[0m \u001b[0mdiag\u001b[0m\u001b[0;34m=\u001b[0m\u001b[0mdiag\u001b[0m\u001b[0;34m,\u001b[0m \u001b[0;34m**\u001b[0m\u001b[0mparams\u001b[0m\u001b[0;34m)\u001b[0m\u001b[0;34m\u001b[0m\u001b[0;34m\u001b[0m\u001b[0m\n",
      "\u001b[0;32m~/.local/lib/python3.9/site-packages/gpytorch/kernels/kernel.py\u001b[0m in \u001b[0;36m__call__\u001b[0;34m(self, x1, x2, diag, last_dim_is_batch, **params)\u001b[0m\n\u001b[1;32m    528\u001b[0m             \u001b[0;32melse\u001b[0m\u001b[0;34m:\u001b[0m\u001b[0;34m\u001b[0m\u001b[0;34m\u001b[0m\u001b[0m\n\u001b[1;32m    529\u001b[0m                 res = to_linear_operator(\n\u001b[0;32m--> 530\u001b[0;31m                     \u001b[0msuper\u001b[0m\u001b[0;34m(\u001b[0m\u001b[0mKernel\u001b[0m\u001b[0;34m,\u001b[0m \u001b[0mself\u001b[0m\u001b[0;34m)\u001b[0m\u001b[0;34m.\u001b[0m\u001b[0m__call__\u001b[0m\u001b[0;34m(\u001b[0m\u001b[0mx1_\u001b[0m\u001b[0;34m,\u001b[0m \u001b[0mx2_\u001b[0m\u001b[0;34m,\u001b[0m \u001b[0mlast_dim_is_batch\u001b[0m\u001b[0;34m=\u001b[0m\u001b[0mlast_dim_is_batch\u001b[0m\u001b[0;34m,\u001b[0m \u001b[0;34m**\u001b[0m\u001b[0mparams\u001b[0m\u001b[0;34m)\u001b[0m\u001b[0;34m\u001b[0m\u001b[0;34m\u001b[0m\u001b[0m\n\u001b[0m\u001b[1;32m    531\u001b[0m                 )\n\u001b[1;32m    532\u001b[0m             \u001b[0;32mreturn\u001b[0m \u001b[0mres\u001b[0m\u001b[0;34m\u001b[0m\u001b[0;34m\u001b[0m\u001b[0m\n",
      "\u001b[0;32m~/.local/lib/python3.9/site-packages/gpytorch/module.py\u001b[0m in \u001b[0;36m__call__\u001b[0;34m(self, *inputs, **kwargs)\u001b[0m\n\u001b[1;32m     29\u001b[0m \u001b[0;34m\u001b[0m\u001b[0m\n\u001b[1;32m     30\u001b[0m     \u001b[0;32mdef\u001b[0m \u001b[0m__call__\u001b[0m\u001b[0;34m(\u001b[0m\u001b[0mself\u001b[0m\u001b[0;34m,\u001b[0m \u001b[0;34m*\u001b[0m\u001b[0minputs\u001b[0m\u001b[0;34m,\u001b[0m \u001b[0;34m**\u001b[0m\u001b[0mkwargs\u001b[0m\u001b[0;34m)\u001b[0m \u001b[0;34m->\u001b[0m \u001b[0mUnion\u001b[0m\u001b[0;34m[\u001b[0m\u001b[0mTensor\u001b[0m\u001b[0;34m,\u001b[0m \u001b[0mDistribution\u001b[0m\u001b[0;34m,\u001b[0m \u001b[0mLinearOperator\u001b[0m\u001b[0;34m]\u001b[0m\u001b[0;34m:\u001b[0m\u001b[0;34m\u001b[0m\u001b[0;34m\u001b[0m\u001b[0m\n\u001b[0;32m---> 31\u001b[0;31m         \u001b[0moutputs\u001b[0m \u001b[0;34m=\u001b[0m \u001b[0mself\u001b[0m\u001b[0;34m.\u001b[0m\u001b[0mforward\u001b[0m\u001b[0;34m(\u001b[0m\u001b[0;34m*\u001b[0m\u001b[0minputs\u001b[0m\u001b[0;34m,\u001b[0m \u001b[0;34m**\u001b[0m\u001b[0mkwargs\u001b[0m\u001b[0;34m)\u001b[0m\u001b[0;34m\u001b[0m\u001b[0;34m\u001b[0m\u001b[0m\n\u001b[0m\u001b[1;32m     32\u001b[0m         \u001b[0;32mif\u001b[0m \u001b[0misinstance\u001b[0m\u001b[0;34m(\u001b[0m\u001b[0moutputs\u001b[0m\u001b[0;34m,\u001b[0m \u001b[0mlist\u001b[0m\u001b[0;34m)\u001b[0m\u001b[0;34m:\u001b[0m\u001b[0;34m\u001b[0m\u001b[0;34m\u001b[0m\u001b[0m\n\u001b[1;32m     33\u001b[0m             \u001b[0;32mreturn\u001b[0m \u001b[0;34m[\u001b[0m\u001b[0m_validate_module_outputs\u001b[0m\u001b[0;34m(\u001b[0m\u001b[0moutput\u001b[0m\u001b[0;34m)\u001b[0m \u001b[0;32mfor\u001b[0m \u001b[0moutput\u001b[0m \u001b[0;32min\u001b[0m \u001b[0moutputs\u001b[0m\u001b[0;34m]\u001b[0m\u001b[0;34m\u001b[0m\u001b[0;34m\u001b[0m\u001b[0m\n",
      "\u001b[0;32m~/.local/lib/python3.9/site-packages/botorch/models/kernels/linear_truncated_fidelity.py\u001b[0m in \u001b[0;36mforward\u001b[0;34m(self, x1, x2, diag, **params)\u001b[0m\n\u001b[1;32m    198\u001b[0m             )\n\u001b[1;32m    199\u001b[0m         \u001b[0mx1_\u001b[0m \u001b[0;34m=\u001b[0m \u001b[0mx1\u001b[0m\u001b[0;34m.\u001b[0m\u001b[0mindex_select\u001b[0m\u001b[0;34m(\u001b[0m\u001b[0mdim\u001b[0m\u001b[0;34m=\u001b[0m\u001b[0;34m-\u001b[0m\u001b[0;36m1\u001b[0m\u001b[0;34m,\u001b[0m \u001b[0mindex\u001b[0m\u001b[0;34m=\u001b[0m\u001b[0mactive_dimsM\u001b[0m\u001b[0;34m)\u001b[0m\u001b[0;34m\u001b[0m\u001b[0;34m\u001b[0m\u001b[0m\n\u001b[0;32m--> 200\u001b[0;31m         \u001b[0mx2_\u001b[0m \u001b[0;34m=\u001b[0m \u001b[0mx2\u001b[0m\u001b[0;34m.\u001b[0m\u001b[0mindex_select\u001b[0m\u001b[0;34m(\u001b[0m\u001b[0mdim\u001b[0m\u001b[0;34m=\u001b[0m\u001b[0;34m-\u001b[0m\u001b[0;36m1\u001b[0m\u001b[0;34m,\u001b[0m \u001b[0mindex\u001b[0m\u001b[0;34m=\u001b[0m\u001b[0mactive_dimsM\u001b[0m\u001b[0;34m)\u001b[0m\u001b[0;34m\u001b[0m\u001b[0;34m\u001b[0m\u001b[0m\n\u001b[0m\u001b[1;32m    201\u001b[0m         \u001b[0mcovar_unbiased\u001b[0m \u001b[0;34m=\u001b[0m \u001b[0mself\u001b[0m\u001b[0;34m.\u001b[0m\u001b[0mcovar_module_unbiased\u001b[0m\u001b[0;34m(\u001b[0m\u001b[0mx1_\u001b[0m\u001b[0;34m,\u001b[0m \u001b[0mx2_\u001b[0m\u001b[0;34m,\u001b[0m \u001b[0mdiag\u001b[0m\u001b[0;34m=\u001b[0m\u001b[0mdiag\u001b[0m\u001b[0;34m)\u001b[0m\u001b[0;34m\u001b[0m\u001b[0;34m\u001b[0m\u001b[0m\n\u001b[1;32m    202\u001b[0m         \u001b[0mcovar_biased\u001b[0m \u001b[0;34m=\u001b[0m \u001b[0mself\u001b[0m\u001b[0;34m.\u001b[0m\u001b[0mcovar_module_biased\u001b[0m\u001b[0;34m(\u001b[0m\u001b[0mx1_\u001b[0m\u001b[0;34m,\u001b[0m \u001b[0mx2_\u001b[0m\u001b[0;34m,\u001b[0m \u001b[0mdiag\u001b[0m\u001b[0;34m=\u001b[0m\u001b[0mdiag\u001b[0m\u001b[0;34m)\u001b[0m\u001b[0;34m\u001b[0m\u001b[0;34m\u001b[0m\u001b[0m\n",
      "\u001b[0;31mKeyboardInterrupt\u001b[0m: "
     ]
    }
   ],
   "source": [
    "import time\n",
    "\n",
    "timing_data = []\n",
    "for run_ix in range(NUM_RUNS):\n",
    "\n",
    "\tcampaign = Campaign()\n",
    "\tcampaign.set_param_space(param_space)\n",
    "\n",
    "\tplanner = MultiFidelityPlanner(\n",
    "\t\tgoal='minimize',\n",
    "\t\tinit_design_strategy='random',\n",
    "\t\tnum_init_design=NUM_INIT_DESIGN,\n",
    "\t\tuse_descriptors=True,\n",
    "\t\tbatch_size=1,\n",
    "\t\tacquisition_optimizer_kind='pymoo',\n",
    "\t\tfidelity_params=0,\n",
    "\t\tfidelities=[0.1, 1.],\n",
    "\t)\n",
    "\n",
    "\tplanner.set_param_space(param_space)\n",
    "\n",
    "\tCOST = 0.\n",
    "\n",
    "\ttarget_rec_measurements = []\n",
    "\titer_ = 0\n",
    "\twhile COST < COST_BUDGET:\n",
    "\t\tprint(f'\\nRUN : {run_ix+1}/{NUM_RUNS}\\tITER : {iter_+1}\\tCOST : {COST}\\n')\n",
    "\t\tstart_time = time.time()  # 시작 시간 저장\n",
    "\t\tif iter_ % NUM_CHEAP == 0:\n",
    "\t\t\tplanner.set_ask_fidelity(1.0)\n",
    "\t\telse:\n",
    "\t\t\tplanner.set_ask_fidelity(0.1)\n",
    "\n",
    "\t\tsamples = planner.recommend(campaign.observations)\n",
    "\t\tend_time = time.time()  # 시작 시간 저장\n",
    "\t\ttime_taken = end_time-start_time\n",
    "\t\tprint(f\"Time: {time_taken}s\")\n",
    "\t\t\n",
    "\t\ttiming_data.append([run_ix, iter_, time_taken])\n",
    "\t\tfor sample in samples:\n",
    "\t\t\tmeasurement = measure(sample, sample.s)\n",
    "\t\t\tcampaign.add_observation(sample, measurement)\n",
    "\n",
    "\t\t\tprint('SAMPLE : ', sample)\n",
    "\t\t\tprint('MEASUREMENT : ', measurement)\n",
    "\n",
    "\t\t\titer_+=1\n",
    "\n",
    "\t\t# do a check to see if model will find the optimal\n",
    "\t\tif campaign.num_obs > NUM_INIT_DESIGN:\n",
    "\t\t\t# make greedy recommendation on the target fidelity\n",
    "\t\t\trec_sample = planner.recommend_target_fidelity(batch_size=1)[0]\n",
    "\t\t\trec_measurement = measure(rec_sample, rec_sample.s)\n",
    "\t\t\tprint('')\n",
    "\t\t\tprint('REC SAMPLE : ', rec_sample)\n",
    "\t\t\tprint('REC MEASUREMENT : ', rec_measurement)\n",
    "\t\t\tprint('')\n",
    "\t\t\ttarget_rec_measurements.append(rec_measurement)\n",
    "\t\t\t# kill the run if we have found the lowest hse06 bandgap\n",
    "\t\t\t# on the most recent high-fidelity measurement\n",
    "\t\t\tif rec_measurement == min_hse06_bandgap:\n",
    "\t\t\t\tprint('found the min hse06 bandgap!')\n",
    "\t\t\t\tbreak\n",
    "\t\telse:\n",
    "\t\t\ttarget_rec_measurements.append(measurement)\n",
    "\t\t\t# kill the run if we have found the lowest hse06 bandgap\n",
    "\t\t\t# on the most recent high-fidelity measurement\n",
    "\t\t\tif measurement == min_hse06_bandgap and samples[0].s == 1.:\n",
    "\t\t\t\tprint('found the min hse06 bandgap!')\n",
    "\t\t\t\tbreak\n",
    "\n",
    "\t\t\n",
    "\t\tCOST = compute_cost(params=campaign.observations.get_params())\n",
    "\n",
    "\n",
    "\n",
    "\ts_col = campaign.observations.get_params()[:, 0]\n",
    "\tx0_col = campaign.observations.get_params()[:, 1]\n",
    "\tx1_col = campaign.observations.get_params()[:, 2]\n",
    "\tx2_col = campaign.observations.get_params()[:, 3]\n",
    "\n",
    "\tobj0_col = np.array(target_rec_measurements) #campaign.observations.get_values()\n",
    "\n",
    "\tdata = pd.DataFrame({\n",
    "\t\t's': s_col,\n",
    "\t\t'organic': x0_col,\n",
    "\t\t'cation': x1_col,\n",
    "\t\t'anion': x2_col,\n",
    "\t\t'obj': obj0_col,\n",
    "\t})\n",
    "\tall_data.append(data)\n",
    "\tpickle.dump(all_data, open('mf_results.pkl', 'wb'))\n",
    "\n",
    "timing_df = pd.DataFrame(timing_data, columns=['run_ix', 'iter', 'time_taken'])\n",
    "timing_df.to_csv('timing_results.csv', index=False)"
   ]
  },
  {
   "cell_type": "code",
   "execution_count": 20,
   "metadata": {},
   "outputs": [],
   "source": [
    "timing_df = pd.DataFrame(timing_data, columns=['run_ix', 'iter', 'time_taken'])\n",
    "timing_df.to_csv('timing_results.csv', index=False)"
   ]
  },
  {
   "cell_type": "code",
   "execution_count": 18,
   "metadata": {},
   "outputs": [
    {
     "data": {
      "image/png": "[encoded data removed]",
      "text/plain": [
       "<Figure size 640x480 with 1 Axes>"
      ]
     },
     "metadata": {},
     "output_type": "display_data"
    }
   ],
   "source": [
    "import matplotlib.pyplot as plt\n",
    "# 첫번째 컬럼이 0인 것만 추출\n",
    "filtered = [row for row in timing_data if row[0] == 0]\n",
    "\n",
    "# 두번째 컬럼(x축), 세번째 컬럼(y축) 추출\n",
    "x = [row[1] for row in filtered]\n",
    "y = [row[2] for row in filtered]\n",
    "\n",
    "plt.plot(x, y, marker='o')\n",
    "plt.xlabel('Iteration')\n",
    "plt.ylabel('Time (s)')\n",
    "plt.title('Elapsed Time per Iteration (run_ix=0)')\n",
    "plt.grid(True)\n",
    "plt.show()"
   ]
  },
  {
   "cell_type": "markdown",
   "metadata": {},
   "source": []
  },
  {
   "cell_type": "code",
   "execution_count": null,
   "metadata": {},
   "outputs": [],
   "source": []
  },
  {
   "cell_type": "code",
   "execution_count": null,
   "metadata": {},
   "outputs": [],
   "source": []
  }
 ],
 "metadata": {
  "kernelspec": {
   "display_name": "Python 3 (ipykernel)",
   "language": "python",
   "name": "python3"
  },
  "language_info": {
   "codemirror_mode": {
    "name": "ipython",
    "version": 3
   },
   "file_extension": ".py",
   "mimetype": "text/x-python",
   "name": "python",
   "nbconvert_exporter": "python",
   "pygments_lexer": "ipython3",
   "version": "3.9.13"
  }
 },
 "nbformat": 4,
 "nbformat_minor": 2
}
