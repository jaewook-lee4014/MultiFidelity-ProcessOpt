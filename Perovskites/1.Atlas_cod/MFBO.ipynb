{
 "cells": [
  {
   "cell_type": "code",
   "execution_count": 2,
   "metadata": {},
   "outputs": [
    {
     "name": "stdout",
     "output_type": "stream",
     "text": [
      "pip 25.0 from /users/k23070952/.local/lib/python3.9/site-packages/pip (python 3.9)\n",
      "Note: you may need to restart the kernel to use updated packages.\n"
     ]
    }
   ],
   "source": [
    "pip -V"
   ]
  },
  {
   "cell_type": "code",
   "execution_count": 1,
   "metadata": {},
   "outputs": [
    {
     "name": "stdout",
     "output_type": "stream",
     "text": [
      "/cephfs/volumes/hpc_home/k23070952/a774a32b-b8f8-42f8-b661-406a5dd49fd8/MultiFidelity-ProcessOpt/Perovskites\n"
     ]
    }
   ],
   "source": [
    "cd ~/MultiFidelity-ProcessOpt/Perovskites/"
   ]
  },
  {
   "cell_type": "code",
   "execution_count": 1,
   "metadata": {},
   "outputs": [
    {
     "name": "stdout",
     "output_type": "stream",
     "text": [
      "Package                       Version                 Editable project location\n",
      "----------------------------- ----------------------- --------------------------------------------------------------------------------------------------------------------\n",
      "about-time                    4.2.1\n",
      "absl-py                       2.1.0\n",
      "accelerate                    1.5.1\n",
      "aiohappyeyeballs              2.4.3\n",
      "aiohttp                       3.11.7\n",
      "aiosignal                     1.3.1\n",
      "alabaster                     0.7.12\n",
      "alembic                       1.14.1\n",
      "alive-progress                3.2.0\n",
      "anaconda-client               1.11.0\n",
      "anaconda-navigator            2.3.1\n",
      "anaconda-project              0.11.1\n",
      "annotated-types               0.7.0\n",
      "ansicolors                    1.1.8\n",
      "anyio                         3.5.0\n",
      "appdirs                       1.4.4\n",
      "argon2-cffi                   21.3.0\n",
      "argon2-cffi-bindings          21.2.0\n",
      "array_record                  0.5.1\n",
      "arrow                         1.2.2\n",
      "astroid                       2.11.7\n",
      "astropy                       5.1\n",
      "astunparse                    1.6.3\n",
      "async-timeout                 4.0.3\n",
      "atomicwrites                  1.4.0\n",
      "attrs                         21.4.0\n",
      "autograd                      1.8.0\n",
      "Automat                       20.2.0\n",
      "autopep8                      1.6.0\n",
      "Babel                         2.9.1\n",
      "backcall                      0.2.0\n",
      "backports.functools-lru-cache 1.6.4\n",
      "backports.tempfile            1.0\n",
      "backports.weakref             1.0.post1\n",
      "bayesian-optimization         2.0.4\n",
      "bcrypt                        3.2.0\n",
      "beautifulsoup4                4.11.1\n",
      "binaryornot                   0.4.4\n",
      "biosteam                      2.51.2\n",
      "bitarray                      2.5.1\n",
      "bitsandbytes                  0.45.3\n",
      "bkcharts                      0.2\n",
      "black                         22.6.0\n",
      "bleach                        4.1.0\n",
      "blessed                       1.20.0\n",
      "bokeh                         2.4.3\n",
      "boto3                         1.24.28\n",
      "botocore                      1.27.28\n",
      "botorch                       0.10.0\n",
      "Bottleneck                    1.3.5\n",
      "brotlipy                      0.7.0\n",
      "cachetools                    5.5.0\n",
      "certifi                       2022.9.14\n",
      "cffi                          1.15.1\n",
      "chaospy                       4.3.17\n",
      "chardet                       4.0.0\n",
      "charset-normalizer            2.0.4\n",
      "chemicals                     1.3.2\n",
      "click                         8.0.4\n",
      "cloudpickle                   2.0.0\n",
      "clyent                        1.2.2\n",
      "cma                           3.2.2\n",
      "cmcrameri                     1.9\n",
      "colorama                      0.4.6\n",
      "colorcet                      3.0.0\n",
      "colorlog                      6.9.0\n",
      "colorpalette                  0.3.3\n",
      "conda                         22.9.0\n",
      "conda-build                   3.22.0\n",
      "conda-content-trust           0.1.3\n",
      "conda-pack                    0.6.0\n",
      "conda-package-handling        1.9.0\n",
      "conda-repo-cli                1.0.20\n",
      "conda-token                   0.4.0\n",
      "conda-verify                  3.4.2\n",
      "constantly                    15.1.0\n",
      "cookiecutter                  1.7.3\n",
      "coverage                      7.8.1\n",
      "cryptography                  37.0.1\n",
      "cssselect                     1.1.0\n",
      "cycler                        0.11.0\n",
      "Cython                        0.29.32\n",
      "cytoolz                       0.11.0\n",
      "daal4py                       2021.6.0\n",
      "dask                          2022.7.0\n",
      "dataclasses-json              0.6.7\n",
      "datashader                    0.14.1\n",
      "datashape                     0.5.4\n",
      "deap                          1.4.3\n",
      "debugpy                       1.5.1\n",
      "decorator                     5.1.1\n",
      "defusedxml                    0.7.1\n",
      "Deprecated                    1.2.18\n",
      "diff-match-patch              20200713\n",
      "dill                          0.3.4\n",
      "distributed                   2022.7.0\n",
      "dm-tree                       0.1.8\n",
      "docutils                      0.18.1\n",
      "entrypoints                   0.4\n",
      "et-xmlfile                    1.1.0\n",
      "etils                         1.5.2\n",
      "faiss-gpu                     1.7.2\n",
      "fastjsonschema                2.16.2\n",
      "fastprogress                  1.0.3\n",
      "filelock                      3.6.0\n",
      "flake8                        4.0.1\n",
      "Flask                         1.1.2\n",
      "flatbuffers                   24.3.25\n",
      "flexcache                     0.3\n",
      "flexparser                    0.4\n",
      "flexsolve                     0.5.7\n",
      "fluids                        1.1.0\n",
      "fonttools                     4.25.0\n",
      "free-properties               0.3.6\n",
      "frozenlist                    1.5.0\n",
      "fsspec                        2024.10.0\n",
      "future                        0.18.2\n",
      "gast                          0.4.0\n",
      "gensim                        4.1.2\n",
      "glob2                         0.7\n",
      "gmpy2                         2.1.2\n",
      "google-auth                   2.36.0\n",
      "google-auth-oauthlib          1.2.2\n",
      "google-pasta                  0.2.0\n",
      "gpustat                       1.1.1\n",
      "GPUtil                        1.4.0\n",
      "GPy                           1.13.2\n",
      "gpytorch                      1.11\n",
      "grapheme                      0.6.0\n",
      "graphviz                      0.20.3\n",
      "greenlet                      1.1.1\n",
      "grpcio                        1.68.0\n",
      "gspread                       6.2.1\n",
      "h11                           0.14.0\n",
      "h5py                          3.12.1\n",
      "HeapDict                      1.0.1\n",
      "holoviews                     1.15.0\n",
      "httpcore                      1.0.7\n",
      "httpx                         0.28.1\n",
      "httpx-sse                     0.4.0\n",
      "huggingface-hub               0.29.3\n",
      "hvplot                        0.8.0\n",
      "hyperlink                     21.0.0\n",
      "idna                          3.3\n",
      "imagecodecs                   2021.8.26\n",
      "imageio                       2.19.3\n",
      "imagesize                     1.4.1\n",
      "importlib-metadata            4.11.3\n",
      "importlib_resources           6.5.2\n",
      "incremental                   21.3.0\n",
      "inflection                    0.5.1\n",
      "iniconfig                     1.1.1\n",
      "intake                        0.6.5\n",
      "intervaltree                  3.1.0\n",
      "ipykernel                     6.15.2\n",
      "ipython                       7.31.1\n",
      "ipython-genutils              0.2.0\n",
      "ipywidgets                    7.6.5\n",
      "isort                         5.9.3\n",
      "itemadapter                   0.3.0\n",
      "itemloaders                   1.0.4\n",
      "itsdangerous                  2.0.1\n",
      "jaxtyping                     0.2.19\n",
      "jdcal                         1.4.1\n",
      "jedi                          0.18.1\n",
      "jeepney                       0.7.1\n",
      "jellyfish                     0.9.0\n",
      "Jinja2                        2.11.3\n",
      "jinja2-time                   0.2.0\n",
      "jmespath                      0.10.0\n",
      "joblib                        1.5.0\n",
      "json5                         0.9.6\n",
      "jsonpatch                     1.33\n",
      "jsonpointer                   3.0.0\n",
      "jsonschema                    4.16.0\n",
      "jupyter                       1.0.0\n",
      "jupyter_client                7.3.4\n",
      "jupyter-console               6.4.3\n",
      "jupyter_core                  4.11.1\n",
      "jupyter-server                1.18.1\n",
      "jupyterlab                    3.4.4\n",
      "jupyterlab-pygments           0.1.2\n",
      "jupyterlab-server             2.10.3\n",
      "jupyterlab-widgets            1.0.0\n",
      "keras                         2.15.0\n",
      "Keras-Preprocessing           1.1.2\n",
      "keyring                       23.4.0\n",
      "kiwisolver                    1.4.2\n",
      "langchain                     0.3.20\n",
      "langchain-community           0.3.19\n",
      "langchain-core                0.3.44\n",
      "langchain-text-splitters      0.3.6\n",
      "langsmith                     0.3.13\n",
      "lazy-object-proxy             1.6.0\n",
      "libarchive-c                  2.9\n",
      "libclang                      18.1.1\n",
      "linear-operator               0.5.1\n",
      "livelossplot                  0.5.5\n",
      "llvmlite                      0.43.0\n",
      "locket                        1.0.0\n",
      "lxml                          4.9.1\n",
      "lz4                           3.1.3\n",
      "Mako                          1.3.9\n",
      "Markdown                      3.3.4\n",
      "markdown-it-py                3.0.0\n",
      "MarkupSafe                    2.0.1\n",
      "marshmallow                   3.26.1\n",
      "matplotlib                    3.5.2\n",
      "matplotlib-inline             0.1.6\n",
      "matter-atlas                  0.0.1                   /cephfs/volumes/hpc_home/k23070952/a774a32b-b8f8-42f8-b661-406a5dd49fd8/MultiFidelity-ProcessOpt/Perovskites/atlas\n",
      "matter-chimera                1.0\n",
      "matter-golem                  1.0\n",
      "mccabe                        0.7.0\n",
      "mdurl                         0.1.2\n",
      "mf2                           2022.6.0\n",
      "mistune                       0.8.4\n",
      "mkl-fft                       1.3.1\n",
      "mkl-random                    1.2.2\n",
      "mkl-service                   2.4.0\n",
      "ml-dtypes                     0.2.0\n",
      "mock                          4.0.3\n",
      "mpmath                        1.2.1\n",
      "msgpack                       1.0.3\n",
      "multidict                     6.1.0\n",
      "multipledispatch              0.6.0\n",
      "munkres                       1.1.4\n",
      "mypy-extensions               0.4.3\n",
      "namex                         0.0.8\n",
      "navigator-updater             0.3.0\n",
      "nbclassic                     0.3.5\n",
      "nbclient                      0.5.13\n",
      "nbconvert                     6.4.4\n",
      "nbformat                      5.5.0\n",
      "nest-asyncio                  1.5.5\n",
      "networkx                      2.8.4\n",
      "nltk                          3.7\n",
      "nose                          1.3.7\n",
      "notebook                      6.4.12\n",
      "numba                         0.60.0\n",
      "numexpr                       2.8.3\n",
      "numpoly                       1.3.4\n",
      "numpy                         1.26.4\n",
      "numpydoc                      1.4.0\n",
      "nvidia-cublas-cu12            12.4.5.8\n",
      "nvidia-cuda-cupti-cu12        12.4.127\n",
      "nvidia-cuda-nvrtc-cu12        12.4.127\n",
      "nvidia-cuda-runtime-cu12      12.4.127\n",
      "nvidia-cudnn-cu12             9.1.0.70\n",
      "nvidia-cufft-cu12             11.2.1.3\n",
      "nvidia-curand-cu12            10.3.5.147\n",
      "nvidia-cusolver-cu12          11.6.1.9\n",
      "nvidia-cusparse-cu12          12.3.1.170\n",
      "nvidia-ml-py                  12.560.30\n",
      "nvidia-nccl-cu12              2.21.5\n",
      "nvidia-nvjitlink-cu12         12.4.127\n",
      "nvidia-nvtx-cu12              12.4.127\n",
      "oauthlib                      3.2.2\n",
      "olefile                       0.46\n",
      "olympus                       0+untagged.166.gdef3dda /cephfs/volumes/hpc_home/k23070952/a774a32b-b8f8-42f8-b661-406a5dd49fd8/MultiFidelity-ProcessOpt/Perovskites/olympus\n",
      "openpyxl                      3.0.10\n",
      "opt_einsum                    3.4.0\n",
      "optree                        0.13.1\n",
      "optuna                        4.2.1\n",
      "orjson                        3.10.15\n",
      "packaging                     24.2\n",
      "pandas                        2.0.3\n",
      "pandocfilters                 1.5.0\n",
      "panel                         0.13.1\n",
      "param                         1.12.0\n",
      "paramz                        0.9.6\n",
      "parsel                        1.6.0\n",
      "parso                         0.8.3\n",
      "partd                         1.2.0\n",
      "pathlib                       1.0.1\n",
      "pathspec                      0.9.0\n",
      "patsy                         0.5.2\n",
      "pep8                          1.7.1\n",
      "pexpect                       4.8.0\n",
      "pickle-mixin                  1.0.2\n",
      "pickleshare                   0.7.5\n",
      "Pillow                        9.2.0\n",
      "Pint                          0.24.4\n",
      "pip                           25.0\n",
      "pkginfo                       1.8.2\n",
      "platformdirs                  2.5.2\n",
      "plotly                        5.9.0\n",
      "pluggy                        1.0.0\n",
      "ply                           3.11\n",
      "poyo                          0.5.0\n",
      "prometheus-client             0.14.1\n",
      "promise                       2.3\n",
      "prompt-toolkit                3.0.20\n",
      "propcache                     0.2.0\n",
      "Protego                       0.1.16\n",
      "protobuf                      3.20.3\n",
      "psutil                        5.9.0\n",
      "ptyprocess                    0.7.0\n",
      "py                            1.11.0\n",
      "pyaml                         25.1.0\n",
      "pyasn1                        0.4.8\n",
      "pyasn1-modules                0.2.8\n",
      "pycodestyle                   2.8.0\n",
      "pycosat                       0.6.3\n",
      "pycparser                     2.21\n",
      "pyct                          0.4.8\n",
      "pycurl                        7.45.1\n",
      "pydantic                      2.10.6\n",
      "pydantic_core                 2.27.2\n",
      "pydantic-settings             2.8.1\n",
      "PyDispatcher                  2.0.5\n",
      "pydocstyle                    6.1.1\n",
      "pyDOE                         0.3.8\n",
      "pyerfa                        2.0.0\n",
      "pyflakes                      2.4.0\n",
      "pyglet                        2.1.3\n",
      "Pygments                      2.18.0\n",
      "PyHamcrest                    2.0.2\n",
      "PyJWT                         2.4.0\n",
      "pylint                        2.14.5\n",
      "pyls-spyder                   0.4.0\n",
      "pymoo                         0.6.1.3\n",
      "pyodbc                        4.0.34\n",
      "pyOpenSSL                     22.0.0\n",
      "pyparsing                     3.0.9\n",
      "PyQt5-sip                     12.11.0\n",
      "pyro-api                      0.1.2\n",
      "pyro-ppl                      1.9.1\n",
      "pyrsistent                    0.18.0\n",
      "PySocks                       1.7.1\n",
      "pytest                        7.1.2\n",
      "pytest-cov                    6.1.1\n",
      "python-dateutil               2.8.2\n",
      "python-dotenv                 1.0.1\n",
      "python-lsp-black              1.2.1\n",
      "python-lsp-jsonrpc            1.0.0\n",
      "python-lsp-server             1.5.0\n",
      "python-slugify                5.0.2\n",
      "python-snappy                 0.6.0\n",
      "pytz                          2022.1\n",
      "pyviz-comms                   2.0.2\n",
      "PyWavelets                    1.3.0\n",
      "pyxdg                         0.27\n",
      "PyYAML                        6.0\n",
      "pyzmq                         23.2.0\n",
      "QDarkStyle                    3.0.2\n",
      "qstylizer                     0.1.10\n",
      "QtAwesome                     1.0.3\n",
      "qtconsole                     5.3.2\n",
      "QtPy                          2.2.0\n",
      "queuelib                      1.5.0\n",
      "rdkit                         2024.3.6\n",
      "regex                         2022.7.9\n",
      "requests                      2.28.1\n",
      "requests-file                 1.5.1\n",
      "requests-oauthlib             2.0.0\n",
      "requests-toolbelt             1.0.0\n",
      "rich                          13.9.4\n",
      "rope                          0.22.0\n",
      "rsa                           4.9\n",
      "Rtree                         0.9.7\n",
      "ruamel-yaml-conda             0.15.100\n",
      "s3transfer                    0.6.0\n",
      "safetensors                   0.4.5\n",
      "scikit-image                  0.19.2\n",
      "scikit-learn                  1.0.2\n",
      "scikit-learn-intelex          2021.20221004.171807\n",
      "scikit-optimize               0.10.2\n",
      "scipy                         1.12.0\n",
      "Scrapy                        2.6.2\n",
      "seaborn                       0.11.2\n",
      "SecretStorage                 3.3.1\n",
      "Send2Trash                    1.8.0\n",
      "sentence-transformers         3.4.1\n",
      "service-identity              18.1.0\n",
      "setuptools                    63.4.1\n",
      "silence-tensorflow            1.2.3\n",
      "sip                           6.6.2\n",
      "six                           1.16.0\n",
      "smart-open                    5.2.1\n",
      "SmilesPE                      0.0.3\n",
      "sniffio                       1.2.0\n",
      "snowballstemmer               2.2.0\n",
      "sobol-seq                     0.2.0\n",
      "sortedcollections             2.1.0\n",
      "sortedcontainers              2.4.0\n",
      "soupsieve                     2.3.1\n",
      "Sphinx                        5.0.2\n",
      "sphinxcontrib-applehelp       1.0.2\n",
      "sphinxcontrib-devhelp         1.0.2\n",
      "sphinxcontrib-htmlhelp        2.0.0\n",
      "sphinxcontrib-jsmath          1.0.1\n",
      "sphinxcontrib-qthelp          1.0.3\n",
      "sphinxcontrib-serializinghtml 1.1.5\n",
      "spyder                        5.3.3\n",
      "spyder-kernels                2.3.3\n",
      "SQLAlchemy                    1.4.45\n",
      "statsmodels                   0.13.2\n",
      "sympy                         1.13.1\n",
      "tables                        3.6.1\n",
      "tabulate                      0.8.10\n",
      "TBB                           0.2\n",
      "tblib                         1.7.0\n",
      "tenacity                      9.0.0\n",
      "tensorboard                   2.15.2\n",
      "tensorboard-data-server       0.7.2\n",
      "tensorboard-plugin-wit        1.8.1\n",
      "tensorflow                    2.15.0\n",
      "tensorflow-datasets           4.9.3\n",
      "tensorflow-estimator          2.15.0\n",
      "tensorflow-gpu                2.11.0\n",
      "tensorflow-io-gcs-filesystem  0.37.1\n",
      "tensorflow-metadata           1.17.1\n",
      "tensorflow-probability        0.23.0\n",
      "termcolor                     2.5.0\n",
      "terminado                     0.13.1\n",
      "testpath                      0.6.0\n",
      "text-unidecode                1.3\n",
      "textdistance                  4.2.1\n",
      "thermo                        0.4.1\n",
      "thermosteam                   0.51.1\n",
      "threadpoolctl                 3.6.0\n",
      "three-merge                   0.1.1\n",
      "tifffile                      2021.7.2\n",
      "tinycss                       0.4\n",
      "tldextract                    3.2.0\n",
      "tokenizers                    0.21.1\n",
      "toml                          0.10.2\n",
      "tomli                         2.0.1\n",
      "tomlkit                       0.11.1\n",
      "toolz                         0.11.2\n",
      "torch                         2.5.1\n",
      "torch-geometric               2.6.1\n",
      "tornado                       6.1\n",
      "tqdm                          4.64.1\n",
      "traitlets                     5.1.1\n",
      "transformers                  4.49.0\n",
      "triton                        3.1.0\n",
      "Twisted                       22.2.0\n",
      "typeguard                     2.13.3\n",
      "typing_extensions             4.12.2\n",
      "typing-inspect                0.9.0\n",
      "tzdata                        2024.2\n",
      "ujson                         5.4.0\n",
      "Unidecode                     1.2.0\n",
      "urllib3                       1.26.11\n",
      "w3lib                         1.21.0\n",
      "watchdog                      2.1.6\n",
      "wcwidth                       0.2.5\n",
      "webencodings                  0.5.1\n",
      "websocket-client              0.58.0\n",
      "Werkzeug                      2.0.3\n",
      "whatthepatch                  1.0.2\n",
      "wheel                         0.37.1\n",
      "widgetsnbextension            3.5.2\n",
      "wrapt                         1.14.1\n",
      "wurlitzer                     3.0.2\n",
      "xarray                        0.20.1\n",
      "xgboost                       2.1.4\n",
      "xlrd                          2.0.1\n",
      "XlsxWriter                    3.0.3\n",
      "yapf                          0.31.0\n",
      "yarl                          1.18.0\n",
      "zict                          2.1.0\n",
      "zipp                          3.8.0\n",
      "zope.interface                5.4.0\n",
      "zstandard                     0.23.0\n",
      "Note: you may need to restart the kernel to use updated packages.\n"
     ]
    }
   ],
   "source": [
    "pip list"
   ]
  },
  {
   "cell_type": "code",
   "execution_count": 2,
   "metadata": {},
   "outputs": [],
   "source": [
    "from olympus import Surface, Campaign\n",
    "from atlas.planners.gp.planner import GPPlanner"
   ]
  },
  {
   "cell_type": "code",
   "execution_count": 3,
   "metadata": {},
   "outputs": [],
   "source": [
    "from olympus.datasets import Dataset"
   ]
  },
  {
   "cell_type": "code",
   "execution_count": 4,
   "metadata": {},
   "outputs": [],
   "source": [
    "#!/usr/bin/env python\n",
    "\n",
    "import json\n",
    "import pickle\n",
    "import numpy as np\n",
    "import pandas as pd\n",
    "from copy import deepcopy\n",
    "\n",
    "from olympus.datasets import Dataset\n",
    "from olympus.objects import (\n",
    "\tParameterContinuous,\n",
    "\tParameterDiscrete, \n",
    "\tParameterCategorical, \n",
    "\tParameterVector\n",
    ")\n",
    "from olympus.campaigns import ParameterSpace, Campaign\n",
    "\n",
    "from atlas.planners.multi_fidelity.planner import MultiFidelityPlanner\n",
    "\n"
   ]
  },
  {
   "cell_type": "code",
   "execution_count": 19,
   "metadata": {},
   "outputs": [],
   "source": [
    "# config\n",
    "dataset = Dataset(kind='perovskites')\n",
    "NUM_RUNS = 2\n",
    "# BUDGET = 30\n",
    "COST_BUDGET = 50 # 200.\n",
    "NUM_INIT_DESIGN = 10\n",
    "NUM_CHEAP = 8\n",
    "\n",
    "# lookup table\n",
    "# organic --> cation --> anion --> bandgap_hse06/bandgap_gga\n",
    "LOOKUP = pickle.load(open('0.Data/lookup_table.pkl', 'rb'))\n",
    "# print(lookup.keys())\n",
    "# print(lookup['Ethylammonium']['Ge']['F'].keys())\n",
    "\n"
   ]
  },
  {
   "cell_type": "code",
   "execution_count": 20,
   "metadata": {},
   "outputs": [
    {
     "data": {
      "text/plain": [
       "<olympus.campaigns.param_space.ParameterSpace at 0x7e4e3abd0b20>"
      ]
     },
     "execution_count": 20,
     "metadata": {},
     "output_type": "execute_result"
    }
   ],
   "source": [
    "dataset.param_space"
   ]
  },
  {
   "cell_type": "code",
   "execution_count": 21,
   "metadata": {},
   "outputs": [],
   "source": [
    "\n",
    "def build_options_descriptors(json_file):\n",
    "\twith open(json_file, 'r') as f:\n",
    "\t\tcontent = json.load(f)\n",
    "\n",
    "\toptions = list(content.keys())\n",
    "\tdescriptors = [list(content[opt].values()) for opt in options]\n",
    "\n",
    "\treturn options, descriptors\n",
    "\n",
    "def measure(params, s):\n",
    "\t# high-fidelity is hse06, low-fidelity is gga\n",
    "\tif s == 1.0:\n",
    "\t\tmeasurement = np.amin(\n",
    "\t\t\tLOOKUP[params.organic.capitalize()][params.cation][params.anion]['bandgap_hse06']\n",
    "\t\t)\n",
    "\telif s == 0.1:\n",
    "\t\tmeasurement = np.amin(\n",
    "\t\t\tLOOKUP[params.organic.capitalize()][params.cation][params.anion]['bandgap_gga']\n",
    "\t\t)\n",
    "\treturn measurement\n",
    "\n",
    "def get_min_hse06_bandgap(param_space):\n",
    "\torganic_options = [o.capitalize() for o in param_space[1].options]\n",
    "\tcation_options = [o.capitalize() for o in param_space[2].options]\n",
    "\tanion_options = [o.capitalize() for o in param_space[3].options]\n",
    "\n",
    "\thse06_bandgaps = []\n",
    "\tfor organic_option in organic_options:\n",
    "\t\tfor cation_option in cation_options:\n",
    "\t\t\tfor anion_option in anion_options:\n",
    "\t\t\t\thse06_bandgaps.append(\n",
    "\t\t\t\t\tnp.amin(\n",
    "\t\t\t\t\t\tLOOKUP[organic_option][cation_option][anion_option]['bandgap_hse06']\n",
    "\t\t\t\t\t)\n",
    "\t\t\t\t)\n",
    "\tmin_hse06_bandgap = np.amin(hse06_bandgaps)\n",
    "\treturn min_hse06_bandgap\n",
    "\n",
    "def compute_cost(params):\n",
    "\tcosts = params[:,0].astype(float)\n",
    "\treturn np.sum(costs)\n",
    "\n"
   ]
  },
  {
   "cell_type": "code",
   "execution_count": 22,
   "metadata": {},
   "outputs": [
    {
     "name": "stdout",
     "output_type": "stream",
     "text": [
      "Categorical (name='organic', num_opts: 16, options=['ethylammonium', 'propylammonium', 'butylammonium', 'isopropylammonium', 'dimethylammonium', 'acetamidinium', 'methylammonium', 'guanidinium', 'hydroxylammonium', 'formamidinium', 'tetramethylammonium', 'hydrazinium', 'ammonium', 'trimethylammonium', 'azetidinium', 'imidazolium'], descriptors=[[-0.460099995136261, -0.2239799946546554, 1.3964999914169312, -1.8414201736450195, 1.2615654468536377, 69.08699798583984], [-0.460099995136261, -0.2239799946546554, 1.3964999914169312, -1.8414201736450195, 1.2615654468536377, 69.08699798583984], [-0.460099995136261, -0.2239799946546554, 1.3964999914169312, -1.8414201736450195, 1.2615654468536377, 69.08699798583984], [-0.460099995136261, -0.2239799946546554, 1.3964999914169312, -1.8414201736450195, 1.2615654468536377, 69.08699798583984], [-0.460099995136261, -0.2239799946546554, 1.3964999914169312, -1.8414201736450195, 1.2615654468536377, 69.08699798583984], [-0.460099995136261, -0.2239799946546554, 1.3964999914169312, -1.8414201736450195, 1.2615654468536377, 69.08699798583984], [-0.460099995136261, -0.2239799946546554, 1.3964999914169312, -1.8414201736450195, 1.2615654468536377, 69.08699798583984], [-0.460099995136261, -0.2239799946546554, 1.3964999914169312, -1.8414201736450195, 1.2615654468536377, 69.08699798583984], [-0.460099995136261, -0.2239799946546554, 1.3964999914169312, -1.8414201736450195, 1.2615654468536377, 69.08699798583984], [-0.460099995136261, -0.2239799946546554, 1.3964999914169312, -1.8414201736450195, 1.2615654468536377, 69.08699798583984], [-0.460099995136261, -0.2239799946546554, 1.3964999914169312, -1.8414201736450195, 1.2615654468536377, 69.08699798583984], [-0.460099995136261, -0.2239799946546554, 1.3964999914169312, -1.8414201736450195, 1.2615654468536377, 69.08699798583984], [-0.460099995136261, -0.2239799946546554, 1.3964999914169312, -1.8414201736450195, 1.2615654468536377, 69.08699798583984], [-0.460099995136261, -0.2239799946546554, 1.3964999914169312, -1.8414201736450195, 1.2615654468536377, 69.08699798583984], [-0.460099995136261, -0.2239799946546554, 1.3964999914169312, -1.8414201736450195, 1.2615654468536377, 69.08699798583984], [-0.460099995136261, -0.2239799946546554, 1.3964999914169312, -1.8414201736450195, 1.2615654468536377, 69.08699798583984]])\n",
      "Categorical (name='cation', num_opts: 3, options=['Ge', 'Sn', 'Pb'], descriptors=[[0.3567430078983307, 7.416659832000732, 207.1999969482422, 1.899999976158142], [0.3567430078983307, 7.416659832000732, 207.1999969482422, 1.899999976158142], [0.3567430078983307, 7.416659832000732, 207.1999969482422, 1.899999976158142]])\n",
      "Categorical (name='anion', num_opts: 4, options=['F', 'Cl', 'Br', 'I'], descriptors=[[3.059046030044556, 10.45125961303711, 126.9000015258789, 2.5], [3.059046030044556, 10.45125961303711, 126.9000015258789, 2.5], [3.059046030044556, 10.45125961303711, 126.9000015258789, 2.5], [3.059046030044556, 10.45125961303711, 126.9000015258789, 2.5]])\n",
      "MIN HSE06 BANDGAP :  1.5249\n"
     ]
    }
   ],
   "source": [
    "\n",
    "# build parameter space\n",
    "param_space = ParameterSpace()\n",
    "\n",
    "# fidelity param\n",
    "param_space.add(ParameterDiscrete(name='s', options=[0.1, 1.0], low=0.1, high=1.0))\n",
    "for param in dataset.param_space: # add perovskite component parameters ('organic', 'cation', and 'anion')\n",
    "\tprint(param)\n",
    "\tparam_space.add(param)\n",
    "\n",
    "\n",
    "all_data = []\n",
    "min_hse06_bandgap = get_min_hse06_bandgap(param_space)\n",
    "print('MIN HSE06 BANDGAP : ', min_hse06_bandgap)\n",
    "# >>> MIN HSE06 BANDGAP :  1.5249\n",
    "# hydrazinium\tSn\tI\n",
    "\n"
   ]
  },
  {
   "cell_type": "code",
   "execution_count": 23,
   "metadata": {},
   "outputs": [
    {
     "data": {
      "text/html": [
       "<pre style=\"white-space:pre;overflow-x:auto;line-height:normal;font-family:Menlo,'DejaVu Sans Mono',consolas,'Courier New',monospace\"><span style=\"color: #051923; text-decoration-color: #051923\">───────────────────────────────────────────────────────────────────────────────────────────────────────────────────</span>\n",
       "</pre>\n"
      ],
      "text/plain": [
       "\u001b[38;2;5;25;35m───────────────────────────────────────────────────────────────────────────────────────────────────────────────────\u001b[0m\n"
      ]
     },
     "metadata": {},
     "output_type": "display_data"
    },
    {
     "data": {
      "text/html": [
       "<pre style=\"white-space:pre;overflow-x:auto;line-height:normal;font-family:Menlo,'DejaVu Sans Mono',consolas,'Courier New',monospace\"><span style=\"color: #05a6fb; text-decoration-color: #05a6fb; font-weight: bold\">                                                                                                                   </span>\n",
       "<span style=\"color: #05a6fb; text-decoration-color: #05a6fb; font-weight: bold\">                                                 Welcome to ATLAS!                                                 </span>\n",
       "</pre>\n"
      ],
      "text/plain": [
       "\u001b[1;38;2;5;166;251m                                                 \u001b[0m\u001b[1;38;2;5;166;251m                 \u001b[0m\u001b[1;38;2;5;166;251m                                                 \u001b[0m\n",
       "\u001b[1;38;2;5;166;251m                                                 \u001b[0m\u001b[1;38;2;5;166;251mWelcome to ATLAS!\u001b[0m\u001b[1;38;2;5;166;251m                                                 \u001b[0m\n"
      ]
     },
     "metadata": {},
     "output_type": "display_data"
    },
    {
     "data": {
      "text/html": [
       "<pre style=\"white-space:pre;overflow-x:auto;line-height:normal;font-family:Menlo,'DejaVu Sans Mono',consolas,'Courier New',monospace\"><span style=\"color: #006494; text-decoration-color: #006494\">                                                Made with 💕 in 🇨🇦                                                 </span>\n",
       "<span style=\"color: #006494; text-decoration-color: #006494\">                                                                                                                   </span>\n",
       "</pre>\n"
      ],
      "text/plain": [
       "\u001b[38;2;0;100;148m                                                \u001b[0m\u001b[38;2;0;100;148mMade with 💕 in 🇨🇦\u001b[0m\u001b[38;2;0;100;148m                                                 \u001b[0m\n",
       "\u001b[38;2;0;100;148m                                                \u001b[0m\u001b[38;2;0;100;148m                  \u001b[0m\u001b[38;2;0;100;148m                                                 \u001b[0m\n"
      ]
     },
     "metadata": {},
     "output_type": "display_data"
    },
    {
     "data": {
      "text/html": [
       "<pre style=\"white-space:pre;overflow-x:auto;line-height:normal;font-family:Menlo,'DejaVu Sans Mono',consolas,'Courier New',monospace\"><span style=\"color: #051923; text-decoration-color: #051923\">───────────────────────────────────────────────────────────────────────────────────────────────────────────────────</span>\n",
       "</pre>\n"
      ],
      "text/plain": [
       "\u001b[38;2;5;25;35m───────────────────────────────────────────────────────────────────────────────────────────────────────────────────\u001b[0m\n"
      ]
     },
     "metadata": {},
     "output_type": "display_data"
    },
    {
     "data": {
      "text/html": [
       "<pre style=\"white-space:pre;overflow-x:auto;line-height:normal;font-family:Menlo,'DejaVu Sans Mono',consolas,'Courier New',monospace\"><span style=\"color: #05a6fb; text-decoration-color: #05a6fb\">───────────────────────────── Initial design phase ─────────────────────────────</span>\n",
       "</pre>\n"
      ],
      "text/plain": [
       "\u001b[38;2;5;166;251m───────────────────────────── Initial design phase ─────────────────────────────\u001b[0m\n"
      ]
     },
     "metadata": {},
     "output_type": "display_data"
    },
    {
     "name": "stdout",
     "output_type": "stream",
     "text": [
      "\n",
      "RUN : 1/2\tITER : 1\tCOST : 0.0\n",
      "\n"
     ]
    },
    {
     "data": {
      "text/html": [
       "<pre style=\"white-space:pre;overflow-x:auto;line-height:normal;font-family:Menlo,'DejaVu Sans Mono',consolas,'Courier New',monospace\"><span style=\"color: #f4a261; text-decoration-color: #f4a261\">ATLAS </span><span style=\"color: #f4a261; text-decoration-color: #f4a261; font-weight: bold\">[</span><span style=\"color: #f4a261; text-decoration-color: #f4a261\">WARNING</span><span style=\"color: #f4a261; text-decoration-color: #f4a261; font-weight: bold\">]</span><span style=\"color: #f4a261; text-decoration-color: #f4a261\"> Setting ask fidelity level to </span><span style=\"color: #008080; text-decoration-color: #008080; font-weight: bold\">1.0</span>\n",
       "</pre>\n"
      ],
      "text/plain": [
       "\u001b[38;2;244;162;97mATLAS \u001b[0m\u001b[1;38;2;244;162;97m[\u001b[0m\u001b[38;2;244;162;97mWARNING\u001b[0m\u001b[1;38;2;244;162;97m]\u001b[0m\u001b[38;2;244;162;97m Setting ask fidelity level to \u001b[0m\u001b[1;36m1.0\u001b[0m\n"
      ]
     },
     "metadata": {},
     "output_type": "display_data"
    },
    {
     "data": {
      "text/html": [
       "<pre style=\"white-space:pre;overflow-x:auto;line-height:normal;font-family:Menlo,'DejaVu Sans Mono',consolas,'Courier New',monospace\">ATLAS <span style=\"font-weight: bold\">[</span>INFO<span style=\"font-weight: bold\">]</span> Generating <span style=\"color: #008080; text-decoration-color: #008080; font-weight: bold\">1</span> initial design points <span style=\"font-weight: bold\">(</span>batch <span style=\"color: #008080; text-decoration-color: #008080; font-weight: bold\">1</span>/<span style=\"color: #008080; text-decoration-color: #008080; font-weight: bold\">10</span><span style=\"font-weight: bold\">)</span>\n",
       "</pre>\n"
      ],
      "text/plain": [
       "ATLAS \u001b[1m[\u001b[0mINFO\u001b[1m]\u001b[0m Generating \u001b[1;36m1\u001b[0m initial design points \u001b[1m(\u001b[0mbatch \u001b[1;36m1\u001b[0m/\u001b[1;36m10\u001b[0m\u001b[1m)\u001b[0m\n"
      ]
     },
     "metadata": {},
     "output_type": "display_data"
    },
    {
     "name": "stdout",
     "output_type": "stream",
     "text": [
      "SAMPLE :  ParamVector(s = 1.0, organic = formamidinium, cation = Pb, anion = F)\n",
      "MEASUREMENT :  4.8007\n",
      "\n",
      "RUN : 1/2\tITER : 2\tCOST : 1.0\n",
      "\n"
     ]
    },
    {
     "data": {
      "text/html": [
       "<pre style=\"white-space:pre;overflow-x:auto;line-height:normal;font-family:Menlo,'DejaVu Sans Mono',consolas,'Courier New',monospace\"><span style=\"color: #f4a261; text-decoration-color: #f4a261\">ATLAS </span><span style=\"color: #f4a261; text-decoration-color: #f4a261; font-weight: bold\">[</span><span style=\"color: #f4a261; text-decoration-color: #f4a261\">WARNING</span><span style=\"color: #f4a261; text-decoration-color: #f4a261; font-weight: bold\">]</span><span style=\"color: #f4a261; text-decoration-color: #f4a261\"> Setting ask fidelity level to </span><span style=\"color: #008080; text-decoration-color: #008080; font-weight: bold\">0.1</span>\n",
       "</pre>\n"
      ],
      "text/plain": [
       "\u001b[38;2;244;162;97mATLAS \u001b[0m\u001b[1;38;2;244;162;97m[\u001b[0m\u001b[38;2;244;162;97mWARNING\u001b[0m\u001b[1;38;2;244;162;97m]\u001b[0m\u001b[38;2;244;162;97m Setting ask fidelity level to \u001b[0m\u001b[1;36m0.1\u001b[0m\n"
      ]
     },
     "metadata": {},
     "output_type": "display_data"
    },
    {
     "data": {
      "text/html": [
       "<pre style=\"white-space:pre;overflow-x:auto;line-height:normal;font-family:Menlo,'DejaVu Sans Mono',consolas,'Courier New',monospace\">ATLAS <span style=\"font-weight: bold\">[</span>INFO<span style=\"font-weight: bold\">]</span> Generating <span style=\"color: #008080; text-decoration-color: #008080; font-weight: bold\">1</span> initial design points <span style=\"font-weight: bold\">(</span>batch <span style=\"color: #008080; text-decoration-color: #008080; font-weight: bold\">2</span>/<span style=\"color: #008080; text-decoration-color: #008080; font-weight: bold\">10</span><span style=\"font-weight: bold\">)</span>\n",
       "</pre>\n"
      ],
      "text/plain": [
       "ATLAS \u001b[1m[\u001b[0mINFO\u001b[1m]\u001b[0m Generating \u001b[1;36m1\u001b[0m initial design points \u001b[1m(\u001b[0mbatch \u001b[1;36m2\u001b[0m/\u001b[1;36m10\u001b[0m\u001b[1m)\u001b[0m\n"
      ]
     },
     "metadata": {},
     "output_type": "display_data"
    },
    {
     "name": "stdout",
     "output_type": "stream",
     "text": [
      "SAMPLE :  ParamVector(s = 0.1, organic = azetidinium, cation = Sn, anion = I)\n",
      "MEASUREMENT :  1.0252\n",
      "\n",
      "RUN : 1/2\tITER : 3\tCOST : 1.1\n",
      "\n"
     ]
    },
    {
     "data": {
      "text/html": [
       "<pre style=\"white-space:pre;overflow-x:auto;line-height:normal;font-family:Menlo,'DejaVu Sans Mono',consolas,'Courier New',monospace\"><span style=\"color: #f4a261; text-decoration-color: #f4a261\">ATLAS </span><span style=\"color: #f4a261; text-decoration-color: #f4a261; font-weight: bold\">[</span><span style=\"color: #f4a261; text-decoration-color: #f4a261\">WARNING</span><span style=\"color: #f4a261; text-decoration-color: #f4a261; font-weight: bold\">]</span><span style=\"color: #f4a261; text-decoration-color: #f4a261\"> Setting ask fidelity level to </span><span style=\"color: #008080; text-decoration-color: #008080; font-weight: bold\">0.1</span>\n",
       "</pre>\n"
      ],
      "text/plain": [
       "\u001b[38;2;244;162;97mATLAS \u001b[0m\u001b[1;38;2;244;162;97m[\u001b[0m\u001b[38;2;244;162;97mWARNING\u001b[0m\u001b[1;38;2;244;162;97m]\u001b[0m\u001b[38;2;244;162;97m Setting ask fidelity level to \u001b[0m\u001b[1;36m0.1\u001b[0m\n"
      ]
     },
     "metadata": {},
     "output_type": "display_data"
    },
    {
     "data": {
      "text/html": [
       "<pre style=\"white-space:pre;overflow-x:auto;line-height:normal;font-family:Menlo,'DejaVu Sans Mono',consolas,'Courier New',monospace\">ATLAS <span style=\"font-weight: bold\">[</span>INFO<span style=\"font-weight: bold\">]</span> Generating <span style=\"color: #008080; text-decoration-color: #008080; font-weight: bold\">1</span> initial design points <span style=\"font-weight: bold\">(</span>batch <span style=\"color: #008080; text-decoration-color: #008080; font-weight: bold\">3</span>/<span style=\"color: #008080; text-decoration-color: #008080; font-weight: bold\">10</span><span style=\"font-weight: bold\">)</span>\n",
       "</pre>\n"
      ],
      "text/plain": [
       "ATLAS \u001b[1m[\u001b[0mINFO\u001b[1m]\u001b[0m Generating \u001b[1;36m1\u001b[0m initial design points \u001b[1m(\u001b[0mbatch \u001b[1;36m3\u001b[0m/\u001b[1;36m10\u001b[0m\u001b[1m)\u001b[0m\n"
      ]
     },
     "metadata": {},
     "output_type": "display_data"
    },
    {
     "name": "stdout",
     "output_type": "stream",
     "text": [
      "SAMPLE :  ParamVector(s = 0.1, organic = propylammonium, cation = Pb, anion = Br)\n",
      "MEASUREMENT :  2.1145\n",
      "\n",
      "RUN : 1/2\tITER : 4\tCOST : 1.2000000000000002\n",
      "\n"
     ]
    },
    {
     "data": {
      "text/html": [
       "<pre style=\"white-space:pre;overflow-x:auto;line-height:normal;font-family:Menlo,'DejaVu Sans Mono',consolas,'Courier New',monospace\"><span style=\"color: #f4a261; text-decoration-color: #f4a261\">ATLAS </span><span style=\"color: #f4a261; text-decoration-color: #f4a261; font-weight: bold\">[</span><span style=\"color: #f4a261; text-decoration-color: #f4a261\">WARNING</span><span style=\"color: #f4a261; text-decoration-color: #f4a261; font-weight: bold\">]</span><span style=\"color: #f4a261; text-decoration-color: #f4a261\"> Setting ask fidelity level to </span><span style=\"color: #008080; text-decoration-color: #008080; font-weight: bold\">0.1</span>\n",
       "</pre>\n"
      ],
      "text/plain": [
       "\u001b[38;2;244;162;97mATLAS \u001b[0m\u001b[1;38;2;244;162;97m[\u001b[0m\u001b[38;2;244;162;97mWARNING\u001b[0m\u001b[1;38;2;244;162;97m]\u001b[0m\u001b[38;2;244;162;97m Setting ask fidelity level to \u001b[0m\u001b[1;36m0.1\u001b[0m\n"
      ]
     },
     "metadata": {},
     "output_type": "display_data"
    },
    {
     "data": {
      "text/html": [
       "<pre style=\"white-space:pre;overflow-x:auto;line-height:normal;font-family:Menlo,'DejaVu Sans Mono',consolas,'Courier New',monospace\">ATLAS <span style=\"font-weight: bold\">[</span>INFO<span style=\"font-weight: bold\">]</span> Generating <span style=\"color: #008080; text-decoration-color: #008080; font-weight: bold\">1</span> initial design points <span style=\"font-weight: bold\">(</span>batch <span style=\"color: #008080; text-decoration-color: #008080; font-weight: bold\">4</span>/<span style=\"color: #008080; text-decoration-color: #008080; font-weight: bold\">10</span><span style=\"font-weight: bold\">)</span>\n",
       "</pre>\n"
      ],
      "text/plain": [
       "ATLAS \u001b[1m[\u001b[0mINFO\u001b[1m]\u001b[0m Generating \u001b[1;36m1\u001b[0m initial design points \u001b[1m(\u001b[0mbatch \u001b[1;36m4\u001b[0m/\u001b[1;36m10\u001b[0m\u001b[1m)\u001b[0m\n"
      ]
     },
     "metadata": {},
     "output_type": "display_data"
    },
    {
     "name": "stdout",
     "output_type": "stream",
     "text": [
      "SAMPLE :  ParamVector(s = 0.1, organic = trimethylammonium, cation = Ge, anion = Cl)\n",
      "MEASUREMENT :  2.88\n",
      "\n",
      "RUN : 1/2\tITER : 5\tCOST : 1.3000000000000003\n",
      "\n"
     ]
    },
    {
     "data": {
      "text/html": [
       "<pre style=\"white-space:pre;overflow-x:auto;line-height:normal;font-family:Menlo,'DejaVu Sans Mono',consolas,'Courier New',monospace\"><span style=\"color: #f4a261; text-decoration-color: #f4a261\">ATLAS </span><span style=\"color: #f4a261; text-decoration-color: #f4a261; font-weight: bold\">[</span><span style=\"color: #f4a261; text-decoration-color: #f4a261\">WARNING</span><span style=\"color: #f4a261; text-decoration-color: #f4a261; font-weight: bold\">]</span><span style=\"color: #f4a261; text-decoration-color: #f4a261\"> Setting ask fidelity level to </span><span style=\"color: #008080; text-decoration-color: #008080; font-weight: bold\">0.1</span>\n",
       "</pre>\n"
      ],
      "text/plain": [
       "\u001b[38;2;244;162;97mATLAS \u001b[0m\u001b[1;38;2;244;162;97m[\u001b[0m\u001b[38;2;244;162;97mWARNING\u001b[0m\u001b[1;38;2;244;162;97m]\u001b[0m\u001b[38;2;244;162;97m Setting ask fidelity level to \u001b[0m\u001b[1;36m0.1\u001b[0m\n"
      ]
     },
     "metadata": {},
     "output_type": "display_data"
    },
    {
     "data": {
      "text/html": [
       "<pre style=\"white-space:pre;overflow-x:auto;line-height:normal;font-family:Menlo,'DejaVu Sans Mono',consolas,'Courier New',monospace\">ATLAS <span style=\"font-weight: bold\">[</span>INFO<span style=\"font-weight: bold\">]</span> Generating <span style=\"color: #008080; text-decoration-color: #008080; font-weight: bold\">1</span> initial design points <span style=\"font-weight: bold\">(</span>batch <span style=\"color: #008080; text-decoration-color: #008080; font-weight: bold\">5</span>/<span style=\"color: #008080; text-decoration-color: #008080; font-weight: bold\">10</span><span style=\"font-weight: bold\">)</span>\n",
       "</pre>\n"
      ],
      "text/plain": [
       "ATLAS \u001b[1m[\u001b[0mINFO\u001b[1m]\u001b[0m Generating \u001b[1;36m1\u001b[0m initial design points \u001b[1m(\u001b[0mbatch \u001b[1;36m5\u001b[0m/\u001b[1;36m10\u001b[0m\u001b[1m)\u001b[0m\n"
      ]
     },
     "metadata": {},
     "output_type": "display_data"
    },
    {
     "name": "stdout",
     "output_type": "stream",
     "text": [
      "SAMPLE :  ParamVector(s = 0.1, organic = tetramethylammonium, cation = Sn, anion = I)\n",
      "MEASUREMENT :  1.546\n",
      "\n",
      "RUN : 1/2\tITER : 6\tCOST : 1.4000000000000004\n",
      "\n"
     ]
    },
    {
     "data": {
      "text/html": [
       "<pre style=\"white-space:pre;overflow-x:auto;line-height:normal;font-family:Menlo,'DejaVu Sans Mono',consolas,'Courier New',monospace\"><span style=\"color: #f4a261; text-decoration-color: #f4a261\">ATLAS </span><span style=\"color: #f4a261; text-decoration-color: #f4a261; font-weight: bold\">[</span><span style=\"color: #f4a261; text-decoration-color: #f4a261\">WARNING</span><span style=\"color: #f4a261; text-decoration-color: #f4a261; font-weight: bold\">]</span><span style=\"color: #f4a261; text-decoration-color: #f4a261\"> Setting ask fidelity level to </span><span style=\"color: #008080; text-decoration-color: #008080; font-weight: bold\">0.1</span>\n",
       "</pre>\n"
      ],
      "text/plain": [
       "\u001b[38;2;244;162;97mATLAS \u001b[0m\u001b[1;38;2;244;162;97m[\u001b[0m\u001b[38;2;244;162;97mWARNING\u001b[0m\u001b[1;38;2;244;162;97m]\u001b[0m\u001b[38;2;244;162;97m Setting ask fidelity level to \u001b[0m\u001b[1;36m0.1\u001b[0m\n"
      ]
     },
     "metadata": {},
     "output_type": "display_data"
    },
    {
     "data": {
      "text/html": [
       "<pre style=\"white-space:pre;overflow-x:auto;line-height:normal;font-family:Menlo,'DejaVu Sans Mono',consolas,'Courier New',monospace\">ATLAS <span style=\"font-weight: bold\">[</span>INFO<span style=\"font-weight: bold\">]</span> Generating <span style=\"color: #008080; text-decoration-color: #008080; font-weight: bold\">1</span> initial design points <span style=\"font-weight: bold\">(</span>batch <span style=\"color: #008080; text-decoration-color: #008080; font-weight: bold\">6</span>/<span style=\"color: #008080; text-decoration-color: #008080; font-weight: bold\">10</span><span style=\"font-weight: bold\">)</span>\n",
       "</pre>\n"
      ],
      "text/plain": [
       "ATLAS \u001b[1m[\u001b[0mINFO\u001b[1m]\u001b[0m Generating \u001b[1;36m1\u001b[0m initial design points \u001b[1m(\u001b[0mbatch \u001b[1;36m6\u001b[0m/\u001b[1;36m10\u001b[0m\u001b[1m)\u001b[0m\n"
      ]
     },
     "metadata": {},
     "output_type": "display_data"
    },
    {
     "name": "stdout",
     "output_type": "stream",
     "text": [
      "SAMPLE :  ParamVector(s = 0.1, organic = imidazolium, cation = Pb, anion = Cl)\n",
      "MEASUREMENT :  2.5692\n",
      "\n",
      "RUN : 1/2\tITER : 7\tCOST : 1.5000000000000004\n",
      "\n"
     ]
    },
    {
     "data": {
      "text/html": [
       "<pre style=\"white-space:pre;overflow-x:auto;line-height:normal;font-family:Menlo,'DejaVu Sans Mono',consolas,'Courier New',monospace\"><span style=\"color: #f4a261; text-decoration-color: #f4a261\">ATLAS </span><span style=\"color: #f4a261; text-decoration-color: #f4a261; font-weight: bold\">[</span><span style=\"color: #f4a261; text-decoration-color: #f4a261\">WARNING</span><span style=\"color: #f4a261; text-decoration-color: #f4a261; font-weight: bold\">]</span><span style=\"color: #f4a261; text-decoration-color: #f4a261\"> Setting ask fidelity level to </span><span style=\"color: #008080; text-decoration-color: #008080; font-weight: bold\">0.1</span>\n",
       "</pre>\n"
      ],
      "text/plain": [
       "\u001b[38;2;244;162;97mATLAS \u001b[0m\u001b[1;38;2;244;162;97m[\u001b[0m\u001b[38;2;244;162;97mWARNING\u001b[0m\u001b[1;38;2;244;162;97m]\u001b[0m\u001b[38;2;244;162;97m Setting ask fidelity level to \u001b[0m\u001b[1;36m0.1\u001b[0m\n"
      ]
     },
     "metadata": {},
     "output_type": "display_data"
    },
    {
     "data": {
      "text/html": [
       "<pre style=\"white-space:pre;overflow-x:auto;line-height:normal;font-family:Menlo,'DejaVu Sans Mono',consolas,'Courier New',monospace\">ATLAS <span style=\"font-weight: bold\">[</span>INFO<span style=\"font-weight: bold\">]</span> Generating <span style=\"color: #008080; text-decoration-color: #008080; font-weight: bold\">1</span> initial design points <span style=\"font-weight: bold\">(</span>batch <span style=\"color: #008080; text-decoration-color: #008080; font-weight: bold\">7</span>/<span style=\"color: #008080; text-decoration-color: #008080; font-weight: bold\">10</span><span style=\"font-weight: bold\">)</span>\n",
       "</pre>\n"
      ],
      "text/plain": [
       "ATLAS \u001b[1m[\u001b[0mINFO\u001b[1m]\u001b[0m Generating \u001b[1;36m1\u001b[0m initial design points \u001b[1m(\u001b[0mbatch \u001b[1;36m7\u001b[0m/\u001b[1;36m10\u001b[0m\u001b[1m)\u001b[0m\n"
      ]
     },
     "metadata": {},
     "output_type": "display_data"
    },
    {
     "name": "stdout",
     "output_type": "stream",
     "text": [
      "SAMPLE :  ParamVector(s = 0.1, organic = imidazolium, cation = Sn, anion = I)\n",
      "MEASUREMENT :  1.3734\n",
      "\n",
      "RUN : 1/2\tITER : 8\tCOST : 1.6000000000000005\n",
      "\n"
     ]
    },
    {
     "data": {
      "text/html": [
       "<pre style=\"white-space:pre;overflow-x:auto;line-height:normal;font-family:Menlo,'DejaVu Sans Mono',consolas,'Courier New',monospace\"><span style=\"color: #f4a261; text-decoration-color: #f4a261\">ATLAS </span><span style=\"color: #f4a261; text-decoration-color: #f4a261; font-weight: bold\">[</span><span style=\"color: #f4a261; text-decoration-color: #f4a261\">WARNING</span><span style=\"color: #f4a261; text-decoration-color: #f4a261; font-weight: bold\">]</span><span style=\"color: #f4a261; text-decoration-color: #f4a261\"> Setting ask fidelity level to </span><span style=\"color: #008080; text-decoration-color: #008080; font-weight: bold\">0.1</span>\n",
       "</pre>\n"
      ],
      "text/plain": [
       "\u001b[38;2;244;162;97mATLAS \u001b[0m\u001b[1;38;2;244;162;97m[\u001b[0m\u001b[38;2;244;162;97mWARNING\u001b[0m\u001b[1;38;2;244;162;97m]\u001b[0m\u001b[38;2;244;162;97m Setting ask fidelity level to \u001b[0m\u001b[1;36m0.1\u001b[0m\n"
      ]
     },
     "metadata": {},
     "output_type": "display_data"
    },
    {
     "data": {
      "text/html": [
       "<pre style=\"white-space:pre;overflow-x:auto;line-height:normal;font-family:Menlo,'DejaVu Sans Mono',consolas,'Courier New',monospace\">ATLAS <span style=\"font-weight: bold\">[</span>INFO<span style=\"font-weight: bold\">]</span> Generating <span style=\"color: #008080; text-decoration-color: #008080; font-weight: bold\">1</span> initial design points <span style=\"font-weight: bold\">(</span>batch <span style=\"color: #008080; text-decoration-color: #008080; font-weight: bold\">8</span>/<span style=\"color: #008080; text-decoration-color: #008080; font-weight: bold\">10</span><span style=\"font-weight: bold\">)</span>\n",
       "</pre>\n"
      ],
      "text/plain": [
       "ATLAS \u001b[1m[\u001b[0mINFO\u001b[1m]\u001b[0m Generating \u001b[1;36m1\u001b[0m initial design points \u001b[1m(\u001b[0mbatch \u001b[1;36m8\u001b[0m/\u001b[1;36m10\u001b[0m\u001b[1m)\u001b[0m\n"
      ]
     },
     "metadata": {},
     "output_type": "display_data"
    },
    {
     "name": "stdout",
     "output_type": "stream",
     "text": [
      "SAMPLE :  ParamVector(s = 0.1, organic = acetamidinium, cation = Sn, anion = Br)\n",
      "MEASUREMENT :  1.6883\n",
      "\n",
      "RUN : 1/2\tITER : 9\tCOST : 1.7000000000000002\n",
      "\n"
     ]
    },
    {
     "data": {
      "text/html": [
       "<pre style=\"white-space:pre;overflow-x:auto;line-height:normal;font-family:Menlo,'DejaVu Sans Mono',consolas,'Courier New',monospace\"><span style=\"color: #f4a261; text-decoration-color: #f4a261\">ATLAS </span><span style=\"color: #f4a261; text-decoration-color: #f4a261; font-weight: bold\">[</span><span style=\"color: #f4a261; text-decoration-color: #f4a261\">WARNING</span><span style=\"color: #f4a261; text-decoration-color: #f4a261; font-weight: bold\">]</span><span style=\"color: #f4a261; text-decoration-color: #f4a261\"> Setting ask fidelity level to </span><span style=\"color: #008080; text-decoration-color: #008080; font-weight: bold\">1.0</span>\n",
       "</pre>\n"
      ],
      "text/plain": [
       "\u001b[38;2;244;162;97mATLAS \u001b[0m\u001b[1;38;2;244;162;97m[\u001b[0m\u001b[38;2;244;162;97mWARNING\u001b[0m\u001b[1;38;2;244;162;97m]\u001b[0m\u001b[38;2;244;162;97m Setting ask fidelity level to \u001b[0m\u001b[1;36m1.0\u001b[0m\n"
      ]
     },
     "metadata": {},
     "output_type": "display_data"
    },
    {
     "data": {
      "text/html": [
       "<pre style=\"white-space:pre;overflow-x:auto;line-height:normal;font-family:Menlo,'DejaVu Sans Mono',consolas,'Courier New',monospace\">ATLAS <span style=\"font-weight: bold\">[</span>INFO<span style=\"font-weight: bold\">]</span> Generating <span style=\"color: #008080; text-decoration-color: #008080; font-weight: bold\">1</span> initial design points <span style=\"font-weight: bold\">(</span>batch <span style=\"color: #008080; text-decoration-color: #008080; font-weight: bold\">9</span>/<span style=\"color: #008080; text-decoration-color: #008080; font-weight: bold\">10</span><span style=\"font-weight: bold\">)</span>\n",
       "</pre>\n"
      ],
      "text/plain": [
       "ATLAS \u001b[1m[\u001b[0mINFO\u001b[1m]\u001b[0m Generating \u001b[1;36m1\u001b[0m initial design points \u001b[1m(\u001b[0mbatch \u001b[1;36m9\u001b[0m/\u001b[1;36m10\u001b[0m\u001b[1m)\u001b[0m\n"
      ]
     },
     "metadata": {},
     "output_type": "display_data"
    },
    {
     "name": "stdout",
     "output_type": "stream",
     "text": [
      "SAMPLE :  ParamVector(s = 1.0, organic = hydrazinium, cation = Ge, anion = Br)\n",
      "MEASUREMENT :  2.1431\n",
      "\n",
      "RUN : 1/2\tITER : 10\tCOST : 2.7\n",
      "\n"
     ]
    },
    {
     "data": {
      "text/html": [
       "<pre style=\"white-space:pre;overflow-x:auto;line-height:normal;font-family:Menlo,'DejaVu Sans Mono',consolas,'Courier New',monospace\"><span style=\"color: #f4a261; text-decoration-color: #f4a261\">ATLAS </span><span style=\"color: #f4a261; text-decoration-color: #f4a261; font-weight: bold\">[</span><span style=\"color: #f4a261; text-decoration-color: #f4a261\">WARNING</span><span style=\"color: #f4a261; text-decoration-color: #f4a261; font-weight: bold\">]</span><span style=\"color: #f4a261; text-decoration-color: #f4a261\"> Setting ask fidelity level to </span><span style=\"color: #008080; text-decoration-color: #008080; font-weight: bold\">0.1</span>\n",
       "</pre>\n"
      ],
      "text/plain": [
       "\u001b[38;2;244;162;97mATLAS \u001b[0m\u001b[1;38;2;244;162;97m[\u001b[0m\u001b[38;2;244;162;97mWARNING\u001b[0m\u001b[1;38;2;244;162;97m]\u001b[0m\u001b[38;2;244;162;97m Setting ask fidelity level to \u001b[0m\u001b[1;36m0.1\u001b[0m\n"
      ]
     },
     "metadata": {},
     "output_type": "display_data"
    },
    {
     "data": {
      "text/html": [
       "<pre style=\"white-space:pre;overflow-x:auto;line-height:normal;font-family:Menlo,'DejaVu Sans Mono',consolas,'Courier New',monospace\">ATLAS <span style=\"font-weight: bold\">[</span>INFO<span style=\"font-weight: bold\">]</span> Generating <span style=\"color: #008080; text-decoration-color: #008080; font-weight: bold\">1</span> initial design points <span style=\"font-weight: bold\">(</span>batch <span style=\"color: #008080; text-decoration-color: #008080; font-weight: bold\">10</span>/<span style=\"color: #008080; text-decoration-color: #008080; font-weight: bold\">10</span><span style=\"font-weight: bold\">)</span>\n",
       "</pre>\n"
      ],
      "text/plain": [
       "ATLAS \u001b[1m[\u001b[0mINFO\u001b[1m]\u001b[0m Generating \u001b[1;36m1\u001b[0m initial design points \u001b[1m(\u001b[0mbatch \u001b[1;36m10\u001b[0m/\u001b[1;36m10\u001b[0m\u001b[1m)\u001b[0m\n"
      ]
     },
     "metadata": {},
     "output_type": "display_data"
    },
    {
     "name": "stdout",
     "output_type": "stream",
     "text": [
      "SAMPLE :  ParamVector(s = 0.1, organic = azetidinium, cation = Sn, anion = Cl)\n",
      "MEASUREMENT :  1.9365\n",
      "\n",
      "RUN : 1/2\tITER : 11\tCOST : 2.8000000000000003\n",
      "\n"
     ]
    },
    {
     "data": {
      "text/html": [
       "<pre style=\"white-space:pre;overflow-x:auto;line-height:normal;font-family:Menlo,'DejaVu Sans Mono',consolas,'Courier New',monospace\"><span style=\"color: #f4a261; text-decoration-color: #f4a261\">ATLAS </span><span style=\"color: #f4a261; text-decoration-color: #f4a261; font-weight: bold\">[</span><span style=\"color: #f4a261; text-decoration-color: #f4a261\">WARNING</span><span style=\"color: #f4a261; text-decoration-color: #f4a261; font-weight: bold\">]</span><span style=\"color: #f4a261; text-decoration-color: #f4a261\"> Setting ask fidelity level to </span><span style=\"color: #008080; text-decoration-color: #008080; font-weight: bold\">0.1</span>\n",
       "</pre>\n"
      ],
      "text/plain": [
       "\u001b[38;2;244;162;97mATLAS \u001b[0m\u001b[1;38;2;244;162;97m[\u001b[0m\u001b[38;2;244;162;97mWARNING\u001b[0m\u001b[1;38;2;244;162;97m]\u001b[0m\u001b[38;2;244;162;97m Setting ask fidelity level to \u001b[0m\u001b[1;36m0.1\u001b[0m\n"
      ]
     },
     "metadata": {},
     "output_type": "display_data"
    },
    {
     "data": {
      "text/html": [
       "<pre style=\"white-space:pre;overflow-x:auto;line-height:normal;font-family:Menlo,'DejaVu Sans Mono',consolas,'Courier New',monospace\"><span style=\"color: #05a6fb; text-decoration-color: #05a6fb\">───────────────────── Training regression surrogate model ──────────────────────</span>\n",
       "</pre>\n"
      ],
      "text/plain": [
       "\u001b[38;2;5;166;251m───────────────────── Training regression surrogate model ──────────────────────\u001b[0m\n"
      ]
     },
     "metadata": {},
     "output_type": "display_data"
    },
    {
     "name": "stderr",
     "output_type": "stream",
     "text": [
      "/users/k23070952/.local/lib/python3.9/site-packages/botorch/models/utils/assorted.py:174: InputDataWarning: Input data is not contained to the unit cube. Please consider min-max scaling the input data.\n",
      "  warnings.warn(msg, InputDataWarning)\n",
      "/users/k23070952/.local/lib/python3.9/site-packages/botorch/models/utils/assorted.py:202: InputDataWarning: Input data is not standardized (mean = tensor([5.5511e-17]), std = tensor([1.0541])). Please consider scaling the input to zero mean and unit variance.\n",
      "  warnings.warn(msg, InputDataWarning)\n"
     ]
    },
    {
     "data": {
      "text/html": [
       "<pre style=\"white-space:pre;overflow-x:auto;line-height:normal;font-family:Menlo,'DejaVu Sans Mono',consolas,'Courier New',monospace\">ATLAS <span style=\"font-weight: bold\">[</span>INFO<span style=\"font-weight: bold\">]</span> Regression surrogate GP trained in <span style=\"color: #008080; text-decoration-color: #008080; font-weight: bold\">0.184</span> sec\n",
       "</pre>\n"
      ],
      "text/plain": [
       "ATLAS \u001b[1m[\u001b[0mINFO\u001b[1m]\u001b[0m Regression surrogate GP trained in \u001b[1;36m0.184\u001b[0m sec\n"
      ]
     },
     "metadata": {},
     "output_type": "display_data"
    },
    {
     "data": {
      "text/html": [
       "<pre style=\"white-space:pre;overflow-x:auto;line-height:normal;font-family:Menlo,'DejaVu Sans Mono',consolas,'Courier New',monospace\"><span style=\"color: #05a6fb; text-decoration-color: #05a6fb\">────────────────────── Acquisition function optimization ───────────────────────</span>\n",
       "</pre>\n"
      ],
      "text/plain": [
       "\u001b[38;2;5;166;251m────────────────────── Acquisition function optimization ───────────────────────\u001b[0m\n"
      ]
     },
     "metadata": {},
     "output_type": "display_data"
    },
    {
     "data": {
      "text/html": [
       "<pre style=\"white-space:pre;overflow-x:auto;line-height:normal;font-family:Menlo,'DejaVu Sans Mono',consolas,'Courier New',monospace\">ATLAS <span style=\"font-weight: bold\">[</span>INFO<span style=\"font-weight: bold\">]</span> Optimizing acquisition function with pymoo GA for <span style=\"color: #008080; text-decoration-color: #008080; font-weight: bold\">1</span> fixed parameters<span style=\"color: #808000; text-decoration-color: #808000\">...</span>\n",
       "</pre>\n"
      ],
      "text/plain": [
       "ATLAS \u001b[1m[\u001b[0mINFO\u001b[1m]\u001b[0m Optimizing acquisition function with pymoo GA for \u001b[1;36m1\u001b[0m fixed parameters\u001b[33m...\u001b[0m\n"
      ]
     },
     "metadata": {},
     "output_type": "display_data"
    },
    {
     "name": "stderr",
     "output_type": "stream",
     "text": [
      "/users/k23070952/.local/lib/python3.9/site-packages/botorch/models/gpytorch.py:477: BotorchTensorDimensionWarning: Non-strict enforcement of botorch tensor conventions. The following error would have been raised with strict enforcement: Expected X and Y to have the same number of dimensions (got X with dimension 3 and Y with dimension 4).\n",
      "  self._validate_tensor_args(X=X, Y=Y, Yvar=noise, strict=False)\n",
      "/users/k23070952/.local/lib/python3.9/site-packages/botorch/models/gpytorch.py:239: BotorchTensorDimensionWarning: Non-strict enforcement of botorch tensor conventions. The following error would have been raised with strict enforcement: Expected X and Y to have the same number of dimensions (got X with dimension 3 and Y with dimension 4).\n",
      "  self._validate_tensor_args(X=X, Y=Y, Yvar=Yvar, strict=False)\n",
      "/users/k23070952/.local/lib/python3.9/site-packages/pymoo/operators/repair/rounding.py:18: RuntimeWarning: invalid value encountered in cast\n",
      "  return np.around(X).astype(int)\n",
      "/users/k23070952/.local/lib/python3.9/site-packages/pymoo/operators/mutation/pm.py:44: RuntimeWarning: overflow encountered in power\n",
      "  val = 2.0 * rand + (1.0 - 2.0 * rand) * (np.power(xy, (eta + 1.0)))\n",
      "/users/k23070952/.local/lib/python3.9/site-packages/pymoo/operators/mutation/pm.py:49: RuntimeWarning: overflow encountered in power\n",
      "  val = 2.0 * (1.0 - rand) + 2.0 * (rand - 0.5) * (np.power(xy, (eta + 1.0)))\n"
     ]
    },
    {
     "name": "stdout",
     "output_type": "stream",
     "text": [
      "SAMPLE :  ParamVector(s = 0.1, organic = isopropylammonium, cation = Sn, anion = Br)\n",
      "MEASUREMENT :  2.0577\n"
     ]
    },
    {
     "data": {
      "text/html": [
       "<pre style=\"white-space:pre;overflow-x:auto;line-height:normal;font-family:Menlo,'DejaVu Sans Mono',consolas,'Courier New',monospace\"><span style=\"color: #05a6fb; text-decoration-color: #05a6fb\">────────────────────── Acquisition function optimization ───────────────────────</span>\n",
       "</pre>\n"
      ],
      "text/plain": [
       "\u001b[38;2;5;166;251m────────────────────── Acquisition function optimization ───────────────────────\u001b[0m\n"
      ]
     },
     "metadata": {},
     "output_type": "display_data"
    },
    {
     "data": {
      "text/html": [
       "<pre style=\"white-space:pre;overflow-x:auto;line-height:normal;font-family:Menlo,'DejaVu Sans Mono',consolas,'Courier New',monospace\">ATLAS <span style=\"font-weight: bold\">[</span>INFO<span style=\"font-weight: bold\">]</span> Optimizing acquisition function with pymoo GA for <span style=\"color: #008080; text-decoration-color: #008080; font-weight: bold\">1</span> fixed parameters<span style=\"color: #808000; text-decoration-color: #808000\">...</span>\n",
       "</pre>\n"
      ],
      "text/plain": [
       "ATLAS \u001b[1m[\u001b[0mINFO\u001b[1m]\u001b[0m Optimizing acquisition function with pymoo GA for \u001b[1;36m1\u001b[0m fixed parameters\u001b[33m...\u001b[0m\n"
      ]
     },
     "metadata": {},
     "output_type": "display_data"
    },
    {
     "name": "stdout",
     "output_type": "stream",
     "text": [
      "\n",
      "REC SAMPLE :  ParamVector(s = 1.0, organic = isopropylammonium, cation = Sn, anion = Br)\n",
      "REC MEASUREMENT :  2.7862\n",
      "\n",
      "\n",
      "RUN : 1/2\tITER : 12\tCOST : 2.9000000000000004\n",
      "\n"
     ]
    },
    {
     "data": {
      "text/html": [
       "<pre style=\"white-space:pre;overflow-x:auto;line-height:normal;font-family:Menlo,'DejaVu Sans Mono',consolas,'Courier New',monospace\"><span style=\"color: #f4a261; text-decoration-color: #f4a261\">ATLAS </span><span style=\"color: #f4a261; text-decoration-color: #f4a261; font-weight: bold\">[</span><span style=\"color: #f4a261; text-decoration-color: #f4a261\">WARNING</span><span style=\"color: #f4a261; text-decoration-color: #f4a261; font-weight: bold\">]</span><span style=\"color: #f4a261; text-decoration-color: #f4a261\"> Setting ask fidelity level to </span><span style=\"color: #008080; text-decoration-color: #008080; font-weight: bold\">0.1</span>\n",
       "</pre>\n"
      ],
      "text/plain": [
       "\u001b[38;2;244;162;97mATLAS \u001b[0m\u001b[1;38;2;244;162;97m[\u001b[0m\u001b[38;2;244;162;97mWARNING\u001b[0m\u001b[1;38;2;244;162;97m]\u001b[0m\u001b[38;2;244;162;97m Setting ask fidelity level to \u001b[0m\u001b[1;36m0.1\u001b[0m\n"
      ]
     },
     "metadata": {},
     "output_type": "display_data"
    },
    {
     "data": {
      "text/html": [
       "<pre style=\"white-space:pre;overflow-x:auto;line-height:normal;font-family:Menlo,'DejaVu Sans Mono',consolas,'Courier New',monospace\"><span style=\"color: #05a6fb; text-decoration-color: #05a6fb\">───────────────────── Training regression surrogate model ──────────────────────</span>\n",
       "</pre>\n"
      ],
      "text/plain": [
       "\u001b[38;2;5;166;251m───────────────────── Training regression surrogate model ──────────────────────\u001b[0m\n"
      ]
     },
     "metadata": {},
     "output_type": "display_data"
    },
    {
     "name": "stderr",
     "output_type": "stream",
     "text": [
      "/users/k23070952/.local/lib/python3.9/site-packages/botorch/models/utils/assorted.py:174: InputDataWarning: Input data is not contained to the unit cube. Please consider min-max scaling the input data.\n",
      "  warnings.warn(msg, InputDataWarning)\n",
      "/users/k23070952/.local/lib/python3.9/site-packages/botorch/models/utils/assorted.py:202: InputDataWarning: Input data is not standardized (mean = tensor([-1.0093e-17]), std = tensor([1.0488])). Please consider scaling the input to zero mean and unit variance.\n",
      "  warnings.warn(msg, InputDataWarning)\n"
     ]
    },
    {
     "data": {
      "text/html": [
       "<pre style=\"white-space:pre;overflow-x:auto;line-height:normal;font-family:Menlo,'DejaVu Sans Mono',consolas,'Courier New',monospace\">ATLAS <span style=\"font-weight: bold\">[</span>INFO<span style=\"font-weight: bold\">]</span> Regression surrogate GP trained in <span style=\"color: #008080; text-decoration-color: #008080; font-weight: bold\">0.343</span> sec\n",
       "</pre>\n"
      ],
      "text/plain": [
       "ATLAS \u001b[1m[\u001b[0mINFO\u001b[1m]\u001b[0m Regression surrogate GP trained in \u001b[1;36m0.343\u001b[0m sec\n"
      ]
     },
     "metadata": {},
     "output_type": "display_data"
    },
    {
     "data": {
      "text/html": [
       "<pre style=\"white-space:pre;overflow-x:auto;line-height:normal;font-family:Menlo,'DejaVu Sans Mono',consolas,'Courier New',monospace\"><span style=\"color: #05a6fb; text-decoration-color: #05a6fb\">────────────────────── Acquisition function optimization ───────────────────────</span>\n",
       "</pre>\n"
      ],
      "text/plain": [
       "\u001b[38;2;5;166;251m────────────────────── Acquisition function optimization ───────────────────────\u001b[0m\n"
      ]
     },
     "metadata": {},
     "output_type": "display_data"
    },
    {
     "data": {
      "text/html": [
       "<pre style=\"white-space:pre;overflow-x:auto;line-height:normal;font-family:Menlo,'DejaVu Sans Mono',consolas,'Courier New',monospace\">ATLAS <span style=\"font-weight: bold\">[</span>INFO<span style=\"font-weight: bold\">]</span> Optimizing acquisition function with pymoo GA for <span style=\"color: #008080; text-decoration-color: #008080; font-weight: bold\">1</span> fixed parameters<span style=\"color: #808000; text-decoration-color: #808000\">...</span>\n",
       "</pre>\n"
      ],
      "text/plain": [
       "ATLAS \u001b[1m[\u001b[0mINFO\u001b[1m]\u001b[0m Optimizing acquisition function with pymoo GA for \u001b[1;36m1\u001b[0m fixed parameters\u001b[33m...\u001b[0m\n"
      ]
     },
     "metadata": {},
     "output_type": "display_data"
    },
    {
     "name": "stderr",
     "output_type": "stream",
     "text": [
      "/users/k23070952/.local/lib/python3.9/site-packages/botorch/models/gpytorch.py:477: BotorchTensorDimensionWarning: Non-strict enforcement of botorch tensor conventions. The following error would have been raised with strict enforcement: Expected X and Y to have the same number of dimensions (got X with dimension 3 and Y with dimension 4).\n",
      "  self._validate_tensor_args(X=X, Y=Y, Yvar=noise, strict=False)\n",
      "/users/k23070952/.local/lib/python3.9/site-packages/botorch/models/gpytorch.py:239: BotorchTensorDimensionWarning: Non-strict enforcement of botorch tensor conventions. The following error would have been raised with strict enforcement: Expected X and Y to have the same number of dimensions (got X with dimension 3 and Y with dimension 4).\n",
      "  self._validate_tensor_args(X=X, Y=Y, Yvar=Yvar, strict=False)\n",
      "/users/k23070952/.local/lib/python3.9/site-packages/pymoo/operators/repair/rounding.py:18: RuntimeWarning: invalid value encountered in cast\n",
      "  return np.around(X).astype(int)\n",
      "/users/k23070952/.local/lib/python3.9/site-packages/pymoo/operators/mutation/pm.py:44: RuntimeWarning: overflow encountered in power\n",
      "  val = 2.0 * rand + (1.0 - 2.0 * rand) * (np.power(xy, (eta + 1.0)))\n",
      "/users/k23070952/.local/lib/python3.9/site-packages/pymoo/operators/mutation/pm.py:49: RuntimeWarning: overflow encountered in power\n",
      "  val = 2.0 * (1.0 - rand) + 2.0 * (rand - 0.5) * (np.power(xy, (eta + 1.0)))\n"
     ]
    },
    {
     "name": "stdout",
     "output_type": "stream",
     "text": [
      "SAMPLE :  ParamVector(s = 0.1, organic = acetamidinium, cation = Pb, anion = I)\n",
      "MEASUREMENT :  1.5898\n"
     ]
    },
    {
     "data": {
      "text/html": [
       "<pre style=\"white-space:pre;overflow-x:auto;line-height:normal;font-family:Menlo,'DejaVu Sans Mono',consolas,'Courier New',monospace\"><span style=\"color: #05a6fb; text-decoration-color: #05a6fb\">────────────────────── Acquisition function optimization ───────────────────────</span>\n",
       "</pre>\n"
      ],
      "text/plain": [
       "\u001b[38;2;5;166;251m────────────────────── Acquisition function optimization ───────────────────────\u001b[0m\n"
      ]
     },
     "metadata": {},
     "output_type": "display_data"
    },
    {
     "data": {
      "text/html": [
       "<pre style=\"white-space:pre;overflow-x:auto;line-height:normal;font-family:Menlo,'DejaVu Sans Mono',consolas,'Courier New',monospace\">ATLAS <span style=\"font-weight: bold\">[</span>INFO<span style=\"font-weight: bold\">]</span> Optimizing acquisition function with pymoo GA for <span style=\"color: #008080; text-decoration-color: #008080; font-weight: bold\">1</span> fixed parameters<span style=\"color: #808000; text-decoration-color: #808000\">...</span>\n",
       "</pre>\n"
      ],
      "text/plain": [
       "ATLAS \u001b[1m[\u001b[0mINFO\u001b[1m]\u001b[0m Optimizing acquisition function with pymoo GA for \u001b[1;36m1\u001b[0m fixed parameters\u001b[33m...\u001b[0m\n"
      ]
     },
     "metadata": {},
     "output_type": "display_data"
    },
    {
     "name": "stdout",
     "output_type": "stream",
     "text": [
      "\n",
      "REC SAMPLE :  ParamVector(s = 1.0, organic = hydroxylammonium, cation = Sn, anion = Br)\n",
      "REC MEASUREMENT :  2.6986\n",
      "\n",
      "\n",
      "RUN : 1/2\tITER : 13\tCOST : 3.0000000000000004\n",
      "\n"
     ]
    },
    {
     "data": {
      "text/html": [
       "<pre style=\"white-space:pre;overflow-x:auto;line-height:normal;font-family:Menlo,'DejaVu Sans Mono',consolas,'Courier New',monospace\"><span style=\"color: #f4a261; text-decoration-color: #f4a261\">ATLAS </span><span style=\"color: #f4a261; text-decoration-color: #f4a261; font-weight: bold\">[</span><span style=\"color: #f4a261; text-decoration-color: #f4a261\">WARNING</span><span style=\"color: #f4a261; text-decoration-color: #f4a261; font-weight: bold\">]</span><span style=\"color: #f4a261; text-decoration-color: #f4a261\"> Setting ask fidelity level to </span><span style=\"color: #008080; text-decoration-color: #008080; font-weight: bold\">0.1</span>\n",
       "</pre>\n"
      ],
      "text/plain": [
       "\u001b[38;2;244;162;97mATLAS \u001b[0m\u001b[1;38;2;244;162;97m[\u001b[0m\u001b[38;2;244;162;97mWARNING\u001b[0m\u001b[1;38;2;244;162;97m]\u001b[0m\u001b[38;2;244;162;97m Setting ask fidelity level to \u001b[0m\u001b[1;36m0.1\u001b[0m\n"
      ]
     },
     "metadata": {},
     "output_type": "display_data"
    },
    {
     "data": {
      "text/html": [
       "<pre style=\"white-space:pre;overflow-x:auto;line-height:normal;font-family:Menlo,'DejaVu Sans Mono',consolas,'Courier New',monospace\"><span style=\"color: #05a6fb; text-decoration-color: #05a6fb\">───────────────────── Training regression surrogate model ──────────────────────</span>\n",
       "</pre>\n"
      ],
      "text/plain": [
       "\u001b[38;2;5;166;251m───────────────────── Training regression surrogate model ──────────────────────\u001b[0m\n"
      ]
     },
     "metadata": {},
     "output_type": "display_data"
    },
    {
     "name": "stderr",
     "output_type": "stream",
     "text": [
      "/users/k23070952/.local/lib/python3.9/site-packages/botorch/models/utils/assorted.py:174: InputDataWarning: Input data is not contained to the unit cube. Please consider min-max scaling the input data.\n",
      "  warnings.warn(msg, InputDataWarning)\n",
      "/users/k23070952/.local/lib/python3.9/site-packages/botorch/models/utils/assorted.py:202: InputDataWarning: Input data is not standardized (mean = tensor([6.0137e-17]), std = tensor([1.0445])). Please consider scaling the input to zero mean and unit variance.\n",
      "  warnings.warn(msg, InputDataWarning)\n"
     ]
    },
    {
     "data": {
      "text/html": [
       "<pre style=\"white-space:pre;overflow-x:auto;line-height:normal;font-family:Menlo,'DejaVu Sans Mono',consolas,'Courier New',monospace\">ATLAS <span style=\"font-weight: bold\">[</span>INFO<span style=\"font-weight: bold\">]</span> Regression surrogate GP trained in <span style=\"color: #008080; text-decoration-color: #008080; font-weight: bold\">0.237</span> sec\n",
       "</pre>\n"
      ],
      "text/plain": [
       "ATLAS \u001b[1m[\u001b[0mINFO\u001b[1m]\u001b[0m Regression surrogate GP trained in \u001b[1;36m0.237\u001b[0m sec\n"
      ]
     },
     "metadata": {},
     "output_type": "display_data"
    },
    {
     "data": {
      "text/html": [
       "<pre style=\"white-space:pre;overflow-x:auto;line-height:normal;font-family:Menlo,'DejaVu Sans Mono',consolas,'Courier New',monospace\"><span style=\"color: #05a6fb; text-decoration-color: #05a6fb\">────────────────────── Acquisition function optimization ───────────────────────</span>\n",
       "</pre>\n"
      ],
      "text/plain": [
       "\u001b[38;2;5;166;251m────────────────────── Acquisition function optimization ───────────────────────\u001b[0m\n"
      ]
     },
     "metadata": {},
     "output_type": "display_data"
    },
    {
     "data": {
      "text/html": [
       "<pre style=\"white-space:pre;overflow-x:auto;line-height:normal;font-family:Menlo,'DejaVu Sans Mono',consolas,'Courier New',monospace\">ATLAS <span style=\"font-weight: bold\">[</span>INFO<span style=\"font-weight: bold\">]</span> Optimizing acquisition function with pymoo GA for <span style=\"color: #008080; text-decoration-color: #008080; font-weight: bold\">1</span> fixed parameters<span style=\"color: #808000; text-decoration-color: #808000\">...</span>\n",
       "</pre>\n"
      ],
      "text/plain": [
       "ATLAS \u001b[1m[\u001b[0mINFO\u001b[1m]\u001b[0m Optimizing acquisition function with pymoo GA for \u001b[1;36m1\u001b[0m fixed parameters\u001b[33m...\u001b[0m\n"
      ]
     },
     "metadata": {},
     "output_type": "display_data"
    },
    {
     "name": "stderr",
     "output_type": "stream",
     "text": [
      "/users/k23070952/.local/lib/python3.9/site-packages/botorch/models/gpytorch.py:477: BotorchTensorDimensionWarning: Non-strict enforcement of botorch tensor conventions. The following error would have been raised with strict enforcement: Expected X and Y to have the same number of dimensions (got X with dimension 3 and Y with dimension 4).\n",
      "  self._validate_tensor_args(X=X, Y=Y, Yvar=noise, strict=False)\n",
      "/users/k23070952/.local/lib/python3.9/site-packages/botorch/models/gpytorch.py:239: BotorchTensorDimensionWarning: Non-strict enforcement of botorch tensor conventions. The following error would have been raised with strict enforcement: Expected X and Y to have the same number of dimensions (got X with dimension 3 and Y with dimension 4).\n",
      "  self._validate_tensor_args(X=X, Y=Y, Yvar=Yvar, strict=False)\n",
      "/users/k23070952/.local/lib/python3.9/site-packages/pymoo/operators/repair/rounding.py:18: RuntimeWarning: invalid value encountered in cast\n",
      "  return np.around(X).astype(int)\n",
      "/users/k23070952/.local/lib/python3.9/site-packages/pymoo/operators/mutation/pm.py:44: RuntimeWarning: overflow encountered in power\n",
      "  val = 2.0 * rand + (1.0 - 2.0 * rand) * (np.power(xy, (eta + 1.0)))\n",
      "/users/k23070952/.local/lib/python3.9/site-packages/pymoo/operators/mutation/pm.py:49: RuntimeWarning: overflow encountered in power\n",
      "  val = 2.0 * (1.0 - rand) + 2.0 * (rand - 0.5) * (np.power(xy, (eta + 1.0)))\n"
     ]
    },
    {
     "name": "stdout",
     "output_type": "stream",
     "text": [
      "SAMPLE :  ParamVector(s = 0.1, organic = methylammonium, cation = Ge, anion = F)\n",
      "MEASUREMENT :  3.5371\n"
     ]
    },
    {
     "data": {
      "text/html": [
       "<pre style=\"white-space:pre;overflow-x:auto;line-height:normal;font-family:Menlo,'DejaVu Sans Mono',consolas,'Courier New',monospace\"><span style=\"color: #05a6fb; text-decoration-color: #05a6fb\">────────────────────── Acquisition function optimization ───────────────────────</span>\n",
       "</pre>\n"
      ],
      "text/plain": [
       "\u001b[38;2;5;166;251m────────────────────── Acquisition function optimization ───────────────────────\u001b[0m\n"
      ]
     },
     "metadata": {},
     "output_type": "display_data"
    },
    {
     "data": {
      "text/html": [
       "<pre style=\"white-space:pre;overflow-x:auto;line-height:normal;font-family:Menlo,'DejaVu Sans Mono',consolas,'Courier New',monospace\">ATLAS <span style=\"font-weight: bold\">[</span>INFO<span style=\"font-weight: bold\">]</span> Optimizing acquisition function with pymoo GA for <span style=\"color: #008080; text-decoration-color: #008080; font-weight: bold\">1</span> fixed parameters<span style=\"color: #808000; text-decoration-color: #808000\">...</span>\n",
       "</pre>\n"
      ],
      "text/plain": [
       "ATLAS \u001b[1m[\u001b[0mINFO\u001b[1m]\u001b[0m Optimizing acquisition function with pymoo GA for \u001b[1;36m1\u001b[0m fixed parameters\u001b[33m...\u001b[0m\n"
      ]
     },
     "metadata": {},
     "output_type": "display_data"
    },
    {
     "name": "stdout",
     "output_type": "stream",
     "text": [
      "\n",
      "REC SAMPLE :  ParamVector(s = 1.0, organic = hydroxylammonium, cation = Sn, anion = Br)\n",
      "REC MEASUREMENT :  2.6986\n",
      "\n",
      "\n",
      "RUN : 1/2\tITER : 14\tCOST : 3.1000000000000005\n",
      "\n"
     ]
    },
    {
     "data": {
      "text/html": [
       "<pre style=\"white-space:pre;overflow-x:auto;line-height:normal;font-family:Menlo,'DejaVu Sans Mono',consolas,'Courier New',monospace\"><span style=\"color: #f4a261; text-decoration-color: #f4a261\">ATLAS </span><span style=\"color: #f4a261; text-decoration-color: #f4a261; font-weight: bold\">[</span><span style=\"color: #f4a261; text-decoration-color: #f4a261\">WARNING</span><span style=\"color: #f4a261; text-decoration-color: #f4a261; font-weight: bold\">]</span><span style=\"color: #f4a261; text-decoration-color: #f4a261\"> Setting ask fidelity level to </span><span style=\"color: #008080; text-decoration-color: #008080; font-weight: bold\">0.1</span>\n",
       "</pre>\n"
      ],
      "text/plain": [
       "\u001b[38;2;244;162;97mATLAS \u001b[0m\u001b[1;38;2;244;162;97m[\u001b[0m\u001b[38;2;244;162;97mWARNING\u001b[0m\u001b[1;38;2;244;162;97m]\u001b[0m\u001b[38;2;244;162;97m Setting ask fidelity level to \u001b[0m\u001b[1;36m0.1\u001b[0m\n"
      ]
     },
     "metadata": {},
     "output_type": "display_data"
    },
    {
     "data": {
      "text/html": [
       "<pre style=\"white-space:pre;overflow-x:auto;line-height:normal;font-family:Menlo,'DejaVu Sans Mono',consolas,'Courier New',monospace\"><span style=\"color: #05a6fb; text-decoration-color: #05a6fb\">───────────────────── Training regression surrogate model ──────────────────────</span>\n",
       "</pre>\n"
      ],
      "text/plain": [
       "\u001b[38;2;5;166;251m───────────────────── Training regression surrogate model ──────────────────────\u001b[0m\n"
      ]
     },
     "metadata": {},
     "output_type": "display_data"
    },
    {
     "name": "stderr",
     "output_type": "stream",
     "text": [
      "/users/k23070952/.local/lib/python3.9/site-packages/botorch/models/utils/assorted.py:174: InputDataWarning: Input data is not contained to the unit cube. Please consider min-max scaling the input data.\n",
      "  warnings.warn(msg, InputDataWarning)\n",
      "/users/k23070952/.local/lib/python3.9/site-packages/botorch/models/utils/assorted.py:202: InputDataWarning: Input data is not standardized (mean = tensor([1.7080e-17]), std = tensor([1.0408])). Please consider scaling the input to zero mean and unit variance.\n",
      "  warnings.warn(msg, InputDataWarning)\n"
     ]
    },
    {
     "data": {
      "text/html": [
       "<pre style=\"white-space:pre;overflow-x:auto;line-height:normal;font-family:Menlo,'DejaVu Sans Mono',consolas,'Courier New',monospace\">ATLAS <span style=\"font-weight: bold\">[</span>INFO<span style=\"font-weight: bold\">]</span> Regression surrogate GP trained in <span style=\"color: #008080; text-decoration-color: #008080; font-weight: bold\">0.375</span> sec\n",
       "</pre>\n"
      ],
      "text/plain": [
       "ATLAS \u001b[1m[\u001b[0mINFO\u001b[1m]\u001b[0m Regression surrogate GP trained in \u001b[1;36m0.375\u001b[0m sec\n"
      ]
     },
     "metadata": {},
     "output_type": "display_data"
    },
    {
     "data": {
      "text/html": [
       "<pre style=\"white-space:pre;overflow-x:auto;line-height:normal;font-family:Menlo,'DejaVu Sans Mono',consolas,'Courier New',monospace\"><span style=\"color: #05a6fb; text-decoration-color: #05a6fb\">────────────────────── Acquisition function optimization ───────────────────────</span>\n",
       "</pre>\n"
      ],
      "text/plain": [
       "\u001b[38;2;5;166;251m────────────────────── Acquisition function optimization ───────────────────────\u001b[0m\n"
      ]
     },
     "metadata": {},
     "output_type": "display_data"
    },
    {
     "data": {
      "text/html": [
       "<pre style=\"white-space:pre;overflow-x:auto;line-height:normal;font-family:Menlo,'DejaVu Sans Mono',consolas,'Courier New',monospace\">ATLAS <span style=\"font-weight: bold\">[</span>INFO<span style=\"font-weight: bold\">]</span> Optimizing acquisition function with pymoo GA for <span style=\"color: #008080; text-decoration-color: #008080; font-weight: bold\">1</span> fixed parameters<span style=\"color: #808000; text-decoration-color: #808000\">...</span>\n",
       "</pre>\n"
      ],
      "text/plain": [
       "ATLAS \u001b[1m[\u001b[0mINFO\u001b[1m]\u001b[0m Optimizing acquisition function with pymoo GA for \u001b[1;36m1\u001b[0m fixed parameters\u001b[33m...\u001b[0m\n"
      ]
     },
     "metadata": {},
     "output_type": "display_data"
    },
    {
     "name": "stderr",
     "output_type": "stream",
     "text": [
      "/users/k23070952/.local/lib/python3.9/site-packages/botorch/models/gpytorch.py:477: BotorchTensorDimensionWarning: Non-strict enforcement of botorch tensor conventions. The following error would have been raised with strict enforcement: Expected X and Y to have the same number of dimensions (got X with dimension 3 and Y with dimension 4).\n",
      "  self._validate_tensor_args(X=X, Y=Y, Yvar=noise, strict=False)\n",
      "/users/k23070952/.local/lib/python3.9/site-packages/botorch/models/gpytorch.py:239: BotorchTensorDimensionWarning: Non-strict enforcement of botorch tensor conventions. The following error would have been raised with strict enforcement: Expected X and Y to have the same number of dimensions (got X with dimension 3 and Y with dimension 4).\n",
      "  self._validate_tensor_args(X=X, Y=Y, Yvar=Yvar, strict=False)\n",
      "/users/k23070952/.local/lib/python3.9/site-packages/pymoo/operators/repair/rounding.py:18: RuntimeWarning: invalid value encountered in cast\n",
      "  return np.around(X).astype(int)\n",
      "/users/k23070952/.local/lib/python3.9/site-packages/pymoo/operators/mutation/pm.py:44: RuntimeWarning: overflow encountered in power\n",
      "  val = 2.0 * rand + (1.0 - 2.0 * rand) * (np.power(xy, (eta + 1.0)))\n",
      "/users/k23070952/.local/lib/python3.9/site-packages/pymoo/operators/mutation/pm.py:49: RuntimeWarning: overflow encountered in power\n",
      "  val = 2.0 * (1.0 - rand) + 2.0 * (rand - 0.5) * (np.power(xy, (eta + 1.0)))\n"
     ]
    },
    {
     "name": "stdout",
     "output_type": "stream",
     "text": [
      "SAMPLE :  ParamVector(s = 0.1, organic = ethylammonium, cation = Pb, anion = F)\n",
      "MEASUREMENT :  2.8657\n"
     ]
    },
    {
     "data": {
      "text/html": [
       "<pre style=\"white-space:pre;overflow-x:auto;line-height:normal;font-family:Menlo,'DejaVu Sans Mono',consolas,'Courier New',monospace\"><span style=\"color: #05a6fb; text-decoration-color: #05a6fb\">────────────────────── Acquisition function optimization ───────────────────────</span>\n",
       "</pre>\n"
      ],
      "text/plain": [
       "\u001b[38;2;5;166;251m────────────────────── Acquisition function optimization ───────────────────────\u001b[0m\n"
      ]
     },
     "metadata": {},
     "output_type": "display_data"
    },
    {
     "data": {
      "text/html": [
       "<pre style=\"white-space:pre;overflow-x:auto;line-height:normal;font-family:Menlo,'DejaVu Sans Mono',consolas,'Courier New',monospace\">ATLAS <span style=\"font-weight: bold\">[</span>INFO<span style=\"font-weight: bold\">]</span> Optimizing acquisition function with pymoo GA for <span style=\"color: #008080; text-decoration-color: #008080; font-weight: bold\">1</span> fixed parameters<span style=\"color: #808000; text-decoration-color: #808000\">...</span>\n",
       "</pre>\n"
      ],
      "text/plain": [
       "ATLAS \u001b[1m[\u001b[0mINFO\u001b[1m]\u001b[0m Optimizing acquisition function with pymoo GA for \u001b[1;36m1\u001b[0m fixed parameters\u001b[33m...\u001b[0m\n"
      ]
     },
     "metadata": {},
     "output_type": "display_data"
    },
    {
     "name": "stdout",
     "output_type": "stream",
     "text": [
      "\n",
      "REC SAMPLE :  ParamVector(s = 1.0, organic = dimethylammonium, cation = Sn, anion = Cl)\n",
      "REC MEASUREMENT :  2.9218\n",
      "\n",
      "\n",
      "RUN : 1/2\tITER : 15\tCOST : 3.2000000000000006\n",
      "\n"
     ]
    },
    {
     "data": {
      "text/html": [
       "<pre style=\"white-space:pre;overflow-x:auto;line-height:normal;font-family:Menlo,'DejaVu Sans Mono',consolas,'Courier New',monospace\"><span style=\"color: #f4a261; text-decoration-color: #f4a261\">ATLAS </span><span style=\"color: #f4a261; text-decoration-color: #f4a261; font-weight: bold\">[</span><span style=\"color: #f4a261; text-decoration-color: #f4a261\">WARNING</span><span style=\"color: #f4a261; text-decoration-color: #f4a261; font-weight: bold\">]</span><span style=\"color: #f4a261; text-decoration-color: #f4a261\"> Setting ask fidelity level to </span><span style=\"color: #008080; text-decoration-color: #008080; font-weight: bold\">0.1</span>\n",
       "</pre>\n"
      ],
      "text/plain": [
       "\u001b[38;2;244;162;97mATLAS \u001b[0m\u001b[1;38;2;244;162;97m[\u001b[0m\u001b[38;2;244;162;97mWARNING\u001b[0m\u001b[1;38;2;244;162;97m]\u001b[0m\u001b[38;2;244;162;97m Setting ask fidelity level to \u001b[0m\u001b[1;36m0.1\u001b[0m\n"
      ]
     },
     "metadata": {},
     "output_type": "display_data"
    },
    {
     "data": {
      "text/html": [
       "<pre style=\"white-space:pre;overflow-x:auto;line-height:normal;font-family:Menlo,'DejaVu Sans Mono',consolas,'Courier New',monospace\"><span style=\"color: #05a6fb; text-decoration-color: #05a6fb\">───────────────────── Training regression surrogate model ──────────────────────</span>\n",
       "</pre>\n"
      ],
      "text/plain": [
       "\u001b[38;2;5;166;251m───────────────────── Training regression surrogate model ──────────────────────\u001b[0m\n"
      ]
     },
     "metadata": {},
     "output_type": "display_data"
    },
    {
     "name": "stderr",
     "output_type": "stream",
     "text": [
      "/users/k23070952/.local/lib/python3.9/site-packages/botorch/models/utils/assorted.py:174: InputDataWarning: Input data is not contained to the unit cube. Please consider min-max scaling the input data.\n",
      "  warnings.warn(msg, InputDataWarning)\n",
      "/users/k23070952/.local/lib/python3.9/site-packages/botorch/models/utils/assorted.py:202: InputDataWarning: Input data is not standardized (mean = tensor([4.7581e-16]), std = tensor([1.0377])). Please consider scaling the input to zero mean and unit variance.\n",
      "  warnings.warn(msg, InputDataWarning)\n"
     ]
    },
    {
     "data": {
      "text/html": [
       "<pre style=\"white-space:pre;overflow-x:auto;line-height:normal;font-family:Menlo,'DejaVu Sans Mono',consolas,'Courier New',monospace\">ATLAS <span style=\"font-weight: bold\">[</span>INFO<span style=\"font-weight: bold\">]</span> Regression surrogate GP trained in <span style=\"color: #008080; text-decoration-color: #008080; font-weight: bold\">0.195</span> sec\n",
       "</pre>\n"
      ],
      "text/plain": [
       "ATLAS \u001b[1m[\u001b[0mINFO\u001b[1m]\u001b[0m Regression surrogate GP trained in \u001b[1;36m0.195\u001b[0m sec\n"
      ]
     },
     "metadata": {},
     "output_type": "display_data"
    },
    {
     "data": {
      "text/html": [
       "<pre style=\"white-space:pre;overflow-x:auto;line-height:normal;font-family:Menlo,'DejaVu Sans Mono',consolas,'Courier New',monospace\"><span style=\"color: #05a6fb; text-decoration-color: #05a6fb\">────────────────────── Acquisition function optimization ───────────────────────</span>\n",
       "</pre>\n"
      ],
      "text/plain": [
       "\u001b[38;2;5;166;251m────────────────────── Acquisition function optimization ───────────────────────\u001b[0m\n"
      ]
     },
     "metadata": {},
     "output_type": "display_data"
    },
    {
     "data": {
      "text/html": [
       "<pre style=\"white-space:pre;overflow-x:auto;line-height:normal;font-family:Menlo,'DejaVu Sans Mono',consolas,'Courier New',monospace\">ATLAS <span style=\"font-weight: bold\">[</span>INFO<span style=\"font-weight: bold\">]</span> Optimizing acquisition function with pymoo GA for <span style=\"color: #008080; text-decoration-color: #008080; font-weight: bold\">1</span> fixed parameters<span style=\"color: #808000; text-decoration-color: #808000\">...</span>\n",
       "</pre>\n"
      ],
      "text/plain": [
       "ATLAS \u001b[1m[\u001b[0mINFO\u001b[1m]\u001b[0m Optimizing acquisition function with pymoo GA for \u001b[1;36m1\u001b[0m fixed parameters\u001b[33m...\u001b[0m\n"
      ]
     },
     "metadata": {},
     "output_type": "display_data"
    },
    {
     "name": "stderr",
     "output_type": "stream",
     "text": [
      "/users/k23070952/.local/lib/python3.9/site-packages/botorch/models/gpytorch.py:477: BotorchTensorDimensionWarning: Non-strict enforcement of botorch tensor conventions. The following error would have been raised with strict enforcement: Expected X and Y to have the same number of dimensions (got X with dimension 3 and Y with dimension 4).\n",
      "  self._validate_tensor_args(X=X, Y=Y, Yvar=noise, strict=False)\n",
      "/users/k23070952/.local/lib/python3.9/site-packages/botorch/models/gpytorch.py:239: BotorchTensorDimensionWarning: Non-strict enforcement of botorch tensor conventions. The following error would have been raised with strict enforcement: Expected X and Y to have the same number of dimensions (got X with dimension 3 and Y with dimension 4).\n",
      "  self._validate_tensor_args(X=X, Y=Y, Yvar=Yvar, strict=False)\n",
      "/users/k23070952/.local/lib/python3.9/site-packages/pymoo/operators/repair/rounding.py:18: RuntimeWarning: invalid value encountered in cast\n",
      "  return np.around(X).astype(int)\n",
      "/users/k23070952/.local/lib/python3.9/site-packages/pymoo/operators/mutation/pm.py:44: RuntimeWarning: overflow encountered in power\n",
      "  val = 2.0 * rand + (1.0 - 2.0 * rand) * (np.power(xy, (eta + 1.0)))\n",
      "/users/k23070952/.local/lib/python3.9/site-packages/pymoo/operators/mutation/pm.py:49: RuntimeWarning: overflow encountered in power\n",
      "  val = 2.0 * (1.0 - rand) + 2.0 * (rand - 0.5) * (np.power(xy, (eta + 1.0)))\n"
     ]
    },
    {
     "name": "stdout",
     "output_type": "stream",
     "text": [
      "SAMPLE :  ParamVector(s = 0.1, organic = ethylammonium, cation = Pb, anion = I)\n",
      "MEASUREMENT :  1.3945\n"
     ]
    },
    {
     "data": {
      "text/html": [
       "<pre style=\"white-space:pre;overflow-x:auto;line-height:normal;font-family:Menlo,'DejaVu Sans Mono',consolas,'Courier New',monospace\"><span style=\"color: #05a6fb; text-decoration-color: #05a6fb\">────────────────────── Acquisition function optimization ───────────────────────</span>\n",
       "</pre>\n"
      ],
      "text/plain": [
       "\u001b[38;2;5;166;251m────────────────────── Acquisition function optimization ───────────────────────\u001b[0m\n"
      ]
     },
     "metadata": {},
     "output_type": "display_data"
    },
    {
     "data": {
      "text/html": [
       "<pre style=\"white-space:pre;overflow-x:auto;line-height:normal;font-family:Menlo,'DejaVu Sans Mono',consolas,'Courier New',monospace\">ATLAS <span style=\"font-weight: bold\">[</span>INFO<span style=\"font-weight: bold\">]</span> Optimizing acquisition function with pymoo GA for <span style=\"color: #008080; text-decoration-color: #008080; font-weight: bold\">1</span> fixed parameters<span style=\"color: #808000; text-decoration-color: #808000\">...</span>\n",
       "</pre>\n"
      ],
      "text/plain": [
       "ATLAS \u001b[1m[\u001b[0mINFO\u001b[1m]\u001b[0m Optimizing acquisition function with pymoo GA for \u001b[1;36m1\u001b[0m fixed parameters\u001b[33m...\u001b[0m\n"
      ]
     },
     "metadata": {},
     "output_type": "display_data"
    },
    {
     "name": "stdout",
     "output_type": "stream",
     "text": [
      "\n",
      "REC SAMPLE :  ParamVector(s = 1.0, organic = ethylammonium, cation = Pb, anion = Br)\n",
      "REC MEASUREMENT :  2.5996\n",
      "\n",
      "\n",
      "RUN : 1/2\tITER : 16\tCOST : 3.3000000000000007\n",
      "\n"
     ]
    },
    {
     "data": {
      "text/html": [
       "<pre style=\"white-space:pre;overflow-x:auto;line-height:normal;font-family:Menlo,'DejaVu Sans Mono',consolas,'Courier New',monospace\"><span style=\"color: #f4a261; text-decoration-color: #f4a261\">ATLAS </span><span style=\"color: #f4a261; text-decoration-color: #f4a261; font-weight: bold\">[</span><span style=\"color: #f4a261; text-decoration-color: #f4a261\">WARNING</span><span style=\"color: #f4a261; text-decoration-color: #f4a261; font-weight: bold\">]</span><span style=\"color: #f4a261; text-decoration-color: #f4a261\"> Setting ask fidelity level to </span><span style=\"color: #008080; text-decoration-color: #008080; font-weight: bold\">0.1</span>\n",
       "</pre>\n"
      ],
      "text/plain": [
       "\u001b[38;2;244;162;97mATLAS \u001b[0m\u001b[1;38;2;244;162;97m[\u001b[0m\u001b[38;2;244;162;97mWARNING\u001b[0m\u001b[1;38;2;244;162;97m]\u001b[0m\u001b[38;2;244;162;97m Setting ask fidelity level to \u001b[0m\u001b[1;36m0.1\u001b[0m\n"
      ]
     },
     "metadata": {},
     "output_type": "display_data"
    },
    {
     "data": {
      "text/html": [
       "<pre style=\"white-space:pre;overflow-x:auto;line-height:normal;font-family:Menlo,'DejaVu Sans Mono',consolas,'Courier New',monospace\"><span style=\"color: #05a6fb; text-decoration-color: #05a6fb\">───────────────────── Training regression surrogate model ──────────────────────</span>\n",
       "</pre>\n"
      ],
      "text/plain": [
       "\u001b[38;2;5;166;251m───────────────────── Training regression surrogate model ──────────────────────\u001b[0m\n"
      ]
     },
     "metadata": {},
     "output_type": "display_data"
    },
    {
     "name": "stderr",
     "output_type": "stream",
     "text": [
      "/users/k23070952/.local/lib/python3.9/site-packages/botorch/models/utils/assorted.py:174: InputDataWarning: Input data is not contained to the unit cube. Please consider min-max scaling the input data.\n",
      "  warnings.warn(msg, InputDataWarning)\n",
      "/users/k23070952/.local/lib/python3.9/site-packages/botorch/models/utils/assorted.py:202: InputDataWarning: Input data is not standardized (mean = tensor([2.5165e-16]), std = tensor([1.0351])). Please consider scaling the input to zero mean and unit variance.\n",
      "  warnings.warn(msg, InputDataWarning)\n"
     ]
    },
    {
     "data": {
      "text/html": [
       "<pre style=\"white-space:pre;overflow-x:auto;line-height:normal;font-family:Menlo,'DejaVu Sans Mono',consolas,'Courier New',monospace\">ATLAS <span style=\"font-weight: bold\">[</span>INFO<span style=\"font-weight: bold\">]</span> Regression surrogate GP trained in <span style=\"color: #008080; text-decoration-color: #008080; font-weight: bold\">0.161</span> sec\n",
       "</pre>\n"
      ],
      "text/plain": [
       "ATLAS \u001b[1m[\u001b[0mINFO\u001b[1m]\u001b[0m Regression surrogate GP trained in \u001b[1;36m0.161\u001b[0m sec\n"
      ]
     },
     "metadata": {},
     "output_type": "display_data"
    },
    {
     "data": {
      "text/html": [
       "<pre style=\"white-space:pre;overflow-x:auto;line-height:normal;font-family:Menlo,'DejaVu Sans Mono',consolas,'Courier New',monospace\"><span style=\"color: #05a6fb; text-decoration-color: #05a6fb\">────────────────────── Acquisition function optimization ───────────────────────</span>\n",
       "</pre>\n"
      ],
      "text/plain": [
       "\u001b[38;2;5;166;251m────────────────────── Acquisition function optimization ───────────────────────\u001b[0m\n"
      ]
     },
     "metadata": {},
     "output_type": "display_data"
    },
    {
     "data": {
      "text/html": [
       "<pre style=\"white-space:pre;overflow-x:auto;line-height:normal;font-family:Menlo,'DejaVu Sans Mono',consolas,'Courier New',monospace\">ATLAS <span style=\"font-weight: bold\">[</span>INFO<span style=\"font-weight: bold\">]</span> Optimizing acquisition function with pymoo GA for <span style=\"color: #008080; text-decoration-color: #008080; font-weight: bold\">1</span> fixed parameters<span style=\"color: #808000; text-decoration-color: #808000\">...</span>\n",
       "</pre>\n"
      ],
      "text/plain": [
       "ATLAS \u001b[1m[\u001b[0mINFO\u001b[1m]\u001b[0m Optimizing acquisition function with pymoo GA for \u001b[1;36m1\u001b[0m fixed parameters\u001b[33m...\u001b[0m\n"
      ]
     },
     "metadata": {},
     "output_type": "display_data"
    },
    {
     "name": "stderr",
     "output_type": "stream",
     "text": [
      "/users/k23070952/.local/lib/python3.9/site-packages/botorch/models/gpytorch.py:477: BotorchTensorDimensionWarning: Non-strict enforcement of botorch tensor conventions. The following error would have been raised with strict enforcement: Expected X and Y to have the same number of dimensions (got X with dimension 3 and Y with dimension 4).\n",
      "  self._validate_tensor_args(X=X, Y=Y, Yvar=noise, strict=False)\n",
      "/users/k23070952/.local/lib/python3.9/site-packages/botorch/models/gpytorch.py:239: BotorchTensorDimensionWarning: Non-strict enforcement of botorch tensor conventions. The following error would have been raised with strict enforcement: Expected X and Y to have the same number of dimensions (got X with dimension 3 and Y with dimension 4).\n",
      "  self._validate_tensor_args(X=X, Y=Y, Yvar=Yvar, strict=False)\n",
      "/users/k23070952/.local/lib/python3.9/site-packages/pymoo/operators/repair/rounding.py:18: RuntimeWarning: invalid value encountered in cast\n",
      "  return np.around(X).astype(int)\n",
      "/users/k23070952/.local/lib/python3.9/site-packages/pymoo/operators/mutation/pm.py:44: RuntimeWarning: overflow encountered in power\n",
      "  val = 2.0 * rand + (1.0 - 2.0 * rand) * (np.power(xy, (eta + 1.0)))\n",
      "/users/k23070952/.local/lib/python3.9/site-packages/pymoo/operators/mutation/pm.py:49: RuntimeWarning: overflow encountered in power\n",
      "  val = 2.0 * (1.0 - rand) + 2.0 * (rand - 0.5) * (np.power(xy, (eta + 1.0)))\n"
     ]
    },
    {
     "name": "stdout",
     "output_type": "stream",
     "text": [
      "SAMPLE :  ParamVector(s = 0.1, organic = hydroxylammonium, cation = Ge, anion = F)\n",
      "MEASUREMENT :  4.1513\n"
     ]
    },
    {
     "data": {
      "text/html": [
       "<pre style=\"white-space:pre;overflow-x:auto;line-height:normal;font-family:Menlo,'DejaVu Sans Mono',consolas,'Courier New',monospace\"><span style=\"color: #05a6fb; text-decoration-color: #05a6fb\">────────────────────── Acquisition function optimization ───────────────────────</span>\n",
       "</pre>\n"
      ],
      "text/plain": [
       "\u001b[38;2;5;166;251m────────────────────── Acquisition function optimization ───────────────────────\u001b[0m\n"
      ]
     },
     "metadata": {},
     "output_type": "display_data"
    },
    {
     "data": {
      "text/html": [
       "<pre style=\"white-space:pre;overflow-x:auto;line-height:normal;font-family:Menlo,'DejaVu Sans Mono',consolas,'Courier New',monospace\">ATLAS <span style=\"font-weight: bold\">[</span>INFO<span style=\"font-weight: bold\">]</span> Optimizing acquisition function with pymoo GA for <span style=\"color: #008080; text-decoration-color: #008080; font-weight: bold\">1</span> fixed parameters<span style=\"color: #808000; text-decoration-color: #808000\">...</span>\n",
       "</pre>\n"
      ],
      "text/plain": [
       "ATLAS \u001b[1m[\u001b[0mINFO\u001b[1m]\u001b[0m Optimizing acquisition function with pymoo GA for \u001b[1;36m1\u001b[0m fixed parameters\u001b[33m...\u001b[0m\n"
      ]
     },
     "metadata": {},
     "output_type": "display_data"
    },
    {
     "name": "stdout",
     "output_type": "stream",
     "text": [
      "\n",
      "REC SAMPLE :  ParamVector(s = 1.0, organic = methylammonium, cation = Ge, anion = Cl)\n",
      "REC MEASUREMENT :  2.8141\n",
      "\n",
      "\n",
      "RUN : 1/2\tITER : 17\tCOST : 3.4000000000000004\n",
      "\n"
     ]
    },
    {
     "data": {
      "text/html": [
       "<pre style=\"white-space:pre;overflow-x:auto;line-height:normal;font-family:Menlo,'DejaVu Sans Mono',consolas,'Courier New',monospace\"><span style=\"color: #f4a261; text-decoration-color: #f4a261\">ATLAS </span><span style=\"color: #f4a261; text-decoration-color: #f4a261; font-weight: bold\">[</span><span style=\"color: #f4a261; text-decoration-color: #f4a261\">WARNING</span><span style=\"color: #f4a261; text-decoration-color: #f4a261; font-weight: bold\">]</span><span style=\"color: #f4a261; text-decoration-color: #f4a261\"> Setting ask fidelity level to </span><span style=\"color: #008080; text-decoration-color: #008080; font-weight: bold\">1.0</span>\n",
       "</pre>\n"
      ],
      "text/plain": [
       "\u001b[38;2;244;162;97mATLAS \u001b[0m\u001b[1;38;2;244;162;97m[\u001b[0m\u001b[38;2;244;162;97mWARNING\u001b[0m\u001b[1;38;2;244;162;97m]\u001b[0m\u001b[38;2;244;162;97m Setting ask fidelity level to \u001b[0m\u001b[1;36m1.0\u001b[0m\n"
      ]
     },
     "metadata": {},
     "output_type": "display_data"
    },
    {
     "data": {
      "text/html": [
       "<pre style=\"white-space:pre;overflow-x:auto;line-height:normal;font-family:Menlo,'DejaVu Sans Mono',consolas,'Courier New',monospace\"><span style=\"color: #05a6fb; text-decoration-color: #05a6fb\">───────────────────── Training regression surrogate model ──────────────────────</span>\n",
       "</pre>\n"
      ],
      "text/plain": [
       "\u001b[38;2;5;166;251m───────────────────── Training regression surrogate model ──────────────────────\u001b[0m\n"
      ]
     },
     "metadata": {},
     "output_type": "display_data"
    },
    {
     "name": "stderr",
     "output_type": "stream",
     "text": [
      "/users/k23070952/.local/lib/python3.9/site-packages/botorch/models/utils/assorted.py:174: InputDataWarning: Input data is not contained to the unit cube. Please consider min-max scaling the input data.\n",
      "  warnings.warn(msg, InputDataWarning)\n",
      "/users/k23070952/.local/lib/python3.9/site-packages/botorch/models/utils/assorted.py:202: InputDataWarning: Input data is not standardized (mean = tensor([-1.2490e-16]), std = tensor([1.0328])). Please consider scaling the input to zero mean and unit variance.\n",
      "  warnings.warn(msg, InputDataWarning)\n"
     ]
    },
    {
     "data": {
      "text/html": [
       "<pre style=\"white-space:pre;overflow-x:auto;line-height:normal;font-family:Menlo,'DejaVu Sans Mono',consolas,'Courier New',monospace\">ATLAS <span style=\"font-weight: bold\">[</span>INFO<span style=\"font-weight: bold\">]</span> Regression surrogate GP trained in <span style=\"color: #008080; text-decoration-color: #008080; font-weight: bold\">0.816</span> sec\n",
       "</pre>\n"
      ],
      "text/plain": [
       "ATLAS \u001b[1m[\u001b[0mINFO\u001b[1m]\u001b[0m Regression surrogate GP trained in \u001b[1;36m0.816\u001b[0m sec\n"
      ]
     },
     "metadata": {},
     "output_type": "display_data"
    },
    {
     "data": {
      "text/html": [
       "<pre style=\"white-space:pre;overflow-x:auto;line-height:normal;font-family:Menlo,'DejaVu Sans Mono',consolas,'Courier New',monospace\"><span style=\"color: #05a6fb; text-decoration-color: #05a6fb\">────────────────────── Acquisition function optimization ───────────────────────</span>\n",
       "</pre>\n"
      ],
      "text/plain": [
       "\u001b[38;2;5;166;251m────────────────────── Acquisition function optimization ───────────────────────\u001b[0m\n"
      ]
     },
     "metadata": {},
     "output_type": "display_data"
    },
    {
     "data": {
      "text/html": [
       "<pre style=\"white-space:pre;overflow-x:auto;line-height:normal;font-family:Menlo,'DejaVu Sans Mono',consolas,'Courier New',monospace\">ATLAS <span style=\"font-weight: bold\">[</span>INFO<span style=\"font-weight: bold\">]</span> Optimizing acquisition function with pymoo GA for <span style=\"color: #008080; text-decoration-color: #008080; font-weight: bold\">1</span> fixed parameters<span style=\"color: #808000; text-decoration-color: #808000\">...</span>\n",
       "</pre>\n"
      ],
      "text/plain": [
       "ATLAS \u001b[1m[\u001b[0mINFO\u001b[1m]\u001b[0m Optimizing acquisition function with pymoo GA for \u001b[1;36m1\u001b[0m fixed parameters\u001b[33m...\u001b[0m\n"
      ]
     },
     "metadata": {},
     "output_type": "display_data"
    },
    {
     "name": "stderr",
     "output_type": "stream",
     "text": [
      "/users/k23070952/.local/lib/python3.9/site-packages/botorch/models/gpytorch.py:477: BotorchTensorDimensionWarning: Non-strict enforcement of botorch tensor conventions. The following error would have been raised with strict enforcement: Expected X and Y to have the same number of dimensions (got X with dimension 3 and Y with dimension 4).\n",
      "  self._validate_tensor_args(X=X, Y=Y, Yvar=noise, strict=False)\n",
      "/users/k23070952/.local/lib/python3.9/site-packages/botorch/models/gpytorch.py:239: BotorchTensorDimensionWarning: Non-strict enforcement of botorch tensor conventions. The following error would have been raised with strict enforcement: Expected X and Y to have the same number of dimensions (got X with dimension 3 and Y with dimension 4).\n",
      "  self._validate_tensor_args(X=X, Y=Y, Yvar=Yvar, strict=False)\n",
      "/users/k23070952/.local/lib/python3.9/site-packages/pymoo/operators/repair/rounding.py:18: RuntimeWarning: invalid value encountered in cast\n",
      "  return np.around(X).astype(int)\n",
      "/users/k23070952/.local/lib/python3.9/site-packages/pymoo/operators/mutation/pm.py:44: RuntimeWarning: overflow encountered in power\n",
      "  val = 2.0 * rand + (1.0 - 2.0 * rand) * (np.power(xy, (eta + 1.0)))\n",
      "/users/k23070952/.local/lib/python3.9/site-packages/pymoo/operators/mutation/pm.py:49: RuntimeWarning: overflow encountered in power\n",
      "  val = 2.0 * (1.0 - rand) + 2.0 * (rand - 0.5) * (np.power(xy, (eta + 1.0)))\n"
     ]
    },
    {
     "name": "stdout",
     "output_type": "stream",
     "text": [
      "SAMPLE :  ParamVector(s = 1.0, organic = hydroxylammonium, cation = Ge, anion = Br)\n",
      "MEASUREMENT :  2.2463\n"
     ]
    },
    {
     "data": {
      "text/html": [
       "<pre style=\"white-space:pre;overflow-x:auto;line-height:normal;font-family:Menlo,'DejaVu Sans Mono',consolas,'Courier New',monospace\"><span style=\"color: #05a6fb; text-decoration-color: #05a6fb\">────────────────────── Acquisition function optimization ───────────────────────</span>\n",
       "</pre>\n"
      ],
      "text/plain": [
       "\u001b[38;2;5;166;251m────────────────────── Acquisition function optimization ───────────────────────\u001b[0m\n"
      ]
     },
     "metadata": {},
     "output_type": "display_data"
    },
    {
     "data": {
      "text/html": [
       "<pre style=\"white-space:pre;overflow-x:auto;line-height:normal;font-family:Menlo,'DejaVu Sans Mono',consolas,'Courier New',monospace\">ATLAS <span style=\"font-weight: bold\">[</span>INFO<span style=\"font-weight: bold\">]</span> Optimizing acquisition function with pymoo GA for <span style=\"color: #008080; text-decoration-color: #008080; font-weight: bold\">1</span> fixed parameters<span style=\"color: #808000; text-decoration-color: #808000\">...</span>\n",
       "</pre>\n"
      ],
      "text/plain": [
       "ATLAS \u001b[1m[\u001b[0mINFO\u001b[1m]\u001b[0m Optimizing acquisition function with pymoo GA for \u001b[1;36m1\u001b[0m fixed parameters\u001b[33m...\u001b[0m\n"
      ]
     },
     "metadata": {},
     "output_type": "display_data"
    },
    {
     "name": "stdout",
     "output_type": "stream",
     "text": [
      "\n",
      "REC SAMPLE :  ParamVector(s = 1.0, organic = azetidinium, cation = Pb, anion = Br)\n",
      "REC MEASUREMENT :  2.7591\n",
      "\n",
      "\n",
      "RUN : 1/2\tITER : 18\tCOST : 4.4\n",
      "\n"
     ]
    },
    {
     "data": {
      "text/html": [
       "<pre style=\"white-space:pre;overflow-x:auto;line-height:normal;font-family:Menlo,'DejaVu Sans Mono',consolas,'Courier New',monospace\"><span style=\"color: #f4a261; text-decoration-color: #f4a261\">ATLAS </span><span style=\"color: #f4a261; text-decoration-color: #f4a261; font-weight: bold\">[</span><span style=\"color: #f4a261; text-decoration-color: #f4a261\">WARNING</span><span style=\"color: #f4a261; text-decoration-color: #f4a261; font-weight: bold\">]</span><span style=\"color: #f4a261; text-decoration-color: #f4a261\"> Setting ask fidelity level to </span><span style=\"color: #008080; text-decoration-color: #008080; font-weight: bold\">0.1</span>\n",
       "</pre>\n"
      ],
      "text/plain": [
       "\u001b[38;2;244;162;97mATLAS \u001b[0m\u001b[1;38;2;244;162;97m[\u001b[0m\u001b[38;2;244;162;97mWARNING\u001b[0m\u001b[1;38;2;244;162;97m]\u001b[0m\u001b[38;2;244;162;97m Setting ask fidelity level to \u001b[0m\u001b[1;36m0.1\u001b[0m\n"
      ]
     },
     "metadata": {},
     "output_type": "display_data"
    },
    {
     "data": {
      "text/html": [
       "<pre style=\"white-space:pre;overflow-x:auto;line-height:normal;font-family:Menlo,'DejaVu Sans Mono',consolas,'Courier New',monospace\"><span style=\"color: #05a6fb; text-decoration-color: #05a6fb\">───────────────────── Training regression surrogate model ──────────────────────</span>\n",
       "</pre>\n"
      ],
      "text/plain": [
       "\u001b[38;2;5;166;251m───────────────────── Training regression surrogate model ──────────────────────\u001b[0m\n"
      ]
     },
     "metadata": {},
     "output_type": "display_data"
    },
    {
     "name": "stderr",
     "output_type": "stream",
     "text": [
      "/users/k23070952/.local/lib/python3.9/site-packages/botorch/models/utils/assorted.py:174: InputDataWarning: Input data is not contained to the unit cube. Please consider min-max scaling the input data.\n",
      "  warnings.warn(msg, InputDataWarning)\n",
      "/users/k23070952/.local/lib/python3.9/site-packages/botorch/models/utils/assorted.py:202: InputDataWarning: Input data is not standardized (mean = tensor([1.6980e-16]), std = tensor([1.0308])). Please consider scaling the input to zero mean and unit variance.\n",
      "  warnings.warn(msg, InputDataWarning)\n"
     ]
    },
    {
     "data": {
      "text/html": [
       "<pre style=\"white-space:pre;overflow-x:auto;line-height:normal;font-family:Menlo,'DejaVu Sans Mono',consolas,'Courier New',monospace\">ATLAS <span style=\"font-weight: bold\">[</span>INFO<span style=\"font-weight: bold\">]</span> Regression surrogate GP trained in <span style=\"color: #008080; text-decoration-color: #008080; font-weight: bold\">0.702</span> sec\n",
       "</pre>\n"
      ],
      "text/plain": [
       "ATLAS \u001b[1m[\u001b[0mINFO\u001b[1m]\u001b[0m Regression surrogate GP trained in \u001b[1;36m0.702\u001b[0m sec\n"
      ]
     },
     "metadata": {},
     "output_type": "display_data"
    },
    {
     "data": {
      "text/html": [
       "<pre style=\"white-space:pre;overflow-x:auto;line-height:normal;font-family:Menlo,'DejaVu Sans Mono',consolas,'Courier New',monospace\"><span style=\"color: #05a6fb; text-decoration-color: #05a6fb\">────────────────────── Acquisition function optimization ───────────────────────</span>\n",
       "</pre>\n"
      ],
      "text/plain": [
       "\u001b[38;2;5;166;251m────────────────────── Acquisition function optimization ───────────────────────\u001b[0m\n"
      ]
     },
     "metadata": {},
     "output_type": "display_data"
    },
    {
     "data": {
      "text/html": [
       "<pre style=\"white-space:pre;overflow-x:auto;line-height:normal;font-family:Menlo,'DejaVu Sans Mono',consolas,'Courier New',monospace\">ATLAS <span style=\"font-weight: bold\">[</span>INFO<span style=\"font-weight: bold\">]</span> Optimizing acquisition function with pymoo GA for <span style=\"color: #008080; text-decoration-color: #008080; font-weight: bold\">1</span> fixed parameters<span style=\"color: #808000; text-decoration-color: #808000\">...</span>\n",
       "</pre>\n"
      ],
      "text/plain": [
       "ATLAS \u001b[1m[\u001b[0mINFO\u001b[1m]\u001b[0m Optimizing acquisition function with pymoo GA for \u001b[1;36m1\u001b[0m fixed parameters\u001b[33m...\u001b[0m\n"
      ]
     },
     "metadata": {},
     "output_type": "display_data"
    },
    {
     "name": "stderr",
     "output_type": "stream",
     "text": [
      "/users/k23070952/.local/lib/python3.9/site-packages/botorch/models/gpytorch.py:477: BotorchTensorDimensionWarning: Non-strict enforcement of botorch tensor conventions. The following error would have been raised with strict enforcement: Expected X and Y to have the same number of dimensions (got X with dimension 3 and Y with dimension 4).\n",
      "  self._validate_tensor_args(X=X, Y=Y, Yvar=noise, strict=False)\n",
      "/users/k23070952/.local/lib/python3.9/site-packages/botorch/models/gpytorch.py:239: BotorchTensorDimensionWarning: Non-strict enforcement of botorch tensor conventions. The following error would have been raised with strict enforcement: Expected X and Y to have the same number of dimensions (got X with dimension 3 and Y with dimension 4).\n",
      "  self._validate_tensor_args(X=X, Y=Y, Yvar=Yvar, strict=False)\n",
      "/users/k23070952/.local/lib/python3.9/site-packages/pymoo/operators/repair/rounding.py:18: RuntimeWarning: invalid value encountered in cast\n",
      "  return np.around(X).astype(int)\n",
      "/users/k23070952/.local/lib/python3.9/site-packages/pymoo/operators/mutation/pm.py:44: RuntimeWarning: overflow encountered in power\n",
      "  val = 2.0 * rand + (1.0 - 2.0 * rand) * (np.power(xy, (eta + 1.0)))\n",
      "/users/k23070952/.local/lib/python3.9/site-packages/pymoo/operators/mutation/pm.py:49: RuntimeWarning: overflow encountered in power\n",
      "  val = 2.0 * (1.0 - rand) + 2.0 * (rand - 0.5) * (np.power(xy, (eta + 1.0)))\n"
     ]
    },
    {
     "name": "stdout",
     "output_type": "stream",
     "text": [
      "SAMPLE :  ParamVector(s = 0.1, organic = tetramethylammonium, cation = Sn, anion = Br)\n",
      "MEASUREMENT :  2.2126\n"
     ]
    },
    {
     "data": {
      "text/html": [
       "<pre style=\"white-space:pre;overflow-x:auto;line-height:normal;font-family:Menlo,'DejaVu Sans Mono',consolas,'Courier New',monospace\"><span style=\"color: #05a6fb; text-decoration-color: #05a6fb\">────────────────────── Acquisition function optimization ───────────────────────</span>\n",
       "</pre>\n"
      ],
      "text/plain": [
       "\u001b[38;2;5;166;251m────────────────────── Acquisition function optimization ───────────────────────\u001b[0m\n"
      ]
     },
     "metadata": {},
     "output_type": "display_data"
    },
    {
     "data": {
      "text/html": [
       "<pre style=\"white-space:pre;overflow-x:auto;line-height:normal;font-family:Menlo,'DejaVu Sans Mono',consolas,'Courier New',monospace\">ATLAS <span style=\"font-weight: bold\">[</span>INFO<span style=\"font-weight: bold\">]</span> Optimizing acquisition function with pymoo GA for <span style=\"color: #008080; text-decoration-color: #008080; font-weight: bold\">1</span> fixed parameters<span style=\"color: #808000; text-decoration-color: #808000\">...</span>\n",
       "</pre>\n"
      ],
      "text/plain": [
       "ATLAS \u001b[1m[\u001b[0mINFO\u001b[1m]\u001b[0m Optimizing acquisition function with pymoo GA for \u001b[1;36m1\u001b[0m fixed parameters\u001b[33m...\u001b[0m\n"
      ]
     },
     "metadata": {},
     "output_type": "display_data"
    },
    {
     "name": "stdout",
     "output_type": "stream",
     "text": [
      "\n",
      "REC SAMPLE :  ParamVector(s = 1.0, organic = acetamidinium, cation = Sn, anion = I)\n",
      "REC MEASUREMENT :  1.7999\n",
      "\n",
      "\n",
      "RUN : 1/2\tITER : 19\tCOST : 4.5\n",
      "\n"
     ]
    },
    {
     "data": {
      "text/html": [
       "<pre style=\"white-space:pre;overflow-x:auto;line-height:normal;font-family:Menlo,'DejaVu Sans Mono',consolas,'Courier New',monospace\"><span style=\"color: #f4a261; text-decoration-color: #f4a261\">ATLAS </span><span style=\"color: #f4a261; text-decoration-color: #f4a261; font-weight: bold\">[</span><span style=\"color: #f4a261; text-decoration-color: #f4a261\">WARNING</span><span style=\"color: #f4a261; text-decoration-color: #f4a261; font-weight: bold\">]</span><span style=\"color: #f4a261; text-decoration-color: #f4a261\"> Setting ask fidelity level to </span><span style=\"color: #008080; text-decoration-color: #008080; font-weight: bold\">0.1</span>\n",
       "</pre>\n"
      ],
      "text/plain": [
       "\u001b[38;2;244;162;97mATLAS \u001b[0m\u001b[1;38;2;244;162;97m[\u001b[0m\u001b[38;2;244;162;97mWARNING\u001b[0m\u001b[1;38;2;244;162;97m]\u001b[0m\u001b[38;2;244;162;97m Setting ask fidelity level to \u001b[0m\u001b[1;36m0.1\u001b[0m\n"
      ]
     },
     "metadata": {},
     "output_type": "display_data"
    },
    {
     "data": {
      "text/html": [
       "<pre style=\"white-space:pre;overflow-x:auto;line-height:normal;font-family:Menlo,'DejaVu Sans Mono',consolas,'Courier New',monospace\"><span style=\"color: #05a6fb; text-decoration-color: #05a6fb\">───────────────────── Training regression surrogate model ──────────────────────</span>\n",
       "</pre>\n"
      ],
      "text/plain": [
       "\u001b[38;2;5;166;251m───────────────────── Training regression surrogate model ──────────────────────\u001b[0m\n"
      ]
     },
     "metadata": {},
     "output_type": "display_data"
    },
    {
     "name": "stderr",
     "output_type": "stream",
     "text": [
      "/users/k23070952/.local/lib/python3.9/site-packages/botorch/models/utils/assorted.py:174: InputDataWarning: Input data is not contained to the unit cube. Please consider min-max scaling the input data.\n",
      "  warnings.warn(msg, InputDataWarning)\n",
      "/users/k23070952/.local/lib/python3.9/site-packages/botorch/models/utils/assorted.py:202: InputDataWarning: Input data is not standardized (mean = tensor([-1.6653e-16]), std = tensor([1.0290])). Please consider scaling the input to zero mean and unit variance.\n",
      "  warnings.warn(msg, InputDataWarning)\n"
     ]
    },
    {
     "data": {
      "text/html": [
       "<pre style=\"white-space:pre;overflow-x:auto;line-height:normal;font-family:Menlo,'DejaVu Sans Mono',consolas,'Courier New',monospace\">ATLAS <span style=\"font-weight: bold\">[</span>INFO<span style=\"font-weight: bold\">]</span> Regression surrogate GP trained in <span style=\"color: #008080; text-decoration-color: #008080; font-weight: bold\">0.139</span> sec\n",
       "</pre>\n"
      ],
      "text/plain": [
       "ATLAS \u001b[1m[\u001b[0mINFO\u001b[1m]\u001b[0m Regression surrogate GP trained in \u001b[1;36m0.139\u001b[0m sec\n"
      ]
     },
     "metadata": {},
     "output_type": "display_data"
    },
    {
     "data": {
      "text/html": [
       "<pre style=\"white-space:pre;overflow-x:auto;line-height:normal;font-family:Menlo,'DejaVu Sans Mono',consolas,'Courier New',monospace\"><span style=\"color: #05a6fb; text-decoration-color: #05a6fb\">────────────────────── Acquisition function optimization ───────────────────────</span>\n",
       "</pre>\n"
      ],
      "text/plain": [
       "\u001b[38;2;5;166;251m────────────────────── Acquisition function optimization ───────────────────────\u001b[0m\n"
      ]
     },
     "metadata": {},
     "output_type": "display_data"
    },
    {
     "data": {
      "text/html": [
       "<pre style=\"white-space:pre;overflow-x:auto;line-height:normal;font-family:Menlo,'DejaVu Sans Mono',consolas,'Courier New',monospace\">ATLAS <span style=\"font-weight: bold\">[</span>INFO<span style=\"font-weight: bold\">]</span> Optimizing acquisition function with pymoo GA for <span style=\"color: #008080; text-decoration-color: #008080; font-weight: bold\">1</span> fixed parameters<span style=\"color: #808000; text-decoration-color: #808000\">...</span>\n",
       "</pre>\n"
      ],
      "text/plain": [
       "ATLAS \u001b[1m[\u001b[0mINFO\u001b[1m]\u001b[0m Optimizing acquisition function with pymoo GA for \u001b[1;36m1\u001b[0m fixed parameters\u001b[33m...\u001b[0m\n"
      ]
     },
     "metadata": {},
     "output_type": "display_data"
    },
    {
     "name": "stderr",
     "output_type": "stream",
     "text": [
      "/users/k23070952/.local/lib/python3.9/site-packages/botorch/models/gpytorch.py:477: BotorchTensorDimensionWarning: Non-strict enforcement of botorch tensor conventions. The following error would have been raised with strict enforcement: Expected X and Y to have the same number of dimensions (got X with dimension 3 and Y with dimension 4).\n",
      "  self._validate_tensor_args(X=X, Y=Y, Yvar=noise, strict=False)\n",
      "/users/k23070952/.local/lib/python3.9/site-packages/botorch/models/gpytorch.py:239: BotorchTensorDimensionWarning: Non-strict enforcement of botorch tensor conventions. The following error would have been raised with strict enforcement: Expected X and Y to have the same number of dimensions (got X with dimension 3 and Y with dimension 4).\n",
      "  self._validate_tensor_args(X=X, Y=Y, Yvar=Yvar, strict=False)\n",
      "/users/k23070952/.local/lib/python3.9/site-packages/pymoo/operators/repair/rounding.py:18: RuntimeWarning: invalid value encountered in cast\n",
      "  return np.around(X).astype(int)\n",
      "/users/k23070952/.local/lib/python3.9/site-packages/pymoo/operators/mutation/pm.py:44: RuntimeWarning: overflow encountered in power\n",
      "  val = 2.0 * rand + (1.0 - 2.0 * rand) * (np.power(xy, (eta + 1.0)))\n",
      "/users/k23070952/.local/lib/python3.9/site-packages/pymoo/operators/mutation/pm.py:49: RuntimeWarning: overflow encountered in power\n",
      "  val = 2.0 * (1.0 - rand) + 2.0 * (rand - 0.5) * (np.power(xy, (eta + 1.0)))\n"
     ]
    },
    {
     "name": "stdout",
     "output_type": "stream",
     "text": [
      "SAMPLE :  ParamVector(s = 0.1, organic = guanidinium, cation = Ge, anion = Cl)\n",
      "MEASUREMENT :  2.7209\n"
     ]
    },
    {
     "data": {
      "text/html": [
       "<pre style=\"white-space:pre;overflow-x:auto;line-height:normal;font-family:Menlo,'DejaVu Sans Mono',consolas,'Courier New',monospace\"><span style=\"color: #05a6fb; text-decoration-color: #05a6fb\">────────────────────── Acquisition function optimization ───────────────────────</span>\n",
       "</pre>\n"
      ],
      "text/plain": [
       "\u001b[38;2;5;166;251m────────────────────── Acquisition function optimization ───────────────────────\u001b[0m\n"
      ]
     },
     "metadata": {},
     "output_type": "display_data"
    },
    {
     "data": {
      "text/html": [
       "<pre style=\"white-space:pre;overflow-x:auto;line-height:normal;font-family:Menlo,'DejaVu Sans Mono',consolas,'Courier New',monospace\">ATLAS <span style=\"font-weight: bold\">[</span>INFO<span style=\"font-weight: bold\">]</span> Optimizing acquisition function with pymoo GA for <span style=\"color: #008080; text-decoration-color: #008080; font-weight: bold\">1</span> fixed parameters<span style=\"color: #808000; text-decoration-color: #808000\">...</span>\n",
       "</pre>\n"
      ],
      "text/plain": [
       "ATLAS \u001b[1m[\u001b[0mINFO\u001b[1m]\u001b[0m Optimizing acquisition function with pymoo GA for \u001b[1;36m1\u001b[0m fixed parameters\u001b[33m...\u001b[0m\n"
      ]
     },
     "metadata": {},
     "output_type": "display_data"
    },
    {
     "name": "stdout",
     "output_type": "stream",
     "text": [
      "\n",
      "REC SAMPLE :  ParamVector(s = 1.0, organic = propylammonium, cation = Ge, anion = Cl)\n",
      "REC MEASUREMENT :  3.6967\n",
      "\n",
      "\n",
      "RUN : 1/2\tITER : 20\tCOST : 4.6\n",
      "\n"
     ]
    },
    {
     "data": {
      "text/html": [
       "<pre style=\"white-space:pre;overflow-x:auto;line-height:normal;font-family:Menlo,'DejaVu Sans Mono',consolas,'Courier New',monospace\"><span style=\"color: #f4a261; text-decoration-color: #f4a261\">ATLAS </span><span style=\"color: #f4a261; text-decoration-color: #f4a261; font-weight: bold\">[</span><span style=\"color: #f4a261; text-decoration-color: #f4a261\">WARNING</span><span style=\"color: #f4a261; text-decoration-color: #f4a261; font-weight: bold\">]</span><span style=\"color: #f4a261; text-decoration-color: #f4a261\"> Setting ask fidelity level to </span><span style=\"color: #008080; text-decoration-color: #008080; font-weight: bold\">0.1</span>\n",
       "</pre>\n"
      ],
      "text/plain": [
       "\u001b[38;2;244;162;97mATLAS \u001b[0m\u001b[1;38;2;244;162;97m[\u001b[0m\u001b[38;2;244;162;97mWARNING\u001b[0m\u001b[1;38;2;244;162;97m]\u001b[0m\u001b[38;2;244;162;97m Setting ask fidelity level to \u001b[0m\u001b[1;36m0.1\u001b[0m\n"
      ]
     },
     "metadata": {},
     "output_type": "display_data"
    },
    {
     "data": {
      "text/html": [
       "<pre style=\"white-space:pre;overflow-x:auto;line-height:normal;font-family:Menlo,'DejaVu Sans Mono',consolas,'Courier New',monospace\"><span style=\"color: #05a6fb; text-decoration-color: #05a6fb\">───────────────────── Training regression surrogate model ──────────────────────</span>\n",
       "</pre>\n"
      ],
      "text/plain": [
       "\u001b[38;2;5;166;251m───────────────────── Training regression surrogate model ──────────────────────\u001b[0m\n"
      ]
     },
     "metadata": {},
     "output_type": "display_data"
    },
    {
     "name": "stderr",
     "output_type": "stream",
     "text": [
      "/users/k23070952/.local/lib/python3.9/site-packages/botorch/models/utils/assorted.py:174: InputDataWarning: Input data is not contained to the unit cube. Please consider min-max scaling the input data.\n",
      "  warnings.warn(msg, InputDataWarning)\n",
      "/users/k23070952/.local/lib/python3.9/site-packages/botorch/models/utils/assorted.py:202: InputDataWarning: Input data is not standardized (mean = tensor([7.0119e-17]), std = tensor([1.0274])). Please consider scaling the input to zero mean and unit variance.\n",
      "  warnings.warn(msg, InputDataWarning)\n"
     ]
    },
    {
     "data": {
      "text/html": [
       "<pre style=\"white-space:pre;overflow-x:auto;line-height:normal;font-family:Menlo,'DejaVu Sans Mono',consolas,'Courier New',monospace\">ATLAS <span style=\"font-weight: bold\">[</span>INFO<span style=\"font-weight: bold\">]</span> Regression surrogate GP trained in <span style=\"color: #008080; text-decoration-color: #008080; font-weight: bold\">0.2</span> sec\n",
       "</pre>\n"
      ],
      "text/plain": [
       "ATLAS \u001b[1m[\u001b[0mINFO\u001b[1m]\u001b[0m Regression surrogate GP trained in \u001b[1;36m0.2\u001b[0m sec\n"
      ]
     },
     "metadata": {},
     "output_type": "display_data"
    },
    {
     "data": {
      "text/html": [
       "<pre style=\"white-space:pre;overflow-x:auto;line-height:normal;font-family:Menlo,'DejaVu Sans Mono',consolas,'Courier New',monospace\"><span style=\"color: #05a6fb; text-decoration-color: #05a6fb\">────────────────────── Acquisition function optimization ───────────────────────</span>\n",
       "</pre>\n"
      ],
      "text/plain": [
       "\u001b[38;2;5;166;251m────────────────────── Acquisition function optimization ───────────────────────\u001b[0m\n"
      ]
     },
     "metadata": {},
     "output_type": "display_data"
    },
    {
     "data": {
      "text/html": [
       "<pre style=\"white-space:pre;overflow-x:auto;line-height:normal;font-family:Menlo,'DejaVu Sans Mono',consolas,'Courier New',monospace\">ATLAS <span style=\"font-weight: bold\">[</span>INFO<span style=\"font-weight: bold\">]</span> Optimizing acquisition function with pymoo GA for <span style=\"color: #008080; text-decoration-color: #008080; font-weight: bold\">1</span> fixed parameters<span style=\"color: #808000; text-decoration-color: #808000\">...</span>\n",
       "</pre>\n"
      ],
      "text/plain": [
       "ATLAS \u001b[1m[\u001b[0mINFO\u001b[1m]\u001b[0m Optimizing acquisition function with pymoo GA for \u001b[1;36m1\u001b[0m fixed parameters\u001b[33m...\u001b[0m\n"
      ]
     },
     "metadata": {},
     "output_type": "display_data"
    },
    {
     "name": "stderr",
     "output_type": "stream",
     "text": [
      "/users/k23070952/.local/lib/python3.9/site-packages/botorch/models/gpytorch.py:477: BotorchTensorDimensionWarning: Non-strict enforcement of botorch tensor conventions. The following error would have been raised with strict enforcement: Expected X and Y to have the same number of dimensions (got X with dimension 3 and Y with dimension 4).\n",
      "  self._validate_tensor_args(X=X, Y=Y, Yvar=noise, strict=False)\n",
      "/users/k23070952/.local/lib/python3.9/site-packages/botorch/models/gpytorch.py:239: BotorchTensorDimensionWarning: Non-strict enforcement of botorch tensor conventions. The following error would have been raised with strict enforcement: Expected X and Y to have the same number of dimensions (got X with dimension 3 and Y with dimension 4).\n",
      "  self._validate_tensor_args(X=X, Y=Y, Yvar=Yvar, strict=False)\n",
      "/users/k23070952/.local/lib/python3.9/site-packages/pymoo/operators/repair/rounding.py:18: RuntimeWarning: invalid value encountered in cast\n",
      "  return np.around(X).astype(int)\n",
      "/users/k23070952/.local/lib/python3.9/site-packages/pymoo/operators/mutation/pm.py:44: RuntimeWarning: overflow encountered in power\n",
      "  val = 2.0 * rand + (1.0 - 2.0 * rand) * (np.power(xy, (eta + 1.0)))\n",
      "/users/k23070952/.local/lib/python3.9/site-packages/pymoo/operators/mutation/pm.py:49: RuntimeWarning: overflow encountered in power\n",
      "  val = 2.0 * (1.0 - rand) + 2.0 * (rand - 0.5) * (np.power(xy, (eta + 1.0)))\n"
     ]
    },
    {
     "name": "stdout",
     "output_type": "stream",
     "text": [
      "SAMPLE :  ParamVector(s = 0.1, organic = acetamidinium, cation = Sn, anion = Cl)\n",
      "MEASUREMENT :  2.267\n"
     ]
    },
    {
     "data": {
      "text/html": [
       "<pre style=\"white-space:pre;overflow-x:auto;line-height:normal;font-family:Menlo,'DejaVu Sans Mono',consolas,'Courier New',monospace\"><span style=\"color: #05a6fb; text-decoration-color: #05a6fb\">────────────────────── Acquisition function optimization ───────────────────────</span>\n",
       "</pre>\n"
      ],
      "text/plain": [
       "\u001b[38;2;5;166;251m────────────────────── Acquisition function optimization ───────────────────────\u001b[0m\n"
      ]
     },
     "metadata": {},
     "output_type": "display_data"
    },
    {
     "data": {
      "text/html": [
       "<pre style=\"white-space:pre;overflow-x:auto;line-height:normal;font-family:Menlo,'DejaVu Sans Mono',consolas,'Courier New',monospace\">ATLAS <span style=\"font-weight: bold\">[</span>INFO<span style=\"font-weight: bold\">]</span> Optimizing acquisition function with pymoo GA for <span style=\"color: #008080; text-decoration-color: #008080; font-weight: bold\">1</span> fixed parameters<span style=\"color: #808000; text-decoration-color: #808000\">...</span>\n",
       "</pre>\n"
      ],
      "text/plain": [
       "ATLAS \u001b[1m[\u001b[0mINFO\u001b[1m]\u001b[0m Optimizing acquisition function with pymoo GA for \u001b[1;36m1\u001b[0m fixed parameters\u001b[33m...\u001b[0m\n"
      ]
     },
     "metadata": {},
     "output_type": "display_data"
    },
    {
     "name": "stdout",
     "output_type": "stream",
     "text": [
      "\n",
      "REC SAMPLE :  ParamVector(s = 1.0, organic = formamidinium, cation = Pb, anion = Br)\n",
      "REC MEASUREMENT :  2.7839\n",
      "\n",
      "\n",
      "RUN : 1/2\tITER : 21\tCOST : 4.699999999999999\n",
      "\n"
     ]
    },
    {
     "data": {
      "text/html": [
       "<pre style=\"white-space:pre;overflow-x:auto;line-height:normal;font-family:Menlo,'DejaVu Sans Mono',consolas,'Courier New',monospace\"><span style=\"color: #f4a261; text-decoration-color: #f4a261\">ATLAS </span><span style=\"color: #f4a261; text-decoration-color: #f4a261; font-weight: bold\">[</span><span style=\"color: #f4a261; text-decoration-color: #f4a261\">WARNING</span><span style=\"color: #f4a261; text-decoration-color: #f4a261; font-weight: bold\">]</span><span style=\"color: #f4a261; text-decoration-color: #f4a261\"> Setting ask fidelity level to </span><span style=\"color: #008080; text-decoration-color: #008080; font-weight: bold\">0.1</span>\n",
       "</pre>\n"
      ],
      "text/plain": [
       "\u001b[38;2;244;162;97mATLAS \u001b[0m\u001b[1;38;2;244;162;97m[\u001b[0m\u001b[38;2;244;162;97mWARNING\u001b[0m\u001b[1;38;2;244;162;97m]\u001b[0m\u001b[38;2;244;162;97m Setting ask fidelity level to \u001b[0m\u001b[1;36m0.1\u001b[0m\n"
      ]
     },
     "metadata": {},
     "output_type": "display_data"
    },
    {
     "data": {
      "text/html": [
       "<pre style=\"white-space:pre;overflow-x:auto;line-height:normal;font-family:Menlo,'DejaVu Sans Mono',consolas,'Courier New',monospace\"><span style=\"color: #05a6fb; text-decoration-color: #05a6fb\">───────────────────── Training regression surrogate model ──────────────────────</span>\n",
       "</pre>\n"
      ],
      "text/plain": [
       "\u001b[38;2;5;166;251m───────────────────── Training regression surrogate model ──────────────────────\u001b[0m\n"
      ]
     },
     "metadata": {},
     "output_type": "display_data"
    },
    {
     "name": "stderr",
     "output_type": "stream",
     "text": [
      "/users/k23070952/.local/lib/python3.9/site-packages/botorch/models/utils/assorted.py:174: InputDataWarning: Input data is not contained to the unit cube. Please consider min-max scaling the input data.\n",
      "  warnings.warn(msg, InputDataWarning)\n",
      "/users/k23070952/.local/lib/python3.9/site-packages/botorch/models/utils/assorted.py:202: InputDataWarning: Input data is not standardized (mean = tensor([-2.5535e-16]), std = tensor([1.0260])). Please consider scaling the input to zero mean and unit variance.\n",
      "  warnings.warn(msg, InputDataWarning)\n"
     ]
    },
    {
     "data": {
      "text/html": [
       "<pre style=\"white-space:pre;overflow-x:auto;line-height:normal;font-family:Menlo,'DejaVu Sans Mono',consolas,'Courier New',monospace\">ATLAS <span style=\"font-weight: bold\">[</span>INFO<span style=\"font-weight: bold\">]</span> Regression surrogate GP trained in <span style=\"color: #008080; text-decoration-color: #008080; font-weight: bold\">0.43</span> sec\n",
       "</pre>\n"
      ],
      "text/plain": [
       "ATLAS \u001b[1m[\u001b[0mINFO\u001b[1m]\u001b[0m Regression surrogate GP trained in \u001b[1;36m0.43\u001b[0m sec\n"
      ]
     },
     "metadata": {},
     "output_type": "display_data"
    },
    {
     "data": {
      "text/html": [
       "<pre style=\"white-space:pre;overflow-x:auto;line-height:normal;font-family:Menlo,'DejaVu Sans Mono',consolas,'Courier New',monospace\"><span style=\"color: #05a6fb; text-decoration-color: #05a6fb\">────────────────────── Acquisition function optimization ───────────────────────</span>\n",
       "</pre>\n"
      ],
      "text/plain": [
       "\u001b[38;2;5;166;251m────────────────────── Acquisition function optimization ───────────────────────\u001b[0m\n"
      ]
     },
     "metadata": {},
     "output_type": "display_data"
    },
    {
     "data": {
      "text/html": [
       "<pre style=\"white-space:pre;overflow-x:auto;line-height:normal;font-family:Menlo,'DejaVu Sans Mono',consolas,'Courier New',monospace\">ATLAS <span style=\"font-weight: bold\">[</span>INFO<span style=\"font-weight: bold\">]</span> Optimizing acquisition function with pymoo GA for <span style=\"color: #008080; text-decoration-color: #008080; font-weight: bold\">1</span> fixed parameters<span style=\"color: #808000; text-decoration-color: #808000\">...</span>\n",
       "</pre>\n"
      ],
      "text/plain": [
       "ATLAS \u001b[1m[\u001b[0mINFO\u001b[1m]\u001b[0m Optimizing acquisition function with pymoo GA for \u001b[1;36m1\u001b[0m fixed parameters\u001b[33m...\u001b[0m\n"
      ]
     },
     "metadata": {},
     "output_type": "display_data"
    },
    {
     "name": "stderr",
     "output_type": "stream",
     "text": [
      "/users/k23070952/.local/lib/python3.9/site-packages/botorch/models/gpytorch.py:477: BotorchTensorDimensionWarning: Non-strict enforcement of botorch tensor conventions. The following error would have been raised with strict enforcement: Expected X and Y to have the same number of dimensions (got X with dimension 3 and Y with dimension 4).\n",
      "  self._validate_tensor_args(X=X, Y=Y, Yvar=noise, strict=False)\n",
      "/users/k23070952/.local/lib/python3.9/site-packages/botorch/models/gpytorch.py:239: BotorchTensorDimensionWarning: Non-strict enforcement of botorch tensor conventions. The following error would have been raised with strict enforcement: Expected X and Y to have the same number of dimensions (got X with dimension 3 and Y with dimension 4).\n",
      "  self._validate_tensor_args(X=X, Y=Y, Yvar=Yvar, strict=False)\n",
      "/users/k23070952/.local/lib/python3.9/site-packages/pymoo/operators/repair/rounding.py:18: RuntimeWarning: invalid value encountered in cast\n",
      "  return np.around(X).astype(int)\n",
      "/users/k23070952/.local/lib/python3.9/site-packages/pymoo/operators/mutation/pm.py:44: RuntimeWarning: overflow encountered in power\n",
      "  val = 2.0 * rand + (1.0 - 2.0 * rand) * (np.power(xy, (eta + 1.0)))\n",
      "/users/k23070952/.local/lib/python3.9/site-packages/pymoo/operators/mutation/pm.py:49: RuntimeWarning: overflow encountered in power\n",
      "  val = 2.0 * (1.0 - rand) + 2.0 * (rand - 0.5) * (np.power(xy, (eta + 1.0)))\n"
     ]
    },
    {
     "name": "stdout",
     "output_type": "stream",
     "text": [
      "SAMPLE :  ParamVector(s = 0.1, organic = imidazolium, cation = Sn, anion = Br)\n",
      "MEASUREMENT :  1.7216\n"
     ]
    },
    {
     "data": {
      "text/html": [
       "<pre style=\"white-space:pre;overflow-x:auto;line-height:normal;font-family:Menlo,'DejaVu Sans Mono',consolas,'Courier New',monospace\"><span style=\"color: #05a6fb; text-decoration-color: #05a6fb\">────────────────────── Acquisition function optimization ───────────────────────</span>\n",
       "</pre>\n"
      ],
      "text/plain": [
       "\u001b[38;2;5;166;251m────────────────────── Acquisition function optimization ───────────────────────\u001b[0m\n"
      ]
     },
     "metadata": {},
     "output_type": "display_data"
    },
    {
     "data": {
      "text/html": [
       "<pre style=\"white-space:pre;overflow-x:auto;line-height:normal;font-family:Menlo,'DejaVu Sans Mono',consolas,'Courier New',monospace\">ATLAS <span style=\"font-weight: bold\">[</span>INFO<span style=\"font-weight: bold\">]</span> Optimizing acquisition function with pymoo GA for <span style=\"color: #008080; text-decoration-color: #008080; font-weight: bold\">1</span> fixed parameters<span style=\"color: #808000; text-decoration-color: #808000\">...</span>\n",
       "</pre>\n"
      ],
      "text/plain": [
       "ATLAS \u001b[1m[\u001b[0mINFO\u001b[1m]\u001b[0m Optimizing acquisition function with pymoo GA for \u001b[1;36m1\u001b[0m fixed parameters\u001b[33m...\u001b[0m\n"
      ]
     },
     "metadata": {},
     "output_type": "display_data"
    },
    {
     "name": "stdout",
     "output_type": "stream",
     "text": [
      "\n",
      "REC SAMPLE :  ParamVector(s = 1.0, organic = imidazolium, cation = Sn, anion = Cl)\n",
      "REC MEASUREMENT :  3.162\n",
      "\n",
      "\n",
      "RUN : 1/2\tITER : 22\tCOST : 4.799999999999999\n",
      "\n"
     ]
    },
    {
     "data": {
      "text/html": [
       "<pre style=\"white-space:pre;overflow-x:auto;line-height:normal;font-family:Menlo,'DejaVu Sans Mono',consolas,'Courier New',monospace\"><span style=\"color: #f4a261; text-decoration-color: #f4a261\">ATLAS </span><span style=\"color: #f4a261; text-decoration-color: #f4a261; font-weight: bold\">[</span><span style=\"color: #f4a261; text-decoration-color: #f4a261\">WARNING</span><span style=\"color: #f4a261; text-decoration-color: #f4a261; font-weight: bold\">]</span><span style=\"color: #f4a261; text-decoration-color: #f4a261\"> Setting ask fidelity level to </span><span style=\"color: #008080; text-decoration-color: #008080; font-weight: bold\">0.1</span>\n",
       "</pre>\n"
      ],
      "text/plain": [
       "\u001b[38;2;244;162;97mATLAS \u001b[0m\u001b[1;38;2;244;162;97m[\u001b[0m\u001b[38;2;244;162;97mWARNING\u001b[0m\u001b[1;38;2;244;162;97m]\u001b[0m\u001b[38;2;244;162;97m Setting ask fidelity level to \u001b[0m\u001b[1;36m0.1\u001b[0m\n"
      ]
     },
     "metadata": {},
     "output_type": "display_data"
    },
    {
     "data": {
      "text/html": [
       "<pre style=\"white-space:pre;overflow-x:auto;line-height:normal;font-family:Menlo,'DejaVu Sans Mono',consolas,'Courier New',monospace\"><span style=\"color: #05a6fb; text-decoration-color: #05a6fb\">───────────────────── Training regression surrogate model ──────────────────────</span>\n",
       "</pre>\n"
      ],
      "text/plain": [
       "\u001b[38;2;5;166;251m───────────────────── Training regression surrogate model ──────────────────────\u001b[0m\n"
      ]
     },
     "metadata": {},
     "output_type": "display_data"
    },
    {
     "name": "stderr",
     "output_type": "stream",
     "text": [
      "/users/k23070952/.local/lib/python3.9/site-packages/botorch/models/utils/assorted.py:174: InputDataWarning: Input data is not contained to the unit cube. Please consider min-max scaling the input data.\n",
      "  warnings.warn(msg, InputDataWarning)\n",
      "/users/k23070952/.local/lib/python3.9/site-packages/botorch/models/utils/assorted.py:202: InputDataWarning: Input data is not standardized (mean = tensor([-3.7007e-16]), std = tensor([1.0247])). Please consider scaling the input to zero mean and unit variance.\n",
      "  warnings.warn(msg, InputDataWarning)\n"
     ]
    },
    {
     "data": {
      "text/html": [
       "<pre style=\"white-space:pre;overflow-x:auto;line-height:normal;font-family:Menlo,'DejaVu Sans Mono',consolas,'Courier New',monospace\">ATLAS <span style=\"font-weight: bold\">[</span>INFO<span style=\"font-weight: bold\">]</span> Regression surrogate GP trained in <span style=\"color: #008080; text-decoration-color: #008080; font-weight: bold\">0.252</span> sec\n",
       "</pre>\n"
      ],
      "text/plain": [
       "ATLAS \u001b[1m[\u001b[0mINFO\u001b[1m]\u001b[0m Regression surrogate GP trained in \u001b[1;36m0.252\u001b[0m sec\n"
      ]
     },
     "metadata": {},
     "output_type": "display_data"
    },
    {
     "data": {
      "text/html": [
       "<pre style=\"white-space:pre;overflow-x:auto;line-height:normal;font-family:Menlo,'DejaVu Sans Mono',consolas,'Courier New',monospace\"><span style=\"color: #05a6fb; text-decoration-color: #05a6fb\">────────────────────── Acquisition function optimization ───────────────────────</span>\n",
       "</pre>\n"
      ],
      "text/plain": [
       "\u001b[38;2;5;166;251m────────────────────── Acquisition function optimization ───────────────────────\u001b[0m\n"
      ]
     },
     "metadata": {},
     "output_type": "display_data"
    },
    {
     "data": {
      "text/html": [
       "<pre style=\"white-space:pre;overflow-x:auto;line-height:normal;font-family:Menlo,'DejaVu Sans Mono',consolas,'Courier New',monospace\">ATLAS <span style=\"font-weight: bold\">[</span>INFO<span style=\"font-weight: bold\">]</span> Optimizing acquisition function with pymoo GA for <span style=\"color: #008080; text-decoration-color: #008080; font-weight: bold\">1</span> fixed parameters<span style=\"color: #808000; text-decoration-color: #808000\">...</span>\n",
       "</pre>\n"
      ],
      "text/plain": [
       "ATLAS \u001b[1m[\u001b[0mINFO\u001b[1m]\u001b[0m Optimizing acquisition function with pymoo GA for \u001b[1;36m1\u001b[0m fixed parameters\u001b[33m...\u001b[0m\n"
      ]
     },
     "metadata": {},
     "output_type": "display_data"
    },
    {
     "name": "stderr",
     "output_type": "stream",
     "text": [
      "/users/k23070952/.local/lib/python3.9/site-packages/botorch/models/gpytorch.py:477: BotorchTensorDimensionWarning: Non-strict enforcement of botorch tensor conventions. The following error would have been raised with strict enforcement: Expected X and Y to have the same number of dimensions (got X with dimension 3 and Y with dimension 4).\n",
      "  self._validate_tensor_args(X=X, Y=Y, Yvar=noise, strict=False)\n",
      "/users/k23070952/.local/lib/python3.9/site-packages/botorch/models/gpytorch.py:239: BotorchTensorDimensionWarning: Non-strict enforcement of botorch tensor conventions. The following error would have been raised with strict enforcement: Expected X and Y to have the same number of dimensions (got X with dimension 3 and Y with dimension 4).\n",
      "  self._validate_tensor_args(X=X, Y=Y, Yvar=Yvar, strict=False)\n",
      "/users/k23070952/.local/lib/python3.9/site-packages/pymoo/operators/repair/rounding.py:18: RuntimeWarning: invalid value encountered in cast\n",
      "  return np.around(X).astype(int)\n",
      "/users/k23070952/.local/lib/python3.9/site-packages/pymoo/operators/mutation/pm.py:44: RuntimeWarning: overflow encountered in power\n",
      "  val = 2.0 * rand + (1.0 - 2.0 * rand) * (np.power(xy, (eta + 1.0)))\n",
      "/users/k23070952/.local/lib/python3.9/site-packages/pymoo/operators/mutation/pm.py:49: RuntimeWarning: overflow encountered in power\n",
      "  val = 2.0 * (1.0 - rand) + 2.0 * (rand - 0.5) * (np.power(xy, (eta + 1.0)))\n"
     ]
    },
    {
     "name": "stdout",
     "output_type": "stream",
     "text": [
      "SAMPLE :  ParamVector(s = 0.1, organic = methylammonium, cation = Sn, anion = F)\n",
      "MEASUREMENT :  3.2677\n"
     ]
    },
    {
     "data": {
      "text/html": [
       "<pre style=\"white-space:pre;overflow-x:auto;line-height:normal;font-family:Menlo,'DejaVu Sans Mono',consolas,'Courier New',monospace\"><span style=\"color: #05a6fb; text-decoration-color: #05a6fb\">────────────────────── Acquisition function optimization ───────────────────────</span>\n",
       "</pre>\n"
      ],
      "text/plain": [
       "\u001b[38;2;5;166;251m────────────────────── Acquisition function optimization ───────────────────────\u001b[0m\n"
      ]
     },
     "metadata": {},
     "output_type": "display_data"
    },
    {
     "data": {
      "text/html": [
       "<pre style=\"white-space:pre;overflow-x:auto;line-height:normal;font-family:Menlo,'DejaVu Sans Mono',consolas,'Courier New',monospace\">ATLAS <span style=\"font-weight: bold\">[</span>INFO<span style=\"font-weight: bold\">]</span> Optimizing acquisition function with pymoo GA for <span style=\"color: #008080; text-decoration-color: #008080; font-weight: bold\">1</span> fixed parameters<span style=\"color: #808000; text-decoration-color: #808000\">...</span>\n",
       "</pre>\n"
      ],
      "text/plain": [
       "ATLAS \u001b[1m[\u001b[0mINFO\u001b[1m]\u001b[0m Optimizing acquisition function with pymoo GA for \u001b[1;36m1\u001b[0m fixed parameters\u001b[33m...\u001b[0m\n"
      ]
     },
     "metadata": {},
     "output_type": "display_data"
    },
    {
     "name": "stdout",
     "output_type": "stream",
     "text": [
      "\n",
      "REC SAMPLE :  ParamVector(s = 1.0, organic = butylammonium, cation = Sn, anion = Br)\n",
      "REC MEASUREMENT :  3.1681\n",
      "\n",
      "\n",
      "RUN : 1/2\tITER : 23\tCOST : 4.899999999999999\n",
      "\n"
     ]
    },
    {
     "data": {
      "text/html": [
       "<pre style=\"white-space:pre;overflow-x:auto;line-height:normal;font-family:Menlo,'DejaVu Sans Mono',consolas,'Courier New',monospace\"><span style=\"color: #f4a261; text-decoration-color: #f4a261\">ATLAS </span><span style=\"color: #f4a261; text-decoration-color: #f4a261; font-weight: bold\">[</span><span style=\"color: #f4a261; text-decoration-color: #f4a261\">WARNING</span><span style=\"color: #f4a261; text-decoration-color: #f4a261; font-weight: bold\">]</span><span style=\"color: #f4a261; text-decoration-color: #f4a261\"> Setting ask fidelity level to </span><span style=\"color: #008080; text-decoration-color: #008080; font-weight: bold\">0.1</span>\n",
       "</pre>\n"
      ],
      "text/plain": [
       "\u001b[38;2;244;162;97mATLAS \u001b[0m\u001b[1;38;2;244;162;97m[\u001b[0m\u001b[38;2;244;162;97mWARNING\u001b[0m\u001b[1;38;2;244;162;97m]\u001b[0m\u001b[38;2;244;162;97m Setting ask fidelity level to \u001b[0m\u001b[1;36m0.1\u001b[0m\n"
      ]
     },
     "metadata": {},
     "output_type": "display_data"
    },
    {
     "data": {
      "text/html": [
       "<pre style=\"white-space:pre;overflow-x:auto;line-height:normal;font-family:Menlo,'DejaVu Sans Mono',consolas,'Courier New',monospace\"><span style=\"color: #05a6fb; text-decoration-color: #05a6fb\">───────────────────── Training regression surrogate model ──────────────────────</span>\n",
       "</pre>\n"
      ],
      "text/plain": [
       "\u001b[38;2;5;166;251m───────────────────── Training regression surrogate model ──────────────────────\u001b[0m\n"
      ]
     },
     "metadata": {},
     "output_type": "display_data"
    },
    {
     "name": "stderr",
     "output_type": "stream",
     "text": [
      "/users/k23070952/.local/lib/python3.9/site-packages/botorch/models/utils/assorted.py:174: InputDataWarning: Input data is not contained to the unit cube. Please consider min-max scaling the input data.\n",
      "  warnings.warn(msg, InputDataWarning)\n",
      "/users/k23070952/.local/lib/python3.9/site-packages/botorch/models/utils/assorted.py:202: InputDataWarning: Input data is not standardized (mean = tensor([-5.0465e-17]), std = tensor([1.0235])). Please consider scaling the input to zero mean and unit variance.\n",
      "  warnings.warn(msg, InputDataWarning)\n"
     ]
    },
    {
     "data": {
      "text/html": [
       "<pre style=\"white-space:pre;overflow-x:auto;line-height:normal;font-family:Menlo,'DejaVu Sans Mono',consolas,'Courier New',monospace\">ATLAS <span style=\"font-weight: bold\">[</span>INFO<span style=\"font-weight: bold\">]</span> Regression surrogate GP trained in <span style=\"color: #008080; text-decoration-color: #008080; font-weight: bold\">0.167</span> sec\n",
       "</pre>\n"
      ],
      "text/plain": [
       "ATLAS \u001b[1m[\u001b[0mINFO\u001b[1m]\u001b[0m Regression surrogate GP trained in \u001b[1;36m0.167\u001b[0m sec\n"
      ]
     },
     "metadata": {},
     "output_type": "display_data"
    },
    {
     "data": {
      "text/html": [
       "<pre style=\"white-space:pre;overflow-x:auto;line-height:normal;font-family:Menlo,'DejaVu Sans Mono',consolas,'Courier New',monospace\"><span style=\"color: #05a6fb; text-decoration-color: #05a6fb\">────────────────────── Acquisition function optimization ───────────────────────</span>\n",
       "</pre>\n"
      ],
      "text/plain": [
       "\u001b[38;2;5;166;251m────────────────────── Acquisition function optimization ───────────────────────\u001b[0m\n"
      ]
     },
     "metadata": {},
     "output_type": "display_data"
    },
    {
     "data": {
      "text/html": [
       "<pre style=\"white-space:pre;overflow-x:auto;line-height:normal;font-family:Menlo,'DejaVu Sans Mono',consolas,'Courier New',monospace\">ATLAS <span style=\"font-weight: bold\">[</span>INFO<span style=\"font-weight: bold\">]</span> Optimizing acquisition function with pymoo GA for <span style=\"color: #008080; text-decoration-color: #008080; font-weight: bold\">1</span> fixed parameters<span style=\"color: #808000; text-decoration-color: #808000\">...</span>\n",
       "</pre>\n"
      ],
      "text/plain": [
       "ATLAS \u001b[1m[\u001b[0mINFO\u001b[1m]\u001b[0m Optimizing acquisition function with pymoo GA for \u001b[1;36m1\u001b[0m fixed parameters\u001b[33m...\u001b[0m\n"
      ]
     },
     "metadata": {},
     "output_type": "display_data"
    },
    {
     "name": "stderr",
     "output_type": "stream",
     "text": [
      "/users/k23070952/.local/lib/python3.9/site-packages/botorch/models/gpytorch.py:477: BotorchTensorDimensionWarning: Non-strict enforcement of botorch tensor conventions. The following error would have been raised with strict enforcement: Expected X and Y to have the same number of dimensions (got X with dimension 3 and Y with dimension 4).\n",
      "  self._validate_tensor_args(X=X, Y=Y, Yvar=noise, strict=False)\n",
      "/users/k23070952/.local/lib/python3.9/site-packages/botorch/models/gpytorch.py:239: BotorchTensorDimensionWarning: Non-strict enforcement of botorch tensor conventions. The following error would have been raised with strict enforcement: Expected X and Y to have the same number of dimensions (got X with dimension 3 and Y with dimension 4).\n",
      "  self._validate_tensor_args(X=X, Y=Y, Yvar=Yvar, strict=False)\n",
      "/users/k23070952/.local/lib/python3.9/site-packages/pymoo/operators/repair/rounding.py:18: RuntimeWarning: invalid value encountered in cast\n",
      "  return np.around(X).astype(int)\n",
      "/users/k23070952/.local/lib/python3.9/site-packages/pymoo/operators/mutation/pm.py:44: RuntimeWarning: overflow encountered in power\n",
      "  val = 2.0 * rand + (1.0 - 2.0 * rand) * (np.power(xy, (eta + 1.0)))\n",
      "/users/k23070952/.local/lib/python3.9/site-packages/pymoo/operators/mutation/pm.py:49: RuntimeWarning: overflow encountered in power\n",
      "  val = 2.0 * (1.0 - rand) + 2.0 * (rand - 0.5) * (np.power(xy, (eta + 1.0)))\n"
     ]
    },
    {
     "name": "stdout",
     "output_type": "stream",
     "text": [
      "SAMPLE :  ParamVector(s = 0.1, organic = isopropylammonium, cation = Sn, anion = F)\n",
      "MEASUREMENT :  3.8681\n"
     ]
    },
    {
     "data": {
      "text/html": [
       "<pre style=\"white-space:pre;overflow-x:auto;line-height:normal;font-family:Menlo,'DejaVu Sans Mono',consolas,'Courier New',monospace\"><span style=\"color: #05a6fb; text-decoration-color: #05a6fb\">────────────────────── Acquisition function optimization ───────────────────────</span>\n",
       "</pre>\n"
      ],
      "text/plain": [
       "\u001b[38;2;5;166;251m────────────────────── Acquisition function optimization ───────────────────────\u001b[0m\n"
      ]
     },
     "metadata": {},
     "output_type": "display_data"
    },
    {
     "data": {
      "text/html": [
       "<pre style=\"white-space:pre;overflow-x:auto;line-height:normal;font-family:Menlo,'DejaVu Sans Mono',consolas,'Courier New',monospace\">ATLAS <span style=\"font-weight: bold\">[</span>INFO<span style=\"font-weight: bold\">]</span> Optimizing acquisition function with pymoo GA for <span style=\"color: #008080; text-decoration-color: #008080; font-weight: bold\">1</span> fixed parameters<span style=\"color: #808000; text-decoration-color: #808000\">...</span>\n",
       "</pre>\n"
      ],
      "text/plain": [
       "ATLAS \u001b[1m[\u001b[0mINFO\u001b[1m]\u001b[0m Optimizing acquisition function with pymoo GA for \u001b[1;36m1\u001b[0m fixed parameters\u001b[33m...\u001b[0m\n"
      ]
     },
     "metadata": {},
     "output_type": "display_data"
    },
    {
     "name": "stdout",
     "output_type": "stream",
     "text": [
      "\n",
      "REC SAMPLE :  ParamVector(s = 1.0, organic = azetidinium, cation = Pb, anion = I)\n",
      "REC MEASUREMENT :  2.3181\n",
      "\n",
      "\n",
      "RUN : 1/2\tITER : 24\tCOST : 4.999999999999998\n",
      "\n"
     ]
    },
    {
     "data": {
      "text/html": [
       "<pre style=\"white-space:pre;overflow-x:auto;line-height:normal;font-family:Menlo,'DejaVu Sans Mono',consolas,'Courier New',monospace\"><span style=\"color: #f4a261; text-decoration-color: #f4a261\">ATLAS </span><span style=\"color: #f4a261; text-decoration-color: #f4a261; font-weight: bold\">[</span><span style=\"color: #f4a261; text-decoration-color: #f4a261\">WARNING</span><span style=\"color: #f4a261; text-decoration-color: #f4a261; font-weight: bold\">]</span><span style=\"color: #f4a261; text-decoration-color: #f4a261\"> Setting ask fidelity level to </span><span style=\"color: #008080; text-decoration-color: #008080; font-weight: bold\">0.1</span>\n",
       "</pre>\n"
      ],
      "text/plain": [
       "\u001b[38;2;244;162;97mATLAS \u001b[0m\u001b[1;38;2;244;162;97m[\u001b[0m\u001b[38;2;244;162;97mWARNING\u001b[0m\u001b[1;38;2;244;162;97m]\u001b[0m\u001b[38;2;244;162;97m Setting ask fidelity level to \u001b[0m\u001b[1;36m0.1\u001b[0m\n"
      ]
     },
     "metadata": {},
     "output_type": "display_data"
    },
    {
     "data": {
      "text/html": [
       "<pre style=\"white-space:pre;overflow-x:auto;line-height:normal;font-family:Menlo,'DejaVu Sans Mono',consolas,'Courier New',monospace\"><span style=\"color: #05a6fb; text-decoration-color: #05a6fb\">───────────────────── Training regression surrogate model ──────────────────────</span>\n",
       "</pre>\n"
      ],
      "text/plain": [
       "\u001b[38;2;5;166;251m───────────────────── Training regression surrogate model ──────────────────────\u001b[0m\n"
      ]
     },
     "metadata": {},
     "output_type": "display_data"
    },
    {
     "name": "stderr",
     "output_type": "stream",
     "text": [
      "/users/k23070952/.local/lib/python3.9/site-packages/botorch/models/utils/assorted.py:174: InputDataWarning: Input data is not contained to the unit cube. Please consider min-max scaling the input data.\n",
      "  warnings.warn(msg, InputDataWarning)\n",
      "/users/k23070952/.local/lib/python3.9/site-packages/botorch/models/utils/assorted.py:202: InputDataWarning: Input data is not standardized (mean = tensor([-2.6066e-16]), std = tensor([1.0225])). Please consider scaling the input to zero mean and unit variance.\n",
      "  warnings.warn(msg, InputDataWarning)\n"
     ]
    },
    {
     "data": {
      "text/html": [
       "<pre style=\"white-space:pre;overflow-x:auto;line-height:normal;font-family:Menlo,'DejaVu Sans Mono',consolas,'Courier New',monospace\">ATLAS <span style=\"font-weight: bold\">[</span>INFO<span style=\"font-weight: bold\">]</span> Regression surrogate GP trained in <span style=\"color: #008080; text-decoration-color: #008080; font-weight: bold\">0.311</span> sec\n",
       "</pre>\n"
      ],
      "text/plain": [
       "ATLAS \u001b[1m[\u001b[0mINFO\u001b[1m]\u001b[0m Regression surrogate GP trained in \u001b[1;36m0.311\u001b[0m sec\n"
      ]
     },
     "metadata": {},
     "output_type": "display_data"
    },
    {
     "data": {
      "text/html": [
       "<pre style=\"white-space:pre;overflow-x:auto;line-height:normal;font-family:Menlo,'DejaVu Sans Mono',consolas,'Courier New',monospace\"><span style=\"color: #05a6fb; text-decoration-color: #05a6fb\">────────────────────── Acquisition function optimization ───────────────────────</span>\n",
       "</pre>\n"
      ],
      "text/plain": [
       "\u001b[38;2;5;166;251m────────────────────── Acquisition function optimization ───────────────────────\u001b[0m\n"
      ]
     },
     "metadata": {},
     "output_type": "display_data"
    },
    {
     "data": {
      "text/html": [
       "<pre style=\"white-space:pre;overflow-x:auto;line-height:normal;font-family:Menlo,'DejaVu Sans Mono',consolas,'Courier New',monospace\">ATLAS <span style=\"font-weight: bold\">[</span>INFO<span style=\"font-weight: bold\">]</span> Optimizing acquisition function with pymoo GA for <span style=\"color: #008080; text-decoration-color: #008080; font-weight: bold\">1</span> fixed parameters<span style=\"color: #808000; text-decoration-color: #808000\">...</span>\n",
       "</pre>\n"
      ],
      "text/plain": [
       "ATLAS \u001b[1m[\u001b[0mINFO\u001b[1m]\u001b[0m Optimizing acquisition function with pymoo GA for \u001b[1;36m1\u001b[0m fixed parameters\u001b[33m...\u001b[0m\n"
      ]
     },
     "metadata": {},
     "output_type": "display_data"
    },
    {
     "name": "stderr",
     "output_type": "stream",
     "text": [
      "/users/k23070952/.local/lib/python3.9/site-packages/botorch/models/gpytorch.py:477: BotorchTensorDimensionWarning: Non-strict enforcement of botorch tensor conventions. The following error would have been raised with strict enforcement: Expected X and Y to have the same number of dimensions (got X with dimension 3 and Y with dimension 4).\n",
      "  self._validate_tensor_args(X=X, Y=Y, Yvar=noise, strict=False)\n",
      "/users/k23070952/.local/lib/python3.9/site-packages/botorch/models/gpytorch.py:239: BotorchTensorDimensionWarning: Non-strict enforcement of botorch tensor conventions. The following error would have been raised with strict enforcement: Expected X and Y to have the same number of dimensions (got X with dimension 3 and Y with dimension 4).\n",
      "  self._validate_tensor_args(X=X, Y=Y, Yvar=Yvar, strict=False)\n",
      "/users/k23070952/.local/lib/python3.9/site-packages/pymoo/operators/repair/rounding.py:18: RuntimeWarning: invalid value encountered in cast\n",
      "  return np.around(X).astype(int)\n",
      "/users/k23070952/.local/lib/python3.9/site-packages/pymoo/operators/mutation/pm.py:44: RuntimeWarning: overflow encountered in power\n",
      "  val = 2.0 * rand + (1.0 - 2.0 * rand) * (np.power(xy, (eta + 1.0)))\n",
      "/users/k23070952/.local/lib/python3.9/site-packages/pymoo/operators/mutation/pm.py:49: RuntimeWarning: overflow encountered in power\n",
      "  val = 2.0 * (1.0 - rand) + 2.0 * (rand - 0.5) * (np.power(xy, (eta + 1.0)))\n"
     ]
    },
    {
     "name": "stdout",
     "output_type": "stream",
     "text": [
      "SAMPLE :  ParamVector(s = 0.1, organic = trimethylammonium, cation = Sn, anion = F)\n",
      "MEASUREMENT :  3.3117\n"
     ]
    },
    {
     "data": {
      "text/html": [
       "<pre style=\"white-space:pre;overflow-x:auto;line-height:normal;font-family:Menlo,'DejaVu Sans Mono',consolas,'Courier New',monospace\"><span style=\"color: #05a6fb; text-decoration-color: #05a6fb\">────────────────────── Acquisition function optimization ───────────────────────</span>\n",
       "</pre>\n"
      ],
      "text/plain": [
       "\u001b[38;2;5;166;251m────────────────────── Acquisition function optimization ───────────────────────\u001b[0m\n"
      ]
     },
     "metadata": {},
     "output_type": "display_data"
    },
    {
     "data": {
      "text/html": [
       "<pre style=\"white-space:pre;overflow-x:auto;line-height:normal;font-family:Menlo,'DejaVu Sans Mono',consolas,'Courier New',monospace\">ATLAS <span style=\"font-weight: bold\">[</span>INFO<span style=\"font-weight: bold\">]</span> Optimizing acquisition function with pymoo GA for <span style=\"color: #008080; text-decoration-color: #008080; font-weight: bold\">1</span> fixed parameters<span style=\"color: #808000; text-decoration-color: #808000\">...</span>\n",
       "</pre>\n"
      ],
      "text/plain": [
       "ATLAS \u001b[1m[\u001b[0mINFO\u001b[1m]\u001b[0m Optimizing acquisition function with pymoo GA for \u001b[1;36m1\u001b[0m fixed parameters\u001b[33m...\u001b[0m\n"
      ]
     },
     "metadata": {},
     "output_type": "display_data"
    },
    {
     "name": "stdout",
     "output_type": "stream",
     "text": [
      "\n",
      "REC SAMPLE :  ParamVector(s = 1.0, organic = trimethylammonium, cation = Ge, anion = I)\n",
      "REC MEASUREMENT :  2.5369\n",
      "\n",
      "\n",
      "RUN : 1/2\tITER : 25\tCOST : 5.1\n",
      "\n"
     ]
    },
    {
     "data": {
      "text/html": [
       "<pre style=\"white-space:pre;overflow-x:auto;line-height:normal;font-family:Menlo,'DejaVu Sans Mono',consolas,'Courier New',monospace\"><span style=\"color: #f4a261; text-decoration-color: #f4a261\">ATLAS </span><span style=\"color: #f4a261; text-decoration-color: #f4a261; font-weight: bold\">[</span><span style=\"color: #f4a261; text-decoration-color: #f4a261\">WARNING</span><span style=\"color: #f4a261; text-decoration-color: #f4a261; font-weight: bold\">]</span><span style=\"color: #f4a261; text-decoration-color: #f4a261\"> Setting ask fidelity level to </span><span style=\"color: #008080; text-decoration-color: #008080; font-weight: bold\">1.0</span>\n",
       "</pre>\n"
      ],
      "text/plain": [
       "\u001b[38;2;244;162;97mATLAS \u001b[0m\u001b[1;38;2;244;162;97m[\u001b[0m\u001b[38;2;244;162;97mWARNING\u001b[0m\u001b[1;38;2;244;162;97m]\u001b[0m\u001b[38;2;244;162;97m Setting ask fidelity level to \u001b[0m\u001b[1;36m1.0\u001b[0m\n"
      ]
     },
     "metadata": {},
     "output_type": "display_data"
    },
    {
     "data": {
      "text/html": [
       "<pre style=\"white-space:pre;overflow-x:auto;line-height:normal;font-family:Menlo,'DejaVu Sans Mono',consolas,'Courier New',monospace\"><span style=\"color: #05a6fb; text-decoration-color: #05a6fb\">───────────────────── Training regression surrogate model ──────────────────────</span>\n",
       "</pre>\n"
      ],
      "text/plain": [
       "\u001b[38;2;5;166;251m───────────────────── Training regression surrogate model ──────────────────────\u001b[0m\n"
      ]
     },
     "metadata": {},
     "output_type": "display_data"
    },
    {
     "name": "stderr",
     "output_type": "stream",
     "text": [
      "/users/k23070952/.local/lib/python3.9/site-packages/botorch/models/utils/assorted.py:174: InputDataWarning: Input data is not contained to the unit cube. Please consider min-max scaling the input data.\n",
      "  warnings.warn(msg, InputDataWarning)\n",
      "/users/k23070952/.local/lib/python3.9/site-packages/botorch/models/utils/assorted.py:202: InputDataWarning: Input data is not standardized (mean = tensor([-2.7756e-17]), std = tensor([1.0215])). Please consider scaling the input to zero mean and unit variance.\n",
      "  warnings.warn(msg, InputDataWarning)\n"
     ]
    },
    {
     "data": {
      "text/html": [
       "<pre style=\"white-space:pre;overflow-x:auto;line-height:normal;font-family:Menlo,'DejaVu Sans Mono',consolas,'Courier New',monospace\">ATLAS <span style=\"font-weight: bold\">[</span>INFO<span style=\"font-weight: bold\">]</span> Regression surrogate GP trained in <span style=\"color: #008080; text-decoration-color: #008080; font-weight: bold\">0.222</span> sec\n",
       "</pre>\n"
      ],
      "text/plain": [
       "ATLAS \u001b[1m[\u001b[0mINFO\u001b[1m]\u001b[0m Regression surrogate GP trained in \u001b[1;36m0.222\u001b[0m sec\n"
      ]
     },
     "metadata": {},
     "output_type": "display_data"
    },
    {
     "data": {
      "text/html": [
       "<pre style=\"white-space:pre;overflow-x:auto;line-height:normal;font-family:Menlo,'DejaVu Sans Mono',consolas,'Courier New',monospace\"><span style=\"color: #05a6fb; text-decoration-color: #05a6fb\">────────────────────── Acquisition function optimization ───────────────────────</span>\n",
       "</pre>\n"
      ],
      "text/plain": [
       "\u001b[38;2;5;166;251m────────────────────── Acquisition function optimization ───────────────────────\u001b[0m\n"
      ]
     },
     "metadata": {},
     "output_type": "display_data"
    },
    {
     "data": {
      "text/html": [
       "<pre style=\"white-space:pre;overflow-x:auto;line-height:normal;font-family:Menlo,'DejaVu Sans Mono',consolas,'Courier New',monospace\">ATLAS <span style=\"font-weight: bold\">[</span>INFO<span style=\"font-weight: bold\">]</span> Optimizing acquisition function with pymoo GA for <span style=\"color: #008080; text-decoration-color: #008080; font-weight: bold\">1</span> fixed parameters<span style=\"color: #808000; text-decoration-color: #808000\">...</span>\n",
       "</pre>\n"
      ],
      "text/plain": [
       "ATLAS \u001b[1m[\u001b[0mINFO\u001b[1m]\u001b[0m Optimizing acquisition function with pymoo GA for \u001b[1;36m1\u001b[0m fixed parameters\u001b[33m...\u001b[0m\n"
      ]
     },
     "metadata": {},
     "output_type": "display_data"
    },
    {
     "name": "stderr",
     "output_type": "stream",
     "text": [
      "/users/k23070952/.local/lib/python3.9/site-packages/botorch/models/gpytorch.py:477: BotorchTensorDimensionWarning: Non-strict enforcement of botorch tensor conventions. The following error would have been raised with strict enforcement: Expected X and Y to have the same number of dimensions (got X with dimension 3 and Y with dimension 4).\n",
      "  self._validate_tensor_args(X=X, Y=Y, Yvar=noise, strict=False)\n",
      "/users/k23070952/.local/lib/python3.9/site-packages/botorch/models/gpytorch.py:239: BotorchTensorDimensionWarning: Non-strict enforcement of botorch tensor conventions. The following error would have been raised with strict enforcement: Expected X and Y to have the same number of dimensions (got X with dimension 3 and Y with dimension 4).\n",
      "  self._validate_tensor_args(X=X, Y=Y, Yvar=Yvar, strict=False)\n",
      "/users/k23070952/.local/lib/python3.9/site-packages/pymoo/operators/repair/rounding.py:18: RuntimeWarning: invalid value encountered in cast\n",
      "  return np.around(X).astype(int)\n",
      "/users/k23070952/.local/lib/python3.9/site-packages/pymoo/operators/mutation/pm.py:44: RuntimeWarning: overflow encountered in power\n",
      "  val = 2.0 * rand + (1.0 - 2.0 * rand) * (np.power(xy, (eta + 1.0)))\n",
      "/users/k23070952/.local/lib/python3.9/site-packages/pymoo/operators/mutation/pm.py:49: RuntimeWarning: overflow encountered in power\n",
      "  val = 2.0 * (1.0 - rand) + 2.0 * (rand - 0.5) * (np.power(xy, (eta + 1.0)))\n"
     ]
    },
    {
     "name": "stdout",
     "output_type": "stream",
     "text": [
      "SAMPLE :  ParamVector(s = 1.0, organic = ethylammonium, cation = Pb, anion = Br)\n",
      "MEASUREMENT :  2.5996\n"
     ]
    },
    {
     "data": {
      "text/html": [
       "<pre style=\"white-space:pre;overflow-x:auto;line-height:normal;font-family:Menlo,'DejaVu Sans Mono',consolas,'Courier New',monospace\"><span style=\"color: #05a6fb; text-decoration-color: #05a6fb\">────────────────────── Acquisition function optimization ───────────────────────</span>\n",
       "</pre>\n"
      ],
      "text/plain": [
       "\u001b[38;2;5;166;251m────────────────────── Acquisition function optimization ───────────────────────\u001b[0m\n"
      ]
     },
     "metadata": {},
     "output_type": "display_data"
    },
    {
     "data": {
      "text/html": [
       "<pre style=\"white-space:pre;overflow-x:auto;line-height:normal;font-family:Menlo,'DejaVu Sans Mono',consolas,'Courier New',monospace\">ATLAS <span style=\"font-weight: bold\">[</span>INFO<span style=\"font-weight: bold\">]</span> Optimizing acquisition function with pymoo GA for <span style=\"color: #008080; text-decoration-color: #008080; font-weight: bold\">1</span> fixed parameters<span style=\"color: #808000; text-decoration-color: #808000\">...</span>\n",
       "</pre>\n"
      ],
      "text/plain": [
       "ATLAS \u001b[1m[\u001b[0mINFO\u001b[1m]\u001b[0m Optimizing acquisition function with pymoo GA for \u001b[1;36m1\u001b[0m fixed parameters\u001b[33m...\u001b[0m\n"
      ]
     },
     "metadata": {},
     "output_type": "display_data"
    },
    {
     "name": "stdout",
     "output_type": "stream",
     "text": [
      "\n",
      "REC SAMPLE :  ParamVector(s = 1.0, organic = dimethylammonium, cation = Sn, anion = I)\n",
      "REC MEASUREMENT :  1.8386\n",
      "\n",
      "\n",
      "RUN : 1/2\tITER : 26\tCOST : 6.1\n",
      "\n"
     ]
    },
    {
     "data": {
      "text/html": [
       "<pre style=\"white-space:pre;overflow-x:auto;line-height:normal;font-family:Menlo,'DejaVu Sans Mono',consolas,'Courier New',monospace\"><span style=\"color: #f4a261; text-decoration-color: #f4a261\">ATLAS </span><span style=\"color: #f4a261; text-decoration-color: #f4a261; font-weight: bold\">[</span><span style=\"color: #f4a261; text-decoration-color: #f4a261\">WARNING</span><span style=\"color: #f4a261; text-decoration-color: #f4a261; font-weight: bold\">]</span><span style=\"color: #f4a261; text-decoration-color: #f4a261\"> Setting ask fidelity level to </span><span style=\"color: #008080; text-decoration-color: #008080; font-weight: bold\">0.1</span>\n",
       "</pre>\n"
      ],
      "text/plain": [
       "\u001b[38;2;244;162;97mATLAS \u001b[0m\u001b[1;38;2;244;162;97m[\u001b[0m\u001b[38;2;244;162;97mWARNING\u001b[0m\u001b[1;38;2;244;162;97m]\u001b[0m\u001b[38;2;244;162;97m Setting ask fidelity level to \u001b[0m\u001b[1;36m0.1\u001b[0m\n"
      ]
     },
     "metadata": {},
     "output_type": "display_data"
    },
    {
     "data": {
      "text/html": [
       "<pre style=\"white-space:pre;overflow-x:auto;line-height:normal;font-family:Menlo,'DejaVu Sans Mono',consolas,'Courier New',monospace\"><span style=\"color: #05a6fb; text-decoration-color: #05a6fb\">───────────────────── Training regression surrogate model ──────────────────────</span>\n",
       "</pre>\n"
      ],
      "text/plain": [
       "\u001b[38;2;5;166;251m───────────────────── Training regression surrogate model ──────────────────────\u001b[0m\n"
      ]
     },
     "metadata": {},
     "output_type": "display_data"
    },
    {
     "name": "stderr",
     "output_type": "stream",
     "text": [
      "/users/k23070952/.local/lib/python3.9/site-packages/botorch/models/utils/assorted.py:174: InputDataWarning: Input data is not contained to the unit cube. Please consider min-max scaling the input data.\n",
      "  warnings.warn(msg, InputDataWarning)\n",
      "/users/k23070952/.local/lib/python3.9/site-packages/botorch/models/utils/assorted.py:202: InputDataWarning: Input data is not standardized (mean = tensor([-7.9936e-17]), std = tensor([1.0206])). Please consider scaling the input to zero mean and unit variance.\n",
      "  warnings.warn(msg, InputDataWarning)\n"
     ]
    },
    {
     "data": {
      "text/html": [
       "<pre style=\"white-space:pre;overflow-x:auto;line-height:normal;font-family:Menlo,'DejaVu Sans Mono',consolas,'Courier New',monospace\">ATLAS <span style=\"font-weight: bold\">[</span>INFO<span style=\"font-weight: bold\">]</span> Regression surrogate GP trained in <span style=\"color: #008080; text-decoration-color: #008080; font-weight: bold\">0.549</span> sec\n",
       "</pre>\n"
      ],
      "text/plain": [
       "ATLAS \u001b[1m[\u001b[0mINFO\u001b[1m]\u001b[0m Regression surrogate GP trained in \u001b[1;36m0.549\u001b[0m sec\n"
      ]
     },
     "metadata": {},
     "output_type": "display_data"
    },
    {
     "data": {
      "text/html": [
       "<pre style=\"white-space:pre;overflow-x:auto;line-height:normal;font-family:Menlo,'DejaVu Sans Mono',consolas,'Courier New',monospace\"><span style=\"color: #05a6fb; text-decoration-color: #05a6fb\">────────────────────── Acquisition function optimization ───────────────────────</span>\n",
       "</pre>\n"
      ],
      "text/plain": [
       "\u001b[38;2;5;166;251m────────────────────── Acquisition function optimization ───────────────────────\u001b[0m\n"
      ]
     },
     "metadata": {},
     "output_type": "display_data"
    },
    {
     "data": {
      "text/html": [
       "<pre style=\"white-space:pre;overflow-x:auto;line-height:normal;font-family:Menlo,'DejaVu Sans Mono',consolas,'Courier New',monospace\">ATLAS <span style=\"font-weight: bold\">[</span>INFO<span style=\"font-weight: bold\">]</span> Optimizing acquisition function with pymoo GA for <span style=\"color: #008080; text-decoration-color: #008080; font-weight: bold\">1</span> fixed parameters<span style=\"color: #808000; text-decoration-color: #808000\">...</span>\n",
       "</pre>\n"
      ],
      "text/plain": [
       "ATLAS \u001b[1m[\u001b[0mINFO\u001b[1m]\u001b[0m Optimizing acquisition function with pymoo GA for \u001b[1;36m1\u001b[0m fixed parameters\u001b[33m...\u001b[0m\n"
      ]
     },
     "metadata": {},
     "output_type": "display_data"
    },
    {
     "name": "stderr",
     "output_type": "stream",
     "text": [
      "/users/k23070952/.local/lib/python3.9/site-packages/botorch/models/gpytorch.py:477: BotorchTensorDimensionWarning: Non-strict enforcement of botorch tensor conventions. The following error would have been raised with strict enforcement: Expected X and Y to have the same number of dimensions (got X with dimension 3 and Y with dimension 4).\n",
      "  self._validate_tensor_args(X=X, Y=Y, Yvar=noise, strict=False)\n",
      "/users/k23070952/.local/lib/python3.9/site-packages/botorch/models/gpytorch.py:239: BotorchTensorDimensionWarning: Non-strict enforcement of botorch tensor conventions. The following error would have been raised with strict enforcement: Expected X and Y to have the same number of dimensions (got X with dimension 3 and Y with dimension 4).\n",
      "  self._validate_tensor_args(X=X, Y=Y, Yvar=Yvar, strict=False)\n",
      "/users/k23070952/.local/lib/python3.9/site-packages/pymoo/operators/repair/rounding.py:18: RuntimeWarning: invalid value encountered in cast\n",
      "  return np.around(X).astype(int)\n",
      "/users/k23070952/.local/lib/python3.9/site-packages/pymoo/operators/mutation/pm.py:44: RuntimeWarning: overflow encountered in power\n",
      "  val = 2.0 * rand + (1.0 - 2.0 * rand) * (np.power(xy, (eta + 1.0)))\n",
      "/users/k23070952/.local/lib/python3.9/site-packages/pymoo/operators/mutation/pm.py:49: RuntimeWarning: overflow encountered in power\n",
      "  val = 2.0 * (1.0 - rand) + 2.0 * (rand - 0.5) * (np.power(xy, (eta + 1.0)))\n"
     ]
    },
    {
     "name": "stdout",
     "output_type": "stream",
     "text": [
      "SAMPLE :  ParamVector(s = 0.1, organic = azetidinium, cation = Ge, anion = F)\n",
      "MEASUREMENT :  3.925\n"
     ]
    },
    {
     "data": {
      "text/html": [
       "<pre style=\"white-space:pre;overflow-x:auto;line-height:normal;font-family:Menlo,'DejaVu Sans Mono',consolas,'Courier New',monospace\"><span style=\"color: #05a6fb; text-decoration-color: #05a6fb\">────────────────────── Acquisition function optimization ───────────────────────</span>\n",
       "</pre>\n"
      ],
      "text/plain": [
       "\u001b[38;2;5;166;251m────────────────────── Acquisition function optimization ───────────────────────\u001b[0m\n"
      ]
     },
     "metadata": {},
     "output_type": "display_data"
    },
    {
     "data": {
      "text/html": [
       "<pre style=\"white-space:pre;overflow-x:auto;line-height:normal;font-family:Menlo,'DejaVu Sans Mono',consolas,'Courier New',monospace\">ATLAS <span style=\"font-weight: bold\">[</span>INFO<span style=\"font-weight: bold\">]</span> Optimizing acquisition function with pymoo GA for <span style=\"color: #008080; text-decoration-color: #008080; font-weight: bold\">1</span> fixed parameters<span style=\"color: #808000; text-decoration-color: #808000\">...</span>\n",
       "</pre>\n"
      ],
      "text/plain": [
       "ATLAS \u001b[1m[\u001b[0mINFO\u001b[1m]\u001b[0m Optimizing acquisition function with pymoo GA for \u001b[1;36m1\u001b[0m fixed parameters\u001b[33m...\u001b[0m\n"
      ]
     },
     "metadata": {},
     "output_type": "display_data"
    },
    {
     "name": "stdout",
     "output_type": "stream",
     "text": [
      "\n",
      "REC SAMPLE :  ParamVector(s = 1.0, organic = tetramethylammonium, cation = Ge, anion = I)\n",
      "REC MEASUREMENT :  2.6172\n",
      "\n",
      "\n",
      "RUN : 1/2\tITER : 27\tCOST : 6.199999999999999\n",
      "\n"
     ]
    },
    {
     "data": {
      "text/html": [
       "<pre style=\"white-space:pre;overflow-x:auto;line-height:normal;font-family:Menlo,'DejaVu Sans Mono',consolas,'Courier New',monospace\"><span style=\"color: #f4a261; text-decoration-color: #f4a261\">ATLAS </span><span style=\"color: #f4a261; text-decoration-color: #f4a261; font-weight: bold\">[</span><span style=\"color: #f4a261; text-decoration-color: #f4a261\">WARNING</span><span style=\"color: #f4a261; text-decoration-color: #f4a261; font-weight: bold\">]</span><span style=\"color: #f4a261; text-decoration-color: #f4a261\"> Setting ask fidelity level to </span><span style=\"color: #008080; text-decoration-color: #008080; font-weight: bold\">0.1</span>\n",
       "</pre>\n"
      ],
      "text/plain": [
       "\u001b[38;2;244;162;97mATLAS \u001b[0m\u001b[1;38;2;244;162;97m[\u001b[0m\u001b[38;2;244;162;97mWARNING\u001b[0m\u001b[1;38;2;244;162;97m]\u001b[0m\u001b[38;2;244;162;97m Setting ask fidelity level to \u001b[0m\u001b[1;36m0.1\u001b[0m\n"
      ]
     },
     "metadata": {},
     "output_type": "display_data"
    },
    {
     "data": {
      "text/html": [
       "<pre style=\"white-space:pre;overflow-x:auto;line-height:normal;font-family:Menlo,'DejaVu Sans Mono',consolas,'Courier New',monospace\"><span style=\"color: #05a6fb; text-decoration-color: #05a6fb\">───────────────────── Training regression surrogate model ──────────────────────</span>\n",
       "</pre>\n"
      ],
      "text/plain": [
       "\u001b[38;2;5;166;251m───────────────────── Training regression surrogate model ──────────────────────\u001b[0m\n"
      ]
     },
     "metadata": {},
     "output_type": "display_data"
    },
    {
     "name": "stderr",
     "output_type": "stream",
     "text": [
      "/users/k23070952/.local/lib/python3.9/site-packages/botorch/models/utils/assorted.py:174: InputDataWarning: Input data is not contained to the unit cube. Please consider min-max scaling the input data.\n",
      "  warnings.warn(msg, InputDataWarning)\n",
      "/users/k23070952/.local/lib/python3.9/site-packages/botorch/models/utils/assorted.py:202: InputDataWarning: Input data is not standardized (mean = tensor([-1.0675e-16]), std = tensor([1.0198])). Please consider scaling the input to zero mean and unit variance.\n",
      "  warnings.warn(msg, InputDataWarning)\n"
     ]
    },
    {
     "data": {
      "text/html": [
       "<pre style=\"white-space:pre;overflow-x:auto;line-height:normal;font-family:Menlo,'DejaVu Sans Mono',consolas,'Courier New',monospace\">ATLAS <span style=\"font-weight: bold\">[</span>INFO<span style=\"font-weight: bold\">]</span> Regression surrogate GP trained in <span style=\"color: #008080; text-decoration-color: #008080; font-weight: bold\">0.348</span> sec\n",
       "</pre>\n"
      ],
      "text/plain": [
       "ATLAS \u001b[1m[\u001b[0mINFO\u001b[1m]\u001b[0m Regression surrogate GP trained in \u001b[1;36m0.348\u001b[0m sec\n"
      ]
     },
     "metadata": {},
     "output_type": "display_data"
    },
    {
     "data": {
      "text/html": [
       "<pre style=\"white-space:pre;overflow-x:auto;line-height:normal;font-family:Menlo,'DejaVu Sans Mono',consolas,'Courier New',monospace\"><span style=\"color: #05a6fb; text-decoration-color: #05a6fb\">────────────────────── Acquisition function optimization ───────────────────────</span>\n",
       "</pre>\n"
      ],
      "text/plain": [
       "\u001b[38;2;5;166;251m────────────────────── Acquisition function optimization ───────────────────────\u001b[0m\n"
      ]
     },
     "metadata": {},
     "output_type": "display_data"
    },
    {
     "data": {
      "text/html": [
       "<pre style=\"white-space:pre;overflow-x:auto;line-height:normal;font-family:Menlo,'DejaVu Sans Mono',consolas,'Courier New',monospace\">ATLAS <span style=\"font-weight: bold\">[</span>INFO<span style=\"font-weight: bold\">]</span> Optimizing acquisition function with pymoo GA for <span style=\"color: #008080; text-decoration-color: #008080; font-weight: bold\">1</span> fixed parameters<span style=\"color: #808000; text-decoration-color: #808000\">...</span>\n",
       "</pre>\n"
      ],
      "text/plain": [
       "ATLAS \u001b[1m[\u001b[0mINFO\u001b[1m]\u001b[0m Optimizing acquisition function with pymoo GA for \u001b[1;36m1\u001b[0m fixed parameters\u001b[33m...\u001b[0m\n"
      ]
     },
     "metadata": {},
     "output_type": "display_data"
    },
    {
     "name": "stderr",
     "output_type": "stream",
     "text": [
      "/users/k23070952/.local/lib/python3.9/site-packages/botorch/models/gpytorch.py:477: BotorchTensorDimensionWarning: Non-strict enforcement of botorch tensor conventions. The following error would have been raised with strict enforcement: Expected X and Y to have the same number of dimensions (got X with dimension 3 and Y with dimension 4).\n",
      "  self._validate_tensor_args(X=X, Y=Y, Yvar=noise, strict=False)\n",
      "/users/k23070952/.local/lib/python3.9/site-packages/botorch/models/gpytorch.py:239: BotorchTensorDimensionWarning: Non-strict enforcement of botorch tensor conventions. The following error would have been raised with strict enforcement: Expected X and Y to have the same number of dimensions (got X with dimension 3 and Y with dimension 4).\n",
      "  self._validate_tensor_args(X=X, Y=Y, Yvar=Yvar, strict=False)\n",
      "/users/k23070952/.local/lib/python3.9/site-packages/pymoo/operators/repair/rounding.py:18: RuntimeWarning: invalid value encountered in cast\n",
      "  return np.around(X).astype(int)\n",
      "/users/k23070952/.local/lib/python3.9/site-packages/pymoo/operators/mutation/pm.py:44: RuntimeWarning: overflow encountered in power\n",
      "  val = 2.0 * rand + (1.0 - 2.0 * rand) * (np.power(xy, (eta + 1.0)))\n",
      "/users/k23070952/.local/lib/python3.9/site-packages/pymoo/operators/mutation/pm.py:49: RuntimeWarning: overflow encountered in power\n",
      "  val = 2.0 * (1.0 - rand) + 2.0 * (rand - 0.5) * (np.power(xy, (eta + 1.0)))\n"
     ]
    },
    {
     "name": "stdout",
     "output_type": "stream",
     "text": [
      "SAMPLE :  ParamVector(s = 0.1, organic = isopropylammonium, cation = Pb, anion = I)\n",
      "MEASUREMENT :  1.6849\n"
     ]
    },
    {
     "data": {
      "text/html": [
       "<pre style=\"white-space:pre;overflow-x:auto;line-height:normal;font-family:Menlo,'DejaVu Sans Mono',consolas,'Courier New',monospace\"><span style=\"color: #05a6fb; text-decoration-color: #05a6fb\">────────────────────── Acquisition function optimization ───────────────────────</span>\n",
       "</pre>\n"
      ],
      "text/plain": [
       "\u001b[38;2;5;166;251m────────────────────── Acquisition function optimization ───────────────────────\u001b[0m\n"
      ]
     },
     "metadata": {},
     "output_type": "display_data"
    },
    {
     "data": {
      "text/html": [
       "<pre style=\"white-space:pre;overflow-x:auto;line-height:normal;font-family:Menlo,'DejaVu Sans Mono',consolas,'Courier New',monospace\">ATLAS <span style=\"font-weight: bold\">[</span>INFO<span style=\"font-weight: bold\">]</span> Optimizing acquisition function with pymoo GA for <span style=\"color: #008080; text-decoration-color: #008080; font-weight: bold\">1</span> fixed parameters<span style=\"color: #808000; text-decoration-color: #808000\">...</span>\n",
       "</pre>\n"
      ],
      "text/plain": [
       "ATLAS \u001b[1m[\u001b[0mINFO\u001b[1m]\u001b[0m Optimizing acquisition function with pymoo GA for \u001b[1;36m1\u001b[0m fixed parameters\u001b[33m...\u001b[0m\n"
      ]
     },
     "metadata": {},
     "output_type": "display_data"
    },
    {
     "name": "stdout",
     "output_type": "stream",
     "text": [
      "\n",
      "REC SAMPLE :  ParamVector(s = 1.0, organic = formamidinium, cation = Ge, anion = Br)\n",
      "REC MEASUREMENT :  2.584\n",
      "\n",
      "\n",
      "RUN : 1/2\tITER : 28\tCOST : 6.299999999999999\n",
      "\n"
     ]
    },
    {
     "data": {
      "text/html": [
       "<pre style=\"white-space:pre;overflow-x:auto;line-height:normal;font-family:Menlo,'DejaVu Sans Mono',consolas,'Courier New',monospace\"><span style=\"color: #f4a261; text-decoration-color: #f4a261\">ATLAS </span><span style=\"color: #f4a261; text-decoration-color: #f4a261; font-weight: bold\">[</span><span style=\"color: #f4a261; text-decoration-color: #f4a261\">WARNING</span><span style=\"color: #f4a261; text-decoration-color: #f4a261; font-weight: bold\">]</span><span style=\"color: #f4a261; text-decoration-color: #f4a261\"> Setting ask fidelity level to </span><span style=\"color: #008080; text-decoration-color: #008080; font-weight: bold\">0.1</span>\n",
       "</pre>\n"
      ],
      "text/plain": [
       "\u001b[38;2;244;162;97mATLAS \u001b[0m\u001b[1;38;2;244;162;97m[\u001b[0m\u001b[38;2;244;162;97mWARNING\u001b[0m\u001b[1;38;2;244;162;97m]\u001b[0m\u001b[38;2;244;162;97m Setting ask fidelity level to \u001b[0m\u001b[1;36m0.1\u001b[0m\n"
      ]
     },
     "metadata": {},
     "output_type": "display_data"
    },
    {
     "data": {
      "text/html": [
       "<pre style=\"white-space:pre;overflow-x:auto;line-height:normal;font-family:Menlo,'DejaVu Sans Mono',consolas,'Courier New',monospace\"><span style=\"color: #05a6fb; text-decoration-color: #05a6fb\">───────────────────── Training regression surrogate model ──────────────────────</span>\n",
       "</pre>\n"
      ],
      "text/plain": [
       "\u001b[38;2;5;166;251m───────────────────── Training regression surrogate model ──────────────────────\u001b[0m\n"
      ]
     },
     "metadata": {},
     "output_type": "display_data"
    },
    {
     "name": "stderr",
     "output_type": "stream",
     "text": [
      "/users/k23070952/.local/lib/python3.9/site-packages/botorch/models/utils/assorted.py:174: InputDataWarning: Input data is not contained to the unit cube. Please consider min-max scaling the input data.\n",
      "  warnings.warn(msg, InputDataWarning)\n",
      "/users/k23070952/.local/lib/python3.9/site-packages/botorch/models/utils/assorted.py:202: InputDataWarning: Input data is not standardized (mean = tensor([-3.2895e-17]), std = tensor([1.0190])). Please consider scaling the input to zero mean and unit variance.\n",
      "  warnings.warn(msg, InputDataWarning)\n"
     ]
    },
    {
     "data": {
      "text/html": [
       "<pre style=\"white-space:pre;overflow-x:auto;line-height:normal;font-family:Menlo,'DejaVu Sans Mono',consolas,'Courier New',monospace\">ATLAS <span style=\"font-weight: bold\">[</span>INFO<span style=\"font-weight: bold\">]</span> Regression surrogate GP trained in <span style=\"color: #008080; text-decoration-color: #008080; font-weight: bold\">0.255</span> sec\n",
       "</pre>\n"
      ],
      "text/plain": [
       "ATLAS \u001b[1m[\u001b[0mINFO\u001b[1m]\u001b[0m Regression surrogate GP trained in \u001b[1;36m0.255\u001b[0m sec\n"
      ]
     },
     "metadata": {},
     "output_type": "display_data"
    },
    {
     "data": {
      "text/html": [
       "<pre style=\"white-space:pre;overflow-x:auto;line-height:normal;font-family:Menlo,'DejaVu Sans Mono',consolas,'Courier New',monospace\"><span style=\"color: #05a6fb; text-decoration-color: #05a6fb\">────────────────────── Acquisition function optimization ───────────────────────</span>\n",
       "</pre>\n"
      ],
      "text/plain": [
       "\u001b[38;2;5;166;251m────────────────────── Acquisition function optimization ───────────────────────\u001b[0m\n"
      ]
     },
     "metadata": {},
     "output_type": "display_data"
    },
    {
     "data": {
      "text/html": [
       "<pre style=\"white-space:pre;overflow-x:auto;line-height:normal;font-family:Menlo,'DejaVu Sans Mono',consolas,'Courier New',monospace\">ATLAS <span style=\"font-weight: bold\">[</span>INFO<span style=\"font-weight: bold\">]</span> Optimizing acquisition function with pymoo GA for <span style=\"color: #008080; text-decoration-color: #008080; font-weight: bold\">1</span> fixed parameters<span style=\"color: #808000; text-decoration-color: #808000\">...</span>\n",
       "</pre>\n"
      ],
      "text/plain": [
       "ATLAS \u001b[1m[\u001b[0mINFO\u001b[1m]\u001b[0m Optimizing acquisition function with pymoo GA for \u001b[1;36m1\u001b[0m fixed parameters\u001b[33m...\u001b[0m\n"
      ]
     },
     "metadata": {},
     "output_type": "display_data"
    },
    {
     "name": "stderr",
     "output_type": "stream",
     "text": [
      "/users/k23070952/.local/lib/python3.9/site-packages/botorch/models/gpytorch.py:477: BotorchTensorDimensionWarning: Non-strict enforcement of botorch tensor conventions. The following error would have been raised with strict enforcement: Expected X and Y to have the same number of dimensions (got X with dimension 3 and Y with dimension 4).\n",
      "  self._validate_tensor_args(X=X, Y=Y, Yvar=noise, strict=False)\n",
      "/users/k23070952/.local/lib/python3.9/site-packages/botorch/models/gpytorch.py:239: BotorchTensorDimensionWarning: Non-strict enforcement of botorch tensor conventions. The following error would have been raised with strict enforcement: Expected X and Y to have the same number of dimensions (got X with dimension 3 and Y with dimension 4).\n",
      "  self._validate_tensor_args(X=X, Y=Y, Yvar=Yvar, strict=False)\n",
      "/users/k23070952/.local/lib/python3.9/site-packages/pymoo/operators/repair/rounding.py:18: RuntimeWarning: invalid value encountered in cast\n",
      "  return np.around(X).astype(int)\n",
      "/users/k23070952/.local/lib/python3.9/site-packages/pymoo/operators/mutation/pm.py:44: RuntimeWarning: overflow encountered in power\n",
      "  val = 2.0 * rand + (1.0 - 2.0 * rand) * (np.power(xy, (eta + 1.0)))\n",
      "/users/k23070952/.local/lib/python3.9/site-packages/pymoo/operators/mutation/pm.py:49: RuntimeWarning: overflow encountered in power\n",
      "  val = 2.0 * (1.0 - rand) + 2.0 * (rand - 0.5) * (np.power(xy, (eta + 1.0)))\n"
     ]
    },
    {
     "name": "stdout",
     "output_type": "stream",
     "text": [
      "SAMPLE :  ParamVector(s = 0.1, organic = ethylammonium, cation = Sn, anion = Cl)\n",
      "MEASUREMENT :  1.5692\n"
     ]
    },
    {
     "data": {
      "text/html": [
       "<pre style=\"white-space:pre;overflow-x:auto;line-height:normal;font-family:Menlo,'DejaVu Sans Mono',consolas,'Courier New',monospace\"><span style=\"color: #05a6fb; text-decoration-color: #05a6fb\">────────────────────── Acquisition function optimization ───────────────────────</span>\n",
       "</pre>\n"
      ],
      "text/plain": [
       "\u001b[38;2;5;166;251m────────────────────── Acquisition function optimization ───────────────────────\u001b[0m\n"
      ]
     },
     "metadata": {},
     "output_type": "display_data"
    },
    {
     "data": {
      "text/html": [
       "<pre style=\"white-space:pre;overflow-x:auto;line-height:normal;font-family:Menlo,'DejaVu Sans Mono',consolas,'Courier New',monospace\">ATLAS <span style=\"font-weight: bold\">[</span>INFO<span style=\"font-weight: bold\">]</span> Optimizing acquisition function with pymoo GA for <span style=\"color: #008080; text-decoration-color: #008080; font-weight: bold\">1</span> fixed parameters<span style=\"color: #808000; text-decoration-color: #808000\">...</span>\n",
       "</pre>\n"
      ],
      "text/plain": [
       "ATLAS \u001b[1m[\u001b[0mINFO\u001b[1m]\u001b[0m Optimizing acquisition function with pymoo GA for \u001b[1;36m1\u001b[0m fixed parameters\u001b[33m...\u001b[0m\n"
      ]
     },
     "metadata": {},
     "output_type": "display_data"
    },
    {
     "name": "stdout",
     "output_type": "stream",
     "text": [
      "\n",
      "REC SAMPLE :  ParamVector(s = 1.0, organic = guanidinium, cation = Sn, anion = Br)\n",
      "REC MEASUREMENT :  2.1209\n",
      "\n",
      "\n",
      "RUN : 1/2\tITER : 29\tCOST : 6.399999999999999\n",
      "\n"
     ]
    },
    {
     "data": {
      "text/html": [
       "<pre style=\"white-space:pre;overflow-x:auto;line-height:normal;font-family:Menlo,'DejaVu Sans Mono',consolas,'Courier New',monospace\"><span style=\"color: #f4a261; text-decoration-color: #f4a261\">ATLAS </span><span style=\"color: #f4a261; text-decoration-color: #f4a261; font-weight: bold\">[</span><span style=\"color: #f4a261; text-decoration-color: #f4a261\">WARNING</span><span style=\"color: #f4a261; text-decoration-color: #f4a261; font-weight: bold\">]</span><span style=\"color: #f4a261; text-decoration-color: #f4a261\"> Setting ask fidelity level to </span><span style=\"color: #008080; text-decoration-color: #008080; font-weight: bold\">0.1</span>\n",
       "</pre>\n"
      ],
      "text/plain": [
       "\u001b[38;2;244;162;97mATLAS \u001b[0m\u001b[1;38;2;244;162;97m[\u001b[0m\u001b[38;2;244;162;97mWARNING\u001b[0m\u001b[1;38;2;244;162;97m]\u001b[0m\u001b[38;2;244;162;97m Setting ask fidelity level to \u001b[0m\u001b[1;36m0.1\u001b[0m\n"
      ]
     },
     "metadata": {},
     "output_type": "display_data"
    },
    {
     "data": {
      "text/html": [
       "<pre style=\"white-space:pre;overflow-x:auto;line-height:normal;font-family:Menlo,'DejaVu Sans Mono',consolas,'Courier New',monospace\"><span style=\"color: #05a6fb; text-decoration-color: #05a6fb\">───────────────────── Training regression surrogate model ──────────────────────</span>\n",
       "</pre>\n"
      ],
      "text/plain": [
       "\u001b[38;2;5;166;251m───────────────────── Training regression surrogate model ──────────────────────\u001b[0m\n"
      ]
     },
     "metadata": {},
     "output_type": "display_data"
    },
    {
     "name": "stderr",
     "output_type": "stream",
     "text": [
      "/users/k23070952/.local/lib/python3.9/site-packages/botorch/models/utils/assorted.py:174: InputDataWarning: Input data is not contained to the unit cube. Please consider min-max scaling the input data.\n",
      "  warnings.warn(msg, InputDataWarning)\n",
      "/users/k23070952/.local/lib/python3.9/site-packages/botorch/models/utils/assorted.py:202: InputDataWarning: Input data is not standardized (mean = tensor([1.3481e-16]), std = tensor([1.0184])). Please consider scaling the input to zero mean and unit variance.\n",
      "  warnings.warn(msg, InputDataWarning)\n"
     ]
    },
    {
     "data": {
      "text/html": [
       "<pre style=\"white-space:pre;overflow-x:auto;line-height:normal;font-family:Menlo,'DejaVu Sans Mono',consolas,'Courier New',monospace\">ATLAS <span style=\"font-weight: bold\">[</span>INFO<span style=\"font-weight: bold\">]</span> Regression surrogate GP trained in <span style=\"color: #008080; text-decoration-color: #008080; font-weight: bold\">0.144</span> sec\n",
       "</pre>\n"
      ],
      "text/plain": [
       "ATLAS \u001b[1m[\u001b[0mINFO\u001b[1m]\u001b[0m Regression surrogate GP trained in \u001b[1;36m0.144\u001b[0m sec\n"
      ]
     },
     "metadata": {},
     "output_type": "display_data"
    },
    {
     "data": {
      "text/html": [
       "<pre style=\"white-space:pre;overflow-x:auto;line-height:normal;font-family:Menlo,'DejaVu Sans Mono',consolas,'Courier New',monospace\"><span style=\"color: #05a6fb; text-decoration-color: #05a6fb\">────────────────────── Acquisition function optimization ───────────────────────</span>\n",
       "</pre>\n"
      ],
      "text/plain": [
       "\u001b[38;2;5;166;251m────────────────────── Acquisition function optimization ───────────────────────\u001b[0m\n"
      ]
     },
     "metadata": {},
     "output_type": "display_data"
    },
    {
     "data": {
      "text/html": [
       "<pre style=\"white-space:pre;overflow-x:auto;line-height:normal;font-family:Menlo,'DejaVu Sans Mono',consolas,'Courier New',monospace\">ATLAS <span style=\"font-weight: bold\">[</span>INFO<span style=\"font-weight: bold\">]</span> Optimizing acquisition function with pymoo GA for <span style=\"color: #008080; text-decoration-color: #008080; font-weight: bold\">1</span> fixed parameters<span style=\"color: #808000; text-decoration-color: #808000\">...</span>\n",
       "</pre>\n"
      ],
      "text/plain": [
       "ATLAS \u001b[1m[\u001b[0mINFO\u001b[1m]\u001b[0m Optimizing acquisition function with pymoo GA for \u001b[1;36m1\u001b[0m fixed parameters\u001b[33m...\u001b[0m\n"
      ]
     },
     "metadata": {},
     "output_type": "display_data"
    },
    {
     "name": "stderr",
     "output_type": "stream",
     "text": [
      "/users/k23070952/.local/lib/python3.9/site-packages/botorch/models/gpytorch.py:477: BotorchTensorDimensionWarning: Non-strict enforcement of botorch tensor conventions. The following error would have been raised with strict enforcement: Expected X and Y to have the same number of dimensions (got X with dimension 3 and Y with dimension 4).\n",
      "  self._validate_tensor_args(X=X, Y=Y, Yvar=noise, strict=False)\n",
      "/users/k23070952/.local/lib/python3.9/site-packages/botorch/models/gpytorch.py:239: BotorchTensorDimensionWarning: Non-strict enforcement of botorch tensor conventions. The following error would have been raised with strict enforcement: Expected X and Y to have the same number of dimensions (got X with dimension 3 and Y with dimension 4).\n",
      "  self._validate_tensor_args(X=X, Y=Y, Yvar=Yvar, strict=False)\n",
      "/users/k23070952/.local/lib/python3.9/site-packages/pymoo/operators/repair/rounding.py:18: RuntimeWarning: invalid value encountered in cast\n",
      "  return np.around(X).astype(int)\n",
      "/users/k23070952/.local/lib/python3.9/site-packages/pymoo/operators/mutation/pm.py:44: RuntimeWarning: overflow encountered in power\n",
      "  val = 2.0 * rand + (1.0 - 2.0 * rand) * (np.power(xy, (eta + 1.0)))\n",
      "/users/k23070952/.local/lib/python3.9/site-packages/pymoo/operators/mutation/pm.py:49: RuntimeWarning: overflow encountered in power\n",
      "  val = 2.0 * (1.0 - rand) + 2.0 * (rand - 0.5) * (np.power(xy, (eta + 1.0)))\n"
     ]
    },
    {
     "name": "stdout",
     "output_type": "stream",
     "text": [
      "SAMPLE :  ParamVector(s = 0.1, organic = hydrazinium, cation = Ge, anion = F)\n",
      "MEASUREMENT :  4.0646\n"
     ]
    },
    {
     "data": {
      "text/html": [
       "<pre style=\"white-space:pre;overflow-x:auto;line-height:normal;font-family:Menlo,'DejaVu Sans Mono',consolas,'Courier New',monospace\"><span style=\"color: #05a6fb; text-decoration-color: #05a6fb\">────────────────────── Acquisition function optimization ───────────────────────</span>\n",
       "</pre>\n"
      ],
      "text/plain": [
       "\u001b[38;2;5;166;251m────────────────────── Acquisition function optimization ───────────────────────\u001b[0m\n"
      ]
     },
     "metadata": {},
     "output_type": "display_data"
    },
    {
     "data": {
      "text/html": [
       "<pre style=\"white-space:pre;overflow-x:auto;line-height:normal;font-family:Menlo,'DejaVu Sans Mono',consolas,'Courier New',monospace\">ATLAS <span style=\"font-weight: bold\">[</span>INFO<span style=\"font-weight: bold\">]</span> Optimizing acquisition function with pymoo GA for <span style=\"color: #008080; text-decoration-color: #008080; font-weight: bold\">1</span> fixed parameters<span style=\"color: #808000; text-decoration-color: #808000\">...</span>\n",
       "</pre>\n"
      ],
      "text/plain": [
       "ATLAS \u001b[1m[\u001b[0mINFO\u001b[1m]\u001b[0m Optimizing acquisition function with pymoo GA for \u001b[1;36m1\u001b[0m fixed parameters\u001b[33m...\u001b[0m\n"
      ]
     },
     "metadata": {},
     "output_type": "display_data"
    },
    {
     "name": "stdout",
     "output_type": "stream",
     "text": [
      "\n",
      "REC SAMPLE :  ParamVector(s = 1.0, organic = ethylammonium, cation = Pb, anion = Cl)\n",
      "REC MEASUREMENT :  2.8744\n",
      "\n",
      "\n",
      "RUN : 1/2\tITER : 30\tCOST : 6.499999999999998\n",
      "\n"
     ]
    },
    {
     "data": {
      "text/html": [
       "<pre style=\"white-space:pre;overflow-x:auto;line-height:normal;font-family:Menlo,'DejaVu Sans Mono',consolas,'Courier New',monospace\"><span style=\"color: #f4a261; text-decoration-color: #f4a261\">ATLAS </span><span style=\"color: #f4a261; text-decoration-color: #f4a261; font-weight: bold\">[</span><span style=\"color: #f4a261; text-decoration-color: #f4a261\">WARNING</span><span style=\"color: #f4a261; text-decoration-color: #f4a261; font-weight: bold\">]</span><span style=\"color: #f4a261; text-decoration-color: #f4a261\"> Setting ask fidelity level to </span><span style=\"color: #008080; text-decoration-color: #008080; font-weight: bold\">0.1</span>\n",
       "</pre>\n"
      ],
      "text/plain": [
       "\u001b[38;2;244;162;97mATLAS \u001b[0m\u001b[1;38;2;244;162;97m[\u001b[0m\u001b[38;2;244;162;97mWARNING\u001b[0m\u001b[1;38;2;244;162;97m]\u001b[0m\u001b[38;2;244;162;97m Setting ask fidelity level to \u001b[0m\u001b[1;36m0.1\u001b[0m\n"
      ]
     },
     "metadata": {},
     "output_type": "display_data"
    },
    {
     "data": {
      "text/html": [
       "<pre style=\"white-space:pre;overflow-x:auto;line-height:normal;font-family:Menlo,'DejaVu Sans Mono',consolas,'Courier New',monospace\"><span style=\"color: #05a6fb; text-decoration-color: #05a6fb\">───────────────────── Training regression surrogate model ──────────────────────</span>\n",
       "</pre>\n"
      ],
      "text/plain": [
       "\u001b[38;2;5;166;251m───────────────────── Training regression surrogate model ──────────────────────\u001b[0m\n"
      ]
     },
     "metadata": {},
     "output_type": "display_data"
    },
    {
     "name": "stderr",
     "output_type": "stream",
     "text": [
      "/users/k23070952/.local/lib/python3.9/site-packages/botorch/models/utils/assorted.py:174: InputDataWarning: Input data is not contained to the unit cube. Please consider min-max scaling the input data.\n",
      "  warnings.warn(msg, InputDataWarning)\n",
      "/users/k23070952/.local/lib/python3.9/site-packages/botorch/models/utils/assorted.py:202: InputDataWarning: Input data is not standardized (mean = tensor([1.9142e-16]), std = tensor([1.0177])). Please consider scaling the input to zero mean and unit variance.\n",
      "  warnings.warn(msg, InputDataWarning)\n"
     ]
    },
    {
     "data": {
      "text/html": [
       "<pre style=\"white-space:pre;overflow-x:auto;line-height:normal;font-family:Menlo,'DejaVu Sans Mono',consolas,'Courier New',monospace\">ATLAS <span style=\"font-weight: bold\">[</span>INFO<span style=\"font-weight: bold\">]</span> Regression surrogate GP trained in <span style=\"color: #008080; text-decoration-color: #008080; font-weight: bold\">0.297</span> sec\n",
       "</pre>\n"
      ],
      "text/plain": [
       "ATLAS \u001b[1m[\u001b[0mINFO\u001b[1m]\u001b[0m Regression surrogate GP trained in \u001b[1;36m0.297\u001b[0m sec\n"
      ]
     },
     "metadata": {},
     "output_type": "display_data"
    },
    {
     "data": {
      "text/html": [
       "<pre style=\"white-space:pre;overflow-x:auto;line-height:normal;font-family:Menlo,'DejaVu Sans Mono',consolas,'Courier New',monospace\"><span style=\"color: #05a6fb; text-decoration-color: #05a6fb\">────────────────────── Acquisition function optimization ───────────────────────</span>\n",
       "</pre>\n"
      ],
      "text/plain": [
       "\u001b[38;2;5;166;251m────────────────────── Acquisition function optimization ───────────────────────\u001b[0m\n"
      ]
     },
     "metadata": {},
     "output_type": "display_data"
    },
    {
     "data": {
      "text/html": [
       "<pre style=\"white-space:pre;overflow-x:auto;line-height:normal;font-family:Menlo,'DejaVu Sans Mono',consolas,'Courier New',monospace\">ATLAS <span style=\"font-weight: bold\">[</span>INFO<span style=\"font-weight: bold\">]</span> Optimizing acquisition function with pymoo GA for <span style=\"color: #008080; text-decoration-color: #008080; font-weight: bold\">1</span> fixed parameters<span style=\"color: #808000; text-decoration-color: #808000\">...</span>\n",
       "</pre>\n"
      ],
      "text/plain": [
       "ATLAS \u001b[1m[\u001b[0mINFO\u001b[1m]\u001b[0m Optimizing acquisition function with pymoo GA for \u001b[1;36m1\u001b[0m fixed parameters\u001b[33m...\u001b[0m\n"
      ]
     },
     "metadata": {},
     "output_type": "display_data"
    },
    {
     "name": "stderr",
     "output_type": "stream",
     "text": [
      "/users/k23070952/.local/lib/python3.9/site-packages/botorch/models/gpytorch.py:477: BotorchTensorDimensionWarning: Non-strict enforcement of botorch tensor conventions. The following error would have been raised with strict enforcement: Expected X and Y to have the same number of dimensions (got X with dimension 3 and Y with dimension 4).\n",
      "  self._validate_tensor_args(X=X, Y=Y, Yvar=noise, strict=False)\n",
      "/users/k23070952/.local/lib/python3.9/site-packages/botorch/models/gpytorch.py:239: BotorchTensorDimensionWarning: Non-strict enforcement of botorch tensor conventions. The following error would have been raised with strict enforcement: Expected X and Y to have the same number of dimensions (got X with dimension 3 and Y with dimension 4).\n",
      "  self._validate_tensor_args(X=X, Y=Y, Yvar=Yvar, strict=False)\n",
      "/users/k23070952/.local/lib/python3.9/site-packages/pymoo/operators/repair/rounding.py:18: RuntimeWarning: invalid value encountered in cast\n",
      "  return np.around(X).astype(int)\n",
      "/users/k23070952/.local/lib/python3.9/site-packages/pymoo/operators/mutation/pm.py:44: RuntimeWarning: overflow encountered in power\n",
      "  val = 2.0 * rand + (1.0 - 2.0 * rand) * (np.power(xy, (eta + 1.0)))\n",
      "/users/k23070952/.local/lib/python3.9/site-packages/pymoo/operators/mutation/pm.py:49: RuntimeWarning: overflow encountered in power\n",
      "  val = 2.0 * (1.0 - rand) + 2.0 * (rand - 0.5) * (np.power(xy, (eta + 1.0)))\n"
     ]
    },
    {
     "name": "stdout",
     "output_type": "stream",
     "text": [
      "SAMPLE :  ParamVector(s = 0.1, organic = isopropylammonium, cation = Pb, anion = F)\n",
      "MEASUREMENT :  4.137\n"
     ]
    },
    {
     "data": {
      "text/html": [
       "<pre style=\"white-space:pre;overflow-x:auto;line-height:normal;font-family:Menlo,'DejaVu Sans Mono',consolas,'Courier New',monospace\"><span style=\"color: #05a6fb; text-decoration-color: #05a6fb\">────────────────────── Acquisition function optimization ───────────────────────</span>\n",
       "</pre>\n"
      ],
      "text/plain": [
       "\u001b[38;2;5;166;251m────────────────────── Acquisition function optimization ───────────────────────\u001b[0m\n"
      ]
     },
     "metadata": {},
     "output_type": "display_data"
    },
    {
     "data": {
      "text/html": [
       "<pre style=\"white-space:pre;overflow-x:auto;line-height:normal;font-family:Menlo,'DejaVu Sans Mono',consolas,'Courier New',monospace\">ATLAS <span style=\"font-weight: bold\">[</span>INFO<span style=\"font-weight: bold\">]</span> Optimizing acquisition function with pymoo GA for <span style=\"color: #008080; text-decoration-color: #008080; font-weight: bold\">1</span> fixed parameters<span style=\"color: #808000; text-decoration-color: #808000\">...</span>\n",
       "</pre>\n"
      ],
      "text/plain": [
       "ATLAS \u001b[1m[\u001b[0mINFO\u001b[1m]\u001b[0m Optimizing acquisition function with pymoo GA for \u001b[1;36m1\u001b[0m fixed parameters\u001b[33m...\u001b[0m\n"
      ]
     },
     "metadata": {},
     "output_type": "display_data"
    },
    {
     "name": "stdout",
     "output_type": "stream",
     "text": [
      "\n",
      "REC SAMPLE :  ParamVector(s = 1.0, organic = methylammonium, cation = Sn, anion = F)\n",
      "REC MEASUREMENT :  4.3195\n",
      "\n",
      "\n",
      "RUN : 1/2\tITER : 31\tCOST : 6.599999999999998\n",
      "\n"
     ]
    },
    {
     "data": {
      "text/html": [
       "<pre style=\"white-space:pre;overflow-x:auto;line-height:normal;font-family:Menlo,'DejaVu Sans Mono',consolas,'Courier New',monospace\"><span style=\"color: #f4a261; text-decoration-color: #f4a261\">ATLAS </span><span style=\"color: #f4a261; text-decoration-color: #f4a261; font-weight: bold\">[</span><span style=\"color: #f4a261; text-decoration-color: #f4a261\">WARNING</span><span style=\"color: #f4a261; text-decoration-color: #f4a261; font-weight: bold\">]</span><span style=\"color: #f4a261; text-decoration-color: #f4a261\"> Setting ask fidelity level to </span><span style=\"color: #008080; text-decoration-color: #008080; font-weight: bold\">0.1</span>\n",
       "</pre>\n"
      ],
      "text/plain": [
       "\u001b[38;2;244;162;97mATLAS \u001b[0m\u001b[1;38;2;244;162;97m[\u001b[0m\u001b[38;2;244;162;97mWARNING\u001b[0m\u001b[1;38;2;244;162;97m]\u001b[0m\u001b[38;2;244;162;97m Setting ask fidelity level to \u001b[0m\u001b[1;36m0.1\u001b[0m\n"
      ]
     },
     "metadata": {},
     "output_type": "display_data"
    },
    {
     "data": {
      "text/html": [
       "<pre style=\"white-space:pre;overflow-x:auto;line-height:normal;font-family:Menlo,'DejaVu Sans Mono',consolas,'Courier New',monospace\"><span style=\"color: #05a6fb; text-decoration-color: #05a6fb\">───────────────────── Training regression surrogate model ──────────────────────</span>\n",
       "</pre>\n"
      ],
      "text/plain": [
       "\u001b[38;2;5;166;251m───────────────────── Training regression surrogate model ──────────────────────\u001b[0m\n"
      ]
     },
     "metadata": {},
     "output_type": "display_data"
    },
    {
     "name": "stderr",
     "output_type": "stream",
     "text": [
      "/users/k23070952/.local/lib/python3.9/site-packages/botorch/models/utils/assorted.py:174: InputDataWarning: Input data is not contained to the unit cube. Please consider min-max scaling the input data.\n",
      "  warnings.warn(msg, InputDataWarning)\n",
      "/users/k23070952/.local/lib/python3.9/site-packages/botorch/models/utils/assorted.py:202: InputDataWarning: Input data is not standardized (mean = tensor([9.6219e-17]), std = tensor([1.0171])). Please consider scaling the input to zero mean and unit variance.\n",
      "  warnings.warn(msg, InputDataWarning)\n"
     ]
    },
    {
     "data": {
      "text/html": [
       "<pre style=\"white-space:pre;overflow-x:auto;line-height:normal;font-family:Menlo,'DejaVu Sans Mono',consolas,'Courier New',monospace\">ATLAS <span style=\"font-weight: bold\">[</span>INFO<span style=\"font-weight: bold\">]</span> Regression surrogate GP trained in <span style=\"color: #008080; text-decoration-color: #008080; font-weight: bold\">0.342</span> sec\n",
       "</pre>\n"
      ],
      "text/plain": [
       "ATLAS \u001b[1m[\u001b[0mINFO\u001b[1m]\u001b[0m Regression surrogate GP trained in \u001b[1;36m0.342\u001b[0m sec\n"
      ]
     },
     "metadata": {},
     "output_type": "display_data"
    },
    {
     "data": {
      "text/html": [
       "<pre style=\"white-space:pre;overflow-x:auto;line-height:normal;font-family:Menlo,'DejaVu Sans Mono',consolas,'Courier New',monospace\"><span style=\"color: #05a6fb; text-decoration-color: #05a6fb\">────────────────────── Acquisition function optimization ───────────────────────</span>\n",
       "</pre>\n"
      ],
      "text/plain": [
       "\u001b[38;2;5;166;251m────────────────────── Acquisition function optimization ───────────────────────\u001b[0m\n"
      ]
     },
     "metadata": {},
     "output_type": "display_data"
    },
    {
     "data": {
      "text/html": [
       "<pre style=\"white-space:pre;overflow-x:auto;line-height:normal;font-family:Menlo,'DejaVu Sans Mono',consolas,'Courier New',monospace\">ATLAS <span style=\"font-weight: bold\">[</span>INFO<span style=\"font-weight: bold\">]</span> Optimizing acquisition function with pymoo GA for <span style=\"color: #008080; text-decoration-color: #008080; font-weight: bold\">1</span> fixed parameters<span style=\"color: #808000; text-decoration-color: #808000\">...</span>\n",
       "</pre>\n"
      ],
      "text/plain": [
       "ATLAS \u001b[1m[\u001b[0mINFO\u001b[1m]\u001b[0m Optimizing acquisition function with pymoo GA for \u001b[1;36m1\u001b[0m fixed parameters\u001b[33m...\u001b[0m\n"
      ]
     },
     "metadata": {},
     "output_type": "display_data"
    },
    {
     "name": "stderr",
     "output_type": "stream",
     "text": [
      "/users/k23070952/.local/lib/python3.9/site-packages/botorch/models/gpytorch.py:477: BotorchTensorDimensionWarning: Non-strict enforcement of botorch tensor conventions. The following error would have been raised with strict enforcement: Expected X and Y to have the same number of dimensions (got X with dimension 3 and Y with dimension 4).\n",
      "  self._validate_tensor_args(X=X, Y=Y, Yvar=noise, strict=False)\n",
      "/users/k23070952/.local/lib/python3.9/site-packages/botorch/models/gpytorch.py:239: BotorchTensorDimensionWarning: Non-strict enforcement of botorch tensor conventions. The following error would have been raised with strict enforcement: Expected X and Y to have the same number of dimensions (got X with dimension 3 and Y with dimension 4).\n",
      "  self._validate_tensor_args(X=X, Y=Y, Yvar=Yvar, strict=False)\n",
      "/users/k23070952/.local/lib/python3.9/site-packages/pymoo/operators/repair/rounding.py:18: RuntimeWarning: invalid value encountered in cast\n",
      "  return np.around(X).astype(int)\n",
      "/users/k23070952/.local/lib/python3.9/site-packages/pymoo/operators/mutation/pm.py:44: RuntimeWarning: overflow encountered in power\n",
      "  val = 2.0 * rand + (1.0 - 2.0 * rand) * (np.power(xy, (eta + 1.0)))\n",
      "/users/k23070952/.local/lib/python3.9/site-packages/pymoo/operators/mutation/pm.py:49: RuntimeWarning: overflow encountered in power\n",
      "  val = 2.0 * (1.0 - rand) + 2.0 * (rand - 0.5) * (np.power(xy, (eta + 1.0)))\n"
     ]
    },
    {
     "name": "stdout",
     "output_type": "stream",
     "text": [
      "SAMPLE :  ParamVector(s = 0.1, organic = azetidinium, cation = Ge, anion = Br)\n",
      "MEASUREMENT :  1.9935\n"
     ]
    },
    {
     "data": {
      "text/html": [
       "<pre style=\"white-space:pre;overflow-x:auto;line-height:normal;font-family:Menlo,'DejaVu Sans Mono',consolas,'Courier New',monospace\"><span style=\"color: #05a6fb; text-decoration-color: #05a6fb\">────────────────────── Acquisition function optimization ───────────────────────</span>\n",
       "</pre>\n"
      ],
      "text/plain": [
       "\u001b[38;2;5;166;251m────────────────────── Acquisition function optimization ───────────────────────\u001b[0m\n"
      ]
     },
     "metadata": {},
     "output_type": "display_data"
    },
    {
     "data": {
      "text/html": [
       "<pre style=\"white-space:pre;overflow-x:auto;line-height:normal;font-family:Menlo,'DejaVu Sans Mono',consolas,'Courier New',monospace\">ATLAS <span style=\"font-weight: bold\">[</span>INFO<span style=\"font-weight: bold\">]</span> Optimizing acquisition function with pymoo GA for <span style=\"color: #008080; text-decoration-color: #008080; font-weight: bold\">1</span> fixed parameters<span style=\"color: #808000; text-decoration-color: #808000\">...</span>\n",
       "</pre>\n"
      ],
      "text/plain": [
       "ATLAS \u001b[1m[\u001b[0mINFO\u001b[1m]\u001b[0m Optimizing acquisition function with pymoo GA for \u001b[1;36m1\u001b[0m fixed parameters\u001b[33m...\u001b[0m\n"
      ]
     },
     "metadata": {},
     "output_type": "display_data"
    },
    {
     "name": "stdout",
     "output_type": "stream",
     "text": [
      "\n",
      "REC SAMPLE :  ParamVector(s = 1.0, organic = propylammonium, cation = Ge, anion = F)\n",
      "REC MEASUREMENT :  5.5243\n",
      "\n",
      "\n",
      "RUN : 1/2\tITER : 32\tCOST : 6.6999999999999975\n",
      "\n"
     ]
    },
    {
     "data": {
      "text/html": [
       "<pre style=\"white-space:pre;overflow-x:auto;line-height:normal;font-family:Menlo,'DejaVu Sans Mono',consolas,'Courier New',monospace\"><span style=\"color: #f4a261; text-decoration-color: #f4a261\">ATLAS </span><span style=\"color: #f4a261; text-decoration-color: #f4a261; font-weight: bold\">[</span><span style=\"color: #f4a261; text-decoration-color: #f4a261\">WARNING</span><span style=\"color: #f4a261; text-decoration-color: #f4a261; font-weight: bold\">]</span><span style=\"color: #f4a261; text-decoration-color: #f4a261\"> Setting ask fidelity level to </span><span style=\"color: #008080; text-decoration-color: #008080; font-weight: bold\">0.1</span>\n",
       "</pre>\n"
      ],
      "text/plain": [
       "\u001b[38;2;244;162;97mATLAS \u001b[0m\u001b[1;38;2;244;162;97m[\u001b[0m\u001b[38;2;244;162;97mWARNING\u001b[0m\u001b[1;38;2;244;162;97m]\u001b[0m\u001b[38;2;244;162;97m Setting ask fidelity level to \u001b[0m\u001b[1;36m0.1\u001b[0m\n"
      ]
     },
     "metadata": {},
     "output_type": "display_data"
    },
    {
     "data": {
      "text/html": [
       "<pre style=\"white-space:pre;overflow-x:auto;line-height:normal;font-family:Menlo,'DejaVu Sans Mono',consolas,'Courier New',monospace\"><span style=\"color: #05a6fb; text-decoration-color: #05a6fb\">───────────────────── Training regression surrogate model ──────────────────────</span>\n",
       "</pre>\n"
      ],
      "text/plain": [
       "\u001b[38;2;5;166;251m───────────────────── Training regression surrogate model ──────────────────────\u001b[0m\n"
      ]
     },
     "metadata": {},
     "output_type": "display_data"
    },
    {
     "name": "stderr",
     "output_type": "stream",
     "text": [
      "/users/k23070952/.local/lib/python3.9/site-packages/botorch/models/utils/assorted.py:174: InputDataWarning: Input data is not contained to the unit cube. Please consider min-max scaling the input data.\n",
      "  warnings.warn(msg, InputDataWarning)\n",
      "/users/k23070952/.local/lib/python3.9/site-packages/botorch/models/utils/assorted.py:202: InputDataWarning: Input data is not standardized (mean = tensor([-4.2976e-17]), std = tensor([1.0165])). Please consider scaling the input to zero mean and unit variance.\n",
      "  warnings.warn(msg, InputDataWarning)\n"
     ]
    },
    {
     "data": {
      "text/html": [
       "<pre style=\"white-space:pre;overflow-x:auto;line-height:normal;font-family:Menlo,'DejaVu Sans Mono',consolas,'Courier New',monospace\">ATLAS <span style=\"font-weight: bold\">[</span>INFO<span style=\"font-weight: bold\">]</span> Regression surrogate GP trained in <span style=\"color: #008080; text-decoration-color: #008080; font-weight: bold\">0.253</span> sec\n",
       "</pre>\n"
      ],
      "text/plain": [
       "ATLAS \u001b[1m[\u001b[0mINFO\u001b[1m]\u001b[0m Regression surrogate GP trained in \u001b[1;36m0.253\u001b[0m sec\n"
      ]
     },
     "metadata": {},
     "output_type": "display_data"
    },
    {
     "data": {
      "text/html": [
       "<pre style=\"white-space:pre;overflow-x:auto;line-height:normal;font-family:Menlo,'DejaVu Sans Mono',consolas,'Courier New',monospace\"><span style=\"color: #05a6fb; text-decoration-color: #05a6fb\">────────────────────── Acquisition function optimization ───────────────────────</span>\n",
       "</pre>\n"
      ],
      "text/plain": [
       "\u001b[38;2;5;166;251m────────────────────── Acquisition function optimization ───────────────────────\u001b[0m\n"
      ]
     },
     "metadata": {},
     "output_type": "display_data"
    },
    {
     "data": {
      "text/html": [
       "<pre style=\"white-space:pre;overflow-x:auto;line-height:normal;font-family:Menlo,'DejaVu Sans Mono',consolas,'Courier New',monospace\">ATLAS <span style=\"font-weight: bold\">[</span>INFO<span style=\"font-weight: bold\">]</span> Optimizing acquisition function with pymoo GA for <span style=\"color: #008080; text-decoration-color: #008080; font-weight: bold\">1</span> fixed parameters<span style=\"color: #808000; text-decoration-color: #808000\">...</span>\n",
       "</pre>\n"
      ],
      "text/plain": [
       "ATLAS \u001b[1m[\u001b[0mINFO\u001b[1m]\u001b[0m Optimizing acquisition function with pymoo GA for \u001b[1;36m1\u001b[0m fixed parameters\u001b[33m...\u001b[0m\n"
      ]
     },
     "metadata": {},
     "output_type": "display_data"
    },
    {
     "name": "stderr",
     "output_type": "stream",
     "text": [
      "/users/k23070952/.local/lib/python3.9/site-packages/botorch/models/gpytorch.py:477: BotorchTensorDimensionWarning: Non-strict enforcement of botorch tensor conventions. The following error would have been raised with strict enforcement: Expected X and Y to have the same number of dimensions (got X with dimension 3 and Y with dimension 4).\n",
      "  self._validate_tensor_args(X=X, Y=Y, Yvar=noise, strict=False)\n",
      "/users/k23070952/.local/lib/python3.9/site-packages/botorch/models/gpytorch.py:239: BotorchTensorDimensionWarning: Non-strict enforcement of botorch tensor conventions. The following error would have been raised with strict enforcement: Expected X and Y to have the same number of dimensions (got X with dimension 3 and Y with dimension 4).\n",
      "  self._validate_tensor_args(X=X, Y=Y, Yvar=Yvar, strict=False)\n",
      "/users/k23070952/.local/lib/python3.9/site-packages/pymoo/operators/repair/rounding.py:18: RuntimeWarning: invalid value encountered in cast\n",
      "  return np.around(X).astype(int)\n",
      "/users/k23070952/.local/lib/python3.9/site-packages/pymoo/operators/mutation/pm.py:44: RuntimeWarning: overflow encountered in power\n",
      "  val = 2.0 * rand + (1.0 - 2.0 * rand) * (np.power(xy, (eta + 1.0)))\n",
      "/users/k23070952/.local/lib/python3.9/site-packages/pymoo/operators/mutation/pm.py:49: RuntimeWarning: overflow encountered in power\n",
      "  val = 2.0 * (1.0 - rand) + 2.0 * (rand - 0.5) * (np.power(xy, (eta + 1.0)))\n"
     ]
    },
    {
     "name": "stdout",
     "output_type": "stream",
     "text": [
      "SAMPLE :  ParamVector(s = 0.1, organic = isopropylammonium, cation = Pb, anion = Br)\n",
      "MEASUREMENT :  2.2971\n"
     ]
    },
    {
     "data": {
      "text/html": [
       "<pre style=\"white-space:pre;overflow-x:auto;line-height:normal;font-family:Menlo,'DejaVu Sans Mono',consolas,'Courier New',monospace\"><span style=\"color: #05a6fb; text-decoration-color: #05a6fb\">────────────────────── Acquisition function optimization ───────────────────────</span>\n",
       "</pre>\n"
      ],
      "text/plain": [
       "\u001b[38;2;5;166;251m────────────────────── Acquisition function optimization ───────────────────────\u001b[0m\n"
      ]
     },
     "metadata": {},
     "output_type": "display_data"
    },
    {
     "data": {
      "text/html": [
       "<pre style=\"white-space:pre;overflow-x:auto;line-height:normal;font-family:Menlo,'DejaVu Sans Mono',consolas,'Courier New',monospace\">ATLAS <span style=\"font-weight: bold\">[</span>INFO<span style=\"font-weight: bold\">]</span> Optimizing acquisition function with pymoo GA for <span style=\"color: #008080; text-decoration-color: #008080; font-weight: bold\">1</span> fixed parameters<span style=\"color: #808000; text-decoration-color: #808000\">...</span>\n",
       "</pre>\n"
      ],
      "text/plain": [
       "ATLAS \u001b[1m[\u001b[0mINFO\u001b[1m]\u001b[0m Optimizing acquisition function with pymoo GA for \u001b[1;36m1\u001b[0m fixed parameters\u001b[33m...\u001b[0m\n"
      ]
     },
     "metadata": {},
     "output_type": "display_data"
    },
    {
     "name": "stdout",
     "output_type": "stream",
     "text": [
      "\n",
      "REC SAMPLE :  ParamVector(s = 1.0, organic = imidazolium, cation = Pb, anion = Br)\n",
      "REC MEASUREMENT :  2.8641\n",
      "\n",
      "\n",
      "RUN : 1/2\tITER : 33\tCOST : 6.800000000000001\n",
      "\n"
     ]
    },
    {
     "data": {
      "text/html": [
       "<pre style=\"white-space:pre;overflow-x:auto;line-height:normal;font-family:Menlo,'DejaVu Sans Mono',consolas,'Courier New',monospace\"><span style=\"color: #f4a261; text-decoration-color: #f4a261\">ATLAS </span><span style=\"color: #f4a261; text-decoration-color: #f4a261; font-weight: bold\">[</span><span style=\"color: #f4a261; text-decoration-color: #f4a261\">WARNING</span><span style=\"color: #f4a261; text-decoration-color: #f4a261; font-weight: bold\">]</span><span style=\"color: #f4a261; text-decoration-color: #f4a261\"> Setting ask fidelity level to </span><span style=\"color: #008080; text-decoration-color: #008080; font-weight: bold\">1.0</span>\n",
       "</pre>\n"
      ],
      "text/plain": [
       "\u001b[38;2;244;162;97mATLAS \u001b[0m\u001b[1;38;2;244;162;97m[\u001b[0m\u001b[38;2;244;162;97mWARNING\u001b[0m\u001b[1;38;2;244;162;97m]\u001b[0m\u001b[38;2;244;162;97m Setting ask fidelity level to \u001b[0m\u001b[1;36m1.0\u001b[0m\n"
      ]
     },
     "metadata": {},
     "output_type": "display_data"
    },
    {
     "data": {
      "text/html": [
       "<pre style=\"white-space:pre;overflow-x:auto;line-height:normal;font-family:Menlo,'DejaVu Sans Mono',consolas,'Courier New',monospace\"><span style=\"color: #05a6fb; text-decoration-color: #05a6fb\">───────────────────── Training regression surrogate model ──────────────────────</span>\n",
       "</pre>\n"
      ],
      "text/plain": [
       "\u001b[38;2;5;166;251m───────────────────── Training regression surrogate model ──────────────────────\u001b[0m\n"
      ]
     },
     "metadata": {},
     "output_type": "display_data"
    },
    {
     "name": "stderr",
     "output_type": "stream",
     "text": [
      "/users/k23070952/.local/lib/python3.9/site-packages/botorch/models/utils/assorted.py:174: InputDataWarning: Input data is not contained to the unit cube. Please consider min-max scaling the input data.\n",
      "  warnings.warn(msg, InputDataWarning)\n",
      "/users/k23070952/.local/lib/python3.9/site-packages/botorch/models/utils/assorted.py:202: InputDataWarning: Input data is not standardized (mean = tensor([1.3878e-16]), std = tensor([1.0160])). Please consider scaling the input to zero mean and unit variance.\n",
      "  warnings.warn(msg, InputDataWarning)\n"
     ]
    },
    {
     "data": {
      "text/html": [
       "<pre style=\"white-space:pre;overflow-x:auto;line-height:normal;font-family:Menlo,'DejaVu Sans Mono',consolas,'Courier New',monospace\">ATLAS <span style=\"font-weight: bold\">[</span>INFO<span style=\"font-weight: bold\">]</span> Regression surrogate GP trained in <span style=\"color: #008080; text-decoration-color: #008080; font-weight: bold\">0.695</span> sec\n",
       "</pre>\n"
      ],
      "text/plain": [
       "ATLAS \u001b[1m[\u001b[0mINFO\u001b[1m]\u001b[0m Regression surrogate GP trained in \u001b[1;36m0.695\u001b[0m sec\n"
      ]
     },
     "metadata": {},
     "output_type": "display_data"
    },
    {
     "data": {
      "text/html": [
       "<pre style=\"white-space:pre;overflow-x:auto;line-height:normal;font-family:Menlo,'DejaVu Sans Mono',consolas,'Courier New',monospace\"><span style=\"color: #05a6fb; text-decoration-color: #05a6fb\">────────────────────── Acquisition function optimization ───────────────────────</span>\n",
       "</pre>\n"
      ],
      "text/plain": [
       "\u001b[38;2;5;166;251m────────────────────── Acquisition function optimization ───────────────────────\u001b[0m\n"
      ]
     },
     "metadata": {},
     "output_type": "display_data"
    },
    {
     "data": {
      "text/html": [
       "<pre style=\"white-space:pre;overflow-x:auto;line-height:normal;font-family:Menlo,'DejaVu Sans Mono',consolas,'Courier New',monospace\">ATLAS <span style=\"font-weight: bold\">[</span>INFO<span style=\"font-weight: bold\">]</span> Optimizing acquisition function with pymoo GA for <span style=\"color: #008080; text-decoration-color: #008080; font-weight: bold\">1</span> fixed parameters<span style=\"color: #808000; text-decoration-color: #808000\">...</span>\n",
       "</pre>\n"
      ],
      "text/plain": [
       "ATLAS \u001b[1m[\u001b[0mINFO\u001b[1m]\u001b[0m Optimizing acquisition function with pymoo GA for \u001b[1;36m1\u001b[0m fixed parameters\u001b[33m...\u001b[0m\n"
      ]
     },
     "metadata": {},
     "output_type": "display_data"
    },
    {
     "name": "stderr",
     "output_type": "stream",
     "text": [
      "/users/k23070952/.local/lib/python3.9/site-packages/botorch/models/gpytorch.py:477: BotorchTensorDimensionWarning: Non-strict enforcement of botorch tensor conventions. The following error would have been raised with strict enforcement: Expected X and Y to have the same number of dimensions (got X with dimension 3 and Y with dimension 4).\n",
      "  self._validate_tensor_args(X=X, Y=Y, Yvar=noise, strict=False)\n",
      "/users/k23070952/.local/lib/python3.9/site-packages/botorch/models/gpytorch.py:239: BotorchTensorDimensionWarning: Non-strict enforcement of botorch tensor conventions. The following error would have been raised with strict enforcement: Expected X and Y to have the same number of dimensions (got X with dimension 3 and Y with dimension 4).\n",
      "  self._validate_tensor_args(X=X, Y=Y, Yvar=Yvar, strict=False)\n",
      "/users/k23070952/.local/lib/python3.9/site-packages/pymoo/operators/repair/rounding.py:18: RuntimeWarning: invalid value encountered in cast\n",
      "  return np.around(X).astype(int)\n",
      "/users/k23070952/.local/lib/python3.9/site-packages/pymoo/operators/mutation/pm.py:44: RuntimeWarning: overflow encountered in power\n",
      "  val = 2.0 * rand + (1.0 - 2.0 * rand) * (np.power(xy, (eta + 1.0)))\n",
      "/users/k23070952/.local/lib/python3.9/site-packages/pymoo/operators/mutation/pm.py:49: RuntimeWarning: overflow encountered in power\n",
      "  val = 2.0 * (1.0 - rand) + 2.0 * (rand - 0.5) * (np.power(xy, (eta + 1.0)))\n"
     ]
    },
    {
     "name": "stdout",
     "output_type": "stream",
     "text": [
      "SAMPLE :  ParamVector(s = 1.0, organic = tetramethylammonium, cation = Ge, anion = F)\n",
      "MEASUREMENT :  6.0254\n"
     ]
    },
    {
     "data": {
      "text/html": [
       "<pre style=\"white-space:pre;overflow-x:auto;line-height:normal;font-family:Menlo,'DejaVu Sans Mono',consolas,'Courier New',monospace\"><span style=\"color: #05a6fb; text-decoration-color: #05a6fb\">────────────────────── Acquisition function optimization ───────────────────────</span>\n",
       "</pre>\n"
      ],
      "text/plain": [
       "\u001b[38;2;5;166;251m────────────────────── Acquisition function optimization ───────────────────────\u001b[0m\n"
      ]
     },
     "metadata": {},
     "output_type": "display_data"
    },
    {
     "data": {
      "text/html": [
       "<pre style=\"white-space:pre;overflow-x:auto;line-height:normal;font-family:Menlo,'DejaVu Sans Mono',consolas,'Courier New',monospace\">ATLAS <span style=\"font-weight: bold\">[</span>INFO<span style=\"font-weight: bold\">]</span> Optimizing acquisition function with pymoo GA for <span style=\"color: #008080; text-decoration-color: #008080; font-weight: bold\">1</span> fixed parameters<span style=\"color: #808000; text-decoration-color: #808000\">...</span>\n",
       "</pre>\n"
      ],
      "text/plain": [
       "ATLAS \u001b[1m[\u001b[0mINFO\u001b[1m]\u001b[0m Optimizing acquisition function with pymoo GA for \u001b[1;36m1\u001b[0m fixed parameters\u001b[33m...\u001b[0m\n"
      ]
     },
     "metadata": {},
     "output_type": "display_data"
    },
    {
     "name": "stdout",
     "output_type": "stream",
     "text": [
      "\n",
      "REC SAMPLE :  ParamVector(s = 1.0, organic = imidazolium, cation = Ge, anion = Br)\n",
      "REC MEASUREMENT :  2.8815\n",
      "\n",
      "\n",
      "RUN : 1/2\tITER : 34\tCOST : 7.800000000000001\n",
      "\n"
     ]
    },
    {
     "data": {
      "text/html": [
       "<pre style=\"white-space:pre;overflow-x:auto;line-height:normal;font-family:Menlo,'DejaVu Sans Mono',consolas,'Courier New',monospace\"><span style=\"color: #f4a261; text-decoration-color: #f4a261\">ATLAS </span><span style=\"color: #f4a261; text-decoration-color: #f4a261; font-weight: bold\">[</span><span style=\"color: #f4a261; text-decoration-color: #f4a261\">WARNING</span><span style=\"color: #f4a261; text-decoration-color: #f4a261; font-weight: bold\">]</span><span style=\"color: #f4a261; text-decoration-color: #f4a261\"> Setting ask fidelity level to </span><span style=\"color: #008080; text-decoration-color: #008080; font-weight: bold\">0.1</span>\n",
       "</pre>\n"
      ],
      "text/plain": [
       "\u001b[38;2;244;162;97mATLAS \u001b[0m\u001b[1;38;2;244;162;97m[\u001b[0m\u001b[38;2;244;162;97mWARNING\u001b[0m\u001b[1;38;2;244;162;97m]\u001b[0m\u001b[38;2;244;162;97m Setting ask fidelity level to \u001b[0m\u001b[1;36m0.1\u001b[0m\n"
      ]
     },
     "metadata": {},
     "output_type": "display_data"
    },
    {
     "data": {
      "text/html": [
       "<pre style=\"white-space:pre;overflow-x:auto;line-height:normal;font-family:Menlo,'DejaVu Sans Mono',consolas,'Courier New',monospace\"><span style=\"color: #05a6fb; text-decoration-color: #05a6fb\">───────────────────── Training regression surrogate model ──────────────────────</span>\n",
       "</pre>\n"
      ],
      "text/plain": [
       "\u001b[38;2;5;166;251m───────────────────── Training regression surrogate model ──────────────────────\u001b[0m\n"
      ]
     },
     "metadata": {},
     "output_type": "display_data"
    },
    {
     "name": "stderr",
     "output_type": "stream",
     "text": [
      "/users/k23070952/.local/lib/python3.9/site-packages/botorch/models/utils/assorted.py:174: InputDataWarning: Input data is not contained to the unit cube. Please consider min-max scaling the input data.\n",
      "  warnings.warn(msg, InputDataWarning)\n",
      "/users/k23070952/.local/lib/python3.9/site-packages/botorch/models/utils/assorted.py:202: InputDataWarning: Input data is not standardized (mean = tensor([-1.3457e-16]), std = tensor([1.0155])). Please consider scaling the input to zero mean and unit variance.\n",
      "  warnings.warn(msg, InputDataWarning)\n"
     ]
    },
    {
     "data": {
      "text/html": [
       "<pre style=\"white-space:pre;overflow-x:auto;line-height:normal;font-family:Menlo,'DejaVu Sans Mono',consolas,'Courier New',monospace\">ATLAS <span style=\"font-weight: bold\">[</span>INFO<span style=\"font-weight: bold\">]</span> Regression surrogate GP trained in <span style=\"color: #008080; text-decoration-color: #008080; font-weight: bold\">0.828</span> sec\n",
       "</pre>\n"
      ],
      "text/plain": [
       "ATLAS \u001b[1m[\u001b[0mINFO\u001b[1m]\u001b[0m Regression surrogate GP trained in \u001b[1;36m0.828\u001b[0m sec\n"
      ]
     },
     "metadata": {},
     "output_type": "display_data"
    },
    {
     "data": {
      "text/html": [
       "<pre style=\"white-space:pre;overflow-x:auto;line-height:normal;font-family:Menlo,'DejaVu Sans Mono',consolas,'Courier New',monospace\"><span style=\"color: #05a6fb; text-decoration-color: #05a6fb\">────────────────────── Acquisition function optimization ───────────────────────</span>\n",
       "</pre>\n"
      ],
      "text/plain": [
       "\u001b[38;2;5;166;251m────────────────────── Acquisition function optimization ───────────────────────\u001b[0m\n"
      ]
     },
     "metadata": {},
     "output_type": "display_data"
    },
    {
     "data": {
      "text/html": [
       "<pre style=\"white-space:pre;overflow-x:auto;line-height:normal;font-family:Menlo,'DejaVu Sans Mono',consolas,'Courier New',monospace\">ATLAS <span style=\"font-weight: bold\">[</span>INFO<span style=\"font-weight: bold\">]</span> Optimizing acquisition function with pymoo GA for <span style=\"color: #008080; text-decoration-color: #008080; font-weight: bold\">1</span> fixed parameters<span style=\"color: #808000; text-decoration-color: #808000\">...</span>\n",
       "</pre>\n"
      ],
      "text/plain": [
       "ATLAS \u001b[1m[\u001b[0mINFO\u001b[1m]\u001b[0m Optimizing acquisition function with pymoo GA for \u001b[1;36m1\u001b[0m fixed parameters\u001b[33m...\u001b[0m\n"
      ]
     },
     "metadata": {},
     "output_type": "display_data"
    },
    {
     "name": "stderr",
     "output_type": "stream",
     "text": [
      "/users/k23070952/.local/lib/python3.9/site-packages/botorch/models/gpytorch.py:477: BotorchTensorDimensionWarning: Non-strict enforcement of botorch tensor conventions. The following error would have been raised with strict enforcement: Expected X and Y to have the same number of dimensions (got X with dimension 3 and Y with dimension 4).\n",
      "  self._validate_tensor_args(X=X, Y=Y, Yvar=noise, strict=False)\n",
      "/users/k23070952/.local/lib/python3.9/site-packages/botorch/models/gpytorch.py:239: BotorchTensorDimensionWarning: Non-strict enforcement of botorch tensor conventions. The following error would have been raised with strict enforcement: Expected X and Y to have the same number of dimensions (got X with dimension 3 and Y with dimension 4).\n",
      "  self._validate_tensor_args(X=X, Y=Y, Yvar=Yvar, strict=False)\n",
      "/users/k23070952/.local/lib/python3.9/site-packages/pymoo/operators/repair/rounding.py:18: RuntimeWarning: invalid value encountered in cast\n",
      "  return np.around(X).astype(int)\n",
      "/users/k23070952/.local/lib/python3.9/site-packages/pymoo/operators/mutation/pm.py:44: RuntimeWarning: overflow encountered in power\n",
      "  val = 2.0 * rand + (1.0 - 2.0 * rand) * (np.power(xy, (eta + 1.0)))\n",
      "/users/k23070952/.local/lib/python3.9/site-packages/pymoo/operators/mutation/pm.py:49: RuntimeWarning: overflow encountered in power\n",
      "  val = 2.0 * (1.0 - rand) + 2.0 * (rand - 0.5) * (np.power(xy, (eta + 1.0)))\n"
     ]
    },
    {
     "name": "stdout",
     "output_type": "stream",
     "text": [
      "SAMPLE :  ParamVector(s = 0.1, organic = butylammonium, cation = Sn, anion = F)\n",
      "MEASUREMENT :  3.7624\n"
     ]
    },
    {
     "data": {
      "text/html": [
       "<pre style=\"white-space:pre;overflow-x:auto;line-height:normal;font-family:Menlo,'DejaVu Sans Mono',consolas,'Courier New',monospace\"><span style=\"color: #05a6fb; text-decoration-color: #05a6fb\">────────────────────── Acquisition function optimization ───────────────────────</span>\n",
       "</pre>\n"
      ],
      "text/plain": [
       "\u001b[38;2;5;166;251m────────────────────── Acquisition function optimization ───────────────────────\u001b[0m\n"
      ]
     },
     "metadata": {},
     "output_type": "display_data"
    },
    {
     "data": {
      "text/html": [
       "<pre style=\"white-space:pre;overflow-x:auto;line-height:normal;font-family:Menlo,'DejaVu Sans Mono',consolas,'Courier New',monospace\">ATLAS <span style=\"font-weight: bold\">[</span>INFO<span style=\"font-weight: bold\">]</span> Optimizing acquisition function with pymoo GA for <span style=\"color: #008080; text-decoration-color: #008080; font-weight: bold\">1</span> fixed parameters<span style=\"color: #808000; text-decoration-color: #808000\">...</span>\n",
       "</pre>\n"
      ],
      "text/plain": [
       "ATLAS \u001b[1m[\u001b[0mINFO\u001b[1m]\u001b[0m Optimizing acquisition function with pymoo GA for \u001b[1;36m1\u001b[0m fixed parameters\u001b[33m...\u001b[0m\n"
      ]
     },
     "metadata": {},
     "output_type": "display_data"
    },
    {
     "ename": "KeyboardInterrupt",
     "evalue": "",
     "output_type": "error",
     "traceback": [
      "\u001b[0;31m---------------------------------------------------------------------------\u001b[0m",
      "\u001b[0;31mKeyboardInterrupt\u001b[0m                         Traceback (most recent call last)",
      "\u001b[0;32m/tmp/ipykernel_1240395/3875106000.py\u001b[0m in \u001b[0;36m<module>\u001b[0;34m\u001b[0m\n\u001b[1;32m     42\u001b[0m                 \u001b[0;32mif\u001b[0m \u001b[0mcampaign\u001b[0m\u001b[0;34m.\u001b[0m\u001b[0mnum_obs\u001b[0m \u001b[0;34m>\u001b[0m \u001b[0mNUM_INIT_DESIGN\u001b[0m\u001b[0;34m:\u001b[0m\u001b[0;34m\u001b[0m\u001b[0;34m\u001b[0m\u001b[0m\n\u001b[1;32m     43\u001b[0m                         \u001b[0;31m# make greedy recommendation on the target fidelity\u001b[0m\u001b[0;34m\u001b[0m\u001b[0;34m\u001b[0m\u001b[0m\n\u001b[0;32m---> 44\u001b[0;31m                         \u001b[0mrec_sample\u001b[0m \u001b[0;34m=\u001b[0m \u001b[0mplanner\u001b[0m\u001b[0;34m.\u001b[0m\u001b[0mrecommend_target_fidelity\u001b[0m\u001b[0;34m(\u001b[0m\u001b[0mbatch_size\u001b[0m\u001b[0;34m=\u001b[0m\u001b[0;36m1\u001b[0m\u001b[0;34m)\u001b[0m\u001b[0;34m[\u001b[0m\u001b[0;36m0\u001b[0m\u001b[0;34m]\u001b[0m\u001b[0;34m\u001b[0m\u001b[0;34m\u001b[0m\u001b[0m\n\u001b[0m\u001b[1;32m     45\u001b[0m                         \u001b[0mrec_measurement\u001b[0m \u001b[0;34m=\u001b[0m \u001b[0mmeasure\u001b[0m\u001b[0;34m(\u001b[0m\u001b[0mrec_sample\u001b[0m\u001b[0;34m,\u001b[0m \u001b[0mrec_sample\u001b[0m\u001b[0;34m.\u001b[0m\u001b[0ms\u001b[0m\u001b[0;34m)\u001b[0m\u001b[0;34m\u001b[0m\u001b[0;34m\u001b[0m\u001b[0m\n\u001b[1;32m     46\u001b[0m                         \u001b[0mprint\u001b[0m\u001b[0;34m(\u001b[0m\u001b[0;34m''\u001b[0m\u001b[0;34m)\u001b[0m\u001b[0;34m\u001b[0m\u001b[0;34m\u001b[0m\u001b[0m\n",
      "\u001b[0;32m/cephfs/volumes/hpc_home/k23070952/a774a32b-b8f8-42f8-b661-406a5dd49fd8/CODE/0. SSH files/atlas/src/atlas/planners/multi_fidelity/planner.py\u001b[0m in \u001b[0;36mrecommend_target_fidelity\u001b[0;34m(self, batch_size)\u001b[0m\n\u001b[1;32m    290\u001b[0m         )\n\u001b[1;32m    291\u001b[0m \u001b[0;34m\u001b[0m\u001b[0m\n\u001b[0;32m--> 292\u001b[0;31m         \u001b[0mreturn_params\u001b[0m \u001b[0;34m=\u001b[0m \u001b[0macquisition_optimizer\u001b[0m\u001b[0;34m.\u001b[0m\u001b[0moptimize\u001b[0m\u001b[0;34m(\u001b[0m\u001b[0;34m)\u001b[0m\u001b[0;34m\u001b[0m\u001b[0;34m\u001b[0m\u001b[0m\n\u001b[0m\u001b[1;32m    293\u001b[0m \u001b[0;34m\u001b[0m\u001b[0m\n\u001b[1;32m    294\u001b[0m \u001b[0;34m\u001b[0m\u001b[0m\n",
      "\u001b[0;32m/cephfs/volumes/hpc_home/k23070952/a774a32b-b8f8-42f8-b661-406a5dd49fd8/CODE/0. SSH files/atlas/src/atlas/acquisition_optimizers/base_optimizer.py\u001b[0m in \u001b[0;36moptimize\u001b[0;34m(self)\u001b[0m\n\u001b[1;32m     56\u001b[0m         \u001b[0mstart_time\u001b[0m \u001b[0;34m=\u001b[0m \u001b[0mtime\u001b[0m\u001b[0;34m.\u001b[0m\u001b[0mtime\u001b[0m\u001b[0;34m(\u001b[0m\u001b[0;34m)\u001b[0m\u001b[0;34m\u001b[0m\u001b[0;34m\u001b[0m\u001b[0m\n\u001b[1;32m     57\u001b[0m         \u001b[0;31m# returns list of parameter vectors with recommendations\u001b[0m\u001b[0;34m\u001b[0m\u001b[0;34m\u001b[0m\u001b[0m\n\u001b[0;32m---> 58\u001b[0;31m         \u001b[0mresults\u001b[0m \u001b[0;34m=\u001b[0m \u001b[0mself\u001b[0m\u001b[0;34m.\u001b[0m\u001b[0m_optimize\u001b[0m\u001b[0;34m(\u001b[0m\u001b[0;34m)\u001b[0m\u001b[0;34m\u001b[0m\u001b[0;34m\u001b[0m\u001b[0m\n\u001b[0m\u001b[1;32m     59\u001b[0m         \u001b[0mself\u001b[0m\u001b[0;34m.\u001b[0m\u001b[0mtimings_dict\u001b[0m\u001b[0;34m[\u001b[0m\u001b[0;34m\"acquisition_opt\"\u001b[0m\u001b[0;34m]\u001b[0m \u001b[0;34m=\u001b[0m \u001b[0mtime\u001b[0m\u001b[0;34m.\u001b[0m\u001b[0mtime\u001b[0m\u001b[0;34m(\u001b[0m\u001b[0;34m)\u001b[0m \u001b[0;34m-\u001b[0m \u001b[0mstart_time\u001b[0m\u001b[0;34m\u001b[0m\u001b[0;34m\u001b[0m\u001b[0m\n\u001b[1;32m     60\u001b[0m \u001b[0;34m\u001b[0m\u001b[0m\n",
      "\u001b[0;32m/cephfs/volumes/hpc_home/k23070952/a774a32b-b8f8-42f8-b661-406a5dd49fd8/CODE/0. SSH files/atlas/src/atlas/acquisition_optimizers/pymoo_optimizer.py\u001b[0m in \u001b[0;36m_optimize\u001b[0;34m(self)\u001b[0m\n\u001b[1;32m    450\u001b[0m                 )\n\u001b[1;32m    451\u001b[0m \u001b[0;34m\u001b[0m\u001b[0m\n\u001b[0;32m--> 452\u001b[0;31m                 res = minimize(\n\u001b[0m\u001b[1;32m    453\u001b[0m                     \u001b[0mself\u001b[0m\u001b[0;34m.\u001b[0m\u001b[0mpymoo_problem\u001b[0m\u001b[0;34m,\u001b[0m\u001b[0;34m\u001b[0m\u001b[0;34m\u001b[0m\u001b[0m\n\u001b[1;32m    454\u001b[0m                     \u001b[0mself\u001b[0m\u001b[0;34m.\u001b[0m\u001b[0malgorithm\u001b[0m\u001b[0;34m,\u001b[0m\u001b[0;34m\u001b[0m\u001b[0;34m\u001b[0m\u001b[0m\n",
      "\u001b[0;32m~/.local/lib/python3.9/site-packages/pymoo/optimize.py\u001b[0m in \u001b[0;36mminimize\u001b[0;34m(problem, algorithm, termination, copy_algorithm, copy_termination, **kwargs)\u001b[0m\n\u001b[1;32m     65\u001b[0m \u001b[0;34m\u001b[0m\u001b[0m\n\u001b[1;32m     66\u001b[0m     \u001b[0;31m# actually execute the algorithm\u001b[0m\u001b[0;34m\u001b[0m\u001b[0;34m\u001b[0m\u001b[0m\n\u001b[0;32m---> 67\u001b[0;31m     \u001b[0mres\u001b[0m \u001b[0;34m=\u001b[0m \u001b[0malgorithm\u001b[0m\u001b[0;34m.\u001b[0m\u001b[0mrun\u001b[0m\u001b[0;34m(\u001b[0m\u001b[0;34m)\u001b[0m\u001b[0;34m\u001b[0m\u001b[0;34m\u001b[0m\u001b[0m\n\u001b[0m\u001b[1;32m     68\u001b[0m \u001b[0;34m\u001b[0m\u001b[0m\n\u001b[1;32m     69\u001b[0m     \u001b[0;31m# store the deep copied algorithm in the result object\u001b[0m\u001b[0;34m\u001b[0m\u001b[0;34m\u001b[0m\u001b[0m\n",
      "\u001b[0;32m~/.local/lib/python3.9/site-packages/pymoo/core/algorithm.py\u001b[0m in \u001b[0;36mrun\u001b[0;34m(self)\u001b[0m\n\u001b[1;32m    136\u001b[0m     \u001b[0;32mdef\u001b[0m \u001b[0mrun\u001b[0m\u001b[0;34m(\u001b[0m\u001b[0mself\u001b[0m\u001b[0;34m)\u001b[0m\u001b[0;34m:\u001b[0m\u001b[0;34m\u001b[0m\u001b[0;34m\u001b[0m\u001b[0m\n\u001b[1;32m    137\u001b[0m         \u001b[0;32mwhile\u001b[0m \u001b[0mself\u001b[0m\u001b[0;34m.\u001b[0m\u001b[0mhas_next\u001b[0m\u001b[0;34m(\u001b[0m\u001b[0;34m)\u001b[0m\u001b[0;34m:\u001b[0m\u001b[0;34m\u001b[0m\u001b[0;34m\u001b[0m\u001b[0m\n\u001b[0;32m--> 138\u001b[0;31m             \u001b[0mself\u001b[0m\u001b[0;34m.\u001b[0m\u001b[0mnext\u001b[0m\u001b[0;34m(\u001b[0m\u001b[0;34m)\u001b[0m\u001b[0;34m\u001b[0m\u001b[0;34m\u001b[0m\u001b[0m\n\u001b[0m\u001b[1;32m    139\u001b[0m         \u001b[0;32mreturn\u001b[0m \u001b[0mself\u001b[0m\u001b[0;34m.\u001b[0m\u001b[0mresult\u001b[0m\u001b[0;34m(\u001b[0m\u001b[0;34m)\u001b[0m\u001b[0;34m\u001b[0m\u001b[0;34m\u001b[0m\u001b[0m\n\u001b[1;32m    140\u001b[0m \u001b[0;34m\u001b[0m\u001b[0m\n",
      "\u001b[0;32m~/.local/lib/python3.9/site-packages/pymoo/core/algorithm.py\u001b[0m in \u001b[0;36mnext\u001b[0;34m(self)\u001b[0m\n\u001b[1;32m    152\u001b[0m \u001b[0;34m\u001b[0m\u001b[0m\n\u001b[1;32m    153\u001b[0m         \u001b[0;31m# get the infill solutions\u001b[0m\u001b[0;34m\u001b[0m\u001b[0;34m\u001b[0m\u001b[0m\n\u001b[0;32m--> 154\u001b[0;31m         \u001b[0minfills\u001b[0m \u001b[0;34m=\u001b[0m \u001b[0mself\u001b[0m\u001b[0;34m.\u001b[0m\u001b[0minfill\u001b[0m\u001b[0;34m(\u001b[0m\u001b[0;34m)\u001b[0m\u001b[0;34m\u001b[0m\u001b[0;34m\u001b[0m\u001b[0m\n\u001b[0m\u001b[1;32m    155\u001b[0m \u001b[0;34m\u001b[0m\u001b[0m\n\u001b[1;32m    156\u001b[0m         \u001b[0;31m# call the advance with them after evaluation\u001b[0m\u001b[0;34m\u001b[0m\u001b[0;34m\u001b[0m\u001b[0m\n",
      "\u001b[0;32m~/.local/lib/python3.9/site-packages/pymoo/core/algorithm.py\u001b[0m in \u001b[0;36minfill\u001b[0;34m(self)\u001b[0m\n\u001b[1;32m    188\u001b[0m         \u001b[0;32melse\u001b[0m\u001b[0;34m:\u001b[0m\u001b[0;34m\u001b[0m\u001b[0;34m\u001b[0m\u001b[0m\n\u001b[1;32m    189\u001b[0m             \u001b[0;31m# request the infill solutions if the algorithm has implemented it\u001b[0m\u001b[0;34m\u001b[0m\u001b[0;34m\u001b[0m\u001b[0m\n\u001b[0;32m--> 190\u001b[0;31m             \u001b[0minfills\u001b[0m \u001b[0;34m=\u001b[0m \u001b[0mself\u001b[0m\u001b[0;34m.\u001b[0m\u001b[0m_infill\u001b[0m\u001b[0;34m(\u001b[0m\u001b[0;34m)\u001b[0m\u001b[0;34m\u001b[0m\u001b[0;34m\u001b[0m\u001b[0m\n\u001b[0m\u001b[1;32m    191\u001b[0m \u001b[0;34m\u001b[0m\u001b[0m\n\u001b[1;32m    192\u001b[0m         \u001b[0;31m# set the current generation to the offsprings\u001b[0m\u001b[0;34m\u001b[0m\u001b[0;34m\u001b[0m\u001b[0m\n",
      "\u001b[0;32m~/.local/lib/python3.9/site-packages/pymoo/algorithms/base/genetic.py\u001b[0m in \u001b[0;36m_infill\u001b[0;34m(self)\u001b[0m\n\u001b[1;32m     83\u001b[0m \u001b[0;34m\u001b[0m\u001b[0m\n\u001b[1;32m     84\u001b[0m         \u001b[0;31m# do the mating using the current population\u001b[0m\u001b[0;34m\u001b[0m\u001b[0;34m\u001b[0m\u001b[0m\n\u001b[0;32m---> 85\u001b[0;31m         \u001b[0moff\u001b[0m \u001b[0;34m=\u001b[0m \u001b[0mself\u001b[0m\u001b[0;34m.\u001b[0m\u001b[0mmating\u001b[0m\u001b[0;34m.\u001b[0m\u001b[0mdo\u001b[0m\u001b[0;34m(\u001b[0m\u001b[0mself\u001b[0m\u001b[0;34m.\u001b[0m\u001b[0mproblem\u001b[0m\u001b[0;34m,\u001b[0m \u001b[0mself\u001b[0m\u001b[0;34m.\u001b[0m\u001b[0mpop\u001b[0m\u001b[0;34m,\u001b[0m \u001b[0mself\u001b[0m\u001b[0;34m.\u001b[0m\u001b[0mn_offsprings\u001b[0m\u001b[0;34m,\u001b[0m \u001b[0malgorithm\u001b[0m\u001b[0;34m=\u001b[0m\u001b[0mself\u001b[0m\u001b[0;34m)\u001b[0m\u001b[0;34m\u001b[0m\u001b[0;34m\u001b[0m\u001b[0m\n\u001b[0m\u001b[1;32m     86\u001b[0m \u001b[0;34m\u001b[0m\u001b[0m\n\u001b[1;32m     87\u001b[0m         \u001b[0;31m# if the mating could not generate any new offspring (duplicate elimination might make that happen)\u001b[0m\u001b[0;34m\u001b[0m\u001b[0;34m\u001b[0m\u001b[0m\n",
      "\u001b[0;32m~/.local/lib/python3.9/site-packages/pymoo/core/infill.py\u001b[0m in \u001b[0;36mdo\u001b[0;34m(self, problem, pop, n_offsprings, **kwargs)\u001b[0m\n\u001b[1;32m     42\u001b[0m \u001b[0;34m\u001b[0m\u001b[0m\n\u001b[1;32m     43\u001b[0m             \u001b[0;31m# eliminate the duplicates\u001b[0m\u001b[0;34m\u001b[0m\u001b[0;34m\u001b[0m\u001b[0m\n\u001b[0;32m---> 44\u001b[0;31m             \u001b[0m_off\u001b[0m \u001b[0;34m=\u001b[0m \u001b[0mself\u001b[0m\u001b[0;34m.\u001b[0m\u001b[0meliminate_duplicates\u001b[0m\u001b[0;34m.\u001b[0m\u001b[0mdo\u001b[0m\u001b[0;34m(\u001b[0m\u001b[0m_off\u001b[0m\u001b[0;34m,\u001b[0m \u001b[0mpop\u001b[0m\u001b[0;34m,\u001b[0m \u001b[0moff\u001b[0m\u001b[0;34m)\u001b[0m\u001b[0;34m\u001b[0m\u001b[0;34m\u001b[0m\u001b[0m\n\u001b[0m\u001b[1;32m     45\u001b[0m \u001b[0;34m\u001b[0m\u001b[0m\n\u001b[1;32m     46\u001b[0m             \u001b[0;31m# if more offsprings than necessary - truncate them randomly\u001b[0m\u001b[0;34m\u001b[0m\u001b[0;34m\u001b[0m\u001b[0m\n",
      "\u001b[0;32m~/.local/lib/python3.9/site-packages/pymoo/core/duplicate.py\u001b[0m in \u001b[0;36mdo\u001b[0;34m(self, pop, return_indices, to_itself, *args)\u001b[0m\n\u001b[1;32m     34\u001b[0m                     \u001b[0;32mcontinue\u001b[0m\u001b[0;34m\u001b[0m\u001b[0;34m\u001b[0m\u001b[0m\n\u001b[1;32m     35\u001b[0m                 \u001b[0;32melse\u001b[0m\u001b[0;34m:\u001b[0m\u001b[0;34m\u001b[0m\u001b[0;34m\u001b[0m\u001b[0m\n\u001b[0;32m---> 36\u001b[0;31m                     \u001b[0mpop\u001b[0m \u001b[0;34m=\u001b[0m \u001b[0mpop\u001b[0m\u001b[0;34m[\u001b[0m\u001b[0;34m~\u001b[0m\u001b[0mself\u001b[0m\u001b[0;34m.\u001b[0m\u001b[0m_do\u001b[0m\u001b[0;34m(\u001b[0m\u001b[0mpop\u001b[0m\u001b[0;34m,\u001b[0m \u001b[0marg\u001b[0m\u001b[0;34m,\u001b[0m \u001b[0mnp\u001b[0m\u001b[0;34m.\u001b[0m\u001b[0mfull\u001b[0m\u001b[0;34m(\u001b[0m\u001b[0mlen\u001b[0m\u001b[0;34m(\u001b[0m\u001b[0mpop\u001b[0m\u001b[0;34m)\u001b[0m\u001b[0;34m,\u001b[0m \u001b[0;32mFalse\u001b[0m\u001b[0;34m)\u001b[0m\u001b[0;34m)\u001b[0m\u001b[0;34m]\u001b[0m\u001b[0;34m\u001b[0m\u001b[0;34m\u001b[0m\u001b[0m\n\u001b[0m\u001b[1;32m     37\u001b[0m \u001b[0;34m\u001b[0m\u001b[0m\n\u001b[1;32m     38\u001b[0m         \u001b[0;32mif\u001b[0m \u001b[0mreturn_indices\u001b[0m\u001b[0;34m:\u001b[0m\u001b[0;34m\u001b[0m\u001b[0;34m\u001b[0m\u001b[0m\n",
      "\u001b[0;32m~/.local/lib/python3.9/site-packages/pymoo/core/duplicate.py\u001b[0m in \u001b[0;36m_do\u001b[0;34m(self, pop, other, is_duplicate)\u001b[0m\n\u001b[1;32m    112\u001b[0m             \u001b[0;32mfor\u001b[0m \u001b[0mi\u001b[0m \u001b[0;32min\u001b[0m \u001b[0mrange\u001b[0m\u001b[0;34m(\u001b[0m\u001b[0mlen\u001b[0m\u001b[0;34m(\u001b[0m\u001b[0mpop\u001b[0m\u001b[0;34m)\u001b[0m\u001b[0;34m)\u001b[0m\u001b[0;34m:\u001b[0m\u001b[0;34m\u001b[0m\u001b[0;34m\u001b[0m\u001b[0m\n\u001b[1;32m    113\u001b[0m                 \u001b[0;32mfor\u001b[0m \u001b[0mj\u001b[0m \u001b[0;32min\u001b[0m \u001b[0mrange\u001b[0m\u001b[0;34m(\u001b[0m\u001b[0mlen\u001b[0m\u001b[0;34m(\u001b[0m\u001b[0mother\u001b[0m\u001b[0;34m)\u001b[0m\u001b[0;34m)\u001b[0m\u001b[0;34m:\u001b[0m\u001b[0;34m\u001b[0m\u001b[0;34m\u001b[0m\u001b[0m\n\u001b[0;32m--> 114\u001b[0;31m                     \u001b[0mval\u001b[0m \u001b[0;34m=\u001b[0m \u001b[0mto_float\u001b[0m\u001b[0;34m(\u001b[0m\u001b[0mself\u001b[0m\u001b[0;34m.\u001b[0m\u001b[0mcmp_func\u001b[0m\u001b[0;34m(\u001b[0m\u001b[0mpop\u001b[0m\u001b[0;34m[\u001b[0m\u001b[0mi\u001b[0m\u001b[0;34m]\u001b[0m\u001b[0;34m,\u001b[0m \u001b[0mother\u001b[0m\u001b[0;34m[\u001b[0m\u001b[0mj\u001b[0m\u001b[0;34m]\u001b[0m\u001b[0;34m)\u001b[0m\u001b[0;34m)\u001b[0m\u001b[0;34m\u001b[0m\u001b[0;34m\u001b[0m\u001b[0m\n\u001b[0m\u001b[1;32m    115\u001b[0m                     \u001b[0;32mif\u001b[0m \u001b[0mval\u001b[0m \u001b[0;34m<\u001b[0m \u001b[0mself\u001b[0m\u001b[0;34m.\u001b[0m\u001b[0mepsilon\u001b[0m\u001b[0;34m:\u001b[0m\u001b[0;34m\u001b[0m\u001b[0;34m\u001b[0m\u001b[0m\n\u001b[1;32m    116\u001b[0m                         \u001b[0mis_duplicate\u001b[0m\u001b[0;34m[\u001b[0m\u001b[0mi\u001b[0m\u001b[0;34m]\u001b[0m \u001b[0;34m=\u001b[0m \u001b[0;32mTrue\u001b[0m\u001b[0;34m\u001b[0m\u001b[0;34m\u001b[0m\u001b[0m\n",
      "\u001b[0;32m~/.local/lib/python3.9/site-packages/pymoo/core/mixed.py\u001b[0m in \u001b[0;36mis_equal\u001b[0;34m(self, a, b)\u001b[0m\n\u001b[1;32m    133\u001b[0m \u001b[0;34m\u001b[0m\u001b[0m\n\u001b[1;32m    134\u001b[0m     \u001b[0;32mdef\u001b[0m \u001b[0mis_equal\u001b[0m\u001b[0;34m(\u001b[0m\u001b[0mself\u001b[0m\u001b[0;34m,\u001b[0m \u001b[0ma\u001b[0m\u001b[0;34m,\u001b[0m \u001b[0mb\u001b[0m\u001b[0;34m)\u001b[0m\u001b[0;34m:\u001b[0m\u001b[0;34m\u001b[0m\u001b[0;34m\u001b[0m\u001b[0m\n\u001b[0;32m--> 135\u001b[0;31m         \u001b[0ma\u001b[0m\u001b[0;34m,\u001b[0m \u001b[0mb\u001b[0m \u001b[0;34m=\u001b[0m \u001b[0ma\u001b[0m\u001b[0;34m.\u001b[0m\u001b[0mX\u001b[0m\u001b[0;34m,\u001b[0m \u001b[0mb\u001b[0m\u001b[0;34m.\u001b[0m\u001b[0mX\u001b[0m\u001b[0;34m\u001b[0m\u001b[0;34m\u001b[0m\u001b[0m\n\u001b[0m\u001b[1;32m    136\u001b[0m         \u001b[0;32mfor\u001b[0m \u001b[0mk\u001b[0m\u001b[0;34m,\u001b[0m \u001b[0mv\u001b[0m \u001b[0;32min\u001b[0m \u001b[0ma\u001b[0m\u001b[0;34m.\u001b[0m\u001b[0mitems\u001b[0m\u001b[0;34m(\u001b[0m\u001b[0;34m)\u001b[0m\u001b[0;34m:\u001b[0m\u001b[0;34m\u001b[0m\u001b[0;34m\u001b[0m\u001b[0m\n\u001b[1;32m    137\u001b[0m             \u001b[0;32mif\u001b[0m \u001b[0mk\u001b[0m \u001b[0;32mnot\u001b[0m \u001b[0;32min\u001b[0m \u001b[0mb\u001b[0m \u001b[0;32mor\u001b[0m \u001b[0mb\u001b[0m\u001b[0;34m[\u001b[0m\u001b[0mk\u001b[0m\u001b[0;34m]\u001b[0m \u001b[0;34m!=\u001b[0m \u001b[0mv\u001b[0m\u001b[0;34m:\u001b[0m\u001b[0;34m\u001b[0m\u001b[0;34m\u001b[0m\u001b[0m\n",
      "\u001b[0;32m~/.local/lib/python3.9/site-packages/pymoo/core/individual.py\u001b[0m in \u001b[0;36mX\u001b[0;34m(self)\u001b[0m\n\u001b[1;32m    175\u001b[0m     \u001b[0;31m# -------------------------------------------------------\u001b[0m\u001b[0;34m\u001b[0m\u001b[0;34m\u001b[0m\u001b[0m\n\u001b[1;32m    176\u001b[0m \u001b[0;34m\u001b[0m\u001b[0m\n\u001b[0;32m--> 177\u001b[0;31m     \u001b[0;34m@\u001b[0m\u001b[0mproperty\u001b[0m\u001b[0;34m\u001b[0m\u001b[0;34m\u001b[0m\u001b[0m\n\u001b[0m\u001b[1;32m    178\u001b[0m     \u001b[0;32mdef\u001b[0m \u001b[0mX\u001b[0m\u001b[0;34m(\u001b[0m\u001b[0mself\u001b[0m\u001b[0;34m)\u001b[0m \u001b[0;34m->\u001b[0m \u001b[0mnp\u001b[0m\u001b[0;34m.\u001b[0m\u001b[0mndarray\u001b[0m\u001b[0;34m:\u001b[0m\u001b[0;34m\u001b[0m\u001b[0;34m\u001b[0m\u001b[0m\n\u001b[1;32m    179\u001b[0m         \"\"\"\n",
      "\u001b[0;31mKeyboardInterrupt\u001b[0m: "
     ]
    }
   ],
   "source": [
    "\n",
    "for run_ix in range(NUM_RUNS):\n",
    "\n",
    "\tcampaign = Campaign()\n",
    "\tcampaign.set_param_space(param_space)\n",
    "\n",
    "\tplanner = MultiFidelityPlanner(\n",
    "\t\tgoal='minimize',\n",
    "\t\tinit_design_strategy='random',\n",
    "\t\tnum_init_design=NUM_INIT_DESIGN,\n",
    "\t\tuse_descriptors=True,\n",
    "\t\tbatch_size=1,\n",
    "\t\tacquisition_optimizer_kind='pymoo',\n",
    "\t\tfidelity_params=0,\n",
    "\t\tfidelities=[0.1, 1.],\n",
    "\t)\n",
    "\n",
    "\tplanner.set_param_space(param_space)\n",
    "\n",
    "\tCOST = 0.\n",
    "\n",
    "\ttarget_rec_measurements = []\n",
    "\titer_ = 0\n",
    "\twhile COST < COST_BUDGET:\n",
    "\t\tprint(f'\\nRUN : {run_ix+1}/{NUM_RUNS}\\tITER : {iter_+1}\\tCOST : {COST}\\n')\n",
    "\n",
    "\t\tif iter_ % NUM_CHEAP == 0:\n",
    "\t\t\tplanner.set_ask_fidelity(1.0)\n",
    "\t\telse:\n",
    "\t\t\tplanner.set_ask_fidelity(0.1)\n",
    "\n",
    "\t\tsamples = planner.recommend(campaign.observations)\n",
    "\t\tfor sample in samples:\n",
    "\t\t\tmeasurement = measure(sample, sample.s)\n",
    "\t\t\tcampaign.add_observation(sample, measurement)\n",
    "\n",
    "\t\t\tprint('SAMPLE : ', sample)\n",
    "\t\t\tprint('MEASUREMENT : ', measurement)\n",
    "\n",
    "\t\t\titer_+=1\n",
    "\n",
    "\t\t# do a check to see if model will find the optimal\n",
    "\t\tif campaign.num_obs > NUM_INIT_DESIGN:\n",
    "\t\t\t# make greedy recommendation on the target fidelity\n",
    "\t\t\trec_sample = planner.recommend_target_fidelity(batch_size=1)[0]\n",
    "\t\t\trec_measurement = measure(rec_sample, rec_sample.s)\n",
    "\t\t\tprint('')\n",
    "\t\t\tprint('REC SAMPLE : ', rec_sample)\n",
    "\t\t\tprint('REC MEASUREMENT : ', rec_measurement)\n",
    "\t\t\tprint('')\n",
    "\t\t\ttarget_rec_measurements.append(rec_measurement)\n",
    "\t\t\t# kill the run if we have found the lowest hse06 bandgap\n",
    "\t\t\t# on the most recent high-fidelity measurement\n",
    "\t\t\tif rec_measurement == min_hse06_bandgap:\n",
    "\t\t\t\tprint('found the min hse06 bandgap!')\n",
    "\t\t\t\tbreak\n",
    "\t\telse:\n",
    "\t\t\ttarget_rec_measurements.append(measurement)\n",
    "\t\t\t# kill the run if we have found the lowest hse06 bandgap\n",
    "\t\t\t# on the most recent high-fidelity measurement\n",
    "\t\t\tif measurement == min_hse06_bandgap and samples[0].s == 1.:\n",
    "\t\t\t\tprint('found the min hse06 bandgap!')\n",
    "\t\t\t\tbreak\n",
    "\n",
    "\t\t\n",
    "\t\tCOST = compute_cost(params=campaign.observations.get_params())\n",
    "\n",
    "\n",
    "\n",
    "\ts_col = campaign.observations.get_params()[:, 0]\n",
    "\tx0_col = campaign.observations.get_params()[:, 1]\n",
    "\tx1_col = campaign.observations.get_params()[:, 2]\n",
    "\tx2_col = campaign.observations.get_params()[:, 3]\n",
    "\n",
    "\tobj0_col = np.array(target_rec_measurements) #campaign.observations.get_values()\n",
    "\n",
    "\tdata = pd.DataFrame({\n",
    "\t\t's': s_col,\n",
    "\t\t'organic': x0_col,\n",
    "\t\t'cation': x1_col,\n",
    "\t\t'anion': x2_col,\n",
    "\t\t'obj': obj0_col,\n",
    "\t})\n",
    "\tall_data.append(data)\n",
    "\tpickle.dump(all_data, open('mf_results.pkl', 'wb'))"
   ]
  },
  {
   "cell_type": "code",
   "execution_count": null,
   "metadata": {},
   "outputs": [],
   "source": []
  },
  {
   "cell_type": "code",
   "execution_count": null,
   "metadata": {},
   "outputs": [],
   "source": []
  }
 ],
 "metadata": {
  "kernelspec": {
   "display_name": "Python 3 (ipykernel)",
   "language": "python",
   "name": "python3"
  },
  "language_info": {
   "codemirror_mode": {
    "name": "ipython",
    "version": 3
   },
   "file_extension": ".py",
   "mimetype": "text/x-python",
   "name": "python",
   "nbconvert_exporter": "python",
   "pygments_lexer": "ipython3",
   "version": "3.9.13"
  }
 },
 "nbformat": 4,
 "nbformat_minor": 2
}
