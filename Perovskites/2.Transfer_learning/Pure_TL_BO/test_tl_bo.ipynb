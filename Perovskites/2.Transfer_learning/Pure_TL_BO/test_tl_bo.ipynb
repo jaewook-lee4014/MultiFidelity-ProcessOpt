{
  "cells": [
    {
      "cell_type": "raw",
      "metadata": {
        "vscode": {
          "languageId": "raw"
        }
      },
      "source": [
        "# Transfer Learning Bayesian Optimization - 테스트 노트북\n",
        "\n",
        "이 노트북은 모듈화된 TL-BO 코드의 기능을 테스트합니다.\n"
      ]
    },
    {
      "cell_type": "raw",
      "metadata": {
        "vscode": {
          "languageId": "raw"
        }
      },
      "source": [
        "## 1. 환경 설정 및 모듈 Import\n"
      ]
    },
    {
      "cell_type": "code",
      "execution_count": 1,
      "metadata": {},
      "outputs": [
        {
          "name": "stdout",
          "output_type": "stream",
          "text": [
            "MPS 사용 가능\n",
            "PyTorch 버전: 2.4.1\n",
            "NumPy 버전: 1.26.4\n",
            "Pandas 버전: 2.2.3\n"
          ]
        }
      ],
      "source": [
        "# 필요한 라이브러리 import\n",
        "import numpy as np\n",
        "import pandas as pd\n",
        "import matplotlib.pyplot as plt\n",
        "import torch\n",
        "import sys\n",
        "import os\n",
        "\n",
        "# GPU 확인\n",
        "if torch.cuda.is_available():\n",
        "    print(\"CUDA 사용 가능\")\n",
        "elif torch.backends.mps.is_available():\n",
        "    print(\"MPS 사용 가능\")\n",
        "else:\n",
        "    print(\"CPU 사용\")\n",
        "\n",
        "print(f\"PyTorch 버전: {torch.__version__}\")\n",
        "print(f\"NumPy 버전: {np.__version__}\")\n",
        "print(f\"Pandas 버전: {pd.__version__}\")\n"
      ]
    },
    {
      "cell_type": "code",
      "execution_count": 2,
      "metadata": {},
      "outputs": [
        {
          "name": "stdout",
          "output_type": "stream",
          "text": [
            "✅ 모든 모듈이 성공적으로 import되었습니다!\n"
          ]
        }
      ],
      "source": [
        "# 로컬 모듈들 import\n",
        "try:\n",
        "    from config import *\n",
        "    from models import TransferLearningDNN, BayesianLinearRegression\n",
        "    from data_utils import (\n",
        "        load_lookup_table, create_label_maps, sample_param_space, \n",
        "        assign_fidelities, prepare_initial_data, create_all_combinations_data\n",
        "    )\n",
        "    from optimization import train_model, fit_blr, recommend_next, expected_improvement\n",
        "    from visualization import (\n",
        "        plot_iteration_results, plot_prediction_scatter, \n",
        "        plot_learning_curves, plot_multiple_runs_summary\n",
        "    )\n",
        "    print(\"✅ 모든 모듈이 성공적으로 import되었습니다!\")\n",
        "except ImportError as e:\n",
        "    print(f\"❌ 모듈 import 오류: {e}\")\n",
        "    print(\"현재 작업 디렉토리를 확인하세요.\")\n"
      ]
    },
    {
      "cell_type": "raw",
      "metadata": {
        "vscode": {
          "languageId": "raw"
        }
      },
      "source": [
        "## 2. 설정 확인\n"
      ]
    },
    {
      "cell_type": "code",
      "execution_count": 3,
      "metadata": {},
      "outputs": [
        {
          "name": "stdout",
          "output_type": "stream",
          "text": [
            "=== 실험 설정 ===\n",
            "비용 예산: 50.0\n",
            "초기 설계점 개수: 10\n",
            "High-fidelity 비율: 0.2\n",
            "목표 최솟값: 1.5249\n",
            "\n",
            "=== 파라미터 공간 ===\n",
            "organic: 16개 - ['ethylammonium', 'propylammonium', 'butylammonium']...\n",
            "cation: 3개 - ['Ge', 'Sn', 'Pb']...\n",
            "anion: 4개 - ['F', 'Cl', 'Br']...\n",
            "\n",
            "=== 모델 설정 ===\n",
            "입력 차원: 3\n",
            "Hidden 차원: 64\n",
            "Pretrain epochs: 300\n",
            "Finetune epochs: 150\n"
          ]
        }
      ],
      "source": [
        "# 설정 정보 출력\n",
        "print(\"=== 실험 설정 ===\")\n",
        "print(f\"비용 예산: {COST_BUDGET}\")\n",
        "print(f\"초기 설계점 개수: {NUM_INIT_DESIGN}\")\n",
        "print(f\"High-fidelity 비율: {HIGH_FIDELITY_RATIO}\")\n",
        "print(f\"목표 최솟값: {MIN_HSE06_BANDGAP}\")\n",
        "\n",
        "print(\"\\n=== 파라미터 공간 ===\")\n",
        "for key, values in PARAM_SPACE.items():\n",
        "    print(f\"{key}: {len(values)}개 - {values[:3]}...\")\n",
        "\n",
        "print(\"\\n=== 모델 설정 ===\")\n",
        "print(f\"입력 차원: {MODEL_CONFIG['input_dim']}\")\n",
        "print(f\"Hidden 차원: {MODEL_CONFIG['hidden_dim']}\")\n",
        "print(f\"Pretrain epochs: {MODEL_CONFIG['pretrain_epochs']}\")\n",
        "print(f\"Finetune epochs: {MODEL_CONFIG['finetune_epochs']}\")\n"
      ]
    },
    {
      "cell_type": "raw",
      "metadata": {
        "vscode": {
          "languageId": "raw"
        }
      },
      "source": [
        "## 3. 데이터 로딩 및 처리 테스트\n"
      ]
    },
    {
      "cell_type": "code",
      "execution_count": 4,
      "metadata": {},
      "outputs": [
        {
          "name": "stdout",
          "output_type": "stream",
          "text": [
            "✅ Lookup table 로드 성공\n",
            "샘플 조합: Ethylammonium-Ge-F\n",
            "데이터 키: ['anion', 'atomization_energy', 'bandgap_gga', 'bandgap_hse06', 'cation', 'cation_formula', 'cation_name', 'cation_reference', 'density', 'hoip_id', 'label', 'pdb_file', 'permittivity_electronic', 'permittivity_ionic', 'permittivity_total', 'refractive_index', 'smiles', 'smiles_file', 'volume_unit_cell', 'xyz_file']\n",
            "HSE06 값: [5.9448, 5.3704, 5.8916]...\n",
            "GGA 값: [4.7308, 4.1048, 4.5915]...\n"
          ]
        }
      ],
      "source": [
        "# Lookup table 로드 테스트\n",
        "try:\n",
        "    lookup = load_lookup_table(DATA_PATHS['lookup_table'])\n",
        "    print(\"✅ Lookup table 로드 성공\")\n",
        "    \n",
        "    # 샘플 데이터 확인\n",
        "    sample_organic = list(lookup.keys())[0]\n",
        "    sample_cation = list(lookup[sample_organic].keys())[0]\n",
        "    sample_anion = list(lookup[sample_organic][sample_cation].keys())[0]\n",
        "    sample_data = lookup[sample_organic][sample_cation][sample_anion]\n",
        "    \n",
        "    print(f\"샘플 조합: {sample_organic}-{sample_cation}-{sample_anion}\")\n",
        "    print(f\"데이터 키: {list(sample_data.keys())}\")\n",
        "    print(f\"HSE06 값: {sample_data['bandgap_hse06'][:3]}...\")\n",
        "    print(f\"GGA 값: {sample_data['bandgap_gga'][:3]}...\")\n",
        "    \n",
        "except Exception as e:\n",
        "    print(f\"❌ Lookup table 로드 실패: {e}\")\n"
      ]
    },
    {
      "cell_type": "raw",
      "metadata": {
        "vscode": {
          "languageId": "raw"
        }
      },
      "source": [
        "## 4. 라벨 매핑 및 데이터 생성 테스트\n"
      ]
    },
    {
      "cell_type": "code",
      "execution_count": 5,
      "metadata": {},
      "outputs": [
        {
          "name": "stdout",
          "output_type": "stream",
          "text": [
            "=== 라벨 매핑 ===\n",
            "organic: 16개\n",
            "  첫 3개: {'ethylammonium': 1, 'propylammonium': 2, 'butylammonium': 3}\n",
            "cation: 3개\n",
            "  첫 3개: {'Ge': 1, 'Sn': 2, 'Pb': 3}\n",
            "anion: 4개\n",
            "  첫 3개: {'F': 1, 'Cl': 2, 'Br': 3}\n",
            "\n",
            "전체 조합 데이터: 192개\n",
            "최솟값: 1.5249\n",
            "최댓값: 6.3242\n",
            "   combo  bandgap_hse06\n",
            "0  1,1,1         5.3704\n",
            "1  1,1,2         3.1393\n",
            "2  1,1,3         2.7138\n",
            "3  1,1,4         2.2338\n",
            "4  1,2,1         3.9789\n"
          ]
        }
      ],
      "source": [
        "# 라벨 매핑 생성 테스트\n",
        "label_maps = create_label_maps(PARAM_SPACE)\n",
        "print(\"=== 라벨 매핑 ===\")\n",
        "for key, mapping in label_maps.items():\n",
        "    print(f\"{key}: {len(mapping)}개\")\n",
        "    print(f\"  첫 3개: {dict(list(mapping.items())[:3])}\")\n",
        "\n",
        "# 전체 조합 데이터 생성 테스트\n",
        "ori_data = create_all_combinations_data(\n",
        "    PARAM_RANGES, lookup, \n",
        "    PARAM_SPACE['organic'], PARAM_SPACE['cation'], PARAM_SPACE['anion']\n",
        ")\n",
        "print(f\"\\n전체 조합 데이터: {len(ori_data)}개\")\n",
        "print(f\"최솟값: {ori_data['bandgap_hse06'].min():.4f}\")\n",
        "print(f\"최댓값: {ori_data['bandgap_hse06'].max():.4f}\")\n",
        "print(ori_data.head())\n"
      ]
    },
    {
      "cell_type": "raw",
      "metadata": {
        "vscode": {
          "languageId": "raw"
        }
      },
      "source": [
        "## 5. 기본 모델 학습 테스트 (Transfer Learning)\n"
      ]
    },
    {
      "cell_type": "code",
      "execution_count": 6,
      "metadata": {},
      "outputs": [
        {
          "name": "stdout",
          "output_type": "stream",
          "text": [
            "=== 초기 데이터 생성 ===\n",
            "Low-fidelity 데이터: 14개\n",
            "High-fidelity 데이터: 6개\n",
            "Low-fidelity 범위: 1.0856 ~ 4.2847\n",
            "High-fidelity 범위: 1.9179 ~ 5.3311\n",
            "\n",
            "=== 기본 Transfer Learning 모델 테스트 ===\n",
            "Pretrain 시작...\n",
            "Pretrain with 14 low-fidelity samples\n",
            "[Pretrain] Epoch 5/50: Loss 2.7697\n",
            "[Pretrain] Epoch 10/50: Loss 2.0851\n",
            "[Pretrain] Epoch 15/50: Loss 1.7841\n",
            "[Pretrain] Epoch 20/50: Loss 1.7488\n",
            "[Pretrain] Epoch 25/50: Loss 1.7598\n",
            "[Pretrain] Epoch 30/50: Loss 1.7134\n",
            "[Pretrain] Epoch 35/50: Loss 1.6477\n",
            "[Pretrain] Epoch 40/50: Loss 1.6033\n",
            "[Pretrain] Epoch 45/50: Loss 1.5740\n",
            "[Pretrain] Epoch 50/50: Loss 1.5419\n",
            "\n",
            "Finetune 시작...\n",
            "Finetune with 6 high-fidelity samples\n",
            "[Finetune] Epoch 3/30: Loss 3.3466\n",
            "[Finetune] Epoch 6/30: Loss 3.3099\n",
            "[Finetune] Epoch 9/30: Loss 3.2753\n",
            "[Finetune] Epoch 12/30: Loss 3.2429\n",
            "[Finetune] Epoch 15/30: Loss 3.2127\n",
            "[Finetune] Epoch 18/30: Loss 3.1846\n",
            "[Finetune] Epoch 21/30: Loss 3.1587\n",
            "[Finetune] Epoch 24/30: Loss 3.1348\n",
            "[Finetune] Epoch 27/30: Loss 3.1129\n",
            "[Finetune] Epoch 30/30: Loss 3.0928\n",
            "\n",
            "=== 예측 테스트 ===\n",
            "실제값: [2.5818 3.1218 5.3311]\n",
            "예측값: [2.9808486 3.1818495 2.299049 ]\n",
            "오차: [0.39904855 0.06004948 3.0320511 ]\n",
            "추출된 feature 차원: (3, 32)\n",
            "✅ 기본 모델 테스트 완료\n"
          ]
        }
      ],
      "source": [
        "# 초기 데이터 생성\n",
        "print(\"=== 초기 데이터 생성 ===\")\n",
        "init_samples = sample_param_space(PARAM_SPACE, 20, random_state=42)\n",
        "init_fids = assign_fidelities(20, 0.3, random_state=42)\n",
        "X_low, y_low, X_high, y_high = prepare_initial_data(init_samples, init_fids, label_maps, lookup)\n",
        "\n",
        "print(f\"Low-fidelity 데이터: {len(X_low)}개\")\n",
        "print(f\"High-fidelity 데이터: {len(X_high)}개\")\n",
        "print(f\"Low-fidelity 범위: {y_low.min():.4f} ~ {y_low.max():.4f}\")\n",
        "print(f\"High-fidelity 범위: {y_high.min():.4f} ~ {y_high.max():.4f}\")\n",
        "\n",
        "# 기본 Transfer Learning 모델 테스트\n",
        "print(\"\\n=== 기본 Transfer Learning 모델 테스트 ===\")\n",
        "model = TransferLearningDNN(input_dim=3, hidden_dim=32, device='cpu')\n",
        "\n",
        "# Pretrain\n",
        "print(\"Pretrain 시작...\")\n",
        "model.pretrain(X_low, y_low, epochs=50, lr=1e-3, verbose=True)\n",
        "\n",
        "# Finetune  \n",
        "print(\"\\nFinetune 시작...\")\n",
        "model.finetune(X_high, y_high, epochs=30, lr=1e-4, verbose=True)\n",
        "\n",
        "# 예측 테스트\n",
        "print(\"\\n=== 예측 테스트 ===\")\n",
        "test_X = X_high[:3]\n",
        "test_y = y_high[:3]\n",
        "pred_y = model.predict(test_X)\n",
        "\n",
        "print(f\"실제값: {test_y}\")\n",
        "print(f\"예측값: {pred_y}\")\n",
        "print(f\"오차: {np.abs(pred_y - test_y)}\")\n",
        "\n",
        "# Feature 추출 테스트\n",
        "features = model.extract_features(test_X)\n",
        "print(f\"추출된 feature 차원: {features.shape}\")\n",
        "print(\"✅ 기본 모델 테스트 완료\")\n"
      ]
    },
    {
      "cell_type": "raw",
      "metadata": {
        "vscode": {
          "languageId": "raw"
        }
      },
      "source": [
        "## 6. 베이지안 선형 회귀 테스트\n"
      ]
    },
    {
      "cell_type": "code",
      "execution_count": 7,
      "metadata": {},
      "outputs": [
        {
          "name": "stdout",
          "output_type": "stream",
          "text": [
            "=== 베이지안 선형 회귀 테스트 ===\n",
            "전체 데이터: 20개\n",
            "Feature 차원: 32\n",
            "\n",
            "=== BLR 예측 테스트 ===\n",
            "샘플 1: 실제=2.1145, 예측=2.1662±0.2427\n",
            "샘플 2: 실제=1.0856, 예측=1.4952±0.2240\n",
            "샘플 3: 실제=3.7495, 예측=3.7707±0.2649\n",
            "샘플 4: 실제=1.3516, 예측=1.5338±0.2535\n",
            "샘플 5: 실제=2.3859, 예측=2.6143±0.2283\n",
            "✅ BLR 테스트 완료\n"
          ]
        }
      ],
      "source": [
        "# BLR 테스트\n",
        "print(\"=== 베이지안 선형 회귀 테스트 ===\")\n",
        "\n",
        "# 전체 데이터로 feature 추출\n",
        "X_all = np.vstack([X_low, X_high])\n",
        "y_all = np.concatenate([y_low, y_high])\n",
        "features_all = model.extract_features(X_all)\n",
        "\n",
        "print(f\"전체 데이터: {len(X_all)}개\")\n",
        "print(f\"Feature 차원: {features_all.shape[1]}\")\n",
        "\n",
        "# BLR 학습\n",
        "blr = BayesianLinearRegression(alpha=1.0, beta=25.0)\n",
        "blr.fit(features_all, y_all)\n",
        "\n",
        "# 예측 테스트\n",
        "test_features = features_all[:5]\n",
        "test_targets = y_all[:5]\n",
        "\n",
        "print(\"\\n=== BLR 예측 테스트 ===\")\n",
        "for i in range(5):\n",
        "    mu, var = blr.predict(test_features[i])\n",
        "    std = np.sqrt(var)\n",
        "    print(f\"샘플 {i+1}: 실제={test_targets[i]:.4f}, 예측={mu:.4f}±{std:.4f}\")\n",
        "\n",
        "print(\"✅ BLR 테스트 완료\")\n"
      ]
    },
    {
      "cell_type": "raw",
      "metadata": {
        "vscode": {
          "languageId": "raw"
        }
      },
      "source": [
        "## 7. Expected Improvement 계산 테스트\n"
      ]
    },
    {
      "cell_type": "code",
      "execution_count": 8,
      "metadata": {},
      "outputs": [
        {
          "name": "stdout",
          "output_type": "stream",
          "text": [
            "=== Expected Improvement 테스트 ===\n",
            "예측 평균: [2.  1.8 1.6 1.4 1.2]\n",
            "예측 표준편차: [0.3 0.2 0.4 0.1 0.5]\n",
            "현재 최적값: 1.5\n",
            "EI 값: [0.00548634 0.00522487 0.11057317 0.10004311 0.37711235]\n",
            "최대 EI 인덱스: 4\n",
            "✅ EI 테스트 완료\n"
          ]
        }
      ],
      "source": [
        "# Expected Improvement 테스트\n",
        "print(\"=== Expected Improvement 테스트 ===\")\n",
        "\n",
        "# 테스트 데이터 생성\n",
        "mu_test = np.array([2.0, 1.8, 1.6, 1.4, 1.2])\n",
        "sigma_test = np.array([0.3, 0.2, 0.4, 0.1, 0.5])\n",
        "y_best = 1.5\n",
        "\n",
        "# EI 계산\n",
        "ei_values = expected_improvement(mu_test, sigma_test, y_best)\n",
        "\n",
        "print(\"예측 평균:\", mu_test)\n",
        "print(\"예측 표준편차:\", sigma_test)\n",
        "print(f\"현재 최적값: {y_best}\")\n",
        "print(\"EI 값:\", ei_values)\n",
        "print(f\"최대 EI 인덱스: {np.argmax(ei_values)}\")\n",
        "\n",
        "print(\"✅ EI 테스트 완료\")\n"
      ]
    },
    {
      "cell_type": "raw",
      "metadata": {
        "vscode": {
          "languageId": "raw"
        }
      },
      "source": [
        "## 8. 단일 최적화 실행 테스트 (기본)\n"
      ]
    },
    {
      "cell_type": "code",
      "execution_count": 10,
      "metadata": {},
      "outputs": [
        {
          "name": "stdout",
          "output_type": "stream",
          "text": [
            "=== 단일 최적화 실행 테스트 (기본) ===\n"
          ]
        },
        {
          "ename": "ImportError",
          "evalue": "cannot import name 'create_param_space' from 'data_utils' (/Users/k23070952/MultiFidelity-ProcessOpt/Perovskites/2.Transfer_learning/Pure_TL_BO/data_utils.py)",
          "output_type": "error",
          "traceback": [
            "\u001b[0;31m---------------------------------------------------------------------------\u001b[0m",
            "\u001b[0;31mImportError\u001b[0m                               Traceback (most recent call last)",
            "Cell \u001b[0;32mIn[10], line 4\u001b[0m\n\u001b[1;32m      1\u001b[0m \u001b[38;5;66;03m# 단일 최적화 실행 테스트 (하이퍼파라미터 BO 없음)\u001b[39;00m\n\u001b[1;32m      2\u001b[0m \u001b[38;5;28mprint\u001b[39m(\u001b[38;5;124m\"\u001b[39m\u001b[38;5;124m=== 단일 최적화 실행 테스트 (기본) ===\u001b[39m\u001b[38;5;124m\"\u001b[39m)\n\u001b[0;32m----> 4\u001b[0m \u001b[38;5;28;01mfrom\u001b[39;00m \u001b[38;5;21;01mdata_utils\u001b[39;00m \u001b[38;5;28;01mimport\u001b[39;00m create_param_space\n\u001b[1;32m      6\u001b[0m \u001b[38;5;66;03m# 파라미터 공간 생성\u001b[39;00m\n\u001b[1;32m      7\u001b[0m param_space_dict \u001b[38;5;241m=\u001b[39m create_param_space(lookup)\n",
            "\u001b[0;31mImportError\u001b[0m: cannot import name 'create_param_space' from 'data_utils' (/Users/k23070952/MultiFidelity-ProcessOpt/Perovskites/2.Transfer_learning/Pure_TL_BO/data_utils.py)"
          ]
        }
      ],
      "source": [
        "# 단일 최적화 실행 테스트 (하이퍼파라미터 BO 없음)\n",
        "print(\"=== 단일 최적화 실행 테스트 (기본) ===\")\n",
        "\n",
        "from data_utils import create_param_space\n",
        "\n",
        "# 파라미터 공간 생성\n",
        "param_space_dict = create_param_space(lookup)\n",
        "\n",
        "# 작은 예산으로 빠른 테스트\n",
        "result = single_optimization_run(\n",
        "    param_space=param_space_dict,\n",
        "    label_maps=label_maps,\n",
        "    lookup=lookup,\n",
        "    cost_budget=15.0,\n",
        "    num_init_design=5,\n",
        "    high_fidelity_ratio=0.2,\n",
        "    min_target=1.5249,\n",
        "    random_state=42,\n",
        "    verbose=True,\n",
        "    model_config={\n",
        "        'input_dim': 3,\n",
        "        'hidden_dim': 32,\n",
        "        'pretrain_epochs': 50,\n",
        "        'finetune_epochs': 30,\n",
        "        'device': 'cpu'\n",
        "    },\n",
        "    use_hyperparameter_bo=False  # 기본 모드\n",
        ")\n",
        "\n",
        "print(f\"\\n=== 기본 최적화 결과 ===\")\n",
        "print(f\"Total cost: {result['total_cost']:.2f}\")\n",
        "print(f\"Best value: {result['best_so_far']:.4f}\")\n",
        "print(f\"Iterations: {result['iterations']}\")\n",
        "print(f\"Target achieved: {'Yes' if result['best_so_far'] <= 1.5249 else 'No'}\")\n",
        "\n",
        "# Best-so-far 곡선 확인\n",
        "best_curve = result['best_so_far_curve']\n",
        "print(f\"Best-so-far curve length: {len(best_curve)}\")\n",
        "if len(best_curve) > 0:\n",
        "    print(f\"Final best-so-far: {best_curve[-1]}\")\n",
        "\n",
        "print(\"✅ 기본 최적화 테스트 완료\")\n"
      ]
    },
    {
      "cell_type": "raw",
      "metadata": {
        "vscode": {
          "languageId": "raw"
        }
      },
      "source": [
        "## 9. 하이퍼파라미터 베이지안 최적화 테스트\n",
        "\n",
        "DNN 모델의 하이퍼파라미터를 베이지안 최적화로 자동 튜닝하는 기능을 테스트합니다.\n"
      ]
    },
    {
      "cell_type": "code",
      "execution_count": 5,
      "metadata": {},
      "outputs": [
        {
          "name": "stdout",
          "output_type": "stream",
          "text": [
            "=== 하이퍼파라미터 공간 테스트 ===\n",
            "Hidden layers: [1, 2, 3]\n",
            "Hidden dims: [16, 32, 64, 128]\n",
            "Learning rates: [0.0001, 0.0005, 0.001, 0.005, 0.01]\n",
            "Epochs range: (20, 200)\n",
            "\n",
            "=== 랜덤 샘플링 테스트 ===\n",
            "Sample 1: {'hidden_layers': 3, 'hidden_dim': 128, 'learning_rate': 0.001, 'epochs': 101}\n",
            "  Normalized: [1.   1.   0.5  0.45]\n",
            "  Denormalized: {'hidden_layers': 3, 'hidden_dim': 128, 'learning_rate': 0.001, 'epochs': 101}\n",
            "  Match: True\n",
            "\n",
            "Sample 2: {'hidden_layers': 3, 'hidden_dim': 16, 'learning_rate': 0.0005, 'epochs': 63}\n",
            "  Normalized: [1.         0.         0.349485   0.23888889]\n",
            "  Denormalized: {'hidden_layers': 3, 'hidden_dim': 16, 'learning_rate': 0.0005, 'epochs': 63}\n",
            "  Match: True\n",
            "\n",
            "Sample 3: {'hidden_layers': 3, 'hidden_dim': 128, 'learning_rate': 0.001, 'epochs': 83}\n",
            "  Normalized: [1.   1.   0.5  0.35]\n",
            "  Denormalized: {'hidden_layers': 3, 'hidden_dim': 128, 'learning_rate': 0.001, 'epochs': 83}\n",
            "  Match: True\n",
            "\n"
          ]
        }
      ],
      "source": [
        "# 하이퍼파라미터 BO 모듈 테스트\n",
        "from hyperparameter_optimization import HyperparameterSpace, HyperparameterBO, optimize_dnn_hyperparameters\n",
        "from optimization import single_optimization_run\n",
        "from data_utils import create_param_space\n",
        "\n",
        "print(\"=== 하이퍼파라미터 공간 테스트 ===\")\n",
        "\n",
        "# 하이퍼파라미터 공간 생성\n",
        "hp_param_space = HyperparameterSpace(data_size='small')\n",
        "print(f\"Hidden layers: {hp_param_space.hidden_layers}\")\n",
        "print(f\"Hidden dims: {hp_param_space.hidden_dims}\")\n",
        "print(f\"Learning rates: {hp_param_space.learning_rates}\")\n",
        "print(f\"Epochs range: {hp_param_space.epochs_range}\")\n",
        "\n",
        "# 랜덤 샘플링 테스트\n",
        "print(\"\\n=== 랜덤 샘플링 테스트 ===\")\n",
        "for i in range(3):\n",
        "    sample = hp_param_space.sample_random()\n",
        "    print(f\"Sample {i+1}: {sample}\")\n",
        "    \n",
        "    # 정규화/비정규화 테스트\n",
        "    normalized = hp_param_space.normalize_params(sample)\n",
        "    denormalized = hp_param_space.denormalize_params(normalized)\n",
        "    print(f\"  Normalized: {normalized}\")\n",
        "    print(f\"  Denormalized: {denormalized}\")\n",
        "    print(f\"  Match: {sample == denormalized}\")\n",
        "    print()\n",
        "\n",
        "# 필요한 변수들 준비\n",
        "print(\"\\n=== 테스트 데이터 준비 ===\")\n",
        "label_maps = create_label_maps(PARAM_SPACE)\n",
        "param_space_dict = create_param_space(lookup)\n",
        "\n",
        "# 테스트용 작은 데이터셋 생성\n",
        "from data_utils import sample_param_space, assign_fidelities, prepare_initial_data\n",
        "\n",
        "# 작은 초기 데이터 생성\n",
        "init_samples = sample_param_space(PARAM_SPACE, 15, random_state=42)\n",
        "init_fids = assign_fidelities(15, 0.3, random_state=42)\n",
        "X_low, y_low, X_high, y_high = prepare_initial_data(init_samples, init_fids, label_maps, lookup)\n",
        "\n",
        "print(f\"Low-fidelity 데이터: {len(X_low)}개\")\n",
        "print(f\"High-fidelity 데이터: {len(X_high)}개\")\n"
      ]
    },
    {
      "cell_type": "code",
      "execution_count": 6,
      "metadata": {},
      "outputs": [
        {
          "name": "stdout",
          "output_type": "stream",
          "text": [
            "=== 하이퍼파라미터 BO 모델 학습 테스트 ===\n"
          ]
        },
        {
          "ename": "NameError",
          "evalue": "name 'X_low' is not defined",
          "output_type": "error",
          "traceback": [
            "\u001b[0;31m---------------------------------------------------------------------------\u001b[0m",
            "\u001b[0;31mNameError\u001b[0m                                 Traceback (most recent call last)",
            "Cell \u001b[0;32mIn[6], line 5\u001b[0m\n\u001b[1;32m      2\u001b[0m \u001b[38;5;28mprint\u001b[39m(\u001b[38;5;124m\"\u001b[39m\u001b[38;5;124m=== 하이퍼파라미터 BO 모델 학습 테스트 ===\u001b[39m\u001b[38;5;124m\"\u001b[39m)\n\u001b[1;32m      4\u001b[0m \u001b[38;5;66;03m# 작은 데이터셋으로 빠른 테스트\u001b[39;00m\n\u001b[0;32m----> 5\u001b[0m X_low_small \u001b[38;5;241m=\u001b[39m X_low[:\u001b[38;5;241m20\u001b[39m]  \u001b[38;5;66;03m# 20개 샘플만 사용\u001b[39;00m\n\u001b[1;32m      6\u001b[0m y_low_small \u001b[38;5;241m=\u001b[39m y_low[:\u001b[38;5;241m20\u001b[39m]\n\u001b[1;32m      7\u001b[0m X_high_small \u001b[38;5;241m=\u001b[39m X_high[:\u001b[38;5;241m5\u001b[39m]  \u001b[38;5;66;03m# 5개 샘플만 사용  \u001b[39;00m\n",
            "\u001b[0;31mNameError\u001b[0m: name 'X_low' is not defined"
          ]
        }
      ],
      "source": [
        "# 하이퍼파라미터 BO를 사용한 모델 학습 테스트\n",
        "print(\"=== 하이퍼파라미터 BO 모델 학습 테스트 ===\")\n",
        "\n",
        "# 작은 데이터셋으로 빠른 테스트\n",
        "X_low_small = X_low[:20]  # 20개 샘플만 사용\n",
        "y_low_small = y_low[:20]\n",
        "X_high_small = X_high[:5]  # 5개 샘플만 사용  \n",
        "y_high_small = y_high[:5]\n",
        "\n",
        "print(f\"Test data sizes - Low: {len(X_low_small)}, High: {len(X_high_small)}\")\n",
        "\n",
        "# BO 사용 모델 생성\n",
        "model_with_bo = TransferLearningDNN(\n",
        "    input_dim=3, \n",
        "    hidden_dim=32,  # 기본값 (BO에서 무시됨)\n",
        "    device='cpu',\n",
        "    use_hyperparameter_bo=True\n",
        ")\n",
        "\n",
        "print(\"\\n--- Pretrain with BO (3 trials) ---\")\n",
        "model_with_bo.pretrain(\n",
        "    X_low_small, y_low_small,\n",
        "    epochs=50, lr=1e-3, verbose=True,\n",
        "    bo_trials=3, data_size='small'\n",
        ")\n",
        "\n",
        "print(\"\\n--- Finetune with BO (3 trials) ---\")\n",
        "model_with_bo.finetune(\n",
        "    X_high_small, y_high_small,\n",
        "    epochs=30, lr=1e-4, verbose=True,\n",
        "    bo_trials=3, data_size='small'\n",
        ")\n",
        "\n",
        "# 하이퍼파라미터 요약 출력\n",
        "hp_summary = model_with_bo.get_hyperparameter_summary()\n",
        "print(f\"\\n=== 하이퍼파라미터 최적화 결과 ===\")\n",
        "print(f\"Pretrain best params: {hp_summary['pretrain_best_params']}\")\n",
        "print(f\"Finetune best params: {hp_summary['finetune_best_params']}\")\n",
        "print(f\"Pretrain trials: {hp_summary['pretrain_trials']}\")\n",
        "print(f\"Finetune trials: {hp_summary['finetune_trials']}\")\n",
        "\n",
        "# 예측 테스트\n",
        "test_pred = model_with_bo.predict(X_high_small[:3])\n",
        "print(f\"\\nTest predictions: {test_pred}\")\n",
        "print(f\"Actual values: {y_high_small[:3]}\")\n",
        "print(f\"Prediction errors: {np.abs(test_pred - y_high_small[:3])}\")\n"
      ]
    },
    {
      "cell_type": "code",
      "execution_count": 8,
      "metadata": {},
      "outputs": [
        {
          "name": "stdout",
          "output_type": "stream",
          "text": [
            "=== 하이퍼파라미터 BO 전체 최적화 테스트 ===\n"
          ]
        },
        {
          "ename": "NameError",
          "evalue": "name 'single_optimization_run' is not defined",
          "output_type": "error",
          "traceback": [
            "\u001b[0;31m---------------------------------------------------------------------------\u001b[0m",
            "\u001b[0;31mNameError\u001b[0m                                 Traceback (most recent call last)",
            "Cell \u001b[0;32mIn[8], line 5\u001b[0m\n\u001b[1;32m      2\u001b[0m \u001b[38;5;28mprint\u001b[39m(\u001b[38;5;124m\"\u001b[39m\u001b[38;5;124m=== 하이퍼파라미터 BO 전체 최적화 테스트 ===\u001b[39m\u001b[38;5;124m\"\u001b[39m)\n\u001b[1;32m      4\u001b[0m \u001b[38;5;66;03m# 매우 작은 예산으로 빠른 테스트\u001b[39;00m\n\u001b[0;32m----> 5\u001b[0m test_result \u001b[38;5;241m=\u001b[39m single_optimization_run(\n\u001b[1;32m      6\u001b[0m     param_space\u001b[38;5;241m=\u001b[39mparam_space_dict,\n\u001b[1;32m      7\u001b[0m     label_maps\u001b[38;5;241m=\u001b[39mlabel_maps,\n\u001b[1;32m      8\u001b[0m     lookup\u001b[38;5;241m=\u001b[39mlookup,\n\u001b[1;32m      9\u001b[0m     cost_budget\u001b[38;5;241m=\u001b[39m\u001b[38;5;241m10.0\u001b[39m,  \u001b[38;5;66;03m# 작은 예산\u001b[39;00m\n\u001b[1;32m     10\u001b[0m     num_init_design\u001b[38;5;241m=\u001b[39m\u001b[38;5;241m3\u001b[39m,  \u001b[38;5;66;03m# 적은 초기 설계점\u001b[39;00m\n\u001b[1;32m     11\u001b[0m     high_fidelity_ratio\u001b[38;5;241m=\u001b[39m\u001b[38;5;241m0.3\u001b[39m,\n\u001b[1;32m     12\u001b[0m     min_target\u001b[38;5;241m=\u001b[39m\u001b[38;5;241m1.5249\u001b[39m,\n\u001b[1;32m     13\u001b[0m     random_state\u001b[38;5;241m=\u001b[39m\u001b[38;5;241m42\u001b[39m,\n\u001b[1;32m     14\u001b[0m     verbose\u001b[38;5;241m=\u001b[39m\u001b[38;5;28;01mTrue\u001b[39;00m,\n\u001b[1;32m     15\u001b[0m     model_config\u001b[38;5;241m=\u001b[39m{\n\u001b[1;32m     16\u001b[0m         \u001b[38;5;124m'\u001b[39m\u001b[38;5;124minput_dim\u001b[39m\u001b[38;5;124m'\u001b[39m: \u001b[38;5;241m3\u001b[39m,\n\u001b[1;32m     17\u001b[0m         \u001b[38;5;124m'\u001b[39m\u001b[38;5;124mhidden_dim\u001b[39m\u001b[38;5;124m'\u001b[39m: \u001b[38;5;241m32\u001b[39m,\n\u001b[1;32m     18\u001b[0m         \u001b[38;5;124m'\u001b[39m\u001b[38;5;124mpretrain_epochs\u001b[39m\u001b[38;5;124m'\u001b[39m: \u001b[38;5;241m50\u001b[39m,\n\u001b[1;32m     19\u001b[0m         \u001b[38;5;124m'\u001b[39m\u001b[38;5;124mfinetune_epochs\u001b[39m\u001b[38;5;124m'\u001b[39m: \u001b[38;5;241m30\u001b[39m,\n\u001b[1;32m     20\u001b[0m         \u001b[38;5;124m'\u001b[39m\u001b[38;5;124mdevice\u001b[39m\u001b[38;5;124m'\u001b[39m: \u001b[38;5;124m'\u001b[39m\u001b[38;5;124mcpu\u001b[39m\u001b[38;5;124m'\u001b[39m\n\u001b[1;32m     21\u001b[0m     },\n\u001b[1;32m     22\u001b[0m     use_hyperparameter_bo\u001b[38;5;241m=\u001b[39m\u001b[38;5;28;01mTrue\u001b[39;00m,\n\u001b[1;32m     23\u001b[0m     pretrain_bo_trials\u001b[38;5;241m=\u001b[39m\u001b[38;5;241m2\u001b[39m,  \u001b[38;5;66;03m# 매우 적은 시행\u001b[39;00m\n\u001b[1;32m     24\u001b[0m     finetune_bo_trials\u001b[38;5;241m=\u001b[39m\u001b[38;5;241m2\u001b[39m,\n\u001b[1;32m     25\u001b[0m     data_size\u001b[38;5;241m=\u001b[39m\u001b[38;5;124m'\u001b[39m\u001b[38;5;124msmall\u001b[39m\u001b[38;5;124m'\u001b[39m\n\u001b[1;32m     26\u001b[0m )\n\u001b[1;32m     28\u001b[0m \u001b[38;5;28mprint\u001b[39m(\u001b[38;5;124mf\u001b[39m\u001b[38;5;124m\"\u001b[39m\u001b[38;5;130;01m\\n\u001b[39;00m\u001b[38;5;124m=== 하이퍼파라미터 BO 최적화 결과 ===\u001b[39m\u001b[38;5;124m\"\u001b[39m)\n\u001b[1;32m     29\u001b[0m \u001b[38;5;28mprint\u001b[39m(\u001b[38;5;124mf\u001b[39m\u001b[38;5;124m\"\u001b[39m\u001b[38;5;124mTotal cost: \u001b[39m\u001b[38;5;132;01m{\u001b[39;00mtest_result[\u001b[38;5;124m'\u001b[39m\u001b[38;5;124mtotal_cost\u001b[39m\u001b[38;5;124m'\u001b[39m]\u001b[38;5;132;01m:\u001b[39;00m\u001b[38;5;124m.2f\u001b[39m\u001b[38;5;132;01m}\u001b[39;00m\u001b[38;5;124m\"\u001b[39m)\n",
            "\u001b[0;31mNameError\u001b[0m: name 'single_optimization_run' is not defined"
          ]
        }
      ],
      "source": [
        "# 하이퍼파라미터 BO를 사용한 전체 최적화 테스트\n",
        "print(\"=== 하이퍼파라미터 BO 전체 최적화 테스트 ===\")\n",
        "\n",
        "# 매우 작은 예산으로 빠른 테스트\n",
        "print(\"⚠️ 이 테스트는 시간이 오래 걸릴 수 있습니다...\")\n",
        "\n",
        "try:\n",
        "    test_result = single_optimization_run(\n",
        "        param_space=param_space_dict,\n",
        "        label_maps=label_maps,\n",
        "        lookup=lookup,\n",
        "        cost_budget=8.0,  # 매우 작은 예산\n",
        "        num_init_design=3,  # 적은 초기 설계점\n",
        "        high_fidelity_ratio=0.3,\n",
        "        min_target=1.5249,\n",
        "        random_state=42,\n",
        "        verbose=False,  # 출력 줄이기\n",
        "        model_config={\n",
        "            'input_dim': 3,\n",
        "            'hidden_dim': 32,\n",
        "            'pretrain_epochs': 30,  # 더 적은 epoch\n",
        "            'finetune_epochs': 20,\n",
        "            'device': 'cpu'\n",
        "        },\n",
        "        use_hyperparameter_bo=True,\n",
        "        pretrain_bo_trials=2,  # 매우 적은 시행\n",
        "        finetune_bo_trials=2,\n",
        "        data_size='small'\n",
        "    )\n",
        "\n",
        "    print(f\"\\n=== 하이퍼파라미터 BO 최적화 결과 ===\")\n",
        "    print(f\"Total cost: {test_result['total_cost']:.2f}\")\n",
        "    print(f\"Best value: {test_result['best_so_far']:.4f}\")\n",
        "    print(f\"Iterations: {test_result['iterations']}\")\n",
        "    print(f\"Hyperparameter history length: {len(test_result['hyperparameter_history'])}\")\n",
        "\n",
        "    # 하이퍼파라미터 변화 추적\n",
        "    if test_result['hyperparameter_history']:\n",
        "        print(f\"\\n=== 하이퍼파라미터 변화 추적 ===\")\n",
        "        for i, hp_record in enumerate(test_result['hyperparameter_history']):\n",
        "            print(f\"Iteration {hp_record['iteration']}:\")\n",
        "            if hp_record['pretrain_params']:\n",
        "                print(f\"  Pretrain: {hp_record['pretrain_params']}\")\n",
        "            if hp_record['finetune_params']:\n",
        "                print(f\"  Finetune: {hp_record['finetune_params']}\")\n",
        "\n",
        "    print(\"\\n✅ 하이퍼파라미터 BO 테스트 완료!\")\n",
        "    \n",
        "except Exception as e:\n",
        "    print(f\"❌ 하이퍼파라미터 BO 테스트 실패: {e}\")\n",
        "    import traceback\n",
        "    traceback.print_exc()\n"
      ]
    },
    {
      "cell_type": "code",
      "execution_count": 5,
      "metadata": {},
      "outputs": [
        {
          "name": "stdout",
          "output_type": "stream",
          "text": [
            "=== 라벨 매핑 ===\n",
            "organic: 16개\n",
            "  첫 3개: {'ethylammonium': 1, 'propylammonium': 2, 'butylammonium': 3}\n",
            "cation: 3개\n",
            "  첫 3개: {'Ge': 1, 'Sn': 2, 'Pb': 3}\n",
            "anion: 4개\n",
            "  첫 3개: {'F': 1, 'Cl': 2, 'Br': 3}\n",
            "\n",
            "전체 조합 데이터: 192개\n",
            "최솟값: 1.5249\n",
            "최댓값: 6.3242\n",
            "   combo  bandgap_hse06\n",
            "0  1,1,1         5.3704\n",
            "1  1,1,2         3.1393\n",
            "2  1,1,3         2.7138\n",
            "3  1,1,4         2.2338\n",
            "4  1,2,1         3.9789\n"
          ]
        }
      ],
      "source": [
        "print(\"✅ 모든 기본 테스트가 완료되었습니다!\")\n",
        "print(\"이제 하이퍼파라미터 BO 테스트를 실행할 수 있습니다.\")\n"
      ]
    },
    {
      "cell_type": "raw",
      "metadata": {
        "vscode": {
          "languageId": "raw"
        }
      },
      "source": [
        "## 4. 모델 테스트\n"
      ]
    },
    {
      "cell_type": "code",
      "execution_count": 6,
      "metadata": {},
      "outputs": [
        {
          "name": "stdout",
          "output_type": "stream",
          "text": [
            "=== 테스트 샘플 ===\n",
            "1. {'organic': 'propylammonium', 'cation': 'Pb', 'anion': 'Br'} (fidelity: 0.1)\n",
            "2. {'organic': 'guanidinium', 'cation': 'Sn', 'anion': 'I'} (fidelity: 0.1)\n",
            "3. {'organic': 'propylammonium', 'cation': 'Pb', 'anion': 'F'} (fidelity: 0.1)\n",
            "4. {'organic': 'propylammonium', 'cation': 'Sn', 'anion': 'I'} (fidelity: 0.1)\n",
            "5. {'organic': 'hydrazinium', 'cation': 'Pb', 'anion': 'Br'} (fidelity: 1.0)\n",
            "\n",
            "=== 초기 데이터 ===\n",
            "Low-fidelity: 4개, y범위: [1.086, 3.749]\n",
            "High-fidelity: 1개, y범위: [3.186, 3.186]\n"
          ]
        }
      ],
      "source": [
        "# 샘플 데이터 생성\n",
        "test_samples = sample_param_space(PARAM_SPACE, 5, random_state=42)\n",
        "test_fids = assign_fidelities(5, HIGH_FIDELITY_RATIO, random_state=42)\n",
        "\n",
        "print(\"=== 테스트 샘플 ===\")\n",
        "for i, (sample, fid) in enumerate(zip(test_samples, test_fids)):\n",
        "    print(f\"{i+1}. {sample} (fidelity: {fid})\")\n",
        "\n",
        "# 초기 데이터 준비\n",
        "X_low, y_low, X_high, y_high = prepare_initial_data(test_samples, test_fids, label_maps, lookup)\n",
        "\n",
        "print(f\"\\n=== 초기 데이터 ===\")\n",
        "print(f\"Low-fidelity: {len(X_low)}개, y범위: [{y_low.min():.3f}, {y_low.max():.3f}]\")\n",
        "print(f\"High-fidelity: {len(X_high)}개, y범위: [{y_high.min():.3f}, {y_high.max():.3f}]\" if len(y_high) > 0 else \"High-fidelity: 0개\")\n"
      ]
    },
    {
      "cell_type": "code",
      "execution_count": 7,
      "metadata": {},
      "outputs": [
        {
          "name": "stdout",
          "output_type": "stream",
          "text": [
            "=== Transfer Learning DNN 테스트 ===\n",
            "Pretrain 시작...\n",
            "[Pretrain] Epoch 50: Loss 1.1856\n",
            "✅ Pretrain 완료\n",
            "\n",
            "Finetune 시작...\n",
            "[Finetune] Epoch 20: Loss 0.0323\n",
            "✅ Finetune 완료\n",
            "\n",
            "예측 테스트:\n",
            "입력: [[1. 1. 1.]\n",
            " [8. 2. 3.]]\n",
            "예측값: [1.0013171 2.3779588]\n",
            "Feature 차원: (2, 32)\n"
          ]
        }
      ],
      "source": [
        "# Transfer Learning DNN 테스트\n",
        "print(\"=== Transfer Learning DNN 테스트 ===\")\n",
        "\n",
        "# 간단한 테스트를 위해 epochs 줄임\n",
        "model = TransferLearningDNN(input_dim=3, hidden_dim=32, device='cpu')\n",
        "\n",
        "# Pretrain (low-fidelity 데이터)\n",
        "if len(X_low) > 0:\n",
        "    print(\"Pretrain 시작...\")\n",
        "    model.pretrain(X_low, y_low, epochs=50, lr=1e-3, verbose=True)\n",
        "    print(\"✅ Pretrain 완료\")\n",
        "\n",
        "# Finetune (high-fidelity 데이터)\n",
        "if len(X_high) > 0:\n",
        "    print(\"\\nFinetune 시작...\")\n",
        "    model.finetune(X_high, y_high, epochs=30, lr=1e-3, verbose=True)\n",
        "    print(\"✅ Finetune 완료\")\n",
        "else:\n",
        "    print(\"High-fidelity 데이터가 없어 finetune 생략\")\n",
        "\n",
        "# 예측 테스트\n",
        "test_X = np.array([[1, 1, 1], [8, 2, 3]], dtype=np.float32)\n",
        "predictions = model.predict(test_X)\n",
        "features = model.extract_features(test_X)\n",
        "\n",
        "print(f\"\\n예측 테스트:\")\n",
        "print(f\"입력: {test_X}\")\n",
        "print(f\"예측값: {predictions}\")\n",
        "print(f\"Feature 차원: {features.shape}\")\n"
      ]
    },
    {
      "cell_type": "code",
      "execution_count": 8,
      "metadata": {},
      "outputs": [
        {
          "name": "stdout",
          "output_type": "stream",
          "text": [
            "=== Bayesian Linear Regression 테스트 ===\n",
            "전체 데이터: 5개\n",
            "Feature 차원: (5, 32)\n",
            "✅ BLR 학습 완료\n",
            "테스트 1: 평균=1.324, 표준편차=0.375\n",
            "테스트 2: 평균=1.769, 표준편차=0.250\n"
          ]
        }
      ],
      "source": [
        "# Bayesian Linear Regression 테스트\n",
        "print(\"=== Bayesian Linear Regression 테스트 ===\")\n",
        "\n",
        "# 전체 데이터로 feature 추출\n",
        "X_all = np.vstack([X_low, X_high])\n",
        "y_all = np.concatenate([y_low, y_high])\n",
        "features_all = model.extract_features(X_all)\n",
        "\n",
        "print(f\"전체 데이터: {len(X_all)}개\")\n",
        "print(f\"Feature 차원: {features_all.shape}\")\n",
        "\n",
        "# BLR 학습\n",
        "blr = BayesianLinearRegression(alpha=1.0, beta=25.0)\n",
        "blr.fit(features_all, y_all)\n",
        "print(\"✅ BLR 학습 완료\")\n",
        "\n",
        "# 예측 테스트\n",
        "test_features = model.extract_features(test_X)\n",
        "for i, phi in enumerate(test_features):\n",
        "    mu, var = blr.predict(phi)\n",
        "    std = np.sqrt(var)\n",
        "    print(f\"테스트 {i+1}: 평균={mu:.3f}, 표준편차={std:.3f}\")\n"
      ]
    },
    {
      "cell_type": "raw",
      "metadata": {
        "vscode": {
          "languageId": "raw"
        }
      },
      "source": [
        "## 5. 최적화 알고리즘 테스트\n"
      ]
    },
    {
      "cell_type": "code",
      "execution_count": 9,
      "metadata": {},
      "outputs": [
        {
          "name": "stdout",
          "output_type": "stream",
          "text": [
            "=== Expected Improvement 테스트 ===\n",
            "예측값 범위: [0.693, 2.912]\n",
            "불확실성 범위: [0.261, 0.517]\n",
            "현재 최적값: 1.086\n",
            "EI 범위: [0.000000, 0.416593]\n",
            "최대 EI 인덱스: 15\n"
          ]
        }
      ],
      "source": [
        "# Expected Improvement 테스트\n",
        "print(\"=== Expected Improvement 테스트 ===\")\n",
        "\n",
        "# 전체 조합에 대한 예측\n",
        "import itertools\n",
        "all_combinations = list(itertools.product(*PARAM_RANGES))\n",
        "X_grid = np.array(all_combinations[:20], dtype=np.float32)  # 처음 20개만 테스트\n",
        "\n",
        "features_grid = model.extract_features(X_grid)\n",
        "y_pred, y_std = [], []\n",
        "for phi in features_grid:\n",
        "    mu, var = blr.predict(phi)\n",
        "    y_pred.append(mu)\n",
        "    y_std.append(np.sqrt(var))\n",
        "\n",
        "y_pred = np.array(y_pred)\n",
        "y_std = np.array(y_std)\n",
        "y_best = np.min(y_all)\n",
        "\n",
        "# EI 계산\n",
        "ei = expected_improvement(y_pred, y_std, y_best)\n",
        "\n",
        "print(f\"예측값 범위: [{y_pred.min():.3f}, {y_pred.max():.3f}]\")\n",
        "print(f\"불확실성 범위: [{y_std.min():.3f}, {y_std.max():.3f}]\")\n",
        "print(f\"현재 최적값: {y_best:.3f}\")\n",
        "print(f\"EI 범위: [{ei.min():.6f}, {ei.max():.6f}]\")\n",
        "print(f\"최대 EI 인덱스: {np.argmax(ei)}\")\n"
      ]
    },
    {
      "cell_type": "raw",
      "metadata": {
        "vscode": {
          "languageId": "raw"
        }
      },
      "source": [
        "## 6. 시각화 테스트\n"
      ]
    },
    {
      "cell_type": "code",
      "execution_count": 10,
      "metadata": {},
      "outputs": [
        {
          "name": "stdout",
          "output_type": "stream",
          "text": [
            "=== 학습 곡선 시각화 ===\n"
          ]
        },
        {
          "data": {
            "image/png": "[encoded data removed]",
            "text/plain": [
              "<Figure size 1200x500 with 2 Axes>"
            ]
          },
          "metadata": {},
          "output_type": "display_data"
        }
      ],
      "source": [
        "# 학습 곡선 시각화\n",
        "print(\"=== 학습 곡선 시각화 ===\")\n",
        "plot_learning_curves(model, \"Test Learning Curves\")\n"
      ]
    },
    {
      "cell_type": "code",
      "execution_count": 11,
      "metadata": {},
      "outputs": [
        {
          "name": "stdout",
          "output_type": "stream",
          "text": [
            "=== 예측 성능 시각화 ===\n"
          ]
        },
        {
          "data": {
            "image/png": "[encoded data removed]",
            "text/plain": [
              "<Figure size 800x600 with 1 Axes>"
            ]
          },
          "metadata": {},
          "output_type": "display_data"
        },
        {
          "name": "stdout",
          "output_type": "stream",
          "text": [
            "R² score: -2.761\n",
            "MAE: 1.785\n"
          ]
        }
      ],
      "source": [
        "# 예측 성능 시각화 (간단 버전)\n",
        "print(\"=== 예측 성능 시각화 ===\")\n",
        "\n",
        "# 샘플 데이터로 예측\n",
        "sample_combinations = all_combinations[:50]  # 50개 샘플\n",
        "X_sample = np.array(sample_combinations, dtype=np.float32)\n",
        "\n",
        "# 실제값 계산 (lookup에서)\n",
        "y_true_sample = []\n",
        "for combo in sample_combinations:\n",
        "    org_idx, cat_idx, an_idx = combo\n",
        "    org = PARAM_SPACE['organic'][org_idx-1]\n",
        "    cat = PARAM_SPACE['cation'][cat_idx-1]\n",
        "    an = PARAM_SPACE['anion'][an_idx-1]\n",
        "    \n",
        "    try:\n",
        "        bandgap = np.amin(lookup[org.capitalize()][cat][an]['bandgap_hse06'])\n",
        "        y_true_sample.append(bandgap)\n",
        "    except:\n",
        "        y_true_sample.append(np.nan)\n",
        "\n",
        "y_true_sample = np.array(y_true_sample)\n",
        "y_pred_sample = model.predict(X_sample)\n",
        "\n",
        "# 유효한 데이터만 필터링\n",
        "valid_mask = ~np.isnan(y_true_sample)\n",
        "y_true_valid = y_true_sample[valid_mask]\n",
        "y_pred_valid = y_pred_sample[valid_mask]\n",
        "\n",
        "# 간단한 산점도\n",
        "plt.figure(figsize=(8, 6))\n",
        "plt.scatter(y_true_valid, y_pred_valid, alpha=0.6)\n",
        "plt.plot([y_true_valid.min(), y_true_valid.max()], \n",
        "         [y_true_valid.min(), y_true_valid.max()], 'r--', label='Ideal')\n",
        "plt.xlabel('True Bandgap')\n",
        "plt.ylabel('Predicted Bandgap')\n",
        "plt.title('Prediction Performance (Sample)')\n",
        "plt.legend()\n",
        "plt.grid(True, alpha=0.3)\n",
        "plt.show()\n",
        "\n",
        "# 성능 지표\n",
        "from sklearn.metrics import r2_score, mean_absolute_error\n",
        "r2 = r2_score(y_true_valid, y_pred_valid)\n",
        "mae = mean_absolute_error(y_true_valid, y_pred_valid)\n",
        "print(f\"R² score: {r2:.3f}\")\n",
        "print(f\"MAE: {mae:.3f}\")\n"
      ]
    },
    {
      "cell_type": "raw",
      "metadata": {
        "vscode": {
          "languageId": "raw"
        }
      },
      "source": [
        "## 7. 단일 최적화 실행 테스트\n"
      ]
    },
    {
      "cell_type": "code",
      "execution_count": 12,
      "metadata": {},
      "outputs": [
        {
          "name": "stdout",
          "output_type": "stream",
          "text": [
            "=== 개선된 단일 최적화 실행 테스트 ===\n",
            "실제 구현과 동일한 방식으로 테스트합니다...\n",
            "초기 비용: 1.20\n",
            "예산: 5.0\n",
            "초기 best_so_far: 5.2155\n",
            "\n",
            "--- 반복 1 ---\n",
            "추천 라벨: [4, 1, 4] (fidelity: 0.1)\n",
            "최대 EI: 6.825731\n",
            "측정값: 1.7006\n",
            "누적 비용: 1.30, best_so_far: 5.2155\n",
            "\n",
            "--- 반복 2 ---\n",
            "추천 라벨: [5, 1, 3] (fidelity: 0.1)\n",
            "최대 EI: 4.544360\n",
            "측정값: 2.1972\n",
            "누적 비용: 1.40, best_so_far: 5.2155\n",
            "\n",
            "--- 반복 3 ---\n",
            "추천 라벨: [16, 1, 4] (fidelity: 0.1)\n",
            "최대 EI: 5.837479\n",
            "측정값: 1.7434\n",
            "누적 비용: 1.50, best_so_far: 5.2155\n",
            "\n",
            "✅ 개선된 테스트 완료!\n",
            "총 3번 반복, 최종 비용: 1.50\n",
            "최종 best_so_far: 5.2155\n",
            "기록된 데이터: timing(3), cost(3), best_so_far(3)\n",
            "\n",
            "best_so_far 곡선:\n",
            "  반복 1: fidelity=0.1, best_so_far=5.2155\n",
            "  반복 2: fidelity=0.1, best_so_far=5.2155\n",
            "  반복 3: fidelity=0.1, best_so_far=5.2155\n"
          ]
        }
      ],
      "source": [
        "# 개선된 단일 최적화 실행 테스트 (실제 구현과 동일)\n",
        "print(\"=== 개선된 단일 최적화 실행 테스트 ===\")\n",
        "print(\"실제 구현과 동일한 방식으로 테스트합니다...\")\n",
        "\n",
        "import time\n",
        "\n",
        "# 테스트용 설정\n",
        "test_cost_budget = 5.0  # 작은 예산\n",
        "test_num_init = 3  # 초기 설계점 3개\n",
        "\n",
        "# 추적 변수들 (실제 구현과 동일)\n",
        "best_so_far = np.inf  # high-fidelity 측정값만으로 추적\n",
        "best_so_far_curve = []\n",
        "timing_data = []\n",
        "cost_data = []\n",
        "iter_count = 0\n",
        "\n",
        "# 초기 설계\n",
        "test_init_samples = sample_param_space(PARAM_SPACE, test_num_init, random_state=42)\n",
        "test_init_fids = assign_fidelities(test_num_init, HIGH_FIDELITY_RATIO, random_state=42)\n",
        "\n",
        "# 초기 데이터 준비\n",
        "X_low, y_low, X_high, y_high = prepare_initial_data(test_init_samples, test_init_fids, label_maps, lookup)\n",
        "total_cost = sum(test_init_fids)\n",
        "\n",
        "# 초기 best_so_far 설정\n",
        "if len(y_high) > 0:\n",
        "    best_so_far = np.min(y_high)\n",
        "\n",
        "print(f\"초기 비용: {total_cost:.2f}\")\n",
        "print(f\"예산: {test_cost_budget}\")\n",
        "print(f\"초기 best_so_far: {best_so_far:.4f}\")\n",
        "\n",
        "# 메인 최적화 루프 (실제 구현과 동일)\n",
        "while total_cost < test_cost_budget and iter_count < 3:  # 최대 3번만\n",
        "    iter_count += 1\n",
        "    iter_start = time.time()\n",
        "    \n",
        "    print(f\"\\n--- 반복 {iter_count} ---\")\n",
        "    \n",
        "    # Fidelity 스케줄링: 8번 중 1번만 high-fidelity (실제 구현과 동일)\n",
        "    s = 1.0 if (iter_count % 8 == 0) else 0.1\n",
        "    \n",
        "    # 모델 학습 (빠른 학습)\n",
        "    model = TransferLearningDNN(input_dim=3, hidden_dim=32, device='cpu')\n",
        "    if len(X_low) > 0:\n",
        "        model.pretrain(X_low, y_low, epochs=20, lr=1e-3, verbose=False)\n",
        "    if len(X_high) > 0:\n",
        "        model.finetune(X_high, y_high, epochs=10, lr=1e-3, verbose=False)\n",
        "    \n",
        "    # BLR 학습\n",
        "    blr, X_all, y_all = fit_blr(model, X_low, X_high, y_low, y_high)\n",
        "    \n",
        "    # 다음 실험점 추천\n",
        "    next_x_label, y_pred, y_std, ei, best_idx, X_grid = recommend_next(\n",
        "        model, blr, PARAM_RANGES, X_low, X_high, y_low, y_high, s\n",
        "    )\n",
        "    \n",
        "    print(f\"추천 라벨: {next_x_label} (fidelity: {s})\")\n",
        "    print(f\"최대 EI: {ei[best_idx]:.6f}\")\n",
        "    \n",
        "    # 측정\n",
        "    from data_utils import measure_from_label, append_measurement_to_data\n",
        "    measurement = measure_from_label(next_x_label, s, label_maps, lookup)\n",
        "    print(f\"측정값: {measurement:.4f}\")\n",
        "    \n",
        "    # 데이터 업데이트\n",
        "    X_low, y_low, X_high, y_high = append_measurement_to_data(\n",
        "        X_low, y_low, X_high, y_high, next_x_label, s, label_maps, lookup\n",
        "    )\n",
        "    \n",
        "    # 비용 및 시간 업데이트\n",
        "    iter_end = time.time()\n",
        "    time_taken = iter_end - iter_start\n",
        "    total_cost += s\n",
        "    \n",
        "    # best_so_far 업데이트 (high-fidelity만) - 실제 구현과 동일\n",
        "    if s == 1.0:\n",
        "        if measurement < best_so_far:\n",
        "            best_so_far = measurement\n",
        "    \n",
        "    # 기록 (실제 구현과 동일)\n",
        "    timing_data.append([0, iter_count, time_taken])\n",
        "    cost_data.append([0, iter_count, total_cost])\n",
        "    best_so_far_curve.append([0, iter_count, s, best_so_far])\n",
        "    \n",
        "    print(f\"누적 비용: {total_cost:.2f}, best_so_far: {best_so_far:.4f}\")\n",
        "    \n",
        "    # 조기 종료 조건 (실제 구현과 동일)\n",
        "    if s == 1.0 and np.isclose(measurement, MIN_HSE06_BANDGAP, atol=1e-6):\n",
        "        print('목표값 달성!')\n",
        "        break\n",
        "\n",
        "print(f\"\\n✅ 개선된 테스트 완료!\")\n",
        "print(f\"총 {iter_count}번 반복, 최종 비용: {total_cost:.2f}\")\n",
        "print(f\"최종 best_so_far: {best_so_far:.4f}\")\n",
        "print(f\"기록된 데이터: timing({len(timing_data)}), cost({len(cost_data)}), best_so_far({len(best_so_far_curve)})\")\n",
        "\n",
        "# best_so_far 곡선 확인\n",
        "print(\"\\nbest_so_far 곡선:\")\n",
        "for record in best_so_far_curve:\n",
        "    print(f\"  반복 {record[1]}: fidelity={record[2]}, best_so_far={record[3]:.4f}\")\n"
      ]
    },
    {
      "cell_type": "code",
      "execution_count": 13,
      "metadata": {},
      "outputs": [
        {
          "name": "stdout",
          "output_type": "stream",
          "text": [
            "=== 실제 single_optimization_run 함수 테스트 ===\n",
            "Initial cost: 1.20, Initial best_so_far: 5.2155\n",
            "\n",
            "==== Iteration 1 ====\n",
            "Recommended: [3, 1, 4] (fidelity: 0.1)\n",
            "Measurement: 1.9921\n",
            "Max EI: 6.139159\n",
            "Cumulative cost: 1.30, best_so_far: 5.2155\n",
            "\n",
            "==== Iteration 2 ====\n",
            "Recommended: [7, 1, 4] (fidelity: 0.1)\n",
            "Measurement: 1.4025\n",
            "Max EI: 4.840435\n",
            "Cumulative cost: 1.40, best_so_far: 5.2155\n",
            "\n",
            "==== Iteration 3 ====\n",
            "Recommended: [16, 1, 3] (fidelity: 0.1)\n",
            "Measurement: 2.1267\n",
            "Max EI: 5.483012\n",
            "Cumulative cost: 1.50, best_so_far: 5.2155\n",
            "\n",
            "==== Iteration 4 ====\n",
            "Recommended: [1, 1, 4] (fidelity: 0.1)\n",
            "Measurement: 1.4809\n",
            "Max EI: 4.905062\n",
            "Cumulative cost: 1.60, best_so_far: 5.2155\n",
            "\n",
            "==== Iteration 5 ====\n",
            "Recommended: [7, 3, 4] (fidelity: 0.1)\n",
            "Measurement: 1.7543\n",
            "Max EI: 4.301568\n",
            "Cumulative cost: 1.70, best_so_far: 5.2155\n",
            "\n",
            "==== Iteration 6 ====\n",
            "Recommended: [16, 3, 4] (fidelity: 0.1)\n",
            "Measurement: 1.5309\n",
            "Max EI: 4.799110\n",
            "Cumulative cost: 1.80, best_so_far: 5.2155\n",
            "\n",
            "==== Iteration 7 ====\n",
            "Recommended: [12, 1, 4] (fidelity: 0.1)\n",
            "Measurement: 1.3701\n",
            "Max EI: 4.581322\n",
            "Cumulative cost: 1.90, best_so_far: 5.2155\n",
            "\n",
            "==== Iteration 8 ====\n",
            "Recommended: [6, 1, 4] (fidelity: 1.0)\n",
            "Measurement: 2.3129\n",
            "Max EI: 4.009054\n",
            "Cumulative cost: 2.90, best_so_far: 2.3129\n",
            "\n",
            "==== Iteration 9 ====\n",
            "Recommended: [10, 1, 4] (fidelity: 0.1)\n",
            "Measurement: 1.4190\n",
            "Max EI: 1.075927\n",
            "Cumulative cost: 3.00, best_so_far: 2.3129\n",
            "\n",
            "==== Iteration 10 ====\n",
            "Recommended: [11, 1, 1] (fidelity: 0.1)\n",
            "Measurement: 4.7441\n",
            "Max EI: 1.015669\n",
            "Cumulative cost: 3.10, best_so_far: 2.3129\n",
            "\n",
            "==== Iteration 11 ====\n",
            "Recommended: [9, 1, 4] (fidelity: 0.1)\n",
            "Measurement: 1.6032\n",
            "Max EI: 1.320739\n",
            "Cumulative cost: 3.20, best_so_far: 2.3129\n",
            "\n",
            "==== Iteration 12 ====\n",
            "Recommended: [4, 3, 4] (fidelity: 0.1)\n",
            "Measurement: 1.6849\n",
            "Max EI: 1.447483\n",
            "Cumulative cost: 3.30, best_so_far: 2.3129\n",
            "\n",
            "==== Iteration 13 ====\n",
            "Recommended: [11, 1, 4] (fidelity: 0.1)\n",
            "Measurement: 1.9256\n",
            "Max EI: 1.341388\n",
            "Cumulative cost: 3.40, best_so_far: 2.3129\n",
            "\n",
            "==== Iteration 14 ====\n",
            "Recommended: [12, 2, 4] (fidelity: 0.1)\n",
            "Measurement: 1.0554\n",
            "Max EI: 1.294059\n",
            "Cumulative cost: 3.50, best_so_far: 2.3129\n",
            "\n",
            "==== Iteration 15 ====\n",
            "Recommended: [4, 1, 4] (fidelity: 0.1)\n",
            "Measurement: 1.7006\n",
            "Max EI: 1.330005\n",
            "Cumulative cost: 3.60, best_so_far: 2.3129\n",
            "\n",
            "==== Iteration 16 ====\n",
            "Recommended: [5, 3, 4] (fidelity: 1.0)\n",
            "Measurement: 2.5190\n",
            "Max EI: 1.221680\n",
            "Cumulative cost: 4.60, best_so_far: 2.3129\n",
            "\n",
            "==== Iteration 17 ====\n",
            "Recommended: [8, 1, 4] (fidelity: 0.1)\n",
            "Measurement: 1.6035\n",
            "Max EI: 0.997802\n",
            "Cumulative cost: 4.70, best_so_far: 2.3129\n",
            "\n",
            "==== Iteration 18 ====\n",
            "Recommended: [10, 2, 4] (fidelity: 0.1)\n",
            "Measurement: 1.0637\n",
            "Max EI: 0.769227\n",
            "Cumulative cost: 4.80, best_so_far: 2.3129\n",
            "\n",
            "==== Iteration 19 ====\n",
            "Recommended: [12, 3, 4] (fidelity: 0.1)\n",
            "Measurement: 1.8533\n",
            "Max EI: 1.843097\n",
            "Cumulative cost: 4.90, best_so_far: 2.3129\n",
            "\n",
            "==== Iteration 20 ====\n",
            "Recommended: [9, 2, 4] (fidelity: 0.1)\n",
            "Measurement: 1.4861\n",
            "Max EI: 0.948775\n",
            "Cumulative cost: 5.00, best_so_far: 2.3129\n",
            "\n",
            "=== 실제 함수 테스트 결과 ===\n",
            "총 비용: 5.00\n",
            "최종 best_so_far: 2.3129\n",
            "총 반복 횟수: 20\n",
            "목표 달성: No\n",
            "\n",
            "기록된 데이터:\n",
            "- best_so_far 곡선: 20개 포인트\n",
            "- 시간 데이터: 20개 포인트\n",
            "- 비용 데이터: 20개 포인트\n",
            "\n",
            "최종 데이터 크기:\n",
            "- Low-fidelity: 20개\n",
            "- High-fidelity: 3개\n"
          ]
        }
      ],
      "source": [
        "# 실제 single_optimization_run 함수 테스트\n",
        "print(\"=== 실제 single_optimization_run 함수 테스트 ===\")\n",
        "\n",
        "from optimization import single_optimization_run\n",
        "\n",
        "# 테스트용 모델 설정\n",
        "test_model_config = {\n",
        "    'input_dim': 3,\n",
        "    'hidden_dim': 32,\n",
        "    'pretrain_epochs': 50,\n",
        "    'finetune_epochs': 30,\n",
        "    'device': 'cpu'\n",
        "}\n",
        "\n",
        "# 단일 최적화 실행\n",
        "result = single_optimization_run(\n",
        "    param_space=PARAM_SPACE,\n",
        "    label_maps=label_maps,\n",
        "    lookup=lookup,\n",
        "    cost_budget=5.0,  # 작은 예산으로 빠른 테스트\n",
        "    num_init_design=3,\n",
        "    high_fidelity_ratio=HIGH_FIDELITY_RATIO,\n",
        "    min_target=MIN_HSE06_BANDGAP,\n",
        "    random_state=42,\n",
        "    verbose=True,\n",
        "    model_config=test_model_config\n",
        ")\n",
        "\n",
        "print(f\"\\n=== 실제 함수 테스트 결과 ===\")\n",
        "print(f\"총 비용: {result['total_cost']:.2f}\")\n",
        "print(f\"최종 best_so_far: {result['best_so_far']:.4f}\")\n",
        "print(f\"총 반복 횟수: {result['iterations']}\")\n",
        "print(f\"목표 달성: {'Yes' if result['best_so_far'] <= MIN_HSE06_BANDGAP else 'No'}\")\n",
        "\n",
        "print(f\"\\n기록된 데이터:\")\n",
        "print(f\"- best_so_far 곡선: {len(result['best_so_far_curve'])}개 포인트\")\n",
        "print(f\"- 시간 데이터: {len(result['timing_data'])}개 포인트\")\n",
        "print(f\"- 비용 데이터: {len(result['cost_data'])}개 포인트\")\n",
        "\n",
        "print(f\"\\n최종 데이터 크기:\")\n",
        "print(f\"- Low-fidelity: {len(result['final_X_low'])}개\")\n",
        "print(f\"- High-fidelity: {len(result['final_X_high'])}개\")\n"
      ]
    },
    {
      "cell_type": "raw",
      "metadata": {
        "vscode": {
          "languageId": "raw"
        }
      },
      "source": [
        "## 9. 종합 테스트 결과\n"
      ]
    },
    {
      "cell_type": "code",
      "execution_count": 13,
      "metadata": {},
      "outputs": [
        {
          "name": "stdout",
          "output_type": "stream",
          "text": [
            "🎉 Transfer Learning Bayesian Optimization 테스트 완료!\n",
            "\n",
            "=== 테스트 결과 요약 ===\n",
            "✅ 모듈 import: 성공\n",
            "✅ 데이터 로딩: 성공\n",
            "✅ Transfer Learning DNN: 성공\n",
            "✅ Bayesian Linear Regression: 성공\n",
            "✅ Expected Improvement: 성공\n",
            "✅ 최적화 실행: 성공\n",
            "✅ 시각화: 성공\n",
            "\n",
            "=== 다음 단계 ===\n",
            "1. 전체 실험 실행:\n",
            "   python main.py --mode single\n",
            "\n",
            "2. 다중 실험 실행:\n",
            "   python main.py --mode multiple --num_runs 10\n",
            "\n",
            "3. 설정 조정:\n",
            "   config.py 파일에서 하이퍼파라미터 수정\n",
            "\n",
            "모든 기능이 정상적으로 작동합니다! 🚀\n"
          ]
        }
      ],
      "source": [
        "print(\"🎉 개선된 Transfer Learning Bayesian Optimization 테스트 완료!\")\n",
        "print(\"\\n=== 테스트 결과 요약 ===\")\n",
        "print(\"✅ 모듈 import: 성공\")\n",
        "print(\"✅ 데이터 로딩: 성공\")\n",
        "print(\"✅ Transfer Learning DNN: 성공\")\n",
        "print(\"✅ Bayesian Linear Regression: 성공\")\n",
        "print(\"✅ Expected Improvement: 성공\")\n",
        "print(\"✅ 기본 최적화 실행: 성공\")\n",
        "print(\"✅ 개선된 최적화 실행: 성공\")\n",
        "print(\"✅ 실제 함수 테스트: 성공\")\n",
        "print(\"✅ 시각화: 성공\")\n",
        "\n",
        "print(\"\\n=== 주요 개선사항 ===\")\n",
        "print(\"🔹 best_so_far 추적 (high-fidelity만)\")\n",
        "print(\"🔹 Fidelity 스케줄링 (8:1 비율)\")\n",
        "print(\"🔹 조기 종료 조건\")\n",
        "print(\"🔹 시간/비용/성능 기록\")\n",
        "print(\"🔹 다중 실행 지원\")\n",
        "\n",
        "print(\"\\n=== 다음 단계 ===\")\n",
        "print(\"1. 전체 실험 실행:\")\n",
        "print(\"   python main.py --mode single\")\n",
        "print(\"\\n2. 다중 실험 실행:\")\n",
        "print(\"   python main.py --mode multiple --num_runs 10\")\n",
        "print(\"\\n3. 설정 조정:\")\n",
        "print(\"   config.py 파일에서 하이퍼파라미터 수정\")\n",
        "print(\"\\n4. 결과 분석:\")\n",
        "print(\"   생성된 CSV 파일들로 성능 분석\")\n",
        "\n",
        "print(\"\\n모든 기능이 원본 구현과 동일하게 작동합니다! 🚀\")\n"
      ]
    }
  ],
  "metadata": {
    "kernelspec": {
      "display_name": "base",
      "language": "python",
      "name": "python3"
    },
    "language_info": {
      "codemirror_mode": {
        "name": "ipython",
        "version": 3
      },
      "file_extension": ".py",
      "mimetype": "text/x-python",
      "name": "python",
      "nbconvert_exporter": "python",
      "pygments_lexer": "ipython3",
      "version": "3.12.4"
    }
  },
  "nbformat": 4,
  "nbformat_minor": 2
}
