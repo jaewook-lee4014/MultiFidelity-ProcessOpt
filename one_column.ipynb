{
 "cells": [
  {
   "cell_type": "code",
   "execution_count": 13,
   "metadata": {},
   "outputs": [
    {
     "name": "stdout",
     "output_type": "stream",
     "text": [
      "\u001b[1;31mE: \u001b[0mCould not open lock file /var/lib/dpkg/lock-frontend - open (13: Permission denied)\u001b[0m\n",
      "\u001b[1;31mE: \u001b[0mUnable to acquire the dpkg frontend lock (/var/lib/dpkg/lock-frontend), are you root?\u001b[0m\n"
     ]
    }
   ],
   "source": [
    "!apt install graphviz"
   ]
  },
  {
   "cell_type": "code",
   "execution_count": 10,
   "metadata": {},
   "outputs": [],
   "source": [
    "import biosteam as bst\n",
    "bst.nbtutorial() # For light-mode diagrams, ignore warnings"
   ]
  },
  {
   "cell_type": "code",
   "execution_count": 10,
   "metadata": {},
   "outputs": [
    {
     "name": "stdout",
     "output_type": "stream",
     "text": [
      "CAPEX 1.166 MMUSD\n",
      "OPEX 0.739 MMUSD/yr\n"
     ]
    }
   ],
   "source": [
    "# Define chemicals used in the process\n",
    "bst.settings.set_thermo(['Water', 'AceticAcid', 'EthylAcetate'])\n",
    "\n",
    "# Amount of ethyl-acetate to fermentation broth\n",
    "solvent_feed_ratio = 1.5\n",
    "reflux = bst.Stream('reflux')\n",
    "# Fermentation broth with dilute acetic acid\n",
    "acetic_acid_broth = bst.Stream(ID='acetic_acid_broth', AceticAcid=1000, Water=9000, units='kg/hr')\n",
    "\n",
    "# Solvent\n",
    "ethyl_acetate = bst.Stream(ID='ethyl_acetate',  EthylAcetate=1)\n",
    "\n",
    "# Products\n",
    "glacial_acetic_acid = bst.Stream(ID='glacial_acetic_acid')\n",
    "wastewater = bst.Stream(ID='wastewater')\n",
    "\n",
    "# Recycles\n",
    "solvent_recycle = bst.Stream('solvent_rich')\n",
    "water_rich = bst.Stream('water_rich')\n",
    "distillate = bst.Stream('raffinate_distillate')\n",
    "\n",
    "# System and unit operations\n",
    "with bst.System('AAsep') as sys:\n",
    "    extractor = bst.MultiStageMixerSettlers(\n",
    "        'extractor',\n",
    "        ins=(acetic_acid_broth, ethyl_acetate, solvent_recycle),\n",
    "        outs=('extract', 'raffinate'),\n",
    "        top_chemical='EthylAcetate',\n",
    "        feed_stages=(0, -1, -1),\n",
    "        N_stages=12,\n",
    "        use_cache=True,\n",
    "    )\n",
    "\n",
    "    @extractor.add_specification(run=True)\n",
    "    def adjust_fresh_solvent_flow_rate():\n",
    "        broth = acetic_acid_broth.F_mass\n",
    "        EtAc_recycle = solvent_recycle.imass['EthylAcetate']\n",
    "        EtAc_required = broth * solvent_feed_ratio\n",
    "        if EtAc_required < EtAc_recycle:\n",
    "            solvent_recycle.F_mass *= EtAc_required / EtAc_recycle\n",
    "            EtAc_recycle = solvent_recycle.imass['EthylAcetate']\n",
    "        EtAc_fresh = EtAc_required - EtAc_recycle\n",
    "        ethyl_acetate.imass['EthylAcetate'] = max(\n",
    "            0, EtAc_fresh\n",
    "        )\n",
    "\n",
    "    HX = bst.HXutility(\n",
    "        'extract_heater',\n",
    "        ins=(extractor.extract),\n",
    "        outs=('hot_extract'),\n",
    "        rigorous=True,\n",
    "        V=0,\n",
    "    )\n",
    "    ED = bst.MESHDistillation(\n",
    "                'extract_distiller',\n",
    "                ins=(HX-0, reflux),\n",
    "                outs=('', 'acetic_acid', 'distillate'),\n",
    "                feed_stages=[7-2, 1],\n",
    "                N_stages=9,\n",
    "                full_condenser=True,\n",
    "                boilup=4.48,\n",
    "                LHK=('Water', 'AceticAcid'),\n",
    "                use_cache=True,\n",
    "            )\n",
    "\n",
    "    ED2 = bst.MESHDistillation(\n",
    "        'acetic_acid_purification',\n",
    "        ins=ED-1,\n",
    "        outs=('', glacial_acetic_acid),\n",
    "        feed_stages=[7-2, 1],\n",
    "        N_stages=9,\n",
    "        full_condenser=False,\n",
    "        boilup=4.48,\n",
    "        LHK=('EthylAcetate', 'AceticAcid'),\n",
    "        use_cache=True,\n",
    "    )\n",
    "\n",
    "    ED.check_LHK = ED2.check_LHK = False\n",
    "    mixer = bst.Mixer(\n",
    "        ins=(ED-0, ED2-0, distillate)\n",
    "    )\n",
    "    HX = bst.HXutility(ins=mixer-0, T=310)\n",
    "    settler = bst.MixerSettler(\n",
    "        'settler',\n",
    "        ins=HX-0,\n",
    "        outs=(solvent_recycle, water_rich),\n",
    "        top_chemical='EthylAcetate',\n",
    "    )\n",
    "    mixer = bst.Mixer(ins=[extractor.raffinate, water_rich])\n",
    "    RD = bst.ShortcutColumn(\n",
    "        'raffinate_distiller',\n",
    "        LHK=('EthylAcetate', 'Water'),\n",
    "        ins=mixer-0,\n",
    "        outs=[distillate, wastewater],\n",
    "        partial_condenser=False,\n",
    "        Lr=0.99,\n",
    "        Hr=0.99,\n",
    "        k=1.5,\n",
    "    )\n",
    "\n",
    "sys.simulate()\n",
    "# sys.diagram(kind='cluster', format='png')\n",
    "# sys.show()\n",
    "sys.operating_hours = 330 * 24\n",
    "print('CAPEX', round(sys.installed_equipment_cost / 1e6, 3), 'MMUSD')\n",
    "print('OPEX', round(sys.material_cost + sys.utility_cost / 1e6, 4), 'MMUSD/yr')"
   ]
  },
  {
   "cell_type": "code",
   "execution_count": 3,
   "metadata": {},
   "outputs": [],
   "source": [
    "sys.diagram(kind='thorough', file='diagram.png', format='png', display=False)"
   ]
  },
  {
   "cell_type": "code",
   "execution_count": 27,
   "metadata": {},
   "outputs": [
    {
     "name": "stdout",
     "output_type": "stream",
     "text": [
      "ED outputs: [<Stream: s3>, <Stream: acetic_acid>, <Stream: distillate>]\n"
     ]
    }
   ],
   "source": [
    "print(\"ED outputs:\", ED.outs)  # ED의 출력 스트림 개수 확인\n"
   ]
  },
  {
   "cell_type": "markdown",
   "metadata": {},
   "source": [
    "## ShortcutColumn 한개"
   ]
  },
  {
   "cell_type": "code",
   "execution_count": 41,
   "metadata": {},
   "outputs": [
    {
     "name": "stdout",
     "output_type": "stream",
     "text": [
      "System: AAsep\n",
      "ins...\n",
      "[0] acetic_acid_broth  \n",
      "    phase: 'l', T: 298.15 K, P: 101325 Pa\n",
      "    flow (kmol/hr): Water       500\n",
      "                    AceticAcid  16.7\n",
      "outs...\n",
      "[0] wastewater  \n",
      "    phase: 'l', T: 373.12 K, P: 101325 Pa\n",
      "    flow (kmol/hr): Water       495\n",
      "                    AceticAcid  0.167\n",
      "[1] glacial_acetic_acid  \n",
      "    phase: 'l', T: 380.62 K, P: 101325 Pa\n",
      "    flow (kmol/hr): Water       5\n",
      "                    AceticAcid  16.5\n",
      "CAPEX 5.266 MMUSD\n",
      "OPEX 8.0737 MMUSD/yr\n"
     ]
    }
   ],
   "source": [
    "# Define chemicals used in the process\n",
    "bst.settings.set_thermo(['Water', 'AceticAcid'])\n",
    "\n",
    "# Fermentation broth with dilute acetic acid\n",
    "acetic_acid_broth = bst.Stream(ID='acetic_acid_broth', AceticAcid=1000, Water=9000, units='kg/hr')\n",
    "\n",
    "# Products\n",
    "glacial_acetic_acid = bst.Stream(ID='glacial_acetic_acid')\n",
    "wastewater = bst.Stream(ID='wastewater')\n",
    "\n",
    "# System and unit operations\n",
    "with bst.System('AAsep') as sys:\n",
    "    ED = bst.ShortcutColumn(\n",
    "        'extract_distiller',\n",
    "        ins=acetic_acid_broth,  # ED에 직접 연결\n",
    "        outs=[wastewater, glacial_acetic_acid],  # 상부: Wastewater, 하부: Glacial Acetic Acid\n",
    "        LHK=('Water', 'AceticAcid'),  # Water 제거, AceticAcid 농축\n",
    "        Lr=0.99,  # AceticAcid의 하부 잔류 비율 증가\n",
    "        Hr=0.99,  # Water의 상부 제거 비율 증가 (Water 완전히 제거)\n",
    "        k=1.4,\n",
    "        partial_condenser=False,\n",
    "    )\n",
    "\n",
    "sys.simulate()\n",
    "sys.diagram(kind='cluster', format='png')\n",
    "sys.show()\n",
    "sys.operating_hours = 330 * 24\n",
    "print('CAPEX', round(sys.installed_equipment_cost / 1e6, 3), 'MMUSD')\n",
    "print('OPEX', round(sys.material_cost + sys.utility_cost / 1e6, 4), 'MMUSD/yr')\n"
   ]
  },
  {
   "cell_type": "code",
   "execution_count": 36,
   "metadata": {},
   "outputs": [
    {
     "data": {
      "text/plain": [
       "0"
      ]
     },
     "execution_count": 36,
     "metadata": {},
     "output_type": "execute_result"
    }
   ],
   "source": [
    "sys.material_cost"
   ]
  },
  {
   "cell_type": "code",
   "execution_count": 37,
   "metadata": {},
   "outputs": [
    {
     "data": {
      "text/plain": [
       "8073679.59104416"
      ]
     },
     "execution_count": 37,
     "metadata": {},
     "output_type": "execute_result"
    }
   ],
   "source": [
    "sys.utility_cost\n"
   ]
  },
  {
   "cell_type": "code",
   "execution_count": 35,
   "metadata": {},
   "outputs": [
    {
     "ename": "AttributeError",
     "evalue": "'System' object has no attribute 'unit_capital_costs'",
     "output_type": "error",
     "traceback": [
      "\u001b[0;31m---------------------------------------------------------------------------\u001b[0m",
      "\u001b[0;31mAttributeError\u001b[0m                            Traceback (most recent call last)",
      "Cell \u001b[0;32mIn[35], line 1\u001b[0m\n\u001b[0;32m----> 1\u001b[0m \u001b[43msys\u001b[49m\u001b[38;5;241;43m.\u001b[39;49m\u001b[43munit_capital_costs\u001b[49m\n",
      "\u001b[0;31mAttributeError\u001b[0m: 'System' object has no attribute 'unit_capital_costs'"
     ]
    }
   ],
   "source": [
    "sys.unit_capital_costs.values()"
   ]
  },
  {
   "cell_type": "code",
   "execution_count": 33,
   "metadata": {},
   "outputs": [
    {
     "data": {
      "text/plain": [
       "{'Trays': 472495.3503163702,\n",
       " 'Tower': 533432.8362885285,\n",
       " 'Platform and ladders': 127721.13955939046,\n",
       " 'Condenser - Floating head': 159711.25079586203,\n",
       " 'Pump - Pump': 5888.663535150239,\n",
       " 'Pump - Motor': 601.1805501058838,\n",
       " 'Reboiler - Floating head': 87231.07143174125}"
      ]
     },
     "execution_count": 33,
     "metadata": {},
     "output_type": "execute_result"
    }
   ],
   "source": [
    "ED.purchase_costs"
   ]
  },
  {
   "cell_type": "code",
   "execution_count": 13,
   "metadata": {},
   "outputs": [
    {
     "name": "stdout",
     "output_type": "stream",
     "text": [
      "Distillation Column                              Units  extract_distiller\n",
      "Electricity         Power                           kW               56.2\n",
      "                    Cost                        USD/hr                4.4\n",
      "Cooling water       Duty                         kJ/hr          -2.07e+09\n",
      "                    Flow                       kmol/hr           1.41e+06\n",
      "                    Cost                        USD/hr                690\n",
      "Low pressure steam  Duty                         kJ/hr           2.18e+09\n",
      "                    Flow                       kmol/hr           5.64e+04\n",
      "                    Cost                        USD/hr           1.34e+04\n",
      "Design              Theoretical feed stage                            709\n",
      "                    Theoretical stages                                761\n",
      "                    Minimum reflux               Ratio               75.9\n",
      "                    Reflux                       Ratio                106\n",
      "                    Actual stages                                 1.2e+03\n",
      "                    Height                          ft           1.77e+03\n",
      "                    Diameter                        ft               47.4\n",
      "                    Wall thickness                  in                 12\n",
      "                    Weight                          lb           1.36e+08\n",
      "Purchase cost       Trays                          USD            6.3e+08\n",
      "                    Tower                          USD           1.57e+08\n",
      "                    Platform and ladders           USD           1.58e+06\n",
      "                    Condenser - Floating head      USD           2.96e+06\n",
      "                    Pump - Pump                    USD           1.68e+05\n",
      "                    Pump - Motor                   USD           3.45e+03\n",
      "                    Reboiler - Floating head       USD           1.28e+06\n",
      "Total purchase cost                                USD           7.93e+08\n",
      "Utility cost                                    USD/hr           1.41e+04\n"
     ]
    }
   ],
   "source": [
    "print(ED.results())\n",
    "outlet = ED.reboiler.outs[0]\n",
    "boilup = outlet['g'].F_mol / outlet['l'].F_mol\n",
    "distillate, condensate = ED.top_split.outs\n",
    "split = condensate.F_mol / ED.condenser.outs[0].F_mol # Or from ED.design_results['Reflux']\n",
    "N_stages = int(ED.design_results['Theoretical stages'])\n",
    "feed_stage = int(ED.design_results['Theoretical feed stage'])"
   ]
  },
  {
   "cell_type": "markdown",
   "metadata": {},
   "source": [
    "## 함수화 하여 결과 생성"
   ]
  },
  {
   "cell_type": "code",
   "execution_count": 1,
   "metadata": {},
   "outputs": [
    {
     "name": "stdout",
     "output_type": "stream",
     "text": [
      "/users/k23070952/MultiFidelity-ProcessOpt/1. Code\n"
     ]
    },
    {
     "name": "stderr",
     "output_type": "stream",
     "text": [
      "/users/k23070952/CODE/0. SSH files/jvenv/lib/python3.11/site-packages/IPython/core/magics/osm.py:393: UserWarning: This is now an optional IPython functionality, using bookmarks requires you to install the `pickleshare` library.\n",
      "  bkms = self.shell.db.get('bookmarks', {})\n",
      "/users/k23070952/CODE/0. SSH files/jvenv/lib/python3.11/site-packages/IPython/core/magics/osm.py:417: UserWarning: This is now an optional IPython functionality, setting dhist requires you to install the `pickleshare` library.\n",
      "  self.shell.db['dhist'] = compress_dhist(dhist)[-100:]\n"
     ]
    }
   ],
   "source": [
    "cd ~/MultiFidelity-ProcessOpt/1.\\ Code"
   ]
  },
  {
   "cell_type": "code",
   "execution_count": 2,
   "metadata": {},
   "outputs": [
    {
     "name": "stderr",
     "output_type": "stream",
     "text": [
      "0it [00:00, ?it/s]\n"
     ]
    },
    {
     "ename": "RuntimeError",
     "evalue": "\u001b[38;2;229;63;229m<ShortcutColumn: extract_distiller>\u001b[0m failed to find bracket",
     "output_type": "error",
     "traceback": [
      "\u001b[0;31m---------------------------------------------------------------------------\u001b[0m",
      "\u001b[0;31mRuntimeError\u001b[0m                              Traceback (most recent call last)",
      "Cell \u001b[0;32mIn[2], line 29\u001b[0m\n\u001b[1;32m     27\u001b[0m \u001b[38;5;28;01mfor\u001b[39;00m index, row \u001b[38;5;129;01min\u001b[39;00m tqdm(results_df\u001b[38;5;241m.\u001b[39miterrows()):\n\u001b[1;32m     28\u001b[0m     Lr, Hr \u001b[38;5;241m=\u001b[39m row[\u001b[38;5;124m'\u001b[39m\u001b[38;5;124m_Lr1\u001b[39m\u001b[38;5;124m'\u001b[39m], row[\u001b[38;5;124m'\u001b[39m\u001b[38;5;124m_Hr1\u001b[39m\u001b[38;5;124m'\u001b[39m]\n\u001b[0;32m---> 29\u001b[0m     capex, opex, purity \u001b[38;5;241m=\u001b[39m \u001b[43mOneColumn\u001b[49m\u001b[43m(\u001b[49m\u001b[43mLr\u001b[49m\u001b[43m,\u001b[49m\u001b[43m \u001b[49m\u001b[43mHr\u001b[49m\u001b[43m)\u001b[49m\n\u001b[1;32m     30\u001b[0m     capex_list\u001b[38;5;241m.\u001b[39mappend(capex)\n\u001b[1;32m     31\u001b[0m     opex_list\u001b[38;5;241m.\u001b[39mappend(opex)\n",
      "File \u001b[0;32m~/MultiFidelity-ProcessOpt/1. Code/OneColumn.py:28\u001b[0m, in \u001b[0;36mOneColumn\u001b[0;34m(Lr, Hr)\u001b[0m\n\u001b[1;32m     16\u001b[0m \u001b[38;5;28;01mwith\u001b[39;00m bst\u001b[38;5;241m.\u001b[39mSystem(\u001b[38;5;124m'\u001b[39m\u001b[38;5;124mAAsep\u001b[39m\u001b[38;5;124m'\u001b[39m) \u001b[38;5;28;01mas\u001b[39;00m sys:\n\u001b[1;32m     17\u001b[0m     ED \u001b[38;5;241m=\u001b[39m bst\u001b[38;5;241m.\u001b[39mShortcutColumn(\n\u001b[1;32m     18\u001b[0m         \u001b[38;5;124m'\u001b[39m\u001b[38;5;124mextract_distiller\u001b[39m\u001b[38;5;124m'\u001b[39m,\n\u001b[1;32m     19\u001b[0m         ins\u001b[38;5;241m=\u001b[39macetic_acid_broth,  \u001b[38;5;66;03m# ED에 직접 연결\u001b[39;00m\n\u001b[0;32m   (...)\u001b[0m\n\u001b[1;32m     25\u001b[0m         partial_condenser\u001b[38;5;241m=\u001b[39m\u001b[38;5;28;01mFalse\u001b[39;00m,\n\u001b[1;32m     26\u001b[0m     )\n\u001b[0;32m---> 28\u001b[0m \u001b[43msys\u001b[49m\u001b[38;5;241;43m.\u001b[39;49m\u001b[43msimulate\u001b[49m\u001b[43m(\u001b[49m\u001b[43m)\u001b[49m\n\u001b[1;32m     29\u001b[0m sys\u001b[38;5;241m.\u001b[39moperating_hours \u001b[38;5;241m=\u001b[39m \u001b[38;5;241m330\u001b[39m \u001b[38;5;241m*\u001b[39m \u001b[38;5;241m24\u001b[39m  \u001b[38;5;66;03m# 연간 운영 시간\u001b[39;00m\n\u001b[1;32m     31\u001b[0m CAPEX \u001b[38;5;241m=\u001b[39m \u001b[38;5;28mround\u001b[39m(sys\u001b[38;5;241m.\u001b[39minstalled_equipment_cost \u001b[38;5;241m/\u001b[39m \u001b[38;5;241m1e6\u001b[39m, \u001b[38;5;241m3\u001b[39m)  \u001b[38;5;66;03m# MMUSD\u001b[39;00m\n",
      "File \u001b[0;32m~/CODE/0. SSH files/jvenv/lib/python3.11/site-packages/biosteam/_system.py:2800\u001b[0m, in \u001b[0;36mSystem.simulate\u001b[0;34m(self, update_configuration, units, design_and_cost, **kwargs)\u001b[0m\n\u001b[1;32m   2780\u001b[0m \u001b[38;5;28;01mdef\u001b[39;00m\u001b[38;5;250m \u001b[39m\u001b[38;5;21msimulate\u001b[39m(\u001b[38;5;28mself\u001b[39m, update_configuration: Optional[\u001b[38;5;28mbool\u001b[39m]\u001b[38;5;241m=\u001b[39m\u001b[38;5;28;01mNone\u001b[39;00m, units\u001b[38;5;241m=\u001b[39m\u001b[38;5;28;01mNone\u001b[39;00m, \n\u001b[1;32m   2781\u001b[0m              design_and_cost\u001b[38;5;241m=\u001b[39m\u001b[38;5;28;01mNone\u001b[39;00m, \u001b[38;5;241m*\u001b[39m\u001b[38;5;241m*\u001b[39mkwargs):\n\u001b[1;32m   2782\u001b[0m \u001b[38;5;250m    \u001b[39m\u001b[38;5;124;03m\"\"\"\u001b[39;00m\n\u001b[1;32m   2783\u001b[0m \u001b[38;5;124;03m    If system is dynamic, run the system dynamically. Otherwise, converge \u001b[39;00m\n\u001b[1;32m   2784\u001b[0m \u001b[38;5;124;03m    the path of unit operations to steady state. After running/converging \u001b[39;00m\n\u001b[0;32m   (...)\u001b[0m\n\u001b[1;32m   2798\u001b[0m \u001b[38;5;124;03m        \u001b[39;00m\n\u001b[1;32m   2799\u001b[0m \u001b[38;5;124;03m    \"\"\"\u001b[39;00m\n\u001b[0;32m-> 2800\u001b[0m \u001b[43m    \u001b[49m\u001b[38;5;28;43;01mwith\u001b[39;49;00m\u001b[43m \u001b[49m\u001b[38;5;28;43mself\u001b[39;49m\u001b[38;5;241;43m.\u001b[39;49m\u001b[43mflowsheet\u001b[49m\u001b[43m:\u001b[49m\n\u001b[1;32m   2801\u001b[0m \u001b[43m        \u001b[49m\u001b[43mspecifications\u001b[49m\u001b[43m \u001b[49m\u001b[38;5;241;43m=\u001b[39;49m\u001b[43m \u001b[49m\u001b[38;5;28;43mself\u001b[39;49m\u001b[38;5;241;43m.\u001b[39;49m\u001b[43m_specifications\u001b[49m\n\u001b[1;32m   2802\u001b[0m \u001b[43m        \u001b[49m\u001b[38;5;28;43;01mif\u001b[39;49;00m\u001b[43m \u001b[49m\u001b[43mspecifications\u001b[49m\u001b[43m \u001b[49m\u001b[38;5;129;43;01mand\u001b[39;49;00m\u001b[43m \u001b[49m\u001b[38;5;129;43;01mnot\u001b[39;49;00m\u001b[43m \u001b[49m\u001b[38;5;28;43mself\u001b[39;49m\u001b[38;5;241;43m.\u001b[39;49m\u001b[43m_running_specifications\u001b[49m\u001b[43m:\u001b[49m\n",
      "File \u001b[0;32m~/CODE/0. SSH files/jvenv/lib/python3.11/site-packages/biosteam/_flowsheet.py:120\u001b[0m, in \u001b[0;36mFlowsheet.__exit__\u001b[0;34m(self, type, exception, traceback)\u001b[0m\n\u001b[1;32m    118\u001b[0m \u001b[38;5;28;01mdef\u001b[39;00m\u001b[38;5;250m \u001b[39m\u001b[38;5;21m__exit__\u001b[39m(\u001b[38;5;28mself\u001b[39m, \u001b[38;5;28mtype\u001b[39m, exception, traceback):\n\u001b[1;32m    119\u001b[0m     main_flowsheet\u001b[38;5;241m.\u001b[39mset_flowsheet(\u001b[38;5;28mself\u001b[39m\u001b[38;5;241m.\u001b[39m_temporary_stack\u001b[38;5;241m.\u001b[39mpop())\n\u001b[0;32m--> 120\u001b[0m     \u001b[38;5;28;01mif\u001b[39;00m exception: \u001b[38;5;28;01mraise\u001b[39;00m exception\n",
      "File \u001b[0;32m~/CODE/0. SSH files/jvenv/lib/python3.11/site-packages/biosteam/_system.py:2861\u001b[0m, in \u001b[0;36mSystem.simulate\u001b[0;34m(self, update_configuration, units, design_and_cost, **kwargs)\u001b[0m\n\u001b[1;32m   2855\u001b[0m         outputs \u001b[38;5;241m=\u001b[39m \u001b[38;5;28mself\u001b[39m\u001b[38;5;241m.\u001b[39msimulate(\n\u001b[1;32m   2856\u001b[0m             update_configuration\u001b[38;5;241m=\u001b[39m\u001b[38;5;28;01mTrue\u001b[39;00m, \n\u001b[1;32m   2857\u001b[0m             design_and_cost\u001b[38;5;241m=\u001b[39mdesign_and_cost,\n\u001b[1;32m   2858\u001b[0m             \u001b[38;5;241m*\u001b[39m\u001b[38;5;241m*\u001b[39mkwargs\n\u001b[1;32m   2859\u001b[0m         )\n\u001b[1;32m   2860\u001b[0m     \u001b[38;5;28;01melse\u001b[39;00m:\n\u001b[0;32m-> 2861\u001b[0m         \u001b[38;5;28;01mraise\u001b[39;00m error\n\u001b[1;32m   2862\u001b[0m \u001b[38;5;28;01melse\u001b[39;00m:\n\u001b[1;32m   2863\u001b[0m     \u001b[38;5;28;01mif\u001b[39;00m (\u001b[38;5;129;01mnot\u001b[39;00m update_configuration \u001b[38;5;66;03m# Avoid infinite loop\u001b[39;00m\n\u001b[1;32m   2864\u001b[0m         \u001b[38;5;129;01mand\u001b[39;00m \u001b[38;5;28mself\u001b[39m\u001b[38;5;241m.\u001b[39m_connections \u001b[38;5;241m!=\u001b[39m [i\u001b[38;5;241m.\u001b[39mget_connection() \u001b[38;5;28;01mfor\u001b[39;00m i \u001b[38;5;129;01min\u001b[39;00m \u001b[38;5;28mself\u001b[39m\u001b[38;5;241m.\u001b[39mstreams]):\n\u001b[1;32m   2865\u001b[0m         \u001b[38;5;66;03m# Connections has been updated within simulation.\u001b[39;00m\n",
      "File \u001b[0;32m~/CODE/0. SSH files/jvenv/lib/python3.11/site-packages/biosteam/_system.py:2849\u001b[0m, in \u001b[0;36mSystem.simulate\u001b[0;34m(self, update_configuration, units, design_and_cost, **kwargs)\u001b[0m\n\u001b[1;32m   2847\u001b[0m \u001b[38;5;28;01mtry\u001b[39;00m:\n\u001b[1;32m   2848\u001b[0m     outputs \u001b[38;5;241m=\u001b[39m \u001b[38;5;28mself\u001b[39m\u001b[38;5;241m.\u001b[39mconverge(\u001b[38;5;241m*\u001b[39m\u001b[38;5;241m*\u001b[39mkwargs)\n\u001b[0;32m-> 2849\u001b[0m     \u001b[38;5;28;01mif\u001b[39;00m design_and_cost: \u001b[38;5;28;43mself\u001b[39;49m\u001b[38;5;241;43m.\u001b[39;49m\u001b[43m_summary\u001b[49m\u001b[43m(\u001b[49m\u001b[43m)\u001b[49m\n\u001b[1;32m   2850\u001b[0m \u001b[38;5;28;01mexcept\u001b[39;00m \u001b[38;5;167;01mException\u001b[39;00m \u001b[38;5;28;01mas\u001b[39;00m error:\n\u001b[1;32m   2851\u001b[0m     \u001b[38;5;28;01mif\u001b[39;00m update_configuration: \u001b[38;5;28;01mraise\u001b[39;00m error \u001b[38;5;66;03m# Avoid infinite loop\u001b[39;00m\n",
      "File \u001b[0;32m~/CODE/0. SSH files/jvenv/lib/python3.11/site-packages/biosteam/_system.py:2557\u001b[0m, in \u001b[0;36mSystem._summary\u001b[0;34m(self)\u001b[0m\n\u001b[1;32m   2555\u001b[0m         \u001b[38;5;28;01mif\u001b[39;00m i \u001b[38;5;129;01min\u001b[39;00m simulated_units: \u001b[38;5;28;01mcontinue\u001b[39;00m\n\u001b[1;32m   2556\u001b[0m         simulated_units\u001b[38;5;241m.\u001b[39madd(i)\n\u001b[0;32m-> 2557\u001b[0m     \u001b[43mf\u001b[49m\u001b[43m(\u001b[49m\u001b[43mi\u001b[49m\u001b[43m,\u001b[49m\u001b[43m \u001b[49m\u001b[43mi\u001b[49m\u001b[38;5;241;43m.\u001b[39;49m\u001b[43m_summary\u001b[49m\u001b[43m)\u001b[49m\n\u001b[1;32m   2558\u001b[0m \u001b[38;5;28;01mfor\u001b[39;00m i \u001b[38;5;129;01min\u001b[39;00m \u001b[38;5;28mself\u001b[39m\u001b[38;5;241m.\u001b[39m_facilities:\n\u001b[1;32m   2559\u001b[0m     \u001b[38;5;28;01mif\u001b[39;00m isa(i, Unit): f(i, i\u001b[38;5;241m.\u001b[39msimulate)\n",
      "File \u001b[0;32m~/CODE/0. SSH files/jvenv/lib/python3.11/site-packages/thermosteam/exceptions.py:94\u001b[0m, in \u001b[0;36mtry_method_with_object_stamp\u001b[0;34m(object, method, args)\u001b[0m\n\u001b[1;32m     92\u001b[0m     \u001b[38;5;28;01mraise\u001b[39;00m StampedKeyError(message_with_object_stamp(\u001b[38;5;28mobject\u001b[39m, \u001b[38;5;28mrepr\u001b[39m(error\u001b[38;5;241m.\u001b[39margs[\u001b[38;5;241m0\u001b[39m])))\n\u001b[1;32m     93\u001b[0m \u001b[38;5;28;01mexcept\u001b[39;00m \u001b[38;5;167;01mException\u001b[39;00m \u001b[38;5;28;01mas\u001b[39;00m error:\n\u001b[0;32m---> 94\u001b[0m     \u001b[43mraise_error_with_object_stamp\u001b[49m\u001b[43m(\u001b[49m\u001b[38;5;28;43mobject\u001b[39;49m\u001b[43m,\u001b[49m\u001b[43m \u001b[49m\u001b[43merror\u001b[49m\u001b[43m)\u001b[49m\n",
      "File \u001b[0;32m~/CODE/0. SSH files/jvenv/lib/python3.11/site-packages/thermosteam/exceptions.py:84\u001b[0m, in \u001b[0;36mraise_error_with_object_stamp\u001b[0;34m(object, error)\u001b[0m\n\u001b[1;32m     82\u001b[0m     error\u001b[38;5;241m.\u001b[39margs \u001b[38;5;241m=\u001b[39m (message_with_object_stamp(\u001b[38;5;28mobject\u001b[39m, msg), \u001b[38;5;241m*\u001b[39margs)\n\u001b[1;32m     83\u001b[0m \u001b[38;5;28;01mexcept\u001b[39;00m: \u001b[38;5;28;01mpass\u001b[39;00m\n\u001b[0;32m---> 84\u001b[0m \u001b[38;5;28;01mraise\u001b[39;00m error\n",
      "File \u001b[0;32m~/CODE/0. SSH files/jvenv/lib/python3.11/site-packages/thermosteam/exceptions.py:88\u001b[0m, in \u001b[0;36mtry_method_with_object_stamp\u001b[0;34m(object, method, args)\u001b[0m\n\u001b[1;32m     86\u001b[0m \u001b[38;5;28;01mdef\u001b[39;00m\u001b[38;5;250m \u001b[39m\u001b[38;5;21mtry_method_with_object_stamp\u001b[39m(\u001b[38;5;28mobject\u001b[39m, method, args\u001b[38;5;241m=\u001b[39m()):\n\u001b[1;32m     87\u001b[0m     \u001b[38;5;28;01mtry\u001b[39;00m:\n\u001b[0;32m---> 88\u001b[0m         \u001b[38;5;28;01mreturn\u001b[39;00m \u001b[43mmethod\u001b[49m\u001b[43m(\u001b[49m\u001b[38;5;241;43m*\u001b[39;49m\u001b[43margs\u001b[49m\u001b[43m)\u001b[49m\n\u001b[1;32m     89\u001b[0m     \u001b[38;5;28;01mexcept\u001b[39;00m StampedKeyError \u001b[38;5;28;01mas\u001b[39;00m error:\n\u001b[1;32m     90\u001b[0m         \u001b[38;5;28;01mraise\u001b[39;00m StampedKeyError(message_with_object_stamp(\u001b[38;5;28mobject\u001b[39m, error\u001b[38;5;241m.\u001b[39margs[\u001b[38;5;241m0\u001b[39m]))\n",
      "File \u001b[0;32m~/CODE/0. SSH files/jvenv/lib/python3.11/site-packages/biosteam/_unit.py:1205\u001b[0m, in \u001b[0;36mUnit._summary\u001b[0;34m(self, design_kwargs, cost_kwargs, lca_kwargs)\u001b[0m\n\u001b[1;32m   1203\u001b[0m \u001b[38;5;28;01mif\u001b[39;00m \u001b[38;5;129;01mnot\u001b[39;00m (\u001b[38;5;28mself\u001b[39m\u001b[38;5;241m.\u001b[39m_design \u001b[38;5;129;01mor\u001b[39;00m \u001b[38;5;28mself\u001b[39m\u001b[38;5;241m.\u001b[39m_cost): \u001b[38;5;28;01mreturn\u001b[39;00m\n\u001b[1;32m   1204\u001b[0m \u001b[38;5;28;01mif\u001b[39;00m \u001b[38;5;129;01mnot\u001b[39;00m \u001b[38;5;28mself\u001b[39m\u001b[38;5;241m.\u001b[39m_skip_simulation_when_inlets_are_empty \u001b[38;5;129;01mor\u001b[39;00m \u001b[38;5;129;01mnot\u001b[39;00m \u001b[38;5;28mall\u001b[39m([i\u001b[38;5;241m.\u001b[39misempty() \u001b[38;5;28;01mfor\u001b[39;00m i \u001b[38;5;129;01min\u001b[39;00m \u001b[38;5;28mself\u001b[39m\u001b[38;5;241m.\u001b[39m_ins]): \n\u001b[0;32m-> 1205\u001b[0m     \u001b[38;5;28mself\u001b[39m\u001b[38;5;241m.\u001b[39m_design(\u001b[38;5;241m*\u001b[39m\u001b[38;5;241m*\u001b[39mdesign_kwargs) \u001b[38;5;28;01mif\u001b[39;00m design_kwargs \u001b[38;5;28;01melse\u001b[39;00m \u001b[38;5;28;43mself\u001b[39;49m\u001b[38;5;241;43m.\u001b[39;49m\u001b[43m_design\u001b[49m\u001b[43m(\u001b[49m\u001b[43m)\u001b[49m\n\u001b[1;32m   1206\u001b[0m     \u001b[38;5;28mself\u001b[39m\u001b[38;5;241m.\u001b[39m_cost(\u001b[38;5;241m*\u001b[39m\u001b[38;5;241m*\u001b[39mcost_kwargs) \u001b[38;5;28;01mif\u001b[39;00m cost_kwargs \u001b[38;5;28;01melse\u001b[39;00m \u001b[38;5;28mself\u001b[39m\u001b[38;5;241m.\u001b[39m_cost()\n\u001b[1;32m   1207\u001b[0m     \u001b[38;5;28mself\u001b[39m\u001b[38;5;241m.\u001b[39m_lca(\u001b[38;5;241m*\u001b[39m\u001b[38;5;241m*\u001b[39mlca_kwargs) \u001b[38;5;28;01mif\u001b[39;00m lca_kwargs \u001b[38;5;28;01melse\u001b[39;00m \u001b[38;5;28mself\u001b[39m\u001b[38;5;241m.\u001b[39m_lca()\n",
      "File \u001b[0;32m~/CODE/0. SSH files/jvenv/lib/python3.11/site-packages/biosteam/units/distillation.py:1887\u001b[0m, in \u001b[0;36mShortcutColumn._design\u001b[0;34m(self)\u001b[0m\n\u001b[1;32m   1886\u001b[0m \u001b[38;5;28;01mdef\u001b[39;00m\u001b[38;5;250m \u001b[39m\u001b[38;5;21m_design\u001b[39m(\u001b[38;5;28mself\u001b[39m):\n\u001b[0;32m-> 1887\u001b[0m     \u001b[38;5;28;43mself\u001b[39;49m\u001b[38;5;241;43m.\u001b[39;49m\u001b[43m_run_FenskeUnderwoodGilliland\u001b[49m\u001b[43m(\u001b[49m\u001b[43m)\u001b[49m\n\u001b[1;32m   1888\u001b[0m     \u001b[38;5;28mself\u001b[39m\u001b[38;5;241m.\u001b[39m_run_condenser_and_reboiler()\n\u001b[1;32m   1889\u001b[0m     \u001b[38;5;28mself\u001b[39m\u001b[38;5;241m.\u001b[39m_complete_distillation_column_design()\n",
      "File \u001b[0;32m~/CODE/0. SSH files/jvenv/lib/python3.11/site-packages/biosteam/units/distillation.py:1901\u001b[0m, in \u001b[0;36mShortcutColumn._run_FenskeUnderwoodGilliland\u001b[0;34m(self)\u001b[0m\n\u001b[1;32m   1897\u001b[0m distillate, bottoms \u001b[38;5;241m=\u001b[39m \u001b[38;5;28mself\u001b[39m\u001b[38;5;241m.\u001b[39mouts\n\u001b[1;32m   1898\u001b[0m Nm \u001b[38;5;241m=\u001b[39m compute_minimum_theoretical_stages_Fenske(distillate\u001b[38;5;241m.\u001b[39mmol[LHK_index],\n\u001b[1;32m   1899\u001b[0m                                                bottoms\u001b[38;5;241m.\u001b[39mmol[LHK_index],\n\u001b[1;32m   1900\u001b[0m                                                alpha_LK)\n\u001b[0;32m-> 1901\u001b[0m theta \u001b[38;5;241m=\u001b[39m \u001b[38;5;28;43mself\u001b[39;49m\u001b[38;5;241;43m.\u001b[39;49m\u001b[43m_solve_Underwood_constant\u001b[49m\u001b[43m(\u001b[49m\u001b[43malpha_mean\u001b[49m\u001b[43m,\u001b[49m\u001b[43m \u001b[49m\u001b[43malpha_LK\u001b[49m\u001b[43m)\u001b[49m\n\u001b[1;32m   1902\u001b[0m IDs \u001b[38;5;241m=\u001b[39m \u001b[38;5;28mself\u001b[39m\u001b[38;5;241m.\u001b[39m_IDs_vle\n\u001b[1;32m   1903\u001b[0m z_d \u001b[38;5;241m=\u001b[39m distillate\u001b[38;5;241m.\u001b[39mget_normalized_mol(IDs)\n",
      "File \u001b[0;32m~/CODE/0. SSH files/jvenv/lib/python3.11/site-packages/biosteam/units/distillation.py:1947\u001b[0m, in \u001b[0;36mShortcutColumn._solve_Underwood_constant\u001b[0;34m(self, alpha_mean, alpha_LK)\u001b[0m\n\u001b[1;32m   1945\u001b[0m ub \u001b[38;5;241m=\u001b[39m np\u001b[38;5;241m.\u001b[39minf\n\u001b[1;32m   1946\u001b[0m lb \u001b[38;5;241m=\u001b[39m \u001b[38;5;241m-\u001b[39mnp\u001b[38;5;241m.\u001b[39minf\n\u001b[0;32m-> 1947\u001b[0m bracket \u001b[38;5;241m=\u001b[39m \u001b[43mflx\u001b[49m\u001b[38;5;241;43m.\u001b[39;49m\u001b[43mfind_bracket\u001b[49m\u001b[43m(\u001b[49m\u001b[43mobjective_function_Underwood_constant\u001b[49m\u001b[43m,\u001b[49m\n\u001b[1;32m   1948\u001b[0m \u001b[43m                           \u001b[49m\u001b[38;5;241;43m1.0\u001b[39;49m\u001b[43m,\u001b[49m\u001b[43m \u001b[49m\u001b[43malpha_LK\u001b[49m\u001b[43m,\u001b[49m\u001b[43m \u001b[49m\u001b[43mlb\u001b[49m\u001b[43m,\u001b[49m\u001b[43m \u001b[49m\u001b[43mub\u001b[49m\u001b[43m,\u001b[49m\u001b[43m \u001b[49m\u001b[43margs\u001b[49m\u001b[43m)\u001b[49m\n\u001b[1;32m   1949\u001b[0m theta \u001b[38;5;241m=\u001b[39m flx\u001b[38;5;241m.\u001b[39mIQ_interpolation(objective_function_Underwood_constant,\n\u001b[1;32m   1950\u001b[0m                              \u001b[38;5;241m*\u001b[39mbracket, args\u001b[38;5;241m=\u001b[39margs, \u001b[38;5;241m*\u001b[39m\u001b[38;5;241m*\u001b[39m\u001b[38;5;28mself\u001b[39m\u001b[38;5;241m.\u001b[39mbounded_solver_kwargs)\n\u001b[1;32m   1951\u001b[0m \u001b[38;5;28;01mreturn\u001b[39;00m theta\n",
      "File \u001b[0;32m~/CODE/0. SSH files/jvenv/lib/python3.11/site-packages/flexsolve/bounded_solvers.py:72\u001b[0m, in \u001b[0;36mfind_bracket\u001b[0;34m(f, x0, x1, y0, y1, args, maxiter, tol)\u001b[0m\n\u001b[1;32m     70\u001b[0m             x0 \u001b[38;5;241m=\u001b[39m x\n\u001b[1;32m     71\u001b[0m             y0 \u001b[38;5;241m=\u001b[39m y\n\u001b[0;32m---> 72\u001b[0m \u001b[38;5;28;01mraise\u001b[39;00m \u001b[38;5;167;01mRuntimeError\u001b[39;00m(\u001b[38;5;124m'\u001b[39m\u001b[38;5;124mfailed to find bracket\u001b[39m\u001b[38;5;124m'\u001b[39m)\n",
      "\u001b[0;31mRuntimeError\u001b[0m: \u001b[38;2;229;63;229m<ShortcutColumn: extract_distiller>\u001b[0m failed to find bracket"
     ]
    }
   ],
   "source": [
    "import biosteam as bst\n",
    "import pandas as pd\n",
    "from OneColumn import OneColumn\n",
    "from tqdm import tqdm \n",
    "\n",
    "# Load existing results dataframe\n",
    "columns = [\n",
    "    'Stages', '_Lr1', '_Hr1', '_Lr2', '_Hr2', '_T_hex', '_Lr3', '_Hr3',\n",
    "    'Shortcut_CAPEX', 'Shortcut_OPEX', 'Shortcut_AceticAcidWt',\n",
    "    'Shortcut_BoilupRatio', 'Shortcut_SplitRatio', 'Shortcut_NumberStages', 'Shortcut_FeedStage',\n",
    "    'Rigorous_CAPEX', 'Rigorous_OPEX', 'Rigorous_AceticAcidWt'\n",
    "]\n",
    "results = pd.read_csv('/users/k23070952/MultiFidelity-ProcessOpt/1. Code/results.csv')\n",
    "results_df = pd.DataFrame(results.values, columns=columns)\n",
    "\n",
    "# Filter out invalid or NaN results for CAPEX\n",
    "valid_results = results_df.dropna(subset=['Shortcut_AceticAcidWt', 'Rigorous_AceticAcidWt'])\n",
    "valid_results = valid_results[(valid_results['Shortcut_AceticAcidWt'] > 0) & (valid_results['Rigorous_AceticAcidWt'] > 0) &\n",
    "                                (valid_results['Shortcut_AceticAcidWt'] < 1) & (valid_results['Rigorous_AceticAcidWt'] < 1)]\n",
    "\n",
    "\n",
    "# Compute CAPEX, OPEX, and Acetic Acid purity for each row\n",
    "capex_list = []\n",
    "opex_list = []\n",
    "purity_list = []\n",
    "\n",
    "for index, row in tqdm(results_df.iterrows()):\n",
    "    Lr, Hr = row['_Lr1'], row['_Hr1']\n",
    "    capex, opex, purity = OneColumn(Lr, Hr)\n",
    "    capex_list.append(capex)\n",
    "    opex_list.append(opex)\n",
    "    purity_list.append(purity)\n",
    "\n",
    "# Append new results to the dataframe\n",
    "results_df['OneColumn_CAPEX'] = capex_list\n",
    "results_df['OneColumn_OPEX'] = opex_list\n",
    "results_df['OneColumn_AceticAcid_Purity'] = purity_list\n",
    "\n",
    "# Save updated dataframe\n",
    "results_df.to_csv('./OneColumn_results.csv', index=False)"
   ]
  },
  {
   "cell_type": "code",
   "execution_count": 23,
   "metadata": {},
   "outputs": [
    {
     "data": {
      "text/html": [
       "<div>\n",
       "<style scoped>\n",
       "    .dataframe tbody tr th:only-of-type {\n",
       "        vertical-align: middle;\n",
       "    }\n",
       "\n",
       "    .dataframe tbody tr th {\n",
       "        vertical-align: top;\n",
       "    }\n",
       "\n",
       "    .dataframe thead th {\n",
       "        text-align: right;\n",
       "    }\n",
       "</style>\n",
       "<table border=\"1\" class=\"dataframe\">\n",
       "  <thead>\n",
       "    <tr style=\"text-align: right;\">\n",
       "      <th></th>\n",
       "      <th>Stages</th>\n",
       "      <th>_Lr1</th>\n",
       "      <th>_Hr1</th>\n",
       "      <th>_Lr2</th>\n",
       "      <th>_Hr2</th>\n",
       "      <th>...</th>\n",
       "      <th>Shortcut_NumberStages</th>\n",
       "      <th>Shortcut_FeedStage</th>\n",
       "      <th>Rigorous_CAPEX</th>\n",
       "      <th>Rigorous_OPEX</th>\n",
       "      <th>Rigorous_AceticAcidWt</th>\n",
       "    </tr>\n",
       "  </thead>\n",
       "  <tbody>\n",
       "    <tr>\n",
       "      <th>195</th>\n",
       "      <td>10</td>\n",
       "      <td>0.986</td>\n",
       "      <td>0.938</td>\n",
       "      <td>0.203</td>\n",
       "      <td>0.339</td>\n",
       "      <td>...</td>\n",
       "      <td>12</td>\n",
       "      <td>8</td>\n",
       "      <td>1.28</td>\n",
       "      <td>1.39</td>\n",
       "      <td>0.313</td>\n",
       "    </tr>\n",
       "    <tr>\n",
       "      <th>469</th>\n",
       "      <td>39</td>\n",
       "      <td>0.951</td>\n",
       "      <td>0.963</td>\n",
       "      <td>0.863</td>\n",
       "      <td>0.567</td>\n",
       "      <td>...</td>\n",
       "      <td>10</td>\n",
       "      <td>8</td>\n",
       "      <td>2.3</td>\n",
       "      <td>5.96</td>\n",
       "      <td>0.509</td>\n",
       "    </tr>\n",
       "    <tr>\n",
       "      <th>822</th>\n",
       "      <td>42</td>\n",
       "      <td>0.997</td>\n",
       "      <td>0.996</td>\n",
       "      <td>0.52</td>\n",
       "      <td>0.77</td>\n",
       "      <td>...</td>\n",
       "      <td>19</td>\n",
       "      <td>14</td>\n",
       "      <td>1.6</td>\n",
       "      <td>1</td>\n",
       "      <td>0.789</td>\n",
       "    </tr>\n",
       "    <tr>\n",
       "      <th>832</th>\n",
       "      <td>13</td>\n",
       "      <td>0.997</td>\n",
       "      <td>0.978</td>\n",
       "      <td>0.61</td>\n",
       "      <td>0.267</td>\n",
       "      <td>...</td>\n",
       "      <td>16</td>\n",
       "      <td>10</td>\n",
       "      <td>1.79</td>\n",
       "      <td>2.64</td>\n",
       "      <td>0.659</td>\n",
       "    </tr>\n",
       "    <tr>\n",
       "      <th>900</th>\n",
       "      <td>33</td>\n",
       "      <td>0.975</td>\n",
       "      <td>0.98</td>\n",
       "      <td>0.962</td>\n",
       "      <td>0.408</td>\n",
       "      <td>...</td>\n",
       "      <td>11</td>\n",
       "      <td>8</td>\n",
       "      <td>1.74</td>\n",
       "      <td>1.5</td>\n",
       "      <td>0.78</td>\n",
       "    </tr>\n",
       "    <tr>\n",
       "      <th>1183</th>\n",
       "      <td>39</td>\n",
       "      <td>0.999</td>\n",
       "      <td>0.944</td>\n",
       "      <td>0.513</td>\n",
       "      <td>0.768</td>\n",
       "      <td>...</td>\n",
       "      <td>18</td>\n",
       "      <td>7</td>\n",
       "      <td>5.65</td>\n",
       "      <td>26.7</td>\n",
       "      <td>0.419</td>\n",
       "    </tr>\n",
       "    <tr>\n",
       "      <th>1454</th>\n",
       "      <td>25</td>\n",
       "      <td>0.985</td>\n",
       "      <td>0.959</td>\n",
       "      <td>0.626</td>\n",
       "      <td>0.224</td>\n",
       "      <td>...</td>\n",
       "      <td>12</td>\n",
       "      <td>8</td>\n",
       "      <td>2.23</td>\n",
       "      <td>6.63</td>\n",
       "      <td>0.344</td>\n",
       "    </tr>\n",
       "    <tr>\n",
       "      <th>1475</th>\n",
       "      <td>33</td>\n",
       "      <td>0.997</td>\n",
       "      <td>0.995</td>\n",
       "      <td>0.722</td>\n",
       "      <td>0.84</td>\n",
       "      <td>...</td>\n",
       "      <td>19</td>\n",
       "      <td>14</td>\n",
       "      <td>1.81</td>\n",
       "      <td>1.95</td>\n",
       "      <td>0.887</td>\n",
       "    </tr>\n",
       "    <tr>\n",
       "      <th>1523</th>\n",
       "      <td>37</td>\n",
       "      <td>0.99</td>\n",
       "      <td>0.928</td>\n",
       "      <td>0.415</td>\n",
       "      <td>0.348</td>\n",
       "      <td>...</td>\n",
       "      <td>13</td>\n",
       "      <td>8</td>\n",
       "      <td>1.34</td>\n",
       "      <td>1.26</td>\n",
       "      <td>0.471</td>\n",
       "    </tr>\n",
       "  </tbody>\n",
       "</table>\n",
       "<p>9 rows × 18 columns</p>\n",
       "</div>"
      ],
      "text/plain": [
       "      Stages  _Lr1  _Hr1  _Lr2  _Hr2  ...  Shortcut_NumberStages  Shortcut_FeedStage  Rigorous_CAPEX  Rigorous_OPEX  Rigorous_AceticAcidWt\n",
       "195       10 0.986 0.938 0.203 0.339  ...                     12                   8            1.28           1.39                  0.313\n",
       "469       39 0.951 0.963 0.863 0.567  ...                     10                   8             2.3           5.96                  0.509\n",
       "822       42 0.997 0.996  0.52  0.77  ...                     19                  14             1.6              1                  0.789\n",
       "832       13 0.997 0.978  0.61 0.267  ...                     16                  10            1.79           2.64                  0.659\n",
       "900       33 0.975  0.98 0.962 0.408  ...                     11                   8            1.74            1.5                   0.78\n",
       "1183      39 0.999 0.944 0.513 0.768  ...                     18                   7            5.65           26.7                  0.419\n",
       "1454      25 0.985 0.959 0.626 0.224  ...                     12                   8            2.23           6.63                  0.344\n",
       "1475      33 0.997 0.995 0.722  0.84  ...                     19                  14            1.81           1.95                  0.887\n",
       "1523      37  0.99 0.928 0.415 0.348  ...                     13                   8            1.34           1.26                  0.471\n",
       "\n",
       "[9 rows x 18 columns]"
      ]
     },
     "execution_count": 23,
     "metadata": {},
     "output_type": "execute_result"
    }
   ],
   "source": [
    "valid_results = valid_results[(valid_results['_Lr1'] > 0.95) & (valid_results['_Hr1'] > 0.90) ]\n",
    "valid_results"
   ]
  }
 ],
 "metadata": {
  "kernelspec": {
   "display_name": "Python 3 (ipykernel)",
   "language": "python",
   "name": "python3"
  }
 },
 "nbformat": 4,
 "nbformat_minor": 2
}
