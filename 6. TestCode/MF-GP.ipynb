{
 "cells": [
  {
   "cell_type": "code",
   "execution_count": 1,
   "metadata": {},
   "outputs": [
    {
     "name": "stdout",
     "output_type": "stream",
     "text": [
      "Defaulting to user installation because normal site-packages is not writeable\n",
      "Collecting emukit\n",
      "  Downloading emukit-0.4.11.tar.gz (170 kB)\n",
      "  Installing build dependencies ... \u001b[?25ldone\n",
      "\u001b[?25h  Getting requirements to build wheel ... \u001b[?25ldone\n",
      "\u001b[?25h  Preparing metadata (pyproject.toml) ... \u001b[?25ldone\n",
      "\u001b[?25hCollecting gpy\n",
      "  Downloading GPy-1.13.2-cp312-cp312-macosx_10_9_universal2.whl.metadata (2.3 kB)\n",
      "Requirement already satisfied: setuptools>=40.8.0 in /Users/k23070952/.local/lib/python3.12/site-packages (from emukit) (75.5.0)\n",
      "Requirement already satisfied: numpy>=1.23 in /Users/k23070952/.local/lib/python3.12/site-packages (from emukit) (1.26.4)\n",
      "Requirement already satisfied: matplotlib>=3.9 in /Users/k23070952/.local/lib/python3.12/site-packages (from emukit) (3.9.2)\n",
      "Collecting emcee>=2.2.1 (from emukit)\n",
      "  Downloading emcee-3.1.6-py2.py3-none-any.whl.metadata (3.0 kB)\n",
      "Requirement already satisfied: scipy>=1.1.0 in /Users/k23070952/.local/lib/python3.12/site-packages (from emukit) (1.13.1)\n",
      "Requirement already satisfied: six in /opt/anaconda3/envs/lca/lib/python3.12/site-packages (from gpy) (1.16.0)\n",
      "Collecting paramz>=0.9.6 (from gpy)\n",
      "  Downloading paramz-0.9.6-py3-none-any.whl.metadata (1.4 kB)\n",
      "Collecting cython>=0.29 (from gpy)\n",
      "  Using cached Cython-3.0.12-py2.py3-none-any.whl.metadata (3.3 kB)\n",
      "Collecting scipy>=1.1.0 (from emukit)\n",
      "  Downloading scipy-1.12.0-cp312-cp312-macosx_12_0_arm64.whl.metadata (217 kB)\n",
      "Requirement already satisfied: contourpy>=1.0.1 in /Users/k23070952/.local/lib/python3.12/site-packages (from matplotlib>=3.9->emukit) (1.3.0)\n",
      "Requirement already satisfied: cycler>=0.10 in /Users/k23070952/.local/lib/python3.12/site-packages (from matplotlib>=3.9->emukit) (0.12.1)\n",
      "Requirement already satisfied: fonttools>=4.22.0 in /Users/k23070952/.local/lib/python3.12/site-packages (from matplotlib>=3.9->emukit) (4.54.1)\n",
      "Requirement already satisfied: kiwisolver>=1.3.1 in /Users/k23070952/.local/lib/python3.12/site-packages (from matplotlib>=3.9->emukit) (1.4.7)\n",
      "Requirement already satisfied: packaging>=20.0 in /opt/anaconda3/envs/lca/lib/python3.12/site-packages (from matplotlib>=3.9->emukit) (24.1)\n",
      "Requirement already satisfied: pillow>=8 in /Users/k23070952/.local/lib/python3.12/site-packages (from matplotlib>=3.9->emukit) (10.4.0)\n",
      "Requirement already satisfied: pyparsing>=2.3.1 in /Users/k23070952/.local/lib/python3.12/site-packages (from matplotlib>=3.9->emukit) (3.1.4)\n",
      "Requirement already satisfied: python-dateutil>=2.7 in /opt/anaconda3/envs/lca/lib/python3.12/site-packages (from matplotlib>=3.9->emukit) (2.9.0.post0)\n",
      "Requirement already satisfied: decorator>=4.0.10 in /opt/anaconda3/envs/lca/lib/python3.12/site-packages (from paramz>=0.9.6->gpy) (5.1.1)\n",
      "Downloading GPy-1.13.2-cp312-cp312-macosx_10_9_universal2.whl (1.9 MB)\n",
      "\u001b[2K   \u001b[90m━━━━━━━━━━━━━━━━━━━━━━━━━━━━━━━━━━━━━━━━\u001b[0m \u001b[32m1.9/1.9 MB\u001b[0m \u001b[31m42.3 MB/s\u001b[0m eta \u001b[36m0:00:00\u001b[0m\n",
      "\u001b[?25hUsing cached Cython-3.0.12-py2.py3-none-any.whl (1.2 MB)\n",
      "Downloading emcee-3.1.6-py2.py3-none-any.whl (47 kB)\n",
      "Downloading paramz-0.9.6-py3-none-any.whl (103 kB)\n",
      "Downloading scipy-1.12.0-cp312-cp312-macosx_12_0_arm64.whl (31.4 MB)\n",
      "\u001b[2K   \u001b[90m━━━━━━━━━━━━━━━━━━━━━━━━━━━━━━━━━━━━━━━━\u001b[0m \u001b[32m31.4/31.4 MB\u001b[0m \u001b[31m94.7 MB/s\u001b[0m eta \u001b[36m0:00:00\u001b[0ma \u001b[36m0:00:01\u001b[0m\n",
      "\u001b[?25hBuilding wheels for collected packages: emukit\n",
      "  Building wheel for emukit (pyproject.toml) ... \u001b[?25ldone\n",
      "\u001b[?25h  Created wheel for emukit: filename=emukit-0.4.11-py3-none-any.whl size=267642 sha256=7bf4dc7e34c20e897ecd5cdfe203267a896405da799c3068641c9df284f223b6\n",
      "  Stored in directory: /Users/k23070952/Library/Caches/pip/wheels/9a/3a/a0/ce4fcbf31ff55fe58127ce550b81b6f4ff7b00b49b002a88e5\n",
      "Successfully built emukit\n",
      "Installing collected packages: scipy, emcee, cython, paramz, gpy, emukit\n",
      "  Attempting uninstall: scipy\n",
      "    Found existing installation: scipy 1.13.1\n",
      "    Uninstalling scipy-1.13.1:\n",
      "      Successfully uninstalled scipy-1.13.1\n",
      "\u001b[33m  WARNING: The scripts cygdb, cython and cythonize are installed in '/Users/k23070952/.local/bin' which is not on PATH.\n",
      "  Consider adding this directory to PATH or, if you prefer to suppress this warning, use --no-warn-script-location.\u001b[0m\u001b[33m\n",
      "\u001b[0m\u001b[31mERROR: pip's dependency resolver does not currently take into account all the packages that are installed. This behaviour is the source of the following dependency conflicts.\n",
      "ultralytics 8.3.78 requires py-cpuinfo, which is not installed.\n",
      "coxkan 0.0.2 requires pykan==0.0.2, but you have pykan 0.2.7 which is incompatible.\n",
      "coxkan 0.0.2 requires scipy>=1.13.1, but you have scipy 1.12.0 which is incompatible.\u001b[0m\u001b[31m\n",
      "\u001b[0mSuccessfully installed cython-3.0.12 emcee-3.1.6 emukit-0.4.11 gpy-1.13.2 paramz-0.9.6 scipy-1.12.0\n",
      "\n",
      "\u001b[1m[\u001b[0m\u001b[34;49mnotice\u001b[0m\u001b[1;39;49m]\u001b[0m\u001b[39;49m A new release of pip is available: \u001b[0m\u001b[31;49m24.3.1\u001b[0m\u001b[39;49m -> \u001b[0m\u001b[32;49m25.0.1\u001b[0m\n",
      "\u001b[1m[\u001b[0m\u001b[34;49mnotice\u001b[0m\u001b[1;39;49m]\u001b[0m\u001b[39;49m To update, run: \u001b[0m\u001b[32;49mpip install --upgrade pip\u001b[0m\n",
      "Note: you may need to restart the kernel to use updated packages.\n"
     ]
    }
   ],
   "source": [
    "pip install emukit gpy\n"
   ]
  },
  {
   "cell_type": "code",
   "execution_count": 39,
   "metadata": {},
   "outputs": [],
   "source": [
    "import numpy as np\n",
    "import matplotlib.pyplot as plt\n",
    "from matplotlib import colors as mcolors"
   ]
  },
  {
   "cell_type": "code",
   "execution_count": 40,
   "metadata": {},
   "outputs": [],
   "source": [
    "colors = dict(mcolors.BASE_COLORS, **mcolors.CSS4_COLORS)\n",
    "%matplotlib inline\n",
    "\n",
    "np.random.seed(20)"
   ]
  },
  {
   "cell_type": "code",
   "execution_count": null,
   "metadata": {},
   "outputs": [],
   "source": []
  },
  {
   "cell_type": "code",
   "execution_count": null,
   "metadata": {},
   "outputs": [],
   "source": []
  },
  {
   "cell_type": "code",
   "execution_count": null,
   "metadata": {},
   "outputs": [],
   "source": []
  },
  {
   "cell_type": "code",
   "execution_count": null,
   "metadata": {},
   "outputs": [],
   "source": []
  },
  {
   "cell_type": "code",
   "execution_count": null,
   "metadata": {},
   "outputs": [],
   "source": []
  },
  {
   "cell_type": "code",
   "execution_count": null,
   "metadata": {},
   "outputs": [],
   "source": []
  },
  {
   "cell_type": "code",
   "execution_count": null,
   "metadata": {},
   "outputs": [],
   "source": []
  },
  {
   "cell_type": "code",
   "execution_count": null,
   "metadata": {},
   "outputs": [],
   "source": []
  },
  {
   "cell_type": "code",
   "execution_count": null,
   "metadata": {},
   "outputs": [],
   "source": []
  },
  {
   "cell_type": "code",
   "execution_count": null,
   "metadata": {},
   "outputs": [],
   "source": []
  },
  {
   "cell_type": "code",
   "execution_count": null,
   "metadata": {},
   "outputs": [],
   "source": []
  }
 ],
 "metadata": {
  "kernelspec": {
   "display_name": "lca",
   "language": "python",
   "name": "python3"
  },
  "language_info": {
   "codemirror_mode": {
    "name": "ipython",
    "version": 3
   },
   "file_extension": ".py",
   "mimetype": "text/x-python",
   "name": "python",
   "nbconvert_exporter": "python",
   "pygments_lexer": "ipython3",
   "version": "3.12.7"
  }
 },
 "nbformat": 4,
 "nbformat_minor": 2
}
