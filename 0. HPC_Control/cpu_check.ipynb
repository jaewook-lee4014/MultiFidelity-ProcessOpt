{
 "cells": [
  {
   "cell_type": "code",
   "execution_count": 4,
   "metadata": {},
   "outputs": [
    {
     "name": "stdout",
     "output_type": "stream",
     "text": [
      "Thu Mar 27 21:17:47 2025       \n",
      "+---------------------------------------------------------------------------------------+\n",
      "| NVIDIA-SMI 535.183.01             Driver Version: 535.183.01   CUDA Version: 12.2     |\n",
      "|-----------------------------------------+----------------------+----------------------+\n",
      "| GPU  Name                 Persistence-M | Bus-Id        Disp.A | Volatile Uncorr. ECC |\n",
      "| Fan  Temp   Perf          Pwr:Usage/Cap |         Memory-Usage | GPU-Util  Compute M. |\n",
      "|                                         |                      |               MIG M. |\n",
      "|=========================================+======================+======================|\n",
      "|   0  NVIDIA A100-SXM4-40GB          On  | 00000000:31:00.0 Off |                    0 |\n",
      "| N/A   35C    P0              80W / 400W |   1064MiB / 40960MiB |     99%      Default |\n",
      "|                                         |                      |             Disabled |\n",
      "+-----------------------------------------+----------------------+----------------------+\n",
      "                                                                                         \n",
      "+---------------------------------------------------------------------------------------+\n",
      "| Processes:                                                                            |\n",
      "|  GPU   GI   CI        PID   Type   Process name                            GPU Memory |\n",
      "|        ID   ID                                                             Usage      |\n",
      "|=======================================================================================|\n",
      "|    0   N/A  N/A   1999816      C   ...crcsmws4afls5thwoskzarhe/bin/python      524MiB |\n",
      "|    0   N/A  N/A   1999817      C   ...crcsmws4afls5thwoskzarhe/bin/python      524MiB |\n",
      "+---------------------------------------------------------------------------------------+\n"
     ]
    }
   ],
   "source": [
    "!nvidia-smi"
   ]
  },
  {
   "cell_type": "code",
   "execution_count": 6,
   "metadata": {},
   "outputs": [
    {
     "name": "stdout",
     "output_type": "stream",
     "text": [
      "Total CPU cores (logical): 128\n",
      "Total CPU cores (physical): 128\n",
      "SLURM allocated CPUs: 64\n",
      "CPU utilization per core: [1.5, 13.9, 1.6, 2.3, 0.7, 97.7, 0.9, 0.8, 4.4, 3.9, 0.1, 3.6, 3.0, 3.6, 1.9, 2.1, 0.3, 97.9, 0.3, 0.3, 97.3, 1.1, 0.0, 2.7, 4.9, 0.5, 2.8, 0.0, 3.6, 2.9, 3.6, 0.0, 3.2, 2.8, 0.0, 3.0, 98.6, 0.8, 0.6, 0.0, 3.8, 2.9, 0.0, 73.4, 3.1, 1.8, 3.5, 1.9, 98.1, 1.2, 0.0, 0.4, 3.6, 0.0, 2.3, 2.1, 97.8, 1.4, 0.9, 0.0, 26.7, 34.2, 0.1, 0.1, 1.4, 0.5, 0.6, 25.1, 0.8, 98.6, 0.1, 0.1, 98.0, 26.7, 98.0, 97.6, 21.5, 99.2, 8.8, 0.2, 25.0, 49.7, 0.2, 25.8, 44.2, 0.2, 0.3, 98.4, 0.2, 0.2, 0.2, 0.4, 0.1, 0.2, 0.2, 0.2, 0.4, 0.5, 0.2, 0.7, 0.6, 0.2, 0.2, 0.1, 0.2, 12.4, 17.4, 36.4, 0.1, 99.0, 0.1, 0.1, 100.0, 0.1, 0.2, 65.2, 0.2, 98.2, 0.2, 34.3, 60.1, 70.2, 59.7, 40.1, 1.4, 99.3, 0.1, 0.2]\n",
      "Max processes supported: 128\n",
      "CPU Frequency: 2000.00 MHz (Max), 1500.00 MHz (Min), 1871.04 MHz (Current)\n",
      "CPU Cache: cache size\t: 512 KB\n"
     ]
    }
   ],
   "source": [
    "import os\n",
    "import psutil\n",
    "import multiprocessing\n",
    "\n",
    "def get_cpu_info():\n",
    "    print(f\"Total CPU cores (logical): {os.cpu_count()}\")\n",
    "    print(f\"Total CPU cores (physical): {psutil.cpu_count(logical=False)}\")\n",
    "\n",
    "    # SLURM 환경일 경우 확인\n",
    "    slurm_cpus = os.getenv(\"SLURM_CPUS_ON_NODE\")\n",
    "    if slurm_cpus:\n",
    "        print(f\"SLURM allocated CPUs: {slurm_cpus}\")\n",
    "\n",
    "    # 프로세서별 사용률 확인\n",
    "    print(f\"CPU utilization per core: {psutil.cpu_percent(percpu=True)}\")\n",
    "\n",
    "    # 현재 프로세스가 사용할 수 있는 CPU 개수\n",
    "    print(f\"Max processes supported: {multiprocessing.cpu_count()}\")\n",
    "\n",
    "    # CPU 클럭 속도\n",
    "    freq = psutil.cpu_freq()\n",
    "    if freq:\n",
    "        print(f\"CPU Frequency: {freq.max:.2f} MHz (Max), {freq.min:.2f} MHz (Min), {freq.current:.2f} MHz (Current)\")\n",
    "\n",
    "    # CPU 캐시 정보 (리눅스 한정)\n",
    "    if os.path.exists(\"/proc/cpuinfo\"):\n",
    "        with open(\"/proc/cpuinfo\", \"r\") as f:\n",
    "            lines = f.readlines()\n",
    "            for line in lines:\n",
    "                if \"cache size\" in line:\n",
    "                    print(f\"CPU Cache: {line.strip()}\")\n",
    "                    break  # 한 번만 출력\n",
    "\n",
    "get_cpu_info()\n"
   ]
  },
  {
   "cell_type": "code",
   "execution_count": 48,
   "metadata": {},
   "outputs": [
    {
     "name": "stdout",
     "output_type": "stream",
     "text": [
      "Total CPU cores (logical): 32\n",
      "Total CPU cores (physical): 32\n",
      "SLURM allocated CPUs: 4\n",
      "CPU utilization per core: [75.7, 0.3, 83.9, 0.1, 0.2, 0.1, 0.0, 0.1, 0.4, 0.2, 0.8, 0.1, 0.1, 0.1, 0.6, 0.0, 0.8, 0.2, 0.0, 0.2, 0.5, 4.5, 0.0, 2.4, 0.5, 2.9, 0.0, 2.7, 0.3, 0.0, 0.1, 0.1]\n",
      "Max processes supported: 32\n",
      "CPU Frequency: 3700.00 MHz (Max), 1000.00 MHz (Min), 1159.40 MHz (Current)\n",
      "CPU Cache: cache size\t: 22528 KB\n"
     ]
    }
   ],
   "source": [
    "import os\n",
    "import psutil\n",
    "import multiprocessing\n",
    "\n",
    "def get_cpu_info():\n",
    "    print(f\"Total CPU cores (logical): {os.cpu_count()}\")\n",
    "    print(f\"Total CPU cores (physical): {psutil.cpu_count(logical=False)}\")\n",
    "\n",
    "    # SLURM 환경일 경우 확인\n",
    "    slurm_cpus = os.getenv(\"SLURM_CPUS_ON_NODE\")\n",
    "    if slurm_cpus:\n",
    "        print(f\"SLURM allocated CPUs: {slurm_cpus}\")\n",
    "\n",
    "    # 프로세서별 사용률 확인\n",
    "    print(f\"CPU utilization per core: {psutil.cpu_percent(percpu=True)}\")\n",
    "\n",
    "    # 현재 프로세스가 사용할 수 있는 CPU 개수\n",
    "    print(f\"Max processes supported: {multiprocessing.cpu_count()}\")\n",
    "\n",
    "    # CPU 클럭 속도\n",
    "    freq = psutil.cpu_freq()\n",
    "    if freq:\n",
    "        print(f\"CPU Frequency: {freq.max:.2f} MHz (Max), {freq.min:.2f} MHz (Min), {freq.current:.2f} MHz (Current)\")\n",
    "\n",
    "    # CPU 캐시 정보 (리눅스 한정)\n",
    "    if os.path.exists(\"/proc/cpuinfo\"):\n",
    "        with open(\"/proc/cpuinfo\", \"r\") as f:\n",
    "            lines = f.readlines()\n",
    "            for line in lines:\n",
    "                if \"cache size\" in line:\n",
    "                    print(f\"CPU Cache: {line.strip()}\")\n",
    "                    break  # 한 번만 출력\n",
    "\n",
    "get_cpu_info()"
   ]
  },
  {
   "cell_type": "markdown",
   "metadata": {},
   "source": [
    "## Multi-processing Test\n"
   ]
  },
  {
   "cell_type": "code",
   "execution_count": 1,
   "metadata": {},
   "outputs": [
    {
     "name": "stdout",
     "output_type": "stream",
     "text": [
      "Using 64 CPUs for parallel processing.\n",
      "Task started on CPU 2Task started on CPU 0Task started on CPU 1\n",
      "\n",
      "\n",
      "Task started on CPU 3\n",
      "Monitoring CPU usage...\n",
      "CPU Usage: [0.0, 13.3, 0.0, 0.0, 0.0, 100.0, 0.0, 0.0, 0.0, 0.0, 0.0, 4.4, 0.0, 0.0, 0.0, 16.3, 0.0, 100.0, 0.0, 0.0, 100.0, 0.0, 0.0, 0.0, 2.3, 0.0, 2.2, 0.0, 0.0, 0.0, 6.7, 0.0, 28.3, 0.0, 0.0, 2.3, 100.0, 0.0, 0.0, 0.0, 2.2, 6.8, 0.0, 0.0, 0.0, 2.2, 0.0, 0.0, 100.0, 0.0, 0.0, 0.0, 0.0, 0.0, 0.0, 2.3, 100.0, 2.2, 0.0, 0.0, 100.0, 0.0, 0.0, 0.0, 0.0, 0.0, 0.0, 0.0, 0.0, 100.0, 0.0, 4.4, 100.0, 4.5, 100.0, 100.0, 100.0, 100.0, 6.5, 0.0, 0.0, 100.0, 0.0, 0.0, 100.0, 0.0, 0.0, 100.0, 2.2, 0.0, 0.0, 0.0, 0.0, 0.0, 0.0, 0.0, 0.0, 0.0, 2.2, 0.0, 0.0, 0.0, 0.0, 0.0, 0.0, 0.0, 100.0, 0.0, 0.0, 100.0, 0.0, 0.0, 100.0, 0.0, 0.0, 100.0, 0.0, 100.0, 0.0, 11.1, 0.0, 100.0, 100.0, 0.0, 0.0, 100.0, 0.0, 0.0]\n"
     ]
    },
    {
     "name": "stdout",
     "output_type": "stream",
     "text": [
      "CPU Usage: [0.0, 1.0, 0.0, 0.0, 0.0, 100.0, 0.0, 0.0, 0.0, 0.0, 0.0, 100.0, 0.0, 0.0, 0.0, 0.0, 0.0, 100.0, 0.0, 0.0, 100.0, 0.0, 0.0, 0.0, 0.0, 0.0, 100.0, 0.0, 0.0, 0.0, 100.0, 0.0, 1.0, 0.0, 0.0, 0.0, 100.0, 0.0, 0.0, 0.0, 0.0, 0.0, 0.0, 0.0, 1.0, 0.0, 0.0, 0.0, 100.0, 0.0, 0.0, 0.0, 0.0, 0.0, 0.0, 100.0, 100.0, 0.0, 0.0, 0.0, 100.0, 0.0, 0.0, 0.0, 0.0, 0.0, 0.0, 7.0, 1.0, 100.0, 0.0, 0.0, 100.0, 0.0, 100.0, 100.0, 100.0, 100.0, 0.0, 1.0, 1.0, 100.0, 0.0, 0.0, 99.0, 0.0, 0.0, 100.0, 0.0, 1.0, 0.0, 0.0, 0.0, 0.0, 0.0, 0.0, 0.0, 0.0, 0.0, 0.0, 0.0, 0.0, 0.0, 0.0, 0.0, 0.0, 100.0, 1.0, 1.0, 100.0, 1.0, 1.0, 100.0, 0.0, 0.0, 100.0, 0.0, 100.0, 0.0, 0.0, 0.0, 99.0, 100.0, 1.0, 4.0, 100.0, 0.0, 0.0]\n",
      "Task completed on CPU 0 in 1.27 seconds\n",
      "Task completed on CPU 1 in 1.27 seconds\n",
      "Task completed on CPU 2 in 1.29 seconds\n",
      "Task completed on CPU 3 in 1.29 seconds\n",
      "All tasks completed.\n",
      "Task completed in 1.38 seconds\n"
     ]
    }
   ],
   "source": [
    "import os\n",
    "import time\n",
    "import psutil\n",
    "import multiprocessing\n",
    "\n",
    "# CPU 개수 확인\n",
    "num_cpus = int(os.getenv(\"SLURM_CPUS_ON_NODE\", multiprocessing.cpu_count()))\n",
    "print(f\"Using {num_cpus} CPUs for parallel processing.\")\n",
    "\n",
    "# 개별 CPU에서 실행할 연산 함수\n",
    "def cpu_task(cpu_id):\n",
    "    print(f\"Task started on CPU {cpu_id}\")\n",
    "    start_time = time.time()\n",
    "    \n",
    "    # CPU 부하를 걸기 위한 계산 작업 (큰 수의 제곱 연산)\n",
    "    _ = sum(x**2 for x in range(10**7))\n",
    "    \n",
    "    end_time = time.time()\n",
    "    print(f\"Task completed on CPU {cpu_id} in {end_time - start_time:.2f} seconds\")\n",
    "\n",
    "# CPU 사용률 실시간 모니터링 함수\n",
    "def monitor_cpu_usage(duration=10, interval=1):\n",
    "    print(\"Monitoring CPU usage...\")\n",
    "    \n",
    "    \n",
    "    for _ in range(duration // interval):\n",
    "        usage = psutil.cpu_percent(percpu=True)\n",
    "        print(f\"CPU Usage: {usage}\")\n",
    "        time.sleep(interval)\n",
    "\n",
    "if __name__ == \"__main__\":\n",
    "    # 작업을 각 CPU에 할당\n",
    "    processes = []\n",
    "    start_time = time.time()\n",
    "    for i in range(4):\n",
    "        p = multiprocessing.Process(target=cpu_task, args=(i,))\n",
    "        processes.append(p)\n",
    "        p.start()\n",
    "\n",
    "    # CPU 사용률 모니터링을 별도의 프로세스로 실행\n",
    "    monitor_process = multiprocessing.Process(target=monitor_cpu_usage)\n",
    "    monitor_process.start()\n",
    "\n",
    "    # 모든 작업이 끝날 때까지 대기\n",
    "    for p in processes:\n",
    "        p.join()\n",
    "\n",
    "    monitor_process.terminate()\n",
    "    print(\"All tasks completed.\")\n",
    "    end_time = time.time()\n",
    "    print(f\"Task completed in {end_time - start_time:.2f} seconds\")"
   ]
  },
  {
   "cell_type": "code",
   "execution_count": 2,
   "metadata": {},
   "outputs": [],
   "source": [
    "import numpy as np\n",
    "\n",
    "# 임의의 비선형 목적 함수 정의\n",
    "def objective_function(params):\n",
    "    stages, lk_ex, hk_ex, lk_acid, hk_acid, temp_hx, lk_rdf, hk_rdf = params\n",
    "\n",
    "    # 복잡한 함수 예시 (비선형 조합)\n",
    "    score = (\n",
    "        np.sin(stages / 10) * np.exp(-lk_ex) +\n",
    "        np.cos(hk_ex * np.pi) * np.log1p(lk_acid) +\n",
    "        np.tanh(hk_acid) * np.sqrt(temp_hx - 273) +\n",
    "        np.sin(lk_rdf * 10) + np.cos(hk_rdf * 10)\n",
    "    )\n",
    "\n",
    "    return score\n"
   ]
  },
  {
   "cell_type": "code",
   "execution_count": 3,
   "metadata": {},
   "outputs": [
    {
     "name": "stdout",
     "output_type": "stream",
     "text": [
      "Total search space: 100000000 combinations\n"
     ]
    }
   ],
   "source": [
    "import itertools\n",
    "\n",
    "# Define the bounds as per the given function\n",
    "bounds = [\n",
    "    (10, 50),           # Number of stages in extractor\n",
    "    (0, 0.9999), (0, 0.9999),  # Light key, heavy key for extract distiller\n",
    "    (0, 0.9999), (0, 0.9999),  # Light key, heavy key for acetic_acid_purification\n",
    "    (273, 350),         # Temperature for HX\n",
    "    (0, 0.9999), (0, 0.9999)   # Light key, heavy key for raffinate distiller\n",
    "]\n",
    "\n",
    "# 각 파라미터를 10개의 그리드로 나누기\n",
    "grid_points = [np.linspace(low, high, 10) for low, high in bounds]\n",
    "\n",
    "# 가능한 모든 조합 생성 (그리드 서치)\n",
    "param_combinations = list(itertools.product(*grid_points))\n",
    "\n",
    "print(f\"Total search space: {len(param_combinations)} combinations\")\n"
   ]
  },
  {
   "cell_type": "code",
   "execution_count": 10,
   "metadata": {},
   "outputs": [
    {
     "name": "stdout",
     "output_type": "stream",
     "text": [
      "SLURM allocated 64 CPUs\n",
      "CPU Usage per allocated core: [0.0, 2.1, 0.0, 0.0, 0.0, 100.0, 0.0, 0.0, 0.0, 0.0, 0.0, 0.0, 0.0, 0.0, 0.0, 0.0, 0.0, 100.0, 0.0, 0.0, 100.0, 0.0, 0.0, 0.0, 0.0, 0.0, 2.2, 0.0, 0.0, 0.0, 0.0, 0.0, 2.2, 0.0, 0.0, 0.0, 100.0, 0.0, 0.0, 0.0, 0.0, 0.0, 0.0, 0.0, 0.0, 0.0, 0.0, 0.0, 100.0, 0.0, 0.0, 0.0, 0.0, 0.0, 0.0, 0.0, 100.0, 0.0, 0.0, 100.0, 0.0, 100.0, 0.0, 0.0]\n"
     ]
    }
   ],
   "source": [
    "import os\n",
    "import psutil\n",
    "\n",
    "num_cpus = int(os.getenv(\"SLURM_CPUS_ON_NODE\", psutil.cpu_count()))\n",
    "cpu_usage = psutil.cpu_percent(percpu=True)\n",
    "\n",
    "# 할당된 CPU 개수만 출력\n",
    "print(f\"SLURM allocated {num_cpus} CPUs\")\n",
    "print(f\"CPU Usage per allocated core: {cpu_usage[:num_cpus]}\")\n"
   ]
  },
  {
   "cell_type": "code",
   "execution_count": 36,
   "metadata": {},
   "outputs": [
    {
     "name": "stdout",
     "output_type": "stream",
     "text": [
      "CPU Usage per core: [0.0, 0.0, 0.0, 0.0, 0.0, 100.0, 0.0, 0.0, 0.0, 0.0, 0.0, 0.0, 12.5, 0.0, 0.0, 0.0, 0.0, 100.0, 0.0, 0.0, 100.0, 0.0, 0.0, 0.0, 0.0, 0.0, 0.0, 0.0, 0.0, 0.0, 0.0, 0.0, 5.9, 0.0, 0.0, 0.0, 100.0, 0.0, 0.0, 0.0, 0.0, 0.0, 0.0, 100.0, 0.0, 0.0, 0.0, 0.0, 100.0, 0.0, 0.0, 0.0, 0.0, 0.0, 0.0, 0.0, 0.0, 0.0, 0.0, 0.0, 0.0, 100.0, 0.0, 0.0, 5.9, 0.0, 5.9, 0.0, 0.0, 100.0, 0.0, 0.0, 100.0, 0.0, 100.0, 100.0, 0.0, 5.9, 0.0, 0.0, 100.0, 0.0, 0.0, 0.0, 52.9, 0.0, 0.0, 0.0, 0.0, 0.0, 0.0, 0.0, 0.0, 0.0, 0.0, 0.0, 0.0, 0.0, 0.0, 0.0, 0.0, 0.0, 0.0, 0.0, 0.0, 0.0, 0.0, 0.0, 0.0, 0.0, 0.0, 0.0, 100.0, 0.0, 0.0, 0.0, 0.0, 0.0, 0.0, 5.9, 0.0, 94.1, 93.3, 0.0, 0.0, 0.0, 0.0, 0.0]\n",
      "CPU Frequency: 2000.00 MHz (Max), 1737.32 MHz (Current)\n",
      "Total RAM: 1081.87 GB, Used RAM: 65.70 GB\n"
     ]
    }
   ],
   "source": [
    "import psutil\n",
    "\n",
    "cpu_freq = psutil.cpu_freq()  # CPU 클럭 속도\n",
    "cpu_usage = psutil.cpu_percent(percpu=True)\n",
    "ram = psutil.virtual_memory()\n",
    "\n",
    "print(f\"CPU Usage per core: {cpu_usage}\")\n",
    "print(f\"CPU Frequency: {cpu_freq.max:.2f} MHz (Max), {cpu_freq.current:.2f} MHz (Current)\")\n",
    "print(f\"Total RAM: {ram.total / 1e9:.2f} GB, Used RAM: {ram.used / 1e9:.2f} GB\")\n"
   ]
  },
  {
   "cell_type": "code",
   "execution_count": 31,
   "metadata": {},
   "outputs": [
    {
     "name": "stdout",
     "output_type": "stream",
     "text": [
      "Number of cores with CPU usage ≥ 70%: 14\n"
     ]
    }
   ],
   "source": [
    "import psutil\n",
    "\n",
    "cpu_usage = psutil.cpu_percent(percpu=True)  # 각 코어별 CPU 사용량\n",
    "high_usage_count = sum(1 for usage in cpu_usage if usage >= 70)\n",
    "\n",
    "print(f\"Number of cores with CPU usage ≥ 70%: {high_usage_count}\")\n"
   ]
  },
  {
   "cell_type": "code",
   "execution_count": 4,
   "metadata": {},
   "outputs": [
    {
     "name": "stdout",
     "output_type": "stream",
     "text": [
      "Using 64 CPUs for parallel processing.\n",
      "Total search space: 100000000 combinations\n",
      "\n",
      "Top 10 Results:\n",
      "Params: (14.444444444444445, 0.0, 0.0, 0.9999, 0.9999, 350.0, 0.7777000000000001, 0.0), Score: 10.3648\n",
      "Params: (14.444444444444445, 0.0, 0.1111, 0.9999, 0.9999, 350.0, 0.7777000000000001, 0.0), Score: 10.3230\n",
      "Params: (14.444444444444445, 0.0, 0.0, 0.8888, 0.9999, 350.0, 0.7777000000000001, 0.0), Score: 10.3076\n",
      "Params: (14.444444444444445, 0.0, 0.0, 0.9999, 0.9999, 350.0, 0.7777000000000001, 0.6666000000000001), Score: 10.2924\n",
      "Params: (14.444444444444445, 0.0, 0.1111, 0.8888, 0.9999, 350.0, 0.7777000000000001, 0.0), Score: 10.2693\n",
      "Params: (14.444444444444445, 0.0, 0.0, 0.9999, 0.9999, 350.0, 0.1111, 0.0), Score: 10.2639\n",
      "Params: (14.444444444444445, 0.1111, 0.0, 0.9999, 0.9999, 350.0, 0.7777000000000001, 0.0), Score: 10.2604\n",
      "Params: (14.444444444444445, 0.0, 0.1111, 0.9999, 0.9999, 350.0, 0.7777000000000001, 0.6666000000000001), Score: 10.2506\n",
      "Params: (14.444444444444445, 0.0, 0.0, 0.7777000000000001, 0.9999, 350.0, 0.7777000000000001, 0.0), Score: 10.2470\n",
      "Params: (14.444444444444445, 0.0, 0.0, 0.8888, 0.9999, 350.0, 0.7777000000000001, 0.6666000000000001), Score: 10.2352\n",
      "\n",
      "Grid search completed in 52.95 seconds.\n"
     ]
    }
   ],
   "source": [
    "import multiprocessing\n",
    "import time\n",
    "\n",
    "# SLURM이 할당한 CPU 개수 가져오기 (없으면 기본값 4)\n",
    "num_cpus = int(os.getenv(\"SLURM_CPUS_ON_NODE\", \"4\"))\n",
    "\n",
    "# 병렬 실행 함수\n",
    "def evaluate(params):\n",
    "    score = objective_function(params)\n",
    "    return params, score\n",
    "\n",
    "if __name__ == \"__main__\":\n",
    "    print(f\"Using {num_cpus} CPUs for parallel processing.\")\n",
    "    print(f\"Total search space: {len(param_combinations)} combinations\")\n",
    "\n",
    "    # ✅ 시작 시간 기록\n",
    "    start_time = time.time()\n",
    "\n",
    "    # 병렬 프로세스 풀 생성 및 실행\n",
    "    with multiprocessing.Pool(processes=num_cpus) as pool:\n",
    "        results = pool.map(evaluate, param_combinations[:20000000])  # 50만 개 실행\n",
    "\n",
    "    # ✅ 종료 시간 기록\n",
    "    end_time = time.time()\n",
    "    elapsed_time = end_time - start_time\n",
    "\n",
    "    # 결과 정렬 및 출력 (상위 10개)\n",
    "    results.sort(key=lambda x: x[1], reverse=True)\n",
    "    print(\"\\nTop 10 Results:\")\n",
    "    for params, score in results[:10]:\n",
    "        print(f\"Params: {params}, Score: {score:.4f}\")\n",
    "\n",
    "    print(f\"\\nGrid search completed in {elapsed_time:.2f} seconds.\")\n"
   ]
  },
  {
   "cell_type": "code",
   "execution_count": 47,
   "metadata": {},
   "outputs": [
    {
     "name": "stdout",
     "output_type": "stream",
     "text": [
      "Using 4 CPUs for parallel processing.\n",
      "Total search space: 100000000 combinations\n",
      "\n",
      "Execution time (single-threaded for-loop): 171.74 seconds\n",
      "Execution time (parallel multiprocessing): 89.84 seconds\n",
      "Speed-up factor: 1.91x faster with multiprocessing.\n",
      "\n",
      "Top 10 Results from Parallel Execution:\n",
      "Params: (14.444444444444445, 0.0, 0.0, 0.9999, 0.9999, 350.0, 0.7777000000000001, 0.0), Score: 10.3648\n",
      "Params: (14.444444444444445, 0.0, 0.1111, 0.9999, 0.9999, 350.0, 0.7777000000000001, 0.0), Score: 10.3230\n",
      "Params: (14.444444444444445, 0.0, 0.0, 0.8888, 0.9999, 350.0, 0.7777000000000001, 0.0), Score: 10.3076\n",
      "Params: (14.444444444444445, 0.0, 0.0, 0.9999, 0.9999, 350.0, 0.7777000000000001, 0.6666000000000001), Score: 10.2924\n",
      "Params: (14.444444444444445, 0.0, 0.1111, 0.8888, 0.9999, 350.0, 0.7777000000000001, 0.0), Score: 10.2693\n",
      "Params: (14.444444444444445, 0.0, 0.0, 0.9999, 0.9999, 350.0, 0.1111, 0.0), Score: 10.2639\n",
      "Params: (14.444444444444445, 0.1111, 0.0, 0.9999, 0.9999, 350.0, 0.7777000000000001, 0.0), Score: 10.2604\n",
      "Params: (14.444444444444445, 0.0, 0.1111, 0.9999, 0.9999, 350.0, 0.7777000000000001, 0.6666000000000001), Score: 10.2506\n",
      "Params: (14.444444444444445, 0.0, 0.0, 0.7777000000000001, 0.9999, 350.0, 0.7777000000000001, 0.0), Score: 10.2470\n",
      "Params: (14.444444444444445, 0.0, 0.0, 0.8888, 0.9999, 350.0, 0.7777000000000001, 0.6666000000000001), Score: 10.2352\n",
      "\n",
      "Grid search completed.\n"
     ]
    }
   ],
   "source": [
    "\n",
    "if __name__ == \"__main__\":\n",
    "    print(f\"Using {num_cpus} CPUs for parallel processing.\")\n",
    "    print(f\"Total search space: {len(param_combinations)} combinations\")\n",
    "\n",
    "    ## 🔥 5. 단일 스레드 실행 (for 루프)\n",
    "    start_time_serial = time.time()\n",
    "    \n",
    "    results_serial = []\n",
    "    for params in param_combinations[:20000000]:  # 1만 개 실행\n",
    "        results_serial.append(evaluate(params))\n",
    "\n",
    "    end_time_serial = time.time()\n",
    "    elapsed_time_serial = end_time_serial - start_time_serial\n",
    "\n",
    "    ## 🔥 6. 병렬 실행 (멀티프로세싱)\n",
    "    start_time_parallel = time.time()\n",
    "\n",
    "    with multiprocessing.Pool(processes=num_cpus) as pool:\n",
    "        results_parallel = pool.map(evaluate, param_combinations[:20000000])  # 1만 개 실행\n",
    "\n",
    "    end_time_parallel = time.time()\n",
    "    elapsed_time_parallel = end_time_parallel - start_time_parallel\n",
    "\n",
    "    # ✅ 7. 실행 시간 비교\n",
    "    print(f\"\\nExecution time (single-threaded for-loop): {elapsed_time_serial:.2f} seconds\")\n",
    "    print(f\"Execution time (parallel multiprocessing): {elapsed_time_parallel:.2f} seconds\")\n",
    "    print(f\"Speed-up factor: {elapsed_time_serial / elapsed_time_parallel:.2f}x faster with multiprocessing.\")\n",
    "\n",
    "    # ✅ 8. 결과 정렬 및 출력 (상위 10개)\n",
    "    results_parallel.sort(key=lambda x: x[1], reverse=True)\n",
    "    print(\"\\nTop 10 Results from Parallel Execution:\")\n",
    "    for params, score in results_parallel[:10]:\n",
    "        print(f\"Params: {params}, Score: {score:.4f}\")\n",
    "\n",
    "    print(\"\\nGrid search completed.\")"
   ]
  }
 ],
 "metadata": {
  "kernelspec": {
   "display_name": "Python 3 (ipykernel)",
   "language": "python",
   "name": "python3"
  },
  "language_info": {
   "codemirror_mode": {
    "name": "ipython",
    "version": 3
   },
   "file_extension": ".py",
   "mimetype": "text/x-python",
   "name": "python",
   "nbconvert_exporter": "python",
   "pygments_lexer": "ipython3",
   "version": "3.9.13"
  }
 },
 "nbformat": 4,
 "nbformat_minor": 2
}
